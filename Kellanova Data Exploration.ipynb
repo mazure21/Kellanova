{
 "cells": [
  {
   "cell_type": "code",
   "execution_count": 1,
   "metadata": {
    "ExecuteTime": {
     "end_time": "2024-03-12T21:55:40.792100700Z",
     "start_time": "2024-03-12T21:55:40.751700100Z"
    }
   },
   "outputs": [],
   "source": [
    "import pandas as pd"
   ]
  },
  {
   "cell_type": "code",
   "execution_count": 13,
   "metadata": {
    "ExecuteTime": {
     "end_time": "2024-03-12T03:10:06.036747300Z",
     "start_time": "2024-03-12T03:09:51.411454200Z"
    }
   },
   "outputs": [],
   "source": [
    "pln=pd.read_csv(\"PLN_TO_ITM_WK (KNA_COMRCL)_PLN_TO_ITM_WK.csv\")"
   ]
  },
  {
   "cell_type": "code",
   "outputs": [],
   "source": [
    "pln['Mixd Plt Matrl Desc'] = pln['Mixd Plt Matrl Desc'].str.replace('FRSTD STRWBRY','FRSTD STRWBRRY')\n",
    "pln['Mixd Plt Matrl Desc'] = pln['Mixd Plt Matrl Desc'].str.replace('FRSTDSTRWBRRY','FRSTD STRWBRRY')\n",
    "pln['Mixd Plt Matrl Desc'] = pln['Mixd Plt Matrl Desc'].str.replace('FRSTD CHCFDG','FRSTD CH FDG')\n",
    "pln['Mixd Plt Matrl Desc'] = pln['Mixd Plt Matrl Desc'].str.replace('FRSTD BNSGRCIN','FRSTD BRN SGR CIN')\n",
    "pln['Mixd Plt Matrl Desc'] = pln['Mixd Plt Matrl Desc'].str.replace('FRSTD BRNSGRCIN','FRSTD BRN SGR CIN')"
   ],
   "metadata": {
    "collapsed": false,
    "ExecuteTime": {
     "end_time": "2024-03-12T03:10:11.469790500Z",
     "start_time": "2024-03-12T03:10:09.606705400Z"
    }
   },
   "execution_count": 14
  },
  {
   "cell_type": "code",
   "outputs": [],
   "source": [
    "#pln.to_csv('PLN_FIXED.csv', index = False)"
   ],
   "metadata": {
    "collapsed": false,
    "ExecuteTime": {
     "end_time": "2024-03-12T03:11:26.398397300Z",
     "start_time": "2024-03-12T03:10:23.721234900Z"
    }
   },
   "execution_count": 15
  },
  {
   "cell_type": "code",
   "outputs": [],
   "source": [
    "EDT = pd.read_csv('EDT_3P (KG_HADOOP) Prod_EDT_3P.csv')"
   ],
   "metadata": {
    "collapsed": false,
    "ExecuteTime": {
     "end_time": "2024-03-12T21:55:50.369904Z",
     "start_time": "2024-03-12T21:55:40.756197500Z"
    }
   },
   "execution_count": 2
  },
  {
   "cell_type": "code",
   "outputs": [
    {
     "data": {
      "text/plain": "        12 Months selected                              brand & size  Cntstr  \\\n0                     False                PRLY LZBTH NOT APPLICABLE     1.0   \n1                     False  BEST MAID COOKIE COMPANY NOT APPLICABLE     1.0   \n2                     False                     AWAKE NOT APPLICABLE     1.0   \n3                     False               BULLETPROOF NOT APPLICABLE     1.0   \n4                     False                      VEGA NOT APPLICABLE     1.0   \n...                     ...                                      ...     ...   \n683728                False                 KDK CAKES NOT APPLICABLE     NaN   \n683729                False                 KDK CAKES NOT APPLICABLE     NaN   \n683730                False                    REM BR NOT APPLICABLE     NaN   \n683731                False                 THAT'S IT NOT APPLICABLE     NaN   \n683732                False                 KDK CAKES NOT APPLICABLE     NaN   \n\n        Fisc Pd  Fisc Pd_int  Fisc Yr                 Kel Brand Kel Category  \\\n0            11           11     2020                PRLY LZBTH          PWS   \n1            11           11     2020  BEST MAID COOKIE COMPANY          PWS   \n2            11           11     2020                     AWAKE          PWS   \n3            11           11     2020               BULLETPROOF          PWS   \n4            11           11     2020                      VEGA          PWS   \n...         ...          ...      ...                       ...          ...   \n683728        9            9     2022                 KDK CAKES          PWS   \n683729        9            9     2022                 KDK CAKES          PWS   \n683730        9            9     2022                    REM BR          PWS   \n683731        9            9     2022                 THAT'S IT          PWS   \n683732        9            9     2022                 KDK CAKES          PWS   \n\n           Kel Corporate  Kel Count  ... UnitsNpx   Yago Dol Yago Dol Ap  \\\n0        APT HLTH LV CRP      01 CT  ...      NaN       0.00        0.00   \n1           ARBR INV CRP      01 CT  ...      NaN       0.00        0.00   \n2               AWKE CRP      01 CT  ...      NaN       0.00        0.00   \n3             BLTPRF CRP      01 CT  ...      NaN       0.00        0.00   \n4             DANONE CRP      01 CT  ...      NaN       0.00        0.00   \n...                  ...        ...  ...      ...        ...         ...   \n683728           KDK CRP  REM COUNT  ...      NaN   15930.07    10025.66   \n683729           KDK CRP  REM COUNT  ...      NaN   17674.61    11314.53   \n683730           REM CRP  REM COUNT  ...      NaN       0.00        0.00   \n683731  THAT IT NTRN CRP  REM COUNT  ...      NaN      19.57        0.00   \n683732           KDK CRP  REM COUNT  ...      NaN  221888.66     1376.95   \n\n       Yago Dol Np  Yago Lbs Yago Lbs Ap Yago Lbs Np Yago Units Yago Units Ap  \\\n0             0.00      0.00        0.00        0.00        0.0          0.00   \n1             0.00      0.00        0.00        0.00        0.0          0.00   \n2             0.00      0.00        0.00        0.00        0.0          0.00   \n3             0.00      0.00        0.00        0.00        0.0          0.00   \n4             0.00      0.00        0.00        0.00        0.0          0.00   \n...            ...       ...         ...         ...        ...           ...   \n683728     5904.41   2053.69     1387.03      666.66     3651.0       2465.83   \n683729     6360.08   2296.13     1583.77      712.36     4082.0       2815.59   \n683730        0.00      0.00        0.00        0.00        0.0          0.00   \n683731       19.57      0.97        0.00        0.97       13.0          0.00   \n683732   220511.71  27657.57      195.15    27462.41    49169.0        346.93   \n\n       Yago Units Np  \n0               0.00  \n1               0.00  \n2               0.00  \n3               0.00  \n4               0.00  \n...              ...  \n683728       1185.17  \n683729       1266.41  \n683730          0.00  \n683731         13.00  \n683732      48822.07  \n\n[683733 rows x 99 columns]",
      "text/html": "<div>\n<style scoped>\n    .dataframe tbody tr th:only-of-type {\n        vertical-align: middle;\n    }\n\n    .dataframe tbody tr th {\n        vertical-align: top;\n    }\n\n    .dataframe thead th {\n        text-align: right;\n    }\n</style>\n<table border=\"1\" class=\"dataframe\">\n  <thead>\n    <tr style=\"text-align: right;\">\n      <th></th>\n      <th>12 Months selected</th>\n      <th>brand &amp; size</th>\n      <th>Cntstr</th>\n      <th>Fisc Pd</th>\n      <th>Fisc Pd_int</th>\n      <th>Fisc Yr</th>\n      <th>Kel Brand</th>\n      <th>Kel Category</th>\n      <th>Kel Corporate</th>\n      <th>Kel Count</th>\n      <th>...</th>\n      <th>UnitsNpx</th>\n      <th>Yago Dol</th>\n      <th>Yago Dol Ap</th>\n      <th>Yago Dol Np</th>\n      <th>Yago Lbs</th>\n      <th>Yago Lbs Ap</th>\n      <th>Yago Lbs Np</th>\n      <th>Yago Units</th>\n      <th>Yago Units Ap</th>\n      <th>Yago Units Np</th>\n    </tr>\n  </thead>\n  <tbody>\n    <tr>\n      <th>0</th>\n      <td>False</td>\n      <td>PRLY LZBTH NOT APPLICABLE</td>\n      <td>1.0</td>\n      <td>11</td>\n      <td>11</td>\n      <td>2020</td>\n      <td>PRLY LZBTH</td>\n      <td>PWS</td>\n      <td>APT HLTH LV CRP</td>\n      <td>01 CT</td>\n      <td>...</td>\n      <td>NaN</td>\n      <td>0.00</td>\n      <td>0.00</td>\n      <td>0.00</td>\n      <td>0.00</td>\n      <td>0.00</td>\n      <td>0.00</td>\n      <td>0.0</td>\n      <td>0.00</td>\n      <td>0.00</td>\n    </tr>\n    <tr>\n      <th>1</th>\n      <td>False</td>\n      <td>BEST MAID COOKIE COMPANY NOT APPLICABLE</td>\n      <td>1.0</td>\n      <td>11</td>\n      <td>11</td>\n      <td>2020</td>\n      <td>BEST MAID COOKIE COMPANY</td>\n      <td>PWS</td>\n      <td>ARBR INV CRP</td>\n      <td>01 CT</td>\n      <td>...</td>\n      <td>NaN</td>\n      <td>0.00</td>\n      <td>0.00</td>\n      <td>0.00</td>\n      <td>0.00</td>\n      <td>0.00</td>\n      <td>0.00</td>\n      <td>0.0</td>\n      <td>0.00</td>\n      <td>0.00</td>\n    </tr>\n    <tr>\n      <th>2</th>\n      <td>False</td>\n      <td>AWAKE NOT APPLICABLE</td>\n      <td>1.0</td>\n      <td>11</td>\n      <td>11</td>\n      <td>2020</td>\n      <td>AWAKE</td>\n      <td>PWS</td>\n      <td>AWKE CRP</td>\n      <td>01 CT</td>\n      <td>...</td>\n      <td>NaN</td>\n      <td>0.00</td>\n      <td>0.00</td>\n      <td>0.00</td>\n      <td>0.00</td>\n      <td>0.00</td>\n      <td>0.00</td>\n      <td>0.0</td>\n      <td>0.00</td>\n      <td>0.00</td>\n    </tr>\n    <tr>\n      <th>3</th>\n      <td>False</td>\n      <td>BULLETPROOF NOT APPLICABLE</td>\n      <td>1.0</td>\n      <td>11</td>\n      <td>11</td>\n      <td>2020</td>\n      <td>BULLETPROOF</td>\n      <td>PWS</td>\n      <td>BLTPRF CRP</td>\n      <td>01 CT</td>\n      <td>...</td>\n      <td>NaN</td>\n      <td>0.00</td>\n      <td>0.00</td>\n      <td>0.00</td>\n      <td>0.00</td>\n      <td>0.00</td>\n      <td>0.00</td>\n      <td>0.0</td>\n      <td>0.00</td>\n      <td>0.00</td>\n    </tr>\n    <tr>\n      <th>4</th>\n      <td>False</td>\n      <td>VEGA NOT APPLICABLE</td>\n      <td>1.0</td>\n      <td>11</td>\n      <td>11</td>\n      <td>2020</td>\n      <td>VEGA</td>\n      <td>PWS</td>\n      <td>DANONE CRP</td>\n      <td>01 CT</td>\n      <td>...</td>\n      <td>NaN</td>\n      <td>0.00</td>\n      <td>0.00</td>\n      <td>0.00</td>\n      <td>0.00</td>\n      <td>0.00</td>\n      <td>0.00</td>\n      <td>0.0</td>\n      <td>0.00</td>\n      <td>0.00</td>\n    </tr>\n    <tr>\n      <th>...</th>\n      <td>...</td>\n      <td>...</td>\n      <td>...</td>\n      <td>...</td>\n      <td>...</td>\n      <td>...</td>\n      <td>...</td>\n      <td>...</td>\n      <td>...</td>\n      <td>...</td>\n      <td>...</td>\n      <td>...</td>\n      <td>...</td>\n      <td>...</td>\n      <td>...</td>\n      <td>...</td>\n      <td>...</td>\n      <td>...</td>\n      <td>...</td>\n      <td>...</td>\n      <td>...</td>\n    </tr>\n    <tr>\n      <th>683728</th>\n      <td>False</td>\n      <td>KDK CAKES NOT APPLICABLE</td>\n      <td>NaN</td>\n      <td>9</td>\n      <td>9</td>\n      <td>2022</td>\n      <td>KDK CAKES</td>\n      <td>PWS</td>\n      <td>KDK CRP</td>\n      <td>REM COUNT</td>\n      <td>...</td>\n      <td>NaN</td>\n      <td>15930.07</td>\n      <td>10025.66</td>\n      <td>5904.41</td>\n      <td>2053.69</td>\n      <td>1387.03</td>\n      <td>666.66</td>\n      <td>3651.0</td>\n      <td>2465.83</td>\n      <td>1185.17</td>\n    </tr>\n    <tr>\n      <th>683729</th>\n      <td>False</td>\n      <td>KDK CAKES NOT APPLICABLE</td>\n      <td>NaN</td>\n      <td>9</td>\n      <td>9</td>\n      <td>2022</td>\n      <td>KDK CAKES</td>\n      <td>PWS</td>\n      <td>KDK CRP</td>\n      <td>REM COUNT</td>\n      <td>...</td>\n      <td>NaN</td>\n      <td>17674.61</td>\n      <td>11314.53</td>\n      <td>6360.08</td>\n      <td>2296.13</td>\n      <td>1583.77</td>\n      <td>712.36</td>\n      <td>4082.0</td>\n      <td>2815.59</td>\n      <td>1266.41</td>\n    </tr>\n    <tr>\n      <th>683730</th>\n      <td>False</td>\n      <td>REM BR NOT APPLICABLE</td>\n      <td>NaN</td>\n      <td>9</td>\n      <td>9</td>\n      <td>2022</td>\n      <td>REM BR</td>\n      <td>PWS</td>\n      <td>REM CRP</td>\n      <td>REM COUNT</td>\n      <td>...</td>\n      <td>NaN</td>\n      <td>0.00</td>\n      <td>0.00</td>\n      <td>0.00</td>\n      <td>0.00</td>\n      <td>0.00</td>\n      <td>0.00</td>\n      <td>0.0</td>\n      <td>0.00</td>\n      <td>0.00</td>\n    </tr>\n    <tr>\n      <th>683731</th>\n      <td>False</td>\n      <td>THAT'S IT NOT APPLICABLE</td>\n      <td>NaN</td>\n      <td>9</td>\n      <td>9</td>\n      <td>2022</td>\n      <td>THAT'S IT</td>\n      <td>PWS</td>\n      <td>THAT IT NTRN CRP</td>\n      <td>REM COUNT</td>\n      <td>...</td>\n      <td>NaN</td>\n      <td>19.57</td>\n      <td>0.00</td>\n      <td>19.57</td>\n      <td>0.97</td>\n      <td>0.00</td>\n      <td>0.97</td>\n      <td>13.0</td>\n      <td>0.00</td>\n      <td>13.00</td>\n    </tr>\n    <tr>\n      <th>683732</th>\n      <td>False</td>\n      <td>KDK CAKES NOT APPLICABLE</td>\n      <td>NaN</td>\n      <td>9</td>\n      <td>9</td>\n      <td>2022</td>\n      <td>KDK CAKES</td>\n      <td>PWS</td>\n      <td>KDK CRP</td>\n      <td>REM COUNT</td>\n      <td>...</td>\n      <td>NaN</td>\n      <td>221888.66</td>\n      <td>1376.95</td>\n      <td>220511.71</td>\n      <td>27657.57</td>\n      <td>195.15</td>\n      <td>27462.41</td>\n      <td>49169.0</td>\n      <td>346.93</td>\n      <td>48822.07</td>\n    </tr>\n  </tbody>\n</table>\n<p>683733 rows × 99 columns</p>\n</div>"
     },
     "execution_count": 3,
     "metadata": {},
     "output_type": "execute_result"
    }
   ],
   "source": [
    "EDT"
   ],
   "metadata": {
    "collapsed": false,
    "ExecuteTime": {
     "end_time": "2024-03-12T21:55:52.876854500Z",
     "start_time": "2024-03-12T21:55:52.559919700Z"
    }
   },
   "execution_count": 3
  },
  {
   "cell_type": "code",
   "outputs": [
    {
     "data": {
      "text/plain": "Kel Ppg\nALL OTHER                              226374\nGM FIBER ONE DESSERT BRS 5-6CT           6774\nATKINS ENDULGE BAR 5CT                   4740\nGM NAT VLLY WS 12CT                      4715\nKIND GRANOLA 5CT                         4468\n                                        ...  \nGM FAMILY FAV BOX 20CT                      6\nSPECIAL K PROTEIN BARS CLUB PK              6\nNUTRI-GRAIN CEREAL BARS CLB PK 40CT         4\nCLIF KIDS BAR 36CT                          4\nQKR CHEWY CLB SZ 34CT                       4\nName: count, Length: 542, dtype: int64"
     },
     "execution_count": 13,
     "metadata": {},
     "output_type": "execute_result"
    }
   ],
   "source": [
    "EDT['Kel Ppg'].value_counts()"
   ],
   "metadata": {
    "collapsed": false,
    "ExecuteTime": {
     "end_time": "2024-03-12T22:17:11.553476700Z",
     "start_time": "2024-03-12T22:17:11.375100300Z"
    }
   },
   "execution_count": 13
  },
  {
   "cell_type": "code",
   "outputs": [
    {
     "data": {
      "text/plain": "        12 Months selected             brand & size  Cntstr  Fisc Pd  \\\n620                   False  QKR CWY NOT APPLICABLE     8.0       11   \n1409                  False  QKR CWY NOT APPLICABLE     8.0       12   \n1586                   True  QKR CWY NOT APPLICABLE     8.0        1   \n2313                  False  QKR CWY NOT APPLICABLE     8.0        1   \n3020                  False  QKR CWY NOT APPLICABLE     8.0       10   \n...                     ...                     ...     ...      ...   \n676926                False  QKR CWY NOT APPLICABLE     8.0        5   \n677111                False  QKR CWY NOT APPLICABLE     8.0        5   \n677364                False  QKR CWY NOT APPLICABLE     8.0        5   \n677681                False  QKR CWY NOT APPLICABLE     8.0        5   \n678269                False  QKR CWY NOT APPLICABLE     8.0        9   \n\n        Fisc Pd_int  Fisc Yr Kel Brand Kel Category Kel Corporate Kel Count  \\\n620              11     2022   QKR CWY          PWS     PEPSI CRP     08 CT   \n1409             12     2022   QKR CWY          PWS     PEPSI CRP     08 CT   \n1586              1     2022   QKR CWY          PWS     PEPSI CRP     08 CT   \n2313              1     2023   QKR CWY          PWS     PEPSI CRP     08 CT   \n3020             10     2023   QKR CWY          PWS     PEPSI CRP     08 CT   \n...             ...      ...       ...          ...           ...       ...   \n676926            5     2023   QKR CWY          PWS     PEPSI CRP     08 CT   \n677111            5     2023   QKR CWY          PWS     PEPSI CRP     08 CT   \n677364            5     2023   QKR CWY          PWS     PEPSI CRP     08 CT   \n677681            5     2023   QKR CWY          PWS     PEPSI CRP     08 CT   \n678269            9     2022   QKR CWY          PWS     PEPSI CRP     08 CT   \n\n        ... UnitsNpx    Yago Dol Yago Dol Ap Yago Dol Np    Yago Lbs  \\\n620     ...      NaN   218994.77    23747.52   195247.25    23991.47   \n1409    ...      NaN   262042.60    17641.26   244401.34    27608.04   \n1586    ...      NaN   164211.31    39673.43   124537.88    19742.31   \n2313    ...      NaN    10465.24     2669.24     7796.00     1115.34   \n3020    ...      NaN    14959.50     1233.44    13726.06     1508.69   \n...     ...      ...         ...         ...         ...         ...   \n676926  ...      NaN    19274.17     3756.65    15517.52     2479.98   \n677111  ...      NaN   163677.10     9406.84   154270.26    19385.36   \n677364  ...      NaN   168194.28    67481.16   100713.12    21194.30   \n677681  ...      NaN   761456.40   434722.85   326733.55   132899.95   \n678269  ...      NaN  7866952.63  4115786.95  3751165.68  1386638.77   \n\n       Yago Lbs Ap Yago Lbs Np  Yago Units Yago Units Ap Yago Units Np  \n620        4080.62    19910.85    57252.66       9743.93      47508.72  \n1409       2267.70    25340.34    65882.94       5413.82      60469.12  \n1586       6046.43    13695.88    47106.63      14430.62      32676.01  \n2313        314.20      801.14     2661.31        749.77       1911.55  \n3020        137.34     1371.36     3597.10        327.42       3269.69  \n...            ...         ...         ...           ...           ...  \n676926      515.65     1964.33     5920.00       1231.23       4688.77  \n677111     1166.27    18219.08    46284.00       2784.56      43499.44  \n677364     9246.53    11947.76    50601.00      22074.36      28526.64  \n677681    76938.56    55961.39   317373.00     183733.87     133639.13  \n678269   844384.08   542254.69  3309947.55    2015627.26    1294320.29  \n\n[2664 rows x 99 columns]",
      "text/html": "<div>\n<style scoped>\n    .dataframe tbody tr th:only-of-type {\n        vertical-align: middle;\n    }\n\n    .dataframe tbody tr th {\n        vertical-align: top;\n    }\n\n    .dataframe thead th {\n        text-align: right;\n    }\n</style>\n<table border=\"1\" class=\"dataframe\">\n  <thead>\n    <tr style=\"text-align: right;\">\n      <th></th>\n      <th>12 Months selected</th>\n      <th>brand &amp; size</th>\n      <th>Cntstr</th>\n      <th>Fisc Pd</th>\n      <th>Fisc Pd_int</th>\n      <th>Fisc Yr</th>\n      <th>Kel Brand</th>\n      <th>Kel Category</th>\n      <th>Kel Corporate</th>\n      <th>Kel Count</th>\n      <th>...</th>\n      <th>UnitsNpx</th>\n      <th>Yago Dol</th>\n      <th>Yago Dol Ap</th>\n      <th>Yago Dol Np</th>\n      <th>Yago Lbs</th>\n      <th>Yago Lbs Ap</th>\n      <th>Yago Lbs Np</th>\n      <th>Yago Units</th>\n      <th>Yago Units Ap</th>\n      <th>Yago Units Np</th>\n    </tr>\n  </thead>\n  <tbody>\n    <tr>\n      <th>620</th>\n      <td>False</td>\n      <td>QKR CWY NOT APPLICABLE</td>\n      <td>8.0</td>\n      <td>11</td>\n      <td>11</td>\n      <td>2022</td>\n      <td>QKR CWY</td>\n      <td>PWS</td>\n      <td>PEPSI CRP</td>\n      <td>08 CT</td>\n      <td>...</td>\n      <td>NaN</td>\n      <td>218994.77</td>\n      <td>23747.52</td>\n      <td>195247.25</td>\n      <td>23991.47</td>\n      <td>4080.62</td>\n      <td>19910.85</td>\n      <td>57252.66</td>\n      <td>9743.93</td>\n      <td>47508.72</td>\n    </tr>\n    <tr>\n      <th>1409</th>\n      <td>False</td>\n      <td>QKR CWY NOT APPLICABLE</td>\n      <td>8.0</td>\n      <td>12</td>\n      <td>12</td>\n      <td>2022</td>\n      <td>QKR CWY</td>\n      <td>PWS</td>\n      <td>PEPSI CRP</td>\n      <td>08 CT</td>\n      <td>...</td>\n      <td>NaN</td>\n      <td>262042.60</td>\n      <td>17641.26</td>\n      <td>244401.34</td>\n      <td>27608.04</td>\n      <td>2267.70</td>\n      <td>25340.34</td>\n      <td>65882.94</td>\n      <td>5413.82</td>\n      <td>60469.12</td>\n    </tr>\n    <tr>\n      <th>1586</th>\n      <td>True</td>\n      <td>QKR CWY NOT APPLICABLE</td>\n      <td>8.0</td>\n      <td>1</td>\n      <td>1</td>\n      <td>2022</td>\n      <td>QKR CWY</td>\n      <td>PWS</td>\n      <td>PEPSI CRP</td>\n      <td>08 CT</td>\n      <td>...</td>\n      <td>NaN</td>\n      <td>164211.31</td>\n      <td>39673.43</td>\n      <td>124537.88</td>\n      <td>19742.31</td>\n      <td>6046.43</td>\n      <td>13695.88</td>\n      <td>47106.63</td>\n      <td>14430.62</td>\n      <td>32676.01</td>\n    </tr>\n    <tr>\n      <th>2313</th>\n      <td>False</td>\n      <td>QKR CWY NOT APPLICABLE</td>\n      <td>8.0</td>\n      <td>1</td>\n      <td>1</td>\n      <td>2023</td>\n      <td>QKR CWY</td>\n      <td>PWS</td>\n      <td>PEPSI CRP</td>\n      <td>08 CT</td>\n      <td>...</td>\n      <td>NaN</td>\n      <td>10465.24</td>\n      <td>2669.24</td>\n      <td>7796.00</td>\n      <td>1115.34</td>\n      <td>314.20</td>\n      <td>801.14</td>\n      <td>2661.31</td>\n      <td>749.77</td>\n      <td>1911.55</td>\n    </tr>\n    <tr>\n      <th>3020</th>\n      <td>False</td>\n      <td>QKR CWY NOT APPLICABLE</td>\n      <td>8.0</td>\n      <td>10</td>\n      <td>10</td>\n      <td>2023</td>\n      <td>QKR CWY</td>\n      <td>PWS</td>\n      <td>PEPSI CRP</td>\n      <td>08 CT</td>\n      <td>...</td>\n      <td>NaN</td>\n      <td>14959.50</td>\n      <td>1233.44</td>\n      <td>13726.06</td>\n      <td>1508.69</td>\n      <td>137.34</td>\n      <td>1371.36</td>\n      <td>3597.10</td>\n      <td>327.42</td>\n      <td>3269.69</td>\n    </tr>\n    <tr>\n      <th>...</th>\n      <td>...</td>\n      <td>...</td>\n      <td>...</td>\n      <td>...</td>\n      <td>...</td>\n      <td>...</td>\n      <td>...</td>\n      <td>...</td>\n      <td>...</td>\n      <td>...</td>\n      <td>...</td>\n      <td>...</td>\n      <td>...</td>\n      <td>...</td>\n      <td>...</td>\n      <td>...</td>\n      <td>...</td>\n      <td>...</td>\n      <td>...</td>\n      <td>...</td>\n      <td>...</td>\n    </tr>\n    <tr>\n      <th>676926</th>\n      <td>False</td>\n      <td>QKR CWY NOT APPLICABLE</td>\n      <td>8.0</td>\n      <td>5</td>\n      <td>5</td>\n      <td>2023</td>\n      <td>QKR CWY</td>\n      <td>PWS</td>\n      <td>PEPSI CRP</td>\n      <td>08 CT</td>\n      <td>...</td>\n      <td>NaN</td>\n      <td>19274.17</td>\n      <td>3756.65</td>\n      <td>15517.52</td>\n      <td>2479.98</td>\n      <td>515.65</td>\n      <td>1964.33</td>\n      <td>5920.00</td>\n      <td>1231.23</td>\n      <td>4688.77</td>\n    </tr>\n    <tr>\n      <th>677111</th>\n      <td>False</td>\n      <td>QKR CWY NOT APPLICABLE</td>\n      <td>8.0</td>\n      <td>5</td>\n      <td>5</td>\n      <td>2023</td>\n      <td>QKR CWY</td>\n      <td>PWS</td>\n      <td>PEPSI CRP</td>\n      <td>08 CT</td>\n      <td>...</td>\n      <td>NaN</td>\n      <td>163677.10</td>\n      <td>9406.84</td>\n      <td>154270.26</td>\n      <td>19385.36</td>\n      <td>1166.27</td>\n      <td>18219.08</td>\n      <td>46284.00</td>\n      <td>2784.56</td>\n      <td>43499.44</td>\n    </tr>\n    <tr>\n      <th>677364</th>\n      <td>False</td>\n      <td>QKR CWY NOT APPLICABLE</td>\n      <td>8.0</td>\n      <td>5</td>\n      <td>5</td>\n      <td>2023</td>\n      <td>QKR CWY</td>\n      <td>PWS</td>\n      <td>PEPSI CRP</td>\n      <td>08 CT</td>\n      <td>...</td>\n      <td>NaN</td>\n      <td>168194.28</td>\n      <td>67481.16</td>\n      <td>100713.12</td>\n      <td>21194.30</td>\n      <td>9246.53</td>\n      <td>11947.76</td>\n      <td>50601.00</td>\n      <td>22074.36</td>\n      <td>28526.64</td>\n    </tr>\n    <tr>\n      <th>677681</th>\n      <td>False</td>\n      <td>QKR CWY NOT APPLICABLE</td>\n      <td>8.0</td>\n      <td>5</td>\n      <td>5</td>\n      <td>2023</td>\n      <td>QKR CWY</td>\n      <td>PWS</td>\n      <td>PEPSI CRP</td>\n      <td>08 CT</td>\n      <td>...</td>\n      <td>NaN</td>\n      <td>761456.40</td>\n      <td>434722.85</td>\n      <td>326733.55</td>\n      <td>132899.95</td>\n      <td>76938.56</td>\n      <td>55961.39</td>\n      <td>317373.00</td>\n      <td>183733.87</td>\n      <td>133639.13</td>\n    </tr>\n    <tr>\n      <th>678269</th>\n      <td>False</td>\n      <td>QKR CWY NOT APPLICABLE</td>\n      <td>8.0</td>\n      <td>9</td>\n      <td>9</td>\n      <td>2022</td>\n      <td>QKR CWY</td>\n      <td>PWS</td>\n      <td>PEPSI CRP</td>\n      <td>08 CT</td>\n      <td>...</td>\n      <td>NaN</td>\n      <td>7866952.63</td>\n      <td>4115786.95</td>\n      <td>3751165.68</td>\n      <td>1386638.77</td>\n      <td>844384.08</td>\n      <td>542254.69</td>\n      <td>3309947.55</td>\n      <td>2015627.26</td>\n      <td>1294320.29</td>\n    </tr>\n  </tbody>\n</table>\n<p>2664 rows × 99 columns</p>\n</div>"
     },
     "execution_count": 17,
     "metadata": {},
     "output_type": "execute_result"
    }
   ],
   "source": [
    "EDT[EDT['Kel Ppg'] == 'QKR CHEWY 8CT']"
   ],
   "metadata": {
    "collapsed": false,
    "ExecuteTime": {
     "end_time": "2024-03-12T23:00:49.233978800Z",
     "start_time": "2024-03-12T23:00:49.027285600Z"
    }
   },
   "execution_count": 17
  },
  {
   "cell_type": "code",
   "outputs": [
    {
     "data": {
      "text/plain": "        12 Months selected              brand & size  Cntstr  Fisc Pd  \\\n198                   False  PRVT LBL NOT APPLICABLE    10.0       11   \n2336                  False  PRVT LBL NOT APPLICABLE    10.0        1   \n3046                  False  PRVT LBL NOT APPLICABLE    10.0       10   \n3837                  False  PRVT LBL NOT APPLICABLE    10.0       11   \n3841                  False  PRVT LBL NOT APPLICABLE    10.0       11   \n...                     ...                      ...     ...      ...   \n676695                False  PRVT LBL NOT APPLICABLE    10.0        5   \n677714                False  PRVT LBL NOT APPLICABLE    10.0        5   \n678296                False  PRVT LBL NOT APPLICABLE    10.0        9   \n681544                 True  PRVT LBL NOT APPLICABLE    10.0       11   \n681738                 True  PRVT LBL NOT APPLICABLE    10.0       12   \n\n        Fisc Pd_int  Fisc Yr Kel Brand Kel Category Kel Corporate Kel Count  \\\n198              11     2020  PRVT LBL          PWS        PL CRP     10 CT   \n2336              1     2023  PRVT LBL          PWS        PL CRP     10 CT   \n3046             10     2023  PRVT LBL          PWS        PL CRP     10 CT   \n3837             11     2020  PRVT LBL          PWS        PL CRP     10 CT   \n3841             11     2020  PRVT LBL          PWS        PL CRP     10 CT   \n...             ...      ...       ...          ...           ...       ...   \n676695            5     2023  PRVT LBL          PWS        PL CRP     10 CT   \n677714            5     2023  PRVT LBL          PWS        PL CRP     10 CT   \n678296            9     2022  PRVT LBL          PWS        PL CRP     10 CT   \n681544           11     2021  PRVT LBL          PWS        PL CRP     10 CT   \n681738           12     2021  PRVT LBL          PWS        PL CRP     10 CT   \n\n        ... UnitsNpx   Yago Dol Yago Dol Ap Yago Dol Np   Yago Lbs  \\\n198     ...      NaN       0.00        0.00        0.00       0.00   \n2336    ...      NaN    4860.71     2507.68     2353.04    1273.88   \n3046    ...      NaN    2980.97        0.00     2980.97     550.25   \n3837    ...      NaN       0.00        0.00        0.00       0.00   \n3841    ...      NaN       0.00        0.00        0.00       0.00   \n...     ...      ...        ...         ...         ...        ...   \n676695  ...      NaN     522.00        0.00      522.00     137.41   \n677714  ...      NaN  151794.52    43094.54   108699.98   12114.98   \n678296  ...      NaN  391627.27   106344.46   285282.81   96360.45   \n681544  ...      NaN  379006.11    89325.91   289680.20   99254.52   \n681738  ...      NaN  501154.03   121204.27   379949.76  134513.95   \n\n       Yago Lbs Ap Yago Lbs Np Yago Units Yago Units Ap Yago Units Np  \n198           0.00        0.00       0.00          0.00          0.00  \n2336        727.92      545.96    2240.56       1253.84        986.72  \n3046          0.00      550.25    1048.09          0.00       1048.09  \n3837          0.00        0.00       0.00          0.00          0.00  \n3841          0.00        0.00       0.00          0.00          0.00  \n...            ...         ...        ...           ...           ...  \n676695        0.00      137.41     261.00          0.00        261.00  \n677714     3494.59     8620.39   27495.00       7930.99      19564.01  \n678296    28768.84    67591.61  178307.09      53772.69     124534.40  \n681544    24326.66    74927.86  184389.92      44541.36     139848.56  \n681738    32503.68   102010.27  250548.63      60705.33     189843.30  \n\n[1351 rows x 99 columns]",
      "text/html": "<div>\n<style scoped>\n    .dataframe tbody tr th:only-of-type {\n        vertical-align: middle;\n    }\n\n    .dataframe tbody tr th {\n        vertical-align: top;\n    }\n\n    .dataframe thead th {\n        text-align: right;\n    }\n</style>\n<table border=\"1\" class=\"dataframe\">\n  <thead>\n    <tr style=\"text-align: right;\">\n      <th></th>\n      <th>12 Months selected</th>\n      <th>brand &amp; size</th>\n      <th>Cntstr</th>\n      <th>Fisc Pd</th>\n      <th>Fisc Pd_int</th>\n      <th>Fisc Yr</th>\n      <th>Kel Brand</th>\n      <th>Kel Category</th>\n      <th>Kel Corporate</th>\n      <th>Kel Count</th>\n      <th>...</th>\n      <th>UnitsNpx</th>\n      <th>Yago Dol</th>\n      <th>Yago Dol Ap</th>\n      <th>Yago Dol Np</th>\n      <th>Yago Lbs</th>\n      <th>Yago Lbs Ap</th>\n      <th>Yago Lbs Np</th>\n      <th>Yago Units</th>\n      <th>Yago Units Ap</th>\n      <th>Yago Units Np</th>\n    </tr>\n  </thead>\n  <tbody>\n    <tr>\n      <th>198</th>\n      <td>False</td>\n      <td>PRVT LBL NOT APPLICABLE</td>\n      <td>10.0</td>\n      <td>11</td>\n      <td>11</td>\n      <td>2020</td>\n      <td>PRVT LBL</td>\n      <td>PWS</td>\n      <td>PL CRP</td>\n      <td>10 CT</td>\n      <td>...</td>\n      <td>NaN</td>\n      <td>0.00</td>\n      <td>0.00</td>\n      <td>0.00</td>\n      <td>0.00</td>\n      <td>0.00</td>\n      <td>0.00</td>\n      <td>0.00</td>\n      <td>0.00</td>\n      <td>0.00</td>\n    </tr>\n    <tr>\n      <th>2336</th>\n      <td>False</td>\n      <td>PRVT LBL NOT APPLICABLE</td>\n      <td>10.0</td>\n      <td>1</td>\n      <td>1</td>\n      <td>2023</td>\n      <td>PRVT LBL</td>\n      <td>PWS</td>\n      <td>PL CRP</td>\n      <td>10 CT</td>\n      <td>...</td>\n      <td>NaN</td>\n      <td>4860.71</td>\n      <td>2507.68</td>\n      <td>2353.04</td>\n      <td>1273.88</td>\n      <td>727.92</td>\n      <td>545.96</td>\n      <td>2240.56</td>\n      <td>1253.84</td>\n      <td>986.72</td>\n    </tr>\n    <tr>\n      <th>3046</th>\n      <td>False</td>\n      <td>PRVT LBL NOT APPLICABLE</td>\n      <td>10.0</td>\n      <td>10</td>\n      <td>10</td>\n      <td>2023</td>\n      <td>PRVT LBL</td>\n      <td>PWS</td>\n      <td>PL CRP</td>\n      <td>10 CT</td>\n      <td>...</td>\n      <td>NaN</td>\n      <td>2980.97</td>\n      <td>0.00</td>\n      <td>2980.97</td>\n      <td>550.25</td>\n      <td>0.00</td>\n      <td>550.25</td>\n      <td>1048.09</td>\n      <td>0.00</td>\n      <td>1048.09</td>\n    </tr>\n    <tr>\n      <th>3837</th>\n      <td>False</td>\n      <td>PRVT LBL NOT APPLICABLE</td>\n      <td>10.0</td>\n      <td>11</td>\n      <td>11</td>\n      <td>2020</td>\n      <td>PRVT LBL</td>\n      <td>PWS</td>\n      <td>PL CRP</td>\n      <td>10 CT</td>\n      <td>...</td>\n      <td>NaN</td>\n      <td>0.00</td>\n      <td>0.00</td>\n      <td>0.00</td>\n      <td>0.00</td>\n      <td>0.00</td>\n      <td>0.00</td>\n      <td>0.00</td>\n      <td>0.00</td>\n      <td>0.00</td>\n    </tr>\n    <tr>\n      <th>3841</th>\n      <td>False</td>\n      <td>PRVT LBL NOT APPLICABLE</td>\n      <td>10.0</td>\n      <td>11</td>\n      <td>11</td>\n      <td>2020</td>\n      <td>PRVT LBL</td>\n      <td>PWS</td>\n      <td>PL CRP</td>\n      <td>10 CT</td>\n      <td>...</td>\n      <td>NaN</td>\n      <td>0.00</td>\n      <td>0.00</td>\n      <td>0.00</td>\n      <td>0.00</td>\n      <td>0.00</td>\n      <td>0.00</td>\n      <td>0.00</td>\n      <td>0.00</td>\n      <td>0.00</td>\n    </tr>\n    <tr>\n      <th>...</th>\n      <td>...</td>\n      <td>...</td>\n      <td>...</td>\n      <td>...</td>\n      <td>...</td>\n      <td>...</td>\n      <td>...</td>\n      <td>...</td>\n      <td>...</td>\n      <td>...</td>\n      <td>...</td>\n      <td>...</td>\n      <td>...</td>\n      <td>...</td>\n      <td>...</td>\n      <td>...</td>\n      <td>...</td>\n      <td>...</td>\n      <td>...</td>\n      <td>...</td>\n      <td>...</td>\n    </tr>\n    <tr>\n      <th>676695</th>\n      <td>False</td>\n      <td>PRVT LBL NOT APPLICABLE</td>\n      <td>10.0</td>\n      <td>5</td>\n      <td>5</td>\n      <td>2023</td>\n      <td>PRVT LBL</td>\n      <td>PWS</td>\n      <td>PL CRP</td>\n      <td>10 CT</td>\n      <td>...</td>\n      <td>NaN</td>\n      <td>522.00</td>\n      <td>0.00</td>\n      <td>522.00</td>\n      <td>137.41</td>\n      <td>0.00</td>\n      <td>137.41</td>\n      <td>261.00</td>\n      <td>0.00</td>\n      <td>261.00</td>\n    </tr>\n    <tr>\n      <th>677714</th>\n      <td>False</td>\n      <td>PRVT LBL NOT APPLICABLE</td>\n      <td>10.0</td>\n      <td>5</td>\n      <td>5</td>\n      <td>2023</td>\n      <td>PRVT LBL</td>\n      <td>PWS</td>\n      <td>PL CRP</td>\n      <td>10 CT</td>\n      <td>...</td>\n      <td>NaN</td>\n      <td>151794.52</td>\n      <td>43094.54</td>\n      <td>108699.98</td>\n      <td>12114.98</td>\n      <td>3494.59</td>\n      <td>8620.39</td>\n      <td>27495.00</td>\n      <td>7930.99</td>\n      <td>19564.01</td>\n    </tr>\n    <tr>\n      <th>678296</th>\n      <td>False</td>\n      <td>PRVT LBL NOT APPLICABLE</td>\n      <td>10.0</td>\n      <td>9</td>\n      <td>9</td>\n      <td>2022</td>\n      <td>PRVT LBL</td>\n      <td>PWS</td>\n      <td>PL CRP</td>\n      <td>10 CT</td>\n      <td>...</td>\n      <td>NaN</td>\n      <td>391627.27</td>\n      <td>106344.46</td>\n      <td>285282.81</td>\n      <td>96360.45</td>\n      <td>28768.84</td>\n      <td>67591.61</td>\n      <td>178307.09</td>\n      <td>53772.69</td>\n      <td>124534.40</td>\n    </tr>\n    <tr>\n      <th>681544</th>\n      <td>True</td>\n      <td>PRVT LBL NOT APPLICABLE</td>\n      <td>10.0</td>\n      <td>11</td>\n      <td>11</td>\n      <td>2021</td>\n      <td>PRVT LBL</td>\n      <td>PWS</td>\n      <td>PL CRP</td>\n      <td>10 CT</td>\n      <td>...</td>\n      <td>NaN</td>\n      <td>379006.11</td>\n      <td>89325.91</td>\n      <td>289680.20</td>\n      <td>99254.52</td>\n      <td>24326.66</td>\n      <td>74927.86</td>\n      <td>184389.92</td>\n      <td>44541.36</td>\n      <td>139848.56</td>\n    </tr>\n    <tr>\n      <th>681738</th>\n      <td>True</td>\n      <td>PRVT LBL NOT APPLICABLE</td>\n      <td>10.0</td>\n      <td>12</td>\n      <td>12</td>\n      <td>2021</td>\n      <td>PRVT LBL</td>\n      <td>PWS</td>\n      <td>PL CRP</td>\n      <td>10 CT</td>\n      <td>...</td>\n      <td>NaN</td>\n      <td>501154.03</td>\n      <td>121204.27</td>\n      <td>379949.76</td>\n      <td>134513.95</td>\n      <td>32503.68</td>\n      <td>102010.27</td>\n      <td>250548.63</td>\n      <td>60705.33</td>\n      <td>189843.30</td>\n    </tr>\n  </tbody>\n</table>\n<p>1351 rows × 99 columns</p>\n</div>"
     },
     "execution_count": 12,
     "metadata": {},
     "output_type": "execute_result"
    }
   ],
   "source": [
    "EDT[EDT['Kel Ppg'] == 'PL CHEWY GRANOLA BAR 10CT']"
   ],
   "metadata": {
    "collapsed": false,
    "ExecuteTime": {
     "end_time": "2024-03-12T22:15:53.455494100Z",
     "start_time": "2024-03-12T22:15:53.249091600Z"
    }
   },
   "execution_count": 12
  },
  {
   "cell_type": "code",
   "execution_count": 3,
   "metadata": {
    "ExecuteTime": {
     "end_time": "2024-03-06T00:24:01.671133700Z",
     "start_time": "2024-03-06T00:24:01.507904Z"
    }
   },
   "outputs": [
    {
     "data": {
      "text/plain": "        All In Flg  Alt Segment         BU  Cal Wk Can Catg              Catg  \\\n0                F          PWS         K1  202301      NPF  TOASTER PASTRIES   \n1                F          PWS         K1  202302      NPF  TOASTER PASTRIES   \n2                F          PWS         K1  202303      NPF  TOASTER PASTRIES   \n3                F          PWS         K1  202304      NPF  TOASTER PASTRIES   \n4                F          PWS         K1  202305      NPF  TOASTER PASTRIES   \n...            ...          ...        ...     ...      ...               ...   \n1325643          F  CONVENIENCE  Specialty  202017      NPF  TOASTER PASTRIES   \n1325644          F  CONVENIENCE  Specialty  202018      NPF  TOASTER PASTRIES   \n1325645          F  CONVENIENCE  Specialty  202019      NPF  TOASTER PASTRIES   \n1325646          F  CONVENIENCE  Specialty  202020      NPF  TOASTER PASTRIES   \n1325647          F  CONVENIENCE  Specialty  202019      NPF  TOASTER PASTRIES   \n\n        Curr  Fisc Yr               Lvl A                    Lvl B  \n0        USD     2023  US RETAIL CHANNELS  DRUG/DISCOUNT/TELESALES  \n1        USD     2023  US RETAIL CHANNELS  DRUG/DISCOUNT/TELESALES  \n2        USD     2023  US RETAIL CHANNELS  DRUG/DISCOUNT/TELESALES  \n3        USD     2023  US RETAIL CHANNELS  DRUG/DISCOUNT/TELESALES  \n4        USD     2023  US RETAIL CHANNELS  DRUG/DISCOUNT/TELESALES  \n...      ...      ...                 ...                      ...  \n1325643  CAD     2020              CANADA       CANADA OUT OF HOME  \n1325644  CAD     2020              CANADA       CANADA OUT OF HOME  \n1325645  CAD     2020              CANADA       CANADA OUT OF HOME  \n1325646  CAD     2020              CANADA       CANADA OUT OF HOME  \n1325647  CAD     2020              CANADA       CANADA OUT OF HOME  \n\n[1325648 rows x 10 columns]",
      "text/html": "<div>\n<style scoped>\n    .dataframe tbody tr th:only-of-type {\n        vertical-align: middle;\n    }\n\n    .dataframe tbody tr th {\n        vertical-align: top;\n    }\n\n    .dataframe thead th {\n        text-align: right;\n    }\n</style>\n<table border=\"1\" class=\"dataframe\">\n  <thead>\n    <tr style=\"text-align: right;\">\n      <th></th>\n      <th>All In Flg</th>\n      <th>Alt Segment</th>\n      <th>BU</th>\n      <th>Cal Wk</th>\n      <th>Can Catg</th>\n      <th>Catg</th>\n      <th>Curr</th>\n      <th>Fisc Yr</th>\n      <th>Lvl A</th>\n      <th>Lvl B</th>\n    </tr>\n  </thead>\n  <tbody>\n    <tr>\n      <th>0</th>\n      <td>F</td>\n      <td>PWS</td>\n      <td>K1</td>\n      <td>202301</td>\n      <td>NPF</td>\n      <td>TOASTER PASTRIES</td>\n      <td>USD</td>\n      <td>2023</td>\n      <td>US RETAIL CHANNELS</td>\n      <td>DRUG/DISCOUNT/TELESALES</td>\n    </tr>\n    <tr>\n      <th>1</th>\n      <td>F</td>\n      <td>PWS</td>\n      <td>K1</td>\n      <td>202302</td>\n      <td>NPF</td>\n      <td>TOASTER PASTRIES</td>\n      <td>USD</td>\n      <td>2023</td>\n      <td>US RETAIL CHANNELS</td>\n      <td>DRUG/DISCOUNT/TELESALES</td>\n    </tr>\n    <tr>\n      <th>2</th>\n      <td>F</td>\n      <td>PWS</td>\n      <td>K1</td>\n      <td>202303</td>\n      <td>NPF</td>\n      <td>TOASTER PASTRIES</td>\n      <td>USD</td>\n      <td>2023</td>\n      <td>US RETAIL CHANNELS</td>\n      <td>DRUG/DISCOUNT/TELESALES</td>\n    </tr>\n    <tr>\n      <th>3</th>\n      <td>F</td>\n      <td>PWS</td>\n      <td>K1</td>\n      <td>202304</td>\n      <td>NPF</td>\n      <td>TOASTER PASTRIES</td>\n      <td>USD</td>\n      <td>2023</td>\n      <td>US RETAIL CHANNELS</td>\n      <td>DRUG/DISCOUNT/TELESALES</td>\n    </tr>\n    <tr>\n      <th>4</th>\n      <td>F</td>\n      <td>PWS</td>\n      <td>K1</td>\n      <td>202305</td>\n      <td>NPF</td>\n      <td>TOASTER PASTRIES</td>\n      <td>USD</td>\n      <td>2023</td>\n      <td>US RETAIL CHANNELS</td>\n      <td>DRUG/DISCOUNT/TELESALES</td>\n    </tr>\n    <tr>\n      <th>...</th>\n      <td>...</td>\n      <td>...</td>\n      <td>...</td>\n      <td>...</td>\n      <td>...</td>\n      <td>...</td>\n      <td>...</td>\n      <td>...</td>\n      <td>...</td>\n      <td>...</td>\n    </tr>\n    <tr>\n      <th>1325643</th>\n      <td>F</td>\n      <td>CONVENIENCE</td>\n      <td>Specialty</td>\n      <td>202017</td>\n      <td>NPF</td>\n      <td>TOASTER PASTRIES</td>\n      <td>CAD</td>\n      <td>2020</td>\n      <td>CANADA</td>\n      <td>CANADA OUT OF HOME</td>\n    </tr>\n    <tr>\n      <th>1325644</th>\n      <td>F</td>\n      <td>CONVENIENCE</td>\n      <td>Specialty</td>\n      <td>202018</td>\n      <td>NPF</td>\n      <td>TOASTER PASTRIES</td>\n      <td>CAD</td>\n      <td>2020</td>\n      <td>CANADA</td>\n      <td>CANADA OUT OF HOME</td>\n    </tr>\n    <tr>\n      <th>1325645</th>\n      <td>F</td>\n      <td>CONVENIENCE</td>\n      <td>Specialty</td>\n      <td>202019</td>\n      <td>NPF</td>\n      <td>TOASTER PASTRIES</td>\n      <td>CAD</td>\n      <td>2020</td>\n      <td>CANADA</td>\n      <td>CANADA OUT OF HOME</td>\n    </tr>\n    <tr>\n      <th>1325646</th>\n      <td>F</td>\n      <td>CONVENIENCE</td>\n      <td>Specialty</td>\n      <td>202020</td>\n      <td>NPF</td>\n      <td>TOASTER PASTRIES</td>\n      <td>CAD</td>\n      <td>2020</td>\n      <td>CANADA</td>\n      <td>CANADA OUT OF HOME</td>\n    </tr>\n    <tr>\n      <th>1325647</th>\n      <td>F</td>\n      <td>CONVENIENCE</td>\n      <td>Specialty</td>\n      <td>202019</td>\n      <td>NPF</td>\n      <td>TOASTER PASTRIES</td>\n      <td>CAD</td>\n      <td>2020</td>\n      <td>CANADA</td>\n      <td>CANADA OUT OF HOME</td>\n    </tr>\n  </tbody>\n</table>\n<p>1325648 rows × 10 columns</p>\n</div>"
     },
     "execution_count": 3,
     "metadata": {},
     "output_type": "execute_result"
    }
   ],
   "source": [
    "import pandas as pd\n",
    "df_preview = PLN.iloc[:, :10]\n",
    "\n",
    "# Display the DataFrame preview\n",
    "df_preview"
   ]
  },
  {
   "cell_type": "code",
   "execution_count": 4,
   "metadata": {
    "ExecuteTime": {
     "end_time": "2024-03-06T00:24:02.061350200Z",
     "start_time": "2024-03-06T00:24:01.673119500Z"
    }
   },
   "outputs": [
    {
     "data": {
      "text/plain": "                       Lvl C                   Lvl D  \\\n0                  TELESALES               TELESALES   \n1                  TELESALES               TELESALES   \n2                  TELESALES               TELESALES   \n3                  TELESALES               TELESALES   \n4                  TELESALES               TELESALES   \n...                      ...                     ...   \n1325643  CANADA FOOD SERVICE  CA FOOD SERVICE REGION   \n1325644  CANADA FOOD SERVICE  CA FOOD SERVICE REGION   \n1325645  CANADA FOOD SERVICE  CA FOOD SERVICE REGION   \n1325646  CANADA FOOD SERVICE  CA FOOD SERVICE REGION   \n1325647  CANADA FOOD SERVICE  CA FOOD SERVICE REGION   \n\n                             Lvl E       Matrl Mixd Plt Flg  Mixd Plt Matrl  \\\n0                        TELESALES  3800025063            N      3800025063   \n1                        TELESALES  3800025063            N      3800025063   \n2                        TELESALES  3800025063            N      3800025063   \n3                        TELESALES  3800025063            N      3800025063   \n4                        TELESALES  3800025063            N      3800025063   \n...                            ...         ...          ...             ...   \n1325643  CA FOOD SERVICE SUBREGION  6410025666            N      6410025666   \n1325644  CA FOOD SERVICE SUBREGION  6410025666            N      6410025666   \n1325645  CA FOOD SERVICE SUBREGION  6410025666            N      6410025666   \n1325646  CA FOOD SERVICE SUBREGION  6410025666            N      6410025666   \n1325647  CA FOOD SERVICE SUBREGION  6410077003            N      6410077003   \n\n                      Mixd Plt Matrl Desc    Pd Yr  Pln To Nbr  \\\n0        PT CNFETTI CAKE BITES 3.5OZX6 SS  P1 2023      300023   \n1        PT CNFETTI CAKE BITES 3.5OZX6 SS  P1 2023      300023   \n2        PT CNFETTI CAKE BITES 3.5OZX6 SS  P1 2023      300023   \n3        PT CNFETTI CAKE BITES 3.5OZX6 SS  P1 2023      300023   \n4        PT CNFETTI CAKE BITES 3.5OZX6 SS  P2 2023      300023   \n...                                   ...      ...         ...   \n1325643               PT FR RASP 400gmx12  P4 2020      303979   \n1325644               PT FR RASP 400gmx12  P5 2020      303979   \n1325645               PT FR RASP 400gmx12  P5 2020      303979   \n1325646               PT FR RASP 400gmx12  P5 2020      303979   \n1325647        PT COOKS N' CREME 400GMX12  P5 2020      303979   \n\n                 Pln To Nm  \n0               DPI - WEST  \n1               DPI - WEST  \n2               DPI - WEST  \n3               DPI - WEST  \n4               DPI - WEST  \n...                    ...  \n1325643  CA AWAY FROM HOME  \n1325644  CA AWAY FROM HOME  \n1325645  CA AWAY FROM HOME  \n1325646  CA AWAY FROM HOME  \n1325647  CA AWAY FROM HOME  \n\n[1325648 rows x 10 columns]",
      "text/html": "<div>\n<style scoped>\n    .dataframe tbody tr th:only-of-type {\n        vertical-align: middle;\n    }\n\n    .dataframe tbody tr th {\n        vertical-align: top;\n    }\n\n    .dataframe thead th {\n        text-align: right;\n    }\n</style>\n<table border=\"1\" class=\"dataframe\">\n  <thead>\n    <tr style=\"text-align: right;\">\n      <th></th>\n      <th>Lvl C</th>\n      <th>Lvl D</th>\n      <th>Lvl E</th>\n      <th>Matrl</th>\n      <th>Mixd Plt Flg</th>\n      <th>Mixd Plt Matrl</th>\n      <th>Mixd Plt Matrl Desc</th>\n      <th>Pd Yr</th>\n      <th>Pln To Nbr</th>\n      <th>Pln To Nm</th>\n    </tr>\n  </thead>\n  <tbody>\n    <tr>\n      <th>0</th>\n      <td>TELESALES</td>\n      <td>TELESALES</td>\n      <td>TELESALES</td>\n      <td>3800025063</td>\n      <td>N</td>\n      <td>3800025063</td>\n      <td>PT CNFETTI CAKE BITES 3.5OZX6 SS</td>\n      <td>P1 2023</td>\n      <td>300023</td>\n      <td>DPI - WEST</td>\n    </tr>\n    <tr>\n      <th>1</th>\n      <td>TELESALES</td>\n      <td>TELESALES</td>\n      <td>TELESALES</td>\n      <td>3800025063</td>\n      <td>N</td>\n      <td>3800025063</td>\n      <td>PT CNFETTI CAKE BITES 3.5OZX6 SS</td>\n      <td>P1 2023</td>\n      <td>300023</td>\n      <td>DPI - WEST</td>\n    </tr>\n    <tr>\n      <th>2</th>\n      <td>TELESALES</td>\n      <td>TELESALES</td>\n      <td>TELESALES</td>\n      <td>3800025063</td>\n      <td>N</td>\n      <td>3800025063</td>\n      <td>PT CNFETTI CAKE BITES 3.5OZX6 SS</td>\n      <td>P1 2023</td>\n      <td>300023</td>\n      <td>DPI - WEST</td>\n    </tr>\n    <tr>\n      <th>3</th>\n      <td>TELESALES</td>\n      <td>TELESALES</td>\n      <td>TELESALES</td>\n      <td>3800025063</td>\n      <td>N</td>\n      <td>3800025063</td>\n      <td>PT CNFETTI CAKE BITES 3.5OZX6 SS</td>\n      <td>P1 2023</td>\n      <td>300023</td>\n      <td>DPI - WEST</td>\n    </tr>\n    <tr>\n      <th>4</th>\n      <td>TELESALES</td>\n      <td>TELESALES</td>\n      <td>TELESALES</td>\n      <td>3800025063</td>\n      <td>N</td>\n      <td>3800025063</td>\n      <td>PT CNFETTI CAKE BITES 3.5OZX6 SS</td>\n      <td>P2 2023</td>\n      <td>300023</td>\n      <td>DPI - WEST</td>\n    </tr>\n    <tr>\n      <th>...</th>\n      <td>...</td>\n      <td>...</td>\n      <td>...</td>\n      <td>...</td>\n      <td>...</td>\n      <td>...</td>\n      <td>...</td>\n      <td>...</td>\n      <td>...</td>\n      <td>...</td>\n    </tr>\n    <tr>\n      <th>1325643</th>\n      <td>CANADA FOOD SERVICE</td>\n      <td>CA FOOD SERVICE REGION</td>\n      <td>CA FOOD SERVICE SUBREGION</td>\n      <td>6410025666</td>\n      <td>N</td>\n      <td>6410025666</td>\n      <td>PT FR RASP 400gmx12</td>\n      <td>P4 2020</td>\n      <td>303979</td>\n      <td>CA AWAY FROM HOME</td>\n    </tr>\n    <tr>\n      <th>1325644</th>\n      <td>CANADA FOOD SERVICE</td>\n      <td>CA FOOD SERVICE REGION</td>\n      <td>CA FOOD SERVICE SUBREGION</td>\n      <td>6410025666</td>\n      <td>N</td>\n      <td>6410025666</td>\n      <td>PT FR RASP 400gmx12</td>\n      <td>P5 2020</td>\n      <td>303979</td>\n      <td>CA AWAY FROM HOME</td>\n    </tr>\n    <tr>\n      <th>1325645</th>\n      <td>CANADA FOOD SERVICE</td>\n      <td>CA FOOD SERVICE REGION</td>\n      <td>CA FOOD SERVICE SUBREGION</td>\n      <td>6410025666</td>\n      <td>N</td>\n      <td>6410025666</td>\n      <td>PT FR RASP 400gmx12</td>\n      <td>P5 2020</td>\n      <td>303979</td>\n      <td>CA AWAY FROM HOME</td>\n    </tr>\n    <tr>\n      <th>1325646</th>\n      <td>CANADA FOOD SERVICE</td>\n      <td>CA FOOD SERVICE REGION</td>\n      <td>CA FOOD SERVICE SUBREGION</td>\n      <td>6410025666</td>\n      <td>N</td>\n      <td>6410025666</td>\n      <td>PT FR RASP 400gmx12</td>\n      <td>P5 2020</td>\n      <td>303979</td>\n      <td>CA AWAY FROM HOME</td>\n    </tr>\n    <tr>\n      <th>1325647</th>\n      <td>CANADA FOOD SERVICE</td>\n      <td>CA FOOD SERVICE REGION</td>\n      <td>CA FOOD SERVICE SUBREGION</td>\n      <td>6410077003</td>\n      <td>N</td>\n      <td>6410077003</td>\n      <td>PT COOKS N' CREME 400GMX12</td>\n      <td>P5 2020</td>\n      <td>303979</td>\n      <td>CA AWAY FROM HOME</td>\n    </tr>\n  </tbody>\n</table>\n<p>1325648 rows × 10 columns</p>\n</div>"
     },
     "execution_count": 4,
     "metadata": {},
     "output_type": "execute_result"
    }
   ],
   "source": [
    "import pandas as pd\n",
    "df_preview = PLN.iloc[:,10:20]\n",
    "\n",
    "# Display the DataFrame preview\n",
    "df_preview"
   ]
  },
  {
   "cell_type": "code",
   "outputs": [],
   "source": [
    "filtered_values = PLN[PLN['Mixd Plt Matrl Desc'].astype(str).str.contains('8CT')]\n",
    "filtered_values = filtered_values[filtered_values['Mixd Plt Matrl Desc'].astype(str).str.contains('13.5')]\n",
    "\n",
    "frosted = filtered_values[filtered_values['Mixd Plt Matrl Desc'].astype(str).str.contains('FRSTD')]\n",
    "nonfrosted = filtered_values[~filtered_values['Mixd Plt Matrl Desc'].astype(str).str.contains('FRSTD')]"
   ],
   "metadata": {
    "collapsed": false,
    "ExecuteTime": {
     "end_time": "2024-03-06T01:08:07.099990500Z",
     "start_time": "2024-03-06T01:08:04.473235100Z"
    }
   },
   "execution_count": 25
  },
  {
   "cell_type": "code",
   "outputs": [
    {
     "data": {
      "text/plain": "array(['PT FRSTD ORCHRD APL CINN SMPLY8CT13.5X12',\n       'PT FRSTD BLUBRRY TSTP 8CT 13.5OZX12',\n       'PT FRSTD BRN SGR CIN TSTP 8CT 13.5OZX12',\n       'PT FRSTD CHCFDG TSTP 8CT 13.5OZX12',\n       'PT FRSTD RSPBRRY TSTP 8CT 13.5OZX12',\n       'PT FRSTD STRWBRRY TSTP 8CT 13.5OZX12',\n       'PT FRSTD CHRY TSTP 8CT 13.5OZX12',\n       'PT FRSTD SMORES TSTP 8CT 13.5OZX12',\n       'PT FRSTD STRWBRRY TSTP 8CT 13.5OZX12 BTS',\n       'PT FRSTD BNSGRCIN TSTP 8CT 13.5OZX12 BTS',\n       'PT FRSTD SMORES TSTP 8CT 13.5OZX12 BTS',\n       'PT FRSTDSTRWBRY TSTP 8CT13.5OZX12 RTROPK',\n       'PT FRSTD CH FDG TSTP  8CT 13.5OZX12 SPKY',\n       'PT FRSTD BLUBRRY TSTP 8CT 13.5OZX8 RCP',\n       'PT FRSTD SMORES TSTP 8CT 13.5OZX8 RCP',\n       'PT FRSTD STRWBRRY TSTP 8CT 13.5OZX8 RCP',\n       'PT FRSTD BRNSGRCIN TSTP 8CT 13.5OZX8 RCP',\n       'PT FRSTD BNSGRCIN TSTP 8CT 13.5OZX12EXPT',\n       'PT FRSTD BRN SGR CIN 8CT 13.5OZX12 BTS',\n       'PT FRSTD CHCFDG TSTP 8CT 13.5OZX12 EXPT',\n       'PT FRSTD STRWBRY TSTP 8CT 13.5OZX12 EXPT',\n       'PT FRSTD CHRY TSTP 8CT 13.5OZX12 EXPT',\n       'PT FRSTD SMORES TSTP 8CT 13.5OZX12 EXPT',\n       'PT FRSTD BLUBRRY TSTP 8CT 13.5OZX12 EXPT'], dtype=object)"
     },
     "execution_count": 26,
     "metadata": {},
     "output_type": "execute_result"
    }
   ],
   "source": [
    "frosted['Mixd Plt Matrl Desc'].unique()"
   ],
   "metadata": {
    "collapsed": false,
    "ExecuteTime": {
     "end_time": "2024-03-06T01:08:08.143382200Z",
     "start_time": "2024-03-06T01:08:08.088118400Z"
    }
   },
   "execution_count": 26
  },
  {
   "cell_type": "code",
   "outputs": [
    {
     "data": {
      "text/plain": "array(['PT PRTZL CINN SGR TSTP 8CT 13.5OZX12',\n       'PT PRTZL CHOC TSTP 8CT 13.5OZX12',\n       'PT CHOC CPCAKE TSTP  8CT 13.5OZX12',\n       'PT FR HRVST STRWBRRY SMPLY 8CT 13.5OZX12',\n       'PT CNFETTI CPCAKE TSTP 8CT 13.5OZX12', 'PT FL TSTP 8CT 13.5OZX12',\n       'PT CHOC CHRRO TSTP 8CT 13.5OZX12',\n       'PT CHOC CHIP TSTP 8CT 13.5OZX12',\n       'PT STRWBRRY MLKSHK TSTP 8CT 13.5OZX12',\n       'PT CHOC CHIP CK DGH TSTP 8CT 13.5OZX12',\n       'PT CINN ROLL TSTP 8CT 13.5OZX12',\n       'PT COOK&CRM TSTP 8CT 13.5OZX12', 'PT BLUBRRY TSTP 8CT 13.5OZX12',\n       'PT BRWN SGR CINN TSTP 8CT 13.5OZX12',\n       'PT STRWBRRY TSTP 8CT 13.5OZX12',\n       'PT WILD BRRY TSTP 8CT 13.5OZX12',\n       'PT RED WHT AND BRRY TSTP 8CT 13.5OZX12',\n       'PT PINK LEMNADE TSTP 8CT 13.5OZX12',\n       'PT SLTD CRML TSTP PRTZL 8CT 13.5OZX12',\n       'PT MYSTRY FLVR TSTP 8CT 13.5OZX12', 'PT MANG TSTP 8CT 13.5OZX12',\n       'PT LEMN CRM TSTP 8CT 13.5OZX12',\n       'PT PEACH CBLR TSTP 8CT 13.5OZX12',\n       'PT RED VLVT CPCAKE TSTP 8CT 13.5OZX12',\n       'PT APL CRSP TSTP 8CT 13.5OZX12', 'PT APL FRTR TSTP 8CT13.5OZX12',\n       'PT SNKRDDL TSTP 8CT 13.5OZX12CT', 'PT GRP TSTP 8CT 13.5OZX12',\n       'PT AJ TSTP 8CT 13.5OZX12', 'PT BNA BRD TSTP 8CT 13.5OZX12',\n       'PT CHOCY CHIP PNCK TSTP 8CT 13.5OZX12',\n       'PT PMKN PIE TSTP 8CT 13.5OZX12',\n       'PT HOTFDGSUN TSTP 8CT 13.5OZX12',\n       'PT HOTFDGSUN TSTP 8CT 13.5OZX8 RCP',\n       'PT CINN ROLL TSTP 8CT 13.5OZX8 RCP',\n       'PT CHOC CHIP TSTP 8CT 13.5OZX8 RCP',\n       'PT CHOC CHP CK DGH TSTP 8CT 13.5OZX8 RCP',\n       'PT MYSTERY FLVR 2.0 TSTP 8CT 13.5OZX12',\n       'PT HOTFDGSUNTSTP8CT13.5OZX12 2024PT60BDY',\n       'PT HOT CHOC TSTP 8CT 13.5OZX12 WNTR',\n       'PT COOK&CRM TSTP 8CT 13.5OZX12 EXPT'], dtype=object)"
     },
     "execution_count": 27,
     "metadata": {},
     "output_type": "execute_result"
    }
   ],
   "source": [
    "nonfrosted['Mixd Plt Matrl Desc'].unique()"
   ],
   "metadata": {
    "collapsed": false,
    "ExecuteTime": {
     "end_time": "2024-03-06T02:09:44.249968600Z",
     "start_time": "2024-03-06T02:09:44.213845900Z"
    }
   },
   "execution_count": 27
  },
  {
   "cell_type": "code",
   "outputs": [
    {
     "data": {
      "text/plain": "array(['PT CNFETTI CAKE BITES 3.5OZX6 SS',\n       'PT FRSTD STRWBRRY BITES 3.5OZX6 SS',\n       'PT FRSTD BLUBRRY TSTP 2CT 3.3OZX72 SS',\n       'PT FR BRN SGR CIN TSTP 2CT 3.3OZX72 SS',\n       'PT FRSTD STRWBRRY TSTP 2CT 3.3OZX72 SS',\n       'PT FRSTD CHRY TSTP 2CT 3.3OZX72 SS',\n       'PT CHOC CHP TSTP 8CT 14.7OZX12',\n       'PT FR BSCINN TSTP 32CT 56.4OZX1',\n       'PT FR BSCINN TSTP 8CT14OZX12 CRZYGD HLDY',\n       'PT 3 FLVS TSTP 22OZX12 VRTY PCK',\n       'PT JLY RNCR CHRY TSTP 14.1OZX12',\n       'PT JLY RNCR WTRMLN TSTP 14.1OZX12',\n       'PT STRW MILKSHAKE TSTP 8CT 14.1OZX12',\n       'PT CHOC CHP CK DOUGH TSTP 8CT 14.1OZX12',\n       'PT STRW CHSCK TSTP 8CT 14.1OZX12',\n       'PT SGR COOK BRWN BTR TSTP 8CT 14.1OZX12',\n       'PT PRTZL CINN SGR TSTP 8CT 13.5OZX12',\n       'PT PRTZL CHOC TSTP 8CT 13.5OZX12',\n       'PT FR BRWN SGRCINNMZG CRSPS 12CT 5.9OZX8',\n       'PT FR STRWBRRYLCS CRISPS 12CT 5.9OZX8',\n       'PT FRSTD BRWN SGR CINN BITS 5CT 7OZX5',\n       'PT FRSTD STRWBRRY TSTP BITS 5CT 7OZX5',\n       'PT 2 FLVS BITES HUTCHX60', 'PT 2 FLVS CRISPS SHPRX72',\n       'PT CHOC CPCAKE TSTP  8CT 13.5OZX12',\n       'PT FR HRVST STRWBRRY SMPLY 8CT 13.5OZX12',\n       'PT FRSTD ORCHRD APL CINN SMPLY8CT13.5X12',\n       'PT CNFETTI CPCAKE TSTP 8CT 13.5OZX12',\n       'PT RSPBRRY TSTP 8CT ZX12 MERMAID',\n       'PT SGR COOK COOK 12CT 20.3OZX12',\n       'PT BLUBRRY CRISPS 12CT 5.9OZX8', 'PT FL TSTP 8CT 13.5OZX12',\n       'PT CHOC CHRRO TSTP 8CT 13.5OZX12',\n       'PT FR STRWBRY TSTP 32CT 54.1OZX1',\n       'PT FRBRNSGRCIN TSTP 32CT 54.1OZX1',\n       'PT CHOC CHIP TSTP 8CT 13.5OZX12',\n       'PT 2 FLVS TSTP 32CT 53.9OZX1 RETAIL',\n       'PT 3 FLVS FRUIT TSTP 12CT 20.3OZX12',\n       'PT STRWBRRY MLKSHK TSTP 8CT 13.5OZX12',\n       'PT CHOC CHIP CK DGH TSTP 8CT 13.5OZX12',\n       'PT CINN ROLL TSTP 8CT 13.5OZX12',\n       'PT COOK&CRM TSTP 8CT 13.5OZX12', 'PT BLUBRRY TSTP 8CT 13.5OZX12',\n       'PT BRWN SGR CINN TSTP 8CT 13.5OZX12',\n       'PT STRWBRRY TSTP 8CT 13.5OZX12',\n       'PT STRWBRRY TSTP 12CT 20.3OZX12',\n       'PT FRSTD BLUBRRY TSTP 8CT 13.5OZX12',\n       'PT FRSTD BLUBRRY TSTP 12CT 20.3OZX12',\n       'PT FRSTD BRN SGR CIN TSTP 8CT 13.5OZX12',\n       'PT FRSTD BRN SGR CIN TSTP 12CT 20.3OZX12',\n       'PT FRSTD CHCFDG TSTP 8CT 13.5OZX12',\n       'PT FRSTD CHCFDG TSTP 12CT 20.3OZX12',\n       'PT FRSTD RSPBRRY TSTP 8CT 13.5OZX12',\n       'PT FRSTD STRWBRRY TSTP 8CT 13.5OZX12',\n       'PT FRSTD STRWBRRY TSTP 12CT 20.3OZX12',\n       'PT FRSTD CHRY TSTP 8CT 13.5OZX12',\n       'PT FRSTD CHRY TSTP 12CT 20.3OZX12',\n       'PT FRSTD SMORES TSTP 8CT 13.5OZX12',\n       'PT FRSTD SMORES TSTP 12CT 20.3OZX12',\n       'PT WILD BRRY TSTP 8CT 13.5OZX12',\n       'PT COOK&CRM TSTP 12CT 20.3OZX12',\n       'PT PMKN PIE TSTP 12CT 20.3OZX12 SSNL PT',\n       'PT FRSTD CHOC FDG BITES 5CT 7OZX5',\n       'PT CINN ROLL TSTP 8CT 14.1OZX12',\n       'PT RED WHT AND BRRY TSTP 8CT 13.5OZX12',\n       'PT 2 FLVS TSTP HALF MODX84 STR BSC',\n       'PT RSPBRRY TSTP 12CT 20.3OZX12 SPNGE BOB',\n       'PT 3 FLVS TSTP SHPRX48 STR BSC BLU',\n       'PT BLUBRRY TSTP SHPRX48 SSNL PT',\n       'PT 4 FLVS TSTP SHPRX48 STR BSC SMO CHOC',\n       'PT 4 FLVS TSTP SHPRX126', 'PT 3 FLVS TSTP SHPRX60',\n       'PT 4 FLVS TSTP SHPRX100 STR BSC SMO BLU',\n       'PT 4 FLVS TSTP SHPRX100 STR BSC SMO CHR',\n       'PT 3 FLVS TSTP SHPRX100', 'PT 2 FLVS TSTP SHPRX48',\n       'PT 3 FLVS BITES HUTCHX60', 'PT 3 FLVS PSTRY CRSPS HUTCHX72',\n       'PT 3 FLVS TSTP SHPRX48', 'PT CNFETTI CPCAKE TSTP BITES 5CT 7OZX5',\n       'PT RSPBRY SHPRX48 PRNT FN MRMAID DISP',\n       'PT 3 FLVS TSTP HUTCHX100 SPNGE BOB',\n       'PT COOKNCRM TSTP 8CT 14.1OZX12', 'PT 4 FLVS TSTP SHPRX48 BTS',\n       'PT 3 FLVS TSTP HUTCHX100 SSNL PT',\n       'PT FRSTD BRN SGR CIN BITS 5CT 7OZX5 BONO',\n       'PT FRSTD STWBRY TSTP BITS 5CT 7OZX5 BONO',\n       'PT FR STRWBRYLCS CRISP 12CT 5.9OZX8 BONO',\n       'PT PINK LEMNADE TSTP 8CT 13.5OZX12',\n       'PT SLTD CRML TSTP PRTZL 8CT 13.5OZX12',\n       'PT FRSTD CHOC FDG BITES 5CT 7OZX5 BONO',\n       'PT MYSTRY FLVR TSTP 8CT 13.5OZX12', 'PT MANG TSTP 8CT 13.5OZX12',\n       'PT LEMN CRM TSTP 8CT 13.5OZX12',\n       'PT PEACH CBLR TSTP 8CT 13.5OZX12',\n       'PT FRSTD BLUBRRY BITES 5CT 7OZX5',\n       'PT RED VLVT CPCAKE TSTP 8CT 13.5OZX12',\n       'PT APL CRSP TSTP 8CT 13.5OZX12', 'PT 3 FLVS TSTP SHPR 48ct',\n       'PT PINK LEMNADE SHPRX48 SSNL PT',\n       'PT FRSTD STRWBRRY TSTP 8CT 13.5OZX12 BTS',\n       'PT FRSTD BNSGRCIN TSTP 8CT 13.5OZX12 BTS',\n       'PT FRSTD SMORES TSTP 8CT 13.5OZX12 BTS', 'PT 4 FLVS TSTP SHPRX48',\n       'PT 2 FLVS TSTP SHPRX60', 'PT MYSTERY FLVR TSTP SHPRX48',\n       'PT STRWBRRY BNA BITES 5CT 7OZX5', 'PT APL FRTR TSTP 8CT13.5OZX12',\n       'PT BSTN CRM TSTP 8ct 13.5OZX12',\n       'PT EGGO FLVR TSTP 8ct 13.5OZX12',\n       'PT 2 FLVS TSTP 32CT 54.1OZX245',\n       'PT SNKRDDL TSTP 8CT 13.5OZX12CT',\n       'PT GNGRBREAD TSTP 20.3OZ X 12CT', 'PT 4 FLVS TSTP SHPRX48 INNOV',\n       'PT 3 FLVS TSTP SHPRX48 INNOV',\n       'PT 2 FLVS TSTP BITES SHPRX60 INNOV', 'PT GRP TSTP 8CT 13.5OZX12',\n       'PT FRSTD STRWBRRY TSTP 20.3OZX12 GNGRBRD',\n       'PT FRSTD BRN SGR CIN TSTP 20.3OZX12 GGBD',\n       'PT 3 FLVS TSTP HUTCHX100',\n       'PT FRSTD SMORES TSTP 20.3OZX12 GNGRBRD',\n       'PT AJ TSTP 8CT 13.5OZX12', 'PT BNA BRD TSTP 8CT 13.5OZX12',\n       'PT PMKN PIE TSTP 20.3OZX12', 'PT CINN ROLL TSTP BITES 5CT 7OZX5',\n       'PT STRWBRRY TSTP SHPRX48',\n       'PT FRSTDSTRWBRY TSTP 8CT13.5OZX12 RTROPK',\n       'PT PMKN PIE TSTP SHPRX60',\n       'PT CHOCY CHIP PNCK TSTP 8CT 13.5OZX12',\n       'PT CHOC BRWNIE TSTP PPRS 5CT 5OZX6',\n       'PT FRSTD STRWBRRY TSTP PPRS 5CT 5OZX6',\n       'PT BLUBRRY TSTP 8CT 14.7OZX12', 'PT PMKN PIE PSTRS HUTCHX48',\n       'PT PMKN PIE TSTP 8CT 13.5OZX12', 'PT 2 FLVS TSTP PPRS SHPRX60',\n       'PT BSCINN TSTP 8CT 14OZX12', 'PT STRW TSTP 8CT 14.7OZX12',\n       'PT STRW TSTP 12CT 22OZX12', 'PT FR BLBRY TSTP 8CT 14.7OZX12',\n       'PT FR BLBRY TSTP 12CT 22OZX12', 'PT FR BSCINN TSTP 8CT 14OZX12',\n       'PT FR BSCINN TSTP 12CT 21OZX12',\n       'PT CHOC FDGE TSTP 8CT 14.7OZX12',\n       'PT CHOC FDGE TSTP 12CT 22OZX12', 'PT RASP TSTP 8CT 14.7OZX12',\n       'PT FR STRW TSTP 8CT 14.7OZX12', 'PT FR STRW TSTP 12CT 22OZX12',\n       'PT FR CHRY TSTP 8CT 14.7OZX12', 'PT FR CHRY TSTP 12CT 22OZX12',\n       'PT FR SMORES TSTP 8CT 14.7OZX12',\n       'PT FR SMORES TSTP 12CT 22OZX12',\n       'PT US FR WILD BRRY TSTP 8CT 15.2OZX12',\n       'PT COOKNCRM TSTP 12CT 21.1OZX12',\n       'PT HOTFDGSUN TSTP 12CT 20.3OZX12',\n       'PT HOTFDGSUN TSTP 8CT 13.5OZX12', 'PT CHOC PB TSTP 6CT 10.5OZX12',\n       'PT PB TSTP 6CT 10.5OZX12', 'PT CHOC VAN CRM TSTP 8CT 14.1OZX12',\n       'PT FRSTD SMORES TSTP 2CT 3.30OZX72 SS',\n       'PT FRSTD BRWN SGR CINN BTS 6CT 13.5OZX6',\n       'PT FRSTD STRWBRRY TSTP BITS 6CT 13.5OZX6',\n       'PT 3 FLVS TSTP PDQ TRAYX15 WALGREENS',\n       'PT 4 FLVS TSTP PDQ TRAYX30', 'PT ASSORTED 1200gmx10',\n       'PT VAN MLKSHKE TSTP 8ct 14.1OZX12',\n       'PT CHOC CHIP TSTP 2CT 3.3OZX72 SS',\n       'PT FRSTD STRW TSTP 16CT 27OZX8', 'PT COOK&CRM TSTP 16CT 27OZX8',\n       'PT 5 FLVS TSTP SHPRX150',\n       'PT FRSTD CH FDG TSTP  8CT 13.5OZX12 SPKY',\n       'PT APLTSTC TSTP CRISPS 12CT 5.9OZX8',\n       'PT 3 FLVS PSTRY CRSPS SHPRX72', 'PT CHOC FDG TSTP SHPRX48 SPOOKY',\n       'PT 3 FLVS TSTP SHPRX48 SPOOKY', 'PT MIXED SHPR 14.53X48 8CT',\n       'PT FR STRW 600GMX12', 'PT MIX 1/2 CSDRP 400GMX480',\n       'PT FR CHOC FDGE 400gmx12', 'PT FRST SMORES 400gmx12',\n       'PT FR STRW 400gmx12', \"PT COOKS N' CREME 400GMX12\",\n       'PT CRAZY BRRY TSTP 8CT 384GMX12',\n       'PT CHOC CHIP TSTP 8CT 384GMX12',\n       'PT FRSTD CHOC FDG TSTP 8CT 384GMX12',\n       'PT FRSTD BLUBRRY TSTP 8CT 384GMX12',\n       'PT FRSTD SMORES TSTP 8CT 384GMX12',\n       'PT FRSTD STRWBRRY TSTP 8CT 384GMX12',\n       'PT FRSTD RSPBRRY TSTP 8CT 384GMX12',\n       'PT ASSTD TSTP 24CT 1152GMX10', 'PT COOK&CRM TSTP 8CT 384GMX12',\n       'PT STRWBRRY THINS 10 CT 140GMX8',\n       'PT BRWN SGR THINS 10 CT 140GMX8', 'PT FR STRW 400gmx12 MLS',\n       'PT FRST SMORES 400gmx12 MLS', 'PT FR CHOC FDGE 400gmx12 MLS',\n       'PT STRWBRRY BITES 10CT 400GMX8',\n       'PT CNFETTI CAKE BITES 10CT 400GMX8',\n       'PT FRSTD STRWBRRY TSTP 8CT 384GMX12 FRTB',\n       'PT STRWBRRY PSTRS 768GMX8',\n       'PT FRSTD STRWBRRY TSTP 8CT 384GMX12MLS',\n       'PT FRSTD SMORES TSTP 8CT 384GMX12MLS',\n       'PT FRSTD CHOC FDG TSTP 8CT 384GMX12MLS',\n       'PT FRSTD STRWBRRY TSTP 8CT 384GMX12 FREB',\n       'PT FRSTD BLUBRRY BITES 10CT 400GX8', 'PT GNGRBREAD TSTP 576GMX12',\n       'PT FRSTD CHRY PSTRS 384GMX12', 'PT CINN ROLL PSTRS BITES 400GMX8',\n       'PT STRW 36CT 66OZX196 CLUB', 'PT FR BSCINN TSTP 36CT 63OZX1',\n       'PT HOTFDGSUN TSTP 8CT 13.5OZX8 RCP',\n       'PT FR STRWBRY TSTP 36CT 60.9OZX196 CLUB',\n       'PT FRBRNSGRCIN TSTP 36CT 60.9OZX196 CLUB',\n       'PT CINN ROLL TSTP 8CT 13.5OZX8 RCP',\n       'PT CHOC CHIP TSTP 8CT 13.5OZX8 RCP',\n       'PT CHOC CHP CK DGH TSTP 8CT 13.5OZX8 RCP',\n       'PT FRSTD BLUBRRY TSTP 8CT 13.5OZX8 RCP',\n       'PT FRSTD SMORES TSTP 8CT 13.5OZX8 RCP',\n       '3800020564 PT 2 FLVS BITES HUTCHX60',\n       'PT JLY RNCR GRN APL TSTP 14.1OZX12',\n       'PT 2 FLVS CRNCHY PPRS SHPRX36',\n       'PT 3 FLVS FRUIT TSTP 48CT 88OZX168 CLUB',\n       'PT BSC STRW VRTY PK 48CT 86.2OZX168 CLUB',\n       'PT 2 FLVS BITES 20CT 28.2OZX140 CLUB',\n       'PT HRVST STRW TSTP SMPLY 32CT 56.4OZX240',\n       'PT FRSTD STRW BITES 20CT 28.2OZX196 CLUB',\n       'PT 3 FLVS TSTP 48CT 81.2OZX1 CLUB',\n       'PT VRTY TSTP 48CT 81.2OZX1 CLUB',\n       'PT HRVSTW TSTP SIM 32CT 54.1OZX240 CLUB',\n       'PT 2 FLVS BITES 24CT 33.8OZX140 CLUB',\n       'PT FRSTD STRWBRY BT 26CT 36.4OZX140 CLUB',\n       'PT HRV STW SMP TSTP 32CT 54.1OZX240 CLUB',\n       'PT FRSTD STRW TSTP 48CT 81.2OZX168 CLUB',\n       'PT BRN SGR CIN TSTP 48CT 81.2OZX168 CLUB',\n       'PT 2FLVS TSTPPPRS 24CT12/12 23.9OZX1CLUB',\n       'PT 2 FLVS TSTP 32CT 57.5OZX1',\n       'PT VRTY PAK TSTP 32CT 54.1OZX245MILITARY',\n       'PT FR BRWN SGRCINNMZG CRSPS12CT5.9OZX8ES',\n       'PT 3 FLVS TSTP SHPRX150', 'PT RSPBRRY TSTP QTR MODX60 SPNGE BOB',\n       'PT SGR COOK WFL QTR MODX60 SSNL PT',\n       'PT 3 FLVS TSTP SHPRX48 SSNL PT',\n       'PT FRSTD STRWBRY TSTP 12CT 20.3OZX12 BTS',\n       'PT MYSTERY FLVR 2.0 TSTP 8CT 13.5OZX12',\n       'PT CNFETTI TSTP BITES 20CT 28.2OZX4 VALE',\n       'PT CHOC FDG BITES TSTP 28CT 25.6OZX4 HWN',\n       'PT SWT SWRL CKCP BITES 28CT 25.6OZX4',\n       'PT HOTFDGSUNTSTP8CT13.5OZX12 2024PT60BDY',\n       'PT HOT FDG SUN TSTP SPHRX48 2024PT60BDY',\n       'PT PMKN PIE TSTP 12CT 21.1OZX12',\n       'PT CHOC FDGE TSTP 12CT 22OZX12 SPOOKY',\n       'PT 3 FLVS TSTP 12CT 21.1OZX6 VRTY PCK',\n       'PT RED WHT BB TSTP 8CT 14.1OZX12 SSNL PT',\n       'PT 3 FLVS TSTP 12CT 20.3OZX6',\n       'PT FRSTD STRWBRRY TSTP 8CT 13.5OZX8 RCP',\n       'PT FRSTD BRNSGRCIN TSTP 8CT 13.5OZX8 RCP',\n       'PT FR BRN SGR CIN TSTP 12CT 20.3OZX6 RCP',\n       'PT 3 FLVS TSTP PDQ TRAY X16 DG', 'PT 3 FLVS TSTP PDQ TRAYX16 DG',\n       'PT FST BRNSGRCIN TSTP 12CT 20.3OZX12 BTS',\n       'PT FRSTD SMORES TSTP 12CT 20.3OZX12 BTS',\n       'PT 3 FLVS TSTP PDQ TRAYX12',\n       'PT FRSTD CHRY TSTP 12CT 20.3OZX12 GNGRBD',\n       'PT 3 FLVS TSTP SHPRX12', 'PT FR BLBRY TSTP 8CT 14.7OZX8 RCP',\n       'PT FR STRW TSTP 8CT 14.7OZX8 RCP',\n       'PT FR BSCINN TSTP 8CT 14OZX8 RCP',\n       'PT SMORES TSTP 36CT 66OZX196 CLUB',\n       'PTUNCRN PWR FRSTD TSTP32CT58.6OZX245CLUB',\n       'PT CHOCO CHIP 400gmx12', 'PT FRST BL RSBRY TSTP 8CT 14.1OZX12',\n       'PT CHOC CARML TSTP 14.1OZX12', 'PT FR STRW TSTP 32CT 58.6OZX1',\n       'PT CHOC MCHA TSTP 14.1OZX12', 'PT VAN LTE TSTP 14.1OZX12',\n       'PT 4 FLVS TSTP SHPRX20', 'PT 4 FLVS TSTP HUTCHX120',\n       'PT FRSTD STRBRYTSTBITS 6CT 13.5OZX6 BONO',\n       'PT CONFETTI CAKE TSTP 8CT 14.1OZX12',\n       'PT FRST RED VLVT CPCK TSTP 8CT 14.1OZX12',\n       'PT FR STRW TSTP 8CT 14.7OZX12 EXP EQTY',\n       'PT COOKNCRM TSTP 8CT 14.1OZX12 EXP EQTY',\n       'PT CHOC FDGE TSTP 8CT 14.7OZX12 EXP EQTY',\n       'PT FR CHRY TSTP 8CT 14.7OZX12 EXP EQTY',\n       'PT FR SMORES TSTP 8CT 14.7OZX12 EXP EQTY',\n       'PT PMKN PIE TSTP 14.1OZX12 SEAS PT', 'PT CRML APL TSTP 21.1OZX12',\n       'PT CINN ROLL TSTP 14.1OZX8 RCP',\n       'PT FR WILD BRRY TSTP 8CT 14.1X12 DSP ME3',\n       'PT VAN MLKSHKE TSTP 16CT 28.2OZX8',\n       'PT FR STRW TSTP 12CT 22OZX12 BTS',\n       'PT FR BSCINN TSTP 12CT 21OZX12 BTS',\n       'PT FR STRW EMOJI PRT FUN 14.6OZX12',\n       'PT CHCY CRML SS TSTP 12CT 21.1OZX12',\n       'PT RED WHT BB TSTP 16CT 28.2OZX8 SSNL PT',\n       'PTFRSTDSPRKLCSCHRY TSTP8CT14.6OZX12UNCRN',\n       'PT SPDYBRRY TSTP 12CT 22OZX12 SPDRMN',\n       'PT SPDYBRRY TSTP 16CT 29.3OZX8 SPDRMN',\n       'PT FRSTD CHRY TSTP 16CT 29.3OZX8 UNIC WM',\n       'PT FR STRW TSTP 12CT 22OZX12 SPDRMN',\n       'PT FR BSCINN TSTP 12CT 21OZX12 SPDRMN',\n       'PT FR CHRY TSTP 12CT 22OZX12 SPDRMN',\n       'PT FR SMORES TSTP 12CT 22OZX12 SPDRMN',\n       'PT RSPBRRY TSTP 16CT 27OZX8 MERMAID',\n       'PT SGR COOK TSTP 16CT 27OZX8',\n       'PT FR SMORES TSTP 12CT 22OZX12 BTS',\n       'PT FR BLBRY TSTP 12CT 22OZX12 BTS',\n       'PT FR STRW TSTP 8CT 14.7OZX12 BTS',\n       'PT FR BSCINN TSTP 8CT 14OZX12 BTS',\n       'PT FR SMORES TSTP 8CT 14.7OZX12 BTS',\n       'PT CHOC FDGE TSTP 8CT 14.7OZX12 BTS',\n       'PT FR BLBRY TSTP 8CT 14.7OZX12 BTS',\n       'PT FR STRW TSTP 16CT 29.3OZX8 WM BTS',\n       'PT FR BSCINN TSTP 16CT 28.2OZX8 WM BTS',\n       'PT FR SMORES TSTP 16CT 29.3OZX8 WM BTS',\n       'PT CHOC FDGE TSTP 16CT 29.3OZX8 WM BTS',\n       'PT COOKNCRM TSTP 16CT 28.2OZX8 WM BTS',\n       'PT FRSTD CHCFDG TSTP 16CT 27OZX8',\n       'PT FRSTD CHRY TSTP 16CT 27OZX8',\n       'PT FRSTD BRSGRCN TSTP 16CT 27OZX8',\n       'PT FRSTD SMORES TSTP 16CT 27OZX8',\n       'PT FRSTD BLUBRRY TSTP 16CT 27OZX8',\n       'PT PMKN PIE TSTP 16CT 27OZX8 SSNL PT',\n       'PT FRSTD CHCFDG TSTP 16CT 27OZX8 SPKY',\n       'PT FRSTD CHCFDG TSTP 12CT 20.3OZX12 SPKY',\n       'PT 8 FLVS TSTP MODX360', 'PT 4 FLVS TSTP MODX600',\n       'PT 8 FLVS TSTP MODX600', 'PT 4 FLVS TSTP MODX504',\n       'PT 6 FLVS TSTP HALF MODX240', 'PT 4 FLVS TSTP HALF MODX210',\n       'PT 4 FLVS TSTP SHPRX48 STR BSC SMO BLU',\n       'PT FRSTD STRWBRRY TSTP SHPRX48', 'PT 5 FLVS TSTP SHPRX100',\n       'PT FL TSTP SHPRX48', 'PT 3 FLVS TSTP HUTCHX60',\n       'PT CHOC CHRRO TSTP SHPRX48', 'PT PMKN PIE TSTP HUTCHX100 SSNL PT',\n       'PT 3 FLVS TSTP QTR MODX120',\n       'PT BLUBRRIFC CRISPS 12CT 5.9OZX8 BONO',\n       'PT RED VLVT TSTP SHPRX48', 'PT APL CRSP TSTP SHPRX48',\n       'PT 4 FLVS TSTP HUTCHX100 BTS', 'PT MANG TSTP SHPRX48',\n       'PT 2 FLVS TSTP HUTCHX60', 'PT 2 FLVS TSTP QTR MODX120',\n       'PT 2 FLVS TSTP SHPRX48 INNOV', 'PT CHOC FDGE TSTP 16CT 29.3OZX8',\n       'PT FR CHRY TSTP 16CT 29.3OZX8', 'PT FR BSCINN TSTP 16CT 28.2OZX8',\n       'PT FR SMORES TSTP 16CT 29.3OZX8', 'PT FR STRW TSTP 16CT 29.3OZX8',\n       'PT FR BLBRY TSTP 16CT 29.3OZX8', 'PT PMKN PIE TSTP 16CT 28.2OZX8',\n       'PT CHOC FDGE TSTP 16CT 29.3OZX8 SPOOKY',\n       'PT FR SUGCOOK TSTP 12CT 21.2OZX12',\n       'PT FR SUGCOOK TSTP 16CT 28.2OZX8', 'PT MIX PPK 400GMX48',\n       'PT CONFETTI CAKE TSTP 400GMX12', 'PT CRAZY BRY 432GMX12',\n       'PT THNS MX PPK 140GM X 96', 'PT FR MIX PPK 384GMX48',\n       'PT FRSTD BLUBRRY TSTP 8CT 384GMX12 FRTBS',\n       'PT FRSTD RSPBRRY TSTP 8CT 384GMX12 FRTBS',\n       'PT FRSTD RSPBRRY TSTP 8CT 384GMX12 FREBX',\n       'PT CINN ROLL BARS 384G X12CT',\n       'PT FRSTD STRWBRRY TSTP 8CT 384GMX12 NLI',\n       'PT FRSTD RSPBRRY TSTP 8CT 384GMX12 NLI U',\n       'PT FRSTD BLUBRRY TSTP 8CT 384GMX12 NLI U',\n       'PT FRST BLUBRRY 400gmx12', 'PT FR RASP 400gmx12',\n       'PT CHOC CHIP TSTP 16CT 27OZX8',\n       'PT FRSTD BNSGRCIN TSTP 8CT 13.5OZX12EXPT',\n       'PT 3 FLVS SHPR 12CTX96', 'PT HOTFDGSUN TSTP 2CT 3.3OZX12 SS',\n       'PT MAPL BCN TSTP 14.1OZX12', 'PT FR WTRMLN TSTP 14.1OZX12',\n       'PT 3 FLVS TSTP SHPRX60 PLT BASE',\n       'PT THNS MX PPK 140GM X 96 INNOV',\n       'PT ASSTD TSTP 24CT 1152GMX10 FRTBSTR',\n       'PT ASSTD TSTP 24CT 1152GMX10 NLI UPDATE', 'PT MIX PPK 400gmx48',\n       'PT 4 FLVS TSTP SS SHPRX120', 'PT CHOC CHRRO TSTP 20.3OZX12 DOTD',\n       'PT CHOC CHRRO TSTP QTR MODX60 SSNL PT',\n       'PT MIXED SHPR 14.70X48 8CT', 'PT 5 FLVS TSTP HUTCHX150 BTS',\n       'PT FRSTD BRN SGR CIN 8CT 13.5OZX12 BTS',\n       'PT FRSTD CHOC BITES 20CT28.2OZX4 HALLOWN',\n       'PT 2 FLVS TSTP HALF MODX84', 'PT FR BSCINN TSTP 12CT 21OZX6 RCP',\n       'PT FR STRW TSTP 22OZX6 RCP',\n       'PT FRSTD STRWBRRY TSTP 12CT 20.3OZX6 RCP',\n       'PT FR SMORES TSTP 8CT 14.7OZX8 RCP', 'PT 2 FLVS TSTP SHPRX100',\n       'PT PMKN PIE WFL QTR MODX60 SSNL PT',\n       'PT FRSTD STW BTS 20CT 28.2OZX196 CLB HWN',\n       'PT MYSTERY TSTP SHPR 48CT MSTRY PT', 'PT SGR COOK TSTP HUTCHX60',\n       'PT HOT CHOC TSTP 8CT 13.5OZX12 WNTR',\n       'PT BITES HDRP 3 FLAVOUR 400GMx192',\n       'PT STRWBRRY TSTP 16CT 27OZX8',\n       'PT CHOC CHIP CK DGH TSTP 16CT 27OZX8',\n       'PT HOT FDG SUN TSTP 16CT 27OZX8',\n       'PT FRSTD CHOC FDG BITES 3.5OZX6 SS',\n       'PT EGO FLVR TSTP 72CT 3.3OZX12 SS', 'PT 4 FLVS TSTP HUTCHX100',\n       'PT FR STWBRRYLCS CRISPS 12CT 5.9OZX5 RRC',\n       'PT BLUBRRIFC CRISPS 12CT 5.9OZX5 RCP',\n       'PT 3 FLVS TSTP SHPRX48 STR BSC CHOC', 'PT 5 FLVS BITES HUTCHX94',\n       'PT 5 FLVS PSTRY CRSPS HUTCHX120',\n       'PT 3 FLVS SHPRX48 PRNT FN MRMAID DISP',\n       'PT 4 FLV HUTCHX150 PRNT FN MRMAID DISP',\n       'PT MIXED SHPR 14.35X48 8CT',\n       'PT 2 FLVS TSTP 48CT 81.2OZX168 CLUB HNGR',\n       'PT 4 FLVS TSTP 32CT 54.1OZX240 CLUB',\n       'PT FR STRW TSTP 48CT 88OZX168 WM',\n       'PT FR BSCINN TSTP 48CT 84OZX168 WM',\n       'PT 4 FLVS TSTP 32 CT 58.2OZX240 CLUB',\n       'PT 2 FLVS TSTP 48CT 81.2OZX168 CHOC CLUB',\n       'PT SMORES TSTP 36CT 60.9OZX196 CLUB',\n       'PT FR STRWBRY TSTP 48CT 81.2OZX168 CLUB',\n       'PT FRBRNSGRCIN TSTP 48CT 81.2OZX168 CLUB',\n       'PT 4 FLVS TSTP 32 CT 58.2OZX240 CLB WNTR',\n       'PT 2FLVS TSTP PRTZL 24CT 40.6OZX336 CLUB',\n       'PT FRSTDSTRW BT 20CT 28.2OZX196 CLB BONO',\n       'PT 2 FLVS CRISPS 36CT 17.7OZX336 CLUB',\n       'FR STRW TSTP 36CT 60.9OZX196 CLUB BTS',\n       'PT SGR COOK TSTP 24CT 40.6OZX1 CLUB',\n       'PT BLBRRY TSTP BITES 20CT 28.2OZX196 CLB',\n       'PT CNFTI TSTP BITES 20CT28.22OZX196 CLUB',\n       'PT PMKN PIE TSTP 36CT 60.9OZX196 CLUB',\n       'PT 2FLVS TSTP 48CT 81.2OZX168 FR VND CLB',\n       'PT CHRY LME TSTP 20CT 28.2OZX196 CLUB',\n       'PT 2FLVS TSTPPPRS 24CT18/6 23.9OZX1 CLUB',\n       'PT FR MIX PPK 400GMX48', 'PT FR STRW PPK 400GMX48',\n       'PTFRS/CHOC HDRP 384GMx480', 'PTFRS/CHOC HDRP 384GMx480 FRT BSTR',\n       'PT FRS MIX HDRP 384GMx480 MLS',\n       'PT STRWBRRY MLKSHK PSTRS 384GMX12', 'PT MIX 1/2 DRP 400gmx480',\n       'PT CINN ROLL BITES 3.5OZX6',\n       'PT 4 FLVS TSTP SHPRX48 STR BSC CHOC CHR',\n       'PT 1 FLV TSTP SHPRX150', 'PT 6 FLVS TSTP SHPRX150',\n       'PT 5 FLVS TSTP MODX252', 'PT 6 FLVS TSTP HALF MODX175',\n       '3800022952 PT 3FLVS BITES HUTCHX60 BONO',\n       'PT 2 FLVS TSTP QTR MODX54', 'PT SGR COOK PSTRS 576GMX12',\n       'PT 1 FLV TSTP HUTCHX100 SEAS PT',\n       'PT VRTY PAK TSTP 32CT 57.5OZX245 Miltary',\n       'PT FR BSCINN TSTP 16CT 28.2OZX8 RRP',\n       'PT COOKNCRM TSTP 16CT 28.2OZX8 RRP',\n       'PT FR SMORES TSTP 16CT 29.3OZX8 RRP',\n       'PT 2 FLVS BITES 18CT 25.3OZX4', 'PT STRW 29.3X8',\n       'PT CHOC CHP TSTP 16CT 29.3OZX8',\n       'PT CHOC CHP CK DOUGH TSTP 16CT 28.2OZX8',\n       'PT COOKNCRM TSTP 16CT 28.2OZX8',\n       'PT HOTFDGSUN TSTP 16CT 27.1OZX8', 'PT TH MIX HDRP 140GMX400',\n       'PT MIX CHDRP 384GMX480', 'PT FRS MIX HDRP 384GMx480',\n       'PT MIX CHDRP 384GMX480 BTS NPF', 'RKTHOLPT MIX HDRP 176GMX396',\n       'RKTHOLPT MIX HDRP 176GMX396 FRT BSTR', 'PT Bites HDRP 400GMx192',\n       'PT MIX CHDRP 384GMX480 MULTISAVE',\n       'PT GINGRBRD/BITES HDRP 400GMX276', 'PT FR STSTRW HDRP 384GMX480',\n       'PT SG/BITES HDRP 400GMx264', 'PT CHRY/STRWM MIX HDRP 384GMx480',\n       'PT VRTY TSTP 48CT 81.2OZX168 CLUB BTS',\n       'PT HOTFDGSUN TSTP 384GMX12',\n       'PT 2 FLV PSTRS BITES 24CT 960GMX140 CLUB',\n       'PT 5 FLVS TSTP HUTCHX150', 'PT 2 FLVS TSTP SHPR X48',\n       'PT 8 FLVS TSTP HALF MODX300',\n       'PT CNFETTI CPCAKE BITES 10CT 14.1OZX8',\n       '3800022953 PT 5FLVS BITES HUTCHX94 BONO',\n       '3800023887 PT 3FLV TSTP QTRMODX120 BONO',\n       'PT FR STRW TSTP 12CT 22OZX12 JRSSC WRLD',\n       'PT FR BSCINN TSTP 12CT 21OZX12 JRSSCWRLD',\n       'PT FR CHRY TSTP 12CT 22OZX12 JRSSC WRLD',\n       'PT FR SMORES TSTP 12CT 22OZX12 JRSSCWRLD',\n       'PT SGR COOK BRWN BTR TSTP 3.53OZX72',\n       'PT STRW CHSCK TSTP 3.53OZX72',\n       'PT FRSTD STRW BITES 10CT 14.1OZX8',\n       'PT FRSTD CHOC FDG BITES 10CT 14.1OZX8',\n       'PT 4 FLVS TSTP HUTCHX150', 'PT 4 FLVS TSTP SHPRX150',\n       'PT 3 FLVS TSTP HUTCHX150 SPOOKY',\n       'PT MYSTERY FLVR TSTP HUTCH X150',\n       'PT 3 FLVS TSTP 24 1152GMX320 CLUB',\n       'PT 3 FLVS PSTRS 48CT 2300GMX168 CLUB',\n       'PT 3 FLVS PSTRS 48CT 2300GMX168CSTCO CLB',\n       'PT ASSORTED 1200gmx320', ' T 4 FLVS TSTP MODX252',\n       'PT FRSTD BNSGRCINN BTS 6CT 13.5OZX6 BONO',\n       'PT SRT MOD 21.67X252 12CT', 'PT MIXED SHORT MOD 14.44X360 8CT',\n       'PT FR WILD BRRY TSTP 12CT 22OZX12',\n       'PT BLUBRRY MINI CRSP 10CT 4.9OZX8',\n       'PT MINI STRW TSTP 10CT 4.9OZX8', 'PT 2 FLVS PSTRS SHPRX120',\n       'PT 3 FLVS CRISPS HUTCHX72 ELFSHELF', 'PT 4 FLVS TSTP SPHRX48',\n       'PT 3 FLVS TSTP SHPRX48 WNTR', 'PT 4 FLVS TSTP SHPRX94',\n       'PT BNA CRM TSTP 16CT X8', 'PT 6 FLVS TSTP MODX504',\n       'PT PB&J STRAW TSTP 6CT 10.5OZX12',\n       'PT 3 FLVS TSTP HUTCHX100 SEAS PT', 'PT SPRG STRW TSTP 22OZX12',\n       'PT PINK LEMNADE TSTP 21.1OZX12',\n       'PT BLUBRRIFC CRISPS 12CT 5.9OZX8 ELFSHLF',\n       'PT FR SMORES TSTP 12CT 22OZX12 SYB OPC',\n       'PT CHOC FDGE TSTP 12CT 22OZX12 SYB OPC',\n       'PT 5 FLVS TSTP HUTCHX100', 'PT WHL GRN BB TSTP 1.69OZ 10CTX12 SS',\n       'PT FL TSTP 2CT 3.3OZX72 SS', 'PT FL TSTP SHPR 24ct',\n       'PT 4 FLVS TSTP BITES 12CT & 5CT SHPRX98',\n       'PT CHOC FDGE TSTP 12CT 22OZX12 KR DYTNA',\n       'PT 3 FLVS TSTP HUTCHX150', 'PT ORG CRSH TSTP 14.1OZX12',\n       'PT RT BR TSTP 14.1OZX12', 'PT 4 FLVS MXD FDS SHPRX126',\n       'PT FR BSCINNMZG CRISPS 12CT 5.9OZX5 RRC', 'PT TSTP SHPR X48',\n       'PT 4 FLVS MXD FDS QTR MODX120', 'PT 4 FLVS TSTP SHPRX120',\n       'PT 5 FLVS TSTP HALF MODX175',\n       'PT FR STRW TSTP 8CT 14.6OZX12 NCAA-GA',\n       'PT CINN SGR TSTP PRTZL 2CT 3.3OZX72  SS',\n       'PT CHOC TSTP PRTZL 2CT 3.3OZX72  SS',\n       'PT FRSTD CHCFDG TSTP 8CT 13.5OZX12 EXPT',\n       'PT FRSTD BRWN SGR CINN BITS 3.5OZX36 SS',\n       'PT FRSTD STRWBRRY TSTP BITS 3.5OZX36 SS',\n       'PT FRST BRN SGR CIN BITS 3.5OZX36 SS BON',\n       'PT FRS STRWBRY TSTP BITS 3.5OZX36 SS BON',\n       'PT FRSTD BRWN SGR CINN BITES 3.5OZX6 SS',\n       '3800050066 PT 3 FLVS SHPR 12CTX96',\n       'PT PMKN PIE TSTP SHPRX60 SSNL PT',\n       'PT FR STRW TSTP 16CT 29.3OZX8 RRP',\n       'PT FR MIX 1/2 CSDRP 400GMX480',\n       'PT FR MIX 1/2 CSDRP 400GMX480 MLS',\n       'PT CHOC VAR TSTP 48CT 88OZX168 CLUB', 'PT 5 FLVS TSTP MODX216',\n       'PT FR WILD BRRY TSTP 16CT 30.4OZX8',\n       'PT 5 FLVS TSTP HALF MODX216 WM',\n       'PT STRW MILKSHAKE TSTP 16CT 28.2OZX8',\n       'PT 3 FLVS TSTP 68.1OZX140 VRTY PK WM BTS',\n       'PT STRW CHSCK TSTP 16CT 28.2OZX8',\n       'PT SGR COOK BRWN BTR TSTP 16CT 28.2OZX8',\n       'PT CHCY CRML SS TSTP 16CT 28.2OZX8',\n       'PT BLUBRRY TSTP 16 29.3OZX8 WM',\n       'PT FRSTD RSPBRRY TSTP  16CT 29.3OZX8 WM',\n       'PT CINN BRWN SGR TSTP 16 28.2OZX8 WM',\n       'PT CINN ROLL TSTP 16CT 28.2OZX8 WM',\n       'PT 3 FLVS TSTP 48CT 84.2OZX168 WM',\n       'PT APL CRSP TSTP 16CT 28.2OZX8',\n       'PT FRSTD BSCN BITES 10CT 14.1OZX8',\n       'PT CHOC FDG BITES 6CT 13.5OZX6',\n       'PT 2 FLVS TSTP BITES HALF MODX432',\n       'PT CHOC CPCAKE TSTP  16CT 27OZX8',\n       'PT CNFETTI CPCAKE TSTP 16CT 27OZX8',\n       'PT CHOC FDGE TSTP 16CT 29.3OZX8 RRP',\n       'PT 4 FLVS TSTP 60CT 108OZX1 ECOMM', 'PT FL TSTP 16CT 27OZX8',\n       'PT CHOC CHRRO TSTP 16CT 27OZX8', 'PT WILD BRRY TSTP 16CT 27OZX8',\n       'PT STRWBRRY MLKSHK TSTP 16CT 27OZX8',\n       'PT BLUBRRY TSTP 16CT 27OZX8', 'PT FRSTD RSPBRRY TSTP 16CT 27OZX8',\n       'PT BRWN SGR CINN TSTP 16CT 27OZX8',\n       'PT CINN ROLL TSTP 16CT 27OZX8', 'PT APL CRSP TSTP 16CT 27OZX8',\n       'PT 4 FLVS TSTP 60CT 101.5OZX1 ECOMM',\n       'PT BLUBRRIFC CRISPS SELECTX5 RCP',\n       'PT RED WHT AND BRRY TSTP 16CT 27OZX8',\n       'PT RSPBRRY TSTP 16CT 27OZX8 SPNGE BOB',\n       'PT CHOC TSTP PRTZL 12CT 20.3OZX8 RCP',\n       'PT CINN SGR TSTP PRTZL 12CT 20.3OZX8 RCP',\n       'PT 3 FLVS BITES HALF MODX136 EVDY OFR',\n       'PT FRSTD STRW 16CT 27OZX8 RTLRDY WM FTHG',\n       'PT FRSTD BRSGRCN 16CT 27OZX8 RTRDY WMFTH',\n       'PT FRSTD SMRES 16CT 27OZX8 RTLRDY WMFTHG',\n       'PT FRSTD CHCFDG 16CT 27OZX8 RTLRY WMFTHG',\n       'PT FRSTD CHRY TSTP 16CT 27OZX8 WM FTHG',\n       'PT FRSTD STRW BITES 10CT 14.1OZX8 WMFTHG',\n       'PT FRSTD BSCN BITES 10CT 14.1OZX8 WMFTHG',\n       'PT FRSTD CHFDG BTS 10CT 14.1OZX8 WM FTHG',\n       'PT CNFETICPCAKEBITES 10CT14.1OZX8 WMFTHG',\n       'PT FROSTED BSCN BITES 10CT 14.1OZX8',\n       'PT FRSTD STRW BITES 10CT 14.1OZX8 BONO',\n       'PT PINK LEMNADE TSTP 16CT 27OZX8',\n       'PT SLTD CRML TSTP PRTZL 12CT 20.3OZX8',\n       'PT FRSTD CHOC FDG BTS 10CT 14.1OZX8 BONO',\n       'PT MYSTRY FLVR TSTP 16CT 27OZX8', 'PT MANG TSTP  16CT 27OZX8',\n       'PT LEMN CRM PIE TSTP  16CT 27OZX8',\n       'PT PEACH CBLR TSTP 16CT 27OZX8',\n       'PT FRSTD BLUBRRY BITES 10CT 14.1OZX8',\n       'PT RED VLVT CPCAKE TSTP 16CT 27OZX8',\n       'PT 4 FLVS TSTP HALF MODX216 WM SSNL PT',\n       'PT 3 FLVS TSTP 48CT 81.2OZX168 CLUB ESPR',\n       'PT VRTY TSTP 48CT 81.2OZX168 CLUB ESPRTS',\n       'PT SLTD CRML TSTP 16CT 27OZX8',\n       'PT CINN SGR TSTP PRTZL 16CT 27OZX8 WM',\n       'PT 5 FLVS TSTP  HALF MODX216 WM',\n       'PT 5 FLVS TSTP HALF MODX216 WM SSNL PT',\n       'PT CHOC CHRRO TSTP 16CT 27OZX8 DOTD',\n       'PT CK&CRM 16CT 27OZX8 RTL RDY FGHT HNGR',\n       'PT 3 FLVS 48CT 81.2OZX168 CLB FGHT HNGR',\n       'PT VRTY 48CT 81.2OZX168 CLUB FGHT HNGR',\n       'PT MCHA LTE TSTP 27OZX8', 'PT STRWBRRY BNA BITES 10CT 14.1OZX8',\n       'PT FRSTD BB PT 10CT 14.1OZX8 FHT HNGR',\n       'PT 3 FLVS TSTP 68.1OZX140 WM BTS', 'PT APL FRTR TSTP 16ct 27OZX8',\n       'PT BSTN CRM TSTP 16ct 27OZX8', 'PT EGGO FLVR TSTP 16ct 27OZX8',\n       'PT BITES PWS VRTY 21.5OZX8 ADVENT CAL WM',\n       'PT GNGRBREAD TSTP 16CT 27OZX8 WNTR',\n       'PT 6 FLVS TSTP HALF MODX168', 'PT GRP TSTP 16CT 27OZX8',\n       'PT CHOCFDGBITES 28CT 25.6OZX4 ALDI HALWN',\n       'PT FRSTD STRW TSTP 27OZX8 RTL RDY GNGRBD',\n       'PT FRSTD BRSGRCN TSTP 27OZX8 RTLRDY GGBD',\n       'PT FRSTD SMORES TSTP 27OZX8 RTL RDY GGBD',\n       'PT FRSTD CHCFDG TSTP 27OZX8 RTL RDY GGBD',\n       'PT 6 FLVS TSTP HALF MODX204 WM', 'PT AJ TSTP 16CT 27OZX8',\n       'PT BNA BRD TSTP 16CT 27OZX8',\n       'PT FRSTD STRW BITES 10CT 14.1OZX8 ELFSHF',\n       'PT PMKN PIE TSTP 16CT 27OZX8',\n       'PT CINN ROLL TSTP BITES 10CT 14.1OZX8', 'PT 4 FLVS TSTP MODX360',\n       'PT CHOCY CHIP PNCK TSTP 16CT 27OZX8',\n       'PT FRSTDCHRY TSTP 16CT 27OZX8 WM ENTNGLD',\n       'PT FRSTD STRWBRRY TSTP PPRS 10CT10OZX6',\n       'PT CHOC BRWNIE TSTP PPRS 10CT 10OZX6',\n       'PT PCHS CRM TSTP 16CT 27OZX8 WM', 'PT PB TSTP 12CT 21.1OZX12',\n       'PT CHOC PB TSTP 12CT 21.1OZX12',\n       'PT FR STRWBRRYLCS CRISPS 12CT 5.9OZX8 ES',\n       'PT WHL GRN STRW TSTP 2CT 3.3OZX72 SS', 'PT FL TSTP SHPRX72',\n       'PT 2 FLVS TSTP PRTZL SHPRX48',\n       'PT WHLGRN BRNSGCN TSTP 1.69OZ 10CTX12 SS',\n       'PT WHL GRN STRW TSTP 1.69OZ 10CTX12 SS', 'PT 5 FLVS TSTP MODX360',\n       'PT FRSTD STRWBRRY TSTP SHPRX8', 'PT 3 FLVS TSTP SHPRX8',\n       'PT 1 FLV TSTP DISP TRAY X8', 'PT 3 FLVS TSTP DISP TRAY X8',\n       'PT 3 FLVS TSTP PDQ TRAYX8 SSNL PT',\n       'PT 2 FLVS TSTP PDQ TRAYX8 SPNGE BOB',\n       'PT 2 FLVS TSTP DISP TRAYX8 SSNL PT', 'PT 2 FLVS BITES PDQ TRAYX8',\n       'PT 2 FLVS TSTP DISP TRAYX8 ALDI', 'PT 3 FLVS TSTP SHPRX12 ALDI',\n       'PT 2 FLVS TSTP PDQ TRAYX8', '2 FLVR TSTP PDQ TRAY 12CT ALDI SSNL',\n       'PT 2 FLVS TSTP PDQ 12CT SSNL ALDI',\n       'PT FRSTDSTRWBRRY TSTP 20.3OZX12 ALDI DRC',\n       'PT PINK LEMNADE TSTP 12CT 20.3OZX12 ALDI',\n       'PT SWTSWL CKCP BITES 28CT25.6OZX4 RTLRDY',\n       'PT 2 FLVS TSTP SHPRX12', 'PT GNGRBRD HOL HDRP 576GMx360',\n       'PT CHOC CHP TSTP 14.7X8 RCP',\n       'PT CHOC CHP CK DOUGH TSTP 14.1OZX8 RCP',\n       'PT 2 FLVS TSTP HALF MODX300', 'PT CHOC FDGE TSTP 22OZX12 WIP CS',\n       'PT SMORES TSTP 22OZX12 WIP CS',\n       'PT FR STRW TSTP 29.3OZX8 WIP CS PRNT FLM',\n       'PT FR BLBRY TSTP 29.3OZX8 WIP CS PRT FLM',\n       'PT FR CHRY TSTP 29.3OZX8 WIP CS PRNT FLM',\n       'PT HOTFDGSUN TSTP 13.5OZX12 WIP CS PRFLM',\n       'PT STRW NON-GMO TSTP 8CT 14.1OZX12 WIPCS',\n       'PT CHC FDG TSTP 12CT 20.3OZX12 WIP CS',\n       'PT FR SMRS TSTP 12CT 20.3OZX12 WIP',\n       'PT FR STRW TSTP 16CT 27OZX8 WIP PRNT FLM',\n       'PT FR BLBRY TSTP 16CT 27OZX8 WIP PRT FLM',\n       'PT FR CHRY TSTP 16CT 27OZX8 WIP PRNT FLM',\n       'PT CHC FDG TSTP 16CT 27OZX8 WIP PRNT FLM',\n       'PT COOKNCRM TSTP 16CT 27OZX8 WIP PRT FLM', 'PT TSTP MOD X600',\n       'PT MIXED 21.75OZX12', 'PT TSTP 12CT MODX504',\n       'PT WHL GRN CHOC TSTP 1.69OZ 10CTX12 SS',\n       'PT WHL GRN CHOC TSTP 2CT 3.3OZX72 SS',\n       'PT FR BSCINN TSTP 8CT 14OZX12 EXP EQTY',\n       'PT 6 FLVS TSTP PIVOT HALF MODX175 MEIJER',\n       'PT 8 FLVS TSTP PIVOT HALF MODX300 MEIJER',\n       'PT 5 FLVS TSTP 3 LAYER MODX252', 'PT PMKN PIE TSTP 3.53OZX72 SS',\n       'PT PMKN PIE TSTP SHPRX72',\n       'PT WHL GRN BLUBRRY TSTP 2CT 3.3OZX72 SS',\n       'PT 3 FLVS BITES 30CT 14.1OZX1 VTYPK ECOM',\n       'PT 3 FLVS TSTP SHPR X24', 'PT 4 FLVS TSTP SHPR X48',\n       'PT WHL GRN CHOC TSTP 1CT 1.6OZX120 SS',\n       'PT WHL GRN BLUBRRY TSTP 1CT 1.6OZX120 SS',\n       'PT WHLGRN BRNSGCN TSTP 1CT 1.6OZX120 SS',\n       'PT WHLGRN BRNSGCN TSTP 2CT 3.3OZX72 SS',\n       'PT WHL GRN STRW TSTP 1CT 1.6OZX120 SS',\n       'PT 3 FLVS TSTP HUTCHX150 SSNL PT', 'PT 2 FLVS TSTP SHPRX8',\n       'PT FRSTD STRWBRY TSTP 8CT 13.5OZX12 EXPT',\n       'PT COOK&CRM TSTP 8CT 13.5OZX12 EXPT',\n       'PT FRSTD CHRY TSTP 8CT 13.5OZX12 EXPT',\n       'PT FRSTD SMORES TSTP 8CT 13.5OZX12 EXPT',\n       'PT FRSTD BLUBRRY TSTP 8CT 13.5OZX12 EXPT',\n       'PT FRSTD CHCFDG TSTP 12CT 20.3OZX12 WIP',\n       'PT 2 FLVS TSTP BITES SHPRX36',\n       '3800023469 PT 2 STP BITES SHPRX36 BONO',\n       'PT 2FLV TSTP 60CT 101.59OZX1 ECOMM VTYPK',\n       'PT FRST BSGR CINN 64CT 108.35OZX1 ECOMM',\n       'PT FRST STRW TSTP 64CT 108.3X1 ECOMM RPK',\n       'PT 3 FLVS TSTP SHPRX72', 'PT 3 FLVS BITES 48 CT SHPR',\n       'PT WG STRW TSTP 1CT 16.9OZX120 SS NLI UP',\n       'PT 6 FLVS MOD 14.56X360',\n       'PT FRSTDBRNSGRCIN TSTP 12CT20.3OZX12 WIP',\n       'PT FRSTDSTRWBRRY TSTP 12CT 20.3OZX12 WIP',\n       'PT 3 FLVS TSTP DISP TRAY X12 SEAS',\n       'PT 2 FLVS TSTP PRTZL 32CT 54.1OZX240',\n       'PT FR BSCINN TSTP 12CT 21OZX12 MRE FRSTN',\n       'PT FR STRW TSTP 12CT 22OZX12 MRE FRSTNG',\n       'PT FR SMORES TSTP 12CT 22OZX12 MRE FRSTN',\n       '3800017875 PT 3 FLVS TSTP SHPRX60PLTBASE',\n       'PT SPDYBRRY TSTP SHPRX60 SPDRMN', 'PT 4 FLVS BITES  HUTCHX94',\n       'PT 2 FLVS TSTP PPRS 15CT 15OZX1 ECOMM',\n       'PT 3 FLVS BITES 30CT 42.3OZX1 ECOMM',\n       'PT 2 FLVS TSTP DISP TRAY X8', 'PT MIX 1/2 DRP 400gmx480 MLS',\n       'PT FRS MIX HDRP 384GMx480 BTS NPF',\n       'PT FRS MIX HDRP 384GMx480 CrnchNLI'], dtype=object)"
     },
     "execution_count": 15,
     "metadata": {},
     "output_type": "execute_result"
    }
   ],
   "source": [
    "PLN['Mixd Plt Matrl Desc'].unique()"
   ],
   "metadata": {
    "collapsed": false,
    "ExecuteTime": {
     "end_time": "2024-03-06T00:32:14.642101800Z",
     "start_time": "2024-03-06T00:32:14.460840600Z"
    }
   },
   "execution_count": 15
  },
  {
   "cell_type": "code",
   "execution_count": 5,
   "metadata": {
    "ExecuteTime": {
     "end_time": "2024-03-06T00:24:02.120527200Z",
     "start_time": "2024-03-06T00:24:01.830643300Z"
    }
   },
   "outputs": [
    {
     "data": {
      "text/plain": "         Prod Hier Brand Prod Hier Brand Desc  Prod Hier Typ  \\\n0             2010100052            Pop-Tarts   2.010100e+13   \n1             2010100052            Pop-Tarts   2.010100e+13   \n2             2010100052            Pop-Tarts   2.010100e+13   \n3             2010100052            Pop-Tarts   2.010100e+13   \n4             2010100052            Pop-Tarts   2.010100e+13   \n...                  ...                  ...            ...   \n1325643       2010100052            Pop-Tarts   2.010100e+13   \n1325644       2010100052            Pop-Tarts   2.010100e+13   \n1325645       2010100052            Pop-Tarts   2.010100e+13   \n1325646       2010100052            Pop-Tarts   2.010100e+13   \n1325647       2010100052            Pop-Tarts   2.010100e+13   \n\n        Prod Hier Typ Desc  QTR          Sub Catg SZ     Tier Nm  WK  Yr & Wk  \n0              Pop-Tarts S    1  TOASTER PASTRIES  S  DPI - WEST   1   2023&1  \n1              Pop-Tarts S    1  TOASTER PASTRIES  S  DPI - WEST   2   2023&2  \n2              Pop-Tarts S    1  TOASTER PASTRIES  S  DPI - WEST   3   2023&3  \n3              Pop-Tarts S    1  TOASTER PASTRIES  S  DPI - WEST   4   2023&4  \n4              Pop-Tarts S    1  TOASTER PASTRIES  S  DPI - WEST   5   2023&5  \n...                    ...  ...               ... ..         ...  ..      ...  \n1325643        Pop-Tarts S    2  TOASTER PASTRIES  S  OOH CANADA  17  2020&17  \n1325644        Pop-Tarts S    2  TOASTER PASTRIES  S  OOH CANADA  18  2020&18  \n1325645        Pop-Tarts S    2  TOASTER PASTRIES  S  OOH CANADA  19  2020&19  \n1325646        Pop-Tarts S    2  TOASTER PASTRIES  S  OOH CANADA  20  2020&20  \n1325647        Pop-Tarts S    2  TOASTER PASTRIES  S  OOH CANADA  19  2020&19  \n\n[1325648 rows x 10 columns]",
      "text/html": "<div>\n<style scoped>\n    .dataframe tbody tr th:only-of-type {\n        vertical-align: middle;\n    }\n\n    .dataframe tbody tr th {\n        vertical-align: top;\n    }\n\n    .dataframe thead th {\n        text-align: right;\n    }\n</style>\n<table border=\"1\" class=\"dataframe\">\n  <thead>\n    <tr style=\"text-align: right;\">\n      <th></th>\n      <th>Prod Hier Brand</th>\n      <th>Prod Hier Brand Desc</th>\n      <th>Prod Hier Typ</th>\n      <th>Prod Hier Typ Desc</th>\n      <th>QTR</th>\n      <th>Sub Catg</th>\n      <th>SZ</th>\n      <th>Tier Nm</th>\n      <th>WK</th>\n      <th>Yr &amp; Wk</th>\n    </tr>\n  </thead>\n  <tbody>\n    <tr>\n      <th>0</th>\n      <td>2010100052</td>\n      <td>Pop-Tarts</td>\n      <td>2.010100e+13</td>\n      <td>Pop-Tarts S</td>\n      <td>1</td>\n      <td>TOASTER PASTRIES</td>\n      <td>S</td>\n      <td>DPI - WEST</td>\n      <td>1</td>\n      <td>2023&amp;1</td>\n    </tr>\n    <tr>\n      <th>1</th>\n      <td>2010100052</td>\n      <td>Pop-Tarts</td>\n      <td>2.010100e+13</td>\n      <td>Pop-Tarts S</td>\n      <td>1</td>\n      <td>TOASTER PASTRIES</td>\n      <td>S</td>\n      <td>DPI - WEST</td>\n      <td>2</td>\n      <td>2023&amp;2</td>\n    </tr>\n    <tr>\n      <th>2</th>\n      <td>2010100052</td>\n      <td>Pop-Tarts</td>\n      <td>2.010100e+13</td>\n      <td>Pop-Tarts S</td>\n      <td>1</td>\n      <td>TOASTER PASTRIES</td>\n      <td>S</td>\n      <td>DPI - WEST</td>\n      <td>3</td>\n      <td>2023&amp;3</td>\n    </tr>\n    <tr>\n      <th>3</th>\n      <td>2010100052</td>\n      <td>Pop-Tarts</td>\n      <td>2.010100e+13</td>\n      <td>Pop-Tarts S</td>\n      <td>1</td>\n      <td>TOASTER PASTRIES</td>\n      <td>S</td>\n      <td>DPI - WEST</td>\n      <td>4</td>\n      <td>2023&amp;4</td>\n    </tr>\n    <tr>\n      <th>4</th>\n      <td>2010100052</td>\n      <td>Pop-Tarts</td>\n      <td>2.010100e+13</td>\n      <td>Pop-Tarts S</td>\n      <td>1</td>\n      <td>TOASTER PASTRIES</td>\n      <td>S</td>\n      <td>DPI - WEST</td>\n      <td>5</td>\n      <td>2023&amp;5</td>\n    </tr>\n    <tr>\n      <th>...</th>\n      <td>...</td>\n      <td>...</td>\n      <td>...</td>\n      <td>...</td>\n      <td>...</td>\n      <td>...</td>\n      <td>...</td>\n      <td>...</td>\n      <td>...</td>\n      <td>...</td>\n    </tr>\n    <tr>\n      <th>1325643</th>\n      <td>2010100052</td>\n      <td>Pop-Tarts</td>\n      <td>2.010100e+13</td>\n      <td>Pop-Tarts S</td>\n      <td>2</td>\n      <td>TOASTER PASTRIES</td>\n      <td>S</td>\n      <td>OOH CANADA</td>\n      <td>17</td>\n      <td>2020&amp;17</td>\n    </tr>\n    <tr>\n      <th>1325644</th>\n      <td>2010100052</td>\n      <td>Pop-Tarts</td>\n      <td>2.010100e+13</td>\n      <td>Pop-Tarts S</td>\n      <td>2</td>\n      <td>TOASTER PASTRIES</td>\n      <td>S</td>\n      <td>OOH CANADA</td>\n      <td>18</td>\n      <td>2020&amp;18</td>\n    </tr>\n    <tr>\n      <th>1325645</th>\n      <td>2010100052</td>\n      <td>Pop-Tarts</td>\n      <td>2.010100e+13</td>\n      <td>Pop-Tarts S</td>\n      <td>2</td>\n      <td>TOASTER PASTRIES</td>\n      <td>S</td>\n      <td>OOH CANADA</td>\n      <td>19</td>\n      <td>2020&amp;19</td>\n    </tr>\n    <tr>\n      <th>1325646</th>\n      <td>2010100052</td>\n      <td>Pop-Tarts</td>\n      <td>2.010100e+13</td>\n      <td>Pop-Tarts S</td>\n      <td>2</td>\n      <td>TOASTER PASTRIES</td>\n      <td>S</td>\n      <td>OOH CANADA</td>\n      <td>20</td>\n      <td>2020&amp;20</td>\n    </tr>\n    <tr>\n      <th>1325647</th>\n      <td>2010100052</td>\n      <td>Pop-Tarts</td>\n      <td>2.010100e+13</td>\n      <td>Pop-Tarts S</td>\n      <td>2</td>\n      <td>TOASTER PASTRIES</td>\n      <td>S</td>\n      <td>OOH CANADA</td>\n      <td>19</td>\n      <td>2020&amp;19</td>\n    </tr>\n  </tbody>\n</table>\n<p>1325648 rows × 10 columns</p>\n</div>"
     },
     "execution_count": 5,
     "metadata": {},
     "output_type": "execute_result"
    }
   ],
   "source": [
    "import pandas as pd\n",
    "df_preview = PLN.iloc[:,20:30]\n",
    "\n",
    "# Display the DataFrame preview\n",
    "df_preview"
   ]
  },
  {
   "cell_type": "code",
   "execution_count": 6,
   "metadata": {
    "ExecuteTime": {
     "end_time": "2024-03-06T00:24:02.174365300Z",
     "start_time": "2024-03-06T00:24:01.977071200Z"
    }
   },
   "outputs": [
    {
     "data": {
      "text/plain": "         Act Nsv Prxy Usd  Act Sc Prxy Usd  Actl Cost Of Prod Usd  \\\n0                    0.00             0.00                   0.00   \n1                    0.00             0.00                   0.00   \n2                    0.00             0.00                   0.00   \n3                    0.00             0.00                   0.00   \n4                    0.00             0.00                   0.00   \n...                   ...              ...                    ...   \n1325643           1252.80           965.68                 287.12   \n1325644           1252.80           965.68                 287.12   \n1325645             99.72            78.19                  21.53   \n1325646            626.40           482.84                 143.56   \n1325647             96.84            71.19                  25.65   \n\n         Actl Ship Cs  Actl Ship Kg  Actl Ship Lbs  Actl Ship Units  \\\n0                 0.0          0.00           0.00              0.0   \n1                 0.0          0.00           0.00              0.0   \n2                 0.0          0.00           0.00              0.0   \n3                 0.0          0.00           0.00              0.0   \n4                 0.0          0.00           0.00              0.0   \n...               ...           ...            ...              ...   \n1325643          40.0        191.96         423.20            480.0   \n1325644          40.0        191.96         423.20            480.0   \n1325645           3.0         14.40          31.74             36.0   \n1325646          20.0         95.98         211.60            240.0   \n1325647           3.0         14.40          31.74             36.0   \n\n         Actl Ship Usd  Latst Estmt Cost Of Prod Usd  \\\n0                 0.00                          0.00   \n1                 0.00                          0.00   \n2                 0.00                          0.00   \n3                 0.00                          0.00   \n4                 0.00                          0.00   \n...                ...                           ...   \n1325643        1252.80                        287.12   \n1325644        1252.80                        287.12   \n1325645          99.72                         21.53   \n1325646         626.40                        143.56   \n1325647          96.84                         25.65   \n\n         Latst Estmt Cost Of Prod Usd Fxd  \n0                                    0.00  \n1                                    0.00  \n2                                    0.00  \n3                                    0.00  \n4                                    0.00  \n...                                   ...  \n1325643                             85.86  \n1325644                             85.86  \n1325645                              6.44  \n1325646                             42.93  \n1325647                             10.56  \n\n[1325648 rows x 10 columns]",
      "text/html": "<div>\n<style scoped>\n    .dataframe tbody tr th:only-of-type {\n        vertical-align: middle;\n    }\n\n    .dataframe tbody tr th {\n        vertical-align: top;\n    }\n\n    .dataframe thead th {\n        text-align: right;\n    }\n</style>\n<table border=\"1\" class=\"dataframe\">\n  <thead>\n    <tr style=\"text-align: right;\">\n      <th></th>\n      <th>Act Nsv Prxy Usd</th>\n      <th>Act Sc Prxy Usd</th>\n      <th>Actl Cost Of Prod Usd</th>\n      <th>Actl Ship Cs</th>\n      <th>Actl Ship Kg</th>\n      <th>Actl Ship Lbs</th>\n      <th>Actl Ship Units</th>\n      <th>Actl Ship Usd</th>\n      <th>Latst Estmt Cost Of Prod Usd</th>\n      <th>Latst Estmt Cost Of Prod Usd Fxd</th>\n    </tr>\n  </thead>\n  <tbody>\n    <tr>\n      <th>0</th>\n      <td>0.00</td>\n      <td>0.00</td>\n      <td>0.00</td>\n      <td>0.0</td>\n      <td>0.00</td>\n      <td>0.00</td>\n      <td>0.0</td>\n      <td>0.00</td>\n      <td>0.00</td>\n      <td>0.00</td>\n    </tr>\n    <tr>\n      <th>1</th>\n      <td>0.00</td>\n      <td>0.00</td>\n      <td>0.00</td>\n      <td>0.0</td>\n      <td>0.00</td>\n      <td>0.00</td>\n      <td>0.0</td>\n      <td>0.00</td>\n      <td>0.00</td>\n      <td>0.00</td>\n    </tr>\n    <tr>\n      <th>2</th>\n      <td>0.00</td>\n      <td>0.00</td>\n      <td>0.00</td>\n      <td>0.0</td>\n      <td>0.00</td>\n      <td>0.00</td>\n      <td>0.0</td>\n      <td>0.00</td>\n      <td>0.00</td>\n      <td>0.00</td>\n    </tr>\n    <tr>\n      <th>3</th>\n      <td>0.00</td>\n      <td>0.00</td>\n      <td>0.00</td>\n      <td>0.0</td>\n      <td>0.00</td>\n      <td>0.00</td>\n      <td>0.0</td>\n      <td>0.00</td>\n      <td>0.00</td>\n      <td>0.00</td>\n    </tr>\n    <tr>\n      <th>4</th>\n      <td>0.00</td>\n      <td>0.00</td>\n      <td>0.00</td>\n      <td>0.0</td>\n      <td>0.00</td>\n      <td>0.00</td>\n      <td>0.0</td>\n      <td>0.00</td>\n      <td>0.00</td>\n      <td>0.00</td>\n    </tr>\n    <tr>\n      <th>...</th>\n      <td>...</td>\n      <td>...</td>\n      <td>...</td>\n      <td>...</td>\n      <td>...</td>\n      <td>...</td>\n      <td>...</td>\n      <td>...</td>\n      <td>...</td>\n      <td>...</td>\n    </tr>\n    <tr>\n      <th>1325643</th>\n      <td>1252.80</td>\n      <td>965.68</td>\n      <td>287.12</td>\n      <td>40.0</td>\n      <td>191.96</td>\n      <td>423.20</td>\n      <td>480.0</td>\n      <td>1252.80</td>\n      <td>287.12</td>\n      <td>85.86</td>\n    </tr>\n    <tr>\n      <th>1325644</th>\n      <td>1252.80</td>\n      <td>965.68</td>\n      <td>287.12</td>\n      <td>40.0</td>\n      <td>191.96</td>\n      <td>423.20</td>\n      <td>480.0</td>\n      <td>1252.80</td>\n      <td>287.12</td>\n      <td>85.86</td>\n    </tr>\n    <tr>\n      <th>1325645</th>\n      <td>99.72</td>\n      <td>78.19</td>\n      <td>21.53</td>\n      <td>3.0</td>\n      <td>14.40</td>\n      <td>31.74</td>\n      <td>36.0</td>\n      <td>99.72</td>\n      <td>21.53</td>\n      <td>6.44</td>\n    </tr>\n    <tr>\n      <th>1325646</th>\n      <td>626.40</td>\n      <td>482.84</td>\n      <td>143.56</td>\n      <td>20.0</td>\n      <td>95.98</td>\n      <td>211.60</td>\n      <td>240.0</td>\n      <td>626.40</td>\n      <td>143.56</td>\n      <td>42.93</td>\n    </tr>\n    <tr>\n      <th>1325647</th>\n      <td>96.84</td>\n      <td>71.19</td>\n      <td>25.65</td>\n      <td>3.0</td>\n      <td>14.40</td>\n      <td>31.74</td>\n      <td>36.0</td>\n      <td>96.84</td>\n      <td>25.65</td>\n      <td>10.56</td>\n    </tr>\n  </tbody>\n</table>\n<p>1325648 rows × 10 columns</p>\n</div>"
     },
     "execution_count": 6,
     "metadata": {},
     "output_type": "execute_result"
    }
   ],
   "source": [
    "import pandas as pd\n",
    "df_preview = PLN.iloc[:,30:40]\n",
    "\n",
    "# Display the DataFrame preview\n",
    "df_preview"
   ]
  },
  {
   "cell_type": "code",
   "execution_count": 7,
   "metadata": {
    "ExecuteTime": {
     "end_time": "2024-03-06T00:24:02.468197900Z",
     "start_time": "2024-03-06T00:24:02.040342200Z"
    }
   },
   "outputs": [
    {
     "data": {
      "text/plain": "         Latst Estmt Gsv  Latst Estmt Kmf Usd  Latst Estmt Nsv Prxy Usd  \\\n0                   0.00                  0.0                      0.00   \n1                   0.00                  0.0                      0.00   \n2                   0.00                  0.0                      0.00   \n3                   0.00                  0.0                      0.00   \n4                   0.00                  0.0                      0.00   \n...                  ...                  ...                       ...   \n1325643          1252.80                  0.0                   1252.80   \n1325644          1252.80                  0.0                   1252.80   \n1325645            99.72                  0.0                     99.72   \n1325646           626.40                  0.0                    626.40   \n1325647            96.84                  0.0                     96.84   \n\n         Latst Estmt Sc Prxy Usd  Latst Estmt Sc Prxy Usd Gsv  \\\n0                           0.00                         0.00   \n1                           0.00                         0.00   \n2                           0.00                         0.00   \n3                           0.00                         0.00   \n4                           0.00                         0.00   \n...                          ...                          ...   \n1325643                   965.68                       965.68   \n1325644                   965.68                       965.68   \n1325645                    78.19                        78.19   \n1325646                   482.84                       482.84   \n1325647                    71.19                        71.19   \n\n         Latst Estmt Ship Lbs  Latst Estmt Ship Units  Le Cop Fixed  Le Cs  \\\n0                        0.00                     0.0          0.00    0.0   \n1                        0.00                     0.0          0.00    0.0   \n2                        0.00                     0.0          0.00    0.0   \n3                        0.00                     0.0          0.00    0.0   \n4                        0.00                     0.0          0.00    0.0   \n...                       ...                     ...           ...    ...   \n1325643                423.20                   480.0        380.80   40.0   \n1325644                423.20                   480.0        380.80   40.0   \n1325645                 31.74                    36.0         28.56    3.0   \n1325646                211.60                   240.0        190.40   20.0   \n1325647                 31.74                    36.0         36.21    3.0   \n\n         Le Kgs  \n0          0.00  \n1          0.00  \n2          0.00  \n3          0.00  \n4          0.00  \n...         ...  \n1325643  191.96  \n1325644  191.96  \n1325645   14.40  \n1325646   95.98  \n1325647   14.40  \n\n[1325648 rows x 10 columns]",
      "text/html": "<div>\n<style scoped>\n    .dataframe tbody tr th:only-of-type {\n        vertical-align: middle;\n    }\n\n    .dataframe tbody tr th {\n        vertical-align: top;\n    }\n\n    .dataframe thead th {\n        text-align: right;\n    }\n</style>\n<table border=\"1\" class=\"dataframe\">\n  <thead>\n    <tr style=\"text-align: right;\">\n      <th></th>\n      <th>Latst Estmt Gsv</th>\n      <th>Latst Estmt Kmf Usd</th>\n      <th>Latst Estmt Nsv Prxy Usd</th>\n      <th>Latst Estmt Sc Prxy Usd</th>\n      <th>Latst Estmt Sc Prxy Usd Gsv</th>\n      <th>Latst Estmt Ship Lbs</th>\n      <th>Latst Estmt Ship Units</th>\n      <th>Le Cop Fixed</th>\n      <th>Le Cs</th>\n      <th>Le Kgs</th>\n    </tr>\n  </thead>\n  <tbody>\n    <tr>\n      <th>0</th>\n      <td>0.00</td>\n      <td>0.0</td>\n      <td>0.00</td>\n      <td>0.00</td>\n      <td>0.00</td>\n      <td>0.00</td>\n      <td>0.0</td>\n      <td>0.00</td>\n      <td>0.0</td>\n      <td>0.00</td>\n    </tr>\n    <tr>\n      <th>1</th>\n      <td>0.00</td>\n      <td>0.0</td>\n      <td>0.00</td>\n      <td>0.00</td>\n      <td>0.00</td>\n      <td>0.00</td>\n      <td>0.0</td>\n      <td>0.00</td>\n      <td>0.0</td>\n      <td>0.00</td>\n    </tr>\n    <tr>\n      <th>2</th>\n      <td>0.00</td>\n      <td>0.0</td>\n      <td>0.00</td>\n      <td>0.00</td>\n      <td>0.00</td>\n      <td>0.00</td>\n      <td>0.0</td>\n      <td>0.00</td>\n      <td>0.0</td>\n      <td>0.00</td>\n    </tr>\n    <tr>\n      <th>3</th>\n      <td>0.00</td>\n      <td>0.0</td>\n      <td>0.00</td>\n      <td>0.00</td>\n      <td>0.00</td>\n      <td>0.00</td>\n      <td>0.0</td>\n      <td>0.00</td>\n      <td>0.0</td>\n      <td>0.00</td>\n    </tr>\n    <tr>\n      <th>4</th>\n      <td>0.00</td>\n      <td>0.0</td>\n      <td>0.00</td>\n      <td>0.00</td>\n      <td>0.00</td>\n      <td>0.00</td>\n      <td>0.0</td>\n      <td>0.00</td>\n      <td>0.0</td>\n      <td>0.00</td>\n    </tr>\n    <tr>\n      <th>...</th>\n      <td>...</td>\n      <td>...</td>\n      <td>...</td>\n      <td>...</td>\n      <td>...</td>\n      <td>...</td>\n      <td>...</td>\n      <td>...</td>\n      <td>...</td>\n      <td>...</td>\n    </tr>\n    <tr>\n      <th>1325643</th>\n      <td>1252.80</td>\n      <td>0.0</td>\n      <td>1252.80</td>\n      <td>965.68</td>\n      <td>965.68</td>\n      <td>423.20</td>\n      <td>480.0</td>\n      <td>380.80</td>\n      <td>40.0</td>\n      <td>191.96</td>\n    </tr>\n    <tr>\n      <th>1325644</th>\n      <td>1252.80</td>\n      <td>0.0</td>\n      <td>1252.80</td>\n      <td>965.68</td>\n      <td>965.68</td>\n      <td>423.20</td>\n      <td>480.0</td>\n      <td>380.80</td>\n      <td>40.0</td>\n      <td>191.96</td>\n    </tr>\n    <tr>\n      <th>1325645</th>\n      <td>99.72</td>\n      <td>0.0</td>\n      <td>99.72</td>\n      <td>78.19</td>\n      <td>78.19</td>\n      <td>31.74</td>\n      <td>36.0</td>\n      <td>28.56</td>\n      <td>3.0</td>\n      <td>14.40</td>\n    </tr>\n    <tr>\n      <th>1325646</th>\n      <td>626.40</td>\n      <td>0.0</td>\n      <td>626.40</td>\n      <td>482.84</td>\n      <td>482.84</td>\n      <td>211.60</td>\n      <td>240.0</td>\n      <td>190.40</td>\n      <td>20.0</td>\n      <td>95.98</td>\n    </tr>\n    <tr>\n      <th>1325647</th>\n      <td>96.84</td>\n      <td>0.0</td>\n      <td>96.84</td>\n      <td>71.19</td>\n      <td>71.19</td>\n      <td>31.74</td>\n      <td>36.0</td>\n      <td>36.21</td>\n      <td>3.0</td>\n      <td>14.40</td>\n    </tr>\n  </tbody>\n</table>\n<p>1325648 rows × 10 columns</p>\n</div>"
     },
     "execution_count": 7,
     "metadata": {},
     "output_type": "execute_result"
    }
   ],
   "source": [
    "import pandas as pd\n",
    "df_preview = PLN.iloc[:,40:50]\n",
    "\n",
    "# Display the DataFrame preview\n",
    "df_preview"
   ]
  },
  {
   "cell_type": "code",
   "execution_count": 8,
   "metadata": {
    "ExecuteTime": {
     "end_time": "2024-03-06T00:24:02.689699400Z",
     "start_time": "2024-03-06T00:24:02.123518800Z"
    }
   },
   "outputs": [
    {
     "data": {
      "text/plain": "         Le Price Chng Usd  PD  Pln Base Cs  Pln Base Lbs  Pln Base Rtn Usd  \\\n0                      0.0   1          0.0           0.0               0.0   \n1                      0.0   1          0.0           0.0               0.0   \n2                      0.0   1          0.0           0.0               0.0   \n3                      0.0   1          0.0           0.0               0.0   \n4                      0.0   2          0.0           0.0               0.0   \n...                    ...  ..          ...           ...               ...   \n1325643                0.0   4          0.0           0.0               0.0   \n1325644                0.0   5          0.0           0.0               0.0   \n1325645                0.0   5          0.0           0.0               0.0   \n1325646                0.0   5          0.0           0.0               0.0   \n1325647                0.0   5          0.0           0.0               0.0   \n\n         Pln Base Units  Pln Base Usd  Pln Cons Lbs  Pln Cons Rtn Usd  \\\n0                   0.0           0.0           0.0               0.0   \n1                   0.0           0.0           0.0               0.0   \n2                   0.0           0.0           0.0               0.0   \n3                   0.0           0.0           0.0               0.0   \n4                   0.0           0.0           0.0               0.0   \n...                 ...           ...           ...               ...   \n1325643             0.0           0.0           0.0               0.0   \n1325644             0.0           0.0           0.0               0.0   \n1325645             0.0           0.0           0.0               0.0   \n1325646             0.0           0.0           0.0               0.0   \n1325647             0.0           0.0           0.0               0.0   \n\n         Pln Cons Units  \n0                   0.0  \n1                   0.0  \n2                   0.0  \n3                   0.0  \n4                   0.0  \n...                 ...  \n1325643             0.0  \n1325644             0.0  \n1325645             0.0  \n1325646             0.0  \n1325647             0.0  \n\n[1325648 rows x 10 columns]",
      "text/html": "<div>\n<style scoped>\n    .dataframe tbody tr th:only-of-type {\n        vertical-align: middle;\n    }\n\n    .dataframe tbody tr th {\n        vertical-align: top;\n    }\n\n    .dataframe thead th {\n        text-align: right;\n    }\n</style>\n<table border=\"1\" class=\"dataframe\">\n  <thead>\n    <tr style=\"text-align: right;\">\n      <th></th>\n      <th>Le Price Chng Usd</th>\n      <th>PD</th>\n      <th>Pln Base Cs</th>\n      <th>Pln Base Lbs</th>\n      <th>Pln Base Rtn Usd</th>\n      <th>Pln Base Units</th>\n      <th>Pln Base Usd</th>\n      <th>Pln Cons Lbs</th>\n      <th>Pln Cons Rtn Usd</th>\n      <th>Pln Cons Units</th>\n    </tr>\n  </thead>\n  <tbody>\n    <tr>\n      <th>0</th>\n      <td>0.0</td>\n      <td>1</td>\n      <td>0.0</td>\n      <td>0.0</td>\n      <td>0.0</td>\n      <td>0.0</td>\n      <td>0.0</td>\n      <td>0.0</td>\n      <td>0.0</td>\n      <td>0.0</td>\n    </tr>\n    <tr>\n      <th>1</th>\n      <td>0.0</td>\n      <td>1</td>\n      <td>0.0</td>\n      <td>0.0</td>\n      <td>0.0</td>\n      <td>0.0</td>\n      <td>0.0</td>\n      <td>0.0</td>\n      <td>0.0</td>\n      <td>0.0</td>\n    </tr>\n    <tr>\n      <th>2</th>\n      <td>0.0</td>\n      <td>1</td>\n      <td>0.0</td>\n      <td>0.0</td>\n      <td>0.0</td>\n      <td>0.0</td>\n      <td>0.0</td>\n      <td>0.0</td>\n      <td>0.0</td>\n      <td>0.0</td>\n    </tr>\n    <tr>\n      <th>3</th>\n      <td>0.0</td>\n      <td>1</td>\n      <td>0.0</td>\n      <td>0.0</td>\n      <td>0.0</td>\n      <td>0.0</td>\n      <td>0.0</td>\n      <td>0.0</td>\n      <td>0.0</td>\n      <td>0.0</td>\n    </tr>\n    <tr>\n      <th>4</th>\n      <td>0.0</td>\n      <td>2</td>\n      <td>0.0</td>\n      <td>0.0</td>\n      <td>0.0</td>\n      <td>0.0</td>\n      <td>0.0</td>\n      <td>0.0</td>\n      <td>0.0</td>\n      <td>0.0</td>\n    </tr>\n    <tr>\n      <th>...</th>\n      <td>...</td>\n      <td>...</td>\n      <td>...</td>\n      <td>...</td>\n      <td>...</td>\n      <td>...</td>\n      <td>...</td>\n      <td>...</td>\n      <td>...</td>\n      <td>...</td>\n    </tr>\n    <tr>\n      <th>1325643</th>\n      <td>0.0</td>\n      <td>4</td>\n      <td>0.0</td>\n      <td>0.0</td>\n      <td>0.0</td>\n      <td>0.0</td>\n      <td>0.0</td>\n      <td>0.0</td>\n      <td>0.0</td>\n      <td>0.0</td>\n    </tr>\n    <tr>\n      <th>1325644</th>\n      <td>0.0</td>\n      <td>5</td>\n      <td>0.0</td>\n      <td>0.0</td>\n      <td>0.0</td>\n      <td>0.0</td>\n      <td>0.0</td>\n      <td>0.0</td>\n      <td>0.0</td>\n      <td>0.0</td>\n    </tr>\n    <tr>\n      <th>1325645</th>\n      <td>0.0</td>\n      <td>5</td>\n      <td>0.0</td>\n      <td>0.0</td>\n      <td>0.0</td>\n      <td>0.0</td>\n      <td>0.0</td>\n      <td>0.0</td>\n      <td>0.0</td>\n      <td>0.0</td>\n    </tr>\n    <tr>\n      <th>1325646</th>\n      <td>0.0</td>\n      <td>5</td>\n      <td>0.0</td>\n      <td>0.0</td>\n      <td>0.0</td>\n      <td>0.0</td>\n      <td>0.0</td>\n      <td>0.0</td>\n      <td>0.0</td>\n      <td>0.0</td>\n    </tr>\n    <tr>\n      <th>1325647</th>\n      <td>0.0</td>\n      <td>5</td>\n      <td>0.0</td>\n      <td>0.0</td>\n      <td>0.0</td>\n      <td>0.0</td>\n      <td>0.0</td>\n      <td>0.0</td>\n      <td>0.0</td>\n      <td>0.0</td>\n    </tr>\n  </tbody>\n</table>\n<p>1325648 rows × 10 columns</p>\n</div>"
     },
     "execution_count": 8,
     "metadata": {},
     "output_type": "execute_result"
    }
   ],
   "source": [
    "import pandas as pd\n",
    "df_preview = PLN.iloc[:,50:60]\n",
    "\n",
    "# Display the DataFrame preview\n",
    "df_preview"
   ]
  },
  {
   "cell_type": "code",
   "execution_count": 9,
   "metadata": {
    "ExecuteTime": {
     "end_time": "2024-03-06T00:24:02.783449Z",
     "start_time": "2024-03-06T00:24:02.198566Z"
    }
   },
   "outputs": [
    {
     "data": {
      "text/plain": "         Pln Cons Usd  Pln Inc Usd  Pln Incr Cs  Pln Incr Lbs  \\\n0                 0.0          0.0          0.0           0.0   \n1                 0.0          0.0          0.0           0.0   \n2                 0.0          0.0          0.0           0.0   \n3                 0.0          0.0          0.0           0.0   \n4                 0.0          0.0          0.0           0.0   \n...               ...          ...          ...           ...   \n1325643           0.0          0.0          0.0           0.0   \n1325644           0.0          0.0          0.0           0.0   \n1325645           0.0          0.0          0.0           0.0   \n1325646           0.0          0.0          0.0           0.0   \n1325647           0.0          0.0          0.0           0.0   \n\n         Pln Incr Rtn Usd  Pln Incr Ship Cs  Pln Incr Ship Kgs  \\\n0                     0.0               0.0                0.0   \n1                     0.0               0.0                0.0   \n2                     0.0               0.0                0.0   \n3                     0.0               0.0                0.0   \n4                     0.0               0.0                0.0   \n...                   ...               ...                ...   \n1325643               0.0               0.0                0.0   \n1325644               0.0               0.0                0.0   \n1325645               0.0               0.0                0.0   \n1325646               0.0               0.0                0.0   \n1325647               0.0               0.0                0.0   \n\n         Pln Incr Ship Lbs  Pln Incr Ship Units  Pln Incr Ship Usd  \n0                      0.0                  0.0                0.0  \n1                      0.0                  0.0                0.0  \n2                      0.0                  0.0                0.0  \n3                      0.0                  0.0                0.0  \n4                      0.0                  0.0                0.0  \n...                    ...                  ...                ...  \n1325643                0.0                  0.0                0.0  \n1325644                0.0                  0.0                0.0  \n1325645                0.0                  0.0                0.0  \n1325646                0.0                  0.0                0.0  \n1325647                0.0                  0.0                0.0  \n\n[1325648 rows x 10 columns]",
      "text/html": "<div>\n<style scoped>\n    .dataframe tbody tr th:only-of-type {\n        vertical-align: middle;\n    }\n\n    .dataframe tbody tr th {\n        vertical-align: top;\n    }\n\n    .dataframe thead th {\n        text-align: right;\n    }\n</style>\n<table border=\"1\" class=\"dataframe\">\n  <thead>\n    <tr style=\"text-align: right;\">\n      <th></th>\n      <th>Pln Cons Usd</th>\n      <th>Pln Inc Usd</th>\n      <th>Pln Incr Cs</th>\n      <th>Pln Incr Lbs</th>\n      <th>Pln Incr Rtn Usd</th>\n      <th>Pln Incr Ship Cs</th>\n      <th>Pln Incr Ship Kgs</th>\n      <th>Pln Incr Ship Lbs</th>\n      <th>Pln Incr Ship Units</th>\n      <th>Pln Incr Ship Usd</th>\n    </tr>\n  </thead>\n  <tbody>\n    <tr>\n      <th>0</th>\n      <td>0.0</td>\n      <td>0.0</td>\n      <td>0.0</td>\n      <td>0.0</td>\n      <td>0.0</td>\n      <td>0.0</td>\n      <td>0.0</td>\n      <td>0.0</td>\n      <td>0.0</td>\n      <td>0.0</td>\n    </tr>\n    <tr>\n      <th>1</th>\n      <td>0.0</td>\n      <td>0.0</td>\n      <td>0.0</td>\n      <td>0.0</td>\n      <td>0.0</td>\n      <td>0.0</td>\n      <td>0.0</td>\n      <td>0.0</td>\n      <td>0.0</td>\n      <td>0.0</td>\n    </tr>\n    <tr>\n      <th>2</th>\n      <td>0.0</td>\n      <td>0.0</td>\n      <td>0.0</td>\n      <td>0.0</td>\n      <td>0.0</td>\n      <td>0.0</td>\n      <td>0.0</td>\n      <td>0.0</td>\n      <td>0.0</td>\n      <td>0.0</td>\n    </tr>\n    <tr>\n      <th>3</th>\n      <td>0.0</td>\n      <td>0.0</td>\n      <td>0.0</td>\n      <td>0.0</td>\n      <td>0.0</td>\n      <td>0.0</td>\n      <td>0.0</td>\n      <td>0.0</td>\n      <td>0.0</td>\n      <td>0.0</td>\n    </tr>\n    <tr>\n      <th>4</th>\n      <td>0.0</td>\n      <td>0.0</td>\n      <td>0.0</td>\n      <td>0.0</td>\n      <td>0.0</td>\n      <td>0.0</td>\n      <td>0.0</td>\n      <td>0.0</td>\n      <td>0.0</td>\n      <td>0.0</td>\n    </tr>\n    <tr>\n      <th>...</th>\n      <td>...</td>\n      <td>...</td>\n      <td>...</td>\n      <td>...</td>\n      <td>...</td>\n      <td>...</td>\n      <td>...</td>\n      <td>...</td>\n      <td>...</td>\n      <td>...</td>\n    </tr>\n    <tr>\n      <th>1325643</th>\n      <td>0.0</td>\n      <td>0.0</td>\n      <td>0.0</td>\n      <td>0.0</td>\n      <td>0.0</td>\n      <td>0.0</td>\n      <td>0.0</td>\n      <td>0.0</td>\n      <td>0.0</td>\n      <td>0.0</td>\n    </tr>\n    <tr>\n      <th>1325644</th>\n      <td>0.0</td>\n      <td>0.0</td>\n      <td>0.0</td>\n      <td>0.0</td>\n      <td>0.0</td>\n      <td>0.0</td>\n      <td>0.0</td>\n      <td>0.0</td>\n      <td>0.0</td>\n      <td>0.0</td>\n    </tr>\n    <tr>\n      <th>1325645</th>\n      <td>0.0</td>\n      <td>0.0</td>\n      <td>0.0</td>\n      <td>0.0</td>\n      <td>0.0</td>\n      <td>0.0</td>\n      <td>0.0</td>\n      <td>0.0</td>\n      <td>0.0</td>\n      <td>0.0</td>\n    </tr>\n    <tr>\n      <th>1325646</th>\n      <td>0.0</td>\n      <td>0.0</td>\n      <td>0.0</td>\n      <td>0.0</td>\n      <td>0.0</td>\n      <td>0.0</td>\n      <td>0.0</td>\n      <td>0.0</td>\n      <td>0.0</td>\n      <td>0.0</td>\n    </tr>\n    <tr>\n      <th>1325647</th>\n      <td>0.0</td>\n      <td>0.0</td>\n      <td>0.0</td>\n      <td>0.0</td>\n      <td>0.0</td>\n      <td>0.0</td>\n      <td>0.0</td>\n      <td>0.0</td>\n      <td>0.0</td>\n      <td>0.0</td>\n    </tr>\n  </tbody>\n</table>\n<p>1325648 rows × 10 columns</p>\n</div>"
     },
     "execution_count": 9,
     "metadata": {},
     "output_type": "execute_result"
    }
   ],
   "source": [
    "import pandas as pd\n",
    "df_preview = PLN.iloc[:,60:70]\n",
    "\n",
    "# Display the DataFrame preview\n",
    "df_preview"
   ]
  },
  {
   "cell_type": "code",
   "execution_count": 10,
   "metadata": {
    "ExecuteTime": {
     "end_time": "2024-03-06T00:24:02.791459400Z",
     "start_time": "2024-03-06T00:24:02.279531Z"
    }
   },
   "outputs": [
    {
     "data": {
      "text/plain": "         Pln Incr Units  Pln Kmf  Pln Nsv Prxy Usd  Pln Sc Prxy Usd  \\\n0                   0.0      0.0               0.0              0.0   \n1                   0.0      0.0               0.0              0.0   \n2                   0.0      0.0               0.0              0.0   \n3                   0.0      0.0               0.0              0.0   \n4                   0.0      0.0               0.0              0.0   \n...                 ...      ...               ...              ...   \n1325643             0.0      0.0               0.0              0.0   \n1325644             0.0      0.0               0.0              0.0   \n1325645             0.0      0.0               0.0              0.0   \n1325646             0.0      0.0               0.0              0.0   \n1325647             0.0      0.0               0.0              0.0   \n\n         Pln Ship Cs  Pln Ship Ea  Pln Ship Kg  Pln Ship Lbs  Pln Ship Usd  \\\n0                0.0          0.0          0.0           0.0           0.0   \n1                0.0          0.0          0.0           0.0           0.0   \n2                0.0          0.0          0.0           0.0           0.0   \n3                0.0          0.0          0.0           0.0           0.0   \n4                0.0          0.0          0.0           0.0           0.0   \n...              ...          ...          ...           ...           ...   \n1325643          0.0          0.0          0.0           0.0           0.0   \n1325644          0.0          0.0          0.0           0.0           0.0   \n1325645          0.0          0.0          0.0           0.0           0.0   \n1325646          0.0          0.0          0.0           0.0           0.0   \n1325647          0.0          0.0          0.0           0.0           0.0   \n\n         Sugstd Base Vol Sas  \n0                        0.0  \n1                        0.0  \n2                        0.0  \n3                        0.0  \n4                        0.0  \n...                      ...  \n1325643                  0.0  \n1325644                  0.0  \n1325645                  0.0  \n1325646                  0.0  \n1325647                  0.0  \n\n[1325648 rows x 10 columns]",
      "text/html": "<div>\n<style scoped>\n    .dataframe tbody tr th:only-of-type {\n        vertical-align: middle;\n    }\n\n    .dataframe tbody tr th {\n        vertical-align: top;\n    }\n\n    .dataframe thead th {\n        text-align: right;\n    }\n</style>\n<table border=\"1\" class=\"dataframe\">\n  <thead>\n    <tr style=\"text-align: right;\">\n      <th></th>\n      <th>Pln Incr Units</th>\n      <th>Pln Kmf</th>\n      <th>Pln Nsv Prxy Usd</th>\n      <th>Pln Sc Prxy Usd</th>\n      <th>Pln Ship Cs</th>\n      <th>Pln Ship Ea</th>\n      <th>Pln Ship Kg</th>\n      <th>Pln Ship Lbs</th>\n      <th>Pln Ship Usd</th>\n      <th>Sugstd Base Vol Sas</th>\n    </tr>\n  </thead>\n  <tbody>\n    <tr>\n      <th>0</th>\n      <td>0.0</td>\n      <td>0.0</td>\n      <td>0.0</td>\n      <td>0.0</td>\n      <td>0.0</td>\n      <td>0.0</td>\n      <td>0.0</td>\n      <td>0.0</td>\n      <td>0.0</td>\n      <td>0.0</td>\n    </tr>\n    <tr>\n      <th>1</th>\n      <td>0.0</td>\n      <td>0.0</td>\n      <td>0.0</td>\n      <td>0.0</td>\n      <td>0.0</td>\n      <td>0.0</td>\n      <td>0.0</td>\n      <td>0.0</td>\n      <td>0.0</td>\n      <td>0.0</td>\n    </tr>\n    <tr>\n      <th>2</th>\n      <td>0.0</td>\n      <td>0.0</td>\n      <td>0.0</td>\n      <td>0.0</td>\n      <td>0.0</td>\n      <td>0.0</td>\n      <td>0.0</td>\n      <td>0.0</td>\n      <td>0.0</td>\n      <td>0.0</td>\n    </tr>\n    <tr>\n      <th>3</th>\n      <td>0.0</td>\n      <td>0.0</td>\n      <td>0.0</td>\n      <td>0.0</td>\n      <td>0.0</td>\n      <td>0.0</td>\n      <td>0.0</td>\n      <td>0.0</td>\n      <td>0.0</td>\n      <td>0.0</td>\n    </tr>\n    <tr>\n      <th>4</th>\n      <td>0.0</td>\n      <td>0.0</td>\n      <td>0.0</td>\n      <td>0.0</td>\n      <td>0.0</td>\n      <td>0.0</td>\n      <td>0.0</td>\n      <td>0.0</td>\n      <td>0.0</td>\n      <td>0.0</td>\n    </tr>\n    <tr>\n      <th>...</th>\n      <td>...</td>\n      <td>...</td>\n      <td>...</td>\n      <td>...</td>\n      <td>...</td>\n      <td>...</td>\n      <td>...</td>\n      <td>...</td>\n      <td>...</td>\n      <td>...</td>\n    </tr>\n    <tr>\n      <th>1325643</th>\n      <td>0.0</td>\n      <td>0.0</td>\n      <td>0.0</td>\n      <td>0.0</td>\n      <td>0.0</td>\n      <td>0.0</td>\n      <td>0.0</td>\n      <td>0.0</td>\n      <td>0.0</td>\n      <td>0.0</td>\n    </tr>\n    <tr>\n      <th>1325644</th>\n      <td>0.0</td>\n      <td>0.0</td>\n      <td>0.0</td>\n      <td>0.0</td>\n      <td>0.0</td>\n      <td>0.0</td>\n      <td>0.0</td>\n      <td>0.0</td>\n      <td>0.0</td>\n      <td>0.0</td>\n    </tr>\n    <tr>\n      <th>1325645</th>\n      <td>0.0</td>\n      <td>0.0</td>\n      <td>0.0</td>\n      <td>0.0</td>\n      <td>0.0</td>\n      <td>0.0</td>\n      <td>0.0</td>\n      <td>0.0</td>\n      <td>0.0</td>\n      <td>0.0</td>\n    </tr>\n    <tr>\n      <th>1325646</th>\n      <td>0.0</td>\n      <td>0.0</td>\n      <td>0.0</td>\n      <td>0.0</td>\n      <td>0.0</td>\n      <td>0.0</td>\n      <td>0.0</td>\n      <td>0.0</td>\n      <td>0.0</td>\n      <td>0.0</td>\n    </tr>\n    <tr>\n      <th>1325647</th>\n      <td>0.0</td>\n      <td>0.0</td>\n      <td>0.0</td>\n      <td>0.0</td>\n      <td>0.0</td>\n      <td>0.0</td>\n      <td>0.0</td>\n      <td>0.0</td>\n      <td>0.0</td>\n      <td>0.0</td>\n    </tr>\n  </tbody>\n</table>\n<p>1325648 rows × 10 columns</p>\n</div>"
     },
     "execution_count": 10,
     "metadata": {},
     "output_type": "execute_result"
    }
   ],
   "source": [
    "import pandas as pd\n",
    "df_preview = PLN.iloc[:,70:80]\n",
    "\n",
    "# Display the DataFrame preview\n",
    "df_preview"
   ]
  },
  {
   "cell_type": "code",
   "execution_count": 11,
   "metadata": {
    "ExecuteTime": {
     "end_time": "2024-03-06T00:24:02.794420800Z",
     "start_time": "2024-03-06T00:24:02.421200600Z"
    }
   },
   "outputs": [
    {
     "data": {
      "text/plain": "         Sugstd Shlf Prc Sas  Totl Pln Kmf Cost Of Prod Usd\n0                        0.0                            0.0\n1                        0.0                            0.0\n2                        0.0                            0.0\n3                        0.0                            0.0\n4                        0.0                            0.0\n...                      ...                            ...\n1325643                  0.0                            0.0\n1325644                  0.0                            0.0\n1325645                  0.0                            0.0\n1325646                  0.0                            0.0\n1325647                  0.0                            0.0\n\n[1325648 rows x 2 columns]",
      "text/html": "<div>\n<style scoped>\n    .dataframe tbody tr th:only-of-type {\n        vertical-align: middle;\n    }\n\n    .dataframe tbody tr th {\n        vertical-align: top;\n    }\n\n    .dataframe thead th {\n        text-align: right;\n    }\n</style>\n<table border=\"1\" class=\"dataframe\">\n  <thead>\n    <tr style=\"text-align: right;\">\n      <th></th>\n      <th>Sugstd Shlf Prc Sas</th>\n      <th>Totl Pln Kmf Cost Of Prod Usd</th>\n    </tr>\n  </thead>\n  <tbody>\n    <tr>\n      <th>0</th>\n      <td>0.0</td>\n      <td>0.0</td>\n    </tr>\n    <tr>\n      <th>1</th>\n      <td>0.0</td>\n      <td>0.0</td>\n    </tr>\n    <tr>\n      <th>2</th>\n      <td>0.0</td>\n      <td>0.0</td>\n    </tr>\n    <tr>\n      <th>3</th>\n      <td>0.0</td>\n      <td>0.0</td>\n    </tr>\n    <tr>\n      <th>4</th>\n      <td>0.0</td>\n      <td>0.0</td>\n    </tr>\n    <tr>\n      <th>...</th>\n      <td>...</td>\n      <td>...</td>\n    </tr>\n    <tr>\n      <th>1325643</th>\n      <td>0.0</td>\n      <td>0.0</td>\n    </tr>\n    <tr>\n      <th>1325644</th>\n      <td>0.0</td>\n      <td>0.0</td>\n    </tr>\n    <tr>\n      <th>1325645</th>\n      <td>0.0</td>\n      <td>0.0</td>\n    </tr>\n    <tr>\n      <th>1325646</th>\n      <td>0.0</td>\n      <td>0.0</td>\n    </tr>\n    <tr>\n      <th>1325647</th>\n      <td>0.0</td>\n      <td>0.0</td>\n    </tr>\n  </tbody>\n</table>\n<p>1325648 rows × 2 columns</p>\n</div>"
     },
     "execution_count": 11,
     "metadata": {},
     "output_type": "execute_result"
    }
   ],
   "source": [
    "import pandas as pd\n",
    "df_preview = PLN.iloc[:,80:90]\n",
    "\n",
    "# Display the DataFrame preview\n",
    "df_preview"
   ]
  },
  {
   "cell_type": "code",
   "execution_count": 12,
   "metadata": {
    "ExecuteTime": {
     "end_time": "2024-03-06T00:24:06.256588100Z",
     "start_time": "2024-03-06T00:24:02.469179Z"
    }
   },
   "outputs": [
    {
     "data": {
      "text/plain": "             Cal Wk       Fisc Yr         Matrl  Mixd Plt Matrl    Pln To Nbr  \\\ncount  1.325648e+06  1.325648e+06  1.325648e+06    1.325648e+06  1.325648e+06   \nmean   2.022015e+05  2.021749e+03  3.966791e+09    3.966799e+09  3.010369e+05   \nstd    1.412108e+02  1.404878e+00  6.418143e+08    6.418031e+08  6.698014e+02   \nmin    2.020010e+05  2.020000e+03  1.700036e+08    1.700036e+08  3.000230e+05   \n25%    2.020510e+05  2.020000e+03  3.800022e+09    3.800022e+09  3.005440e+05   \n50%    2.022080e+05  2.022000e+03  3.800022e+09    3.800022e+09  3.008880e+05   \n75%    2.023250e+05  2.023000e+03  3.800025e+09    3.800025e+09  3.013660e+05   \nmax    2.024520e+05  2.024000e+03  6.410077e+09    6.410077e+09  3.039790e+05   \n\n       Prod Hier Brand  Prod Hier Typ           QTR            WK  \\\ncount     1.325648e+06   1.325388e+06  1.325648e+06  1.325648e+06   \nmean      2.010100e+09   2.010100e+13  2.504921e+00  2.659533e+01   \nstd       1.228289e-03   1.425053e+01  1.115820e+00  1.499448e+01   \nmin       2.010100e+09   2.010100e+13  1.000000e+00  1.000000e+00   \n25%       2.010100e+09   2.010100e+13  2.000000e+00  1.400000e+01   \n50%       2.010100e+09   2.010100e+13  3.000000e+00  2.700000e+01   \n75%       2.010100e+09   2.010100e+13  3.000000e+00  3.900000e+01   \nmax       2.010100e+09   2.010100e+13  4.000000e+00  5.300000e+01   \n\n       Act Nsv Prxy Usd  ...  Pln Nsv Prxy Usd  Pln Sc Prxy Usd   Pln Ship Cs  \\\ncount      1.325648e+06  ...      1.325648e+06     1.325648e+06  1.325648e+06   \nmean       1.993754e+03  ...      2.862731e+03     1.767029e+03  1.568141e+02   \nstd        1.919583e+04  ...      2.019878e+04     1.216194e+04  1.610015e+03   \nmin       -1.658277e+06  ...     -5.430750e+05    -5.430750e+05 -1.661200e+03   \n25%       -3.352250e+01  ...      0.000000e+00     0.000000e+00  0.000000e+00   \n50%        0.000000e+00  ...      0.000000e+00     0.000000e+00  0.000000e+00   \n75%        0.000000e+00  ...      9.482225e+02     6.238000e+02  3.746000e+01   \nmax        2.436376e+06  ...      2.792750e+06     1.224300e+06  3.393600e+05   \n\n        Pln Ship Ea   Pln Ship Kg  Pln Ship Lbs  Pln Ship Usd  \\\ncount  1.325648e+06  1.325648e+06  1.325648e+06  1.325648e+06   \nmean   1.017821e+03  6.129556e+02  1.351310e+03  3.662257e+03   \nstd    5.903688e+03  4.806235e+03  1.059567e+04  2.542945e+04   \nmin   -9.716100e+03 -5.596330e+03 -1.233783e+04 -3.157733e+04   \n25%    0.000000e+00  0.000000e+00  0.000000e+00  0.000000e+00   \n50%    0.000000e+00  0.000000e+00  0.000000e+00  0.000000e+00   \n75%    3.820700e+02  1.607600e+02  3.543800e+02  1.117905e+03   \nmax    7.600000e+05  6.019776e+05  1.327116e+06  3.503600e+06   \n\n       Sugstd Base Vol Sas  Sugstd Shlf Prc Sas  Totl Pln Kmf Cost Of Prod Usd  \ncount         1.325648e+06         1.325648e+06                   1.325648e+06  \nmean          9.809683e+01         1.608689e+00                   1.095701e+03  \nstd           9.149356e+02         2.064457e+00                   8.650781e+03  \nmin          -1.990000e+02         0.000000e+00                  -1.708646e+04  \n25%           0.000000e+00         0.000000e+00                   0.000000e+00  \n50%           0.000000e+00         0.000000e+00                   0.000000e+00  \n75%           2.600000e+01         3.190000e+00                   3.071200e+02  \nmax           6.535800e+04         9.500000e+01                   1.568450e+06  \n\n[8 rows x 61 columns]",
      "text/html": "<div>\n<style scoped>\n    .dataframe tbody tr th:only-of-type {\n        vertical-align: middle;\n    }\n\n    .dataframe tbody tr th {\n        vertical-align: top;\n    }\n\n    .dataframe thead th {\n        text-align: right;\n    }\n</style>\n<table border=\"1\" class=\"dataframe\">\n  <thead>\n    <tr style=\"text-align: right;\">\n      <th></th>\n      <th>Cal Wk</th>\n      <th>Fisc Yr</th>\n      <th>Matrl</th>\n      <th>Mixd Plt Matrl</th>\n      <th>Pln To Nbr</th>\n      <th>Prod Hier Brand</th>\n      <th>Prod Hier Typ</th>\n      <th>QTR</th>\n      <th>WK</th>\n      <th>Act Nsv Prxy Usd</th>\n      <th>...</th>\n      <th>Pln Nsv Prxy Usd</th>\n      <th>Pln Sc Prxy Usd</th>\n      <th>Pln Ship Cs</th>\n      <th>Pln Ship Ea</th>\n      <th>Pln Ship Kg</th>\n      <th>Pln Ship Lbs</th>\n      <th>Pln Ship Usd</th>\n      <th>Sugstd Base Vol Sas</th>\n      <th>Sugstd Shlf Prc Sas</th>\n      <th>Totl Pln Kmf Cost Of Prod Usd</th>\n    </tr>\n  </thead>\n  <tbody>\n    <tr>\n      <th>count</th>\n      <td>1.325648e+06</td>\n      <td>1.325648e+06</td>\n      <td>1.325648e+06</td>\n      <td>1.325648e+06</td>\n      <td>1.325648e+06</td>\n      <td>1.325648e+06</td>\n      <td>1.325388e+06</td>\n      <td>1.325648e+06</td>\n      <td>1.325648e+06</td>\n      <td>1.325648e+06</td>\n      <td>...</td>\n      <td>1.325648e+06</td>\n      <td>1.325648e+06</td>\n      <td>1.325648e+06</td>\n      <td>1.325648e+06</td>\n      <td>1.325648e+06</td>\n      <td>1.325648e+06</td>\n      <td>1.325648e+06</td>\n      <td>1.325648e+06</td>\n      <td>1.325648e+06</td>\n      <td>1.325648e+06</td>\n    </tr>\n    <tr>\n      <th>mean</th>\n      <td>2.022015e+05</td>\n      <td>2.021749e+03</td>\n      <td>3.966791e+09</td>\n      <td>3.966799e+09</td>\n      <td>3.010369e+05</td>\n      <td>2.010100e+09</td>\n      <td>2.010100e+13</td>\n      <td>2.504921e+00</td>\n      <td>2.659533e+01</td>\n      <td>1.993754e+03</td>\n      <td>...</td>\n      <td>2.862731e+03</td>\n      <td>1.767029e+03</td>\n      <td>1.568141e+02</td>\n      <td>1.017821e+03</td>\n      <td>6.129556e+02</td>\n      <td>1.351310e+03</td>\n      <td>3.662257e+03</td>\n      <td>9.809683e+01</td>\n      <td>1.608689e+00</td>\n      <td>1.095701e+03</td>\n    </tr>\n    <tr>\n      <th>std</th>\n      <td>1.412108e+02</td>\n      <td>1.404878e+00</td>\n      <td>6.418143e+08</td>\n      <td>6.418031e+08</td>\n      <td>6.698014e+02</td>\n      <td>1.228289e-03</td>\n      <td>1.425053e+01</td>\n      <td>1.115820e+00</td>\n      <td>1.499448e+01</td>\n      <td>1.919583e+04</td>\n      <td>...</td>\n      <td>2.019878e+04</td>\n      <td>1.216194e+04</td>\n      <td>1.610015e+03</td>\n      <td>5.903688e+03</td>\n      <td>4.806235e+03</td>\n      <td>1.059567e+04</td>\n      <td>2.542945e+04</td>\n      <td>9.149356e+02</td>\n      <td>2.064457e+00</td>\n      <td>8.650781e+03</td>\n    </tr>\n    <tr>\n      <th>min</th>\n      <td>2.020010e+05</td>\n      <td>2.020000e+03</td>\n      <td>1.700036e+08</td>\n      <td>1.700036e+08</td>\n      <td>3.000230e+05</td>\n      <td>2.010100e+09</td>\n      <td>2.010100e+13</td>\n      <td>1.000000e+00</td>\n      <td>1.000000e+00</td>\n      <td>-1.658277e+06</td>\n      <td>...</td>\n      <td>-5.430750e+05</td>\n      <td>-5.430750e+05</td>\n      <td>-1.661200e+03</td>\n      <td>-9.716100e+03</td>\n      <td>-5.596330e+03</td>\n      <td>-1.233783e+04</td>\n      <td>-3.157733e+04</td>\n      <td>-1.990000e+02</td>\n      <td>0.000000e+00</td>\n      <td>-1.708646e+04</td>\n    </tr>\n    <tr>\n      <th>25%</th>\n      <td>2.020510e+05</td>\n      <td>2.020000e+03</td>\n      <td>3.800022e+09</td>\n      <td>3.800022e+09</td>\n      <td>3.005440e+05</td>\n      <td>2.010100e+09</td>\n      <td>2.010100e+13</td>\n      <td>2.000000e+00</td>\n      <td>1.400000e+01</td>\n      <td>-3.352250e+01</td>\n      <td>...</td>\n      <td>0.000000e+00</td>\n      <td>0.000000e+00</td>\n      <td>0.000000e+00</td>\n      <td>0.000000e+00</td>\n      <td>0.000000e+00</td>\n      <td>0.000000e+00</td>\n      <td>0.000000e+00</td>\n      <td>0.000000e+00</td>\n      <td>0.000000e+00</td>\n      <td>0.000000e+00</td>\n    </tr>\n    <tr>\n      <th>50%</th>\n      <td>2.022080e+05</td>\n      <td>2.022000e+03</td>\n      <td>3.800022e+09</td>\n      <td>3.800022e+09</td>\n      <td>3.008880e+05</td>\n      <td>2.010100e+09</td>\n      <td>2.010100e+13</td>\n      <td>3.000000e+00</td>\n      <td>2.700000e+01</td>\n      <td>0.000000e+00</td>\n      <td>...</td>\n      <td>0.000000e+00</td>\n      <td>0.000000e+00</td>\n      <td>0.000000e+00</td>\n      <td>0.000000e+00</td>\n      <td>0.000000e+00</td>\n      <td>0.000000e+00</td>\n      <td>0.000000e+00</td>\n      <td>0.000000e+00</td>\n      <td>0.000000e+00</td>\n      <td>0.000000e+00</td>\n    </tr>\n    <tr>\n      <th>75%</th>\n      <td>2.023250e+05</td>\n      <td>2.023000e+03</td>\n      <td>3.800025e+09</td>\n      <td>3.800025e+09</td>\n      <td>3.013660e+05</td>\n      <td>2.010100e+09</td>\n      <td>2.010100e+13</td>\n      <td>3.000000e+00</td>\n      <td>3.900000e+01</td>\n      <td>0.000000e+00</td>\n      <td>...</td>\n      <td>9.482225e+02</td>\n      <td>6.238000e+02</td>\n      <td>3.746000e+01</td>\n      <td>3.820700e+02</td>\n      <td>1.607600e+02</td>\n      <td>3.543800e+02</td>\n      <td>1.117905e+03</td>\n      <td>2.600000e+01</td>\n      <td>3.190000e+00</td>\n      <td>3.071200e+02</td>\n    </tr>\n    <tr>\n      <th>max</th>\n      <td>2.024520e+05</td>\n      <td>2.024000e+03</td>\n      <td>6.410077e+09</td>\n      <td>6.410077e+09</td>\n      <td>3.039790e+05</td>\n      <td>2.010100e+09</td>\n      <td>2.010100e+13</td>\n      <td>4.000000e+00</td>\n      <td>5.300000e+01</td>\n      <td>2.436376e+06</td>\n      <td>...</td>\n      <td>2.792750e+06</td>\n      <td>1.224300e+06</td>\n      <td>3.393600e+05</td>\n      <td>7.600000e+05</td>\n      <td>6.019776e+05</td>\n      <td>1.327116e+06</td>\n      <td>3.503600e+06</td>\n      <td>6.535800e+04</td>\n      <td>9.500000e+01</td>\n      <td>1.568450e+06</td>\n    </tr>\n  </tbody>\n</table>\n<p>8 rows × 61 columns</p>\n</div>"
     },
     "execution_count": 12,
     "metadata": {},
     "output_type": "execute_result"
    }
   ],
   "source": [
    "PLN.describe()"
   ]
  },
  {
   "cell_type": "code",
   "execution_count": 13,
   "metadata": {
    "ExecuteTime": {
     "end_time": "2024-03-06T00:24:07.796697700Z",
     "start_time": "2024-03-06T00:24:06.255587300Z"
    }
   },
   "outputs": [
    {
     "name": "stdout",
     "output_type": "stream",
     "text": [
      "<class 'pandas.core.frame.DataFrame'>\n",
      "RangeIndex: 1325648 entries, 0 to 1325647\n",
      "Data columns (total 82 columns):\n",
      " #   Column                            Non-Null Count    Dtype  \n",
      "---  ------                            --------------    -----  \n",
      " 0   All In Flg                        1325648 non-null  object \n",
      " 1   Alt Segment                       1325648 non-null  object \n",
      " 2   BU                                1325648 non-null  object \n",
      " 3   Cal Wk                            1325648 non-null  int64  \n",
      " 4   Can Catg                          1325648 non-null  object \n",
      " 5   Catg                              1325648 non-null  object \n",
      " 6   Curr                              1325648 non-null  object \n",
      " 7   Fisc Yr                           1325648 non-null  int64  \n",
      " 8   Lvl A                             1325648 non-null  object \n",
      " 9   Lvl B                             1325648 non-null  object \n",
      " 10  Lvl C                             1325648 non-null  object \n",
      " 11  Lvl D                             1325648 non-null  object \n",
      " 12  Lvl E                             1325648 non-null  object \n",
      " 13  Matrl                             1325648 non-null  int64  \n",
      " 14  Mixd Plt Flg                      1325648 non-null  object \n",
      " 15  Mixd Plt Matrl                    1325648 non-null  int64  \n",
      " 16  Mixd Plt Matrl Desc               1325648 non-null  object \n",
      " 17  Pd Yr                             1325648 non-null  object \n",
      " 18  Pln To Nbr                        1325648 non-null  int64  \n",
      " 19  Pln To Nm                         1325648 non-null  object \n",
      " 20  Prod Hier Brand                   1325648 non-null  int64  \n",
      " 21  Prod Hier Brand Desc              1325648 non-null  object \n",
      " 22  Prod Hier Typ                     1325388 non-null  float64\n",
      " 23  Prod Hier Typ Desc                1325388 non-null  object \n",
      " 24  QTR                               1325648 non-null  int64  \n",
      " 25  Sub Catg                          1325648 non-null  object \n",
      " 26  SZ                                1167935 non-null  object \n",
      " 27  Tier Nm                           1325648 non-null  object \n",
      " 28  WK                                1325648 non-null  int64  \n",
      " 29  Yr & Wk                           1325648 non-null  object \n",
      " 30  Act Nsv Prxy Usd                  1325648 non-null  float64\n",
      " 31  Act Sc Prxy Usd                   1325648 non-null  float64\n",
      " 32  Actl Cost Of Prod Usd             1325648 non-null  float64\n",
      " 33  Actl Ship Cs                      1325648 non-null  float64\n",
      " 34  Actl Ship Kg                      1325648 non-null  float64\n",
      " 35  Actl Ship Lbs                     1325648 non-null  float64\n",
      " 36  Actl Ship Units                   1325648 non-null  float64\n",
      " 37  Actl Ship Usd                     1325648 non-null  float64\n",
      " 38  Latst Estmt Cost Of Prod Usd      1325648 non-null  float64\n",
      " 39  Latst Estmt Cost Of Prod Usd Fxd  1325648 non-null  float64\n",
      " 40  Latst Estmt Gsv                   1325648 non-null  float64\n",
      " 41  Latst Estmt Kmf Usd               1325648 non-null  float64\n",
      " 42  Latst Estmt Nsv Prxy Usd          1325648 non-null  float64\n",
      " 43  Latst Estmt Sc Prxy Usd           1325648 non-null  float64\n",
      " 44  Latst Estmt Sc Prxy Usd Gsv       1325648 non-null  float64\n",
      " 45  Latst Estmt Ship Lbs              1325648 non-null  float64\n",
      " 46  Latst Estmt Ship Units            1325648 non-null  float64\n",
      " 47  Le Cop Fixed                      1325648 non-null  float64\n",
      " 48  Le Cs                             1325648 non-null  float64\n",
      " 49  Le Kgs                            1325648 non-null  float64\n",
      " 50  Le Price Chng Usd                 1325648 non-null  float64\n",
      " 51  PD                                1325648 non-null  int64  \n",
      " 52  Pln Base Cs                       1325648 non-null  float64\n",
      " 53  Pln Base Lbs                      1325648 non-null  float64\n",
      " 54  Pln Base Rtn Usd                  1325648 non-null  float64\n",
      " 55  Pln Base Units                    1325648 non-null  float64\n",
      " 56  Pln Base Usd                      1325648 non-null  float64\n",
      " 57  Pln Cons Lbs                      1325648 non-null  float64\n",
      " 58  Pln Cons Rtn Usd                  1325648 non-null  float64\n",
      " 59  Pln Cons Units                    1325648 non-null  float64\n",
      " 60  Pln Cons Usd                      1325648 non-null  float64\n",
      " 61  Pln Inc Usd                       1325648 non-null  float64\n",
      " 62  Pln Incr Cs                       1325648 non-null  float64\n",
      " 63  Pln Incr Lbs                      1325648 non-null  float64\n",
      " 64  Pln Incr Rtn Usd                  1325648 non-null  float64\n",
      " 65  Pln Incr Ship Cs                  1325648 non-null  float64\n",
      " 66  Pln Incr Ship Kgs                 1325648 non-null  float64\n",
      " 67  Pln Incr Ship Lbs                 1325648 non-null  float64\n",
      " 68  Pln Incr Ship Units               1325648 non-null  float64\n",
      " 69  Pln Incr Ship Usd                 1325648 non-null  float64\n",
      " 70  Pln Incr Units                    1325648 non-null  float64\n",
      " 71  Pln Kmf                           1325648 non-null  float64\n",
      " 72  Pln Nsv Prxy Usd                  1325648 non-null  float64\n",
      " 73  Pln Sc Prxy Usd                   1325648 non-null  float64\n",
      " 74  Pln Ship Cs                       1325648 non-null  float64\n",
      " 75  Pln Ship Ea                       1325648 non-null  float64\n",
      " 76  Pln Ship Kg                       1325648 non-null  float64\n",
      " 77  Pln Ship Lbs                      1325648 non-null  float64\n",
      " 78  Pln Ship Usd                      1325648 non-null  float64\n",
      " 79  Sugstd Base Vol Sas               1325648 non-null  float64\n",
      " 80  Sugstd Shlf Prc Sas               1325648 non-null  float64\n",
      " 81  Totl Pln Kmf Cost Of Prod Usd     1325648 non-null  float64\n",
      "dtypes: float64(52), int64(9), object(21)\n",
      "memory usage: 829.3+ MB\n"
     ]
    }
   ],
   "source": [
    "PLN.info()"
   ]
  },
  {
   "cell_type": "code",
   "outputs": [
    {
     "data": {
      "text/plain": "0          Pop-Tarts\n1          Pop-Tarts\n2          Pop-Tarts\n3          Pop-Tarts\n4          Pop-Tarts\n             ...    \n1325643    Pop-Tarts\n1325644    Pop-Tarts\n1325645    Pop-Tarts\n1325646    Pop-Tarts\n1325647    Pop-Tarts\nName: Prod Hier Brand Desc, Length: 1325648, dtype: object"
     },
     "execution_count": 29,
     "metadata": {},
     "output_type": "execute_result"
    }
   ],
   "source": [
    "PLN[('Prod Hier Brand Desc')]"
   ],
   "metadata": {
    "collapsed": false,
    "ExecuteTime": {
     "end_time": "2024-02-24T04:57:59.321836Z",
     "start_time": "2024-02-24T04:57:59.244691400Z"
    }
   },
   "execution_count": 29
  },
  {
   "cell_type": "code",
   "execution_count": 14,
   "metadata": {
    "ExecuteTime": {
     "end_time": "2024-02-24T04:25:47.025796400Z",
     "start_time": "2024-02-24T04:25:43.289439100Z"
    }
   },
   "outputs": [
    {
     "name": "stdout",
     "output_type": "stream",
     "text": [
      "       Cal Wk  Fisc Yr         Matrl  Mixd Plt Matrl  Pln To Nbr  \\\n",
      "min  202001.0   2020.0  1.700036e+08    1.700036e+08    300023.0   \n",
      "max  202452.0   2024.0  6.410077e+09    6.410077e+09    303979.0   \n",
      "\n",
      "     Prod Hier Brand  Prod Hier Typ  QTR    WK  Act Nsv Prxy Usd  \n",
      "min     2.010100e+09   2.010100e+13  1.0   1.0       -1658277.12  \n",
      "max     2.010100e+09   2.010100e+13  4.0  53.0        2436375.95  \n",
      "     Act Sc Prxy Usd  Actl Cost Of Prod Usd  Actl Ship Cs  Actl Ship Kg  \\\n",
      "min       -971150.48             -766895.69      -18730.0    -415816.56   \n",
      "max       1681923.99             1440737.30      336672.0     501638.45   \n",
      "\n",
      "     Actl Ship Lbs  Actl Ship Units  Actl Ship Usd  \\\n",
      "min     -916717.50        -543240.0    -2073112.32   \n",
      "max     1105922.16         653184.0     3135283.20   \n",
      "\n",
      "     Latst Estmt Cost Of Prod Usd  Latst Estmt Cost Of Prod Usd Fxd  \\\n",
      "min                    -766895.69                        -243825.68   \n",
      "max                    1440737.30                         270714.12   \n",
      "\n",
      "     Latst Estmt Gsv  \n",
      "min      -2073112.32  \n",
      "max       3135283.20  \n",
      "     Latst Estmt Kmf Usd  Latst Estmt Nsv Prxy Usd  Latst Estmt Sc Prxy Usd  \\\n",
      "min           -648795.84               -1658277.12               -971150.48   \n",
      "max            698907.25                2436375.95               1681923.99   \n",
      "\n",
      "     Latst Estmt Sc Prxy Usd Gsv  Latst Estmt Ship Lbs  \\\n",
      "min                  -1378580.48            -916717.50   \n",
      "max                   2380831.24            1105922.16   \n",
      "\n",
      "     Latst Estmt Ship Units  Le Cop Fixed     Le Cs     Le Kgs  \\\n",
      "min               -543240.0   -1000524.00  -18730.0 -415816.56   \n",
      "max                653184.0    1440956.16  336672.0  501638.45   \n",
      "\n",
      "     Le Price Chng Usd  \n",
      "min         -240230.40  \n",
      "max          500706.88  \n",
      "       PD  Pln Base Cs  Pln Base Lbs  Pln Base Rtn Usd  Pln Base Units  \\\n",
      "min   1.0       -48.54       -163.54     -8.169180e+06         -183.07   \n",
      "max  12.0    339360.00    1075499.08      1.596361e+09       339360.00   \n",
      "\n",
      "     Pln Base Usd  Pln Cons Lbs  Pln Cons Rtn Usd  Pln Cons Units  \\\n",
      "min       -538.23      -3125.57     -8.169180e+06        -3691.98   \n",
      "max    2307648.00    1075499.08      1.596361e+09       339360.00   \n",
      "\n",
      "     Pln Cons Usd  \n",
      "min   -1366840.77  \n",
      "max    9712481.99  \n",
      "     Pln Inc Usd  Pln Incr Cs  Pln Incr Lbs  Pln Incr Rtn Usd  \\\n",
      "min  -1803056.41    -16212.00     -82340.75     -2.434713e+05   \n",
      "max   9537120.00     60622.05     307899.39      1.475561e+08   \n",
      "\n",
      "     Pln Incr Ship Cs  Pln Incr Ship Kgs  Pln Incr Ship Lbs  \\\n",
      "min         -80808.00          -95685.35          -82340.75   \n",
      "max         226894.83          522719.95          307899.39   \n",
      "\n",
      "     Pln Incr Ship Units  Pln Incr Ship Usd  Pln Incr Units  \n",
      "min            -124592.0         -930908.16       -48889.82  \n",
      "max             760000.0         3503600.00       222000.00  \n",
      "       Pln Kmf  Pln Nsv Prxy Usd  Pln Sc Prxy Usd  Pln Ship Cs  Pln Ship Ea  \\\n",
      "min -543074.97        -543074.97       -543074.97      -1661.2      -9716.1   \n",
      "max  710849.99        2792750.01       1224300.01     339360.0     760000.0   \n",
      "\n",
      "     Pln Ship Kg  Pln Ship Lbs  Pln Ship Usd  Sugstd Base Vol Sas  \\\n",
      "min     -5596.33     -12337.83     -31577.33               -199.0   \n",
      "max    601977.55    1327116.45    3503600.00              65358.0   \n",
      "\n",
      "     Sugstd Shlf Prc Sas  \n",
      "min                  0.0  \n",
      "max                 95.0  \n",
      "     Totl Pln Kmf Cost Of Prod Usd\n",
      "min                      -17086.46\n",
      "max                     1568450.00\n"
     ]
    }
   ],
   "source": [
    "import pandas as pd\n",
    "pd.set_option('display.max_columns', None)\n",
    "\n",
    "numeric_columns = PLN.select_dtypes(include='number').columns\n",
    "\n",
    "for i in range(0, len(numeric_columns), 10):\n",
    "    chunk_columns = numeric_columns[i:i+10]\n",
    "    chunk_description = PLN[chunk_columns].describe().loc[['min', 'max']]\n",
    "    print(chunk_description)"
   ]
  },
  {
   "cell_type": "code",
   "execution_count": 2,
   "metadata": {
    "ExecuteTime": {
     "end_time": "2024-03-06T20:48:03.689591Z",
     "start_time": "2024-03-06T20:47:54.911001700Z"
    }
   },
   "outputs": [],
   "source": [
    "import pandas as pd\n",
    "EDT=pd.read_csv(\"EDT_3P (KG_HADOOP) Prod_EDT_3P.csv\")"
   ]
  },
  {
   "cell_type": "code",
   "execution_count": 3,
   "metadata": {
    "ExecuteTime": {
     "end_time": "2024-03-01T18:44:16.589452200Z",
     "start_time": "2024-03-01T18:44:13.523753Z"
    }
   },
   "outputs": [
    {
     "name": "stdout",
     "output_type": "stream",
     "text": [
      "Unique values for '12 Months selected ':\n",
      "[False  True]\n",
      "\n",
      "Unique values for 'brand & size':\n",
      "['PRLY LZBTH NOT APPLICABLE' 'BEST MAID COOKIE COMPANY NOT APPLICABLE'\n",
      " 'AWAKE NOT APPLICABLE' 'BULLETPROOF NOT APPLICABLE' 'VEGA NOT APPLICABLE'\n",
      " 'DETOUR NOT APPLICABLE' 'OVRNGHT OATS BAR NOT APPLICABLE'\n",
      " 'BSN BR NOT APPLICABLE' 'ON BR NOT APPLICABLE' 'THNK NOT APPLICABLE'\n",
      " 'GM FBR 1 NOT APPLICABLE' 'GM NV NOT APPLICABLE'\n",
      " 'GM RATIO NOT APPLICABLE' 'GM TRT BARS NOT APPLICABLE'\n",
      " 'GO MCRO NOT APPLICABLE' 'HERSHEY NOT APPLICABLE'\n",
      " 'MUSCLETECH NOT APPLICABLE' 'JM SMUCKER BR REM NOT APPLICABLE'\n",
      " 'KEL NG NOT APPLICABLE' 'KEL RKT NOT APPLICABLE'\n",
      " 'KNOVA SK NOT APPLICABLE' 'KNOVA BEAR NKD NOT APPLICABLE'\n",
      " 'MET-RX NOT APPLICABLE' 'PURE PROTEIN NOT APPLICABLE'\n",
      " 'ZONE NOT APPLICABLE' 'BALANCE NOT APPLICABLE' 'EPC NOT APPLICABLE'\n",
      " 'LARABAR NOT APPLICABLE' 'OATMEGA NOT APPLICABLE' 'ONE BR NOT APPLICABLE'\n",
      " 'RXBAR NOT APPLICABLE' 'KIZE NOT APPLICABLE' 'NUGO NOT APPLICABLE'\n",
      " 'KIND NOT APPLICABLE' 'CLIF NOT APPLICABLE' 'LUNA NOT APPLICABLE'\n",
      " 'NO COW NOT APPLICABLE' 'ZING NOT APPLICABLE' 'GATORADE NOT APPLICABLE'\n",
      " 'KNOVA KSH NOT APPLICABLE' 'PR RGNC NOT APPLICABLE'\n",
      " 'KDK CAKES NOT APPLICABLE' \"LENNY & LARRY'S NOT APPLICABLE\"\n",
      " 'MARS BR REM NOT APPLICABLE' 'NTRS BKR NOT APPLICABLE'\n",
      " 'MCKEE BR REM NOT APPLICABLE' 'SNBLT NOT APPLICABLE'\n",
      " 'CYTO SPORT MUSCLE MILK NOT APPLICABLE' 'HLTH WRRR NOT APPLICABLE'\n",
      " 'PEPSICO BR REM NOT APPLICABLE' 'QKR BR REM NOT APPLICABLE'\n",
      " 'PRVT LBL NOT APPLICABLE' 'PST BR REM NOT APPLICABLE'\n",
      " 'PST PBBLS TRTS NOT APPLICABLE' 'PRFCT BAR NOT APPLICABLE'\n",
      " 'PRO BAR NOT APPLICABLE' 'FIT CRUNCH NOT APPLICABLE'\n",
      " 'POWER CRUNCH NOT APPLICABLE' 'REM BR NOT APPLICABLE'\n",
      " 'BOBOS NOT APPLICABLE' 'ATKNS NOT APPLICABLE' 'QST NOT APPLICABLE'\n",
      " 'LOVE GD FATS NOT APPLICABLE' 'THIS BAR SAVES LIVES NOT APPLICABLE'\n",
      " 'TRPCN BR REM NOT APPLICABLE' 'MARINELA NOT APPLICABLE'\n",
      " 'CAVEMAN NOT APPLICABLE' 'SLIM FAST NOT APPLICABLE'\n",
      " 'CSCDN FRMS NOT APPLICABLE' 'QKR CWY NOT APPLICABLE'\n",
      " 'QKR SFT BKD NOT APPLICABLE' 'TIGERS MILK NOT APPLICABLE'\n",
      " 'SN MD BR NOT APPLICABLE' 'POWERBAR NOT APPLICABLE'\n",
      " 'TASTYKAKE NOT APPLICABLE' 'JIMMYBAR NOT APPLICABLE'\n",
      " \"THAT'S IT NOT APPLICABLE\" 'THUNDERBIRD NOT APPLICABLE'\n",
      " 'HORMEL BR REM NOT APPLICABLE' 'JIF NOT APPLICABLE'\n",
      " 'KEL PT NOT APPLICABLE' 'GDNSS KNWS NOT APPLICABLE'\n",
      " 'NESTLE HOLDINGS BR REM NOT APPLICABLE' 'GOOD BELLY NOT APPLICABLE'\n",
      " 'EVLV BR NOT APPLICABLE' 'TAOS MOUNTAIN NOT APPLICABLE'\n",
      " \"JACK LINK'S NOT APPLICABLE\" 'GRDN OF LF NOT APPLICABLE'\n",
      " 'GOOD TO GO NOT APPLICABLE' 'SIMPLY PROTEIN NOT APPLICABLE'\n",
      " 'SQUARE ORGANICS NOT APPLICABLE' 'VANS NOT APPLICABLE'\n",
      " 'ANNIES NOT APPLICABLE' 'ENJY LIFE NOT APPLICABLE'\n",
      " 'GLUCERNA NOT APPLICABLE' 'MADE GOOD NOT APPLICABLE'\n",
      " 'CAMPBELLS BR REM NOT APPLICABLE' 'PLUM NOT APPLICABLE'\n",
      " 'ZEEZEES NOT APPLICABLE' 'FOOD SHOULD TASTE GOOD NOT APPLICABLE'\n",
      " 'NTRS PTH NOT APPLICABLE' \"GM AUTUMN'S GOLD NOT APPLICABLE\"\n",
      " 'GM BR REM NOT APPLICABLE' 'PAMELAS NOT APPLICABLE'\n",
      " 'KEL TRT BARS NOT APPLICABLE' 'TOASTEM NOT APPLICABLE'\n",
      " 'HEALTH VALLEY NOT APPLICABLE' 'S&B BR REM NOT APPLICABLE'\n",
      " 'EARTHS BST NOT APPLICABLE' 'THMS NOT APPLICABLE'\n",
      " 'PLLSBRY NOT APPLICABLE' 'NABISCO BR BASE NOT APPLICABLE'\n",
      " 'SOUTH BEACH NOT APPLICABLE' 'QKR TRT BARS NOT APPLICABLE'\n",
      " 'GLUTNO NOT APPLICABLE' 'HAPPY KIDS NOT APPLICABLE'\n",
      " 'GM PRTN 1 NOT APPLICABLE' 'QKR KIDS ORGANIC NOT APPLICABLE'\n",
      " 'JUNKLESS NOT APPLICABLE' 'LTL DEB NOT APPLICABLE'\n",
      " 'GRANDMAS NOT APPLICABLE' 'DV KLLR BRD NOT APPLICABLE'\n",
      " 'ODWALLA NOT APPLICABLE' 'SUNRYPE NOT APPLICABLE' 'BIMBO NOT APPLICABLE'\n",
      " 'GD MEASR NOT APPLICABLE' 'ENSURE NOT APPLICABLE'\n",
      " 'KRAFT BR REM NOT APPLICABLE' 'KNOVA BR REM NOT APPLICABLE'\n",
      " 'BARBRAS NOT APPLICABLE' 'B&G FD BR REM NOT APPLICABLE'\n",
      " 'GATORBAR NOT APPLICABLE' 'FBC BR NOT APPLICABLE'\n",
      " 'ENTENMANNS NOT APPLICABLE' 'SOY JOY NOT APPLICABLE' 'EAS NOT APPLICABLE'\n",
      " 'KEL FIB PLUS NOT APPLICABLE' 'DANNON NOT APPLICABLE'\n",
      " 'WELCHS NOT APPLICABLE' 'ZBD BR NOT APPLICABLE'\n",
      " 'ARBOR INVESTMENTS BR REM NOT APPLICABLE' 'DNX NOT APPLICABLE'\n",
      " 'SIMPLY SNACKIN NOT APPLICABLE' 'BEECHNUT NOT APPLICABLE'\n",
      " 'TANKA BAR NOT APPLICABLE' 'WILD ZORA NOT APPLICABLE'\n",
      " 'ORGANIC PRAIRIE NOT APPLICABLE' 'THOUSAND HILLS NOT APPLICABLE'\n",
      " 'DOLE NOT APPLICABLE' 'COKE BR REM NOT APPLICABLE'\n",
      " 'COUNTRY ARCHER! NOT APPLICABLE' 'KRATOS NOT APPLICABLE'\n",
      " 'HAIN CELESTIAL BR REM NOT APPLICABLE' 'MARIANI NOT APPLICABLE'\n",
      " 'B&G BR REM NOT APPLICABLE' 'SWEETWOOD CATTLE CO. NOT APPLICABLE'\n",
      " 'GO MCRO BR REM NOT APPLICABLE' 'BCK 2 NTR BR REM NOT APPLICABLE'\n",
      " 'THE CLTRD SNCKNG C NOT APPLICABLE' 'NB 100 CAL NOT APPLICABLE'\n",
      " 'SIX STAR NOT APPLICABLE' 'CONGRA BR REM NOT APPLICABLE'\n",
      " 'AMZNG GRSS NOT APPLICABLE' 'EMERALD NOT APPLICABLE'\n",
      " 'TREE HS BR REM NOT APPLICABLE' 'PRVN REM BR NOT APPLICABLE']\n",
      "\n",
      "Unique values for 'Kel Brand':\n",
      "['PRLY LZBTH' 'BEST MAID COOKIE COMPANY' 'AWAKE' 'BULLETPROOF' 'VEGA'\n",
      " 'DETOUR' 'OVRNGHT OATS BAR' 'BSN BR' 'ON BR' 'THNK' 'GM FBR 1' 'GM NV'\n",
      " 'GM RATIO' 'GM TRT BARS' 'GO MCRO' 'HERSHEY' 'MUSCLETECH'\n",
      " 'JM SMUCKER BR REM' 'KEL NG' 'KEL RKT' 'KNOVA SK' 'KNOVA BEAR NKD'\n",
      " 'MET-RX' 'PURE PROTEIN' 'ZONE' 'BALANCE' 'EPC' 'LARABAR' 'OATMEGA'\n",
      " 'ONE BR' 'RXBAR' 'KIZE' 'NUGO' 'KIND' 'CLIF' 'LUNA' 'NO COW' 'ZING'\n",
      " 'GATORADE' 'KNOVA KSH' 'PR RGNC' 'KDK CAKES' \"LENNY & LARRY'S\"\n",
      " 'MARS BR REM' 'NTRS BKR' 'MCKEE BR REM' 'SNBLT' 'CYTO SPORT MUSCLE MILK'\n",
      " 'HLTH WRRR' 'PEPSICO BR REM' 'QKR BR REM' 'PRVT LBL' 'PST BR REM'\n",
      " 'PST PBBLS TRTS' 'PRFCT BAR' 'PRO BAR' 'FIT CRUNCH' 'POWER CRUNCH'\n",
      " 'REM BR' 'BOBOS' 'ATKNS' 'QST' 'LOVE GD FATS' 'THIS BAR SAVES LIVES'\n",
      " 'TRPCN BR REM' 'MARINELA' 'CAVEMAN' 'SLIM FAST' 'CSCDN FRMS' 'QKR CWY'\n",
      " 'QKR SFT BKD' 'TIGERS MILK' 'SN MD BR' 'POWERBAR' 'TASTYKAKE' 'JIMMYBAR'\n",
      " \"THAT'S IT\" 'THUNDERBIRD' 'HORMEL BR REM' 'JIF' 'KEL PT' 'GDNSS KNWS'\n",
      " 'NESTLE HOLDINGS BR REM' 'GOOD BELLY' 'EVLV BR' 'TAOS MOUNTAIN'\n",
      " \"JACK LINK'S\" 'GRDN OF LF' 'GOOD TO GO' 'SIMPLY PROTEIN'\n",
      " 'SQUARE ORGANICS' 'VANS' 'ANNIES' 'ENJY LIFE' 'GLUCERNA' 'MADE GOOD'\n",
      " 'CAMPBELLS BR REM' 'PLUM' 'ZEEZEES' 'FOOD SHOULD TASTE GOOD' 'NTRS PTH'\n",
      " \"GM AUTUMN'S GOLD\" 'GM BR REM' 'PAMELAS' 'KEL TRT BARS' 'TOASTEM'\n",
      " 'HEALTH VALLEY' 'S&B BR REM' 'EARTHS BST' 'THMS' 'PLLSBRY'\n",
      " 'NABISCO BR BASE' 'SOUTH BEACH' 'QKR TRT BARS' 'GLUTNO' 'HAPPY KIDS'\n",
      " 'GM PRTN 1' 'QKR KIDS ORGANIC' 'JUNKLESS' 'LTL DEB' 'GRANDMAS'\n",
      " 'DV KLLR BRD' 'ODWALLA' 'SUNRYPE' 'BIMBO' 'GD MEASR' 'ENSURE'\n",
      " 'KRAFT BR REM' 'KNOVA BR REM' 'BARBRAS' 'B&G FD BR REM' 'GATORBAR'\n",
      " 'FBC BR' 'ENTENMANNS' 'SOY JOY' 'EAS' 'KEL FIB PLUS' 'DANNON' 'WELCHS'\n",
      " 'ZBD BR' 'ARBOR INVESTMENTS BR REM' 'DNX' 'SIMPLY SNACKIN' 'BEECHNUT'\n",
      " 'TANKA BAR' 'WILD ZORA' 'ORGANIC PRAIRIE' 'THOUSAND HILLS' 'DOLE'\n",
      " 'COKE BR REM' 'COUNTRY ARCHER!' 'KRATOS' 'HAIN CELESTIAL BR REM'\n",
      " 'MARIANI' 'B&G BR REM' 'SWEETWOOD CATTLE CO.' 'GO MCRO BR REM'\n",
      " 'BCK 2 NTR BR REM' 'THE CLTRD SNCKNG C' 'NB 100 CAL' 'SIX STAR'\n",
      " 'CONGRA BR REM' 'AMZNG GRSS' 'EMERALD' 'TREE HS BR REM' 'PRVN REM BR']\n",
      "\n",
      "Unique values for 'Kel Category':\n",
      "['PWS']\n",
      "Unique values for 'Kel Corporate':\n",
      "['APT HLTH LV CRP' 'ARBR INV CRP' 'AWKE CRP' 'BLTPRF CRP' 'DANONE CRP'\n",
      " 'FWD FD CRP' 'GLANBA CRP' 'GMI CRP' 'GO MCRO CRP' 'HRSHY CRP'\n",
      " 'IOVATE CRP' 'JM SMKR CRP' 'K CRP' '1440 FDS CMPNY CRP' 'ABOT LAB CRP'\n",
      " 'BALNC BAR CRP' 'KIZE CNCPT CRP' 'LFSTYL EVOL CRP' 'MARS CRP' 'MNDLZ CRP'\n",
      " 'NO COW CRP' 'NTHWST NUTRNL CRP' 'PEPSI CRP' 'KDK CRP' 'LEN & LRY CRP'\n",
      " 'MCKEE FD CRP' 'PL CRP' 'POST CRP' 'PRFCT BAR CRP' 'PRO BAR CRP'\n",
      " 'PRVN FDS CRP' 'PWR CRNCH CRP' 'REM CRP' 'SMPLY DEL CRP'\n",
      " 'SMPLY GD FD CRP' 'THE GD FAT CRP' 'THS BR SVS LVS CRP' 'TRPCN CRP'\n",
      " 'GRUPO BMBO CRP' 'CAVEMAN CRP' 'RCKTT BNCKSR PLC CRP'\n",
      " 'SN MD GRWRS CA CRP' 'WRLDWD SPRTS CRP' 'FLWR FD CRP' 'JMY NTRL FD CRP'\n",
      " 'THAT IT NTRN CRP' 'THNDRBRD CRP' 'HRML FD CRP' 'NSTL CRP' 'NXTFDS CRP'\n",
      " 'TAOS MTN ENGY CRP' 'LINK SNK CRP' 'RVR NTRL FD CRP' 'SQR ORG CRP'\n",
      " 'KLBRG CRP' 'CMPBL CRP' 'ZEEZEES CRP' 'NTRS PTH CRP' 'QUINOA CRP'\n",
      " 'SCHLZ BRCH CRP' 'HN CLSTL CRP' 'SBD FD CRP' 'CONGRA CRP'\n",
      " 'SMPLY EGHT CRP' 'COKE CRP' 'LASND IND CRP' 'KFR HNZ CRP' 'B&G FD CRP'\n",
      " 'PHRMVT CRP' 'PRMTN N MTN CRP' 'DNX FD CRP' 'PCHN VNTRS CRP'\n",
      " 'AOH NHRNG CRP' 'NTVE AMER NTRL CRP' 'WLD ZORA CRP' 'COULE REG ORG CRP'\n",
      " 'THSND HLLS CTTL CMPN CRP' 'DOLE CRP' 'CNTRY ARCH CRP' 'QRTR SHR CRP'\n",
      " 'MARIANI PKG CRP' 'SWEETWOD SMK & CO CRP' 'TREE HS FD CRP']\n",
      "\n",
      "Unique values for 'Kel Count':\n",
      "['01 CT' '02 CT' '03 CT' '04 CT' '05 CT' '06 CT' '08 CT' '09 CT' '10 CT'\n",
      " '12 CT' '15 CT' '16 CT' '18 CT' '24 CT' '48 CT' '49 CT' '72 CT' 'DOY BAG'\n",
      " 'REM COUNT' '14 CT' '20 CT' '07 CT' '60 CT' '36 CT' '32 CT' '30 CT'\n",
      " '19 CT' '21 CT' '40 CT' '25 CT' '22 CT' '28 CT' '50 CT' '34 CT' '54 CT'\n",
      " '26 CT' '35 CT' '42 CT' '80 CT' '96 CT' '27 CT' '58 CT' '70 CT']\n",
      "\n",
      "Unique values for 'Kel Otg':\n",
      "['NOT APPLICABLE']\n",
      "\n",
      "Unique values for 'Kel Ppg':\n",
      "['ALL OTHER' 'VEGA BAR SS' 'THINK THIN PTN BAR 1CT' 'GM FIBER ONE WS 1CT'\n",
      " 'GM NAT VLLY CHEWY PROTEIN 1CT' 'GM NAT VLLY WS 1CT'\n",
      " 'GM RATIO KETO SNACK BAR 1CT' 'NOT APPLICABLE' 'GOMACRO BAR 1CT'\n",
      " 'NUTRI-GRAIN BITES 1CT' 'RKT POPPERS SS' 'SPECIAL K BARS PREMIUM 1CT'\n",
      " 'SPECIAL K PROTEIN BARS SS' 'EPIC BAR 1CT' 'GM LARABAR 1CT'\n",
      " 'RKT SQUARES BIG BAR SS' 'RXBAR KIDS BAR 1CT' 'RXBAR PROTEIN BAR 1CT'\n",
      " 'KIND BAR 1CT' 'KIND PRSD FRT BAR 1CT' 'KIND PRTN BAR 1CT'\n",
      " 'CLIF BASE BAR 1CT' 'CLIF BUILDERS BAR 1CT' 'CLIF NUT BUTTER 1CT'\n",
      " 'CLIF WHOLE LOTTA 1CT' 'CLIF WHY PRTN BAR 1CT'\n",
      " 'CLIF LUNA ALL VARITS BAR 1CT' 'KASHI CHEWY BARS SS' 'KASHI GO BARS SS'\n",
      " 'PURE ANCIENT GRAINS BARS SS' 'PURE FRUIT & NUT BARS SS'\n",
      " 'KODIAK CRUNCHY GRANOLA BARS 1CT' 'KIND NT BUTR BAR 1CT'\n",
      " 'NATURES BAKERY BAR 2CT' 'MCKEE SUNBELT BARS 1CT' 'PL SNACK BAR 1CT'\n",
      " 'PERFECT BAR 1CT' 'PRO BAR 1CT' 'PL TREAT MRSH BAR 1CT'\n",
      " 'QUEST PROTEIN BAR 4CT' 'THINK HIGH PTN BAR 5CT' 'THINK KIDS PTN BAR 5CT'\n",
      " 'GM NAT VLLY CHEWY PROTEIN 5CT' 'CASCFRM GRANOLA 5CT-6CT' 'QKR CHEWY 5CT'\n",
      " 'PL SNACK BAR 5CT' 'ATKINS ADV SNACK BAR 5CT' 'QUEST PROTEIN BAR 1CT'\n",
      " 'GM WS TREAT BARS 1CT' 'NUTRI-GRAIN CEREAL BARS SS'\n",
      " 'RKT SQUARES DUNKD SS' 'RKT SQUARES SS' 'CLIF KIDS BAR 1CT'\n",
      " 'QKR CHEWY 1CT' 'GM NAT VLLY SOFT BAKED 6CT' 'SPECIAL K BARS PREMIUM 6CT'\n",
      " 'NATURES BAKERY BAR 6CT' 'CLIF BASE BAR 6CT'\n",
      " 'SMASH MALLOW CRISPY RICE TRT 6CT' 'KIND BREAKFAST 4CT'\n",
      " 'MCKEE SUNBELT BARS 8-10CT' 'PST PEBBLES TREATS 8CT' 'PERFECT BAR 8CT'\n",
      " 'THINK THIN PTN BAR 10CT' 'GM NAT VLLY CHEWY PROTEIN 10CT'\n",
      " 'KIND GRANOLA 5CT' 'PL CHEWY GRANOLA BAR 10CT' 'GM WS TREAT BARS 12CT'\n",
      " 'GOMACRO BAR 12-15CT' 'RKT SQUARES BIG BAR 12CT' 'RXBAR PROTEIN BAR 12CT'\n",
      " 'KIND BAR 12CT' 'CLIF BASE BAR 12CT' 'CLIF BUILDERS BAR 12CT'\n",
      " 'PL CRUNCHY GRANOLA BAR 6CT' 'QUEST PROTEIN BAR 12CT' 'GM LARABAR 16CT'\n",
      " 'NATURES BAKERY BAR 24CT' 'GM NAT VLLY WS 98CT' 'RKT POPPERS S'\n",
      " 'RKT SHEET' 'POP-TARTS SS' 'SPECIAL K CEREAL BARS SS'\n",
      " 'BEAR NAKED NUT BUTTER BAR 1CT' 'GOODNESSKNOWS 1CT' 'SK PASTRY CRISPS SS'\n",
      " 'KIND BREAKFAST 1CT' 'GM FIBER ONE WS 5CT' 'VANS BAR 5CT'\n",
      " 'QKR BRKF BAR 5CT' 'QKR CHEWY YGRT 5CT' 'ATKINS ADV MEAL BAR 5CT'\n",
      " 'ATKINS ENDULGE BAR 5CT' 'ANNIES GRANOLA BARS'\n",
      " 'GM FIBER ONE DESSERT BRS 5-6CT' 'SPECIAL K CEREAL BARS 6CT'\n",
      " 'SPECIAL K PROTEIN BARS 6CT' 'QKR CHEWY DIPPS 6CT'\n",
      " 'PL CHEWY TRAIL MIX 6CT' 'PL SWEET AND SALTY NUT 6CT' 'RKT SQUARES 8CT'\n",
      " 'BEAR NAKED NUT BUTTER BAR 8CT' 'CLIF WHY PRTN BAR 8CT'\n",
      " 'PL CEREAL BAR SFT BKS 8CT' 'ATKINS ADV MEAL BAR 8CT'\n",
      " 'QUEST PROTEIN BAR 10CT' 'SK PASTRY CRISPS 12CT' 'GM WS TREAT BARS 16CT'\n",
      " 'RKT SQUARES 16CT' 'GM WS PROTEIN TREAT BARS 1CT'\n",
      " 'GM NAT VLLY PACKED 4CT' 'GM RATIO KETO SNACK BAR 4CT'\n",
      " 'KASHI GO BARS 4CT' 'THINK THIN PTN BAR 5CT' 'GM FIBER ONE PROTEIN 5CT'\n",
      " 'GM NAT VLLY SOFT BAKED 5CT' 'GM NAT VLLY WAFER 5CT' 'GM LARABAR 5CT'\n",
      " 'NUTRI-GRAIN BITES 5CT' 'SPECIAL K BARS PREMIUM 5CT' 'RXBAR KIDS BAR 5CT'\n",
      " 'RXBAR PROTEIN BAR 5CT' 'KIND PRTN BAR 5CT' 'CLIF KIDS BAR 5-6CT'\n",
      " 'CLIF WHY PRTN BAR 5CT' 'PL CHEWY GRANOLA BAR 5CT'\n",
      " 'PL WS FIBER BAR 5-6CT' 'QUEST SNACK BAR 5CT' 'PLUM ORG JAMMY SAMMY 5CT'\n",
      " 'GM RATIO KETO SNACK BAR 6CT' 'GM LARABAR 6CT' 'KASHI CEREAL BARS 6CT'\n",
      " 'CLIF LUNA ALL VARITS BAR 6CT' 'GM WS TREAT BARS 8CT'\n",
      " 'NUTRI-GRAIN CEREAL BARS 8CT' 'QKR CHEWY 8CT' 'PL CHEWY GRANOLA BAR 8CT'\n",
      " 'QUEST PROTEIN BAR 8CT' 'GM NAT VLLY MINI 10CT' 'KASHI CRUNCHY BARS 6CT'\n",
      " 'RXBAR PROTEIN BAR 10CT' 'KIND THINS 10CT' 'CLIF KIDS BAR 10-12CT'\n",
      " 'ATKINS ENDULGE BAR 10CT' 'GM FIBER ONE DESSERT BARS 12CT'\n",
      " 'RKT HOMESTYLE BARS 12CT' 'KIND BAR 15CT' 'GM NAT VLLY GRANOLA BITES'\n",
      " 'POP-TARTS BITES 5CT' 'PL CHEWY PROTEIN 5CT' 'KIND CLUSTERS DIPPED'\n",
      " 'CLIF KIDS BAR 15-18CT' 'KIND NT BUTR BAR 4CT' 'ENJOY LIFE PRTN BITES'\n",
      " 'CLIF BASE BAR MINI 20CT' 'QKR CHEWY YGRT 14CT' 'PL TOASTER PASTRY 8CT'\n",
      " 'KIND PRSD FRT BAR 12CT' 'PURE FRUIT & NUT BARS 5CT'\n",
      " 'NATURES BAKERY BAR 18CT' 'GM NAT VLLY CUP 5CT' 'WHENEVER BARS 5CT'\n",
      " 'KEL CEREAL BREAKFAST BAR 6CT' 'QKR CHEWY DIPPS 14CT'\n",
      " 'KASHI LAYERED BARS 6CT' 'PL CEREAL BAR SFT BKS 16CT'\n",
      " 'POP-TARTS BITES SS' 'RKT SQUARES MINI 64CT'\n",
      " 'KODIAK CRUNCHY GRANOLA BARS 6CT' 'QKR CHEWY YGRT 1CT' 'EPIC BAR 12CT'\n",
      " 'SK PASTRY CRISPS 60CT' 'CLIF KIDS FRUIT SNACKS 18CT'\n",
      " 'KEL CEREAL BREAKFAST BAR 18CT' 'KASHI BITES 5CT' 'POP-TARTS SIMPLY 8CT'\n",
      " 'TOASTEMS TSTR PSTRY 36CT' 'JIF PWR UPS 5CT' 'POP-TARTS 8CT'\n",
      " 'POP-TARTS CRISPS 12CT' 'CLIF KIDS FRUIT SNACKS 6CT'\n",
      " 'GM WS TREAT BARS 6CT' 'EARTHS BEST SNCK BAR 8CT'\n",
      " 'GM NAT VLLY CHEWY PROTEIN 15CT' 'POP-TARTS 12CT'\n",
      " 'CLIF KIDS FRUIT SNACKS 1CT' 'GM NAT VLLY PACKED 8CT'\n",
      " 'ATKINS DAY BREAK BAR SQR 5CT' 'ANNIES RC TREAT BAR 5CT'\n",
      " 'PERFECT BAR 4CT' 'CLIF BASE BAR MINI 10CT' 'GM NAT VLLY MINI 20CT'\n",
      " 'QKR FRTY FUN 6CT' 'CLIF NUT BUTTER 5CT' 'POP-TARTS 32CT'\n",
      " 'KIND MINIS 10CT' 'GM FIBER ONE DESSERT BARS 18CT' 'RKT SQUARES 60CT'\n",
      " 'GM LARABAR 18CT' 'GM NAT VLLY WS 30CT' 'QKR BRK SQR 5CT'\n",
      " 'RKT SQUARES MINI 19CT' 'KASHI CHEWY BARS 6CT' 'RKT SQUARES 14CT'\n",
      " 'ATKINS ADV MEAL BAR 16CT' 'QUEST PROTEIN BAR MINIS 14CT'\n",
      " 'NUTRI-GRAIN CEREAL BARS 16CT' 'PL CHEWY GRANOLA BAR 18CT'\n",
      " 'GM WS TREAT BARS 20CT' 'KIND MINIS 20CT' 'QKR CHEWY YGRT 21CT'\n",
      " 'QKR CHEWY 30CT' 'RKT SQUARES MINI 32CT' 'KEL CEREAL BREAKFAST BAR 36CT'\n",
      " 'RKT SQUARES 40CT' 'CLIF DUOS 1CT' 'RXBAR PROTEIN BAR 4CT' 'KIND BAR 4CT'\n",
      " 'KASHI CHEWY BARS 5CT' 'RKT HOMESTYLE BARS 6CT' 'KIND BAR 6CT'\n",
      " 'GM WS PROTEIN TREAT BARS 8CT' 'RXBAR PROTEIN BAR 8CT'\n",
      " 'THINK THIN PTN BAR 12CT' 'KIND PRTN BAR 12CT'\n",
      " 'PL CRUNCHY GRANOLA BAR 12CT' 'MCKEE SUNBELT BARS 15CT'\n",
      " 'SK PASTRY CRISPS 18CT' 'GM NAT VLLY WS 12CT'\n",
      " 'GM NAT VLLY PRTN CRUNCH 5CT' 'RKT POPPERS 5CT' 'SPECIAL K KETO BARS 5CT'\n",
      " 'GM LARABAR 8CT' 'SPECIAL K PROTEIN BARS 8CT' 'GM FIBER ONE WS 10CT'\n",
      " 'KIND GRANOLA 12CT' 'QKR CHEWY 18CT' 'QKR CEREAL TREAT BAR 1CT'\n",
      " 'PL CEREAL BAR SFT BKS 1CT' 'GLUTINO BRKFST BAR 5CT'\n",
      " 'HAPPY KID FRUIT AND OAT BAR 5CT' 'PERFECT KIDS 5CT' 'GM NAT VLLY WS 6CT'\n",
      " 'GM PROTEIN ONE CAL 5CT' 'ENJOY LIFE SNCK BAR 5CT' 'QKR KIDS WG BAR 5CT'\n",
      " 'GM NAT VLLY LYRD 5CT' 'ANNIES PROTEIN BARS 5CT' 'NTR PTH GRANOLA 5CT'\n",
      " 'ANNIES CRISPY SNACK BARS 5CT' 'KIND KIDS 6CT' 'CLIF BUILDERS BAR 6CT'\n",
      " 'PL CEREAL BAR SFT BKS 6CT' 'PILLSBURY SNACK BARS 6CT'\n",
      " 'ATKINS ADV SNACK BAR 8CT' 'GM FIBER ONE PROTEIN 10CT'\n",
      " 'GM RATIO KETO SNACK BAR 12CT' 'RKT SQUARES BIG BAR'\n",
      " 'CLIF NUT BUTTER 12CT' 'QKR CHEWY 12CT' 'GM WS TREAT BARS 24CT'\n",
      " 'RKT SQUARES CLUB PK 25CT' 'GM NAT VLLY WS 36CT' 'GM WS TREAT BARS 36CT'\n",
      " 'GM NAT VLLY WS CLB SZ 48CT' 'RKT SQUARES MINI 52CT' 'CLIF MOJO BAR 1CT'\n",
      " 'GM NAT VLLY SAVORY 5CT' 'KODIAK CHEWY GRANOLA BARS 5CT'\n",
      " 'ATKINS SFT BKD BAR 5CT' 'KIND BREAKFAST 6CT' 'PERFECT BAR MINI 6CT'\n",
      " 'QKR CEREAL TREAT BAR 8CT' 'CLIF BUILDERS BAR 10CT'\n",
      " 'ANNIES GRANOLA BARS 12CT' 'PL TREAT MRSH BAR 12CT' 'CLIF THINS 14CT'\n",
      " 'GM NAT VLLY WS 18CT' 'QUAKER OTG SNACK MIX 20CT'\n",
      " 'RKT HOMESTYLE BARS 24CT' 'CLIF KIDS BAR 24CT' 'CLIF THINS 24CT'\n",
      " 'QKR CHEWY DIPPS 24CT' 'QKR CHEWY MINI 28CT' 'NATURES BAKERY BAR 40CT'\n",
      " 'RKT SQUARES MINI 50CT' 'RKT SQUARES CLUB PK 52CT'\n",
      " 'RXBAR PROTEIN BAR 14CT' 'CLIF BASE BAR 18CT' 'PL CHEWY PROTEIN 10CT'\n",
      " 'GM LARABAR 12CT' 'CLIF DUOS 14CT' 'PL CHEWY PROTEIN 30CT'\n",
      " 'KODIAK GRAHAM BITES' 'SPECIAL K CEREAL BARS 12CT'\n",
      " 'QKR KIDS WG BITES 5CT' 'HEALTH WARRIOR BAR 5CT'\n",
      " 'NTR PTH LV CRN GRANOLA 6CT' 'GM NAT VLLY CHEWY PROTEIN 7CT'\n",
      " 'RKT POPPERS 8CT' 'PL TREAT MRSH BAR 8CT' 'EPIC BAR 9CT'\n",
      " 'CLIF LUNA MINI BAR 10CT' 'GM LARABAR 10CT' 'NUTRI-GRAIN BITES 10CT'\n",
      " 'CLIF LUNA PROTEIN BAR 12CT' 'CLIF WHOLE LOTTA 12CT'\n",
      " 'SPECIAL K PROTEIN BARS 12CT' 'CLIF LUNA BASE BAR 15CT'\n",
      " 'RKT SQUARES MINI 28CT' 'GM FIBER ONE 30CT'\n",
      " 'GM NAT VLLY PRTN CLB SZ 30CT' 'QKR CHEWY DIPPS 34CT'\n",
      " 'SK PASTRY CRISPS 36CT' 'NUTRI-GRAIN CEREAL BARS CLB PK 36CT'\n",
      " 'QKR CHEWY CLB SZ 48CT' 'RKT SQUARES MINI 60CT' 'RKT POPPERS M'\n",
      " \"KELLOGG'S BITES VARIETY PACK 20CT\" 'GM LARABAR 4CT' 'EPIC BAR 4CT'\n",
      " 'GOMACRO BAR 4CT' 'KIND PRTN BAR 4CT' 'KIND PRSD FRT BAR 4CT'\n",
      " 'CLIF NUT BUTTER 4CT' 'PL PROTEIN BAR 4CT' 'JIF GRNL BAR 5CT'\n",
      " 'PURE ANCIENT GRAINS BARS 5CT' 'GOODNESSKNOWS 5CT' 'KIND NT BUTR BAR 6CT'\n",
      " 'QKR CHEWY MINI DIPPS 12CT' 'GM NAT VLLY WS 24CT' 'CLIF DUOS 7CT'\n",
      " 'CASCFRM GRANOLA BAR 8CT' 'PL SNACK BAR 8CT' 'ANNIES GRANOLA BARS 10CT'\n",
      " 'GM PROTEIN ONE CAL 10CT' 'GM WS TREAT BARS 10CT'\n",
      " 'CASCFRM GRANOLA BAR 10CT' 'KIND KIDS 10CT' 'QKR CHEWY DIPPS 10CT'\n",
      " 'CLIF DUOS 12CT' 'PL CHEWY GRANOLA BAR 12CT' 'PL TOASTER PASTRY 12CT'\n",
      " 'QKR CHEWY DIPPS 12CT' 'THINK THIN PTN BAR 15CT' 'GM NAT VLLY WS 15CT'\n",
      " 'KIND GRANOLA 15CT' 'EARTHS BEST SNCK BAR 16CT'\n",
      " 'PL SWEET AND SALTY NUT 18CT' 'GM LARABAR 20CT' 'CLIF KIDS BAR 20CT'\n",
      " 'QKR CHEWY DIPPS 20CT' 'GM NAT VLLY PACKED 24CT' 'QKR CHEWY 24CT'\n",
      " 'GM FIBER ONE WS 15CT' 'CLIF KIDS BAR CLB PK' 'RKT SQUARES MINI 40CT'\n",
      " 'GM RATION KETO CHEWY BAR 4CT' 'GM LARABAR KID 6CT' 'GOMACRO BAR 8CT'\n",
      " 'GM NAT VLLY SOFT BAKED 10CT' 'GM LARABAR MINIS 10CT'\n",
      " 'ANNIES CRISPY SNACK BARS 12CT' 'GM NAT VLLY SOFT BAKED 12CT'\n",
      " 'SK PASTRY CRISPS 5CT' 'RKT POPPERS 6CT' 'HEALTH WARRIOR BAR 6CT'\n",
      " 'GOMACRO KIDS 7CT' 'SMASH MALLOW CRISPY RICE TRT 8CT'\n",
      " 'GM NAT VLLY LYRD 10CT' 'RKT POPPERS 10CT' 'NATURES BAKERY BAR 10CT'\n",
      " 'PL SNACK BAR 10CT' 'VEGA BAR 12CT' 'PL SWEET AND SALTY NUT 12CT'\n",
      " 'RXBAR KIDS BAR 12CT' 'VEGA BAR CLB SZ' 'KIND PRTN BAR 14CT'\n",
      " 'QKR CHEWY BIG 14CT' 'QUEST PROTEIN BAR 14CT' 'RXBAR KIDS BAR 16CT'\n",
      " 'ANNIES LUNCHBOX FAV PK 18CT' 'GM NAT VLLY LYRD 18CT' 'KIND BAR 18CT'\n",
      " 'CLIF BUILDERS BAR 18CT' 'PL SNACK BAR 18CT' 'PL WS FIBER BAR 18CT'\n",
      " 'ATKINS ADV SNACK BAR 20CT' 'GM NAT VLLY WAFER 20CT'\n",
      " 'RKT POPPERS CLUB PK' 'KIND KIDS 20CT' 'PL CHEWY GRANOLA BAR 20CT'\n",
      " 'NUTRI-GRAIN BITES CLUB PK' 'RXBAR PROTEIN BAR 24CT' 'CLIF BASE BAR 24CT'\n",
      " 'PL CEREAL BAR SFT BKS 24CT' 'NUTRI-GRAIN CEREAL BARS 24CT'\n",
      " 'KIND GRANOLA 24CT' 'KIND NT BUTR BAR 24CT' 'PL CHEWY GRANOLA BAR 24CT'\n",
      " 'GM NAT VLLY CHEWY PROTEIN 26CT' 'GM WS TREAT BARS 28CT'\n",
      " 'GM WS TREAT BARS 30CT' 'KIND KIDS 30CT' 'QKR CHEWY DIPPS 30CT'\n",
      " 'NUTRI-GRAIN CEREAL BARS 32CT' 'KIND MINIS 32CT'\n",
      " 'PL CEREAL BAR SFT BKS 32CT' 'GM NAT VLLY SOFT BAKED 34CT'\n",
      " 'KASHI CHEWY BARS CLUB PK' 'GM FIBER ONE 36CT' 'RKT SQUARES CLUB PK 36CT'\n",
      " 'QKR CHEWY 36CT' 'GM WS TREAT BARS 40CT' 'QKR CHEWY CLB SZ 50CT'\n",
      " 'NUTRI-GRAIN CEREAL BARS CLB PK 48CT' 'PL CHEWY GRANOLA BAR 48CT'\n",
      " 'PL CEREAL BAR SFT BKS 48CT' 'KIND GRANOLA 50CT'\n",
      " 'RKT SQUARES CLUB PK 54CT' 'QKR CHEWY CLB SZ 60CT'\n",
      " 'SK PASTRY CRISPS CLUB PK' 'PL CHEWY GRANOLA BAR 60CT'\n",
      " 'RKT SQUARES MINI 80CT' 'GM LARABAR MINIS 20CT' 'KIND THINS 20CT'\n",
      " 'SPECIAL K BAG' 'NUTRI-GRAIN CRMB CK 5CT' 'GM NAT VLLY NUT SEED 10CT'\n",
      " 'NUTRI-GRAIN FRUIT & NUT 5CT' 'CLIF LUNA KETO BAR 4CT'\n",
      " 'GM RATIO KETO SNACK BAR 8CT' 'QKR CHEWY YGRT 10CT' 'QKR FRTY FUN 10CT'\n",
      " 'PL WG BARS 12CT' 'PL CHEWY PROTEIN 15CT' 'GM FIBER ONE DESSERT BARS 6CT'\n",
      " 'GM NAT VLLY WS 8CT' 'PL CEREAL BAR SFT BKS 6CT-8CT'\n",
      " 'NUTRI-GRAIN GRANOLA BARS 5CT' 'KEL CEREAL BREAKFAST BAR 24CT'\n",
      " 'POP-TARTS 48CT' 'QKR CHEWY MINI DIPPS 24CT' 'EPIC CRISPS'\n",
      " 'GM NAT VLLY SNACK MIX 1CT' 'POP-TARTS PRETZEL SS'\n",
      " 'PLUM ORG NUT BUTTER BARS 5CT' 'ANNIES TSTR PSTR 6CT' 'NTR PTH TP 6CT'\n",
      " 'PL TOASTER PASTRY 6CT' 'POP-TARTS PRETZEL 8CT' 'KODIAK GRAHAM BITES 8CT'\n",
      " 'GM NAT VLLY BKFT BSCT 10CT' 'POP-TARTS 16CT' 'POP-TARTS BITES 18CT'\n",
      " 'POP-TARTS BITES 20CT' 'POP-TARTS BITES 28CT' 'POP-TARTS 36CT'\n",
      " 'PL TOASTER PASTRY 36CT' 'GM NAT VLLY BKFT BSCT 1CT'\n",
      " 'GM NAT VLLY CUP 1CT' 'GM NAT VLLY BKFT BSCT 5CT'\n",
      " 'GM NAT VLLY SNACK MIX 5CT' 'GM NAT VLLY CUP 10CT'\n",
      " 'TOASTEMS TSTR PSTRY 12CT' 'QUAKER OTG SNACK MIX 28CT'\n",
      " 'GM NAT VLLY BKFT BSCT 30CT' 'GM FIBER ONE 40CT'\n",
      " 'GM NAT VLLY SNACK MIX 10CT' 'POP-TARTS BITES CLUB PK' 'POP-TARTS 24CT'\n",
      " 'POP-TARTS BITES OTG 6CT' 'TOASTEMS TSTR PSTRY 6CT'\n",
      " 'POP-TARTS PRETZEL 12CT' 'POP-TARTS BITES 10CT'\n",
      " 'GM NAT VLLY BACKPACKER 6CT' 'RKT SQUARES 36CT'\n",
      " 'QKR CEREAL TREAT BAR 16CT' 'PL TREAT MRSH BAR 16CT'\n",
      " 'PST PEBBLES TREATS 16CT' 'SMASH MALLOW CRISPY RICE TRT 16CT'\n",
      " 'HEALTH WARRIOR BAR 18CT' 'PERFECT BAR 18CT' 'ATKINS ENDULGE BAR 22CT'\n",
      " 'GM NAT VLLY WS VARIETY PK 20CT' 'NUTRI-GRAIN BITES 20CT'\n",
      " 'SPECIAL K KETO BARS CLUB PK' 'CLIF LUNA MINI BAR 20CT' 'PL WG BARS 20CT'\n",
      " 'PL SWEET AND SALTY NUT 24CT' 'PERFECT BAR 24CT' 'CLIF DUOS 26CT'\n",
      " 'GM NAT VLLY SOFT BAKED 28CT' 'KIND THINS 28CT' 'QKR CHEWY YGRT 30CT'\n",
      " 'QKR CEREAL TREAT BAR 30CT' 'NATURES BAKERY BAR 32CT'\n",
      " 'GM WS MINI TREATS BARS 35CT' 'NUTRI-GRAIN CEREAL BARS CLB PK 42CT'\n",
      " 'POP-TARTS 42CT' 'GM WS MINI TREATS BARS 53CT' 'GM WS TREAT BARS 53CT'\n",
      " 'RKT SQUARES MINI 100CT' 'POP-TARTS CRISPS 1CT' 'KASHI CEREAL BARS 12CT'\n",
      " 'GM NAT VLLY SOFT BAKED 20CT' 'NATURES BAKERY BAR 20CT'\n",
      " 'GM FIBER ONE DESSERT BARS 10CT' 'RKT SQUARES 32CT'\n",
      " 'SK PASTRY CRISPS 20CT' 'NTR PTH TP 12CT' 'PL TOASTER PASTRY 16CT'\n",
      " 'GM NAT VLLY SNACK MIX 24CT' 'POP-TARTS PRETZEL CLUB PK'\n",
      " 'GLUTINO TSTR PSTR 5CT' 'POP-TARTS PRETZEL 16CT' 'RKT SQUARES 3CT'\n",
      " 'SK PASTRY CRISPS 24CT' 'PL TOASTER PASTRY 6CT-8CT'\n",
      " 'SK PASTRY CRISPS 30CT' 'RKT SQUARES CLUB PK 40CT'\n",
      " 'QKR CHEWY CLB SZ 34CT' 'PERFECT BAR 6CT' 'KIND SFT BKD SQRS 6CT'\n",
      " 'CLIF BASE BAR 3CT' 'KODIAK SFT BKD BRKFST BAR 4CT' 'PL WG BAR 6CT'\n",
      " 'KIND BREAKFAST 12CT' 'PL WG BARS 18CT' 'GM FAMILY FAV BOX 20CT'\n",
      " 'GM LARABAR 30CT' 'RKT HOMESTYLE BARS 30CT' 'GM NAT VLLY WS 32CT'\n",
      " 'CLIF KIDS BAR 36CT' 'NUTRI-GRAIN CEREAL BARS CLB PK 40CT'\n",
      " 'QKR CHEWY FRITO LAY VP 20CT' 'GM NAT VLLY BKFT BSCT 20CT'\n",
      " 'KASHI CRUNCHY BARS 5CT' 'KASHI KIDS BITES'\n",
      " 'GM NAT VLLY CUPS CLB SZ 24CT' 'SPECIAL K PROTEIN BARS CLUB PK']\n",
      "Unique values for 'Kel Size':\n",
      "['NOT APPLICABLE']\n",
      "\n",
      "Unique values for 'Kel Unit Of Measure':\n",
      "['COUNT' 'OUNCE']\n",
      "\n",
      "Unique values for 'Kel Vendor':\n",
      "['APT HLTH LV CMP' 'BST MD CK CMP' 'AWKE CMP' 'BLTPRF CMP'\n",
      " 'SQL NATRLS CMP' 'FWD FD CMP' 'GLANBA CMP' 'GMI CMP' 'GO MCRO CMP'\n",
      " 'HRSHY CMP' 'IOVATE CMP' 'JM SMKR CMP' 'K CMP' 'K N&I CMP'\n",
      " '1440 FDS CMPNY CMP' 'ABOT LAB CMP' 'BALNC BAR CMP' 'SML PLANET CMP'\n",
      " 'KIZE CNCPT CMP' 'LFSTYL EVOL CMP' 'KIND CMP' 'MNDLZ CMP' 'NO COW CMP'\n",
      " 'ZNG BARS CMP' 'GTRADE CMP' 'KDK CMP' 'LEN & LRY CMP' 'MARS CMP'\n",
      " 'NTR BKR CMP' 'MCKEE FD CMP' 'CYTO SPRT CMP' 'HLTH WRRR CMP'\n",
      " 'PEPSI REM CMP' 'QKR CMP' 'PL CMP' 'POST CMP' 'PRFCT BAR CMP'\n",
      " 'PRO BAR CMP' 'PRVN FDS CMP' 'PWR CRNCH CMP' 'REM CMP' 'SMPLY DEL CMP'\n",
      " 'ATKNS CMP' 'WELLNSS FDS CMP' 'THE GD FAT CMP' 'THS BR SVS LVS CMP'\n",
      " 'TRPCN REM CMP' 'BMBO CMP' 'CAVEMAN CMP' 'SCHFF NTRTN CMP'\n",
      " 'SN MD GRWRS CA CMP' 'WORLDWD SPRTS NTRTN CMP' 'PWRBAR CMP'\n",
      " 'TASTY BKNG CMP' 'JMY NTRL FD CMP' 'THAT IT NTRN CMP' 'THNDRBRD CMP'\n",
      " 'HRML FD CMP' 'NSTL CMP' 'NXTFDS CMP' 'TAOS MTN ENGY CMP' 'LINK SNK CMP'\n",
      " 'RVRSD NATRL FDS CMP' 'SQR ORGNCS CMP' 'VANS CMP' 'ANNIES CMP'\n",
      " 'CMPBL REM CMP' 'ZEEZEES CMP' 'NTRS PTH CMP' 'PAM PROD CMP'\n",
      " 'SCHLZ BRCH CMP' 'HN CLSTL CMP' 'PLLSBRY CMP' 'NB CMP' 'SBD FD CMP'\n",
      " 'GLUTNO CMP' 'HAPPY FMLY CMP' 'SMPLY EGHT CMP' 'FRT-LAY CMP'\n",
      " 'DV KLLR BRD CMP' 'ODAWLA CMP' 'SUN-RYPE PD CMP' 'KFR CMP' 'B&G FD CMP'\n",
      " 'FBC CMP' 'PHRMVT CMP' 'EAS CMP' 'DANONE CMP' 'PRMTN N MTN CMP'\n",
      " 'NRTHWST NTRTNL FDS CMP' 'ARBR INV CMP' 'DNX FD CMP' 'PCHN VNTRS CMP'\n",
      " 'BCH-NT NTRTN CMP' 'NTVE AMER NTRL CMP' 'WLD ZORA CMP'\n",
      " 'ORGNC VLLY FRMS CMP' 'THSND HLLS CTTL CMPN CMP' 'DOLE CMP'\n",
      " 'COKE REM CMP' 'CNTRY ARCH CMP' 'QRTR SHR CMP' 'MARIANI PKG CMP'\n",
      " 'SWEET CTTL CMP' 'BCK 2 NTR CMP' 'CONGRA CMP' 'SNYDR CMP'\n",
      " 'TREE HS FD CMP']\n",
      "\n",
      "Unique values for 'KEL_VENDOR_HIGH':\n",
      "['APT HLTH LV CMP' 'BST MD CK CMP' 'AWKE CMP' 'BLTPRF CMP'\n",
      " 'SQL NATRLS CMP' 'FWD FD CMP' 'GLANBA CMP' 'GMI CMP' 'GO MCRO CMP'\n",
      " 'HRSHY CMP' 'IOVATE CMP' 'JM SMKR CMP' 'KNOVA CMP' '1440 FDS CMPNY CMP'\n",
      " 'ABOT LAB CMP' 'BALNC BAR CMP' 'SML PLANET CMP' 'KIZE CNCPT CMP'\n",
      " 'LFSTYL EVOL CMP' 'KIND CMP' 'MNDLZ CMP' 'NO COW CMP' 'ZNG BARS CMP'\n",
      " 'GTRADE CMP' 'KDK CMP' 'LEN & LRY CMP' 'MARS CMP' 'NTR BKR CMP'\n",
      " 'MCKEE FD CMP' 'CYTO SPRT CMP' 'HLTH WRRR CMP' 'PEPSI REM CMP' 'QKR CMP'\n",
      " 'PL CMP' 'POST CMP' 'PRFCT BAR CMP' 'PRO BAR CMP' 'PRVN FDS CMP'\n",
      " 'PWR CRNCH CMP' 'REM CMP' 'SMPLY DEL CMP' 'ATKNS CMP' 'WELLNSS FDS CMP'\n",
      " 'THE GD FAT CMP' 'THS BR SVS LVS CMP' 'TRPCN REM CMP' 'BMBO CMP'\n",
      " 'CAVEMAN CMP' 'SCHFF NTRTN CMP' 'SN MD GRWRS CA CMP'\n",
      " 'WORLDWD SPRTS NTRTN CMP' 'PWRBAR CMP' 'TASTY BKNG CMP' 'JMY NTRL FD CMP'\n",
      " 'THAT IT NTRN CMP' 'THNDRBRD CMP' 'HRML FD CMP' 'NSTL CMP' 'NXTFDS CMP'\n",
      " 'TAOS MTN ENGY CMP' 'LINK SNK CMP' 'RVRSD NATRL FDS CMP' 'SQR ORGNCS CMP'\n",
      " 'VANS CMP' 'ANNIES CMP' 'CMPBL REM CMP' 'ZEEZEES CMP' 'NTRS PTH CMP'\n",
      " 'PAM PROD CMP' 'SCHLZ BRCH CMP' 'HN CLSTL CMP' 'PLLSBRY CMP' 'NB CMP'\n",
      " 'SBD FD CMP' 'GLUTNO CMP' 'HAPPY FMLY CMP' 'SMPLY EGHT CMP' 'FRT-LAY CMP'\n",
      " 'DV KLLR BRD CMP' 'ODAWLA CMP' 'SUN-RYPE PD CMP' 'KFR CMP' 'B&G FD CMP'\n",
      " 'FBC CMP' 'PHRMVT CMP' 'EAS CMP' 'DANONE CMP' 'PRMTN N MTN CMP'\n",
      " 'NRTHWST NTRTNL FDS CMP' 'ARBR INV CMP' 'DNX FD CMP' 'PCHN VNTRS CMP'\n",
      " 'BCH-NT NTRTN CMP' 'NTVE AMER NTRL CMP' 'WLD ZORA CMP'\n",
      " 'ORGNC VLLY FRMS CMP' 'THSND HLLS CTTL CMPN CMP' 'DOLE CMP'\n",
      " 'COKE REM CMP' 'CNTRY ARCH CMP' 'QRTR SHR CMP' 'MARIANI PKG CMP'\n",
      " 'SWEET CTTL CMP' 'BCK 2 NTR CMP' 'CONGRA CMP' 'SNYDR CMP'\n",
      " 'TREE HS FD CMP']\n",
      "\n",
      "Unique values for 'Market/Retailer':\n",
      "['3 Total US Conv' 'ALBSCO Intermountain Div TA' 'AWG Memphis TA'\n",
      " 'AWG Nashville TA' 'AWG Ok City/Dallas/Ft.Worth TA' '2 Total US Drug'\n",
      " 'Big Y Total TA' 'Food Lion Total TA' 'Food Maxx Total TA'\n",
      " 'Stater Bros Total TA' 'Tops Total TA' 'Walgreens Total TA'\n",
      " 'AWG Kansas City TA' '1 Total US Food' '0 Total US xAOC'\n",
      " 'ALBSCO Denver TA' 'ALBSCO Jewel Div TA' 'ALBSCO Portland TA'\n",
      " 'ALBSCO So Cal Div TA' 'ALBSCO Southwest Div TA'\n",
      " 'ALBSCO Total Company TA' 'ALBSCO United Div TA' 'AWG Nebraska TA'\n",
      " 'Ahold Delhaize Corp Total TA' 'ALBSCO Eastern All Other TA'\n",
      " 'ALBSCO Nor Cal Div TA' 'Giant Food Total TA' 'Hannaford Total TA'\n",
      " 'SpartanNash Total Wholesale & Retail TA' 'The Giant Company Total TA'\n",
      " 'ALBSCO Seattle Div TA' 'ALBSCO Shaws Div TA' 'ALBSCO Southern Div TA'\n",
      " 'Brookshire Total TA' 'El Super Total TA' 'Fareway Total TA'\n",
      " 'Giant Eagle Total TA' \"Heinen's Total TA\" 'Hy-Vee Total TA'\n",
      " 'Lucky Total TA' 'Price Chopper Total TA' 'Publix Total TA'\n",
      " \"Sam's Total TA\" 'Save Mart Corp Total TA' 'ShopRite Total TA'\n",
      " 'AWG Gulf Coast TA' 'AWG Springfield TA' 'Ahold USA Corp Total TA'\n",
      " 'Bashas TA' 'CVS Total Corp WO HI TA' 'Coborns Cashwise Total Corp TA'\n",
      " 'Cub Total TA' 'DeMoulas Total TA' 'Dol Gen Total TA'\n",
      " 'Duane Reade Total TA' 'Family Dollar Total TA' 'Festival Foods Total TA'\n",
      " 'Fiesta Total TA' 'KVAT Food City TA' 'Piggly Wiggly Midwest TA'\n",
      " 'SpartanNash Total Wholesale TA' 'Total DeCA CONUS ex AK & HI TA'\n",
      " 'Walgreens Corp Total TA' 'Wegmans Total TA' 'Weis Total TA'\n",
      " 'Rite Aid - Corp Total TA' 'SpartanNash Total Retail TA'\n",
      " 'Stop & Shop Total TA' 'Total DeCA OCONUS TA' 'Walmart Total US 2022 TA'\n",
      " 'BJs Total TA' 'Schnucks Total TA' 'Shoppers Food Warehouse TA'\n",
      " 'Target Total BM/FF TA' 'Meijer Total TA']\n",
      "Unique values for 'Mrkt Desc':\n",
      "['Total US Conv' 'ALBSCO Intermountain Div TA' 'AWG Memphis TA'\n",
      " 'AWG Nashville TA' 'AWG Ok City/Dallas/Ft.Worth TA' 'Total US Drug'\n",
      " 'Big Y Total TA' 'Food Lion Total TA' 'Food Maxx Total TA'\n",
      " 'Stater Bros Total TA' 'Tops Total TA' 'Walgreens Total TA'\n",
      " 'AWG Kansas City TA' 'Total US Food' 'Total US Conv Independents'\n",
      " 'Total US xAOC' 'ALBSCO Denver TA' 'ALBSCO Jewel Div TA'\n",
      " 'ALBSCO Portland TA' 'ALBSCO So Cal Div TA' 'ALBSCO Southwest Div TA'\n",
      " 'ALBSCO Total Company TA' 'ALBSCO United Div TA' 'AWG Nebraska TA'\n",
      " 'Ahold Delhaize Corp Total TA' 'ALBSCO Eastern All Other TA'\n",
      " 'ALBSCO Nor Cal Div TA' 'Giant Food Total TA' 'Hannaford Total TA'\n",
      " 'SpartanNash Total Wholesale & Retail TA' 'The Giant Company Total TA'\n",
      " 'ALBSCO Seattle Div TA' 'ALBSCO Shaws Div TA' 'ALBSCO Southern Div TA'\n",
      " 'Brookshire Total TA' 'El Super Total TA' 'Fareway Total TA'\n",
      " 'Giant Eagle Total TA' \"Heinen's Total TA\" 'Hy-Vee Total TA'\n",
      " 'Lucky Total TA' 'Price Chopper Total TA' 'Publix Total TA'\n",
      " \"Sam's Total TA\" 'Save Mart Corp Total TA' 'ShopRite Total TA'\n",
      " 'AWG Gulf Coast TA' 'AWG Springfield TA' 'Ahold USA Corp Total TA'\n",
      " 'Bashas TA' 'CVS Total Corp WO HI TA' 'Coborns Cashwise Total Corp TA'\n",
      " 'Cub Total TA' 'DeMoulas Total TA' 'Dol Gen Total TA'\n",
      " 'Duane Reade Total TA' 'Family Dollar Total TA' 'Festival Foods Total TA'\n",
      " 'Fiesta Total TA' 'KVAT Food City TA' 'Piggly Wiggly Midwest TA'\n",
      " 'SpartanNash Total Wholesale TA' 'Total DeCA CONUS ex AK & HI TA'\n",
      " 'Walgreens Corp Total TA' 'Wegmans Total TA' 'Weis Total TA'\n",
      " 'Rite Aid - Corp Total TA' 'SpartanNash Total Retail TA'\n",
      " 'Stop & Shop Total TA' 'Total DeCA OCONUS TA' 'Walmart Total US 2022 TA'\n",
      " 'BJs Total TA' 'Schnucks Total TA' 'Shoppers Food Warehouse TA'\n",
      " 'Target Total BM/FF TA' 'Meijer Total TA']\n",
      "\n",
      "Unique values for 'NmCount':\n",
      "['01' '02' '03' '04' '05' '06' '08' '09' '10' '12' '15' '16' '18' '24'\n",
      " '48' '49' '72' 'DO' 'RE' '14' '20' '07' '60' '36' '32' '30' '19' '21'\n",
      " '40' '25' '22' '28' '50' '34' '54' '26' '35' '42' '80' '96' '27' '58'\n",
      " '70']\n",
      "\n",
      "Unique values for 'PD_YR_dt_frmt':\n",
      "['11/1/2020' '12/1/2020' '11/1/2022' '12/1/2021' '2/1/2021' '11/1/2021'\n",
      " '9/1/2022' '10/1/2022' '5/1/2022' '3/1/2022' '6/1/2022' '8/1/2022'\n",
      " '10/1/2021' '9/1/2021' '4/1/2021' '7/1/2022' '2/1/2022' '1/1/2021'\n",
      " '8/1/2021' '3/1/2021' '1/1/2022' '12/1/2022' '6/1/2021' '5/1/2021'\n",
      " '7/1/2021' '1/1/2023' '4/1/2022' '10/1/2023' '2/1/2023' '3/1/2023'\n",
      " '4/1/2023' '5/1/2023' '6/1/2023' '7/1/2023' '8/1/2023' '9/1/2023']\n",
      "\n",
      "Unique values for 'PricePackCurveby':\n",
      "['CurvebySize']\n",
      "\n",
      "Unique values for 'Sales Chnl':\n",
      "['Aggregate' 'Retail']\n",
      "\n",
      "Unique values for 'Size or Count Color':\n",
      "['NOT APPLICABLE']\n",
      "Unique values for 'Sliding Time Window':\n",
      "['Latest 10 PD 2 YAGO' 'Latest 12 PD' 'Latest 12 PD YAGO']\n",
      "\n",
      "Unique values for 'Units_LBS':\n",
      "['Brand Ladder by Unit']\n",
      "\n",
      "Unique values for 'Vendor & Size':\n",
      "['APT HLTH LV CMP NOT APPLICABLE' 'BST MD CK CMP NOT APPLICABLE'\n",
      " 'AWKE CMP NOT APPLICABLE' 'BLTPRF CMP NOT APPLICABLE'\n",
      " 'SQL NATRLS CMP NOT APPLICABLE' 'FWD FD CMP NOT APPLICABLE'\n",
      " 'GLANBA CMP NOT APPLICABLE' 'GMI CMP NOT APPLICABLE'\n",
      " 'GO MCRO CMP NOT APPLICABLE' 'HRSHY CMP NOT APPLICABLE'\n",
      " 'IOVATE CMP NOT APPLICABLE' 'JM SMKR CMP NOT APPLICABLE'\n",
      " 'K CMP NOT APPLICABLE' 'K N&I CMP NOT APPLICABLE'\n",
      " '1440 FDS CMPNY CMP NOT APPLICABLE' 'ABOT LAB CMP NOT APPLICABLE'\n",
      " 'BALNC BAR CMP NOT APPLICABLE' 'SML PLANET CMP NOT APPLICABLE'\n",
      " 'KIZE CNCPT CMP NOT APPLICABLE' 'LFSTYL EVOL CMP NOT APPLICABLE'\n",
      " 'KIND CMP NOT APPLICABLE' 'MNDLZ CMP NOT APPLICABLE'\n",
      " 'NO COW CMP NOT APPLICABLE' 'ZNG BARS CMP NOT APPLICABLE'\n",
      " 'GTRADE CMP NOT APPLICABLE' 'KDK CMP NOT APPLICABLE'\n",
      " 'LEN & LRY CMP NOT APPLICABLE' 'MARS CMP NOT APPLICABLE'\n",
      " 'NTR BKR CMP NOT APPLICABLE' 'MCKEE FD CMP NOT APPLICABLE'\n",
      " 'CYTO SPRT CMP NOT APPLICABLE' 'HLTH WRRR CMP NOT APPLICABLE'\n",
      " 'PEPSI REM CMP NOT APPLICABLE' 'QKR CMP NOT APPLICABLE'\n",
      " 'PL CMP NOT APPLICABLE' 'POST CMP NOT APPLICABLE'\n",
      " 'PRFCT BAR CMP NOT APPLICABLE' 'PRO BAR CMP NOT APPLICABLE'\n",
      " 'PRVN FDS CMP NOT APPLICABLE' 'PWR CRNCH CMP NOT APPLICABLE'\n",
      " 'REM CMP NOT APPLICABLE' 'SMPLY DEL CMP NOT APPLICABLE'\n",
      " 'ATKNS CMP NOT APPLICABLE' 'WELLNSS FDS CMP NOT APPLICABLE'\n",
      " 'THE GD FAT CMP NOT APPLICABLE' 'THS BR SVS LVS CMP NOT APPLICABLE'\n",
      " 'TRPCN REM CMP NOT APPLICABLE' 'BMBO CMP NOT APPLICABLE'\n",
      " 'CAVEMAN CMP NOT APPLICABLE' 'SCHFF NTRTN CMP NOT APPLICABLE'\n",
      " 'SN MD GRWRS CA CMP NOT APPLICABLE'\n",
      " 'WORLDWD SPRTS NTRTN CMP NOT APPLICABLE' 'PWRBAR CMP NOT APPLICABLE'\n",
      " 'TASTY BKNG CMP NOT APPLICABLE' 'JMY NTRL FD CMP NOT APPLICABLE'\n",
      " 'THAT IT NTRN CMP NOT APPLICABLE' 'THNDRBRD CMP NOT APPLICABLE'\n",
      " 'HRML FD CMP NOT APPLICABLE' 'NSTL CMP NOT APPLICABLE'\n",
      " 'NXTFDS CMP NOT APPLICABLE' 'TAOS MTN ENGY CMP NOT APPLICABLE'\n",
      " 'LINK SNK CMP NOT APPLICABLE' 'RVRSD NATRL FDS CMP NOT APPLICABLE'\n",
      " 'SQR ORGNCS CMP NOT APPLICABLE' 'VANS CMP NOT APPLICABLE'\n",
      " 'ANNIES CMP NOT APPLICABLE' 'CMPBL REM CMP NOT APPLICABLE'\n",
      " 'ZEEZEES CMP NOT APPLICABLE' 'NTRS PTH CMP NOT APPLICABLE'\n",
      " 'PAM PROD CMP NOT APPLICABLE' 'SCHLZ BRCH CMP NOT APPLICABLE'\n",
      " 'HN CLSTL CMP NOT APPLICABLE' 'PLLSBRY CMP NOT APPLICABLE'\n",
      " 'NB CMP NOT APPLICABLE' 'SBD FD CMP NOT APPLICABLE'\n",
      " 'GLUTNO CMP NOT APPLICABLE' 'HAPPY FMLY CMP NOT APPLICABLE'\n",
      " 'SMPLY EGHT CMP NOT APPLICABLE' 'FRT-LAY CMP NOT APPLICABLE'\n",
      " 'DV KLLR BRD CMP NOT APPLICABLE' 'ODAWLA CMP NOT APPLICABLE'\n",
      " 'SUN-RYPE PD CMP NOT APPLICABLE' 'KFR CMP NOT APPLICABLE'\n",
      " 'B&G FD CMP NOT APPLICABLE' 'FBC CMP NOT APPLICABLE'\n",
      " 'PHRMVT CMP NOT APPLICABLE' 'EAS CMP NOT APPLICABLE'\n",
      " 'DANONE CMP NOT APPLICABLE' 'PRMTN N MTN CMP NOT APPLICABLE'\n",
      " 'NRTHWST NTRTNL FDS CMP NOT APPLICABLE' 'ARBR INV CMP NOT APPLICABLE'\n",
      " 'DNX FD CMP NOT APPLICABLE' 'PCHN VNTRS CMP NOT APPLICABLE'\n",
      " 'BCH-NT NTRTN CMP NOT APPLICABLE' 'NTVE AMER NTRL CMP NOT APPLICABLE'\n",
      " 'WLD ZORA CMP NOT APPLICABLE' 'ORGNC VLLY FRMS CMP NOT APPLICABLE'\n",
      " 'THSND HLLS CTTL CMPN CMP NOT APPLICABLE' 'DOLE CMP NOT APPLICABLE'\n",
      " 'COKE REM CMP NOT APPLICABLE' 'CNTRY ARCH CMP NOT APPLICABLE'\n",
      " 'QRTR SHR CMP NOT APPLICABLE' 'MARIANI PKG CMP NOT APPLICABLE'\n",
      " 'SWEET CTTL CMP NOT APPLICABLE' 'BCK 2 NTR CMP NOT APPLICABLE'\n",
      " 'CONGRA CMP NOT APPLICABLE' 'SNYDR CMP NOT APPLICABLE'\n",
      " 'TREE HS FD CMP NOT APPLICABLE']\n",
      "\n",
      "Unique values for 'Vendor/Brand':\n",
      "['PRLY LZBTH' 'BEST MAID COOKIE COMPANY' 'AWAKE' 'BULLETPROOF' 'VEGA'\n",
      " 'DETOUR' 'OVRNGHT OATS BAR' 'BSN BR' 'ON BR' 'THNK' 'GM FBR 1' 'GM NV'\n",
      " 'GM RATIO' 'GM TRT BARS' 'GO MCRO' 'HERSHEY' 'MUSCLETECH'\n",
      " 'JM SMUCKER BR REM' 'KEL NG' 'KEL RKT' 'KNOVA SK' 'KNOVA BEAR NKD'\n",
      " 'MET-RX' 'PURE PROTEIN' 'ZONE' 'BALANCE' 'EPC' 'LARABAR' 'OATMEGA'\n",
      " 'ONE BR' 'RXBAR' 'KIZE' 'NUGO' 'KIND' 'CLIF' 'LUNA' 'NO COW' 'ZING'\n",
      " 'GATORADE' 'KNOVA KSH' 'PR RGNC' 'KDK CAKES' \"LENNY & LARRY'S\"\n",
      " 'MARS BR REM' 'NTRS BKR' 'MCKEE BR REM' 'SNBLT' 'CYTO SPORT MUSCLE MILK'\n",
      " 'HLTH WRRR' 'PEPSICO BR REM' 'QKR BR REM' 'PRVT LBL' 'PST BR REM'\n",
      " 'PST PBBLS TRTS' 'PRFCT BAR' 'PRO BAR' 'FIT CRUNCH' 'POWER CRUNCH'\n",
      " 'REM BR' 'BOBOS' 'ATKNS' 'QST' 'LOVE GD FATS' 'THIS BAR SAVES LIVES'\n",
      " 'TRPCN BR REM' 'MARINELA' 'CAVEMAN' 'SLIM FAST' 'CSCDN FRMS' 'QKR CWY'\n",
      " 'QKR SFT BKD' 'TIGERS MILK' 'SN MD BR' 'POWERBAR' 'TASTYKAKE' 'JIMMYBAR'\n",
      " \"THAT'S IT\" 'THUNDERBIRD' 'HORMEL BR REM' 'JIF' 'KEL PT' 'GDNSS KNWS'\n",
      " 'NESTLE HOLDINGS BR REM' 'GOOD BELLY' 'EVLV BR' 'TAOS MOUNTAIN'\n",
      " \"JACK LINK'S\" 'GRDN OF LF' 'GOOD TO GO' 'SIMPLY PROTEIN'\n",
      " 'SQUARE ORGANICS' 'VANS' 'ANNIES' 'ENJY LIFE' 'GLUCERNA' 'MADE GOOD'\n",
      " 'CAMPBELLS BR REM' 'PLUM' 'ZEEZEES' 'FOOD SHOULD TASTE GOOD' 'NTRS PTH'\n",
      " \"GM AUTUMN'S GOLD\" 'GM BR REM' 'PAMELAS' 'KEL TRT BARS' 'TOASTEM'\n",
      " 'HEALTH VALLEY' 'S&B BR REM' 'EARTHS BST' 'THMS' 'PLLSBRY'\n",
      " 'NABISCO BR BASE' 'SOUTH BEACH' 'QKR TRT BARS' 'GLUTNO' 'HAPPY KIDS'\n",
      " 'GM PRTN 1' 'QKR KIDS ORGANIC' 'JUNKLESS' 'LTL DEB' 'GRANDMAS'\n",
      " 'DV KLLR BRD' 'ODWALLA' 'SUNRYPE' 'BIMBO' 'GD MEASR' 'ENSURE'\n",
      " 'KRAFT BR REM' 'KNOVA BR REM' 'BARBRAS' 'B&G FD BR REM' 'GATORBAR'\n",
      " 'FBC BR' 'ENTENMANNS' 'SOY JOY' 'EAS' 'KEL FIB PLUS' 'DANNON' 'WELCHS'\n",
      " 'ZBD BR' 'ARBOR INVESTMENTS BR REM' 'DNX' 'SIMPLY SNACKIN' 'BEECHNUT'\n",
      " 'TANKA BAR' 'WILD ZORA' 'ORGANIC PRAIRIE' 'THOUSAND HILLS' 'DOLE'\n",
      " 'COKE BR REM' 'COUNTRY ARCHER!' 'KRATOS' 'HAIN CELESTIAL BR REM'\n",
      " 'MARIANI' 'B&G BR REM' 'SWEETWOOD CATTLE CO.' 'GO MCRO BR REM'\n",
      " 'BCK 2 NTR BR REM' 'THE CLTRD SNCKNG C' 'NB 100 CAL' 'SIX STAR'\n",
      " 'CONGRA BR REM' 'AMZNG GRSS' 'EMERALD' 'TREE HS BR REM' 'PRVN REM BR']\n",
      "Unique values for 'X-axis Dimension ':\n",
      "['ALL OTHER' 'VEGA BAR SS' 'THINK THIN PTN BAR 1CT' 'GM FIBER ONE WS 1CT'\n",
      " 'GM NAT VLLY CHEWY PROTEIN 1CT' 'GM NAT VLLY WS 1CT'\n",
      " 'GM RATIO KETO SNACK BAR 1CT' 'NOT APPLICABLE' 'GOMACRO BAR 1CT'\n",
      " 'NUTRI-GRAIN BITES 1CT' 'RKT POPPERS SS' 'SPECIAL K BARS PREMIUM 1CT'\n",
      " 'SPECIAL K PROTEIN BARS SS' 'EPIC BAR 1CT' 'GM LARABAR 1CT'\n",
      " 'RKT SQUARES BIG BAR SS' 'RXBAR KIDS BAR 1CT' 'RXBAR PROTEIN BAR 1CT'\n",
      " 'KIND BAR 1CT' 'KIND PRSD FRT BAR 1CT' 'KIND PRTN BAR 1CT'\n",
      " 'CLIF BASE BAR 1CT' 'CLIF BUILDERS BAR 1CT' 'CLIF NUT BUTTER 1CT'\n",
      " 'CLIF WHOLE LOTTA 1CT' 'CLIF WHY PRTN BAR 1CT'\n",
      " 'CLIF LUNA ALL VARITS BAR 1CT' 'KASHI CHEWY BARS SS' 'KASHI GO BARS SS'\n",
      " 'PURE ANCIENT GRAINS BARS SS' 'PURE FRUIT & NUT BARS SS'\n",
      " 'KODIAK CRUNCHY GRANOLA BARS 1CT' 'KIND NT BUTR BAR 1CT'\n",
      " 'NATURES BAKERY BAR 2CT' 'MCKEE SUNBELT BARS 1CT' 'PL SNACK BAR 1CT'\n",
      " 'PERFECT BAR 1CT' 'PRO BAR 1CT' 'PL TREAT MRSH BAR 1CT'\n",
      " 'QUEST PROTEIN BAR 4CT' 'THINK HIGH PTN BAR 5CT' 'THINK KIDS PTN BAR 5CT'\n",
      " 'GM NAT VLLY CHEWY PROTEIN 5CT' 'CASCFRM GRANOLA 5CT-6CT' 'QKR CHEWY 5CT'\n",
      " 'PL SNACK BAR 5CT' 'ATKINS ADV SNACK BAR 5CT' 'QUEST PROTEIN BAR 1CT'\n",
      " 'GM WS TREAT BARS 1CT' 'NUTRI-GRAIN CEREAL BARS SS'\n",
      " 'RKT SQUARES DUNKD SS' 'RKT SQUARES SS' 'CLIF KIDS BAR 1CT'\n",
      " 'QKR CHEWY 1CT' 'GM NAT VLLY SOFT BAKED 6CT' 'SPECIAL K BARS PREMIUM 6CT'\n",
      " 'NATURES BAKERY BAR 6CT' 'CLIF BASE BAR 6CT'\n",
      " 'SMASH MALLOW CRISPY RICE TRT 6CT' 'KIND BREAKFAST 4CT'\n",
      " 'MCKEE SUNBELT BARS 8-10CT' 'PST PEBBLES TREATS 8CT' 'PERFECT BAR 8CT'\n",
      " 'THINK THIN PTN BAR 10CT' 'GM NAT VLLY CHEWY PROTEIN 10CT'\n",
      " 'KIND GRANOLA 5CT' 'PL CHEWY GRANOLA BAR 10CT' 'GM WS TREAT BARS 12CT'\n",
      " 'GOMACRO BAR 12-15CT' 'RKT SQUARES BIG BAR 12CT' 'RXBAR PROTEIN BAR 12CT'\n",
      " 'KIND BAR 12CT' 'CLIF BASE BAR 12CT' 'CLIF BUILDERS BAR 12CT'\n",
      " 'PL CRUNCHY GRANOLA BAR 6CT' 'QUEST PROTEIN BAR 12CT' 'GM LARABAR 16CT'\n",
      " 'NATURES BAKERY BAR 24CT' 'GM NAT VLLY WS 98CT' 'RKT POPPERS S'\n",
      " 'RKT SHEET' 'POP-TARTS SS' 'SPECIAL K CEREAL BARS SS'\n",
      " 'BEAR NAKED NUT BUTTER BAR 1CT' 'GOODNESSKNOWS 1CT' 'SK PASTRY CRISPS SS'\n",
      " 'KIND BREAKFAST 1CT' 'GM FIBER ONE WS 5CT' 'VANS BAR 5CT'\n",
      " 'QKR BRKF BAR 5CT' 'QKR CHEWY YGRT 5CT' 'ATKINS ADV MEAL BAR 5CT'\n",
      " 'ATKINS ENDULGE BAR 5CT' 'ANNIES GRANOLA BARS'\n",
      " 'GM FIBER ONE DESSERT BRS 5-6CT' 'SPECIAL K CEREAL BARS 6CT'\n",
      " 'SPECIAL K PROTEIN BARS 6CT' 'QKR CHEWY DIPPS 6CT'\n",
      " 'PL CHEWY TRAIL MIX 6CT' 'PL SWEET AND SALTY NUT 6CT' 'RKT SQUARES 8CT'\n",
      " 'BEAR NAKED NUT BUTTER BAR 8CT' 'CLIF WHY PRTN BAR 8CT'\n",
      " 'PL CEREAL BAR SFT BKS 8CT' 'ATKINS ADV MEAL BAR 8CT'\n",
      " 'QUEST PROTEIN BAR 10CT' 'SK PASTRY CRISPS 12CT' 'GM WS TREAT BARS 16CT'\n",
      " 'RKT SQUARES 16CT' 'GM WS PROTEIN TREAT BARS 1CT'\n",
      " 'GM NAT VLLY PACKED 4CT' 'GM RATIO KETO SNACK BAR 4CT'\n",
      " 'KASHI GO BARS 4CT' 'THINK THIN PTN BAR 5CT' 'GM FIBER ONE PROTEIN 5CT'\n",
      " 'GM NAT VLLY SOFT BAKED 5CT' 'GM NAT VLLY WAFER 5CT' 'GM LARABAR 5CT'\n",
      " 'NUTRI-GRAIN BITES 5CT' 'SPECIAL K BARS PREMIUM 5CT' 'RXBAR KIDS BAR 5CT'\n",
      " 'RXBAR PROTEIN BAR 5CT' 'KIND PRTN BAR 5CT' 'CLIF KIDS BAR 5-6CT'\n",
      " 'CLIF WHY PRTN BAR 5CT' 'PL CHEWY GRANOLA BAR 5CT'\n",
      " 'PL WS FIBER BAR 5-6CT' 'QUEST SNACK BAR 5CT' 'PLUM ORG JAMMY SAMMY 5CT'\n",
      " 'GM RATIO KETO SNACK BAR 6CT' 'GM LARABAR 6CT' 'KASHI CEREAL BARS 6CT'\n",
      " 'CLIF LUNA ALL VARITS BAR 6CT' 'GM WS TREAT BARS 8CT'\n",
      " 'NUTRI-GRAIN CEREAL BARS 8CT' 'QKR CHEWY 8CT' 'PL CHEWY GRANOLA BAR 8CT'\n",
      " 'QUEST PROTEIN BAR 8CT' 'GM NAT VLLY MINI 10CT' 'KASHI CRUNCHY BARS 6CT'\n",
      " 'RXBAR PROTEIN BAR 10CT' 'KIND THINS 10CT' 'CLIF KIDS BAR 10-12CT'\n",
      " 'ATKINS ENDULGE BAR 10CT' 'GM FIBER ONE DESSERT BARS 12CT'\n",
      " 'RKT HOMESTYLE BARS 12CT' 'KIND BAR 15CT' 'GM NAT VLLY GRANOLA BITES'\n",
      " 'POP-TARTS BITES 5CT' 'PL CHEWY PROTEIN 5CT' 'KIND CLUSTERS DIPPED'\n",
      " 'CLIF KIDS BAR 15-18CT' 'KIND NT BUTR BAR 4CT' 'ENJOY LIFE PRTN BITES'\n",
      " 'CLIF BASE BAR MINI 20CT' 'QKR CHEWY YGRT 14CT' 'PL TOASTER PASTRY 8CT'\n",
      " 'KIND PRSD FRT BAR 12CT' 'PURE FRUIT & NUT BARS 5CT'\n",
      " 'NATURES BAKERY BAR 18CT' 'GM NAT VLLY CUP 5CT' 'WHENEVER BARS 5CT'\n",
      " 'KEL CEREAL BREAKFAST BAR 6CT' 'QKR CHEWY DIPPS 14CT'\n",
      " 'KASHI LAYERED BARS 6CT' 'PL CEREAL BAR SFT BKS 16CT'\n",
      " 'POP-TARTS BITES SS' 'RKT SQUARES MINI 64CT'\n",
      " 'KODIAK CRUNCHY GRANOLA BARS 6CT' 'QKR CHEWY YGRT 1CT' 'EPIC BAR 12CT'\n",
      " 'SK PASTRY CRISPS 60CT' 'CLIF KIDS FRUIT SNACKS 18CT'\n",
      " 'KEL CEREAL BREAKFAST BAR 18CT' 'KASHI BITES 5CT' 'POP-TARTS SIMPLY 8CT'\n",
      " 'TOASTEMS TSTR PSTRY 36CT' 'JIF PWR UPS 5CT' 'POP-TARTS 8CT'\n",
      " 'POP-TARTS CRISPS 12CT' 'CLIF KIDS FRUIT SNACKS 6CT'\n",
      " 'GM WS TREAT BARS 6CT' 'EARTHS BEST SNCK BAR 8CT'\n",
      " 'GM NAT VLLY CHEWY PROTEIN 15CT' 'POP-TARTS 12CT'\n",
      " 'CLIF KIDS FRUIT SNACKS 1CT' 'GM NAT VLLY PACKED 8CT'\n",
      " 'ATKINS DAY BREAK BAR SQR 5CT' 'ANNIES RC TREAT BAR 5CT'\n",
      " 'PERFECT BAR 4CT' 'CLIF BASE BAR MINI 10CT' 'GM NAT VLLY MINI 20CT'\n",
      " 'QKR FRTY FUN 6CT' 'CLIF NUT BUTTER 5CT' 'POP-TARTS 32CT'\n",
      " 'KIND MINIS 10CT' 'GM FIBER ONE DESSERT BARS 18CT' 'RKT SQUARES 60CT'\n",
      " 'GM LARABAR 18CT' 'GM NAT VLLY WS 30CT' 'QKR BRK SQR 5CT'\n",
      " 'RKT SQUARES MINI 19CT' 'KASHI CHEWY BARS 6CT' 'RKT SQUARES 14CT'\n",
      " 'ATKINS ADV MEAL BAR 16CT' 'QUEST PROTEIN BAR MINIS 14CT'\n",
      " 'NUTRI-GRAIN CEREAL BARS 16CT' 'PL CHEWY GRANOLA BAR 18CT'\n",
      " 'GM WS TREAT BARS 20CT' 'KIND MINIS 20CT' 'QKR CHEWY YGRT 21CT'\n",
      " 'QKR CHEWY 30CT' 'RKT SQUARES MINI 32CT' 'KEL CEREAL BREAKFAST BAR 36CT'\n",
      " 'RKT SQUARES 40CT' 'CLIF DUOS 1CT' 'RXBAR PROTEIN BAR 4CT' 'KIND BAR 4CT'\n",
      " 'KASHI CHEWY BARS 5CT' 'RKT HOMESTYLE BARS 6CT' 'KIND BAR 6CT'\n",
      " 'GM WS PROTEIN TREAT BARS 8CT' 'RXBAR PROTEIN BAR 8CT'\n",
      " 'THINK THIN PTN BAR 12CT' 'KIND PRTN BAR 12CT'\n",
      " 'PL CRUNCHY GRANOLA BAR 12CT' 'MCKEE SUNBELT BARS 15CT'\n",
      " 'SK PASTRY CRISPS 18CT' 'GM NAT VLLY WS 12CT'\n",
      " 'GM NAT VLLY PRTN CRUNCH 5CT' 'RKT POPPERS 5CT' 'SPECIAL K KETO BARS 5CT'\n",
      " 'GM LARABAR 8CT' 'SPECIAL K PROTEIN BARS 8CT' 'GM FIBER ONE WS 10CT'\n",
      " 'KIND GRANOLA 12CT' 'QKR CHEWY 18CT' 'QKR CEREAL TREAT BAR 1CT'\n",
      " 'PL CEREAL BAR SFT BKS 1CT' 'GLUTINO BRKFST BAR 5CT'\n",
      " 'HAPPY KID FRUIT AND OAT BAR 5CT' 'PERFECT KIDS 5CT' 'GM NAT VLLY WS 6CT'\n",
      " 'GM PROTEIN ONE CAL 5CT' 'ENJOY LIFE SNCK BAR 5CT' 'QKR KIDS WG BAR 5CT'\n",
      " 'GM NAT VLLY LYRD 5CT' 'ANNIES PROTEIN BARS 5CT' 'NTR PTH GRANOLA 5CT'\n",
      " 'ANNIES CRISPY SNACK BARS 5CT' 'KIND KIDS 6CT' 'CLIF BUILDERS BAR 6CT'\n",
      " 'PL CEREAL BAR SFT BKS 6CT' 'PILLSBURY SNACK BARS 6CT'\n",
      " 'ATKINS ADV SNACK BAR 8CT' 'GM FIBER ONE PROTEIN 10CT'\n",
      " 'GM RATIO KETO SNACK BAR 12CT' 'RKT SQUARES BIG BAR'\n",
      " 'CLIF NUT BUTTER 12CT' 'QKR CHEWY 12CT' 'GM WS TREAT BARS 24CT'\n",
      " 'RKT SQUARES CLUB PK 25CT' 'GM NAT VLLY WS 36CT' 'GM WS TREAT BARS 36CT'\n",
      " 'GM NAT VLLY WS CLB SZ 48CT' 'RKT SQUARES MINI 52CT' 'CLIF MOJO BAR 1CT'\n",
      " 'GM NAT VLLY SAVORY 5CT' 'KODIAK CHEWY GRANOLA BARS 5CT'\n",
      " 'ATKINS SFT BKD BAR 5CT' 'KIND BREAKFAST 6CT' 'PERFECT BAR MINI 6CT'\n",
      " 'QKR CEREAL TREAT BAR 8CT' 'CLIF BUILDERS BAR 10CT'\n",
      " 'ANNIES GRANOLA BARS 12CT' 'PL TREAT MRSH BAR 12CT' 'CLIF THINS 14CT'\n",
      " 'GM NAT VLLY WS 18CT' 'QUAKER OTG SNACK MIX 20CT'\n",
      " 'RKT HOMESTYLE BARS 24CT' 'CLIF KIDS BAR 24CT' 'CLIF THINS 24CT'\n",
      " 'QKR CHEWY DIPPS 24CT' 'QKR CHEWY MINI 28CT' 'NATURES BAKERY BAR 40CT'\n",
      " 'RKT SQUARES MINI 50CT' 'RKT SQUARES CLUB PK 52CT'\n",
      " 'RXBAR PROTEIN BAR 14CT' 'CLIF BASE BAR 18CT' 'PL CHEWY PROTEIN 10CT'\n",
      " 'GM LARABAR 12CT' 'CLIF DUOS 14CT' 'PL CHEWY PROTEIN 30CT'\n",
      " 'KODIAK GRAHAM BITES' 'SPECIAL K CEREAL BARS 12CT'\n",
      " 'QKR KIDS WG BITES 5CT' 'HEALTH WARRIOR BAR 5CT'\n",
      " 'NTR PTH LV CRN GRANOLA 6CT' 'GM NAT VLLY CHEWY PROTEIN 7CT'\n",
      " 'RKT POPPERS 8CT' 'PL TREAT MRSH BAR 8CT' 'EPIC BAR 9CT'\n",
      " 'CLIF LUNA MINI BAR 10CT' 'GM LARABAR 10CT' 'NUTRI-GRAIN BITES 10CT'\n",
      " 'CLIF LUNA PROTEIN BAR 12CT' 'CLIF WHOLE LOTTA 12CT'\n",
      " 'SPECIAL K PROTEIN BARS 12CT' 'CLIF LUNA BASE BAR 15CT'\n",
      " 'RKT SQUARES MINI 28CT' 'GM FIBER ONE 30CT'\n",
      " 'GM NAT VLLY PRTN CLB SZ 30CT' 'QKR CHEWY DIPPS 34CT'\n",
      " 'SK PASTRY CRISPS 36CT' 'NUTRI-GRAIN CEREAL BARS CLB PK 36CT'\n",
      " 'QKR CHEWY CLB SZ 48CT' 'RKT SQUARES MINI 60CT' 'RKT POPPERS M'\n",
      " \"KELLOGG'S BITES VARIETY PACK 20CT\" 'GM LARABAR 4CT' 'EPIC BAR 4CT'\n",
      " 'GOMACRO BAR 4CT' 'KIND PRTN BAR 4CT' 'KIND PRSD FRT BAR 4CT'\n",
      " 'CLIF NUT BUTTER 4CT' 'PL PROTEIN BAR 4CT' 'JIF GRNL BAR 5CT'\n",
      " 'PURE ANCIENT GRAINS BARS 5CT' 'GOODNESSKNOWS 5CT' 'KIND NT BUTR BAR 6CT'\n",
      " 'QKR CHEWY MINI DIPPS 12CT' 'GM NAT VLLY WS 24CT' 'CLIF DUOS 7CT'\n",
      " 'CASCFRM GRANOLA BAR 8CT' 'PL SNACK BAR 8CT' 'ANNIES GRANOLA BARS 10CT'\n",
      " 'GM PROTEIN ONE CAL 10CT' 'GM WS TREAT BARS 10CT'\n",
      " 'CASCFRM GRANOLA BAR 10CT' 'KIND KIDS 10CT' 'QKR CHEWY DIPPS 10CT'\n",
      " 'CLIF DUOS 12CT' 'PL CHEWY GRANOLA BAR 12CT' 'PL TOASTER PASTRY 12CT'\n",
      " 'QKR CHEWY DIPPS 12CT' 'THINK THIN PTN BAR 15CT' 'GM NAT VLLY WS 15CT'\n",
      " 'KIND GRANOLA 15CT' 'EARTHS BEST SNCK BAR 16CT'\n",
      " 'PL SWEET AND SALTY NUT 18CT' 'GM LARABAR 20CT' 'CLIF KIDS BAR 20CT'\n",
      " 'QKR CHEWY DIPPS 20CT' 'GM NAT VLLY PACKED 24CT' 'QKR CHEWY 24CT'\n",
      " 'GM FIBER ONE WS 15CT' 'CLIF KIDS BAR CLB PK' 'RKT SQUARES MINI 40CT'\n",
      " 'GM RATION KETO CHEWY BAR 4CT' 'GM LARABAR KID 6CT' 'GOMACRO BAR 8CT'\n",
      " 'GM NAT VLLY SOFT BAKED 10CT' 'GM LARABAR MINIS 10CT'\n",
      " 'ANNIES CRISPY SNACK BARS 12CT' 'GM NAT VLLY SOFT BAKED 12CT'\n",
      " 'SK PASTRY CRISPS 5CT' 'RKT POPPERS 6CT' 'HEALTH WARRIOR BAR 6CT'\n",
      " 'GOMACRO KIDS 7CT' 'SMASH MALLOW CRISPY RICE TRT 8CT'\n",
      " 'GM NAT VLLY LYRD 10CT' 'RKT POPPERS 10CT' 'NATURES BAKERY BAR 10CT'\n",
      " 'PL SNACK BAR 10CT' 'VEGA BAR 12CT' 'PL SWEET AND SALTY NUT 12CT'\n",
      " 'RXBAR KIDS BAR 12CT' 'VEGA BAR CLB SZ' 'KIND PRTN BAR 14CT'\n",
      " 'QKR CHEWY BIG 14CT' 'QUEST PROTEIN BAR 14CT' 'RXBAR KIDS BAR 16CT'\n",
      " 'ANNIES LUNCHBOX FAV PK 18CT' 'GM NAT VLLY LYRD 18CT' 'KIND BAR 18CT'\n",
      " 'CLIF BUILDERS BAR 18CT' 'PL SNACK BAR 18CT' 'PL WS FIBER BAR 18CT'\n",
      " 'ATKINS ADV SNACK BAR 20CT' 'GM NAT VLLY WAFER 20CT'\n",
      " 'RKT POPPERS CLUB PK' 'KIND KIDS 20CT' 'PL CHEWY GRANOLA BAR 20CT'\n",
      " 'NUTRI-GRAIN BITES CLUB PK' 'RXBAR PROTEIN BAR 24CT' 'CLIF BASE BAR 24CT'\n",
      " 'PL CEREAL BAR SFT BKS 24CT' 'NUTRI-GRAIN CEREAL BARS 24CT'\n",
      " 'KIND GRANOLA 24CT' 'KIND NT BUTR BAR 24CT' 'PL CHEWY GRANOLA BAR 24CT'\n",
      " 'GM NAT VLLY CHEWY PROTEIN 26CT' 'GM WS TREAT BARS 28CT'\n",
      " 'GM WS TREAT BARS 30CT' 'KIND KIDS 30CT' 'QKR CHEWY DIPPS 30CT'\n",
      " 'NUTRI-GRAIN CEREAL BARS 32CT' 'KIND MINIS 32CT'\n",
      " 'PL CEREAL BAR SFT BKS 32CT' 'GM NAT VLLY SOFT BAKED 34CT'\n",
      " 'KASHI CHEWY BARS CLUB PK' 'GM FIBER ONE 36CT' 'RKT SQUARES CLUB PK 36CT'\n",
      " 'QKR CHEWY 36CT' 'GM WS TREAT BARS 40CT' 'QKR CHEWY CLB SZ 50CT'\n",
      " 'NUTRI-GRAIN CEREAL BARS CLB PK 48CT' 'PL CHEWY GRANOLA BAR 48CT'\n",
      " 'PL CEREAL BAR SFT BKS 48CT' 'KIND GRANOLA 50CT'\n",
      " 'RKT SQUARES CLUB PK 54CT' 'QKR CHEWY CLB SZ 60CT'\n",
      " 'SK PASTRY CRISPS CLUB PK' 'PL CHEWY GRANOLA BAR 60CT'\n",
      " 'RKT SQUARES MINI 80CT' 'GM LARABAR MINIS 20CT' 'KIND THINS 20CT'\n",
      " 'SPECIAL K BAG' 'NUTRI-GRAIN CRMB CK 5CT' 'GM NAT VLLY NUT SEED 10CT'\n",
      " 'NUTRI-GRAIN FRUIT & NUT 5CT' 'CLIF LUNA KETO BAR 4CT'\n",
      " 'GM RATIO KETO SNACK BAR 8CT' 'QKR CHEWY YGRT 10CT' 'QKR FRTY FUN 10CT'\n",
      " 'PL WG BARS 12CT' 'PL CHEWY PROTEIN 15CT' 'GM FIBER ONE DESSERT BARS 6CT'\n",
      " 'GM NAT VLLY WS 8CT' 'PL CEREAL BAR SFT BKS 6CT-8CT'\n",
      " 'NUTRI-GRAIN GRANOLA BARS 5CT' 'KEL CEREAL BREAKFAST BAR 24CT'\n",
      " 'POP-TARTS 48CT' 'QKR CHEWY MINI DIPPS 24CT' 'EPIC CRISPS'\n",
      " 'GM NAT VLLY SNACK MIX 1CT' 'POP-TARTS PRETZEL SS'\n",
      " 'PLUM ORG NUT BUTTER BARS 5CT' 'ANNIES TSTR PSTR 6CT' 'NTR PTH TP 6CT'\n",
      " 'PL TOASTER PASTRY 6CT' 'POP-TARTS PRETZEL 8CT' 'KODIAK GRAHAM BITES 8CT'\n",
      " 'GM NAT VLLY BKFT BSCT 10CT' 'POP-TARTS 16CT' 'POP-TARTS BITES 18CT'\n",
      " 'POP-TARTS BITES 20CT' 'POP-TARTS BITES 28CT' 'POP-TARTS 36CT'\n",
      " 'PL TOASTER PASTRY 36CT' 'GM NAT VLLY BKFT BSCT 1CT'\n",
      " 'GM NAT VLLY CUP 1CT' 'GM NAT VLLY BKFT BSCT 5CT'\n",
      " 'GM NAT VLLY SNACK MIX 5CT' 'GM NAT VLLY CUP 10CT'\n",
      " 'TOASTEMS TSTR PSTRY 12CT' 'QUAKER OTG SNACK MIX 28CT'\n",
      " 'GM NAT VLLY BKFT BSCT 30CT' 'GM FIBER ONE 40CT'\n",
      " 'GM NAT VLLY SNACK MIX 10CT' 'POP-TARTS BITES CLUB PK' 'POP-TARTS 24CT'\n",
      " 'POP-TARTS BITES OTG 6CT' 'TOASTEMS TSTR PSTRY 6CT'\n",
      " 'POP-TARTS PRETZEL 12CT' 'POP-TARTS BITES 10CT'\n",
      " 'GM NAT VLLY BACKPACKER 6CT' 'RKT SQUARES 36CT'\n",
      " 'QKR CEREAL TREAT BAR 16CT' 'PL TREAT MRSH BAR 16CT'\n",
      " 'PST PEBBLES TREATS 16CT' 'SMASH MALLOW CRISPY RICE TRT 16CT'\n",
      " 'HEALTH WARRIOR BAR 18CT' 'PERFECT BAR 18CT' 'ATKINS ENDULGE BAR 22CT'\n",
      " 'GM NAT VLLY WS VARIETY PK 20CT' 'NUTRI-GRAIN BITES 20CT'\n",
      " 'SPECIAL K KETO BARS CLUB PK' 'CLIF LUNA MINI BAR 20CT' 'PL WG BARS 20CT'\n",
      " 'PL SWEET AND SALTY NUT 24CT' 'PERFECT BAR 24CT' 'CLIF DUOS 26CT'\n",
      " 'GM NAT VLLY SOFT BAKED 28CT' 'KIND THINS 28CT' 'QKR CHEWY YGRT 30CT'\n",
      " 'QKR CEREAL TREAT BAR 30CT' 'NATURES BAKERY BAR 32CT'\n",
      " 'GM WS MINI TREATS BARS 35CT' 'NUTRI-GRAIN CEREAL BARS CLB PK 42CT'\n",
      " 'POP-TARTS 42CT' 'GM WS MINI TREATS BARS 53CT' 'GM WS TREAT BARS 53CT'\n",
      " 'RKT SQUARES MINI 100CT' 'POP-TARTS CRISPS 1CT' 'KASHI CEREAL BARS 12CT'\n",
      " 'GM NAT VLLY SOFT BAKED 20CT' 'NATURES BAKERY BAR 20CT'\n",
      " 'GM FIBER ONE DESSERT BARS 10CT' 'RKT SQUARES 32CT'\n",
      " 'SK PASTRY CRISPS 20CT' 'NTR PTH TP 12CT' 'PL TOASTER PASTRY 16CT'\n",
      " 'GM NAT VLLY SNACK MIX 24CT' 'POP-TARTS PRETZEL CLUB PK'\n",
      " 'GLUTINO TSTR PSTR 5CT' 'POP-TARTS PRETZEL 16CT' 'RKT SQUARES 3CT'\n",
      " 'SK PASTRY CRISPS 24CT' 'PL TOASTER PASTRY 6CT-8CT'\n",
      " 'SK PASTRY CRISPS 30CT' 'RKT SQUARES CLUB PK 40CT'\n",
      " 'QKR CHEWY CLB SZ 34CT' 'PERFECT BAR 6CT' 'KIND SFT BKD SQRS 6CT'\n",
      " 'CLIF BASE BAR 3CT' 'KODIAK SFT BKD BRKFST BAR 4CT' 'PL WG BAR 6CT'\n",
      " 'KIND BREAKFAST 12CT' 'PL WG BARS 18CT' 'GM FAMILY FAV BOX 20CT'\n",
      " 'GM LARABAR 30CT' 'RKT HOMESTYLE BARS 30CT' 'GM NAT VLLY WS 32CT'\n",
      " 'CLIF KIDS BAR 36CT' 'NUTRI-GRAIN CEREAL BARS CLB PK 40CT'\n",
      " 'QKR CHEWY FRITO LAY VP 20CT' 'GM NAT VLLY BKFT BSCT 20CT'\n",
      " 'KASHI CRUNCHY BARS 5CT' 'KASHI KIDS BITES'\n",
      " 'GM NAT VLLY CUPS CLB SZ 24CT' 'SPECIAL K PROTEIN BARS CLUB PK']\n",
      "\n",
      "Unique values for 'YrPd':\n",
      "['2020/11' '2020/12' '2022/11' '2021/12' '2021/2' '2021/11' '2022/9'\n",
      " '2022/10' '2022/5' '2022/3' '2022/6' '2022/8' '2021/10' '2021/9' '2021/4'\n",
      " '2022/7' '2022/2' '2021/1' '2021/8' '2021/3' '2022/1' '2022/12' '2021/6'\n",
      " '2021/5' '2021/7' '2023/1' '2022/4' '2023/10' '2023/2' '2023/3' '2023/4'\n",
      " '2023/5' '2023/6' '2023/7' '2023/8' '2023/9']\n",
      "\n",
      "Unique values for '% Unit Non-Promoted':\n",
      "['100%' '80%' '95%' '91%' '94%' '83%' '92%' '89%' '99%' '86%' '96%' '68%'\n",
      " '30%' nan '31%' '38%' '98%' '48%' '15%' '74%' '3%' '82%' '93%' '90%'\n",
      " '63%' '56%' '54%' '97%' '67%' '71%' '24%' '14%' '26%' '87%' '70%' '66%'\n",
      " '88%' '69%' '59%' '85%' '81%' '47%' '53%' '57%' '78%' '50%' '84%' '62%'\n",
      " '79%' '19%' '0%' '75%' '61%' '49%' '64%' '72%' '25%' '73%' '52%' '76%'\n",
      " '40%' '32%' '65%' '77%' '33%' '37%' '43%' '55%' '5%' '22%' '2%' '1%' '9%'\n",
      " '23%' '28%' '42%' '58%' '21%' '18%' '41%' '46%' '17%' '35%' '29%' '44%'\n",
      " '51%' '36%' '34%' '13%' '60%' '20%' '45%' '27%' '11%' '12%' '10%' '8%'\n",
      " '16%' '6%' '4%' '39%' '7%']\n",
      "\n",
      "Unique values for '% Unit Promoted ':\n",
      "['0%' '20%' '5%' '9%' '6%' '17%' '8%' '11%' '1%' '14%' '4%' '32%' '70%'\n",
      " nan '69%' '62%' '2%' '52%' '85%' '26%' '97%' '18%' '7%' '10%' '37%' '44%'\n",
      " '46%' '3%' '33%' '29%' '76%' '86%' '74%' '13%' '30%' '34%' '12%' '31%'\n",
      " '41%' '15%' '19%' '53%' '47%' '43%' '22%' '50%' '16%' '38%' '21%' '81%'\n",
      " '100%' '25%' '39%' '51%' '36%' '28%' '75%' '27%' '48%' '24%' '60%' '68%'\n",
      " '35%' '23%' '67%' '63%' '57%' '45%' '95%' '78%' '98%' '99%' '91%' '77%'\n",
      " '72%' '58%' '42%' '79%' '82%' '59%' '54%' '83%' '65%' '71%' '56%' '49%'\n",
      " '64%' '66%' '87%' '40%' '80%' '55%' '73%' '89%' '88%' '90%' '92%' '84%'\n",
      " '94%' '96%' '61%' '93%']\n",
      "\n",
      "Unique values for 'avg price diff':\n",
      "[nan '$0.264' '($0.097)' ... '$6.674' '$4.643' '$10.419']\n",
      "Unique values for 'avg price/lbs diff':\n",
      "[nan '$1.193' '($0.882)' ... '$9.191' '$16.205' '($21.204)']\n",
      "\n",
      "Unique values for 'Avg, Price Chg':\n",
      "[nan '9.3%' '-4.9%' ... '213.1%' '471.2%' '381.4%']\n",
      "\n",
      "Unique values for 'Avg, Price/LBS Chg':\n",
      "[nan '9.3%' '-4.9%' ... '436.7%' '644.5%' '815.0%']\n",
      "\n",
      "Unique values for 'Avg. Price':\n",
      "['$2.71' '$1.71' '$2.08' ... '$26.18' '$33.95' '$32.61']\n",
      "\n",
      "Unique values for 'Avg. Price yago':\n",
      "[nan '$2.83' '$1.97' ... '$33.72' '$33.95' '$34.18']\n",
      "\n",
      "Unique values for 'Avg. Price/Cnt':\n",
      "['$2.71' '$1.71' '$2.08' '$3.00' '$2.49' '$3.27' '$2.03' '$2.88' '$2.84'\n",
      " '$2.23' '$0.79' '$1.22' '$1.37' '$1.87' '$1.09' '$3.18' '$1.61' '$3.25'\n",
      " '$2.00' '$7.85' '$1.59' '$0.89' '$0.54' '$3.68' '$0.99' '$2.10' '$1.99'\n",
      " '$1.35' '$0.97' '$0.48' '$3.49' '$1.36' nan '$1.14' '$2.91' '$2.29'\n",
      " '$2.18' '$1.29' '$2.11' '$1.46' '$0.56' '$1.79' '$1.97' '$1.50' '$0.62'\n",
      " '$2.31' '$2.42' '$1.44' '$1.51' '$2.51' '$2.19' '$3.77' '$1.89' '$2.21'\n",
      " '$0.73' '$0.50' '$1.07' '$1.83' '$1.47' '$2.04' '$2.96' '$1.57' '$1.91'\n",
      " '$1.85' '$3.02' '$0.68' '$2.95' '$2.89' '$3.76' '$3.17' '$2.07' '$2.37'\n",
      " '$2.64' '$3.34' '$2.48' '$1.62' '$2.70' '$1.30' '$1.49' '$0.41' '$1.25'\n",
      " '$1.95' '$0.66' '$0.88' '$0.83' '$0.80' '$0.30' '$0.20' '$0.86' '$0.87'\n",
      " '$2.77' '$2.67' '$1.33' '$2.39' '$1.73' '$2.12' '$2.83' '$1.52' '$1.13'\n",
      " '$1.03' '$1.48' '$1.04' '$0.27' '$1.45' '$2.74' '$1.19' '$0.52' '$1.43'\n",
      " '$1.38' '$0.37' '$1.23' '$1.64' '$1.00' '$1.75' '$0.39' '$0.85' '$1.12'\n",
      " '$1.98' '$1.55' '$1.58' '$1.21' '$2.28' '$1.01' '$2.32' '$0.75' '$0.70'\n",
      " '$1.11' '$0.46' '$0.25' '$0.29' '$0.40' '$0.38' '$0.51' '$0.23' '$0.21'\n",
      " '$0.28' '$0.17' '$0.09' '$0.19' '$0.18' '$0.22' '$0.10' '$0.12' '$0.16'\n",
      " '$0.11' '$0.05' '$0.02' '$0.47' '$3.28' '$1.90' '$1.86' '$2.59' '$2.02'\n",
      " '$3.30' '$2.92' '$0.84' '$1.15' '$1.60' '$1.82' '$2.25' '$8.67' '$1.66'\n",
      " '$0.58' '$3.62' '$1.69' '$6.40' '$1.94' '$2.24' '$2.68' '$1.77' '$1.78'\n",
      " '$0.55' '$2.99' '$3.32' '$2.14' '$2.56' '$2.36' '$2.94' '$2.80' '$1.56'\n",
      " '$1.16' '$0.94' '$1.42' '$2.86' '$2.27' '$0.36' '$0.96' '$0.61' '$0.43'\n",
      " '$0.44' '$1.68' '$2.06' '$1.74' '$1.53' '$2.33' '$0.91' '$0.49' '$1.40'\n",
      " '$2.90' '$2.87' '$3.19' '$2.05' '$1.76' '$3.15' '$2.01' '$2.15' '$1.93'\n",
      " '$2.53' '$2.45' '$0.69' '$3.56' '$5.29' '$2.22' '$0.90' '$0.92' '$2.81'\n",
      " '$2.35' '$0.81' '$0.33' '$1.54' '$0.42' '$1.32' '$2.43' '$2.79' '$2.98'\n",
      " '$5.00' '$0.03' '$1.08' '$0.60' '$0.72' '$2.16' '$0.65' '$0.74' '$1.20'\n",
      " '$0.71' '$0.67' '$0.08' '$0.34' '$0.53' '$0.24' '$0.15' '$0.26' '$0.14'\n",
      " '$0.32' '$0.13' '$0.06' '$3.09' '$1.88' '$4.43' '$1.27' '$2.93' '$1.92'\n",
      " '$1.63' '$1.84' '$3.39' '$1.65' '$1.72' '$1.96' '$2.69' '$1.34' '$0.82'\n",
      " '$0.64' '$0.76' '$0.35' '$2.20' '$1.80' '$1.31' '$1.24' '$0.57' '$2.72'\n",
      " '$2.75' '$2.26' '$1.06' '$3.46' '$0.93' '$1.05' '$1.67' '$0.59' '$1.02'\n",
      " '$2.55' '$3.07' '$1.81' '$0.63' '$0.98' '$1.26' '$2.50' '$1.70' '$2.44'\n",
      " '$4.99' '$0.78' '$3.08' '$10.15' '$0.77' '$2.97' '$2.38' '$0.95' '$2.57'\n",
      " '$1.17' '$1.28' '$2.85' '$2.78' '$49.99' '$2.61' '$1.10' '$0.31' '$2.62'\n",
      " '$2.73' '$0.45' '$3.94' '$3.42' '$2.47' '$3.50' '$3.65' '$3.11' '$2.52'\n",
      " '$2.41' '$2.54' '$2.17' '$3.48' '$3.36' '$2.34' '$2.76' '$3.40' '$3.59'\n",
      " '$2.65' '$2.40' '$2.09' '$3.53' '$3.75' '$3.10' '$1.39' '$3.05' '$2.63'\n",
      " '$2.13' '$1.41' '$3.13' '$3.03' '$10.99' '$0.07' '$3.06' '$49.95' '$2.60'\n",
      " '$5.06' '$3.44' '$3.12' '$3.04' '$3.86' '$3.58' '$3.24' '$3.35' '$4.02'\n",
      " '$3.64' '$3.54' '$3.01' '$3.60' '$4.04' '$3.37' '$3.20' '$2.58' '$3.63'\n",
      " '$2.82' '$3.14' '$3.73' '$3.47' '$3.16' '$2.30' '$2.46' '$3.88' '$2.66'\n",
      " '$10.67' '$4.73' '$3.78' '$8.70' '$8.89' '$12.34' '$4.27' '$3.72' '$3.66'\n",
      " '$1.18' '$0.01' '$0.04' '$3.95' '$3.99' '$3.85' '$3.26' '$6.99' '$3.89'\n",
      " '$3.61' '$4.00' '$3.29' '$4.67' '$3.38' '$3.82' '$3.81' '$3.51' '$3.57'\n",
      " '$3.45' '$3.74' '$3.98' '$3.55' '$3.79' '$3.22' '$3.33' '$3.71' '$3.43'\n",
      " '$3.96' '$3.31' '$5.17' '$4.39' '$5.99' '$19.99' '$0.00' '$10.49' '$5.46'\n",
      " '$4.18' '$3.41' '$4.49' '$3.52' '$10.71' '$3.23' '$7.60' '$4.45' '$4.89'\n",
      " '$10.82' '$4.50' '$3.21' '$4.94' '$4.79' '$5.19' '$7.49' '$8.99' '$10.00'\n",
      " '$3.91' '$4.36' '$4.64' '$5.71' '$9.98' '$4.90' '$5.93' '$6.06' '$29.99'\n",
      " '$6.12' '$5.53' '$7.86' '$5.41' '$7.87' '$4.97' '$5.18' '$3.90' '$5.04'\n",
      " '$3.67' '$7.14' '$4.68' '$8.15' '$7.59' '$4.21' '$3.69' '$8.87' '$3.70'\n",
      " '$5.23' '$4.03' '$9.21' '$5.09' '$7.48' '$9.08' '$5.50' '$4.44' '$4.98'\n",
      " '$5.86' '$5.28' '$9.99' '$5.92' '$9.02' '$3.92' '$7.99' '$5.74' '$6.77'\n",
      " '$4.70' '$13.75' '$5.69' '$7.21' '$7.27' '$6.64' '$4.75' '$8.79' '$4.17'\n",
      " '$6.01' '$5.59' '$4.19' '$6.59' '$8.97' '$5.57' '$4.28' '$13.92' '$4.74'\n",
      " '$8.06' '$4.31' '$8.90' '$8.49' '$4.29' '$7.97' '$6.67' '$3.80' '$5.70'\n",
      " '$6.33' '$28.78' '$4.13' '$4.71' '$3.87' '$4.10' '$4.87' '$11.00' '$3.93'\n",
      " '$4.09' '$6.70' '$4.01' '$11.49' '$4.26' '$6.92' '$11.67' '$6.74' '$3.83'\n",
      " '$7.53' '$6.56' '$6.24' '$8.29' '$6.14' '$7.73' '$5.27' '$5.10' '$4.76'\n",
      " '$5.97' '$8.03' '$6.00' '$15.18' '$9.49' '$6.53' '$5.88' '$4.65' '$16.20'\n",
      " '$17.99' '$5.64' '$6.27' '$7.43' '$6.83' '$6.21' '$7.30' '$5.84' '$6.04'\n",
      " '$6.49' '$6.44' '$6.41' '$6.78' '$7.95' '$7.11' '$4.60' '$6.62' '$6.46'\n",
      " '$9.15' '$4.56' '$5.16' '$7.08' '$6.23' '$7.18' '$6.69' '$7.29' '$7.47'\n",
      " '$7.71' '$7.06' '$7.40' '$7.34' '$7.12' '$6.02' '$6.82' '$4.69' '$15.09'\n",
      " '$6.61' '$7.26' '$7.33' '$7.04' '$6.98' '$7.07' '$7.03' '$6.51' '$7.32'\n",
      " '$7.20' '$7.45' '$6.76' '$15.29' '$4.20' '$6.15' '$14.76' '$7.76' '$7.79'\n",
      " '$7.37' '$7.51' '$7.80' '$3.97' '$5.78' '$5.42' '$15.74' '$4.30' '$5.35'\n",
      " '$9.42' '$19.98' '$29.88' '$5.62' '$4.95' '$6.72' '$7.44' '$5.90' '$4.88'\n",
      " '$4.16' '$4.84' '$11.74' '$11.99' '$6.57' '$4.08' '$6.38' '$6.42' '$6.36'\n",
      " '$6.22' '$7.13' '$5.98' '$7.17' '$7.10' '$6.52' '$4.63' '$7.42' '$7.69'\n",
      " '$7.19' '$13.83' '$29.01' '$6.34' '$6.55' '$6.65' '$6.45' '$6.13' '$5.05'\n",
      " '$8.19' '$6.05' '$7.70' '$6.35' '$7.57' '$6.43' '$7.77' '$7.66' '$5.37'\n",
      " '$6.81' '$8.73' '$5.67' '$4.05' '$15.82' '$4.11' '$6.94' '$5.96' '$5.95'\n",
      " '$6.37' '$6.71' '$4.52' '$4.93' '$4.25' '$5.79' '$8.27' '$4.81' '$6.10'\n",
      " '$8.72' '$5.43' '$6.11' '$5.66' '$9.44' '$4.15' '$4.78' '$6.17' '$6.88'\n",
      " '$8.69' '$6.68' '$6.48' '$4.37' '$4.91' '$4.57' '$5.56' '$35.99' '$5.22'\n",
      " '$29.92' '$15.94' '$6.20' '$4.55' '$5.49' '$10.77' '$7.00' '$5.48'\n",
      " '$8.10' '$4.86' '$5.01' '$5.07' '$4.85' '$5.03' '$4.24' '$4.07' '$12.22'\n",
      " '$33.99' '$9.14' '$5.60' '$4.48' '$5.12' '$4.51' '$6.54' '$4.42' '$7.96'\n",
      " '$5.89' '$4.54' '$4.12' '$4.46' '$4.96' '$4.38' '$4.92' '$4.59' '$4.58'\n",
      " '$16.80' '$11.21' '$8.61' '$4.77' '$15.37' '$9.23' '$5.24' '$16.69'\n",
      " '$6.50' '$14.79' '$4.61' '$15.39' '$8.57' '$12.63' '$6.16' '$7.36'\n",
      " '$8.28' '$6.07' '$6.08' '$6.66' '$6.31' '$6.25' '$6.47' '$6.30' '$5.94'\n",
      " '$5.77' '$5.82' '$6.97' '$5.81' '$7.61' '$5.40' '$5.83' '$4.06' '$7.62'\n",
      " '$3.84' '$10.93' '$14.97' '$5.55' '$6.19' '$10.38' '$15.00' '$7.89'\n",
      " '$6.86' '$6.85' '$6.79' '$7.05' '$7.28' '$7.31' '$5.73' '$6.29' '$7.41'\n",
      " '$6.80' '$7.98' '$5.68' '$7.52' '$6.09' '$5.91' '$8.86' '$8.36' '$8.71'\n",
      " '$5.87' '$7.54' '$6.75' '$7.25' '$7.50' '$6.03' '$28.77' '$4.23' '$5.61'\n",
      " '$4.14' '$6.90' '$7.74' '$8.09' '$7.02' '$7.81' '$8.08' '$8.17' '$7.94'\n",
      " '$8.18' '$5.85' '$7.35' '$6.95' '$7.16' '$7.68' '$9.43' '$7.38' '$7.92'\n",
      " '$7.22' '$4.34' '$8.85' '$7.09' '$8.91' '$4.22' '$6.89' '$7.01' '$5.15'\n",
      " '$4.83' '$5.75' '$7.93' '$7.58' '$6.39' '$7.67' '$5.25' '$7.84' '$4.66'\n",
      " '$6.63' '$9.31' '$8.95' '$7.82' '$6.73' '$6.84' '$9.65' '$9.69' '$8.68'\n",
      " '$5.33' '$11.98' '$8.00' '$8.02' '$8.75' '$8.59' '$8.25' '$8.46' '$7.15'\n",
      " '$15.47' '$16.42' '$12.00' '$13.99' '$15.98' '$8.30' '$10.76' '$4.47'\n",
      " '$4.32' '$5.30' '$21.83' '$12.81' '$16.02' '$13.49' '$15.40' '$11.95'\n",
      " '$14.95' '$13.26' '$13.29' '$14.54' '$15.95' '$16.07' '$18.99' '$9.29'\n",
      " '$8.82' '$7.39' '$10.57' '$4.53' '$10.12' '$7.88' '$10.69' '$6.93'\n",
      " '$5.54' '$6.28' '$5.36' '$11.61' '$6.26' '$21.46' '$7.63' '$7.83' '$5.08'\n",
      " '$7.55' '$5.44' '$9.55' '$7.72' '$8.98' '$10.59' '$6.60' '$9.32' '$5.38'\n",
      " '$8.42' '$6.87' '$7.65' '$4.82' '$5.02' '$7.56' '$8.23' '$10.52' '$9.35'\n",
      " '$14.73' '$4.35' '$13.69' '$11.83' '$16.99' '$14.40' '$8.58' '$25.82'\n",
      " '$5.45' '$11.87' '$5.14' '$10.84' '$10.72' '$9.11' '$15.20' '$8.51'\n",
      " '$5.63' '$4.72' '$8.77' '$5.72' '$5.51' '$4.33' '$15.99' '$6.96' '$4.80'\n",
      " '$15.89' '$15.17' '$21.49' '$12.95' '$5.58' '$5.13' '$5.80' '$5.11'\n",
      " '$6.91']\n",
      "Unique values for 'Avg. Price/LBS':\n",
      "['$30.98' '$6.27' '$24.33' ... '$45.43' '$52.92' '$45.55']\n",
      "\n",
      "Unique values for 'Avg. Price/LBS yago':\n",
      "[nan '$12.87' '$17.95' ... '$43.83' '$49.04' '$45.18']\n",
      "\n",
      "Unique values for 'Data Update Date':\n",
      "['11/1/2020' '12/1/2020' '11/1/2022' '12/1/2021' '2/1/2021' '11/1/2021'\n",
      " '9/1/2022' '10/1/2022' '5/1/2022' '3/1/2022' '6/1/2022' '8/1/2022'\n",
      " '10/1/2021' '9/1/2021' '4/1/2021' '7/1/2022' '2/1/2022' '1/1/2021'\n",
      " '8/1/2021' '3/1/2021' '1/1/2022' '12/1/2022' '6/1/2021' '5/1/2021'\n",
      " '7/1/2021' '1/1/2023' '4/1/2022' '10/1/2023' '2/1/2023' '3/1/2023'\n",
      " '4/1/2023' '5/1/2023' '6/1/2023' '7/1/2023' '8/1/2023' '9/1/2023']\n",
      "\n",
      "Unique values for 'Dol % Chg':\n",
      "[nan '11%' '-5%' ... '45864%' '15351%' '12027%']\n",
      "\n",
      "Unique values for 'Dol mm':\n",
      "['$0.0M' '$0.6M' '$0.4M' '$0.1M' '$0.3M' '$3.1M' '$0.5M' '$1.5M' '$3.2M'\n",
      " '$1.1M' '$4.9M' '$0.2M' '$1.2M' '$2.6M' '$0.8M' '$3.9M' '$2.0M' '$4.3M'\n",
      " '$1.0M' '$0.7M' '$1.4M' '$5.9M' '$3.8M' '$5.4M' '$6.5M' '$2.9M' '$0.9M'\n",
      " '$1.7M' '$3.4M' '$1.3M' '$1.6M' '$3.5M' '$2.1M' '$2.8M' '$2.5M' '$2.7M'\n",
      " '$5.6M' '$2.2M' '$2.3M' '$4.4M' '$4.8M' '$4.2M' '$6.7M' '$1.8M' '$1.9M'\n",
      " '$3.6M' '$3.3M' '$3.0M' '$4.0M' '$6.1M' '$2.4M' '$12.9M' '$5.2M' '$4.7M'\n",
      " '$4.6M' '$7.0M' '$5.8M' '$5.7M' '$8.1M' '$5.5M' '$4.5M' '$14.0M' '$5.1M'\n",
      " '$6.8M' '$12.8M' '$3.7M' '$18.5M' '$6.3M' '$8.6M' '$5.3M' '$7.1M' '$6.6M'\n",
      " '$5.0M' '$6.2M' '$6.4M' '$4.1M' '$9.2M' '$7.4M' '$19.6M' '$7.8M' '$8.7M'\n",
      " '$7.5M' '$15.2M' '$7.3M' '$18.6M' '$6.0M' '$9.8M' '$7.2M' '$15.4M'\n",
      " '$15.6M' '$13.2M' '$14.4M' '$7.7M' '$8.9M' '$7.9M' '$11.7M' '$16.3M'\n",
      " '$11.5M' '$21.0M' '$14.2M' '$11.4M' '$18.1M' '$13.7M' '$14.8M' '$11.8M'\n",
      " '$16.2M' '$11.1M' '$21.5M' '$7.6M' '$10.1M' '$8.0M' '$6.9M' '$16.1M'\n",
      " '$22.6M' '$10.9M' '$8.5M' '$9.0M' '$22.1M' '$9.3M' '$10.0M' '$22.2M'\n",
      " '$9.6M' '$8.3M' '$9.4M' '$9.5M' '$8.2M' '$11.2M' '$9.7M' '$11.6M'\n",
      " '$15.1M' '$10.5M' '$13.4M' '$13.6M' '$16.0M' '$20.9M' '$17.6M' '$9.1M'\n",
      " '$12.7M' '$28.3M' '$10.7M' '$13.1M' '$10.3M' '$23.0M' '$8.4M' '$8.8M'\n",
      " '$12.4M' '$11.0M' '$24.2M' '$12.0M' '$11.9M' '$19.3M' '$13.3M' '$17.7M'\n",
      " '$10.8M' '$28.6M' '$11.3M' '$24.5M' '$19.1M' '$18.0M' '$21.3M' '$15.5M'\n",
      " '$17.9M' '$16.9M' '$21.8M' '$17.3M' '$26.9M' '$19.7M' '$20.7M' '$18.3M'\n",
      " '$17.0M' '$24.4M' '$18.8M' '$20.5M' '$20.8M' '$13.5M' '$23.1M' '$16.4M'\n",
      " '$15.8M' '$10.6M' '$28.2M' '$21.9M' '$9.9M' '$12.2M' '$22.8M' '$12.6M'\n",
      " '$15.0M' '$12.5M' '$22.4M' '$15.7M' '$29.4M' '$12.1M' '$10.4M' '$22.7M'\n",
      " '$23.3M' '$28.0M' '$13.9M' '$24.3M' '$19.5M' '$16.6M' '$28.1M' '$22.9M'\n",
      " '$19.9M' '$14.3M' '$12.3M' '$21.7M' '$16.7M' '$18.7M' '$14.7M' '$16.8M'\n",
      " '$20.6M' '$17.4M' '$15.9M' '$17.5M' '$27.3M' '$18.9M' '$23.2M' '$17.2M'\n",
      " '$26.8M' '$19.4M' '$14.9M' '$20.1M' '$17.1M' '$20.2M' '$19.2M' '$20.3M'\n",
      " '$14.5M' '$21.6M' '$24.8M' '$10.2M' '$20.4M' '$26.1M' '$13.0M' '$28.5M'\n",
      " '$14.6M' '$15.3M' '$16.5M' '$18.2M' '$14.1M' '$13.8M' '$19.8M' '$17.8M']\n",
      "\n",
      "Unique values for 'Dollars/LBS':\n",
      "['$30.98' '$6.27' '$24.33' ... '$45.43' '$52.92' '$45.55']\n",
      "Unique values for 'Hideshowlabel':\n",
      "['$2.71' '$1.71' '$2.08' ... '$26.18' '$33.95' '$32.61']\n",
      "\n",
      "Unique values for 'Hideshowlabel_LBS':\n",
      "['$30.98' '$6.27' '$24.33' ... '$45.43' '$52.92' '$45.55']\n",
      "\n",
      "Unique values for 'LBS Chg yago %':\n",
      "[nan '2%' '0%' ... '36698%' '12565%' '8117%']\n",
      "\n",
      "Unique values for 'Non-Promo Price':\n",
      "['$2.71' '$1.74' '$2.08' ... '$33.72' '$33.95' '$32.61']\n",
      "\n",
      "Unique values for 'Non-Promo Price/LBS':\n",
      "['$30.98' '$6.41' '$24.33' ... '$53.36' '$45.43' '$52.92']\n",
      "Unique values for 'Price/Ct':\n",
      "['$2.71' '$1.71' '$2.08' '$3.00' '$2.49' '$3.27' '$2.03' '$2.88' '$2.84'\n",
      " '$2.23' '$0.79' '$1.22' '$1.37' '$1.87' '$1.09' '$3.18' '$1.61' '$3.25'\n",
      " '$2.00' '$7.85' '$1.59' '$0.89' '$0.54' '$3.68' '$0.99' '$2.10' '$1.99'\n",
      " '$1.35' '$0.97' '$0.48' '$3.49' '$1.36' nan '$1.14' '$2.91' '$2.29'\n",
      " '$2.18' '$1.29' '$2.11' '$1.46' '$0.56' '$1.79' '$1.97' '$1.50' '$0.62'\n",
      " '$2.31' '$2.42' '$1.44' '$1.51' '$2.51' '$2.19' '$3.77' '$1.89' '$2.21'\n",
      " '$0.73' '$0.50' '$1.07' '$1.83' '$1.47' '$2.04' '$2.96' '$1.57' '$1.91'\n",
      " '$1.85' '$3.02' '$0.68' '$2.95' '$2.89' '$3.76' '$3.17' '$2.07' '$2.37'\n",
      " '$2.64' '$3.34' '$2.48' '$1.62' '$2.70' '$1.30' '$1.49' '$0.41' '$1.25'\n",
      " '$1.95' '$0.66' '$0.88' '$0.83' '$0.80' '$0.30' '$0.20' '$0.86' '$0.87'\n",
      " '$2.77' '$2.67' '$1.33' '$2.39' '$1.73' '$2.12' '$2.83' '$1.52' '$1.13'\n",
      " '$1.03' '$1.48' '$1.04' '$0.27' '$1.45' '$2.74' '$1.19' '$0.52' '$1.43'\n",
      " '$1.38' '$0.37' '$1.23' '$1.64' '$1.00' '$1.75' '$0.39' '$0.85' '$1.12'\n",
      " '$1.98' '$1.55' '$1.58' '$1.21' '$2.28' '$1.01' '$2.32' '$0.75' '$0.70'\n",
      " '$1.11' '$0.46' '$0.25' '$0.29' '$0.40' '$0.38' '$0.51' '$0.23' '$0.21'\n",
      " '$0.28' '$0.17' '$0.09' '$0.19' '$0.18' '$0.22' '$0.10' '$0.12' '$0.16'\n",
      " '$0.11' '$0.05' '$0.02' '$0.47' '$3.28' '$1.90' '$1.86' '$2.59' '$2.02'\n",
      " '$3.30' '$2.92' '$0.84' '$1.15' '$1.60' '$1.82' '$2.25' '$8.67' '$1.66'\n",
      " '$0.58' '$3.62' '$1.69' '$6.40' '$1.94' '$2.24' '$2.68' '$1.77' '$1.78'\n",
      " '$0.55' '$2.99' '$3.32' '$2.14' '$2.56' '$2.36' '$2.94' '$2.80' '$1.56'\n",
      " '$1.16' '$0.94' '$1.42' '$2.86' '$2.27' '$0.36' '$0.96' '$0.61' '$0.43'\n",
      " '$0.44' '$1.68' '$2.06' '$1.74' '$1.53' '$2.33' '$0.91' '$0.49' '$1.40'\n",
      " '$2.90' '$2.87' '$3.19' '$2.05' '$1.76' '$3.15' '$2.01' '$2.15' '$1.93'\n",
      " '$2.53' '$2.45' '$0.69' '$3.56' '$5.29' '$2.22' '$0.90' '$0.92' '$2.81'\n",
      " '$2.35' '$0.81' '$0.33' '$1.54' '$0.42' '$1.32' '$2.43' '$2.79' '$2.98'\n",
      " '$5.00' '$0.03' '$1.08' '$0.60' '$0.72' '$2.16' '$0.65' '$0.74' '$1.20'\n",
      " '$0.71' '$0.67' '$0.08' '$0.34' '$0.53' '$0.24' '$0.15' '$0.26' '$0.14'\n",
      " '$0.32' '$0.13' '$0.06' '$3.09' '$1.88' '$4.43' '$1.27' '$2.93' '$1.92'\n",
      " '$1.63' '$1.84' '$3.39' '$1.65' '$1.72' '$1.96' '$2.69' '$1.34' '$0.82'\n",
      " '$0.64' '$0.76' '$0.35' '$2.20' '$1.80' '$1.31' '$1.24' '$0.57' '$2.72'\n",
      " '$2.75' '$2.26' '$1.06' '$3.46' '$0.93' '$1.05' '$1.67' '$0.59' '$1.02'\n",
      " '$2.55' '$3.07' '$1.81' '$0.63' '$0.98' '$1.26' '$2.50' '$1.70' '$2.44'\n",
      " '$4.99' '$0.78' '$3.08' '$10.15' '$0.77' '$2.97' '$2.38' '$0.95' '$2.57'\n",
      " '$1.17' '$1.28' '$2.85' '$2.78' '$49.99' '$2.61' '$1.10' '$0.31' '$2.62'\n",
      " '$2.73' '$0.45' '$3.94' '$3.42' '$2.47' '$3.50' '$3.65' '$3.11' '$2.52'\n",
      " '$2.41' '$2.54' '$2.17' '$3.48' '$3.36' '$2.34' '$2.76' '$3.40' '$3.59'\n",
      " '$2.65' '$2.40' '$2.09' '$3.53' '$3.75' '$3.10' '$1.39' '$3.05' '$2.63'\n",
      " '$2.13' '$1.41' '$3.13' '$3.03' '$10.99' '$0.07' '$3.06' '$49.95' '$2.60'\n",
      " '$5.06' '$3.44' '$3.12' '$3.04' '$3.86' '$3.58' '$3.24' '$3.35' '$4.02'\n",
      " '$3.64' '$3.54' '$3.01' '$3.60' '$4.04' '$3.37' '$3.20' '$2.58' '$3.63'\n",
      " '$2.82' '$3.14' '$3.73' '$3.47' '$3.16' '$2.30' '$2.46' '$3.88' '$2.66'\n",
      " '$10.67' '$4.73' '$3.78' '$8.70' '$8.89' '$12.34' '$4.27' '$3.72' '$3.66'\n",
      " '$1.18' '$0.01' '$0.04' '$3.95' '$3.99' '$3.85' '$3.26' '$6.99' '$3.89'\n",
      " '$3.61' '$4.00' '$3.29' '$4.67' '$3.38' '$3.82' '$3.81' '$3.51' '$3.57'\n",
      " '$3.45' '$3.74' '$3.98' '$3.55' '$3.79' '$3.22' '$3.33' '$3.71' '$3.43'\n",
      " '$3.96' '$3.31' '$5.17' '$4.39' '$5.99' '$19.99' '$0.00' '$10.49' '$5.46'\n",
      " '$4.18' '$3.41' '$4.49' '$3.52' '$10.71' '$3.23' '$7.60' '$4.45' '$4.89'\n",
      " '$10.82' '$4.50' '$3.21' '$4.94' '$4.79' '$5.19' '$7.49' '$8.99' '$10.00'\n",
      " '$3.91' '$4.36' '$4.64' '$5.71' '$9.98' '$4.90' '$5.93' '$6.06' '$29.99'\n",
      " '$6.12' '$5.53' '$7.86' '$5.41' '$7.87' '$4.97' '$5.18' '$3.90' '$5.04'\n",
      " '$3.67' '$7.14' '$4.68' '$8.15' '$7.59' '$4.21' '$3.69' '$8.87' '$3.70'\n",
      " '$5.23' '$4.03' '$9.21' '$5.09' '$7.48' '$9.08' '$5.50' '$4.44' '$4.98'\n",
      " '$5.86' '$5.28' '$9.99' '$5.92' '$9.02' '$3.92' '$7.99' '$5.74' '$6.77'\n",
      " '$4.70' '$13.75' '$5.69' '$7.21' '$7.27' '$6.64' '$4.75' '$8.79' '$4.17'\n",
      " '$6.01' '$5.59' '$4.19' '$6.59' '$8.97' '$5.57' '$4.28' '$13.92' '$4.74'\n",
      " '$8.06' '$4.31' '$8.90' '$8.49' '$4.29' '$7.97' '$6.67' '$3.80' '$5.70'\n",
      " '$6.33' '$28.78' '$4.13' '$4.71' '$3.87' '$4.10' '$4.87' '$11.00' '$3.93'\n",
      " '$4.09' '$6.70' '$4.01' '$11.49' '$4.26' '$6.92' '$11.67' '$6.74' '$3.83'\n",
      " '$7.53' '$6.56' '$6.24' '$8.29' '$6.14' '$7.73' '$5.27' '$5.10' '$4.76'\n",
      " '$5.97' '$8.03' '$6.00' '$15.18' '$9.49' '$6.53' '$5.88' '$4.65' '$16.20'\n",
      " '$17.99' '$5.64' '$6.27' '$7.43' '$6.83' '$6.21' '$7.30' '$5.84' '$6.04'\n",
      " '$6.49' '$6.44' '$6.41' '$6.78' '$7.95' '$7.11' '$4.60' '$6.62' '$6.46'\n",
      " '$9.15' '$4.56' '$5.16' '$7.08' '$6.23' '$7.18' '$6.69' '$7.29' '$7.47'\n",
      " '$7.71' '$7.06' '$7.40' '$7.34' '$7.12' '$6.02' '$6.82' '$4.69' '$15.09'\n",
      " '$6.61' '$7.26' '$7.33' '$7.04' '$6.98' '$7.07' '$7.03' '$6.51' '$7.32'\n",
      " '$7.20' '$7.45' '$6.76' '$15.29' '$4.20' '$6.15' '$14.76' '$7.76' '$7.79'\n",
      " '$7.37' '$7.51' '$7.80' '$3.97' '$5.78' '$5.42' '$15.74' '$4.30' '$5.35'\n",
      " '$9.42' '$19.98' '$29.88' '$5.62' '$4.95' '$6.72' '$7.44' '$5.90' '$4.88'\n",
      " '$4.16' '$4.84' '$11.74' '$11.99' '$6.57' '$4.08' '$6.38' '$6.42' '$6.36'\n",
      " '$6.22' '$7.13' '$5.98' '$7.17' '$7.10' '$6.52' '$4.63' '$7.42' '$7.69'\n",
      " '$7.19' '$13.83' '$29.01' '$6.34' '$6.55' '$6.65' '$6.45' '$6.13' '$5.05'\n",
      " '$8.19' '$6.05' '$7.70' '$6.35' '$7.57' '$6.43' '$7.77' '$7.66' '$5.37'\n",
      " '$6.81' '$8.73' '$5.67' '$4.05' '$15.82' '$4.11' '$6.94' '$5.96' '$5.95'\n",
      " '$6.37' '$6.71' '$4.52' '$4.93' '$4.25' '$5.79' '$8.27' '$4.81' '$6.10'\n",
      " '$8.72' '$5.43' '$6.11' '$5.66' '$9.44' '$4.15' '$4.78' '$6.17' '$6.88'\n",
      " '$8.69' '$6.68' '$6.48' '$4.37' '$4.91' '$4.57' '$5.56' '$35.99' '$5.22'\n",
      " '$29.92' '$15.94' '$6.20' '$4.55' '$5.49' '$10.77' '$7.00' '$5.48'\n",
      " '$8.10' '$4.86' '$5.01' '$5.07' '$4.85' '$5.03' '$4.24' '$4.07' '$12.22'\n",
      " '$33.99' '$9.14' '$5.60' '$4.48' '$5.12' '$4.51' '$6.54' '$4.42' '$7.96'\n",
      " '$5.89' '$4.54' '$4.12' '$4.46' '$4.96' '$4.38' '$4.92' '$4.59' '$4.58'\n",
      " '$16.80' '$11.21' '$8.61' '$4.77' '$15.37' '$9.23' '$5.24' '$16.69'\n",
      " '$6.50' '$14.79' '$4.61' '$15.39' '$8.57' '$12.63' '$6.16' '$7.36'\n",
      " '$8.28' '$6.07' '$6.08' '$6.66' '$6.31' '$6.25' '$6.47' '$6.30' '$5.94'\n",
      " '$5.77' '$5.82' '$6.97' '$5.81' '$7.61' '$5.40' '$5.83' '$4.06' '$7.62'\n",
      " '$3.84' '$10.93' '$14.97' '$5.55' '$6.19' '$10.38' '$15.00' '$7.89'\n",
      " '$6.86' '$6.85' '$6.79' '$7.05' '$7.28' '$7.31' '$5.73' '$6.29' '$7.41'\n",
      " '$6.80' '$7.98' '$5.68' '$7.52' '$6.09' '$5.91' '$8.86' '$8.36' '$8.71'\n",
      " '$5.87' '$7.54' '$6.75' '$7.25' '$7.50' '$6.03' '$28.77' '$4.23' '$5.61'\n",
      " '$4.14' '$6.90' '$7.74' '$8.09' '$7.02' '$7.81' '$8.08' '$8.17' '$7.94'\n",
      " '$8.18' '$5.85' '$7.35' '$6.95' '$7.16' '$7.68' '$9.43' '$7.38' '$7.92'\n",
      " '$7.22' '$4.34' '$8.85' '$7.09' '$8.91' '$4.22' '$6.89' '$7.01' '$5.15'\n",
      " '$4.83' '$5.75' '$7.93' '$7.58' '$6.39' '$7.67' '$5.25' '$7.84' '$4.66'\n",
      " '$6.63' '$9.31' '$8.95' '$7.82' '$6.73' '$6.84' '$9.65' '$9.69' '$8.68'\n",
      " '$5.33' '$11.98' '$8.00' '$8.02' '$8.75' '$8.59' '$8.25' '$8.46' '$7.15'\n",
      " '$15.47' '$16.42' '$12.00' '$13.99' '$15.98' '$8.30' '$10.76' '$4.47'\n",
      " '$4.32' '$5.30' '$21.83' '$12.81' '$16.02' '$13.49' '$15.40' '$11.95'\n",
      " '$14.95' '$13.26' '$13.29' '$14.54' '$15.95' '$16.07' '$18.99' '$9.29'\n",
      " '$8.82' '$7.39' '$10.57' '$4.53' '$10.12' '$7.88' '$10.69' '$6.93'\n",
      " '$5.54' '$6.28' '$5.36' '$11.61' '$6.26' '$21.46' '$7.63' '$7.83' '$5.08'\n",
      " '$7.55' '$5.44' '$9.55' '$7.72' '$8.98' '$10.59' '$6.60' '$9.32' '$5.38'\n",
      " '$8.42' '$6.87' '$7.65' '$4.82' '$5.02' '$7.56' '$8.23' '$10.52' '$9.35'\n",
      " '$14.73' '$4.35' '$13.69' '$11.83' '$16.99' '$14.40' '$8.58' '$25.82'\n",
      " '$5.45' '$11.87' '$5.14' '$10.84' '$10.72' '$9.11' '$15.20' '$8.51'\n",
      " '$5.63' '$4.72' '$8.77' '$5.72' '$5.51' '$4.33' '$15.99' '$6.96' '$4.80'\n",
      " '$15.89' '$15.17' '$21.49' '$12.95' '$5.58' '$5.13' '$5.80' '$5.11'\n",
      " '$6.91']\n",
      "\n",
      "Unique values for 'Promo Price':\n",
      "[nan '$1.59' '$2.19' ... '$22.17' '$21.69' '$29.71']\n",
      "\n",
      "Unique values for 'Promo Price yago':\n",
      "[nan '$2.53' '$1.74' ... '$21.04' '$26.80' '$30.15']\n",
      "\n",
      "Unique values for 'Promo Price/LBS':\n",
      "[nan '$5.75' '$11.20' ... '$48.18' '$50.53' '$34.23']\n",
      "\n",
      "Unique values for 'Units Chg yago % ':\n",
      "[nan '2%' '0%' ... '12575%' '19215%' '8235%']\n"
     ]
    }
   ],
   "source": [
    "import pandas as pd\n",
    "\n",
    "non_numeric_columns = EDT.select_dtypes(exclude='number').columns\n",
    "\n",
    "for column in non_numeric_columns:\n",
    "    unique_values = EDT[column].unique()\n",
    "    print(f\"Unique values for '{column}':\\n{unique_values}\\n\")\n"
   ]
  },
  {
   "cell_type": "code",
   "execution_count": 4,
   "metadata": {
    "scrolled": true,
    "ExecuteTime": {
     "end_time": "2024-03-01T18:44:21.174675700Z",
     "start_time": "2024-03-01T18:44:20.978685500Z"
    }
   },
   "outputs": [
    {
     "data": {
      "text/plain": "        12 Months selected                              brand & size  Cntstr  \\\n0                     False                PRLY LZBTH NOT APPLICABLE     1.0   \n1                     False  BEST MAID COOKIE COMPANY NOT APPLICABLE     1.0   \n2                     False                     AWAKE NOT APPLICABLE     1.0   \n3                     False               BULLETPROOF NOT APPLICABLE     1.0   \n4                     False                      VEGA NOT APPLICABLE     1.0   \n...                     ...                                      ...     ...   \n683728                False                 KDK CAKES NOT APPLICABLE     NaN   \n683729                False                 KDK CAKES NOT APPLICABLE     NaN   \n683730                False                    REM BR NOT APPLICABLE     NaN   \n683731                False                 THAT'S IT NOT APPLICABLE     NaN   \n683732                False                 KDK CAKES NOT APPLICABLE     NaN   \n\n        Fisc Pd  Fisc Pd_int  Fisc Yr                 Kel Brand Kel Category  \\\n0            11           11     2020                PRLY LZBTH          PWS   \n1            11           11     2020  BEST MAID COOKIE COMPANY          PWS   \n2            11           11     2020                     AWAKE          PWS   \n3            11           11     2020               BULLETPROOF          PWS   \n4            11           11     2020                      VEGA          PWS   \n...         ...          ...      ...                       ...          ...   \n683728        9            9     2022                 KDK CAKES          PWS   \n683729        9            9     2022                 KDK CAKES          PWS   \n683730        9            9     2022                    REM BR          PWS   \n683731        9            9     2022                 THAT'S IT          PWS   \n683732        9            9     2022                 KDK CAKES          PWS   \n\n           Kel Corporate  Kel Count  \n0        APT HLTH LV CRP      01 CT  \n1           ARBR INV CRP      01 CT  \n2               AWKE CRP      01 CT  \n3             BLTPRF CRP      01 CT  \n4             DANONE CRP      01 CT  \n...                  ...        ...  \n683728           KDK CRP  REM COUNT  \n683729           KDK CRP  REM COUNT  \n683730           REM CRP  REM COUNT  \n683731  THAT IT NTRN CRP  REM COUNT  \n683732           KDK CRP  REM COUNT  \n\n[683733 rows x 10 columns]",
      "text/html": "<div>\n<style scoped>\n    .dataframe tbody tr th:only-of-type {\n        vertical-align: middle;\n    }\n\n    .dataframe tbody tr th {\n        vertical-align: top;\n    }\n\n    .dataframe thead th {\n        text-align: right;\n    }\n</style>\n<table border=\"1\" class=\"dataframe\">\n  <thead>\n    <tr style=\"text-align: right;\">\n      <th></th>\n      <th>12 Months selected</th>\n      <th>brand &amp; size</th>\n      <th>Cntstr</th>\n      <th>Fisc Pd</th>\n      <th>Fisc Pd_int</th>\n      <th>Fisc Yr</th>\n      <th>Kel Brand</th>\n      <th>Kel Category</th>\n      <th>Kel Corporate</th>\n      <th>Kel Count</th>\n    </tr>\n  </thead>\n  <tbody>\n    <tr>\n      <th>0</th>\n      <td>False</td>\n      <td>PRLY LZBTH NOT APPLICABLE</td>\n      <td>1.0</td>\n      <td>11</td>\n      <td>11</td>\n      <td>2020</td>\n      <td>PRLY LZBTH</td>\n      <td>PWS</td>\n      <td>APT HLTH LV CRP</td>\n      <td>01 CT</td>\n    </tr>\n    <tr>\n      <th>1</th>\n      <td>False</td>\n      <td>BEST MAID COOKIE COMPANY NOT APPLICABLE</td>\n      <td>1.0</td>\n      <td>11</td>\n      <td>11</td>\n      <td>2020</td>\n      <td>BEST MAID COOKIE COMPANY</td>\n      <td>PWS</td>\n      <td>ARBR INV CRP</td>\n      <td>01 CT</td>\n    </tr>\n    <tr>\n      <th>2</th>\n      <td>False</td>\n      <td>AWAKE NOT APPLICABLE</td>\n      <td>1.0</td>\n      <td>11</td>\n      <td>11</td>\n      <td>2020</td>\n      <td>AWAKE</td>\n      <td>PWS</td>\n      <td>AWKE CRP</td>\n      <td>01 CT</td>\n    </tr>\n    <tr>\n      <th>3</th>\n      <td>False</td>\n      <td>BULLETPROOF NOT APPLICABLE</td>\n      <td>1.0</td>\n      <td>11</td>\n      <td>11</td>\n      <td>2020</td>\n      <td>BULLETPROOF</td>\n      <td>PWS</td>\n      <td>BLTPRF CRP</td>\n      <td>01 CT</td>\n    </tr>\n    <tr>\n      <th>4</th>\n      <td>False</td>\n      <td>VEGA NOT APPLICABLE</td>\n      <td>1.0</td>\n      <td>11</td>\n      <td>11</td>\n      <td>2020</td>\n      <td>VEGA</td>\n      <td>PWS</td>\n      <td>DANONE CRP</td>\n      <td>01 CT</td>\n    </tr>\n    <tr>\n      <th>...</th>\n      <td>...</td>\n      <td>...</td>\n      <td>...</td>\n      <td>...</td>\n      <td>...</td>\n      <td>...</td>\n      <td>...</td>\n      <td>...</td>\n      <td>...</td>\n      <td>...</td>\n    </tr>\n    <tr>\n      <th>683728</th>\n      <td>False</td>\n      <td>KDK CAKES NOT APPLICABLE</td>\n      <td>NaN</td>\n      <td>9</td>\n      <td>9</td>\n      <td>2022</td>\n      <td>KDK CAKES</td>\n      <td>PWS</td>\n      <td>KDK CRP</td>\n      <td>REM COUNT</td>\n    </tr>\n    <tr>\n      <th>683729</th>\n      <td>False</td>\n      <td>KDK CAKES NOT APPLICABLE</td>\n      <td>NaN</td>\n      <td>9</td>\n      <td>9</td>\n      <td>2022</td>\n      <td>KDK CAKES</td>\n      <td>PWS</td>\n      <td>KDK CRP</td>\n      <td>REM COUNT</td>\n    </tr>\n    <tr>\n      <th>683730</th>\n      <td>False</td>\n      <td>REM BR NOT APPLICABLE</td>\n      <td>NaN</td>\n      <td>9</td>\n      <td>9</td>\n      <td>2022</td>\n      <td>REM BR</td>\n      <td>PWS</td>\n      <td>REM CRP</td>\n      <td>REM COUNT</td>\n    </tr>\n    <tr>\n      <th>683731</th>\n      <td>False</td>\n      <td>THAT'S IT NOT APPLICABLE</td>\n      <td>NaN</td>\n      <td>9</td>\n      <td>9</td>\n      <td>2022</td>\n      <td>THAT'S IT</td>\n      <td>PWS</td>\n      <td>THAT IT NTRN CRP</td>\n      <td>REM COUNT</td>\n    </tr>\n    <tr>\n      <th>683732</th>\n      <td>False</td>\n      <td>KDK CAKES NOT APPLICABLE</td>\n      <td>NaN</td>\n      <td>9</td>\n      <td>9</td>\n      <td>2022</td>\n      <td>KDK CAKES</td>\n      <td>PWS</td>\n      <td>KDK CRP</td>\n      <td>REM COUNT</td>\n    </tr>\n  </tbody>\n</table>\n<p>683733 rows × 10 columns</p>\n</div>"
     },
     "execution_count": 4,
     "metadata": {},
     "output_type": "execute_result"
    }
   ],
   "source": [
    "import pandas as pd\n",
    "df_preview = EDT.iloc[:,:10]\n",
    "\n",
    "# Display the DataFrame preview\n",
    "df_preview"
   ]
  },
  {
   "cell_type": "code",
   "execution_count": 5,
   "metadata": {
    "ExecuteTime": {
     "end_time": "2024-03-01T18:44:22.919257100Z",
     "start_time": "2024-03-01T18:44:22.709859800Z"
    }
   },
   "outputs": [
    {
     "data": {
      "text/plain": "               Kel Otg              Kel Ppg        Kel Size  \\\n0       NOT APPLICABLE            ALL OTHER  NOT APPLICABLE   \n1       NOT APPLICABLE            ALL OTHER  NOT APPLICABLE   \n2       NOT APPLICABLE            ALL OTHER  NOT APPLICABLE   \n3       NOT APPLICABLE            ALL OTHER  NOT APPLICABLE   \n4       NOT APPLICABLE          VEGA BAR SS  NOT APPLICABLE   \n...                ...                  ...             ...   \n683728  NOT APPLICABLE  KODIAK GRAHAM BITES  NOT APPLICABLE   \n683729  NOT APPLICABLE  KODIAK GRAHAM BITES  NOT APPLICABLE   \n683730  NOT APPLICABLE            ALL OTHER  NOT APPLICABLE   \n683731  NOT APPLICABLE            ALL OTHER  NOT APPLICABLE   \n683732  NOT APPLICABLE  KODIAK GRAHAM BITES  NOT APPLICABLE   \n\n       Kel Unit Of Measure        Kel Vendor   KEL_VENDOR_HIGH  \\\n0                    COUNT   APT HLTH LV CMP   APT HLTH LV CMP   \n1                    COUNT     BST MD CK CMP     BST MD CK CMP   \n2                    COUNT          AWKE CMP          AWKE CMP   \n3                    COUNT        BLTPRF CMP        BLTPRF CMP   \n4                    COUNT    SQL NATRLS CMP    SQL NATRLS CMP   \n...                    ...               ...               ...   \n683728               OUNCE           KDK CMP           KDK CMP   \n683729               OUNCE           KDK CMP           KDK CMP   \n683730               OUNCE           REM CMP           REM CMP   \n683731               OUNCE  THAT IT NTRN CMP  THAT IT NTRN CMP   \n683732               OUNCE           KDK CMP           KDK CMP   \n\n                 Market/Retailer                 Mrkt Desc NmCount  \\\n0                3 Total US Conv             Total US Conv      01   \n1                3 Total US Conv             Total US Conv      01   \n2                3 Total US Conv             Total US Conv      01   \n3                3 Total US Conv             Total US Conv      01   \n4                3 Total US Conv             Total US Conv      01   \n...                          ...                       ...     ...   \n683728       Giant Food Total TA       Giant Food Total TA      RE   \n683729         ShopRite Total TA         ShopRite Total TA      RE   \n683730         ShopRite Total TA         ShopRite Total TA      RE   \n683731         ShopRite Total TA         ShopRite Total TA      RE   \n683732  Walmart Total US 2022 TA  Walmart Total US 2022 TA      RE   \n\n       PD_YR_dt_frmt  \n0          11/1/2020  \n1          11/1/2020  \n2          11/1/2020  \n3          11/1/2020  \n4          11/1/2020  \n...              ...  \n683728      9/1/2022  \n683729      9/1/2022  \n683730      9/1/2022  \n683731      9/1/2022  \n683732      9/1/2022  \n\n[683733 rows x 10 columns]",
      "text/html": "<div>\n<style scoped>\n    .dataframe tbody tr th:only-of-type {\n        vertical-align: middle;\n    }\n\n    .dataframe tbody tr th {\n        vertical-align: top;\n    }\n\n    .dataframe thead th {\n        text-align: right;\n    }\n</style>\n<table border=\"1\" class=\"dataframe\">\n  <thead>\n    <tr style=\"text-align: right;\">\n      <th></th>\n      <th>Kel Otg</th>\n      <th>Kel Ppg</th>\n      <th>Kel Size</th>\n      <th>Kel Unit Of Measure</th>\n      <th>Kel Vendor</th>\n      <th>KEL_VENDOR_HIGH</th>\n      <th>Market/Retailer</th>\n      <th>Mrkt Desc</th>\n      <th>NmCount</th>\n      <th>PD_YR_dt_frmt</th>\n    </tr>\n  </thead>\n  <tbody>\n    <tr>\n      <th>0</th>\n      <td>NOT APPLICABLE</td>\n      <td>ALL OTHER</td>\n      <td>NOT APPLICABLE</td>\n      <td>COUNT</td>\n      <td>APT HLTH LV CMP</td>\n      <td>APT HLTH LV CMP</td>\n      <td>3 Total US Conv</td>\n      <td>Total US Conv</td>\n      <td>01</td>\n      <td>11/1/2020</td>\n    </tr>\n    <tr>\n      <th>1</th>\n      <td>NOT APPLICABLE</td>\n      <td>ALL OTHER</td>\n      <td>NOT APPLICABLE</td>\n      <td>COUNT</td>\n      <td>BST MD CK CMP</td>\n      <td>BST MD CK CMP</td>\n      <td>3 Total US Conv</td>\n      <td>Total US Conv</td>\n      <td>01</td>\n      <td>11/1/2020</td>\n    </tr>\n    <tr>\n      <th>2</th>\n      <td>NOT APPLICABLE</td>\n      <td>ALL OTHER</td>\n      <td>NOT APPLICABLE</td>\n      <td>COUNT</td>\n      <td>AWKE CMP</td>\n      <td>AWKE CMP</td>\n      <td>3 Total US Conv</td>\n      <td>Total US Conv</td>\n      <td>01</td>\n      <td>11/1/2020</td>\n    </tr>\n    <tr>\n      <th>3</th>\n      <td>NOT APPLICABLE</td>\n      <td>ALL OTHER</td>\n      <td>NOT APPLICABLE</td>\n      <td>COUNT</td>\n      <td>BLTPRF CMP</td>\n      <td>BLTPRF CMP</td>\n      <td>3 Total US Conv</td>\n      <td>Total US Conv</td>\n      <td>01</td>\n      <td>11/1/2020</td>\n    </tr>\n    <tr>\n      <th>4</th>\n      <td>NOT APPLICABLE</td>\n      <td>VEGA BAR SS</td>\n      <td>NOT APPLICABLE</td>\n      <td>COUNT</td>\n      <td>SQL NATRLS CMP</td>\n      <td>SQL NATRLS CMP</td>\n      <td>3 Total US Conv</td>\n      <td>Total US Conv</td>\n      <td>01</td>\n      <td>11/1/2020</td>\n    </tr>\n    <tr>\n      <th>...</th>\n      <td>...</td>\n      <td>...</td>\n      <td>...</td>\n      <td>...</td>\n      <td>...</td>\n      <td>...</td>\n      <td>...</td>\n      <td>...</td>\n      <td>...</td>\n      <td>...</td>\n    </tr>\n    <tr>\n      <th>683728</th>\n      <td>NOT APPLICABLE</td>\n      <td>KODIAK GRAHAM BITES</td>\n      <td>NOT APPLICABLE</td>\n      <td>OUNCE</td>\n      <td>KDK CMP</td>\n      <td>KDK CMP</td>\n      <td>Giant Food Total TA</td>\n      <td>Giant Food Total TA</td>\n      <td>RE</td>\n      <td>9/1/2022</td>\n    </tr>\n    <tr>\n      <th>683729</th>\n      <td>NOT APPLICABLE</td>\n      <td>KODIAK GRAHAM BITES</td>\n      <td>NOT APPLICABLE</td>\n      <td>OUNCE</td>\n      <td>KDK CMP</td>\n      <td>KDK CMP</td>\n      <td>ShopRite Total TA</td>\n      <td>ShopRite Total TA</td>\n      <td>RE</td>\n      <td>9/1/2022</td>\n    </tr>\n    <tr>\n      <th>683730</th>\n      <td>NOT APPLICABLE</td>\n      <td>ALL OTHER</td>\n      <td>NOT APPLICABLE</td>\n      <td>OUNCE</td>\n      <td>REM CMP</td>\n      <td>REM CMP</td>\n      <td>ShopRite Total TA</td>\n      <td>ShopRite Total TA</td>\n      <td>RE</td>\n      <td>9/1/2022</td>\n    </tr>\n    <tr>\n      <th>683731</th>\n      <td>NOT APPLICABLE</td>\n      <td>ALL OTHER</td>\n      <td>NOT APPLICABLE</td>\n      <td>OUNCE</td>\n      <td>THAT IT NTRN CMP</td>\n      <td>THAT IT NTRN CMP</td>\n      <td>ShopRite Total TA</td>\n      <td>ShopRite Total TA</td>\n      <td>RE</td>\n      <td>9/1/2022</td>\n    </tr>\n    <tr>\n      <th>683732</th>\n      <td>NOT APPLICABLE</td>\n      <td>KODIAK GRAHAM BITES</td>\n      <td>NOT APPLICABLE</td>\n      <td>OUNCE</td>\n      <td>KDK CMP</td>\n      <td>KDK CMP</td>\n      <td>Walmart Total US 2022 TA</td>\n      <td>Walmart Total US 2022 TA</td>\n      <td>RE</td>\n      <td>9/1/2022</td>\n    </tr>\n  </tbody>\n</table>\n<p>683733 rows × 10 columns</p>\n</div>"
     },
     "execution_count": 5,
     "metadata": {},
     "output_type": "execute_result"
    }
   ],
   "source": [
    "import pandas as pd\n",
    "df_preview = EDT.iloc[:,10:20]\n",
    "\n",
    "# Display the DataFrame preview\n",
    "df_preview"
   ]
  },
  {
   "cell_type": "code",
   "execution_count": 6,
   "metadata": {
    "ExecuteTime": {
     "end_time": "2024-03-01T18:44:25.451631900Z",
     "start_time": "2024-03-01T18:44:25.237352300Z"
    }
   },
   "outputs": [
    {
     "data": {
      "text/plain": "       PricePackCurveby Sales Chnl Size or Count Color  Sliding Time Window  \\\n0           CurvebySize  Aggregate      NOT APPLICABLE  Latest 10 PD 2 YAGO   \n1           CurvebySize  Aggregate      NOT APPLICABLE  Latest 10 PD 2 YAGO   \n2           CurvebySize  Aggregate      NOT APPLICABLE  Latest 10 PD 2 YAGO   \n3           CurvebySize  Aggregate      NOT APPLICABLE  Latest 10 PD 2 YAGO   \n4           CurvebySize  Aggregate      NOT APPLICABLE  Latest 10 PD 2 YAGO   \n...                 ...        ...                 ...                  ...   \n683728      CurvebySize     Retail      NOT APPLICABLE    Latest 12 PD YAGO   \n683729      CurvebySize     Retail      NOT APPLICABLE    Latest 12 PD YAGO   \n683730      CurvebySize     Retail      NOT APPLICABLE    Latest 12 PD YAGO   \n683731      CurvebySize     Retail      NOT APPLICABLE    Latest 12 PD YAGO   \n683732      CurvebySize     Retail      NOT APPLICABLE    Latest 12 PD YAGO   \n\n                   Units_LBS                    Vendor & Size  \\\n0       Brand Ladder by Unit   APT HLTH LV CMP NOT APPLICABLE   \n1       Brand Ladder by Unit     BST MD CK CMP NOT APPLICABLE   \n2       Brand Ladder by Unit          AWKE CMP NOT APPLICABLE   \n3       Brand Ladder by Unit        BLTPRF CMP NOT APPLICABLE   \n4       Brand Ladder by Unit    SQL NATRLS CMP NOT APPLICABLE   \n...                      ...                              ...   \n683728  Brand Ladder by Unit           KDK CMP NOT APPLICABLE   \n683729  Brand Ladder by Unit           KDK CMP NOT APPLICABLE   \n683730  Brand Ladder by Unit           REM CMP NOT APPLICABLE   \n683731  Brand Ladder by Unit  THAT IT NTRN CMP NOT APPLICABLE   \n683732  Brand Ladder by Unit           KDK CMP NOT APPLICABLE   \n\n                    Vendor/Brand    X-axis Dimension      YrPd  YYYYPP  \n0                     PRLY LZBTH            ALL OTHER  2020/11  202011  \n1       BEST MAID COOKIE COMPANY            ALL OTHER  2020/11  202011  \n2                          AWAKE            ALL OTHER  2020/11  202011  \n3                    BULLETPROOF            ALL OTHER  2020/11  202011  \n4                           VEGA          VEGA BAR SS  2020/11  202011  \n...                          ...                  ...      ...     ...  \n683728                 KDK CAKES  KODIAK GRAHAM BITES   2022/9  202209  \n683729                 KDK CAKES  KODIAK GRAHAM BITES   2022/9  202209  \n683730                    REM BR            ALL OTHER   2022/9  202209  \n683731                 THAT'S IT            ALL OTHER   2022/9  202209  \n683732                 KDK CAKES  KODIAK GRAHAM BITES   2022/9  202209  \n\n[683733 rows x 10 columns]",
      "text/html": "<div>\n<style scoped>\n    .dataframe tbody tr th:only-of-type {\n        vertical-align: middle;\n    }\n\n    .dataframe tbody tr th {\n        vertical-align: top;\n    }\n\n    .dataframe thead th {\n        text-align: right;\n    }\n</style>\n<table border=\"1\" class=\"dataframe\">\n  <thead>\n    <tr style=\"text-align: right;\">\n      <th></th>\n      <th>PricePackCurveby</th>\n      <th>Sales Chnl</th>\n      <th>Size or Count Color</th>\n      <th>Sliding Time Window</th>\n      <th>Units_LBS</th>\n      <th>Vendor &amp; Size</th>\n      <th>Vendor/Brand</th>\n      <th>X-axis Dimension</th>\n      <th>YrPd</th>\n      <th>YYYYPP</th>\n    </tr>\n  </thead>\n  <tbody>\n    <tr>\n      <th>0</th>\n      <td>CurvebySize</td>\n      <td>Aggregate</td>\n      <td>NOT APPLICABLE</td>\n      <td>Latest 10 PD 2 YAGO</td>\n      <td>Brand Ladder by Unit</td>\n      <td>APT HLTH LV CMP NOT APPLICABLE</td>\n      <td>PRLY LZBTH</td>\n      <td>ALL OTHER</td>\n      <td>2020/11</td>\n      <td>202011</td>\n    </tr>\n    <tr>\n      <th>1</th>\n      <td>CurvebySize</td>\n      <td>Aggregate</td>\n      <td>NOT APPLICABLE</td>\n      <td>Latest 10 PD 2 YAGO</td>\n      <td>Brand Ladder by Unit</td>\n      <td>BST MD CK CMP NOT APPLICABLE</td>\n      <td>BEST MAID COOKIE COMPANY</td>\n      <td>ALL OTHER</td>\n      <td>2020/11</td>\n      <td>202011</td>\n    </tr>\n    <tr>\n      <th>2</th>\n      <td>CurvebySize</td>\n      <td>Aggregate</td>\n      <td>NOT APPLICABLE</td>\n      <td>Latest 10 PD 2 YAGO</td>\n      <td>Brand Ladder by Unit</td>\n      <td>AWKE CMP NOT APPLICABLE</td>\n      <td>AWAKE</td>\n      <td>ALL OTHER</td>\n      <td>2020/11</td>\n      <td>202011</td>\n    </tr>\n    <tr>\n      <th>3</th>\n      <td>CurvebySize</td>\n      <td>Aggregate</td>\n      <td>NOT APPLICABLE</td>\n      <td>Latest 10 PD 2 YAGO</td>\n      <td>Brand Ladder by Unit</td>\n      <td>BLTPRF CMP NOT APPLICABLE</td>\n      <td>BULLETPROOF</td>\n      <td>ALL OTHER</td>\n      <td>2020/11</td>\n      <td>202011</td>\n    </tr>\n    <tr>\n      <th>4</th>\n      <td>CurvebySize</td>\n      <td>Aggregate</td>\n      <td>NOT APPLICABLE</td>\n      <td>Latest 10 PD 2 YAGO</td>\n      <td>Brand Ladder by Unit</td>\n      <td>SQL NATRLS CMP NOT APPLICABLE</td>\n      <td>VEGA</td>\n      <td>VEGA BAR SS</td>\n      <td>2020/11</td>\n      <td>202011</td>\n    </tr>\n    <tr>\n      <th>...</th>\n      <td>...</td>\n      <td>...</td>\n      <td>...</td>\n      <td>...</td>\n      <td>...</td>\n      <td>...</td>\n      <td>...</td>\n      <td>...</td>\n      <td>...</td>\n      <td>...</td>\n    </tr>\n    <tr>\n      <th>683728</th>\n      <td>CurvebySize</td>\n      <td>Retail</td>\n      <td>NOT APPLICABLE</td>\n      <td>Latest 12 PD YAGO</td>\n      <td>Brand Ladder by Unit</td>\n      <td>KDK CMP NOT APPLICABLE</td>\n      <td>KDK CAKES</td>\n      <td>KODIAK GRAHAM BITES</td>\n      <td>2022/9</td>\n      <td>202209</td>\n    </tr>\n    <tr>\n      <th>683729</th>\n      <td>CurvebySize</td>\n      <td>Retail</td>\n      <td>NOT APPLICABLE</td>\n      <td>Latest 12 PD YAGO</td>\n      <td>Brand Ladder by Unit</td>\n      <td>KDK CMP NOT APPLICABLE</td>\n      <td>KDK CAKES</td>\n      <td>KODIAK GRAHAM BITES</td>\n      <td>2022/9</td>\n      <td>202209</td>\n    </tr>\n    <tr>\n      <th>683730</th>\n      <td>CurvebySize</td>\n      <td>Retail</td>\n      <td>NOT APPLICABLE</td>\n      <td>Latest 12 PD YAGO</td>\n      <td>Brand Ladder by Unit</td>\n      <td>REM CMP NOT APPLICABLE</td>\n      <td>REM BR</td>\n      <td>ALL OTHER</td>\n      <td>2022/9</td>\n      <td>202209</td>\n    </tr>\n    <tr>\n      <th>683731</th>\n      <td>CurvebySize</td>\n      <td>Retail</td>\n      <td>NOT APPLICABLE</td>\n      <td>Latest 12 PD YAGO</td>\n      <td>Brand Ladder by Unit</td>\n      <td>THAT IT NTRN CMP NOT APPLICABLE</td>\n      <td>THAT'S IT</td>\n      <td>ALL OTHER</td>\n      <td>2022/9</td>\n      <td>202209</td>\n    </tr>\n    <tr>\n      <th>683732</th>\n      <td>CurvebySize</td>\n      <td>Retail</td>\n      <td>NOT APPLICABLE</td>\n      <td>Latest 12 PD YAGO</td>\n      <td>Brand Ladder by Unit</td>\n      <td>KDK CMP NOT APPLICABLE</td>\n      <td>KDK CAKES</td>\n      <td>KODIAK GRAHAM BITES</td>\n      <td>2022/9</td>\n      <td>202209</td>\n    </tr>\n  </tbody>\n</table>\n<p>683733 rows × 10 columns</p>\n</div>"
     },
     "execution_count": 6,
     "metadata": {},
     "output_type": "execute_result"
    }
   ],
   "source": [
    "import pandas as pd\n",
    "df_preview = EDT.iloc[:,20:30]\n",
    "\n",
    "# Display the DataFrame preview\n",
    "df_preview"
   ]
  },
  {
   "cell_type": "code",
   "execution_count": 7,
   "metadata": {
    "ExecuteTime": {
     "end_time": "2024-03-01T18:44:25.681034200Z",
     "start_time": "2024-03-01T18:44:25.345334Z"
    }
   },
   "outputs": [
    {
     "data": {
      "text/plain": "        YYYYPP Parameter % Unit Non-Promoted % Unit Promoted   Avg Prc  \\\n0                 202202                100%               0%     5.83   \n1                 202202                 80%              20%     5.83   \n2                 202202                100%               0%     5.83   \n3                 202202                100%               0%     5.83   \n4                 202202                100%               0%     5.83   \n...                  ...                 ...              ...      ...   \n683728            202202                  2%              98%     6.22   \n683729            202202                 47%              53%     6.22   \n683730            202202                 NaN              NaN     6.22   \n683731            202202                100%               0%     6.22   \n683732            202202                100%               0%     6.22   \n\n       avg price diff avg price/lbs diff Avg, Price Chg Avg, Price/LBS Chg  \\\n0                 NaN                NaN            NaN                NaN   \n1                 NaN                NaN            NaN                NaN   \n2                 NaN                NaN            NaN                NaN   \n3                 NaN                NaN            NaN                NaN   \n4                 NaN                NaN            NaN                NaN   \n...               ...                ...            ...                ...   \n683728       ($0.217)           ($0.387)          -5.0%              -5.0%   \n683729         $1.257             $2.234          29.0%              29.0%   \n683730            NaN                NaN            NaN                NaN   \n683731       ($0.055)             $0.539          -3.7%               2.7%   \n683732         $0.464             $0.825          10.3%              10.3%   \n\n       Avg. Price Avg. Price yago  \n0           $2.71             NaN  \n1           $1.71             NaN  \n2           $2.08             NaN  \n3           $3.00             NaN  \n4           $2.49             NaN  \n...           ...             ...  \n683728      $4.15           $4.36  \n683729      $5.59           $4.33  \n683730        NaN             NaN  \n683731      $1.45           $1.51  \n683732      $4.98           $4.51  \n\n[683733 rows x 10 columns]",
      "text/html": "<div>\n<style scoped>\n    .dataframe tbody tr th:only-of-type {\n        vertical-align: middle;\n    }\n\n    .dataframe tbody tr th {\n        vertical-align: top;\n    }\n\n    .dataframe thead th {\n        text-align: right;\n    }\n</style>\n<table border=\"1\" class=\"dataframe\">\n  <thead>\n    <tr style=\"text-align: right;\">\n      <th></th>\n      <th>YYYYPP Parameter</th>\n      <th>% Unit Non-Promoted</th>\n      <th>% Unit Promoted</th>\n      <th>Avg Prc</th>\n      <th>avg price diff</th>\n      <th>avg price/lbs diff</th>\n      <th>Avg, Price Chg</th>\n      <th>Avg, Price/LBS Chg</th>\n      <th>Avg. Price</th>\n      <th>Avg. Price yago</th>\n    </tr>\n  </thead>\n  <tbody>\n    <tr>\n      <th>0</th>\n      <td>202202</td>\n      <td>100%</td>\n      <td>0%</td>\n      <td>5.83</td>\n      <td>NaN</td>\n      <td>NaN</td>\n      <td>NaN</td>\n      <td>NaN</td>\n      <td>$2.71</td>\n      <td>NaN</td>\n    </tr>\n    <tr>\n      <th>1</th>\n      <td>202202</td>\n      <td>80%</td>\n      <td>20%</td>\n      <td>5.83</td>\n      <td>NaN</td>\n      <td>NaN</td>\n      <td>NaN</td>\n      <td>NaN</td>\n      <td>$1.71</td>\n      <td>NaN</td>\n    </tr>\n    <tr>\n      <th>2</th>\n      <td>202202</td>\n      <td>100%</td>\n      <td>0%</td>\n      <td>5.83</td>\n      <td>NaN</td>\n      <td>NaN</td>\n      <td>NaN</td>\n      <td>NaN</td>\n      <td>$2.08</td>\n      <td>NaN</td>\n    </tr>\n    <tr>\n      <th>3</th>\n      <td>202202</td>\n      <td>100%</td>\n      <td>0%</td>\n      <td>5.83</td>\n      <td>NaN</td>\n      <td>NaN</td>\n      <td>NaN</td>\n      <td>NaN</td>\n      <td>$3.00</td>\n      <td>NaN</td>\n    </tr>\n    <tr>\n      <th>4</th>\n      <td>202202</td>\n      <td>100%</td>\n      <td>0%</td>\n      <td>5.83</td>\n      <td>NaN</td>\n      <td>NaN</td>\n      <td>NaN</td>\n      <td>NaN</td>\n      <td>$2.49</td>\n      <td>NaN</td>\n    </tr>\n    <tr>\n      <th>...</th>\n      <td>...</td>\n      <td>...</td>\n      <td>...</td>\n      <td>...</td>\n      <td>...</td>\n      <td>...</td>\n      <td>...</td>\n      <td>...</td>\n      <td>...</td>\n      <td>...</td>\n    </tr>\n    <tr>\n      <th>683728</th>\n      <td>202202</td>\n      <td>2%</td>\n      <td>98%</td>\n      <td>6.22</td>\n      <td>($0.217)</td>\n      <td>($0.387)</td>\n      <td>-5.0%</td>\n      <td>-5.0%</td>\n      <td>$4.15</td>\n      <td>$4.36</td>\n    </tr>\n    <tr>\n      <th>683729</th>\n      <td>202202</td>\n      <td>47%</td>\n      <td>53%</td>\n      <td>6.22</td>\n      <td>$1.257</td>\n      <td>$2.234</td>\n      <td>29.0%</td>\n      <td>29.0%</td>\n      <td>$5.59</td>\n      <td>$4.33</td>\n    </tr>\n    <tr>\n      <th>683730</th>\n      <td>202202</td>\n      <td>NaN</td>\n      <td>NaN</td>\n      <td>6.22</td>\n      <td>NaN</td>\n      <td>NaN</td>\n      <td>NaN</td>\n      <td>NaN</td>\n      <td>NaN</td>\n      <td>NaN</td>\n    </tr>\n    <tr>\n      <th>683731</th>\n      <td>202202</td>\n      <td>100%</td>\n      <td>0%</td>\n      <td>6.22</td>\n      <td>($0.055)</td>\n      <td>$0.539</td>\n      <td>-3.7%</td>\n      <td>2.7%</td>\n      <td>$1.45</td>\n      <td>$1.51</td>\n    </tr>\n    <tr>\n      <th>683732</th>\n      <td>202202</td>\n      <td>100%</td>\n      <td>0%</td>\n      <td>6.22</td>\n      <td>$0.464</td>\n      <td>$0.825</td>\n      <td>10.3%</td>\n      <td>10.3%</td>\n      <td>$4.98</td>\n      <td>$4.51</td>\n    </tr>\n  </tbody>\n</table>\n<p>683733 rows × 10 columns</p>\n</div>"
     },
     "execution_count": 7,
     "metadata": {},
     "output_type": "execute_result"
    }
   ],
   "source": [
    "import pandas as pd\n",
    "df_preview = EDT.iloc[:,30:40]\n",
    "\n",
    "# Display the DataFrame preview\n",
    "df_preview"
   ]
  },
  {
   "cell_type": "code",
   "execution_count": 8,
   "metadata": {
    "ExecuteTime": {
     "end_time": "2024-03-01T18:44:25.782761900Z",
     "start_time": "2024-03-01T18:44:25.434676800Z"
    }
   },
   "outputs": [
    {
     "data": {
      "text/plain": "       Avg. Price/Cnt Avg. Price/LBS Avg. Price/LBS yago  Chg Yago Dol  \\\n0               $2.71         $30.98                 NaN       2045.77   \n1               $1.71          $6.27                 NaN     631276.34   \n2               $2.08         $24.33                 NaN       1432.80   \n3               $3.00         $30.18                 NaN       1160.54   \n4               $2.49         $24.92                 NaN       1509.56   \n...               ...            ...                 ...           ...   \n683728            NaN          $7.37               $7.76      -2273.97   \n683729            NaN          $9.93               $7.70       3735.33   \n683730            NaN            NaN                 NaN          0.00   \n683731            NaN         $20.71              $20.18        -18.12   \n683732            NaN          $8.85               $8.02     128699.60   \n\n        Chg Yago Dol Ap  Chg Yago Dol Np  Chg Yago Lbs  Chg Yago Lbs Ap  \\\n0                  0.00          2045.77         66.04             0.00   \n1             118797.31        512479.03     100658.19         20657.07   \n2                  0.00          1432.80         58.89             0.00   \n3                  0.00          1160.54         38.46             0.00   \n4                  0.00          1509.56         60.58             0.00   \n...                 ...              ...           ...              ...   \n683728          3219.33         -5493.30       -200.82           423.36   \n683729          -697.84          4433.17       -140.42          -438.95   \n683730             0.00             0.00          0.00             0.00   \n683731             0.00           -18.12         -0.90             0.00   \n683732          -462.73        129162.33      11968.31           -46.64   \n\n        Chg Yago Lbs Np  Chg Yago Units  \n0                 66.04          754.69  \n1              80001.12       369273.86  \n2                 58.89          689.81  \n3                 38.46          387.00  \n4                 60.58          605.81  \n...                 ...             ...  \n683728          -624.18         -357.00  \n683729           298.53         -249.64  \n683730             0.00            0.00  \n683731            -0.90          -12.00  \n683732         12014.96        21277.00  \n\n[683733 rows x 10 columns]",
      "text/html": "<div>\n<style scoped>\n    .dataframe tbody tr th:only-of-type {\n        vertical-align: middle;\n    }\n\n    .dataframe tbody tr th {\n        vertical-align: top;\n    }\n\n    .dataframe thead th {\n        text-align: right;\n    }\n</style>\n<table border=\"1\" class=\"dataframe\">\n  <thead>\n    <tr style=\"text-align: right;\">\n      <th></th>\n      <th>Avg. Price/Cnt</th>\n      <th>Avg. Price/LBS</th>\n      <th>Avg. Price/LBS yago</th>\n      <th>Chg Yago Dol</th>\n      <th>Chg Yago Dol Ap</th>\n      <th>Chg Yago Dol Np</th>\n      <th>Chg Yago Lbs</th>\n      <th>Chg Yago Lbs Ap</th>\n      <th>Chg Yago Lbs Np</th>\n      <th>Chg Yago Units</th>\n    </tr>\n  </thead>\n  <tbody>\n    <tr>\n      <th>0</th>\n      <td>$2.71</td>\n      <td>$30.98</td>\n      <td>NaN</td>\n      <td>2045.77</td>\n      <td>0.00</td>\n      <td>2045.77</td>\n      <td>66.04</td>\n      <td>0.00</td>\n      <td>66.04</td>\n      <td>754.69</td>\n    </tr>\n    <tr>\n      <th>1</th>\n      <td>$1.71</td>\n      <td>$6.27</td>\n      <td>NaN</td>\n      <td>631276.34</td>\n      <td>118797.31</td>\n      <td>512479.03</td>\n      <td>100658.19</td>\n      <td>20657.07</td>\n      <td>80001.12</td>\n      <td>369273.86</td>\n    </tr>\n    <tr>\n      <th>2</th>\n      <td>$2.08</td>\n      <td>$24.33</td>\n      <td>NaN</td>\n      <td>1432.80</td>\n      <td>0.00</td>\n      <td>1432.80</td>\n      <td>58.89</td>\n      <td>0.00</td>\n      <td>58.89</td>\n      <td>689.81</td>\n    </tr>\n    <tr>\n      <th>3</th>\n      <td>$3.00</td>\n      <td>$30.18</td>\n      <td>NaN</td>\n      <td>1160.54</td>\n      <td>0.00</td>\n      <td>1160.54</td>\n      <td>38.46</td>\n      <td>0.00</td>\n      <td>38.46</td>\n      <td>387.00</td>\n    </tr>\n    <tr>\n      <th>4</th>\n      <td>$2.49</td>\n      <td>$24.92</td>\n      <td>NaN</td>\n      <td>1509.56</td>\n      <td>0.00</td>\n      <td>1509.56</td>\n      <td>60.58</td>\n      <td>0.00</td>\n      <td>60.58</td>\n      <td>605.81</td>\n    </tr>\n    <tr>\n      <th>...</th>\n      <td>...</td>\n      <td>...</td>\n      <td>...</td>\n      <td>...</td>\n      <td>...</td>\n      <td>...</td>\n      <td>...</td>\n      <td>...</td>\n      <td>...</td>\n      <td>...</td>\n    </tr>\n    <tr>\n      <th>683728</th>\n      <td>NaN</td>\n      <td>$7.37</td>\n      <td>$7.76</td>\n      <td>-2273.97</td>\n      <td>3219.33</td>\n      <td>-5493.30</td>\n      <td>-200.82</td>\n      <td>423.36</td>\n      <td>-624.18</td>\n      <td>-357.00</td>\n    </tr>\n    <tr>\n      <th>683729</th>\n      <td>NaN</td>\n      <td>$9.93</td>\n      <td>$7.70</td>\n      <td>3735.33</td>\n      <td>-697.84</td>\n      <td>4433.17</td>\n      <td>-140.42</td>\n      <td>-438.95</td>\n      <td>298.53</td>\n      <td>-249.64</td>\n    </tr>\n    <tr>\n      <th>683730</th>\n      <td>NaN</td>\n      <td>NaN</td>\n      <td>NaN</td>\n      <td>0.00</td>\n      <td>0.00</td>\n      <td>0.00</td>\n      <td>0.00</td>\n      <td>0.00</td>\n      <td>0.00</td>\n      <td>0.00</td>\n    </tr>\n    <tr>\n      <th>683731</th>\n      <td>NaN</td>\n      <td>$20.71</td>\n      <td>$20.18</td>\n      <td>-18.12</td>\n      <td>0.00</td>\n      <td>-18.12</td>\n      <td>-0.90</td>\n      <td>0.00</td>\n      <td>-0.90</td>\n      <td>-12.00</td>\n    </tr>\n    <tr>\n      <th>683732</th>\n      <td>NaN</td>\n      <td>$8.85</td>\n      <td>$8.02</td>\n      <td>128699.60</td>\n      <td>-462.73</td>\n      <td>129162.33</td>\n      <td>11968.31</td>\n      <td>-46.64</td>\n      <td>12014.96</td>\n      <td>21277.00</td>\n    </tr>\n  </tbody>\n</table>\n<p>683733 rows × 10 columns</p>\n</div>"
     },
     "execution_count": 8,
     "metadata": {},
     "output_type": "execute_result"
    }
   ],
   "source": [
    "import pandas as pd\n",
    "df_preview = EDT.iloc[:,40:50]\n",
    "\n",
    "# Display the DataFrame preview\n",
    "df_preview"
   ]
  },
  {
   "cell_type": "code",
   "execution_count": 9,
   "metadata": {
    "ExecuteTime": {
     "end_time": "2024-03-01T18:44:25.851594500Z",
     "start_time": "2024-03-01T18:44:25.504332900Z"
    }
   },
   "outputs": [
    {
     "data": {
      "text/plain": "        Chg Yago Units Ap  Chg Yago Units Np  CPI FOOD AT HOME INDEX  \\\n0                    0.00             754.69                   104.8   \n1                74776.37          369273.86                   104.8   \n2                    0.00             689.81                   104.8   \n3                    0.00             387.00                   104.8   \n4                    0.00             605.81                   104.8   \n...                   ...                ...                     ...   \n683728             752.64            2108.83                     NaN   \n683729            -780.36            2565.95                     NaN   \n683730               0.00               0.00                     NaN   \n683731               0.00             -12.00                     NaN   \n683732             -82.92           21623.93                     NaN   \n\n       Data Update Date  Diff in Dol Yago  \\\n0             11/1/2020           2045.77   \n1             11/1/2020         631276.34   \n2             11/1/2020           1432.80   \n3             11/1/2020           1160.54   \n4             11/1/2020           1509.56   \n...                 ...               ...   \n683728         9/1/2022          -2273.97   \n683729         9/1/2022           3735.33   \n683730         9/1/2022              0.00   \n683731         9/1/2022            -18.12   \n683732         9/1/2022         128699.60   \n\n        Difference in Promo Price from YAGO        DOL Dol % Chg     Dol Ap  \\\n0                                       NaN    2045.77       NaN       0.00   \n1                                       NaN  631276.34       NaN  118797.31   \n2                                       NaN    1432.80       NaN       0.00   \n3                                       NaN    1160.54       NaN       0.00   \n4                                       NaN    1509.56       NaN       0.00   \n...                                     ...        ...       ...        ...   \n683728                             0.049458   13656.10      -14%   13244.99   \n683729                             1.197928   21409.94       21%   10616.69   \n683730                                  NaN       0.00       NaN       0.00   \n683731                                  NaN       1.45      -93%       0.00   \n683732                            -0.506133  350588.26       58%     914.22   \n\n       Dol mm  \n0       $0.0M  \n1       $0.6M  \n2       $0.0M  \n3       $0.0M  \n4       $0.0M  \n...       ...  \n683728  $0.0M  \n683729  $0.0M  \n683730  $0.0M  \n683731  $0.0M  \n683732  $0.4M  \n\n[683733 rows x 10 columns]",
      "text/html": "<div>\n<style scoped>\n    .dataframe tbody tr th:only-of-type {\n        vertical-align: middle;\n    }\n\n    .dataframe tbody tr th {\n        vertical-align: top;\n    }\n\n    .dataframe thead th {\n        text-align: right;\n    }\n</style>\n<table border=\"1\" class=\"dataframe\">\n  <thead>\n    <tr style=\"text-align: right;\">\n      <th></th>\n      <th>Chg Yago Units Ap</th>\n      <th>Chg Yago Units Np</th>\n      <th>CPI FOOD AT HOME INDEX</th>\n      <th>Data Update Date</th>\n      <th>Diff in Dol Yago</th>\n      <th>Difference in Promo Price from YAGO</th>\n      <th>DOL</th>\n      <th>Dol % Chg</th>\n      <th>Dol Ap</th>\n      <th>Dol mm</th>\n    </tr>\n  </thead>\n  <tbody>\n    <tr>\n      <th>0</th>\n      <td>0.00</td>\n      <td>754.69</td>\n      <td>104.8</td>\n      <td>11/1/2020</td>\n      <td>2045.77</td>\n      <td>NaN</td>\n      <td>2045.77</td>\n      <td>NaN</td>\n      <td>0.00</td>\n      <td>$0.0M</td>\n    </tr>\n    <tr>\n      <th>1</th>\n      <td>74776.37</td>\n      <td>369273.86</td>\n      <td>104.8</td>\n      <td>11/1/2020</td>\n      <td>631276.34</td>\n      <td>NaN</td>\n      <td>631276.34</td>\n      <td>NaN</td>\n      <td>118797.31</td>\n      <td>$0.6M</td>\n    </tr>\n    <tr>\n      <th>2</th>\n      <td>0.00</td>\n      <td>689.81</td>\n      <td>104.8</td>\n      <td>11/1/2020</td>\n      <td>1432.80</td>\n      <td>NaN</td>\n      <td>1432.80</td>\n      <td>NaN</td>\n      <td>0.00</td>\n      <td>$0.0M</td>\n    </tr>\n    <tr>\n      <th>3</th>\n      <td>0.00</td>\n      <td>387.00</td>\n      <td>104.8</td>\n      <td>11/1/2020</td>\n      <td>1160.54</td>\n      <td>NaN</td>\n      <td>1160.54</td>\n      <td>NaN</td>\n      <td>0.00</td>\n      <td>$0.0M</td>\n    </tr>\n    <tr>\n      <th>4</th>\n      <td>0.00</td>\n      <td>605.81</td>\n      <td>104.8</td>\n      <td>11/1/2020</td>\n      <td>1509.56</td>\n      <td>NaN</td>\n      <td>1509.56</td>\n      <td>NaN</td>\n      <td>0.00</td>\n      <td>$0.0M</td>\n    </tr>\n    <tr>\n      <th>...</th>\n      <td>...</td>\n      <td>...</td>\n      <td>...</td>\n      <td>...</td>\n      <td>...</td>\n      <td>...</td>\n      <td>...</td>\n      <td>...</td>\n      <td>...</td>\n      <td>...</td>\n    </tr>\n    <tr>\n      <th>683728</th>\n      <td>752.64</td>\n      <td>2108.83</td>\n      <td>NaN</td>\n      <td>9/1/2022</td>\n      <td>-2273.97</td>\n      <td>0.049458</td>\n      <td>13656.10</td>\n      <td>-14%</td>\n      <td>13244.99</td>\n      <td>$0.0M</td>\n    </tr>\n    <tr>\n      <th>683729</th>\n      <td>-780.36</td>\n      <td>2565.95</td>\n      <td>NaN</td>\n      <td>9/1/2022</td>\n      <td>3735.33</td>\n      <td>1.197928</td>\n      <td>21409.94</td>\n      <td>21%</td>\n      <td>10616.69</td>\n      <td>$0.0M</td>\n    </tr>\n    <tr>\n      <th>683730</th>\n      <td>0.00</td>\n      <td>0.00</td>\n      <td>NaN</td>\n      <td>9/1/2022</td>\n      <td>0.00</td>\n      <td>NaN</td>\n      <td>0.00</td>\n      <td>NaN</td>\n      <td>0.00</td>\n      <td>$0.0M</td>\n    </tr>\n    <tr>\n      <th>683731</th>\n      <td>0.00</td>\n      <td>-12.00</td>\n      <td>NaN</td>\n      <td>9/1/2022</td>\n      <td>-18.12</td>\n      <td>NaN</td>\n      <td>1.45</td>\n      <td>-93%</td>\n      <td>0.00</td>\n      <td>$0.0M</td>\n    </tr>\n    <tr>\n      <th>683732</th>\n      <td>-82.92</td>\n      <td>21623.93</td>\n      <td>NaN</td>\n      <td>9/1/2022</td>\n      <td>128699.60</td>\n      <td>-0.506133</td>\n      <td>350588.26</td>\n      <td>58%</td>\n      <td>914.22</td>\n      <td>$0.4M</td>\n    </tr>\n  </tbody>\n</table>\n<p>683733 rows × 10 columns</p>\n</div>"
     },
     "execution_count": 9,
     "metadata": {},
     "output_type": "execute_result"
    }
   ],
   "source": [
    "import pandas as pd\n",
    "df_preview = EDT.iloc[:,50:60]\n",
    "\n",
    "# Display the DataFrame preview\n",
    "df_preview"
   ]
  },
  {
   "cell_type": "code",
   "execution_count": 10,
   "metadata": {
    "ExecuteTime": {
     "end_time": "2024-03-01T18:44:26.389960500Z",
     "start_time": "2024-03-01T18:44:26.098838400Z"
    }
   },
   "outputs": [
    {
     "data": {
      "text/plain": "           Dol Np Dollars/LBS Hideshowlabel Hideshowlabel_LBS  Integer_NMCnt  \\\n0         2045.77      $30.98         $2.71            $30.98            1.0   \n1       512479.03       $6.27         $1.71             $6.27            1.0   \n2         1432.80      $24.33         $2.08            $24.33            1.0   \n3         1160.54      $30.18         $3.00            $30.18            1.0   \n4         1509.56      $24.92         $2.49            $24.92            1.0   \n...           ...         ...           ...               ...            ...   \n683728     411.11       $7.37         $4.15             $7.37            NaN   \n683729   10793.25       $9.93         $5.59             $9.93            NaN   \n683730       0.00         NaN           NaN               NaN            NaN   \n683731       1.45      $20.71         $1.45            $20.71            NaN   \n683732  349674.04       $8.85         $4.98             $8.85            NaN   \n\n              LBS    Lbs Ap LBS Chg yago %    Lbs Np  non-Promo Diff yago  \n0           66.04      0.00            NaN     66.04                  NaN  \n1       100658.19  20657.07            NaN  80001.12                  NaN  \n2           58.89      0.00            NaN     58.89                  NaN  \n3           38.46      0.00            NaN     38.46                  NaN  \n4           60.58      0.00            NaN     60.58                  NaN  \n...           ...       ...            ...       ...                  ...  \n683728    1852.88   1810.39           -10%     42.48            -0.461814  \n683729    2155.70   1144.82            -6%   1010.89            -0.983693  \n683730       0.00      0.00            NaN      0.00                  NaN  \n683731       0.07      0.00           -93%      0.07             0.055385  \n683732   39625.88    148.51            43%  39477.37            -0.465750  \n\n[683733 rows x 10 columns]",
      "text/html": "<div>\n<style scoped>\n    .dataframe tbody tr th:only-of-type {\n        vertical-align: middle;\n    }\n\n    .dataframe tbody tr th {\n        vertical-align: top;\n    }\n\n    .dataframe thead th {\n        text-align: right;\n    }\n</style>\n<table border=\"1\" class=\"dataframe\">\n  <thead>\n    <tr style=\"text-align: right;\">\n      <th></th>\n      <th>Dol Np</th>\n      <th>Dollars/LBS</th>\n      <th>Hideshowlabel</th>\n      <th>Hideshowlabel_LBS</th>\n      <th>Integer_NMCnt</th>\n      <th>LBS</th>\n      <th>Lbs Ap</th>\n      <th>LBS Chg yago %</th>\n      <th>Lbs Np</th>\n      <th>non-Promo Diff yago</th>\n    </tr>\n  </thead>\n  <tbody>\n    <tr>\n      <th>0</th>\n      <td>2045.77</td>\n      <td>$30.98</td>\n      <td>$2.71</td>\n      <td>$30.98</td>\n      <td>1.0</td>\n      <td>66.04</td>\n      <td>0.00</td>\n      <td>NaN</td>\n      <td>66.04</td>\n      <td>NaN</td>\n    </tr>\n    <tr>\n      <th>1</th>\n      <td>512479.03</td>\n      <td>$6.27</td>\n      <td>$1.71</td>\n      <td>$6.27</td>\n      <td>1.0</td>\n      <td>100658.19</td>\n      <td>20657.07</td>\n      <td>NaN</td>\n      <td>80001.12</td>\n      <td>NaN</td>\n    </tr>\n    <tr>\n      <th>2</th>\n      <td>1432.80</td>\n      <td>$24.33</td>\n      <td>$2.08</td>\n      <td>$24.33</td>\n      <td>1.0</td>\n      <td>58.89</td>\n      <td>0.00</td>\n      <td>NaN</td>\n      <td>58.89</td>\n      <td>NaN</td>\n    </tr>\n    <tr>\n      <th>3</th>\n      <td>1160.54</td>\n      <td>$30.18</td>\n      <td>$3.00</td>\n      <td>$30.18</td>\n      <td>1.0</td>\n      <td>38.46</td>\n      <td>0.00</td>\n      <td>NaN</td>\n      <td>38.46</td>\n      <td>NaN</td>\n    </tr>\n    <tr>\n      <th>4</th>\n      <td>1509.56</td>\n      <td>$24.92</td>\n      <td>$2.49</td>\n      <td>$24.92</td>\n      <td>1.0</td>\n      <td>60.58</td>\n      <td>0.00</td>\n      <td>NaN</td>\n      <td>60.58</td>\n      <td>NaN</td>\n    </tr>\n    <tr>\n      <th>...</th>\n      <td>...</td>\n      <td>...</td>\n      <td>...</td>\n      <td>...</td>\n      <td>...</td>\n      <td>...</td>\n      <td>...</td>\n      <td>...</td>\n      <td>...</td>\n      <td>...</td>\n    </tr>\n    <tr>\n      <th>683728</th>\n      <td>411.11</td>\n      <td>$7.37</td>\n      <td>$4.15</td>\n      <td>$7.37</td>\n      <td>NaN</td>\n      <td>1852.88</td>\n      <td>1810.39</td>\n      <td>-10%</td>\n      <td>42.48</td>\n      <td>-0.461814</td>\n    </tr>\n    <tr>\n      <th>683729</th>\n      <td>10793.25</td>\n      <td>$9.93</td>\n      <td>$5.59</td>\n      <td>$9.93</td>\n      <td>NaN</td>\n      <td>2155.70</td>\n      <td>1144.82</td>\n      <td>-6%</td>\n      <td>1010.89</td>\n      <td>-0.983693</td>\n    </tr>\n    <tr>\n      <th>683730</th>\n      <td>0.00</td>\n      <td>NaN</td>\n      <td>NaN</td>\n      <td>NaN</td>\n      <td>NaN</td>\n      <td>0.00</td>\n      <td>0.00</td>\n      <td>NaN</td>\n      <td>0.00</td>\n      <td>NaN</td>\n    </tr>\n    <tr>\n      <th>683731</th>\n      <td>1.45</td>\n      <td>$20.71</td>\n      <td>$1.45</td>\n      <td>$20.71</td>\n      <td>NaN</td>\n      <td>0.07</td>\n      <td>0.00</td>\n      <td>-93%</td>\n      <td>0.07</td>\n      <td>0.055385</td>\n    </tr>\n    <tr>\n      <th>683732</th>\n      <td>349674.04</td>\n      <td>$8.85</td>\n      <td>$4.98</td>\n      <td>$8.85</td>\n      <td>NaN</td>\n      <td>39625.88</td>\n      <td>148.51</td>\n      <td>43%</td>\n      <td>39477.37</td>\n      <td>-0.465750</td>\n    </tr>\n  </tbody>\n</table>\n<p>683733 rows × 10 columns</p>\n</div>"
     },
     "execution_count": 10,
     "metadata": {},
     "output_type": "execute_result"
    }
   ],
   "source": [
    "import pandas as pd\n",
    "df_preview = EDT.iloc[:,60:70]\n",
    "\n",
    "# Display the DataFrame preview\n",
    "df_preview"
   ]
  },
  {
   "cell_type": "code",
   "execution_count": 11,
   "metadata": {
    "ExecuteTime": {
     "end_time": "2024-03-01T18:44:32.718259Z",
     "start_time": "2024-03-01T18:44:32.690118300Z"
    }
   },
   "outputs": [
    {
     "data": {
      "text/plain": "       Non-Promo Price  Non-Promo Price yago Non-Promo Price/LBS  NumCnt  \\\n0                $2.71                   NaN              $30.98     1.0   \n1                $1.74                   NaN               $6.41     1.0   \n2                $2.08                   NaN              $24.33     1.0   \n3                $3.00                   NaN              $30.18     1.0   \n4                $2.49                   NaN              $24.92     1.0   \n...                ...                   ...                 ...     ...   \n683728           $5.44              4.981910               $9.68     NaN   \n683729           $6.01              5.022133              $10.68     NaN   \n683730             NaN                   NaN                 NaN     NaN   \n683731           $1.45              1.505385              $20.71     NaN   \n683732           $4.98              4.516640               $8.86     NaN   \n\n        Prc Per Pkg Price/Ct Promo Price Promo Price yago Promo Price/LBS  \\\n0              2.71    $2.71         NaN              NaN             NaN   \n1              1.71    $1.71       $1.59              NaN           $5.75   \n2              2.08    $2.08         NaN              NaN             NaN   \n3              3.00    $3.00         NaN              NaN             NaN   \n4              2.49    $2.49         NaN              NaN             NaN   \n...             ...      ...         ...              ...             ...   \n683728         0.00      NaN       $4.12            $4.07           $7.32   \n683729         0.00      NaN       $5.22            $4.02           $9.27   \n683730         0.00      NaN         NaN              NaN             NaN   \n683731         0.00      NaN         NaN              NaN             NaN   \n683732         0.00      NaN       $3.46            $3.97           $6.16   \n\n        slidingtimewindow_sort  \n0                            3  \n1                            3  \n2                            3  \n3                            3  \n4                            3  \n...                        ...  \n683728                       2  \n683729                       2  \n683730                       2  \n683731                       2  \n683732                       2  \n\n[683733 rows x 10 columns]",
      "text/html": "<div>\n<style scoped>\n    .dataframe tbody tr th:only-of-type {\n        vertical-align: middle;\n    }\n\n    .dataframe tbody tr th {\n        vertical-align: top;\n    }\n\n    .dataframe thead th {\n        text-align: right;\n    }\n</style>\n<table border=\"1\" class=\"dataframe\">\n  <thead>\n    <tr style=\"text-align: right;\">\n      <th></th>\n      <th>Non-Promo Price</th>\n      <th>Non-Promo Price yago</th>\n      <th>Non-Promo Price/LBS</th>\n      <th>NumCnt</th>\n      <th>Prc Per Pkg</th>\n      <th>Price/Ct</th>\n      <th>Promo Price</th>\n      <th>Promo Price yago</th>\n      <th>Promo Price/LBS</th>\n      <th>slidingtimewindow_sort</th>\n    </tr>\n  </thead>\n  <tbody>\n    <tr>\n      <th>0</th>\n      <td>$2.71</td>\n      <td>NaN</td>\n      <td>$30.98</td>\n      <td>1.0</td>\n      <td>2.71</td>\n      <td>$2.71</td>\n      <td>NaN</td>\n      <td>NaN</td>\n      <td>NaN</td>\n      <td>3</td>\n    </tr>\n    <tr>\n      <th>1</th>\n      <td>$1.74</td>\n      <td>NaN</td>\n      <td>$6.41</td>\n      <td>1.0</td>\n      <td>1.71</td>\n      <td>$1.71</td>\n      <td>$1.59</td>\n      <td>NaN</td>\n      <td>$5.75</td>\n      <td>3</td>\n    </tr>\n    <tr>\n      <th>2</th>\n      <td>$2.08</td>\n      <td>NaN</td>\n      <td>$24.33</td>\n      <td>1.0</td>\n      <td>2.08</td>\n      <td>$2.08</td>\n      <td>NaN</td>\n      <td>NaN</td>\n      <td>NaN</td>\n      <td>3</td>\n    </tr>\n    <tr>\n      <th>3</th>\n      <td>$3.00</td>\n      <td>NaN</td>\n      <td>$30.18</td>\n      <td>1.0</td>\n      <td>3.00</td>\n      <td>$3.00</td>\n      <td>NaN</td>\n      <td>NaN</td>\n      <td>NaN</td>\n      <td>3</td>\n    </tr>\n    <tr>\n      <th>4</th>\n      <td>$2.49</td>\n      <td>NaN</td>\n      <td>$24.92</td>\n      <td>1.0</td>\n      <td>2.49</td>\n      <td>$2.49</td>\n      <td>NaN</td>\n      <td>NaN</td>\n      <td>NaN</td>\n      <td>3</td>\n    </tr>\n    <tr>\n      <th>...</th>\n      <td>...</td>\n      <td>...</td>\n      <td>...</td>\n      <td>...</td>\n      <td>...</td>\n      <td>...</td>\n      <td>...</td>\n      <td>...</td>\n      <td>...</td>\n      <td>...</td>\n    </tr>\n    <tr>\n      <th>683728</th>\n      <td>$5.44</td>\n      <td>4.981910</td>\n      <td>$9.68</td>\n      <td>NaN</td>\n      <td>0.00</td>\n      <td>NaN</td>\n      <td>$4.12</td>\n      <td>$4.07</td>\n      <td>$7.32</td>\n      <td>2</td>\n    </tr>\n    <tr>\n      <th>683729</th>\n      <td>$6.01</td>\n      <td>5.022133</td>\n      <td>$10.68</td>\n      <td>NaN</td>\n      <td>0.00</td>\n      <td>NaN</td>\n      <td>$5.22</td>\n      <td>$4.02</td>\n      <td>$9.27</td>\n      <td>2</td>\n    </tr>\n    <tr>\n      <th>683730</th>\n      <td>NaN</td>\n      <td>NaN</td>\n      <td>NaN</td>\n      <td>NaN</td>\n      <td>0.00</td>\n      <td>NaN</td>\n      <td>NaN</td>\n      <td>NaN</td>\n      <td>NaN</td>\n      <td>2</td>\n    </tr>\n    <tr>\n      <th>683731</th>\n      <td>$1.45</td>\n      <td>1.505385</td>\n      <td>$20.71</td>\n      <td>NaN</td>\n      <td>0.00</td>\n      <td>NaN</td>\n      <td>NaN</td>\n      <td>NaN</td>\n      <td>NaN</td>\n      <td>2</td>\n    </tr>\n    <tr>\n      <th>683732</th>\n      <td>$4.98</td>\n      <td>4.516640</td>\n      <td>$8.86</td>\n      <td>NaN</td>\n      <td>0.00</td>\n      <td>NaN</td>\n      <td>$3.46</td>\n      <td>$3.97</td>\n      <td>$6.16</td>\n      <td>2</td>\n    </tr>\n  </tbody>\n</table>\n<p>683733 rows × 10 columns</p>\n</div>"
     },
     "execution_count": 11,
     "metadata": {},
     "output_type": "execute_result"
    }
   ],
   "source": [
    "import pandas as pd\n",
    "df_preview = EDT.iloc[:,70:80]\n",
    "\n",
    "# Display the DataFrame preview\n",
    "df_preview"
   ]
  },
  {
   "cell_type": "code",
   "execution_count": 12,
   "metadata": {
    "ExecuteTime": {
     "end_time": "2024-03-01T18:44:33.037203Z",
     "start_time": "2024-03-01T18:44:32.762006400Z"
    }
   },
   "outputs": [
    {
     "data": {
      "text/plain": "        Std Dev   TotalCnt  Totl Dol Catg     ttl_ct      Units  Units Ap  \\\n0          3.64     754.69   7.041907e+08     754.69     754.69      0.00   \n1          3.64  369273.86   7.041907e+08  369273.86  369273.86  74776.37   \n2          3.64     689.81   7.041907e+08     689.81     689.81      0.00   \n3          3.64     387.00   7.041907e+08     387.00     387.00      0.00   \n4          3.64     605.81   7.041907e+08     605.81     605.81      0.00   \n...         ...        ...            ...        ...        ...       ...   \n683728     4.17        NaN   4.036666e+07        NaN    3294.00   3218.48   \n683729     4.17        NaN   1.035775e+08        NaN    3832.36   2035.23   \n683730     4.17        NaN   1.035775e+08        NaN       0.00      0.00   \n683731     4.17        NaN   1.035775e+08        NaN       1.00      0.00   \n683732     4.17        NaN   2.097344e+09        NaN   70446.00    264.01   \n\n       Units Chg yago %    Units Np  UnitsNpNULLx  UnitsNpx  \n0                    NaN     754.69             0       NaN  \n1                    NaN  294497.49             0       NaN  \n2                    NaN     689.81             0       NaN  \n3                    NaN     387.00             0       NaN  \n4                    NaN     605.81             0       NaN  \n...                  ...        ...           ...       ...  \n683728              -10%      75.52             0       NaN  \n683729               -6%    1797.13             0       NaN  \n683730               NaN       0.00             0       NaN  \n683731              -92%       1.00             0       NaN  \n683732               43%   70181.99             0       NaN  \n\n[683733 rows x 10 columns]",
      "text/html": "<div>\n<style scoped>\n    .dataframe tbody tr th:only-of-type {\n        vertical-align: middle;\n    }\n\n    .dataframe tbody tr th {\n        vertical-align: top;\n    }\n\n    .dataframe thead th {\n        text-align: right;\n    }\n</style>\n<table border=\"1\" class=\"dataframe\">\n  <thead>\n    <tr style=\"text-align: right;\">\n      <th></th>\n      <th>Std Dev</th>\n      <th>TotalCnt</th>\n      <th>Totl Dol Catg</th>\n      <th>ttl_ct</th>\n      <th>Units</th>\n      <th>Units Ap</th>\n      <th>Units Chg yago %</th>\n      <th>Units Np</th>\n      <th>UnitsNpNULLx</th>\n      <th>UnitsNpx</th>\n    </tr>\n  </thead>\n  <tbody>\n    <tr>\n      <th>0</th>\n      <td>3.64</td>\n      <td>754.69</td>\n      <td>7.041907e+08</td>\n      <td>754.69</td>\n      <td>754.69</td>\n      <td>0.00</td>\n      <td>NaN</td>\n      <td>754.69</td>\n      <td>0</td>\n      <td>NaN</td>\n    </tr>\n    <tr>\n      <th>1</th>\n      <td>3.64</td>\n      <td>369273.86</td>\n      <td>7.041907e+08</td>\n      <td>369273.86</td>\n      <td>369273.86</td>\n      <td>74776.37</td>\n      <td>NaN</td>\n      <td>294497.49</td>\n      <td>0</td>\n      <td>NaN</td>\n    </tr>\n    <tr>\n      <th>2</th>\n      <td>3.64</td>\n      <td>689.81</td>\n      <td>7.041907e+08</td>\n      <td>689.81</td>\n      <td>689.81</td>\n      <td>0.00</td>\n      <td>NaN</td>\n      <td>689.81</td>\n      <td>0</td>\n      <td>NaN</td>\n    </tr>\n    <tr>\n      <th>3</th>\n      <td>3.64</td>\n      <td>387.00</td>\n      <td>7.041907e+08</td>\n      <td>387.00</td>\n      <td>387.00</td>\n      <td>0.00</td>\n      <td>NaN</td>\n      <td>387.00</td>\n      <td>0</td>\n      <td>NaN</td>\n    </tr>\n    <tr>\n      <th>4</th>\n      <td>3.64</td>\n      <td>605.81</td>\n      <td>7.041907e+08</td>\n      <td>605.81</td>\n      <td>605.81</td>\n      <td>0.00</td>\n      <td>NaN</td>\n      <td>605.81</td>\n      <td>0</td>\n      <td>NaN</td>\n    </tr>\n    <tr>\n      <th>...</th>\n      <td>...</td>\n      <td>...</td>\n      <td>...</td>\n      <td>...</td>\n      <td>...</td>\n      <td>...</td>\n      <td>...</td>\n      <td>...</td>\n      <td>...</td>\n      <td>...</td>\n    </tr>\n    <tr>\n      <th>683728</th>\n      <td>4.17</td>\n      <td>NaN</td>\n      <td>4.036666e+07</td>\n      <td>NaN</td>\n      <td>3294.00</td>\n      <td>3218.48</td>\n      <td>-10%</td>\n      <td>75.52</td>\n      <td>0</td>\n      <td>NaN</td>\n    </tr>\n    <tr>\n      <th>683729</th>\n      <td>4.17</td>\n      <td>NaN</td>\n      <td>1.035775e+08</td>\n      <td>NaN</td>\n      <td>3832.36</td>\n      <td>2035.23</td>\n      <td>-6%</td>\n      <td>1797.13</td>\n      <td>0</td>\n      <td>NaN</td>\n    </tr>\n    <tr>\n      <th>683730</th>\n      <td>4.17</td>\n      <td>NaN</td>\n      <td>1.035775e+08</td>\n      <td>NaN</td>\n      <td>0.00</td>\n      <td>0.00</td>\n      <td>NaN</td>\n      <td>0.00</td>\n      <td>0</td>\n      <td>NaN</td>\n    </tr>\n    <tr>\n      <th>683731</th>\n      <td>4.17</td>\n      <td>NaN</td>\n      <td>1.035775e+08</td>\n      <td>NaN</td>\n      <td>1.00</td>\n      <td>0.00</td>\n      <td>-92%</td>\n      <td>1.00</td>\n      <td>0</td>\n      <td>NaN</td>\n    </tr>\n    <tr>\n      <th>683732</th>\n      <td>4.17</td>\n      <td>NaN</td>\n      <td>2.097344e+09</td>\n      <td>NaN</td>\n      <td>70446.00</td>\n      <td>264.01</td>\n      <td>43%</td>\n      <td>70181.99</td>\n      <td>0</td>\n      <td>NaN</td>\n    </tr>\n  </tbody>\n</table>\n<p>683733 rows × 10 columns</p>\n</div>"
     },
     "execution_count": 12,
     "metadata": {},
     "output_type": "execute_result"
    }
   ],
   "source": [
    "import pandas as pd\n",
    "df_preview = EDT.iloc[:,80:90]\n",
    "\n",
    "# Display the DataFrame preview\n",
    "df_preview"
   ]
  },
  {
   "cell_type": "code",
   "execution_count": 13,
   "metadata": {
    "ExecuteTime": {
     "end_time": "2024-03-01T18:44:33.081085800Z",
     "start_time": "2024-03-01T18:44:32.812049400Z"
    }
   },
   "outputs": [
    {
     "data": {
      "text/plain": "         Yago Dol  Yago Dol Ap  Yago Dol Np  Yago Lbs  Yago Lbs Ap  \\\n0            0.00         0.00         0.00      0.00         0.00   \n1            0.00         0.00         0.00      0.00         0.00   \n2            0.00         0.00         0.00      0.00         0.00   \n3            0.00         0.00         0.00      0.00         0.00   \n4            0.00         0.00         0.00      0.00         0.00   \n...           ...          ...          ...       ...          ...   \n683728   15930.07     10025.66      5904.41   2053.69      1387.03   \n683729   17674.61     11314.53      6360.08   2296.13      1583.77   \n683730       0.00         0.00         0.00      0.00         0.00   \n683731      19.57         0.00        19.57      0.97         0.00   \n683732  221888.66      1376.95    220511.71  27657.57       195.15   \n\n        Yago Lbs Np  Yago Units  Yago Units Ap  Yago Units Np  \n0              0.00         0.0           0.00           0.00  \n1              0.00         0.0           0.00           0.00  \n2              0.00         0.0           0.00           0.00  \n3              0.00         0.0           0.00           0.00  \n4              0.00         0.0           0.00           0.00  \n...             ...         ...            ...            ...  \n683728       666.66      3651.0        2465.83        1185.17  \n683729       712.36      4082.0        2815.59        1266.41  \n683730         0.00         0.0           0.00           0.00  \n683731         0.97        13.0           0.00          13.00  \n683732     27462.41     49169.0         346.93       48822.07  \n\n[683733 rows x 9 columns]",
      "text/html": "<div>\n<style scoped>\n    .dataframe tbody tr th:only-of-type {\n        vertical-align: middle;\n    }\n\n    .dataframe tbody tr th {\n        vertical-align: top;\n    }\n\n    .dataframe thead th {\n        text-align: right;\n    }\n</style>\n<table border=\"1\" class=\"dataframe\">\n  <thead>\n    <tr style=\"text-align: right;\">\n      <th></th>\n      <th>Yago Dol</th>\n      <th>Yago Dol Ap</th>\n      <th>Yago Dol Np</th>\n      <th>Yago Lbs</th>\n      <th>Yago Lbs Ap</th>\n      <th>Yago Lbs Np</th>\n      <th>Yago Units</th>\n      <th>Yago Units Ap</th>\n      <th>Yago Units Np</th>\n    </tr>\n  </thead>\n  <tbody>\n    <tr>\n      <th>0</th>\n      <td>0.00</td>\n      <td>0.00</td>\n      <td>0.00</td>\n      <td>0.00</td>\n      <td>0.00</td>\n      <td>0.00</td>\n      <td>0.0</td>\n      <td>0.00</td>\n      <td>0.00</td>\n    </tr>\n    <tr>\n      <th>1</th>\n      <td>0.00</td>\n      <td>0.00</td>\n      <td>0.00</td>\n      <td>0.00</td>\n      <td>0.00</td>\n      <td>0.00</td>\n      <td>0.0</td>\n      <td>0.00</td>\n      <td>0.00</td>\n    </tr>\n    <tr>\n      <th>2</th>\n      <td>0.00</td>\n      <td>0.00</td>\n      <td>0.00</td>\n      <td>0.00</td>\n      <td>0.00</td>\n      <td>0.00</td>\n      <td>0.0</td>\n      <td>0.00</td>\n      <td>0.00</td>\n    </tr>\n    <tr>\n      <th>3</th>\n      <td>0.00</td>\n      <td>0.00</td>\n      <td>0.00</td>\n      <td>0.00</td>\n      <td>0.00</td>\n      <td>0.00</td>\n      <td>0.0</td>\n      <td>0.00</td>\n      <td>0.00</td>\n    </tr>\n    <tr>\n      <th>4</th>\n      <td>0.00</td>\n      <td>0.00</td>\n      <td>0.00</td>\n      <td>0.00</td>\n      <td>0.00</td>\n      <td>0.00</td>\n      <td>0.0</td>\n      <td>0.00</td>\n      <td>0.00</td>\n    </tr>\n    <tr>\n      <th>...</th>\n      <td>...</td>\n      <td>...</td>\n      <td>...</td>\n      <td>...</td>\n      <td>...</td>\n      <td>...</td>\n      <td>...</td>\n      <td>...</td>\n      <td>...</td>\n    </tr>\n    <tr>\n      <th>683728</th>\n      <td>15930.07</td>\n      <td>10025.66</td>\n      <td>5904.41</td>\n      <td>2053.69</td>\n      <td>1387.03</td>\n      <td>666.66</td>\n      <td>3651.0</td>\n      <td>2465.83</td>\n      <td>1185.17</td>\n    </tr>\n    <tr>\n      <th>683729</th>\n      <td>17674.61</td>\n      <td>11314.53</td>\n      <td>6360.08</td>\n      <td>2296.13</td>\n      <td>1583.77</td>\n      <td>712.36</td>\n      <td>4082.0</td>\n      <td>2815.59</td>\n      <td>1266.41</td>\n    </tr>\n    <tr>\n      <th>683730</th>\n      <td>0.00</td>\n      <td>0.00</td>\n      <td>0.00</td>\n      <td>0.00</td>\n      <td>0.00</td>\n      <td>0.00</td>\n      <td>0.0</td>\n      <td>0.00</td>\n      <td>0.00</td>\n    </tr>\n    <tr>\n      <th>683731</th>\n      <td>19.57</td>\n      <td>0.00</td>\n      <td>19.57</td>\n      <td>0.97</td>\n      <td>0.00</td>\n      <td>0.97</td>\n      <td>13.0</td>\n      <td>0.00</td>\n      <td>13.00</td>\n    </tr>\n    <tr>\n      <th>683732</th>\n      <td>221888.66</td>\n      <td>1376.95</td>\n      <td>220511.71</td>\n      <td>27657.57</td>\n      <td>195.15</td>\n      <td>27462.41</td>\n      <td>49169.0</td>\n      <td>346.93</td>\n      <td>48822.07</td>\n    </tr>\n  </tbody>\n</table>\n<p>683733 rows × 9 columns</p>\n</div>"
     },
     "execution_count": 13,
     "metadata": {},
     "output_type": "execute_result"
    }
   ],
   "source": [
    "import pandas as pd\n",
    "df_preview = EDT.iloc[:,90:100]\n",
    "\n",
    "# Display the DataFrame preview\n",
    "df_preview"
   ]
  },
  {
   "cell_type": "code",
   "execution_count": 14,
   "metadata": {
    "ExecuteTime": {
     "end_time": "2024-03-01T18:44:35.102084Z",
     "start_time": "2024-03-01T18:44:32.895579300Z"
    }
   },
   "outputs": [
    {
     "data": {
      "text/plain": "              Cntstr        Fisc Pd    Fisc Pd_int        Fisc Yr  \\\ncount  662678.000000  683733.000000  683733.000000  683733.000000   \nmean        7.466797       6.421058       6.421058    2021.812848   \nstd         7.454735       3.452167       3.452167       0.884021   \nmin         1.000000       1.000000       1.000000    2020.000000   \n25%         2.000000       3.000000       3.000000    2021.000000   \n50%         6.000000       6.000000       6.000000    2022.000000   \n75%        10.000000       9.000000       9.000000    2023.000000   \nmax        96.000000      12.000000      12.000000    2023.000000   \n\n              YYYYPP  YYYYPP Parameter        Avg Prc  Chg Yago Dol  \\\ncount  683733.000000          683733.0  683733.000000  6.837330e+05   \nmean   202187.705857          202202.0       6.170932  9.155331e+03   \nstd        87.622896               0.0       0.578800  1.724017e+05   \nmin    202011.000000          202202.0       5.300000 -1.086263e+07   \n25%    202107.000000          202202.0       5.520000 -7.899200e+02   \n50%    202204.000000          202202.0       6.220000  0.000000e+00   \n75%    202301.000000          202202.0       6.750000  1.719610e+03   \nmax    202310.000000          202202.0       7.520000  2.260386e+07   \n\n       Chg Yago Dol Ap  Chg Yago Dol Np  ...  UnitsNpx      Yago Dol  \\\ncount     6.837330e+05     6.837330e+05  ...       0.0  6.837330e+05   \nmean      2.599613e+03     6.553385e+03  ...       NaN  7.564404e+04   \nstd       1.104421e+05     1.500112e+05  ...       NaN  5.164199e+05   \nmin      -8.886025e+06    -9.114536e+06  ...       NaN -6.700000e+00   \n25%      -1.540900e+02    -6.875900e+02  ...       NaN  4.990000e+00   \n50%       0.000000e+00     0.000000e+00  ...       NaN  1.418720e+03   \n75%       2.935000e+02     1.375620e+03  ...       NaN  1.362175e+04   \nmax       1.107544e+07     1.781426e+07  ...       NaN  3.564191e+07   \n\n        Yago Dol Ap   Yago Dol Np      Yago Lbs   Yago Lbs Ap   Yago Lbs Np  \\\ncount  6.837330e+05  6.837330e+05  6.837330e+05  6.837330e+05  6.837330e+05   \nmean   2.213141e+04  5.348347e+04  1.258457e+04  4.138742e+03  8.439773e+03   \nstd    2.043486e+05  3.523988e+05  1.389772e+05  5.861365e+04  9.366245e+04   \nmin    0.000000e+00 -6.700000e+00  0.000000e+00  0.000000e+00  0.000000e+00   \n25%    0.000000e+00  2.980000e+00  4.900000e-01  0.000000e+00  3.000000e-01   \n50%    0.000000e+00  8.305400e+02  1.335600e+02  0.000000e+00  7.514000e+01   \n75%    2.173020e+03  8.671500e+03  1.466100e+03  2.524600e+02  8.723500e+02   \nmax    1.854020e+07  1.932325e+07  1.119432e+07  5.708138e+06  8.909340e+06   \n\n         Yago Units  Yago Units Ap  Yago Units Np  \ncount  6.837330e+05   6.837330e+05   6.837330e+05  \nmean   2.194816e+04   7.712755e+03   1.422357e+04  \nstd    1.808158e+05   8.570965e+04   1.099260e+05  \nmin    0.000000e+00   0.000000e+00   0.000000e+00  \n25%    2.000000e+00   0.000000e+00   1.000000e+00  \n50%    3.640000e+02   0.000000e+00   2.119700e+02  \n75%    3.552870e+03   6.363800e+02   2.123220e+03  \nmax    1.313095e+07   7.527521e+06   6.438804e+06  \n\n[8 rows x 49 columns]",
      "text/html": "<div>\n<style scoped>\n    .dataframe tbody tr th:only-of-type {\n        vertical-align: middle;\n    }\n\n    .dataframe tbody tr th {\n        vertical-align: top;\n    }\n\n    .dataframe thead th {\n        text-align: right;\n    }\n</style>\n<table border=\"1\" class=\"dataframe\">\n  <thead>\n    <tr style=\"text-align: right;\">\n      <th></th>\n      <th>Cntstr</th>\n      <th>Fisc Pd</th>\n      <th>Fisc Pd_int</th>\n      <th>Fisc Yr</th>\n      <th>YYYYPP</th>\n      <th>YYYYPP Parameter</th>\n      <th>Avg Prc</th>\n      <th>Chg Yago Dol</th>\n      <th>Chg Yago Dol Ap</th>\n      <th>Chg Yago Dol Np</th>\n      <th>...</th>\n      <th>UnitsNpx</th>\n      <th>Yago Dol</th>\n      <th>Yago Dol Ap</th>\n      <th>Yago Dol Np</th>\n      <th>Yago Lbs</th>\n      <th>Yago Lbs Ap</th>\n      <th>Yago Lbs Np</th>\n      <th>Yago Units</th>\n      <th>Yago Units Ap</th>\n      <th>Yago Units Np</th>\n    </tr>\n  </thead>\n  <tbody>\n    <tr>\n      <th>count</th>\n      <td>662678.000000</td>\n      <td>683733.000000</td>\n      <td>683733.000000</td>\n      <td>683733.000000</td>\n      <td>683733.000000</td>\n      <td>683733.0</td>\n      <td>683733.000000</td>\n      <td>6.837330e+05</td>\n      <td>6.837330e+05</td>\n      <td>6.837330e+05</td>\n      <td>...</td>\n      <td>0.0</td>\n      <td>6.837330e+05</td>\n      <td>6.837330e+05</td>\n      <td>6.837330e+05</td>\n      <td>6.837330e+05</td>\n      <td>6.837330e+05</td>\n      <td>6.837330e+05</td>\n      <td>6.837330e+05</td>\n      <td>6.837330e+05</td>\n      <td>6.837330e+05</td>\n    </tr>\n    <tr>\n      <th>mean</th>\n      <td>7.466797</td>\n      <td>6.421058</td>\n      <td>6.421058</td>\n      <td>2021.812848</td>\n      <td>202187.705857</td>\n      <td>202202.0</td>\n      <td>6.170932</td>\n      <td>9.155331e+03</td>\n      <td>2.599613e+03</td>\n      <td>6.553385e+03</td>\n      <td>...</td>\n      <td>NaN</td>\n      <td>7.564404e+04</td>\n      <td>2.213141e+04</td>\n      <td>5.348347e+04</td>\n      <td>1.258457e+04</td>\n      <td>4.138742e+03</td>\n      <td>8.439773e+03</td>\n      <td>2.194816e+04</td>\n      <td>7.712755e+03</td>\n      <td>1.422357e+04</td>\n    </tr>\n    <tr>\n      <th>std</th>\n      <td>7.454735</td>\n      <td>3.452167</td>\n      <td>3.452167</td>\n      <td>0.884021</td>\n      <td>87.622896</td>\n      <td>0.0</td>\n      <td>0.578800</td>\n      <td>1.724017e+05</td>\n      <td>1.104421e+05</td>\n      <td>1.500112e+05</td>\n      <td>...</td>\n      <td>NaN</td>\n      <td>5.164199e+05</td>\n      <td>2.043486e+05</td>\n      <td>3.523988e+05</td>\n      <td>1.389772e+05</td>\n      <td>5.861365e+04</td>\n      <td>9.366245e+04</td>\n      <td>1.808158e+05</td>\n      <td>8.570965e+04</td>\n      <td>1.099260e+05</td>\n    </tr>\n    <tr>\n      <th>min</th>\n      <td>1.000000</td>\n      <td>1.000000</td>\n      <td>1.000000</td>\n      <td>2020.000000</td>\n      <td>202011.000000</td>\n      <td>202202.0</td>\n      <td>5.300000</td>\n      <td>-1.086263e+07</td>\n      <td>-8.886025e+06</td>\n      <td>-9.114536e+06</td>\n      <td>...</td>\n      <td>NaN</td>\n      <td>-6.700000e+00</td>\n      <td>0.000000e+00</td>\n      <td>-6.700000e+00</td>\n      <td>0.000000e+00</td>\n      <td>0.000000e+00</td>\n      <td>0.000000e+00</td>\n      <td>0.000000e+00</td>\n      <td>0.000000e+00</td>\n      <td>0.000000e+00</td>\n    </tr>\n    <tr>\n      <th>25%</th>\n      <td>2.000000</td>\n      <td>3.000000</td>\n      <td>3.000000</td>\n      <td>2021.000000</td>\n      <td>202107.000000</td>\n      <td>202202.0</td>\n      <td>5.520000</td>\n      <td>-7.899200e+02</td>\n      <td>-1.540900e+02</td>\n      <td>-6.875900e+02</td>\n      <td>...</td>\n      <td>NaN</td>\n      <td>4.990000e+00</td>\n      <td>0.000000e+00</td>\n      <td>2.980000e+00</td>\n      <td>4.900000e-01</td>\n      <td>0.000000e+00</td>\n      <td>3.000000e-01</td>\n      <td>2.000000e+00</td>\n      <td>0.000000e+00</td>\n      <td>1.000000e+00</td>\n    </tr>\n    <tr>\n      <th>50%</th>\n      <td>6.000000</td>\n      <td>6.000000</td>\n      <td>6.000000</td>\n      <td>2022.000000</td>\n      <td>202204.000000</td>\n      <td>202202.0</td>\n      <td>6.220000</td>\n      <td>0.000000e+00</td>\n      <td>0.000000e+00</td>\n      <td>0.000000e+00</td>\n      <td>...</td>\n      <td>NaN</td>\n      <td>1.418720e+03</td>\n      <td>0.000000e+00</td>\n      <td>8.305400e+02</td>\n      <td>1.335600e+02</td>\n      <td>0.000000e+00</td>\n      <td>7.514000e+01</td>\n      <td>3.640000e+02</td>\n      <td>0.000000e+00</td>\n      <td>2.119700e+02</td>\n    </tr>\n    <tr>\n      <th>75%</th>\n      <td>10.000000</td>\n      <td>9.000000</td>\n      <td>9.000000</td>\n      <td>2023.000000</td>\n      <td>202301.000000</td>\n      <td>202202.0</td>\n      <td>6.750000</td>\n      <td>1.719610e+03</td>\n      <td>2.935000e+02</td>\n      <td>1.375620e+03</td>\n      <td>...</td>\n      <td>NaN</td>\n      <td>1.362175e+04</td>\n      <td>2.173020e+03</td>\n      <td>8.671500e+03</td>\n      <td>1.466100e+03</td>\n      <td>2.524600e+02</td>\n      <td>8.723500e+02</td>\n      <td>3.552870e+03</td>\n      <td>6.363800e+02</td>\n      <td>2.123220e+03</td>\n    </tr>\n    <tr>\n      <th>max</th>\n      <td>96.000000</td>\n      <td>12.000000</td>\n      <td>12.000000</td>\n      <td>2023.000000</td>\n      <td>202310.000000</td>\n      <td>202202.0</td>\n      <td>7.520000</td>\n      <td>2.260386e+07</td>\n      <td>1.107544e+07</td>\n      <td>1.781426e+07</td>\n      <td>...</td>\n      <td>NaN</td>\n      <td>3.564191e+07</td>\n      <td>1.854020e+07</td>\n      <td>1.932325e+07</td>\n      <td>1.119432e+07</td>\n      <td>5.708138e+06</td>\n      <td>8.909340e+06</td>\n      <td>1.313095e+07</td>\n      <td>7.527521e+06</td>\n      <td>6.438804e+06</td>\n    </tr>\n  </tbody>\n</table>\n<p>8 rows × 49 columns</p>\n</div>"
     },
     "execution_count": 14,
     "metadata": {},
     "output_type": "execute_result"
    }
   ],
   "source": [
    "EDT.describe()"
   ]
  },
  {
   "cell_type": "code",
   "execution_count": 43,
   "metadata": {
    "ExecuteTime": {
     "end_time": "2024-02-24T05:03:00.598303100Z",
     "start_time": "2024-02-24T05:02:45.447439400Z"
    }
   },
   "outputs": [],
   "source": [
    "import pandas as pd\n",
    "import matplotlib.pyplot as plt\n",
    "import numpy as np\n",
    "\n",
    "EDT=pd.read_csv(\"EDT_3P (KG_HADOOP) Prod_EDT_3P.csv\")"
   ]
  },
  {
   "cell_type": "code",
   "execution_count": 44,
   "metadata": {
    "ExecuteTime": {
     "end_time": "2024-02-24T05:03:02.043933900Z",
     "start_time": "2024-02-24T05:03:00.601258700Z"
    }
   },
   "outputs": [
    {
     "name": "stdout",
     "output_type": "stream",
     "text": [
      "<class 'pandas.core.frame.DataFrame'>\n",
      "RangeIndex: 683733 entries, 0 to 683732\n",
      "Data columns (total 99 columns):\n",
      " #   Column                               Non-Null Count   Dtype  \n",
      "---  ------                               --------------   -----  \n",
      " 0   12 Months selected                   683733 non-null  bool   \n",
      " 1   brand & size                         683733 non-null  object \n",
      " 2   Cntstr                               662678 non-null  float64\n",
      " 3   Fisc Pd                              683733 non-null  int64  \n",
      " 4   Fisc Pd_int                          683733 non-null  int64  \n",
      " 5   Fisc Yr                              683733 non-null  int64  \n",
      " 6   Kel Brand                            683733 non-null  object \n",
      " 7   Kel Category                         683733 non-null  object \n",
      " 8   Kel Corporate                        683733 non-null  object \n",
      " 9   Kel Count                            683733 non-null  object \n",
      " 10  Kel Otg                              683733 non-null  object \n",
      " 11  Kel Ppg                              683733 non-null  object \n",
      " 12  Kel Size                             683733 non-null  object \n",
      " 13  Kel Unit Of Measure                  683733 non-null  object \n",
      " 14  Kel Vendor                           683733 non-null  object \n",
      " 15  KEL_VENDOR_HIGH                      683733 non-null  object \n",
      " 16  Market/Retailer                      683733 non-null  object \n",
      " 17  Mrkt Desc                            683733 non-null  object \n",
      " 18  NmCount                              683733 non-null  object \n",
      " 19  PD_YR_dt_frmt                        683733 non-null  object \n",
      " 20  PricePackCurveby                     683733 non-null  object \n",
      " 21  Sales Chnl                           683733 non-null  object \n",
      " 22  Size or Count Color                  683733 non-null  object \n",
      " 23  Sliding Time Window                  683733 non-null  object \n",
      " 24  Units_LBS                            683733 non-null  object \n",
      " 25  Vendor & Size                        683733 non-null  object \n",
      " 26  Vendor/Brand                         683733 non-null  object \n",
      " 27  X-axis Dimension                     683733 non-null  object \n",
      " 28  YrPd                                 683733 non-null  object \n",
      " 29  YYYYPP                               683733 non-null  int64  \n",
      " 30  YYYYPP Parameter                     683733 non-null  int64  \n",
      " 31  % Unit Non-Promoted                  540956 non-null  object \n",
      " 32  % Unit Promoted                      540956 non-null  object \n",
      " 33  Avg Prc                              683733 non-null  float64\n",
      " 34  avg price diff                       432932 non-null  object \n",
      " 35  avg price/lbs diff                   432932 non-null  object \n",
      " 36  Avg, Price Chg                       432925 non-null  object \n",
      " 37  Avg, Price/LBS Chg                   432925 non-null  object \n",
      " 38  Avg. Price                           540956 non-null  object \n",
      " 39  Avg. Price yago                      530106 non-null  object \n",
      " 40  Avg. Price/Cnt                       526937 non-null  object \n",
      " 41  Avg. Price/LBS                       540956 non-null  object \n",
      " 42  Avg. Price/LBS yago                  530106 non-null  object \n",
      " 43  Chg Yago Dol                         683733 non-null  float64\n",
      " 44  Chg Yago Dol Ap                      683733 non-null  float64\n",
      " 45  Chg Yago Dol Np                      683733 non-null  float64\n",
      " 46  Chg Yago Lbs                         683733 non-null  float64\n",
      " 47  Chg Yago Lbs Ap                      683733 non-null  float64\n",
      " 48  Chg Yago Lbs Np                      683733 non-null  float64\n",
      " 49  Chg Yago Units                       683733 non-null  float64\n",
      " 50  Chg Yago Units Ap                    683733 non-null  float64\n",
      " 51  Chg Yago Units Np                    683733 non-null  float64\n",
      " 52  CPI FOOD AT HOME INDEX               275521 non-null  float64\n",
      " 53  Data Update Date                     683733 non-null  object \n",
      " 54  Diff in Dol Yago                     683733 non-null  float64\n",
      " 55  Difference in Promo Price from YAGO  256817 non-null  float64\n",
      " 56  DOL                                  683733 non-null  float64\n",
      " 57  Dol % Chg                            530079 non-null  object \n",
      " 58  Dol Ap                               683733 non-null  float64\n",
      " 59  Dol mm                               683733 non-null  object \n",
      " 60  Dol Np                               683733 non-null  float64\n",
      " 61  Dollars/LBS                          540956 non-null  object \n",
      " 62  Hideshowlabel                        540956 non-null  object \n",
      " 63  Hideshowlabel_LBS                    540956 non-null  object \n",
      " 64  Integer_NMCnt                        662678 non-null  float64\n",
      " 65  LBS                                  683733 non-null  float64\n",
      " 66  Lbs Ap                               683733 non-null  float64\n",
      " 67  LBS Chg yago %                       530106 non-null  object \n",
      " 68  Lbs Np                               683733 non-null  float64\n",
      " 69  non-Promo Diff yago                  424577 non-null  float64\n",
      " 70  Non-Promo Price                      533190 non-null  object \n",
      " 71  Non-Promo Price yago                 522750 non-null  float64\n",
      " 72  Non-Promo Price/LBS                  533190 non-null  object \n",
      " 73  NumCnt                               662678 non-null  float64\n",
      " 74  Prc Per Pkg                          649334 non-null  float64\n",
      " 75  Price/Ct                             526937 non-null  object \n",
      " 76  Promo Price                          353674 non-null  object \n",
      " 77  Promo Price yago                     339272 non-null  object \n",
      " 78  Promo Price/LBS                      353674 non-null  object \n",
      " 79  slidingtimewindow_sort               683733 non-null  int64  \n",
      " 80  Std Dev                              683733 non-null  float64\n",
      " 81  TotalCnt                             662678 non-null  float64\n",
      " 82  Totl Dol Catg                        683733 non-null  float64\n",
      " 83  ttl_ct                               662678 non-null  float64\n",
      " 84  Units                                683733 non-null  float64\n",
      " 85  Units Ap                             683733 non-null  float64\n",
      " 86  Units Chg yago %                     530106 non-null  object \n",
      " 87  Units Np                             683733 non-null  float64\n",
      " 88  UnitsNpNULLx                         683733 non-null  int64  \n",
      " 89  UnitsNpx                             0 non-null       float64\n",
      " 90  Yago Dol                             683733 non-null  float64\n",
      " 91  Yago Dol Ap                          683733 non-null  float64\n",
      " 92  Yago Dol Np                          683733 non-null  float64\n",
      " 93  Yago Lbs                             683733 non-null  float64\n",
      " 94  Yago Lbs Ap                          683733 non-null  float64\n",
      " 95  Yago Lbs Np                          683733 non-null  float64\n",
      " 96  Yago Units                           683733 non-null  float64\n",
      " 97  Yago Units Ap                        683733 non-null  float64\n",
      " 98  Yago Units Np                        683733 non-null  float64\n",
      "dtypes: bool(1), float64(42), int64(7), object(49)\n",
      "memory usage: 511.9+ MB\n"
     ]
    }
   ],
   "source": [
    "EDT.info()"
   ]
  },
  {
   "cell_type": "code",
   "execution_count": 45,
   "metadata": {
    "ExecuteTime": {
     "end_time": "2024-02-24T05:03:04.036180500Z",
     "start_time": "2024-02-24T05:03:02.043933900Z"
    }
   },
   "outputs": [
    {
     "name": "stdout",
     "output_type": "stream",
     "text": [
      "     Cntstr  Fisc Pd  Fisc Pd_int  Fisc Yr    YYYYPP  YYYYPP Parameter  \\\n",
      "min     1.0      1.0          1.0   2020.0  202011.0          202202.0   \n",
      "max    96.0     12.0         12.0   2023.0  202310.0          202202.0   \n",
      "\n",
      "     Avg Prc  Chg Yago Dol  Chg Yago Dol Ap  Chg Yago Dol Np  \n",
      "min     5.30  -10862628.42      -8886024.59      -9114535.92  \n",
      "max     7.52   22603857.53      11075441.82      17814256.84  \n",
      "     Chg Yago Lbs  Chg Yago Lbs Ap  Chg Yago Lbs Np  Chg Yago Units  \\\n",
      "min   -3010428.45      -4121849.35      -4199804.34     -3646404.95   \n",
      "max    8385610.31       5139548.53       8219470.32      9491435.69   \n",
      "\n",
      "     Chg Yago Units Ap  Chg Yago Units Np  CPI FOOD AT HOME INDEX  \\\n",
      "min        -4550647.05        -1434417.01                   104.8   \n",
      "max         4742050.90         9491435.69                   108.3   \n",
      "\n",
      "     Diff in Dol Yago  Difference in Promo Price from YAGO          DOL  \n",
      "min      -10862628.42                           -50.727414        -6.70  \n",
      "max       22603857.53                            41.401762  29429925.11  \n",
      "          Dol Ap       Dol Np  Integer_NMCnt         LBS      Lbs Ap  \\\n",
      "min         0.00        -6.70            1.0        0.00        0.00   \n",
      "max  19154843.55  19105908.63           96.0  9476402.57  5183021.93   \n",
      "\n",
      "         Lbs Np  non-Promo Diff yago  Non-Promo Price yago  NumCnt  \\\n",
      "min        0.00          -107.300000                  0.00     1.0   \n",
      "max  8219470.32            48.957729                109.99    96.0   \n",
      "\n",
      "     Prc Per Pkg  \n",
      "min         0.00  \n",
      "max      2522.88  \n",
      "     slidingtimewindow_sort  Std Dev     TotalCnt  Totl Dol Catg       ttl_ct  \\\n",
      "min                     1.0     3.62         0.00   1.270309e+06         0.00   \n",
      "max                     3.0     4.59  89850319.84   7.612957e+09  89850319.84   \n",
      "\n",
      "           Units    Units Ap    Units Np  UnitsNpNULLx  UnitsNpx  \n",
      "min         0.00        0.00        0.00           0.0       NaN  \n",
      "max  11217139.12  6709526.51  5772714.21           0.0       NaN  \n",
      "        Yago Dol  Yago Dol Ap  Yago Dol Np     Yago Lbs  Yago Lbs Ap  \\\n",
      "min        -6.70         0.00        -6.70         0.00         0.00   \n",
      "max  35641908.08  18540198.71  19323254.91  11194321.56   5708137.74   \n",
      "\n",
      "     Yago Lbs Np   Yago Units  Yago Units Ap  Yago Units Np  \n",
      "min         0.00         0.00           0.00           0.00  \n",
      "max   8909340.35  13130949.43     7527521.24     6438803.76  \n"
     ]
    }
   ],
   "source": [
    "import pandas as pd\n",
    "pd.set_option('display.max_columns', None)\n",
    "\n",
    "numeric_columns = EDT.select_dtypes(include='number').columns\n",
    "\n",
    "for i in range(0, len(numeric_columns), 10):\n",
    "    chunk_columns = numeric_columns[i:i+10]\n",
    "    chunk_description = EDT[chunk_columns].describe().loc[['min', 'max']]\n",
    "    print(chunk_description)"
   ]
  },
  {
   "cell_type": "code",
   "outputs": [],
   "source": [
    "# PLN dataset is the interior data set\n",
    "# EDT is the external data set "
   ],
   "metadata": {
    "collapsed": false,
    "ExecuteTime": {
     "end_time": "2024-02-24T02:44:26.825350Z",
     "start_time": "2024-02-24T02:44:26.803824900Z"
    }
   },
   "execution_count": 31
  },
  {
   "cell_type": "code",
   "outputs": [
    {
     "data": {
      "text/plain": "        All In Flg  Alt Segment         BU  Cal Wk Can Catg              Catg  \\\n0                F          PWS         K1  202301      NPF  TOASTER PASTRIES   \n1                F          PWS         K1  202302      NPF  TOASTER PASTRIES   \n2                F          PWS         K1  202303      NPF  TOASTER PASTRIES   \n3                F          PWS         K1  202304      NPF  TOASTER PASTRIES   \n4                F          PWS         K1  202305      NPF  TOASTER PASTRIES   \n...            ...          ...        ...     ...      ...               ...   \n1325643          F  CONVENIENCE  Specialty  202017      NPF  TOASTER PASTRIES   \n1325644          F  CONVENIENCE  Specialty  202018      NPF  TOASTER PASTRIES   \n1325645          F  CONVENIENCE  Specialty  202019      NPF  TOASTER PASTRIES   \n1325646          F  CONVENIENCE  Specialty  202020      NPF  TOASTER PASTRIES   \n1325647          F  CONVENIENCE  Specialty  202019      NPF  TOASTER PASTRIES   \n\n        Curr  Fisc Yr               Lvl A                    Lvl B  \\\n0        USD     2023  US RETAIL CHANNELS  DRUG/DISCOUNT/TELESALES   \n1        USD     2023  US RETAIL CHANNELS  DRUG/DISCOUNT/TELESALES   \n2        USD     2023  US RETAIL CHANNELS  DRUG/DISCOUNT/TELESALES   \n3        USD     2023  US RETAIL CHANNELS  DRUG/DISCOUNT/TELESALES   \n4        USD     2023  US RETAIL CHANNELS  DRUG/DISCOUNT/TELESALES   \n...      ...      ...                 ...                      ...   \n1325643  CAD     2020              CANADA       CANADA OUT OF HOME   \n1325644  CAD     2020              CANADA       CANADA OUT OF HOME   \n1325645  CAD     2020              CANADA       CANADA OUT OF HOME   \n1325646  CAD     2020              CANADA       CANADA OUT OF HOME   \n1325647  CAD     2020              CANADA       CANADA OUT OF HOME   \n\n                       Lvl C                   Lvl D  \\\n0                  TELESALES               TELESALES   \n1                  TELESALES               TELESALES   \n2                  TELESALES               TELESALES   \n3                  TELESALES               TELESALES   \n4                  TELESALES               TELESALES   \n...                      ...                     ...   \n1325643  CANADA FOOD SERVICE  CA FOOD SERVICE REGION   \n1325644  CANADA FOOD SERVICE  CA FOOD SERVICE REGION   \n1325645  CANADA FOOD SERVICE  CA FOOD SERVICE REGION   \n1325646  CANADA FOOD SERVICE  CA FOOD SERVICE REGION   \n1325647  CANADA FOOD SERVICE  CA FOOD SERVICE REGION   \n\n                             Lvl E       Matrl Mixd Plt Flg  Mixd Plt Matrl  \\\n0                        TELESALES  3800025063            N      3800025063   \n1                        TELESALES  3800025063            N      3800025063   \n2                        TELESALES  3800025063            N      3800025063   \n3                        TELESALES  3800025063            N      3800025063   \n4                        TELESALES  3800025063            N      3800025063   \n...                            ...         ...          ...             ...   \n1325643  CA FOOD SERVICE SUBREGION  6410025666            N      6410025666   \n1325644  CA FOOD SERVICE SUBREGION  6410025666            N      6410025666   \n1325645  CA FOOD SERVICE SUBREGION  6410025666            N      6410025666   \n1325646  CA FOOD SERVICE SUBREGION  6410025666            N      6410025666   \n1325647  CA FOOD SERVICE SUBREGION  6410077003            N      6410077003   \n\n                      Mixd Plt Matrl Desc    Pd Yr  Pln To Nbr  \\\n0        PT CNFETTI CAKE BITES 3.5OZX6 SS  P1 2023      300023   \n1        PT CNFETTI CAKE BITES 3.5OZX6 SS  P1 2023      300023   \n2        PT CNFETTI CAKE BITES 3.5OZX6 SS  P1 2023      300023   \n3        PT CNFETTI CAKE BITES 3.5OZX6 SS  P1 2023      300023   \n4        PT CNFETTI CAKE BITES 3.5OZX6 SS  P2 2023      300023   \n...                                   ...      ...         ...   \n1325643               PT FR RASP 400gmx12  P4 2020      303979   \n1325644               PT FR RASP 400gmx12  P5 2020      303979   \n1325645               PT FR RASP 400gmx12  P5 2020      303979   \n1325646               PT FR RASP 400gmx12  P5 2020      303979   \n1325647        PT COOKS N' CREME 400GMX12  P5 2020      303979   \n\n                 Pln To Nm  Prod Hier Brand Prod Hier Brand Desc  \\\n0               DPI - WEST       2010100052            Pop-Tarts   \n1               DPI - WEST       2010100052            Pop-Tarts   \n2               DPI - WEST       2010100052            Pop-Tarts   \n3               DPI - WEST       2010100052            Pop-Tarts   \n4               DPI - WEST       2010100052            Pop-Tarts   \n...                    ...              ...                  ...   \n1325643  CA AWAY FROM HOME       2010100052            Pop-Tarts   \n1325644  CA AWAY FROM HOME       2010100052            Pop-Tarts   \n1325645  CA AWAY FROM HOME       2010100052            Pop-Tarts   \n1325646  CA AWAY FROM HOME       2010100052            Pop-Tarts   \n1325647  CA AWAY FROM HOME       2010100052            Pop-Tarts   \n\n         Prod Hier Typ Prod Hier Typ Desc  QTR          Sub Catg SZ  \\\n0         2.010100e+13        Pop-Tarts S    1  TOASTER PASTRIES  S   \n1         2.010100e+13        Pop-Tarts S    1  TOASTER PASTRIES  S   \n2         2.010100e+13        Pop-Tarts S    1  TOASTER PASTRIES  S   \n3         2.010100e+13        Pop-Tarts S    1  TOASTER PASTRIES  S   \n4         2.010100e+13        Pop-Tarts S    1  TOASTER PASTRIES  S   \n...                ...                ...  ...               ... ..   \n1325643   2.010100e+13        Pop-Tarts S    2  TOASTER PASTRIES  S   \n1325644   2.010100e+13        Pop-Tarts S    2  TOASTER PASTRIES  S   \n1325645   2.010100e+13        Pop-Tarts S    2  TOASTER PASTRIES  S   \n1325646   2.010100e+13        Pop-Tarts S    2  TOASTER PASTRIES  S   \n1325647   2.010100e+13        Pop-Tarts S    2  TOASTER PASTRIES  S   \n\n            Tier Nm  WK  Yr & Wk  Act Nsv Prxy Usd  Act Sc Prxy Usd  \\\n0        DPI - WEST   1   2023&1              0.00             0.00   \n1        DPI - WEST   2   2023&2              0.00             0.00   \n2        DPI - WEST   3   2023&3              0.00             0.00   \n3        DPI - WEST   4   2023&4              0.00             0.00   \n4        DPI - WEST   5   2023&5              0.00             0.00   \n...             ...  ..      ...               ...              ...   \n1325643  OOH CANADA  17  2020&17           1252.80           965.68   \n1325644  OOH CANADA  18  2020&18           1252.80           965.68   \n1325645  OOH CANADA  19  2020&19             99.72            78.19   \n1325646  OOH CANADA  20  2020&20            626.40           482.84   \n1325647  OOH CANADA  19  2020&19             96.84            71.19   \n\n         Actl Cost Of Prod Usd  Actl Ship Cs  Actl Ship Kg  Actl Ship Lbs  \\\n0                         0.00           0.0          0.00           0.00   \n1                         0.00           0.0          0.00           0.00   \n2                         0.00           0.0          0.00           0.00   \n3                         0.00           0.0          0.00           0.00   \n4                         0.00           0.0          0.00           0.00   \n...                        ...           ...           ...            ...   \n1325643                 287.12          40.0        191.96         423.20   \n1325644                 287.12          40.0        191.96         423.20   \n1325645                  21.53           3.0         14.40          31.74   \n1325646                 143.56          20.0         95.98         211.60   \n1325647                  25.65           3.0         14.40          31.74   \n\n         Actl Ship Units  Actl Ship Usd  Latst Estmt Cost Of Prod Usd  \\\n0                    0.0           0.00                          0.00   \n1                    0.0           0.00                          0.00   \n2                    0.0           0.00                          0.00   \n3                    0.0           0.00                          0.00   \n4                    0.0           0.00                          0.00   \n...                  ...            ...                           ...   \n1325643            480.0        1252.80                        287.12   \n1325644            480.0        1252.80                        287.12   \n1325645             36.0          99.72                         21.53   \n1325646            240.0         626.40                        143.56   \n1325647             36.0          96.84                         25.65   \n\n         Latst Estmt Cost Of Prod Usd Fxd  Latst Estmt Gsv  \\\n0                                    0.00             0.00   \n1                                    0.00             0.00   \n2                                    0.00             0.00   \n3                                    0.00             0.00   \n4                                    0.00             0.00   \n...                                   ...              ...   \n1325643                             85.86          1252.80   \n1325644                             85.86          1252.80   \n1325645                              6.44            99.72   \n1325646                             42.93           626.40   \n1325647                             10.56            96.84   \n\n         Latst Estmt Kmf Usd  Latst Estmt Nsv Prxy Usd  \\\n0                        0.0                      0.00   \n1                        0.0                      0.00   \n2                        0.0                      0.00   \n3                        0.0                      0.00   \n4                        0.0                      0.00   \n...                      ...                       ...   \n1325643                  0.0                   1252.80   \n1325644                  0.0                   1252.80   \n1325645                  0.0                     99.72   \n1325646                  0.0                    626.40   \n1325647                  0.0                     96.84   \n\n         Latst Estmt Sc Prxy Usd  Latst Estmt Sc Prxy Usd Gsv  \\\n0                           0.00                         0.00   \n1                           0.00                         0.00   \n2                           0.00                         0.00   \n3                           0.00                         0.00   \n4                           0.00                         0.00   \n...                          ...                          ...   \n1325643                   965.68                       965.68   \n1325644                   965.68                       965.68   \n1325645                    78.19                        78.19   \n1325646                   482.84                       482.84   \n1325647                    71.19                        71.19   \n\n         Latst Estmt Ship Lbs  Latst Estmt Ship Units  Le Cop Fixed  Le Cs  \\\n0                        0.00                     0.0          0.00    0.0   \n1                        0.00                     0.0          0.00    0.0   \n2                        0.00                     0.0          0.00    0.0   \n3                        0.00                     0.0          0.00    0.0   \n4                        0.00                     0.0          0.00    0.0   \n...                       ...                     ...           ...    ...   \n1325643                423.20                   480.0        380.80   40.0   \n1325644                423.20                   480.0        380.80   40.0   \n1325645                 31.74                    36.0         28.56    3.0   \n1325646                211.60                   240.0        190.40   20.0   \n1325647                 31.74                    36.0         36.21    3.0   \n\n         Le Kgs  Le Price Chng Usd  PD  Pln Base Cs  Pln Base Lbs  \\\n0          0.00                0.0   1          0.0           0.0   \n1          0.00                0.0   1          0.0           0.0   \n2          0.00                0.0   1          0.0           0.0   \n3          0.00                0.0   1          0.0           0.0   \n4          0.00                0.0   2          0.0           0.0   \n...         ...                ...  ..          ...           ...   \n1325643  191.96                0.0   4          0.0           0.0   \n1325644  191.96                0.0   5          0.0           0.0   \n1325645   14.40                0.0   5          0.0           0.0   \n1325646   95.98                0.0   5          0.0           0.0   \n1325647   14.40                0.0   5          0.0           0.0   \n\n         Pln Base Rtn Usd  Pln Base Units  Pln Base Usd  Pln Cons Lbs  \\\n0                     0.0             0.0           0.0           0.0   \n1                     0.0             0.0           0.0           0.0   \n2                     0.0             0.0           0.0           0.0   \n3                     0.0             0.0           0.0           0.0   \n4                     0.0             0.0           0.0           0.0   \n...                   ...             ...           ...           ...   \n1325643               0.0             0.0           0.0           0.0   \n1325644               0.0             0.0           0.0           0.0   \n1325645               0.0             0.0           0.0           0.0   \n1325646               0.0             0.0           0.0           0.0   \n1325647               0.0             0.0           0.0           0.0   \n\n         Pln Cons Rtn Usd  Pln Cons Units  Pln Cons Usd  Pln Inc Usd  \\\n0                     0.0             0.0           0.0          0.0   \n1                     0.0             0.0           0.0          0.0   \n2                     0.0             0.0           0.0          0.0   \n3                     0.0             0.0           0.0          0.0   \n4                     0.0             0.0           0.0          0.0   \n...                   ...             ...           ...          ...   \n1325643               0.0             0.0           0.0          0.0   \n1325644               0.0             0.0           0.0          0.0   \n1325645               0.0             0.0           0.0          0.0   \n1325646               0.0             0.0           0.0          0.0   \n1325647               0.0             0.0           0.0          0.0   \n\n         Pln Incr Cs  Pln Incr Lbs  Pln Incr Rtn Usd  Pln Incr Ship Cs  \\\n0                0.0           0.0               0.0               0.0   \n1                0.0           0.0               0.0               0.0   \n2                0.0           0.0               0.0               0.0   \n3                0.0           0.0               0.0               0.0   \n4                0.0           0.0               0.0               0.0   \n...              ...           ...               ...               ...   \n1325643          0.0           0.0               0.0               0.0   \n1325644          0.0           0.0               0.0               0.0   \n1325645          0.0           0.0               0.0               0.0   \n1325646          0.0           0.0               0.0               0.0   \n1325647          0.0           0.0               0.0               0.0   \n\n         Pln Incr Ship Kgs  Pln Incr Ship Lbs  Pln Incr Ship Units  \\\n0                      0.0                0.0                  0.0   \n1                      0.0                0.0                  0.0   \n2                      0.0                0.0                  0.0   \n3                      0.0                0.0                  0.0   \n4                      0.0                0.0                  0.0   \n...                    ...                ...                  ...   \n1325643                0.0                0.0                  0.0   \n1325644                0.0                0.0                  0.0   \n1325645                0.0                0.0                  0.0   \n1325646                0.0                0.0                  0.0   \n1325647                0.0                0.0                  0.0   \n\n         Pln Incr Ship Usd  Pln Incr Units  Pln Kmf  Pln Nsv Prxy Usd  \\\n0                      0.0             0.0      0.0               0.0   \n1                      0.0             0.0      0.0               0.0   \n2                      0.0             0.0      0.0               0.0   \n3                      0.0             0.0      0.0               0.0   \n4                      0.0             0.0      0.0               0.0   \n...                    ...             ...      ...               ...   \n1325643                0.0             0.0      0.0               0.0   \n1325644                0.0             0.0      0.0               0.0   \n1325645                0.0             0.0      0.0               0.0   \n1325646                0.0             0.0      0.0               0.0   \n1325647                0.0             0.0      0.0               0.0   \n\n         Pln Sc Prxy Usd  Pln Ship Cs  Pln Ship Ea  Pln Ship Kg  Pln Ship Lbs  \\\n0                    0.0          0.0          0.0          0.0           0.0   \n1                    0.0          0.0          0.0          0.0           0.0   \n2                    0.0          0.0          0.0          0.0           0.0   \n3                    0.0          0.0          0.0          0.0           0.0   \n4                    0.0          0.0          0.0          0.0           0.0   \n...                  ...          ...          ...          ...           ...   \n1325643              0.0          0.0          0.0          0.0           0.0   \n1325644              0.0          0.0          0.0          0.0           0.0   \n1325645              0.0          0.0          0.0          0.0           0.0   \n1325646              0.0          0.0          0.0          0.0           0.0   \n1325647              0.0          0.0          0.0          0.0           0.0   \n\n         Pln Ship Usd  Sugstd Base Vol Sas  Sugstd Shlf Prc Sas  \\\n0                 0.0                  0.0                  0.0   \n1                 0.0                  0.0                  0.0   \n2                 0.0                  0.0                  0.0   \n3                 0.0                  0.0                  0.0   \n4                 0.0                  0.0                  0.0   \n...               ...                  ...                  ...   \n1325643           0.0                  0.0                  0.0   \n1325644           0.0                  0.0                  0.0   \n1325645           0.0                  0.0                  0.0   \n1325646           0.0                  0.0                  0.0   \n1325647           0.0                  0.0                  0.0   \n\n         Totl Pln Kmf Cost Of Prod Usd  \n0                                  0.0  \n1                                  0.0  \n2                                  0.0  \n3                                  0.0  \n4                                  0.0  \n...                                ...  \n1325643                            0.0  \n1325644                            0.0  \n1325645                            0.0  \n1325646                            0.0  \n1325647                            0.0  \n\n[1325648 rows x 82 columns]",
      "text/html": "<div>\n<style scoped>\n    .dataframe tbody tr th:only-of-type {\n        vertical-align: middle;\n    }\n\n    .dataframe tbody tr th {\n        vertical-align: top;\n    }\n\n    .dataframe thead th {\n        text-align: right;\n    }\n</style>\n<table border=\"1\" class=\"dataframe\">\n  <thead>\n    <tr style=\"text-align: right;\">\n      <th></th>\n      <th>All In Flg</th>\n      <th>Alt Segment</th>\n      <th>BU</th>\n      <th>Cal Wk</th>\n      <th>Can Catg</th>\n      <th>Catg</th>\n      <th>Curr</th>\n      <th>Fisc Yr</th>\n      <th>Lvl A</th>\n      <th>Lvl B</th>\n      <th>Lvl C</th>\n      <th>Lvl D</th>\n      <th>Lvl E</th>\n      <th>Matrl</th>\n      <th>Mixd Plt Flg</th>\n      <th>Mixd Plt Matrl</th>\n      <th>Mixd Plt Matrl Desc</th>\n      <th>Pd Yr</th>\n      <th>Pln To Nbr</th>\n      <th>Pln To Nm</th>\n      <th>Prod Hier Brand</th>\n      <th>Prod Hier Brand Desc</th>\n      <th>Prod Hier Typ</th>\n      <th>Prod Hier Typ Desc</th>\n      <th>QTR</th>\n      <th>Sub Catg</th>\n      <th>SZ</th>\n      <th>Tier Nm</th>\n      <th>WK</th>\n      <th>Yr &amp; Wk</th>\n      <th>Act Nsv Prxy Usd</th>\n      <th>Act Sc Prxy Usd</th>\n      <th>Actl Cost Of Prod Usd</th>\n      <th>Actl Ship Cs</th>\n      <th>Actl Ship Kg</th>\n      <th>Actl Ship Lbs</th>\n      <th>Actl Ship Units</th>\n      <th>Actl Ship Usd</th>\n      <th>Latst Estmt Cost Of Prod Usd</th>\n      <th>Latst Estmt Cost Of Prod Usd Fxd</th>\n      <th>Latst Estmt Gsv</th>\n      <th>Latst Estmt Kmf Usd</th>\n      <th>Latst Estmt Nsv Prxy Usd</th>\n      <th>Latst Estmt Sc Prxy Usd</th>\n      <th>Latst Estmt Sc Prxy Usd Gsv</th>\n      <th>Latst Estmt Ship Lbs</th>\n      <th>Latst Estmt Ship Units</th>\n      <th>Le Cop Fixed</th>\n      <th>Le Cs</th>\n      <th>Le Kgs</th>\n      <th>Le Price Chng Usd</th>\n      <th>PD</th>\n      <th>Pln Base Cs</th>\n      <th>Pln Base Lbs</th>\n      <th>Pln Base Rtn Usd</th>\n      <th>Pln Base Units</th>\n      <th>Pln Base Usd</th>\n      <th>Pln Cons Lbs</th>\n      <th>Pln Cons Rtn Usd</th>\n      <th>Pln Cons Units</th>\n      <th>Pln Cons Usd</th>\n      <th>Pln Inc Usd</th>\n      <th>Pln Incr Cs</th>\n      <th>Pln Incr Lbs</th>\n      <th>Pln Incr Rtn Usd</th>\n      <th>Pln Incr Ship Cs</th>\n      <th>Pln Incr Ship Kgs</th>\n      <th>Pln Incr Ship Lbs</th>\n      <th>Pln Incr Ship Units</th>\n      <th>Pln Incr Ship Usd</th>\n      <th>Pln Incr Units</th>\n      <th>Pln Kmf</th>\n      <th>Pln Nsv Prxy Usd</th>\n      <th>Pln Sc Prxy Usd</th>\n      <th>Pln Ship Cs</th>\n      <th>Pln Ship Ea</th>\n      <th>Pln Ship Kg</th>\n      <th>Pln Ship Lbs</th>\n      <th>Pln Ship Usd</th>\n      <th>Sugstd Base Vol Sas</th>\n      <th>Sugstd Shlf Prc Sas</th>\n      <th>Totl Pln Kmf Cost Of Prod Usd</th>\n    </tr>\n  </thead>\n  <tbody>\n    <tr>\n      <th>0</th>\n      <td>F</td>\n      <td>PWS</td>\n      <td>K1</td>\n      <td>202301</td>\n      <td>NPF</td>\n      <td>TOASTER PASTRIES</td>\n      <td>USD</td>\n      <td>2023</td>\n      <td>US RETAIL CHANNELS</td>\n      <td>DRUG/DISCOUNT/TELESALES</td>\n      <td>TELESALES</td>\n      <td>TELESALES</td>\n      <td>TELESALES</td>\n      <td>3800025063</td>\n      <td>N</td>\n      <td>3800025063</td>\n      <td>PT CNFETTI CAKE BITES 3.5OZX6 SS</td>\n      <td>P1 2023</td>\n      <td>300023</td>\n      <td>DPI - WEST</td>\n      <td>2010100052</td>\n      <td>Pop-Tarts</td>\n      <td>2.010100e+13</td>\n      <td>Pop-Tarts S</td>\n      <td>1</td>\n      <td>TOASTER PASTRIES</td>\n      <td>S</td>\n      <td>DPI - WEST</td>\n      <td>1</td>\n      <td>2023&amp;1</td>\n      <td>0.00</td>\n      <td>0.00</td>\n      <td>0.00</td>\n      <td>0.0</td>\n      <td>0.00</td>\n      <td>0.00</td>\n      <td>0.0</td>\n      <td>0.00</td>\n      <td>0.00</td>\n      <td>0.00</td>\n      <td>0.00</td>\n      <td>0.0</td>\n      <td>0.00</td>\n      <td>0.00</td>\n      <td>0.00</td>\n      <td>0.00</td>\n      <td>0.0</td>\n      <td>0.00</td>\n      <td>0.0</td>\n      <td>0.00</td>\n      <td>0.0</td>\n      <td>1</td>\n      <td>0.0</td>\n      <td>0.0</td>\n      <td>0.0</td>\n      <td>0.0</td>\n      <td>0.0</td>\n      <td>0.0</td>\n      <td>0.0</td>\n      <td>0.0</td>\n      <td>0.0</td>\n      <td>0.0</td>\n      <td>0.0</td>\n      <td>0.0</td>\n      <td>0.0</td>\n      <td>0.0</td>\n      <td>0.0</td>\n      <td>0.0</td>\n      <td>0.0</td>\n      <td>0.0</td>\n      <td>0.0</td>\n      <td>0.0</td>\n      <td>0.0</td>\n      <td>0.0</td>\n      <td>0.0</td>\n      <td>0.0</td>\n      <td>0.0</td>\n      <td>0.0</td>\n      <td>0.0</td>\n      <td>0.0</td>\n      <td>0.0</td>\n      <td>0.0</td>\n    </tr>\n    <tr>\n      <th>1</th>\n      <td>F</td>\n      <td>PWS</td>\n      <td>K1</td>\n      <td>202302</td>\n      <td>NPF</td>\n      <td>TOASTER PASTRIES</td>\n      <td>USD</td>\n      <td>2023</td>\n      <td>US RETAIL CHANNELS</td>\n      <td>DRUG/DISCOUNT/TELESALES</td>\n      <td>TELESALES</td>\n      <td>TELESALES</td>\n      <td>TELESALES</td>\n      <td>3800025063</td>\n      <td>N</td>\n      <td>3800025063</td>\n      <td>PT CNFETTI CAKE BITES 3.5OZX6 SS</td>\n      <td>P1 2023</td>\n      <td>300023</td>\n      <td>DPI - WEST</td>\n      <td>2010100052</td>\n      <td>Pop-Tarts</td>\n      <td>2.010100e+13</td>\n      <td>Pop-Tarts S</td>\n      <td>1</td>\n      <td>TOASTER PASTRIES</td>\n      <td>S</td>\n      <td>DPI - WEST</td>\n      <td>2</td>\n      <td>2023&amp;2</td>\n      <td>0.00</td>\n      <td>0.00</td>\n      <td>0.00</td>\n      <td>0.0</td>\n      <td>0.00</td>\n      <td>0.00</td>\n      <td>0.0</td>\n      <td>0.00</td>\n      <td>0.00</td>\n      <td>0.00</td>\n      <td>0.00</td>\n      <td>0.0</td>\n      <td>0.00</td>\n      <td>0.00</td>\n      <td>0.00</td>\n      <td>0.00</td>\n      <td>0.0</td>\n      <td>0.00</td>\n      <td>0.0</td>\n      <td>0.00</td>\n      <td>0.0</td>\n      <td>1</td>\n      <td>0.0</td>\n      <td>0.0</td>\n      <td>0.0</td>\n      <td>0.0</td>\n      <td>0.0</td>\n      <td>0.0</td>\n      <td>0.0</td>\n      <td>0.0</td>\n      <td>0.0</td>\n      <td>0.0</td>\n      <td>0.0</td>\n      <td>0.0</td>\n      <td>0.0</td>\n      <td>0.0</td>\n      <td>0.0</td>\n      <td>0.0</td>\n      <td>0.0</td>\n      <td>0.0</td>\n      <td>0.0</td>\n      <td>0.0</td>\n      <td>0.0</td>\n      <td>0.0</td>\n      <td>0.0</td>\n      <td>0.0</td>\n      <td>0.0</td>\n      <td>0.0</td>\n      <td>0.0</td>\n      <td>0.0</td>\n      <td>0.0</td>\n      <td>0.0</td>\n    </tr>\n    <tr>\n      <th>2</th>\n      <td>F</td>\n      <td>PWS</td>\n      <td>K1</td>\n      <td>202303</td>\n      <td>NPF</td>\n      <td>TOASTER PASTRIES</td>\n      <td>USD</td>\n      <td>2023</td>\n      <td>US RETAIL CHANNELS</td>\n      <td>DRUG/DISCOUNT/TELESALES</td>\n      <td>TELESALES</td>\n      <td>TELESALES</td>\n      <td>TELESALES</td>\n      <td>3800025063</td>\n      <td>N</td>\n      <td>3800025063</td>\n      <td>PT CNFETTI CAKE BITES 3.5OZX6 SS</td>\n      <td>P1 2023</td>\n      <td>300023</td>\n      <td>DPI - WEST</td>\n      <td>2010100052</td>\n      <td>Pop-Tarts</td>\n      <td>2.010100e+13</td>\n      <td>Pop-Tarts S</td>\n      <td>1</td>\n      <td>TOASTER PASTRIES</td>\n      <td>S</td>\n      <td>DPI - WEST</td>\n      <td>3</td>\n      <td>2023&amp;3</td>\n      <td>0.00</td>\n      <td>0.00</td>\n      <td>0.00</td>\n      <td>0.0</td>\n      <td>0.00</td>\n      <td>0.00</td>\n      <td>0.0</td>\n      <td>0.00</td>\n      <td>0.00</td>\n      <td>0.00</td>\n      <td>0.00</td>\n      <td>0.0</td>\n      <td>0.00</td>\n      <td>0.00</td>\n      <td>0.00</td>\n      <td>0.00</td>\n      <td>0.0</td>\n      <td>0.00</td>\n      <td>0.0</td>\n      <td>0.00</td>\n      <td>0.0</td>\n      <td>1</td>\n      <td>0.0</td>\n      <td>0.0</td>\n      <td>0.0</td>\n      <td>0.0</td>\n      <td>0.0</td>\n      <td>0.0</td>\n      <td>0.0</td>\n      <td>0.0</td>\n      <td>0.0</td>\n      <td>0.0</td>\n      <td>0.0</td>\n      <td>0.0</td>\n      <td>0.0</td>\n      <td>0.0</td>\n      <td>0.0</td>\n      <td>0.0</td>\n      <td>0.0</td>\n      <td>0.0</td>\n      <td>0.0</td>\n      <td>0.0</td>\n      <td>0.0</td>\n      <td>0.0</td>\n      <td>0.0</td>\n      <td>0.0</td>\n      <td>0.0</td>\n      <td>0.0</td>\n      <td>0.0</td>\n      <td>0.0</td>\n      <td>0.0</td>\n      <td>0.0</td>\n    </tr>\n    <tr>\n      <th>3</th>\n      <td>F</td>\n      <td>PWS</td>\n      <td>K1</td>\n      <td>202304</td>\n      <td>NPF</td>\n      <td>TOASTER PASTRIES</td>\n      <td>USD</td>\n      <td>2023</td>\n      <td>US RETAIL CHANNELS</td>\n      <td>DRUG/DISCOUNT/TELESALES</td>\n      <td>TELESALES</td>\n      <td>TELESALES</td>\n      <td>TELESALES</td>\n      <td>3800025063</td>\n      <td>N</td>\n      <td>3800025063</td>\n      <td>PT CNFETTI CAKE BITES 3.5OZX6 SS</td>\n      <td>P1 2023</td>\n      <td>300023</td>\n      <td>DPI - WEST</td>\n      <td>2010100052</td>\n      <td>Pop-Tarts</td>\n      <td>2.010100e+13</td>\n      <td>Pop-Tarts S</td>\n      <td>1</td>\n      <td>TOASTER PASTRIES</td>\n      <td>S</td>\n      <td>DPI - WEST</td>\n      <td>4</td>\n      <td>2023&amp;4</td>\n      <td>0.00</td>\n      <td>0.00</td>\n      <td>0.00</td>\n      <td>0.0</td>\n      <td>0.00</td>\n      <td>0.00</td>\n      <td>0.0</td>\n      <td>0.00</td>\n      <td>0.00</td>\n      <td>0.00</td>\n      <td>0.00</td>\n      <td>0.0</td>\n      <td>0.00</td>\n      <td>0.00</td>\n      <td>0.00</td>\n      <td>0.00</td>\n      <td>0.0</td>\n      <td>0.00</td>\n      <td>0.0</td>\n      <td>0.00</td>\n      <td>0.0</td>\n      <td>1</td>\n      <td>0.0</td>\n      <td>0.0</td>\n      <td>0.0</td>\n      <td>0.0</td>\n      <td>0.0</td>\n      <td>0.0</td>\n      <td>0.0</td>\n      <td>0.0</td>\n      <td>0.0</td>\n      <td>0.0</td>\n      <td>0.0</td>\n      <td>0.0</td>\n      <td>0.0</td>\n      <td>0.0</td>\n      <td>0.0</td>\n      <td>0.0</td>\n      <td>0.0</td>\n      <td>0.0</td>\n      <td>0.0</td>\n      <td>0.0</td>\n      <td>0.0</td>\n      <td>0.0</td>\n      <td>0.0</td>\n      <td>0.0</td>\n      <td>0.0</td>\n      <td>0.0</td>\n      <td>0.0</td>\n      <td>0.0</td>\n      <td>0.0</td>\n      <td>0.0</td>\n    </tr>\n    <tr>\n      <th>4</th>\n      <td>F</td>\n      <td>PWS</td>\n      <td>K1</td>\n      <td>202305</td>\n      <td>NPF</td>\n      <td>TOASTER PASTRIES</td>\n      <td>USD</td>\n      <td>2023</td>\n      <td>US RETAIL CHANNELS</td>\n      <td>DRUG/DISCOUNT/TELESALES</td>\n      <td>TELESALES</td>\n      <td>TELESALES</td>\n      <td>TELESALES</td>\n      <td>3800025063</td>\n      <td>N</td>\n      <td>3800025063</td>\n      <td>PT CNFETTI CAKE BITES 3.5OZX6 SS</td>\n      <td>P2 2023</td>\n      <td>300023</td>\n      <td>DPI - WEST</td>\n      <td>2010100052</td>\n      <td>Pop-Tarts</td>\n      <td>2.010100e+13</td>\n      <td>Pop-Tarts S</td>\n      <td>1</td>\n      <td>TOASTER PASTRIES</td>\n      <td>S</td>\n      <td>DPI - WEST</td>\n      <td>5</td>\n      <td>2023&amp;5</td>\n      <td>0.00</td>\n      <td>0.00</td>\n      <td>0.00</td>\n      <td>0.0</td>\n      <td>0.00</td>\n      <td>0.00</td>\n      <td>0.0</td>\n      <td>0.00</td>\n      <td>0.00</td>\n      <td>0.00</td>\n      <td>0.00</td>\n      <td>0.0</td>\n      <td>0.00</td>\n      <td>0.00</td>\n      <td>0.00</td>\n      <td>0.00</td>\n      <td>0.0</td>\n      <td>0.00</td>\n      <td>0.0</td>\n      <td>0.00</td>\n      <td>0.0</td>\n      <td>2</td>\n      <td>0.0</td>\n      <td>0.0</td>\n      <td>0.0</td>\n      <td>0.0</td>\n      <td>0.0</td>\n      <td>0.0</td>\n      <td>0.0</td>\n      <td>0.0</td>\n      <td>0.0</td>\n      <td>0.0</td>\n      <td>0.0</td>\n      <td>0.0</td>\n      <td>0.0</td>\n      <td>0.0</td>\n      <td>0.0</td>\n      <td>0.0</td>\n      <td>0.0</td>\n      <td>0.0</td>\n      <td>0.0</td>\n      <td>0.0</td>\n      <td>0.0</td>\n      <td>0.0</td>\n      <td>0.0</td>\n      <td>0.0</td>\n      <td>0.0</td>\n      <td>0.0</td>\n      <td>0.0</td>\n      <td>0.0</td>\n      <td>0.0</td>\n      <td>0.0</td>\n    </tr>\n    <tr>\n      <th>...</th>\n      <td>...</td>\n      <td>...</td>\n      <td>...</td>\n      <td>...</td>\n      <td>...</td>\n      <td>...</td>\n      <td>...</td>\n      <td>...</td>\n      <td>...</td>\n      <td>...</td>\n      <td>...</td>\n      <td>...</td>\n      <td>...</td>\n      <td>...</td>\n      <td>...</td>\n      <td>...</td>\n      <td>...</td>\n      <td>...</td>\n      <td>...</td>\n      <td>...</td>\n      <td>...</td>\n      <td>...</td>\n      <td>...</td>\n      <td>...</td>\n      <td>...</td>\n      <td>...</td>\n      <td>...</td>\n      <td>...</td>\n      <td>...</td>\n      <td>...</td>\n      <td>...</td>\n      <td>...</td>\n      <td>...</td>\n      <td>...</td>\n      <td>...</td>\n      <td>...</td>\n      <td>...</td>\n      <td>...</td>\n      <td>...</td>\n      <td>...</td>\n      <td>...</td>\n      <td>...</td>\n      <td>...</td>\n      <td>...</td>\n      <td>...</td>\n      <td>...</td>\n      <td>...</td>\n      <td>...</td>\n      <td>...</td>\n      <td>...</td>\n      <td>...</td>\n      <td>...</td>\n      <td>...</td>\n      <td>...</td>\n      <td>...</td>\n      <td>...</td>\n      <td>...</td>\n      <td>...</td>\n      <td>...</td>\n      <td>...</td>\n      <td>...</td>\n      <td>...</td>\n      <td>...</td>\n      <td>...</td>\n      <td>...</td>\n      <td>...</td>\n      <td>...</td>\n      <td>...</td>\n      <td>...</td>\n      <td>...</td>\n      <td>...</td>\n      <td>...</td>\n      <td>...</td>\n      <td>...</td>\n      <td>...</td>\n      <td>...</td>\n      <td>...</td>\n      <td>...</td>\n      <td>...</td>\n      <td>...</td>\n      <td>...</td>\n      <td>...</td>\n    </tr>\n    <tr>\n      <th>1325643</th>\n      <td>F</td>\n      <td>CONVENIENCE</td>\n      <td>Specialty</td>\n      <td>202017</td>\n      <td>NPF</td>\n      <td>TOASTER PASTRIES</td>\n      <td>CAD</td>\n      <td>2020</td>\n      <td>CANADA</td>\n      <td>CANADA OUT OF HOME</td>\n      <td>CANADA FOOD SERVICE</td>\n      <td>CA FOOD SERVICE REGION</td>\n      <td>CA FOOD SERVICE SUBREGION</td>\n      <td>6410025666</td>\n      <td>N</td>\n      <td>6410025666</td>\n      <td>PT FR RASP 400gmx12</td>\n      <td>P4 2020</td>\n      <td>303979</td>\n      <td>CA AWAY FROM HOME</td>\n      <td>2010100052</td>\n      <td>Pop-Tarts</td>\n      <td>2.010100e+13</td>\n      <td>Pop-Tarts S</td>\n      <td>2</td>\n      <td>TOASTER PASTRIES</td>\n      <td>S</td>\n      <td>OOH CANADA</td>\n      <td>17</td>\n      <td>2020&amp;17</td>\n      <td>1252.80</td>\n      <td>965.68</td>\n      <td>287.12</td>\n      <td>40.0</td>\n      <td>191.96</td>\n      <td>423.20</td>\n      <td>480.0</td>\n      <td>1252.80</td>\n      <td>287.12</td>\n      <td>85.86</td>\n      <td>1252.80</td>\n      <td>0.0</td>\n      <td>1252.80</td>\n      <td>965.68</td>\n      <td>965.68</td>\n      <td>423.20</td>\n      <td>480.0</td>\n      <td>380.80</td>\n      <td>40.0</td>\n      <td>191.96</td>\n      <td>0.0</td>\n      <td>4</td>\n      <td>0.0</td>\n      <td>0.0</td>\n      <td>0.0</td>\n      <td>0.0</td>\n      <td>0.0</td>\n      <td>0.0</td>\n      <td>0.0</td>\n      <td>0.0</td>\n      <td>0.0</td>\n      <td>0.0</td>\n      <td>0.0</td>\n      <td>0.0</td>\n      <td>0.0</td>\n      <td>0.0</td>\n      <td>0.0</td>\n      <td>0.0</td>\n      <td>0.0</td>\n      <td>0.0</td>\n      <td>0.0</td>\n      <td>0.0</td>\n      <td>0.0</td>\n      <td>0.0</td>\n      <td>0.0</td>\n      <td>0.0</td>\n      <td>0.0</td>\n      <td>0.0</td>\n      <td>0.0</td>\n      <td>0.0</td>\n      <td>0.0</td>\n      <td>0.0</td>\n    </tr>\n    <tr>\n      <th>1325644</th>\n      <td>F</td>\n      <td>CONVENIENCE</td>\n      <td>Specialty</td>\n      <td>202018</td>\n      <td>NPF</td>\n      <td>TOASTER PASTRIES</td>\n      <td>CAD</td>\n      <td>2020</td>\n      <td>CANADA</td>\n      <td>CANADA OUT OF HOME</td>\n      <td>CANADA FOOD SERVICE</td>\n      <td>CA FOOD SERVICE REGION</td>\n      <td>CA FOOD SERVICE SUBREGION</td>\n      <td>6410025666</td>\n      <td>N</td>\n      <td>6410025666</td>\n      <td>PT FR RASP 400gmx12</td>\n      <td>P5 2020</td>\n      <td>303979</td>\n      <td>CA AWAY FROM HOME</td>\n      <td>2010100052</td>\n      <td>Pop-Tarts</td>\n      <td>2.010100e+13</td>\n      <td>Pop-Tarts S</td>\n      <td>2</td>\n      <td>TOASTER PASTRIES</td>\n      <td>S</td>\n      <td>OOH CANADA</td>\n      <td>18</td>\n      <td>2020&amp;18</td>\n      <td>1252.80</td>\n      <td>965.68</td>\n      <td>287.12</td>\n      <td>40.0</td>\n      <td>191.96</td>\n      <td>423.20</td>\n      <td>480.0</td>\n      <td>1252.80</td>\n      <td>287.12</td>\n      <td>85.86</td>\n      <td>1252.80</td>\n      <td>0.0</td>\n      <td>1252.80</td>\n      <td>965.68</td>\n      <td>965.68</td>\n      <td>423.20</td>\n      <td>480.0</td>\n      <td>380.80</td>\n      <td>40.0</td>\n      <td>191.96</td>\n      <td>0.0</td>\n      <td>5</td>\n      <td>0.0</td>\n      <td>0.0</td>\n      <td>0.0</td>\n      <td>0.0</td>\n      <td>0.0</td>\n      <td>0.0</td>\n      <td>0.0</td>\n      <td>0.0</td>\n      <td>0.0</td>\n      <td>0.0</td>\n      <td>0.0</td>\n      <td>0.0</td>\n      <td>0.0</td>\n      <td>0.0</td>\n      <td>0.0</td>\n      <td>0.0</td>\n      <td>0.0</td>\n      <td>0.0</td>\n      <td>0.0</td>\n      <td>0.0</td>\n      <td>0.0</td>\n      <td>0.0</td>\n      <td>0.0</td>\n      <td>0.0</td>\n      <td>0.0</td>\n      <td>0.0</td>\n      <td>0.0</td>\n      <td>0.0</td>\n      <td>0.0</td>\n      <td>0.0</td>\n    </tr>\n    <tr>\n      <th>1325645</th>\n      <td>F</td>\n      <td>CONVENIENCE</td>\n      <td>Specialty</td>\n      <td>202019</td>\n      <td>NPF</td>\n      <td>TOASTER PASTRIES</td>\n      <td>CAD</td>\n      <td>2020</td>\n      <td>CANADA</td>\n      <td>CANADA OUT OF HOME</td>\n      <td>CANADA FOOD SERVICE</td>\n      <td>CA FOOD SERVICE REGION</td>\n      <td>CA FOOD SERVICE SUBREGION</td>\n      <td>6410025666</td>\n      <td>N</td>\n      <td>6410025666</td>\n      <td>PT FR RASP 400gmx12</td>\n      <td>P5 2020</td>\n      <td>303979</td>\n      <td>CA AWAY FROM HOME</td>\n      <td>2010100052</td>\n      <td>Pop-Tarts</td>\n      <td>2.010100e+13</td>\n      <td>Pop-Tarts S</td>\n      <td>2</td>\n      <td>TOASTER PASTRIES</td>\n      <td>S</td>\n      <td>OOH CANADA</td>\n      <td>19</td>\n      <td>2020&amp;19</td>\n      <td>99.72</td>\n      <td>78.19</td>\n      <td>21.53</td>\n      <td>3.0</td>\n      <td>14.40</td>\n      <td>31.74</td>\n      <td>36.0</td>\n      <td>99.72</td>\n      <td>21.53</td>\n      <td>6.44</td>\n      <td>99.72</td>\n      <td>0.0</td>\n      <td>99.72</td>\n      <td>78.19</td>\n      <td>78.19</td>\n      <td>31.74</td>\n      <td>36.0</td>\n      <td>28.56</td>\n      <td>3.0</td>\n      <td>14.40</td>\n      <td>0.0</td>\n      <td>5</td>\n      <td>0.0</td>\n      <td>0.0</td>\n      <td>0.0</td>\n      <td>0.0</td>\n      <td>0.0</td>\n      <td>0.0</td>\n      <td>0.0</td>\n      <td>0.0</td>\n      <td>0.0</td>\n      <td>0.0</td>\n      <td>0.0</td>\n      <td>0.0</td>\n      <td>0.0</td>\n      <td>0.0</td>\n      <td>0.0</td>\n      <td>0.0</td>\n      <td>0.0</td>\n      <td>0.0</td>\n      <td>0.0</td>\n      <td>0.0</td>\n      <td>0.0</td>\n      <td>0.0</td>\n      <td>0.0</td>\n      <td>0.0</td>\n      <td>0.0</td>\n      <td>0.0</td>\n      <td>0.0</td>\n      <td>0.0</td>\n      <td>0.0</td>\n      <td>0.0</td>\n    </tr>\n    <tr>\n      <th>1325646</th>\n      <td>F</td>\n      <td>CONVENIENCE</td>\n      <td>Specialty</td>\n      <td>202020</td>\n      <td>NPF</td>\n      <td>TOASTER PASTRIES</td>\n      <td>CAD</td>\n      <td>2020</td>\n      <td>CANADA</td>\n      <td>CANADA OUT OF HOME</td>\n      <td>CANADA FOOD SERVICE</td>\n      <td>CA FOOD SERVICE REGION</td>\n      <td>CA FOOD SERVICE SUBREGION</td>\n      <td>6410025666</td>\n      <td>N</td>\n      <td>6410025666</td>\n      <td>PT FR RASP 400gmx12</td>\n      <td>P5 2020</td>\n      <td>303979</td>\n      <td>CA AWAY FROM HOME</td>\n      <td>2010100052</td>\n      <td>Pop-Tarts</td>\n      <td>2.010100e+13</td>\n      <td>Pop-Tarts S</td>\n      <td>2</td>\n      <td>TOASTER PASTRIES</td>\n      <td>S</td>\n      <td>OOH CANADA</td>\n      <td>20</td>\n      <td>2020&amp;20</td>\n      <td>626.40</td>\n      <td>482.84</td>\n      <td>143.56</td>\n      <td>20.0</td>\n      <td>95.98</td>\n      <td>211.60</td>\n      <td>240.0</td>\n      <td>626.40</td>\n      <td>143.56</td>\n      <td>42.93</td>\n      <td>626.40</td>\n      <td>0.0</td>\n      <td>626.40</td>\n      <td>482.84</td>\n      <td>482.84</td>\n      <td>211.60</td>\n      <td>240.0</td>\n      <td>190.40</td>\n      <td>20.0</td>\n      <td>95.98</td>\n      <td>0.0</td>\n      <td>5</td>\n      <td>0.0</td>\n      <td>0.0</td>\n      <td>0.0</td>\n      <td>0.0</td>\n      <td>0.0</td>\n      <td>0.0</td>\n      <td>0.0</td>\n      <td>0.0</td>\n      <td>0.0</td>\n      <td>0.0</td>\n      <td>0.0</td>\n      <td>0.0</td>\n      <td>0.0</td>\n      <td>0.0</td>\n      <td>0.0</td>\n      <td>0.0</td>\n      <td>0.0</td>\n      <td>0.0</td>\n      <td>0.0</td>\n      <td>0.0</td>\n      <td>0.0</td>\n      <td>0.0</td>\n      <td>0.0</td>\n      <td>0.0</td>\n      <td>0.0</td>\n      <td>0.0</td>\n      <td>0.0</td>\n      <td>0.0</td>\n      <td>0.0</td>\n      <td>0.0</td>\n    </tr>\n    <tr>\n      <th>1325647</th>\n      <td>F</td>\n      <td>CONVENIENCE</td>\n      <td>Specialty</td>\n      <td>202019</td>\n      <td>NPF</td>\n      <td>TOASTER PASTRIES</td>\n      <td>CAD</td>\n      <td>2020</td>\n      <td>CANADA</td>\n      <td>CANADA OUT OF HOME</td>\n      <td>CANADA FOOD SERVICE</td>\n      <td>CA FOOD SERVICE REGION</td>\n      <td>CA FOOD SERVICE SUBREGION</td>\n      <td>6410077003</td>\n      <td>N</td>\n      <td>6410077003</td>\n      <td>PT COOKS N' CREME 400GMX12</td>\n      <td>P5 2020</td>\n      <td>303979</td>\n      <td>CA AWAY FROM HOME</td>\n      <td>2010100052</td>\n      <td>Pop-Tarts</td>\n      <td>2.010100e+13</td>\n      <td>Pop-Tarts S</td>\n      <td>2</td>\n      <td>TOASTER PASTRIES</td>\n      <td>S</td>\n      <td>OOH CANADA</td>\n      <td>19</td>\n      <td>2020&amp;19</td>\n      <td>96.84</td>\n      <td>71.19</td>\n      <td>25.65</td>\n      <td>3.0</td>\n      <td>14.40</td>\n      <td>31.74</td>\n      <td>36.0</td>\n      <td>96.84</td>\n      <td>25.65</td>\n      <td>10.56</td>\n      <td>96.84</td>\n      <td>0.0</td>\n      <td>96.84</td>\n      <td>71.19</td>\n      <td>71.19</td>\n      <td>31.74</td>\n      <td>36.0</td>\n      <td>36.21</td>\n      <td>3.0</td>\n      <td>14.40</td>\n      <td>0.0</td>\n      <td>5</td>\n      <td>0.0</td>\n      <td>0.0</td>\n      <td>0.0</td>\n      <td>0.0</td>\n      <td>0.0</td>\n      <td>0.0</td>\n      <td>0.0</td>\n      <td>0.0</td>\n      <td>0.0</td>\n      <td>0.0</td>\n      <td>0.0</td>\n      <td>0.0</td>\n      <td>0.0</td>\n      <td>0.0</td>\n      <td>0.0</td>\n      <td>0.0</td>\n      <td>0.0</td>\n      <td>0.0</td>\n      <td>0.0</td>\n      <td>0.0</td>\n      <td>0.0</td>\n      <td>0.0</td>\n      <td>0.0</td>\n      <td>0.0</td>\n      <td>0.0</td>\n      <td>0.0</td>\n      <td>0.0</td>\n      <td>0.0</td>\n      <td>0.0</td>\n      <td>0.0</td>\n    </tr>\n  </tbody>\n</table>\n<p>1325648 rows × 82 columns</p>\n</div>"
     },
     "execution_count": 67,
     "metadata": {},
     "output_type": "execute_result"
    }
   ],
   "source": [
    "PLN"
   ],
   "metadata": {
    "collapsed": false,
    "ExecuteTime": {
     "end_time": "2024-02-24T03:20:28.351682300Z",
     "start_time": "2024-02-24T03:20:28.247738400Z"
    }
   },
   "execution_count": 67
  },
  {
   "cell_type": "code",
   "outputs": [],
   "source": [
    "planned_df = pd.DataFrame()\n",
    "\n",
    "planned_df['Cal Wk'] = PLN['Cal Wk']\n",
    "planned_df['Catg'] = PLN['Catg']\n",
    "planned_df['Curr'] = PLN['Curr']\n",
    "planned_df['QTR'] = PLN['QTR']\n",
    "planned_df['Sub Catg'] = PLN['Sub Catg']\n",
    "planned_df['Pln To Nbr'] = PLN['Pln To Nbr']\n",
    "planned_df['Pln To Nm'] = PLN['Pln To Nm']\n",
    "planned_df['Prod Heir Brand'] = PLN['Prod Hier Brand']\n",
    "planned_df['Prod Heir Typ'] = PLN['Prod Hier Typ']\n",
    "planned_df['WK'] = PLN['WK']\n",
    "planned_df['Pln Cons Lbs'] = PLN['Pln Cons Lbs']\n",
    "planned_df['Pln Cons Rtn Usd'] = PLN['Pln Cons Rtn Usd']\n",
    "planned_df['Pln Cons Units'] = PLN['Pln Cons Units']\n",
    "planned_df['Pln Cons Usd'] = PLN['Pln Cons Usd']\n"
   ],
   "metadata": {
    "collapsed": false,
    "ExecuteTime": {
     "end_time": "2024-02-24T03:18:26.647074700Z",
     "start_time": "2024-02-24T03:18:26.504918600Z"
    }
   },
   "execution_count": 65
  },
  {
   "cell_type": "code",
   "outputs": [
    {
     "data": {
      "text/plain": "         Cal Wk              Catg Curr  QTR          Sub Catg  Pln To Nbr  \\\n0        202301  TOASTER PASTRIES  USD    1  TOASTER PASTRIES      300023   \n1        202302  TOASTER PASTRIES  USD    1  TOASTER PASTRIES      300023   \n2        202303  TOASTER PASTRIES  USD    1  TOASTER PASTRIES      300023   \n3        202304  TOASTER PASTRIES  USD    1  TOASTER PASTRIES      300023   \n4        202305  TOASTER PASTRIES  USD    1  TOASTER PASTRIES      300023   \n...         ...               ...  ...  ...               ...         ...   \n1325643  202017  TOASTER PASTRIES  CAD    2  TOASTER PASTRIES      303979   \n1325644  202018  TOASTER PASTRIES  CAD    2  TOASTER PASTRIES      303979   \n1325645  202019  TOASTER PASTRIES  CAD    2  TOASTER PASTRIES      303979   \n1325646  202020  TOASTER PASTRIES  CAD    2  TOASTER PASTRIES      303979   \n1325647  202019  TOASTER PASTRIES  CAD    2  TOASTER PASTRIES      303979   \n\n                 Pln To Nm  Prod Heir Brand  Prod Heir Typ  WK  Pln Cons Lbs  \\\n0               DPI - WEST       2010100052   2.010100e+13   1           0.0   \n1               DPI - WEST       2010100052   2.010100e+13   2           0.0   \n2               DPI - WEST       2010100052   2.010100e+13   3           0.0   \n3               DPI - WEST       2010100052   2.010100e+13   4           0.0   \n4               DPI - WEST       2010100052   2.010100e+13   5           0.0   \n...                    ...              ...            ...  ..           ...   \n1325643  CA AWAY FROM HOME       2010100052   2.010100e+13  17           0.0   \n1325644  CA AWAY FROM HOME       2010100052   2.010100e+13  18           0.0   \n1325645  CA AWAY FROM HOME       2010100052   2.010100e+13  19           0.0   \n1325646  CA AWAY FROM HOME       2010100052   2.010100e+13  20           0.0   \n1325647  CA AWAY FROM HOME       2010100052   2.010100e+13  19           0.0   \n\n         Pln Cons Rtn Usd  Pln Cons Units  Pln Cons Usd  \n0                     0.0             0.0           0.0  \n1                     0.0             0.0           0.0  \n2                     0.0             0.0           0.0  \n3                     0.0             0.0           0.0  \n4                     0.0             0.0           0.0  \n...                   ...             ...           ...  \n1325643               0.0             0.0           0.0  \n1325644               0.0             0.0           0.0  \n1325645               0.0             0.0           0.0  \n1325646               0.0             0.0           0.0  \n1325647               0.0             0.0           0.0  \n\n[1325648 rows x 14 columns]",
      "text/html": "<div>\n<style scoped>\n    .dataframe tbody tr th:only-of-type {\n        vertical-align: middle;\n    }\n\n    .dataframe tbody tr th {\n        vertical-align: top;\n    }\n\n    .dataframe thead th {\n        text-align: right;\n    }\n</style>\n<table border=\"1\" class=\"dataframe\">\n  <thead>\n    <tr style=\"text-align: right;\">\n      <th></th>\n      <th>Cal Wk</th>\n      <th>Catg</th>\n      <th>Curr</th>\n      <th>QTR</th>\n      <th>Sub Catg</th>\n      <th>Pln To Nbr</th>\n      <th>Pln To Nm</th>\n      <th>Prod Heir Brand</th>\n      <th>Prod Heir Typ</th>\n      <th>WK</th>\n      <th>Pln Cons Lbs</th>\n      <th>Pln Cons Rtn Usd</th>\n      <th>Pln Cons Units</th>\n      <th>Pln Cons Usd</th>\n    </tr>\n  </thead>\n  <tbody>\n    <tr>\n      <th>0</th>\n      <td>202301</td>\n      <td>TOASTER PASTRIES</td>\n      <td>USD</td>\n      <td>1</td>\n      <td>TOASTER PASTRIES</td>\n      <td>300023</td>\n      <td>DPI - WEST</td>\n      <td>2010100052</td>\n      <td>2.010100e+13</td>\n      <td>1</td>\n      <td>0.0</td>\n      <td>0.0</td>\n      <td>0.0</td>\n      <td>0.0</td>\n    </tr>\n    <tr>\n      <th>1</th>\n      <td>202302</td>\n      <td>TOASTER PASTRIES</td>\n      <td>USD</td>\n      <td>1</td>\n      <td>TOASTER PASTRIES</td>\n      <td>300023</td>\n      <td>DPI - WEST</td>\n      <td>2010100052</td>\n      <td>2.010100e+13</td>\n      <td>2</td>\n      <td>0.0</td>\n      <td>0.0</td>\n      <td>0.0</td>\n      <td>0.0</td>\n    </tr>\n    <tr>\n      <th>2</th>\n      <td>202303</td>\n      <td>TOASTER PASTRIES</td>\n      <td>USD</td>\n      <td>1</td>\n      <td>TOASTER PASTRIES</td>\n      <td>300023</td>\n      <td>DPI - WEST</td>\n      <td>2010100052</td>\n      <td>2.010100e+13</td>\n      <td>3</td>\n      <td>0.0</td>\n      <td>0.0</td>\n      <td>0.0</td>\n      <td>0.0</td>\n    </tr>\n    <tr>\n      <th>3</th>\n      <td>202304</td>\n      <td>TOASTER PASTRIES</td>\n      <td>USD</td>\n      <td>1</td>\n      <td>TOASTER PASTRIES</td>\n      <td>300023</td>\n      <td>DPI - WEST</td>\n      <td>2010100052</td>\n      <td>2.010100e+13</td>\n      <td>4</td>\n      <td>0.0</td>\n      <td>0.0</td>\n      <td>0.0</td>\n      <td>0.0</td>\n    </tr>\n    <tr>\n      <th>4</th>\n      <td>202305</td>\n      <td>TOASTER PASTRIES</td>\n      <td>USD</td>\n      <td>1</td>\n      <td>TOASTER PASTRIES</td>\n      <td>300023</td>\n      <td>DPI - WEST</td>\n      <td>2010100052</td>\n      <td>2.010100e+13</td>\n      <td>5</td>\n      <td>0.0</td>\n      <td>0.0</td>\n      <td>0.0</td>\n      <td>0.0</td>\n    </tr>\n    <tr>\n      <th>...</th>\n      <td>...</td>\n      <td>...</td>\n      <td>...</td>\n      <td>...</td>\n      <td>...</td>\n      <td>...</td>\n      <td>...</td>\n      <td>...</td>\n      <td>...</td>\n      <td>...</td>\n      <td>...</td>\n      <td>...</td>\n      <td>...</td>\n      <td>...</td>\n    </tr>\n    <tr>\n      <th>1325643</th>\n      <td>202017</td>\n      <td>TOASTER PASTRIES</td>\n      <td>CAD</td>\n      <td>2</td>\n      <td>TOASTER PASTRIES</td>\n      <td>303979</td>\n      <td>CA AWAY FROM HOME</td>\n      <td>2010100052</td>\n      <td>2.010100e+13</td>\n      <td>17</td>\n      <td>0.0</td>\n      <td>0.0</td>\n      <td>0.0</td>\n      <td>0.0</td>\n    </tr>\n    <tr>\n      <th>1325644</th>\n      <td>202018</td>\n      <td>TOASTER PASTRIES</td>\n      <td>CAD</td>\n      <td>2</td>\n      <td>TOASTER PASTRIES</td>\n      <td>303979</td>\n      <td>CA AWAY FROM HOME</td>\n      <td>2010100052</td>\n      <td>2.010100e+13</td>\n      <td>18</td>\n      <td>0.0</td>\n      <td>0.0</td>\n      <td>0.0</td>\n      <td>0.0</td>\n    </tr>\n    <tr>\n      <th>1325645</th>\n      <td>202019</td>\n      <td>TOASTER PASTRIES</td>\n      <td>CAD</td>\n      <td>2</td>\n      <td>TOASTER PASTRIES</td>\n      <td>303979</td>\n      <td>CA AWAY FROM HOME</td>\n      <td>2010100052</td>\n      <td>2.010100e+13</td>\n      <td>19</td>\n      <td>0.0</td>\n      <td>0.0</td>\n      <td>0.0</td>\n      <td>0.0</td>\n    </tr>\n    <tr>\n      <th>1325646</th>\n      <td>202020</td>\n      <td>TOASTER PASTRIES</td>\n      <td>CAD</td>\n      <td>2</td>\n      <td>TOASTER PASTRIES</td>\n      <td>303979</td>\n      <td>CA AWAY FROM HOME</td>\n      <td>2010100052</td>\n      <td>2.010100e+13</td>\n      <td>20</td>\n      <td>0.0</td>\n      <td>0.0</td>\n      <td>0.0</td>\n      <td>0.0</td>\n    </tr>\n    <tr>\n      <th>1325647</th>\n      <td>202019</td>\n      <td>TOASTER PASTRIES</td>\n      <td>CAD</td>\n      <td>2</td>\n      <td>TOASTER PASTRIES</td>\n      <td>303979</td>\n      <td>CA AWAY FROM HOME</td>\n      <td>2010100052</td>\n      <td>2.010100e+13</td>\n      <td>19</td>\n      <td>0.0</td>\n      <td>0.0</td>\n      <td>0.0</td>\n      <td>0.0</td>\n    </tr>\n  </tbody>\n</table>\n<p>1325648 rows × 14 columns</p>\n</div>"
     },
     "execution_count": 66,
     "metadata": {},
     "output_type": "execute_result"
    }
   ],
   "source": [
    "planned_df"
   ],
   "metadata": {
    "collapsed": false,
    "ExecuteTime": {
     "end_time": "2024-02-24T03:18:27.812465300Z",
     "start_time": "2024-02-24T03:18:27.717789600Z"
    }
   },
   "execution_count": 66
  },
  {
   "cell_type": "code",
   "outputs": [
    {
     "data": {
      "text/plain": "        12 Months selected                              brand & size  Cntstr  \\\n0                     False                PRLY LZBTH NOT APPLICABLE     1.0   \n1                     False  BEST MAID COOKIE COMPANY NOT APPLICABLE     1.0   \n2                     False                     AWAKE NOT APPLICABLE     1.0   \n3                     False               BULLETPROOF NOT APPLICABLE     1.0   \n4                     False                      VEGA NOT APPLICABLE     1.0   \n...                     ...                                      ...     ...   \n683728                False                 KDK CAKES NOT APPLICABLE     NaN   \n683729                False                 KDK CAKES NOT APPLICABLE     NaN   \n683730                False                    REM BR NOT APPLICABLE     NaN   \n683731                False                 THAT'S IT NOT APPLICABLE     NaN   \n683732                False                 KDK CAKES NOT APPLICABLE     NaN   \n\n        Fisc Pd  Fisc Pd_int  Fisc Yr                 Kel Brand Kel Category  \\\n0            11           11     2020                PRLY LZBTH          PWS   \n1            11           11     2020  BEST MAID COOKIE COMPANY          PWS   \n2            11           11     2020                     AWAKE          PWS   \n3            11           11     2020               BULLETPROOF          PWS   \n4            11           11     2020                      VEGA          PWS   \n...         ...          ...      ...                       ...          ...   \n683728        9            9     2022                 KDK CAKES          PWS   \n683729        9            9     2022                 KDK CAKES          PWS   \n683730        9            9     2022                    REM BR          PWS   \n683731        9            9     2022                 THAT'S IT          PWS   \n683732        9            9     2022                 KDK CAKES          PWS   \n\n           Kel Corporate  Kel Count  ... UnitsNpx   Yago Dol Yago Dol Ap  \\\n0        APT HLTH LV CRP      01 CT  ...      NaN       0.00        0.00   \n1           ARBR INV CRP      01 CT  ...      NaN       0.00        0.00   \n2               AWKE CRP      01 CT  ...      NaN       0.00        0.00   \n3             BLTPRF CRP      01 CT  ...      NaN       0.00        0.00   \n4             DANONE CRP      01 CT  ...      NaN       0.00        0.00   \n...                  ...        ...  ...      ...        ...         ...   \n683728           KDK CRP  REM COUNT  ...      NaN   15930.07    10025.66   \n683729           KDK CRP  REM COUNT  ...      NaN   17674.61    11314.53   \n683730           REM CRP  REM COUNT  ...      NaN       0.00        0.00   \n683731  THAT IT NTRN CRP  REM COUNT  ...      NaN      19.57        0.00   \n683732           KDK CRP  REM COUNT  ...      NaN  221888.66     1376.95   \n\n       Yago Dol Np  Yago Lbs Yago Lbs Ap Yago Lbs Np Yago Units Yago Units Ap  \\\n0             0.00      0.00        0.00        0.00        0.0          0.00   \n1             0.00      0.00        0.00        0.00        0.0          0.00   \n2             0.00      0.00        0.00        0.00        0.0          0.00   \n3             0.00      0.00        0.00        0.00        0.0          0.00   \n4             0.00      0.00        0.00        0.00        0.0          0.00   \n...            ...       ...         ...         ...        ...           ...   \n683728     5904.41   2053.69     1387.03      666.66     3651.0       2465.83   \n683729     6360.08   2296.13     1583.77      712.36     4082.0       2815.59   \n683730        0.00      0.00        0.00        0.00        0.0          0.00   \n683731       19.57      0.97        0.00        0.97       13.0          0.00   \n683732   220511.71  27657.57      195.15    27462.41    49169.0        346.93   \n\n       Yago Units Np  \n0               0.00  \n1               0.00  \n2               0.00  \n3               0.00  \n4               0.00  \n...              ...  \n683728       1185.17  \n683729       1266.41  \n683730          0.00  \n683731         13.00  \n683732      48822.07  \n\n[683733 rows x 99 columns]",
      "text/html": "<div>\n<style scoped>\n    .dataframe tbody tr th:only-of-type {\n        vertical-align: middle;\n    }\n\n    .dataframe tbody tr th {\n        vertical-align: top;\n    }\n\n    .dataframe thead th {\n        text-align: right;\n    }\n</style>\n<table border=\"1\" class=\"dataframe\">\n  <thead>\n    <tr style=\"text-align: right;\">\n      <th></th>\n      <th>12 Months selected</th>\n      <th>brand &amp; size</th>\n      <th>Cntstr</th>\n      <th>Fisc Pd</th>\n      <th>Fisc Pd_int</th>\n      <th>Fisc Yr</th>\n      <th>Kel Brand</th>\n      <th>Kel Category</th>\n      <th>Kel Corporate</th>\n      <th>Kel Count</th>\n      <th>...</th>\n      <th>UnitsNpx</th>\n      <th>Yago Dol</th>\n      <th>Yago Dol Ap</th>\n      <th>Yago Dol Np</th>\n      <th>Yago Lbs</th>\n      <th>Yago Lbs Ap</th>\n      <th>Yago Lbs Np</th>\n      <th>Yago Units</th>\n      <th>Yago Units Ap</th>\n      <th>Yago Units Np</th>\n    </tr>\n  </thead>\n  <tbody>\n    <tr>\n      <th>0</th>\n      <td>False</td>\n      <td>PRLY LZBTH NOT APPLICABLE</td>\n      <td>1.0</td>\n      <td>11</td>\n      <td>11</td>\n      <td>2020</td>\n      <td>PRLY LZBTH</td>\n      <td>PWS</td>\n      <td>APT HLTH LV CRP</td>\n      <td>01 CT</td>\n      <td>...</td>\n      <td>NaN</td>\n      <td>0.00</td>\n      <td>0.00</td>\n      <td>0.00</td>\n      <td>0.00</td>\n      <td>0.00</td>\n      <td>0.00</td>\n      <td>0.0</td>\n      <td>0.00</td>\n      <td>0.00</td>\n    </tr>\n    <tr>\n      <th>1</th>\n      <td>False</td>\n      <td>BEST MAID COOKIE COMPANY NOT APPLICABLE</td>\n      <td>1.0</td>\n      <td>11</td>\n      <td>11</td>\n      <td>2020</td>\n      <td>BEST MAID COOKIE COMPANY</td>\n      <td>PWS</td>\n      <td>ARBR INV CRP</td>\n      <td>01 CT</td>\n      <td>...</td>\n      <td>NaN</td>\n      <td>0.00</td>\n      <td>0.00</td>\n      <td>0.00</td>\n      <td>0.00</td>\n      <td>0.00</td>\n      <td>0.00</td>\n      <td>0.0</td>\n      <td>0.00</td>\n      <td>0.00</td>\n    </tr>\n    <tr>\n      <th>2</th>\n      <td>False</td>\n      <td>AWAKE NOT APPLICABLE</td>\n      <td>1.0</td>\n      <td>11</td>\n      <td>11</td>\n      <td>2020</td>\n      <td>AWAKE</td>\n      <td>PWS</td>\n      <td>AWKE CRP</td>\n      <td>01 CT</td>\n      <td>...</td>\n      <td>NaN</td>\n      <td>0.00</td>\n      <td>0.00</td>\n      <td>0.00</td>\n      <td>0.00</td>\n      <td>0.00</td>\n      <td>0.00</td>\n      <td>0.0</td>\n      <td>0.00</td>\n      <td>0.00</td>\n    </tr>\n    <tr>\n      <th>3</th>\n      <td>False</td>\n      <td>BULLETPROOF NOT APPLICABLE</td>\n      <td>1.0</td>\n      <td>11</td>\n      <td>11</td>\n      <td>2020</td>\n      <td>BULLETPROOF</td>\n      <td>PWS</td>\n      <td>BLTPRF CRP</td>\n      <td>01 CT</td>\n      <td>...</td>\n      <td>NaN</td>\n      <td>0.00</td>\n      <td>0.00</td>\n      <td>0.00</td>\n      <td>0.00</td>\n      <td>0.00</td>\n      <td>0.00</td>\n      <td>0.0</td>\n      <td>0.00</td>\n      <td>0.00</td>\n    </tr>\n    <tr>\n      <th>4</th>\n      <td>False</td>\n      <td>VEGA NOT APPLICABLE</td>\n      <td>1.0</td>\n      <td>11</td>\n      <td>11</td>\n      <td>2020</td>\n      <td>VEGA</td>\n      <td>PWS</td>\n      <td>DANONE CRP</td>\n      <td>01 CT</td>\n      <td>...</td>\n      <td>NaN</td>\n      <td>0.00</td>\n      <td>0.00</td>\n      <td>0.00</td>\n      <td>0.00</td>\n      <td>0.00</td>\n      <td>0.00</td>\n      <td>0.0</td>\n      <td>0.00</td>\n      <td>0.00</td>\n    </tr>\n    <tr>\n      <th>...</th>\n      <td>...</td>\n      <td>...</td>\n      <td>...</td>\n      <td>...</td>\n      <td>...</td>\n      <td>...</td>\n      <td>...</td>\n      <td>...</td>\n      <td>...</td>\n      <td>...</td>\n      <td>...</td>\n      <td>...</td>\n      <td>...</td>\n      <td>...</td>\n      <td>...</td>\n      <td>...</td>\n      <td>...</td>\n      <td>...</td>\n      <td>...</td>\n      <td>...</td>\n      <td>...</td>\n    </tr>\n    <tr>\n      <th>683728</th>\n      <td>False</td>\n      <td>KDK CAKES NOT APPLICABLE</td>\n      <td>NaN</td>\n      <td>9</td>\n      <td>9</td>\n      <td>2022</td>\n      <td>KDK CAKES</td>\n      <td>PWS</td>\n      <td>KDK CRP</td>\n      <td>REM COUNT</td>\n      <td>...</td>\n      <td>NaN</td>\n      <td>15930.07</td>\n      <td>10025.66</td>\n      <td>5904.41</td>\n      <td>2053.69</td>\n      <td>1387.03</td>\n      <td>666.66</td>\n      <td>3651.0</td>\n      <td>2465.83</td>\n      <td>1185.17</td>\n    </tr>\n    <tr>\n      <th>683729</th>\n      <td>False</td>\n      <td>KDK CAKES NOT APPLICABLE</td>\n      <td>NaN</td>\n      <td>9</td>\n      <td>9</td>\n      <td>2022</td>\n      <td>KDK CAKES</td>\n      <td>PWS</td>\n      <td>KDK CRP</td>\n      <td>REM COUNT</td>\n      <td>...</td>\n      <td>NaN</td>\n      <td>17674.61</td>\n      <td>11314.53</td>\n      <td>6360.08</td>\n      <td>2296.13</td>\n      <td>1583.77</td>\n      <td>712.36</td>\n      <td>4082.0</td>\n      <td>2815.59</td>\n      <td>1266.41</td>\n    </tr>\n    <tr>\n      <th>683730</th>\n      <td>False</td>\n      <td>REM BR NOT APPLICABLE</td>\n      <td>NaN</td>\n      <td>9</td>\n      <td>9</td>\n      <td>2022</td>\n      <td>REM BR</td>\n      <td>PWS</td>\n      <td>REM CRP</td>\n      <td>REM COUNT</td>\n      <td>...</td>\n      <td>NaN</td>\n      <td>0.00</td>\n      <td>0.00</td>\n      <td>0.00</td>\n      <td>0.00</td>\n      <td>0.00</td>\n      <td>0.00</td>\n      <td>0.0</td>\n      <td>0.00</td>\n      <td>0.00</td>\n    </tr>\n    <tr>\n      <th>683731</th>\n      <td>False</td>\n      <td>THAT'S IT NOT APPLICABLE</td>\n      <td>NaN</td>\n      <td>9</td>\n      <td>9</td>\n      <td>2022</td>\n      <td>THAT'S IT</td>\n      <td>PWS</td>\n      <td>THAT IT NTRN CRP</td>\n      <td>REM COUNT</td>\n      <td>...</td>\n      <td>NaN</td>\n      <td>19.57</td>\n      <td>0.00</td>\n      <td>19.57</td>\n      <td>0.97</td>\n      <td>0.00</td>\n      <td>0.97</td>\n      <td>13.0</td>\n      <td>0.00</td>\n      <td>13.00</td>\n    </tr>\n    <tr>\n      <th>683732</th>\n      <td>False</td>\n      <td>KDK CAKES NOT APPLICABLE</td>\n      <td>NaN</td>\n      <td>9</td>\n      <td>9</td>\n      <td>2022</td>\n      <td>KDK CAKES</td>\n      <td>PWS</td>\n      <td>KDK CRP</td>\n      <td>REM COUNT</td>\n      <td>...</td>\n      <td>NaN</td>\n      <td>221888.66</td>\n      <td>1376.95</td>\n      <td>220511.71</td>\n      <td>27657.57</td>\n      <td>195.15</td>\n      <td>27462.41</td>\n      <td>49169.0</td>\n      <td>346.93</td>\n      <td>48822.07</td>\n    </tr>\n  </tbody>\n</table>\n<p>683733 rows × 99 columns</p>\n</div>"
     },
     "execution_count": 8,
     "metadata": {},
     "output_type": "execute_result"
    }
   ],
   "source": [
    "EDT"
   ],
   "metadata": {
    "collapsed": false,
    "ExecuteTime": {
     "end_time": "2024-03-06T20:50:28.127958900Z",
     "start_time": "2024-03-06T20:50:27.927089500Z"
    }
   },
   "execution_count": 8
  },
  {
   "cell_type": "code",
   "outputs": [
    {
     "data": {
      "text/plain": "Kel Ppg\nALL OTHER                              226374\nGM FIBER ONE DESSERT BRS 5-6CT           6774\nATKINS ENDULGE BAR 5CT                   4740\nGM NAT VLLY WS 12CT                      4715\nKIND GRANOLA 5CT                         4468\n                                        ...  \nGM FAMILY FAV BOX 20CT                      6\nSPECIAL K PROTEIN BARS CLUB PK              6\nNUTRI-GRAIN CEREAL BARS CLB PK 40CT         4\nCLIF KIDS BAR 36CT                          4\nQKR CHEWY CLB SZ 34CT                       4\nName: count, Length: 542, dtype: int64"
     },
     "execution_count": 13,
     "metadata": {},
     "output_type": "execute_result"
    }
   ],
   "source": [
    "EDT['Kel Ppg'].value_counts()"
   ],
   "metadata": {
    "collapsed": false,
    "ExecuteTime": {
     "end_time": "2024-03-06T21:02:08.415295100Z",
     "start_time": "2024-03-06T21:02:08.354086800Z"
    }
   },
   "execution_count": 13
  },
  {
   "cell_type": "code",
   "outputs": [],
   "source": [
    "['QKR', 'KIND', 'CLIF', ]"
   ],
   "metadata": {
    "collapsed": false
   }
  },
  {
   "cell_type": "code",
   "outputs": [],
   "source": [
    "qkr = EDT[EDT['Kel Ppg'].astype(str).str.contains('QKR')]\n",
    "kind = EDT[EDT['Kel Ppg'].astype(str).str.contains('KIND')]\n",
    "clif = EDT[EDT['Kel Ppg'].astype(str).str.contains('CLIF')]"
   ],
   "metadata": {
    "collapsed": false,
    "ExecuteTime": {
     "end_time": "2024-03-06T21:06:49.999400500Z",
     "start_time": "2024-03-06T21:06:49.212489200Z"
    }
   },
   "execution_count": 14
  },
  {
   "cell_type": "code",
   "outputs": [
    {
     "data": {
      "text/plain": "Kel Ppg\nQKR CHEWY 8CT                  2664\nQKR CHEWY DIPPS 6CT            2552\nQKR CHEWY 18CT                 2327\nQKR CHEWY 5CT                  2211\nQKR CHEWY DIPPS 14CT           1885\nQKR CHEWY YGRT 5CT             1686\nQKR FRTY FUN 6CT               1609\nQKR CEREAL TREAT BAR 8CT       1499\nQKR BRK SQR 5CT                1343\nQKR BRKF BAR 5CT               1168\nQKR CHEWY MINI DIPPS 12CT      1037\nQKR CHEWY 30CT                 1015\nQKR CHEWY 1CT                   933\nQKR KIDS WG BAR 5CT             864\nQKR KIDS WG BITES 5CT           818\nQKR CHEWY DIPPS 12CT            739\nQKR CHEWY MINI 28CT             655\nQKR CHEWY CLB SZ 48CT           417\nQKR CHEWY YGRT 1CT              372\nQKR CHEWY FRITO LAY VP 20CT     354\nQKR CHEWY YGRT 10CT             292\nQKR CHEWY DIPPS 34CT            249\nQKR CHEWY 12CT                  236\nQKR CHEWY YGRT 14CT             232\nQKR CHEWY 24CT                  224\nQKR CHEWY YGRT 21CT             199\nQKR CHEWY CLB SZ 60CT           184\nQKR CHEWY DIPPS 10CT            182\nQKR CHEWY DIPPS 24CT            157\nQKR CHEWY DIPPS 20CT            151\nQKR CHEWY MINI DIPPS 24CT       120\nQKR CHEWY BIG 14CT              107\nQKR CHEWY 36CT                  105\nQKR CEREAL TREAT BAR 1CT         98\nQKR CEREAL TREAT BAR 16CT        85\nQKR CHEWY DIPPS 30CT             80\nQKR FRTY FUN 10CT                73\nQKR CHEWY CLB SZ 50CT            72\nQKR CHEWY YGRT 30CT              66\nQKR CEREAL TREAT BAR 30CT        32\nQKR CHEWY CLB SZ 34CT             4\nName: count, dtype: int64"
     },
     "execution_count": 16,
     "metadata": {},
     "output_type": "execute_result"
    }
   ],
   "source": [
    "qkr['Kel Ppg'].value_counts()"
   ],
   "metadata": {
    "collapsed": false,
    "ExecuteTime": {
     "end_time": "2024-03-06T21:07:10.603613200Z",
     "start_time": "2024-03-06T21:07:10.567681500Z"
    }
   },
   "execution_count": 16
  },
  {
   "cell_type": "code",
   "outputs": [
    {
     "data": {
      "text/plain": "        12 Months selected             brand & size  Cntstr  Fisc Pd  \\\n620                   False  QKR CWY NOT APPLICABLE     8.0       11   \n1409                  False  QKR CWY NOT APPLICABLE     8.0       12   \n1586                   True  QKR CWY NOT APPLICABLE     8.0        1   \n2313                  False  QKR CWY NOT APPLICABLE     8.0        1   \n3020                  False  QKR CWY NOT APPLICABLE     8.0       10   \n...                     ...                     ...     ...      ...   \n676926                False  QKR CWY NOT APPLICABLE     8.0        5   \n677111                False  QKR CWY NOT APPLICABLE     8.0        5   \n677364                False  QKR CWY NOT APPLICABLE     8.0        5   \n677681                False  QKR CWY NOT APPLICABLE     8.0        5   \n678269                False  QKR CWY NOT APPLICABLE     8.0        9   \n\n        Fisc Pd_int  Fisc Yr Kel Brand Kel Category Kel Corporate Kel Count  \\\n620              11     2022   QKR CWY          PWS     PEPSI CRP     08 CT   \n1409             12     2022   QKR CWY          PWS     PEPSI CRP     08 CT   \n1586              1     2022   QKR CWY          PWS     PEPSI CRP     08 CT   \n2313              1     2023   QKR CWY          PWS     PEPSI CRP     08 CT   \n3020             10     2023   QKR CWY          PWS     PEPSI CRP     08 CT   \n...             ...      ...       ...          ...           ...       ...   \n676926            5     2023   QKR CWY          PWS     PEPSI CRP     08 CT   \n677111            5     2023   QKR CWY          PWS     PEPSI CRP     08 CT   \n677364            5     2023   QKR CWY          PWS     PEPSI CRP     08 CT   \n677681            5     2023   QKR CWY          PWS     PEPSI CRP     08 CT   \n678269            9     2022   QKR CWY          PWS     PEPSI CRP     08 CT   \n\n        ... UnitsNpx    Yago Dol Yago Dol Ap Yago Dol Np    Yago Lbs  \\\n620     ...      NaN   218994.77    23747.52   195247.25    23991.47   \n1409    ...      NaN   262042.60    17641.26   244401.34    27608.04   \n1586    ...      NaN   164211.31    39673.43   124537.88    19742.31   \n2313    ...      NaN    10465.24     2669.24     7796.00     1115.34   \n3020    ...      NaN    14959.50     1233.44    13726.06     1508.69   \n...     ...      ...         ...         ...         ...         ...   \n676926  ...      NaN    19274.17     3756.65    15517.52     2479.98   \n677111  ...      NaN   163677.10     9406.84   154270.26    19385.36   \n677364  ...      NaN   168194.28    67481.16   100713.12    21194.30   \n677681  ...      NaN   761456.40   434722.85   326733.55   132899.95   \n678269  ...      NaN  7866952.63  4115786.95  3751165.68  1386638.77   \n\n       Yago Lbs Ap Yago Lbs Np  Yago Units Yago Units Ap Yago Units Np  \n620        4080.62    19910.85    57252.66       9743.93      47508.72  \n1409       2267.70    25340.34    65882.94       5413.82      60469.12  \n1586       6046.43    13695.88    47106.63      14430.62      32676.01  \n2313        314.20      801.14     2661.31        749.77       1911.55  \n3020        137.34     1371.36     3597.10        327.42       3269.69  \n...            ...         ...         ...           ...           ...  \n676926      515.65     1964.33     5920.00       1231.23       4688.77  \n677111     1166.27    18219.08    46284.00       2784.56      43499.44  \n677364     9246.53    11947.76    50601.00      22074.36      28526.64  \n677681    76938.56    55961.39   317373.00     183733.87     133639.13  \n678269   844384.08   542254.69  3309947.55    2015627.26    1294320.29  \n\n[2664 rows x 99 columns]",
      "text/html": "<div>\n<style scoped>\n    .dataframe tbody tr th:only-of-type {\n        vertical-align: middle;\n    }\n\n    .dataframe tbody tr th {\n        vertical-align: top;\n    }\n\n    .dataframe thead th {\n        text-align: right;\n    }\n</style>\n<table border=\"1\" class=\"dataframe\">\n  <thead>\n    <tr style=\"text-align: right;\">\n      <th></th>\n      <th>12 Months selected</th>\n      <th>brand &amp; size</th>\n      <th>Cntstr</th>\n      <th>Fisc Pd</th>\n      <th>Fisc Pd_int</th>\n      <th>Fisc Yr</th>\n      <th>Kel Brand</th>\n      <th>Kel Category</th>\n      <th>Kel Corporate</th>\n      <th>Kel Count</th>\n      <th>...</th>\n      <th>UnitsNpx</th>\n      <th>Yago Dol</th>\n      <th>Yago Dol Ap</th>\n      <th>Yago Dol Np</th>\n      <th>Yago Lbs</th>\n      <th>Yago Lbs Ap</th>\n      <th>Yago Lbs Np</th>\n      <th>Yago Units</th>\n      <th>Yago Units Ap</th>\n      <th>Yago Units Np</th>\n    </tr>\n  </thead>\n  <tbody>\n    <tr>\n      <th>620</th>\n      <td>False</td>\n      <td>QKR CWY NOT APPLICABLE</td>\n      <td>8.0</td>\n      <td>11</td>\n      <td>11</td>\n      <td>2022</td>\n      <td>QKR CWY</td>\n      <td>PWS</td>\n      <td>PEPSI CRP</td>\n      <td>08 CT</td>\n      <td>...</td>\n      <td>NaN</td>\n      <td>218994.77</td>\n      <td>23747.52</td>\n      <td>195247.25</td>\n      <td>23991.47</td>\n      <td>4080.62</td>\n      <td>19910.85</td>\n      <td>57252.66</td>\n      <td>9743.93</td>\n      <td>47508.72</td>\n    </tr>\n    <tr>\n      <th>1409</th>\n      <td>False</td>\n      <td>QKR CWY NOT APPLICABLE</td>\n      <td>8.0</td>\n      <td>12</td>\n      <td>12</td>\n      <td>2022</td>\n      <td>QKR CWY</td>\n      <td>PWS</td>\n      <td>PEPSI CRP</td>\n      <td>08 CT</td>\n      <td>...</td>\n      <td>NaN</td>\n      <td>262042.60</td>\n      <td>17641.26</td>\n      <td>244401.34</td>\n      <td>27608.04</td>\n      <td>2267.70</td>\n      <td>25340.34</td>\n      <td>65882.94</td>\n      <td>5413.82</td>\n      <td>60469.12</td>\n    </tr>\n    <tr>\n      <th>1586</th>\n      <td>True</td>\n      <td>QKR CWY NOT APPLICABLE</td>\n      <td>8.0</td>\n      <td>1</td>\n      <td>1</td>\n      <td>2022</td>\n      <td>QKR CWY</td>\n      <td>PWS</td>\n      <td>PEPSI CRP</td>\n      <td>08 CT</td>\n      <td>...</td>\n      <td>NaN</td>\n      <td>164211.31</td>\n      <td>39673.43</td>\n      <td>124537.88</td>\n      <td>19742.31</td>\n      <td>6046.43</td>\n      <td>13695.88</td>\n      <td>47106.63</td>\n      <td>14430.62</td>\n      <td>32676.01</td>\n    </tr>\n    <tr>\n      <th>2313</th>\n      <td>False</td>\n      <td>QKR CWY NOT APPLICABLE</td>\n      <td>8.0</td>\n      <td>1</td>\n      <td>1</td>\n      <td>2023</td>\n      <td>QKR CWY</td>\n      <td>PWS</td>\n      <td>PEPSI CRP</td>\n      <td>08 CT</td>\n      <td>...</td>\n      <td>NaN</td>\n      <td>10465.24</td>\n      <td>2669.24</td>\n      <td>7796.00</td>\n      <td>1115.34</td>\n      <td>314.20</td>\n      <td>801.14</td>\n      <td>2661.31</td>\n      <td>749.77</td>\n      <td>1911.55</td>\n    </tr>\n    <tr>\n      <th>3020</th>\n      <td>False</td>\n      <td>QKR CWY NOT APPLICABLE</td>\n      <td>8.0</td>\n      <td>10</td>\n      <td>10</td>\n      <td>2023</td>\n      <td>QKR CWY</td>\n      <td>PWS</td>\n      <td>PEPSI CRP</td>\n      <td>08 CT</td>\n      <td>...</td>\n      <td>NaN</td>\n      <td>14959.50</td>\n      <td>1233.44</td>\n      <td>13726.06</td>\n      <td>1508.69</td>\n      <td>137.34</td>\n      <td>1371.36</td>\n      <td>3597.10</td>\n      <td>327.42</td>\n      <td>3269.69</td>\n    </tr>\n    <tr>\n      <th>...</th>\n      <td>...</td>\n      <td>...</td>\n      <td>...</td>\n      <td>...</td>\n      <td>...</td>\n      <td>...</td>\n      <td>...</td>\n      <td>...</td>\n      <td>...</td>\n      <td>...</td>\n      <td>...</td>\n      <td>...</td>\n      <td>...</td>\n      <td>...</td>\n      <td>...</td>\n      <td>...</td>\n      <td>...</td>\n      <td>...</td>\n      <td>...</td>\n      <td>...</td>\n      <td>...</td>\n    </tr>\n    <tr>\n      <th>676926</th>\n      <td>False</td>\n      <td>QKR CWY NOT APPLICABLE</td>\n      <td>8.0</td>\n      <td>5</td>\n      <td>5</td>\n      <td>2023</td>\n      <td>QKR CWY</td>\n      <td>PWS</td>\n      <td>PEPSI CRP</td>\n      <td>08 CT</td>\n      <td>...</td>\n      <td>NaN</td>\n      <td>19274.17</td>\n      <td>3756.65</td>\n      <td>15517.52</td>\n      <td>2479.98</td>\n      <td>515.65</td>\n      <td>1964.33</td>\n      <td>5920.00</td>\n      <td>1231.23</td>\n      <td>4688.77</td>\n    </tr>\n    <tr>\n      <th>677111</th>\n      <td>False</td>\n      <td>QKR CWY NOT APPLICABLE</td>\n      <td>8.0</td>\n      <td>5</td>\n      <td>5</td>\n      <td>2023</td>\n      <td>QKR CWY</td>\n      <td>PWS</td>\n      <td>PEPSI CRP</td>\n      <td>08 CT</td>\n      <td>...</td>\n      <td>NaN</td>\n      <td>163677.10</td>\n      <td>9406.84</td>\n      <td>154270.26</td>\n      <td>19385.36</td>\n      <td>1166.27</td>\n      <td>18219.08</td>\n      <td>46284.00</td>\n      <td>2784.56</td>\n      <td>43499.44</td>\n    </tr>\n    <tr>\n      <th>677364</th>\n      <td>False</td>\n      <td>QKR CWY NOT APPLICABLE</td>\n      <td>8.0</td>\n      <td>5</td>\n      <td>5</td>\n      <td>2023</td>\n      <td>QKR CWY</td>\n      <td>PWS</td>\n      <td>PEPSI CRP</td>\n      <td>08 CT</td>\n      <td>...</td>\n      <td>NaN</td>\n      <td>168194.28</td>\n      <td>67481.16</td>\n      <td>100713.12</td>\n      <td>21194.30</td>\n      <td>9246.53</td>\n      <td>11947.76</td>\n      <td>50601.00</td>\n      <td>22074.36</td>\n      <td>28526.64</td>\n    </tr>\n    <tr>\n      <th>677681</th>\n      <td>False</td>\n      <td>QKR CWY NOT APPLICABLE</td>\n      <td>8.0</td>\n      <td>5</td>\n      <td>5</td>\n      <td>2023</td>\n      <td>QKR CWY</td>\n      <td>PWS</td>\n      <td>PEPSI CRP</td>\n      <td>08 CT</td>\n      <td>...</td>\n      <td>NaN</td>\n      <td>761456.40</td>\n      <td>434722.85</td>\n      <td>326733.55</td>\n      <td>132899.95</td>\n      <td>76938.56</td>\n      <td>55961.39</td>\n      <td>317373.00</td>\n      <td>183733.87</td>\n      <td>133639.13</td>\n    </tr>\n    <tr>\n      <th>678269</th>\n      <td>False</td>\n      <td>QKR CWY NOT APPLICABLE</td>\n      <td>8.0</td>\n      <td>9</td>\n      <td>9</td>\n      <td>2022</td>\n      <td>QKR CWY</td>\n      <td>PWS</td>\n      <td>PEPSI CRP</td>\n      <td>08 CT</td>\n      <td>...</td>\n      <td>NaN</td>\n      <td>7866952.63</td>\n      <td>4115786.95</td>\n      <td>3751165.68</td>\n      <td>1386638.77</td>\n      <td>844384.08</td>\n      <td>542254.69</td>\n      <td>3309947.55</td>\n      <td>2015627.26</td>\n      <td>1294320.29</td>\n    </tr>\n  </tbody>\n</table>\n<p>2664 rows × 99 columns</p>\n</div>"
     },
     "execution_count": 22,
     "metadata": {},
     "output_type": "execute_result"
    }
   ],
   "source": [
    "qkr_8ct = qkr[qkr['Kel Ppg'] == 'QKR CHEWY 8CT']\n",
    "qkr_8ct"
   ],
   "metadata": {
    "collapsed": false,
    "ExecuteTime": {
     "end_time": "2024-03-06T21:11:37.229664400Z",
     "start_time": "2024-03-06T21:11:37.180193900Z"
    }
   },
   "execution_count": 22
  },
  {
   "cell_type": "code",
   "outputs": [
    {
     "data": {
      "text/plain": "Kel Ppg\nKIND GRANOLA 5CT          4468\nKIND BAR 1CT              3077\nKIND BREAKFAST 4CT        2614\nKIND BAR 6CT              2433\nKIND MINIS 10CT           2421\nKIND PRTN BAR 1CT         2358\nKIND BAR 12CT             2225\nKIND THINS 10CT           2061\nKIND NT BUTR BAR 4CT      1780\nKIND KIDS 6CT             1682\nKIND PRSD FRT BAR 1CT     1516\nKIND GRANOLA 12CT         1377\nKIND BAR 15CT             1314\nKIND PRTN BAR 5CT         1285\nKIND BREAKFAST 6CT        1155\nKIND CLUSTERS DIPPED      1062\nKIND MINIS 20CT           1001\nKIND GRANOLA 15CT          691\nKIND PRTN BAR 12CT         668\nKIND BAR 4CT               628\nKIND KIDS 10CT             589\nKIND KIDS 20CT             435\nKIND BREAKFAST 1CT         424\nKIND NT BUTR BAR 6CT       423\nKIND PRSD FRT BAR 12CT     342\nKIND PRTN BAR 4CT          323\nKIND THINS 20CT            280\nKIND NT BUTR BAR 1CT       256\nKIND SFT BKD SQRS 6CT      126\nKIND MINIS 32CT            126\nKIND BAR 18CT              124\nKIND PRTN BAR 14CT         109\nKIND KIDS 30CT              94\nKIND THINS 28CT             87\nKIND GRANOLA 24CT           78\nKIND NT BUTR BAR 24CT       64\nKIND PRSD FRT BAR 4CT       50\nKIND GRANOLA 50CT           46\nKIND BREAKFAST 12CT         32\nName: count, dtype: int64"
     },
     "execution_count": 18,
     "metadata": {},
     "output_type": "execute_result"
    }
   ],
   "source": [
    "kind['Kel Ppg'].value_counts()"
   ],
   "metadata": {
    "collapsed": false,
    "ExecuteTime": {
     "end_time": "2024-03-06T21:07:29.058133Z",
     "start_time": "2024-03-06T21:07:29.023561100Z"
    }
   },
   "execution_count": 18
  },
  {
   "cell_type": "code",
   "outputs": [
    {
     "data": {
      "text/plain": "Kel Ppg\nCLIF KIDS BAR 5-6CT             4368\nCLIF BASE BAR 6CT               3113\nCLIF BASE BAR 1CT               2627\nCLIF LUNA ALL VARITS BAR 1CT    2553\nCLIF BUILDERS BAR 1CT           2546\nCLIF NUT BUTTER 1CT             2456\nCLIF BUILDERS BAR 6CT           2210\nCLIF BASE BAR 12CT              2188\nCLIF LUNA ALL VARITS BAR 6CT    2181\nCLIF KIDS BAR 10-12CT           2131\nCLIF NUT BUTTER 5CT             1651\nCLIF BASE BAR MINI 20CT         1550\nCLIF WHY PRTN BAR 1CT           1377\nCLIF KIDS BAR 1CT               1279\nCLIF BUILDERS BAR 12CT          1269\nCLIF LUNA MINI BAR 10CT         1160\nCLIF LUNA BASE BAR 15CT         1087\nCLIF BASE BAR MINI 10CT         1038\nCLIF THINS 14CT                 1032\nCLIF DUOS 1CT                    901\nCLIF KIDS FRUIT SNACKS 6CT       864\nCLIF NUT BUTTER 12CT             785\nCLIF LUNA PROTEIN BAR 12CT       742\nCLIF WHOLE LOTTA 1CT             736\nCLIF BASE BAR 18CT               719\nCLIF DUOS 7CT                    698\nCLIF KIDS BAR 15-18CT            683\nCLIF BUILDERS BAR 10CT           651\nCLIF KIDS FRUIT SNACKS 1CT       439\nCLIF WHY PRTN BAR 8CT            404\nCLIF DUOS 14CT                   362\nCLIF WHY PRTN BAR 5CT            335\nCLIF KIDS BAR CLB PK             226\nCLIF BASE BAR 24CT               193\nCLIF KIDS BAR 24CT               182\nCLIF BUILDERS BAR 18CT           141\nCLIF DUOS 12CT                   130\nCLIF WHOLE LOTTA 12CT             99\nCLIF KIDS FRUIT SNACKS 18CT       93\nCLIF MOJO BAR 1CT                 92\nCLIF KIDS BAR 20CT                87\nCLIF THINS 24CT                   84\nCLIF NUT BUTTER 4CT               63\nCLIF LUNA KETO BAR 4CT            60\nCLIF LUNA MINI BAR 20CT           60\nCLIF DUOS 26CT                    40\nCLIF BASE BAR 3CT                 18\nCLIF KIDS BAR 36CT                 4\nName: count, dtype: int64"
     },
     "execution_count": 20,
     "metadata": {},
     "output_type": "execute_result"
    }
   ],
   "source": [
    "clif['Kel Ppg'].value_counts()"
   ],
   "metadata": {
    "collapsed": false,
    "ExecuteTime": {
     "end_time": "2024-03-06T21:10:32.377485800Z",
     "start_time": "2024-03-06T21:10:32.346169200Z"
    }
   },
   "execution_count": 20
  },
  {
   "cell_type": "code",
   "outputs": [],
   "source": [],
   "metadata": {
    "collapsed": false
   }
  }
 ],
 "metadata": {
  "kernelspec": {
   "display_name": "Python 3",
   "language": "python",
   "name": "python3"
  },
  "language_info": {
   "codemirror_mode": {
    "name": "ipython",
    "version": 3
   },
   "file_extension": ".py",
   "mimetype": "text/x-python",
   "name": "python",
   "nbconvert_exporter": "python",
   "pygments_lexer": "ipython3",
   "version": "3.6.4"
  }
 },
 "nbformat": 4,
 "nbformat_minor": 2
}
