{
 "cells": [
  {
   "cell_type": "code",
   "execution_count": 56,
   "id": "initial_id",
   "metadata": {
    "collapsed": true,
    "ExecuteTime": {
     "end_time": "2024-03-11T02:36:50.515627400Z",
     "start_time": "2024-03-11T02:36:50.490919300Z"
    }
   },
   "outputs": [],
   "source": [
    "import pandas as pd\n",
    "import numpy as np\n",
    "import matplotlib.pyplot as plt\n",
    "\n",
    "%matplotlib inline"
   ]
  },
  {
   "cell_type": "code",
   "outputs": [],
   "source": [
    "pln = pd.read_csv('PLN_TO_ITM_WK (KNA_COMRCL)_PLN_TO_ITM_WK.csv')"
   ],
   "metadata": {
    "collapsed": false,
    "ExecuteTime": {
     "end_time": "2024-03-11T02:37:05.820319900Z",
     "start_time": "2024-03-11T02:36:51.135308Z"
    }
   },
   "id": "939281a0c9411bee",
   "execution_count": 57
  },
  {
   "cell_type": "code",
   "outputs": [
    {
     "data": {
      "text/plain": "  All In Flg Alt Segment  BU  Cal Wk Can Catg              Catg Curr  Fisc Yr  \\\n0          F         PWS  K1  202301      NPF  TOASTER PASTRIES  USD     2023   \n1          F         PWS  K1  202302      NPF  TOASTER PASTRIES  USD     2023   \n2          F         PWS  K1  202303      NPF  TOASTER PASTRIES  USD     2023   \n3          F         PWS  K1  202304      NPF  TOASTER PASTRIES  USD     2023   \n4          F         PWS  K1  202305      NPF  TOASTER PASTRIES  USD     2023   \n\n                Lvl A                    Lvl B  ... Pln Nsv Prxy Usd  \\\n0  US RETAIL CHANNELS  DRUG/DISCOUNT/TELESALES  ...              0.0   \n1  US RETAIL CHANNELS  DRUG/DISCOUNT/TELESALES  ...              0.0   \n2  US RETAIL CHANNELS  DRUG/DISCOUNT/TELESALES  ...              0.0   \n3  US RETAIL CHANNELS  DRUG/DISCOUNT/TELESALES  ...              0.0   \n4  US RETAIL CHANNELS  DRUG/DISCOUNT/TELESALES  ...              0.0   \n\n  Pln Sc Prxy Usd Pln Ship Cs  Pln Ship Ea Pln Ship Kg  Pln Ship Lbs  \\\n0             0.0         0.0          0.0         0.0           0.0   \n1             0.0         0.0          0.0         0.0           0.0   \n2             0.0         0.0          0.0         0.0           0.0   \n3             0.0         0.0          0.0         0.0           0.0   \n4             0.0         0.0          0.0         0.0           0.0   \n\n  Pln Ship Usd Sugstd Base Vol Sas  Sugstd Shlf Prc Sas  \\\n0          0.0                 0.0                  0.0   \n1          0.0                 0.0                  0.0   \n2          0.0                 0.0                  0.0   \n3          0.0                 0.0                  0.0   \n4          0.0                 0.0                  0.0   \n\n  Totl Pln Kmf Cost Of Prod Usd  \n0                           0.0  \n1                           0.0  \n2                           0.0  \n3                           0.0  \n4                           0.0  \n\n[5 rows x 82 columns]",
      "text/html": "<div>\n<style scoped>\n    .dataframe tbody tr th:only-of-type {\n        vertical-align: middle;\n    }\n\n    .dataframe tbody tr th {\n        vertical-align: top;\n    }\n\n    .dataframe thead th {\n        text-align: right;\n    }\n</style>\n<table border=\"1\" class=\"dataframe\">\n  <thead>\n    <tr style=\"text-align: right;\">\n      <th></th>\n      <th>All In Flg</th>\n      <th>Alt Segment</th>\n      <th>BU</th>\n      <th>Cal Wk</th>\n      <th>Can Catg</th>\n      <th>Catg</th>\n      <th>Curr</th>\n      <th>Fisc Yr</th>\n      <th>Lvl A</th>\n      <th>Lvl B</th>\n      <th>...</th>\n      <th>Pln Nsv Prxy Usd</th>\n      <th>Pln Sc Prxy Usd</th>\n      <th>Pln Ship Cs</th>\n      <th>Pln Ship Ea</th>\n      <th>Pln Ship Kg</th>\n      <th>Pln Ship Lbs</th>\n      <th>Pln Ship Usd</th>\n      <th>Sugstd Base Vol Sas</th>\n      <th>Sugstd Shlf Prc Sas</th>\n      <th>Totl Pln Kmf Cost Of Prod Usd</th>\n    </tr>\n  </thead>\n  <tbody>\n    <tr>\n      <th>0</th>\n      <td>F</td>\n      <td>PWS</td>\n      <td>K1</td>\n      <td>202301</td>\n      <td>NPF</td>\n      <td>TOASTER PASTRIES</td>\n      <td>USD</td>\n      <td>2023</td>\n      <td>US RETAIL CHANNELS</td>\n      <td>DRUG/DISCOUNT/TELESALES</td>\n      <td>...</td>\n      <td>0.0</td>\n      <td>0.0</td>\n      <td>0.0</td>\n      <td>0.0</td>\n      <td>0.0</td>\n      <td>0.0</td>\n      <td>0.0</td>\n      <td>0.0</td>\n      <td>0.0</td>\n      <td>0.0</td>\n    </tr>\n    <tr>\n      <th>1</th>\n      <td>F</td>\n      <td>PWS</td>\n      <td>K1</td>\n      <td>202302</td>\n      <td>NPF</td>\n      <td>TOASTER PASTRIES</td>\n      <td>USD</td>\n      <td>2023</td>\n      <td>US RETAIL CHANNELS</td>\n      <td>DRUG/DISCOUNT/TELESALES</td>\n      <td>...</td>\n      <td>0.0</td>\n      <td>0.0</td>\n      <td>0.0</td>\n      <td>0.0</td>\n      <td>0.0</td>\n      <td>0.0</td>\n      <td>0.0</td>\n      <td>0.0</td>\n      <td>0.0</td>\n      <td>0.0</td>\n    </tr>\n    <tr>\n      <th>2</th>\n      <td>F</td>\n      <td>PWS</td>\n      <td>K1</td>\n      <td>202303</td>\n      <td>NPF</td>\n      <td>TOASTER PASTRIES</td>\n      <td>USD</td>\n      <td>2023</td>\n      <td>US RETAIL CHANNELS</td>\n      <td>DRUG/DISCOUNT/TELESALES</td>\n      <td>...</td>\n      <td>0.0</td>\n      <td>0.0</td>\n      <td>0.0</td>\n      <td>0.0</td>\n      <td>0.0</td>\n      <td>0.0</td>\n      <td>0.0</td>\n      <td>0.0</td>\n      <td>0.0</td>\n      <td>0.0</td>\n    </tr>\n    <tr>\n      <th>3</th>\n      <td>F</td>\n      <td>PWS</td>\n      <td>K1</td>\n      <td>202304</td>\n      <td>NPF</td>\n      <td>TOASTER PASTRIES</td>\n      <td>USD</td>\n      <td>2023</td>\n      <td>US RETAIL CHANNELS</td>\n      <td>DRUG/DISCOUNT/TELESALES</td>\n      <td>...</td>\n      <td>0.0</td>\n      <td>0.0</td>\n      <td>0.0</td>\n      <td>0.0</td>\n      <td>0.0</td>\n      <td>0.0</td>\n      <td>0.0</td>\n      <td>0.0</td>\n      <td>0.0</td>\n      <td>0.0</td>\n    </tr>\n    <tr>\n      <th>4</th>\n      <td>F</td>\n      <td>PWS</td>\n      <td>K1</td>\n      <td>202305</td>\n      <td>NPF</td>\n      <td>TOASTER PASTRIES</td>\n      <td>USD</td>\n      <td>2023</td>\n      <td>US RETAIL CHANNELS</td>\n      <td>DRUG/DISCOUNT/TELESALES</td>\n      <td>...</td>\n      <td>0.0</td>\n      <td>0.0</td>\n      <td>0.0</td>\n      <td>0.0</td>\n      <td>0.0</td>\n      <td>0.0</td>\n      <td>0.0</td>\n      <td>0.0</td>\n      <td>0.0</td>\n      <td>0.0</td>\n    </tr>\n  </tbody>\n</table>\n<p>5 rows × 82 columns</p>\n</div>"
     },
     "execution_count": 58,
     "metadata": {},
     "output_type": "execute_result"
    }
   ],
   "source": [
    "pln.head()"
   ],
   "metadata": {
    "collapsed": false,
    "ExecuteTime": {
     "end_time": "2024-03-11T02:37:05.865425Z",
     "start_time": "2024-03-11T02:37:05.825307300Z"
    }
   },
   "id": "18fe4b4b912de887",
   "execution_count": 58
  },
  {
   "cell_type": "code",
   "outputs": [],
   "source": [
    "prediction_df_phase1 = pln[['Fisc Yr', 'WK', 'Yr & Wk', 'Actl Cost Of Prod Usd', 'Actl Ship Cs', 'Actl Ship Kg', 'Actl Ship Lbs', 'Actl Ship Units', 'Actl Ship Usd', 'Pln Base Cs', 'Pln Base Lbs', 'Pln Base Rtn Usd', 'Pln Base Units', 'Pln Base Usd', 'Pln Cons Lbs', 'Pln Cons Rtn Usd', 'Pln Cons Units', 'Pln Cons Usd', 'Pln Inc Usd', 'Pln Incr Cs', 'Pln Incr Lbs', 'Pln Incr Rtn Usd', 'Pln Incr Ship Cs', 'Pln Incr Ship Kgs', 'Pln Incr Ship Lbs', 'Pln Incr Ship Units', 'Pln Incr Ship Usd', 'Pln Incr Units', 'Pln Kmf', 'Pln Ship Cs', 'Pln Ship Ea', 'Pln Ship Kg', 'Pln Ship Lbs', 'Pln Ship Usd', 'Totl Pln Kmf Cost Of Prod Usd']]"
   ],
   "metadata": {
    "collapsed": false,
    "ExecuteTime": {
     "end_time": "2024-03-11T02:37:06.155927400Z",
     "start_time": "2024-03-11T02:37:05.862400700Z"
    }
   },
   "id": "7e470fe021985ccf",
   "execution_count": 59
  },
  {
   "cell_type": "code",
   "outputs": [
    {
     "data": {
      "text/plain": "   Fisc Yr  WK Yr & Wk  Actl Cost Of Prod Usd  Actl Ship Cs  Actl Ship Kg  \\\n0     2023   1  2023&1                    0.0           0.0           0.0   \n1     2023   2  2023&2                    0.0           0.0           0.0   \n2     2023   3  2023&3                    0.0           0.0           0.0   \n3     2023   4  2023&4                    0.0           0.0           0.0   \n4     2023   5  2023&5                    0.0           0.0           0.0   \n\n   Actl Ship Lbs  Actl Ship Units  Actl Ship Usd  Pln Base Cs  ...  \\\n0            0.0              0.0            0.0          0.0  ...   \n1            0.0              0.0            0.0          0.0  ...   \n2            0.0              0.0            0.0          0.0  ...   \n3            0.0              0.0            0.0          0.0  ...   \n4            0.0              0.0            0.0          0.0  ...   \n\n   Pln Incr Ship Units  Pln Incr Ship Usd  Pln Incr Units  Pln Kmf  \\\n0                  0.0                0.0             0.0      0.0   \n1                  0.0                0.0             0.0      0.0   \n2                  0.0                0.0             0.0      0.0   \n3                  0.0                0.0             0.0      0.0   \n4                  0.0                0.0             0.0      0.0   \n\n   Pln Ship Cs  Pln Ship Ea  Pln Ship Kg  Pln Ship Lbs  Pln Ship Usd  \\\n0          0.0          0.0          0.0           0.0           0.0   \n1          0.0          0.0          0.0           0.0           0.0   \n2          0.0          0.0          0.0           0.0           0.0   \n3          0.0          0.0          0.0           0.0           0.0   \n4          0.0          0.0          0.0           0.0           0.0   \n\n   Totl Pln Kmf Cost Of Prod Usd  \n0                            0.0  \n1                            0.0  \n2                            0.0  \n3                            0.0  \n4                            0.0  \n\n[5 rows x 35 columns]",
      "text/html": "<div>\n<style scoped>\n    .dataframe tbody tr th:only-of-type {\n        vertical-align: middle;\n    }\n\n    .dataframe tbody tr th {\n        vertical-align: top;\n    }\n\n    .dataframe thead th {\n        text-align: right;\n    }\n</style>\n<table border=\"1\" class=\"dataframe\">\n  <thead>\n    <tr style=\"text-align: right;\">\n      <th></th>\n      <th>Fisc Yr</th>\n      <th>WK</th>\n      <th>Yr &amp; Wk</th>\n      <th>Actl Cost Of Prod Usd</th>\n      <th>Actl Ship Cs</th>\n      <th>Actl Ship Kg</th>\n      <th>Actl Ship Lbs</th>\n      <th>Actl Ship Units</th>\n      <th>Actl Ship Usd</th>\n      <th>Pln Base Cs</th>\n      <th>...</th>\n      <th>Pln Incr Ship Units</th>\n      <th>Pln Incr Ship Usd</th>\n      <th>Pln Incr Units</th>\n      <th>Pln Kmf</th>\n      <th>Pln Ship Cs</th>\n      <th>Pln Ship Ea</th>\n      <th>Pln Ship Kg</th>\n      <th>Pln Ship Lbs</th>\n      <th>Pln Ship Usd</th>\n      <th>Totl Pln Kmf Cost Of Prod Usd</th>\n    </tr>\n  </thead>\n  <tbody>\n    <tr>\n      <th>0</th>\n      <td>2023</td>\n      <td>1</td>\n      <td>2023&amp;1</td>\n      <td>0.0</td>\n      <td>0.0</td>\n      <td>0.0</td>\n      <td>0.0</td>\n      <td>0.0</td>\n      <td>0.0</td>\n      <td>0.0</td>\n      <td>...</td>\n      <td>0.0</td>\n      <td>0.0</td>\n      <td>0.0</td>\n      <td>0.0</td>\n      <td>0.0</td>\n      <td>0.0</td>\n      <td>0.0</td>\n      <td>0.0</td>\n      <td>0.0</td>\n      <td>0.0</td>\n    </tr>\n    <tr>\n      <th>1</th>\n      <td>2023</td>\n      <td>2</td>\n      <td>2023&amp;2</td>\n      <td>0.0</td>\n      <td>0.0</td>\n      <td>0.0</td>\n      <td>0.0</td>\n      <td>0.0</td>\n      <td>0.0</td>\n      <td>0.0</td>\n      <td>...</td>\n      <td>0.0</td>\n      <td>0.0</td>\n      <td>0.0</td>\n      <td>0.0</td>\n      <td>0.0</td>\n      <td>0.0</td>\n      <td>0.0</td>\n      <td>0.0</td>\n      <td>0.0</td>\n      <td>0.0</td>\n    </tr>\n    <tr>\n      <th>2</th>\n      <td>2023</td>\n      <td>3</td>\n      <td>2023&amp;3</td>\n      <td>0.0</td>\n      <td>0.0</td>\n      <td>0.0</td>\n      <td>0.0</td>\n      <td>0.0</td>\n      <td>0.0</td>\n      <td>0.0</td>\n      <td>...</td>\n      <td>0.0</td>\n      <td>0.0</td>\n      <td>0.0</td>\n      <td>0.0</td>\n      <td>0.0</td>\n      <td>0.0</td>\n      <td>0.0</td>\n      <td>0.0</td>\n      <td>0.0</td>\n      <td>0.0</td>\n    </tr>\n    <tr>\n      <th>3</th>\n      <td>2023</td>\n      <td>4</td>\n      <td>2023&amp;4</td>\n      <td>0.0</td>\n      <td>0.0</td>\n      <td>0.0</td>\n      <td>0.0</td>\n      <td>0.0</td>\n      <td>0.0</td>\n      <td>0.0</td>\n      <td>...</td>\n      <td>0.0</td>\n      <td>0.0</td>\n      <td>0.0</td>\n      <td>0.0</td>\n      <td>0.0</td>\n      <td>0.0</td>\n      <td>0.0</td>\n      <td>0.0</td>\n      <td>0.0</td>\n      <td>0.0</td>\n    </tr>\n    <tr>\n      <th>4</th>\n      <td>2023</td>\n      <td>5</td>\n      <td>2023&amp;5</td>\n      <td>0.0</td>\n      <td>0.0</td>\n      <td>0.0</td>\n      <td>0.0</td>\n      <td>0.0</td>\n      <td>0.0</td>\n      <td>0.0</td>\n      <td>...</td>\n      <td>0.0</td>\n      <td>0.0</td>\n      <td>0.0</td>\n      <td>0.0</td>\n      <td>0.0</td>\n      <td>0.0</td>\n      <td>0.0</td>\n      <td>0.0</td>\n      <td>0.0</td>\n      <td>0.0</td>\n    </tr>\n  </tbody>\n</table>\n<p>5 rows × 35 columns</p>\n</div>"
     },
     "execution_count": 60,
     "metadata": {},
     "output_type": "execute_result"
    }
   ],
   "source": [
    "prediction_df_phase1.head()"
   ],
   "metadata": {
    "collapsed": false,
    "ExecuteTime": {
     "end_time": "2024-03-11T02:37:06.172775400Z",
     "start_time": "2024-03-11T02:37:06.017025200Z"
    }
   },
   "id": "7b47948d29b18460",
   "execution_count": 60
  },
  {
   "cell_type": "code",
   "outputs": [],
   "source": [
    "yrwk = prediction_df_phase1['Yr & Wk'].unique()\n",
    "fiscyr = [int(string[:4]) for string in yrwk]\n",
    "wk = [int(string[5:]) for string in yrwk]"
   ],
   "metadata": {
    "collapsed": false,
    "ExecuteTime": {
     "end_time": "2024-03-11T02:37:06.249607Z",
     "start_time": "2024-03-11T02:37:06.057193500Z"
    }
   },
   "id": "2dfb8a008400709a",
   "execution_count": 61
  },
  {
   "cell_type": "code",
   "outputs": [],
   "source": [
    "prediction_df = pd.DataFrame()\n",
    "prediction_df['Yr & Wk'] = yrwk\n",
    "prediction_df['Fisc Yr'] = fiscyr\n",
    "prediction_df['WK'] = wk"
   ],
   "metadata": {
    "collapsed": false,
    "ExecuteTime": {
     "end_time": "2024-03-11T02:37:06.251584400Z",
     "start_time": "2024-03-11T02:37:06.174769100Z"
    }
   },
   "id": "ce86bc47aee222c7",
   "execution_count": 62
  },
  {
   "cell_type": "code",
   "outputs": [],
   "source": [
    "prediction_df = prediction_df.sort_values(by=['Fisc Yr', 'WK'], ascending = True)\n",
    "prediction_df.reset_index(drop = True, inplace = True)"
   ],
   "metadata": {
    "collapsed": false,
    "ExecuteTime": {
     "end_time": "2024-03-11T02:37:06.296492900Z",
     "start_time": "2024-03-11T02:37:06.191536700Z"
    }
   },
   "id": "4c477be5a5559126",
   "execution_count": 63
  },
  {
   "cell_type": "code",
   "outputs": [
    {
     "data": {
      "text/plain": "     Yr & Wk  Fisc Yr  WK\n0     2020&1     2020   1\n1     2020&2     2020   2\n2     2020&3     2020   3\n3     2020&4     2020   4\n4     2020&5     2020   5\n..       ...      ...  ..\n256  2024&48     2024  48\n257  2024&49     2024  49\n258  2024&50     2024  50\n259  2024&51     2024  51\n260  2024&52     2024  52\n\n[261 rows x 3 columns]",
      "text/html": "<div>\n<style scoped>\n    .dataframe tbody tr th:only-of-type {\n        vertical-align: middle;\n    }\n\n    .dataframe tbody tr th {\n        vertical-align: top;\n    }\n\n    .dataframe thead th {\n        text-align: right;\n    }\n</style>\n<table border=\"1\" class=\"dataframe\">\n  <thead>\n    <tr style=\"text-align: right;\">\n      <th></th>\n      <th>Yr &amp; Wk</th>\n      <th>Fisc Yr</th>\n      <th>WK</th>\n    </tr>\n  </thead>\n  <tbody>\n    <tr>\n      <th>0</th>\n      <td>2020&amp;1</td>\n      <td>2020</td>\n      <td>1</td>\n    </tr>\n    <tr>\n      <th>1</th>\n      <td>2020&amp;2</td>\n      <td>2020</td>\n      <td>2</td>\n    </tr>\n    <tr>\n      <th>2</th>\n      <td>2020&amp;3</td>\n      <td>2020</td>\n      <td>3</td>\n    </tr>\n    <tr>\n      <th>3</th>\n      <td>2020&amp;4</td>\n      <td>2020</td>\n      <td>4</td>\n    </tr>\n    <tr>\n      <th>4</th>\n      <td>2020&amp;5</td>\n      <td>2020</td>\n      <td>5</td>\n    </tr>\n    <tr>\n      <th>...</th>\n      <td>...</td>\n      <td>...</td>\n      <td>...</td>\n    </tr>\n    <tr>\n      <th>256</th>\n      <td>2024&amp;48</td>\n      <td>2024</td>\n      <td>48</td>\n    </tr>\n    <tr>\n      <th>257</th>\n      <td>2024&amp;49</td>\n      <td>2024</td>\n      <td>49</td>\n    </tr>\n    <tr>\n      <th>258</th>\n      <td>2024&amp;50</td>\n      <td>2024</td>\n      <td>50</td>\n    </tr>\n    <tr>\n      <th>259</th>\n      <td>2024&amp;51</td>\n      <td>2024</td>\n      <td>51</td>\n    </tr>\n    <tr>\n      <th>260</th>\n      <td>2024&amp;52</td>\n      <td>2024</td>\n      <td>52</td>\n    </tr>\n  </tbody>\n</table>\n<p>261 rows × 3 columns</p>\n</div>"
     },
     "execution_count": 64,
     "metadata": {},
     "output_type": "execute_result"
    }
   ],
   "source": [
    "prediction_df"
   ],
   "metadata": {
    "collapsed": false,
    "ExecuteTime": {
     "end_time": "2024-03-11T02:37:06.297490100Z",
     "start_time": "2024-03-11T02:37:06.199917500Z"
    }
   },
   "id": "86e5d06b6383eed8",
   "execution_count": 64
  },
  {
   "cell_type": "code",
   "outputs": [
    {
     "data": {
      "text/plain": "         Yr & Wk  Actl Cost Of Prod Usd  Actl Ship Cs  Actl Ship Kg  \\\n0         2023&1                   0.00           0.0          0.00   \n1         2023&2                   0.00           0.0          0.00   \n2         2023&3                   0.00           0.0          0.00   \n3         2023&4                   0.00           0.0          0.00   \n4         2023&5                   0.00           0.0          0.00   \n...          ...                    ...           ...           ...   \n1325643  2020&17                 287.12          40.0        191.96   \n1325644  2020&18                 287.12          40.0        191.96   \n1325645  2020&19                  21.53           3.0         14.40   \n1325646  2020&20                 143.56          20.0         95.98   \n1325647  2020&19                  25.65           3.0         14.40   \n\n         Actl Ship Lbs  Actl Ship Units  Actl Ship Usd  Pln Base Cs  \\\n0                 0.00              0.0           0.00          0.0   \n1                 0.00              0.0           0.00          0.0   \n2                 0.00              0.0           0.00          0.0   \n3                 0.00              0.0           0.00          0.0   \n4                 0.00              0.0           0.00          0.0   \n...                ...              ...            ...          ...   \n1325643         423.20            480.0        1252.80          0.0   \n1325644         423.20            480.0        1252.80          0.0   \n1325645          31.74             36.0          99.72          0.0   \n1325646         211.60            240.0         626.40          0.0   \n1325647          31.74             36.0          96.84          0.0   \n\n         Pln Base Lbs  Pln Base Rtn Usd  ...  Pln Incr Ship Units  \\\n0                 0.0               0.0  ...                  0.0   \n1                 0.0               0.0  ...                  0.0   \n2                 0.0               0.0  ...                  0.0   \n3                 0.0               0.0  ...                  0.0   \n4                 0.0               0.0  ...                  0.0   \n...               ...               ...  ...                  ...   \n1325643           0.0               0.0  ...                  0.0   \n1325644           0.0               0.0  ...                  0.0   \n1325645           0.0               0.0  ...                  0.0   \n1325646           0.0               0.0  ...                  0.0   \n1325647           0.0               0.0  ...                  0.0   \n\n         Pln Incr Ship Usd  Pln Incr Units  Pln Kmf  Pln Ship Cs  Pln Ship Ea  \\\n0                      0.0             0.0      0.0          0.0          0.0   \n1                      0.0             0.0      0.0          0.0          0.0   \n2                      0.0             0.0      0.0          0.0          0.0   \n3                      0.0             0.0      0.0          0.0          0.0   \n4                      0.0             0.0      0.0          0.0          0.0   \n...                    ...             ...      ...          ...          ...   \n1325643                0.0             0.0      0.0          0.0          0.0   \n1325644                0.0             0.0      0.0          0.0          0.0   \n1325645                0.0             0.0      0.0          0.0          0.0   \n1325646                0.0             0.0      0.0          0.0          0.0   \n1325647                0.0             0.0      0.0          0.0          0.0   \n\n         Pln Ship Kg  Pln Ship Lbs  Pln Ship Usd  \\\n0                0.0           0.0           0.0   \n1                0.0           0.0           0.0   \n2                0.0           0.0           0.0   \n3                0.0           0.0           0.0   \n4                0.0           0.0           0.0   \n...              ...           ...           ...   \n1325643          0.0           0.0           0.0   \n1325644          0.0           0.0           0.0   \n1325645          0.0           0.0           0.0   \n1325646          0.0           0.0           0.0   \n1325647          0.0           0.0           0.0   \n\n         Totl Pln Kmf Cost Of Prod Usd  \n0                                  0.0  \n1                                  0.0  \n2                                  0.0  \n3                                  0.0  \n4                                  0.0  \n...                                ...  \n1325643                            0.0  \n1325644                            0.0  \n1325645                            0.0  \n1325646                            0.0  \n1325647                            0.0  \n\n[1325648 rows x 33 columns]",
      "text/html": "<div>\n<style scoped>\n    .dataframe tbody tr th:only-of-type {\n        vertical-align: middle;\n    }\n\n    .dataframe tbody tr th {\n        vertical-align: top;\n    }\n\n    .dataframe thead th {\n        text-align: right;\n    }\n</style>\n<table border=\"1\" class=\"dataframe\">\n  <thead>\n    <tr style=\"text-align: right;\">\n      <th></th>\n      <th>Yr &amp; Wk</th>\n      <th>Actl Cost Of Prod Usd</th>\n      <th>Actl Ship Cs</th>\n      <th>Actl Ship Kg</th>\n      <th>Actl Ship Lbs</th>\n      <th>Actl Ship Units</th>\n      <th>Actl Ship Usd</th>\n      <th>Pln Base Cs</th>\n      <th>Pln Base Lbs</th>\n      <th>Pln Base Rtn Usd</th>\n      <th>...</th>\n      <th>Pln Incr Ship Units</th>\n      <th>Pln Incr Ship Usd</th>\n      <th>Pln Incr Units</th>\n      <th>Pln Kmf</th>\n      <th>Pln Ship Cs</th>\n      <th>Pln Ship Ea</th>\n      <th>Pln Ship Kg</th>\n      <th>Pln Ship Lbs</th>\n      <th>Pln Ship Usd</th>\n      <th>Totl Pln Kmf Cost Of Prod Usd</th>\n    </tr>\n  </thead>\n  <tbody>\n    <tr>\n      <th>0</th>\n      <td>2023&amp;1</td>\n      <td>0.00</td>\n      <td>0.0</td>\n      <td>0.00</td>\n      <td>0.00</td>\n      <td>0.0</td>\n      <td>0.00</td>\n      <td>0.0</td>\n      <td>0.0</td>\n      <td>0.0</td>\n      <td>...</td>\n      <td>0.0</td>\n      <td>0.0</td>\n      <td>0.0</td>\n      <td>0.0</td>\n      <td>0.0</td>\n      <td>0.0</td>\n      <td>0.0</td>\n      <td>0.0</td>\n      <td>0.0</td>\n      <td>0.0</td>\n    </tr>\n    <tr>\n      <th>1</th>\n      <td>2023&amp;2</td>\n      <td>0.00</td>\n      <td>0.0</td>\n      <td>0.00</td>\n      <td>0.00</td>\n      <td>0.0</td>\n      <td>0.00</td>\n      <td>0.0</td>\n      <td>0.0</td>\n      <td>0.0</td>\n      <td>...</td>\n      <td>0.0</td>\n      <td>0.0</td>\n      <td>0.0</td>\n      <td>0.0</td>\n      <td>0.0</td>\n      <td>0.0</td>\n      <td>0.0</td>\n      <td>0.0</td>\n      <td>0.0</td>\n      <td>0.0</td>\n    </tr>\n    <tr>\n      <th>2</th>\n      <td>2023&amp;3</td>\n      <td>0.00</td>\n      <td>0.0</td>\n      <td>0.00</td>\n      <td>0.00</td>\n      <td>0.0</td>\n      <td>0.00</td>\n      <td>0.0</td>\n      <td>0.0</td>\n      <td>0.0</td>\n      <td>...</td>\n      <td>0.0</td>\n      <td>0.0</td>\n      <td>0.0</td>\n      <td>0.0</td>\n      <td>0.0</td>\n      <td>0.0</td>\n      <td>0.0</td>\n      <td>0.0</td>\n      <td>0.0</td>\n      <td>0.0</td>\n    </tr>\n    <tr>\n      <th>3</th>\n      <td>2023&amp;4</td>\n      <td>0.00</td>\n      <td>0.0</td>\n      <td>0.00</td>\n      <td>0.00</td>\n      <td>0.0</td>\n      <td>0.00</td>\n      <td>0.0</td>\n      <td>0.0</td>\n      <td>0.0</td>\n      <td>...</td>\n      <td>0.0</td>\n      <td>0.0</td>\n      <td>0.0</td>\n      <td>0.0</td>\n      <td>0.0</td>\n      <td>0.0</td>\n      <td>0.0</td>\n      <td>0.0</td>\n      <td>0.0</td>\n      <td>0.0</td>\n    </tr>\n    <tr>\n      <th>4</th>\n      <td>2023&amp;5</td>\n      <td>0.00</td>\n      <td>0.0</td>\n      <td>0.00</td>\n      <td>0.00</td>\n      <td>0.0</td>\n      <td>0.00</td>\n      <td>0.0</td>\n      <td>0.0</td>\n      <td>0.0</td>\n      <td>...</td>\n      <td>0.0</td>\n      <td>0.0</td>\n      <td>0.0</td>\n      <td>0.0</td>\n      <td>0.0</td>\n      <td>0.0</td>\n      <td>0.0</td>\n      <td>0.0</td>\n      <td>0.0</td>\n      <td>0.0</td>\n    </tr>\n    <tr>\n      <th>...</th>\n      <td>...</td>\n      <td>...</td>\n      <td>...</td>\n      <td>...</td>\n      <td>...</td>\n      <td>...</td>\n      <td>...</td>\n      <td>...</td>\n      <td>...</td>\n      <td>...</td>\n      <td>...</td>\n      <td>...</td>\n      <td>...</td>\n      <td>...</td>\n      <td>...</td>\n      <td>...</td>\n      <td>...</td>\n      <td>...</td>\n      <td>...</td>\n      <td>...</td>\n      <td>...</td>\n    </tr>\n    <tr>\n      <th>1325643</th>\n      <td>2020&amp;17</td>\n      <td>287.12</td>\n      <td>40.0</td>\n      <td>191.96</td>\n      <td>423.20</td>\n      <td>480.0</td>\n      <td>1252.80</td>\n      <td>0.0</td>\n      <td>0.0</td>\n      <td>0.0</td>\n      <td>...</td>\n      <td>0.0</td>\n      <td>0.0</td>\n      <td>0.0</td>\n      <td>0.0</td>\n      <td>0.0</td>\n      <td>0.0</td>\n      <td>0.0</td>\n      <td>0.0</td>\n      <td>0.0</td>\n      <td>0.0</td>\n    </tr>\n    <tr>\n      <th>1325644</th>\n      <td>2020&amp;18</td>\n      <td>287.12</td>\n      <td>40.0</td>\n      <td>191.96</td>\n      <td>423.20</td>\n      <td>480.0</td>\n      <td>1252.80</td>\n      <td>0.0</td>\n      <td>0.0</td>\n      <td>0.0</td>\n      <td>...</td>\n      <td>0.0</td>\n      <td>0.0</td>\n      <td>0.0</td>\n      <td>0.0</td>\n      <td>0.0</td>\n      <td>0.0</td>\n      <td>0.0</td>\n      <td>0.0</td>\n      <td>0.0</td>\n      <td>0.0</td>\n    </tr>\n    <tr>\n      <th>1325645</th>\n      <td>2020&amp;19</td>\n      <td>21.53</td>\n      <td>3.0</td>\n      <td>14.40</td>\n      <td>31.74</td>\n      <td>36.0</td>\n      <td>99.72</td>\n      <td>0.0</td>\n      <td>0.0</td>\n      <td>0.0</td>\n      <td>...</td>\n      <td>0.0</td>\n      <td>0.0</td>\n      <td>0.0</td>\n      <td>0.0</td>\n      <td>0.0</td>\n      <td>0.0</td>\n      <td>0.0</td>\n      <td>0.0</td>\n      <td>0.0</td>\n      <td>0.0</td>\n    </tr>\n    <tr>\n      <th>1325646</th>\n      <td>2020&amp;20</td>\n      <td>143.56</td>\n      <td>20.0</td>\n      <td>95.98</td>\n      <td>211.60</td>\n      <td>240.0</td>\n      <td>626.40</td>\n      <td>0.0</td>\n      <td>0.0</td>\n      <td>0.0</td>\n      <td>...</td>\n      <td>0.0</td>\n      <td>0.0</td>\n      <td>0.0</td>\n      <td>0.0</td>\n      <td>0.0</td>\n      <td>0.0</td>\n      <td>0.0</td>\n      <td>0.0</td>\n      <td>0.0</td>\n      <td>0.0</td>\n    </tr>\n    <tr>\n      <th>1325647</th>\n      <td>2020&amp;19</td>\n      <td>25.65</td>\n      <td>3.0</td>\n      <td>14.40</td>\n      <td>31.74</td>\n      <td>36.0</td>\n      <td>96.84</td>\n      <td>0.0</td>\n      <td>0.0</td>\n      <td>0.0</td>\n      <td>...</td>\n      <td>0.0</td>\n      <td>0.0</td>\n      <td>0.0</td>\n      <td>0.0</td>\n      <td>0.0</td>\n      <td>0.0</td>\n      <td>0.0</td>\n      <td>0.0</td>\n      <td>0.0</td>\n      <td>0.0</td>\n    </tr>\n  </tbody>\n</table>\n<p>1325648 rows × 33 columns</p>\n</div>"
     },
     "execution_count": 65,
     "metadata": {},
     "output_type": "execute_result"
    }
   ],
   "source": [
    "prediction_df_phase1.drop(columns = ['Fisc Yr', 'WK'])"
   ],
   "metadata": {
    "collapsed": false,
    "ExecuteTime": {
     "end_time": "2024-03-11T02:37:06.890874200Z",
     "start_time": "2024-03-11T02:37:06.217676900Z"
    }
   },
   "id": "9133469ce2696b1f",
   "execution_count": 65
  },
  {
   "cell_type": "code",
   "outputs": [],
   "source": [
    "sums = prediction_df_phase1.groupby('Yr & Wk').sum().reset_index()\n",
    "\n",
    "yrwk = sums['Yr & Wk'].unique()\n",
    "fiscyr = [int(string[:4]) for string in yrwk]\n",
    "wk = [int(string[5:]) for string in yrwk]\n",
    "\n",
    "sums['Fisc Yr'] = fiscyr\n",
    "sums['WK'] = wk\n",
    "\n",
    "sums = sums.sort_values(by=['Fisc Yr', 'WK'], ascending = True)\n",
    "sums.reset_index(drop = True, inplace = True)"
   ],
   "metadata": {
    "collapsed": false,
    "ExecuteTime": {
     "end_time": "2024-03-11T02:37:07.327725200Z",
     "start_time": "2024-03-11T02:37:06.878907100Z"
    }
   },
   "id": "52e4ba335b953812",
   "execution_count": 66
  },
  {
   "cell_type": "code",
   "outputs": [],
   "source": [
    "sums = sums.drop(columns = ['Fisc Yr', 'WK'])"
   ],
   "metadata": {
    "collapsed": false,
    "ExecuteTime": {
     "end_time": "2024-03-11T02:37:07.349820100Z",
     "start_time": "2024-03-11T02:37:07.325733200Z"
    }
   },
   "id": "d4fc632ce8ed03e1",
   "execution_count": 67
  },
  {
   "cell_type": "code",
   "outputs": [],
   "source": [
    "prediction_df = pd.merge(prediction_df, sums, on = 'Yr & Wk')"
   ],
   "metadata": {
    "collapsed": false,
    "ExecuteTime": {
     "end_time": "2024-03-11T02:37:07.405255900Z",
     "start_time": "2024-03-11T02:37:07.335852600Z"
    }
   },
   "id": "c43bf45571efc213",
   "execution_count": 68
  },
  {
   "cell_type": "code",
   "outputs": [],
   "source": [
    "prediction_df_copy = prediction_df"
   ],
   "metadata": {
    "collapsed": false,
    "ExecuteTime": {
     "end_time": "2024-03-11T02:39:37.144933Z",
     "start_time": "2024-03-11T02:39:37.137310300Z"
    }
   },
   "id": "a0155f8e86cae58b",
   "execution_count": 73
  },
  {
   "cell_type": "code",
   "outputs": [],
   "source": [
    "prediction_df_copy = prediction_df_copy.drop(columns = ['Pln Base Cs', 'Pln Base Lbs', 'Pln Base Rtn Usd', 'Pln Base Units', 'Pln Base Usd', 'Pln Cons Lbs', 'Pln Cons Rtn Usd', 'Pln Cons Units', 'Pln Cons Usd', 'Pln Inc Usd', 'Pln Incr Cs', 'Pln Incr Lbs', 'Pln Incr Rtn Usd', 'Pln Incr Ship Cs', 'Pln Incr Ship Kgs', 'Pln Incr Ship Lbs', 'Pln Incr Ship Units', 'Pln Incr Ship Usd', 'Pln Incr Units', 'Pln Kmf', 'Pln Ship Cs', 'Pln Ship Ea', 'Pln Ship Kg', 'Pln Ship Lbs', 'Pln Ship Usd', 'Totl Pln Kmf Cost Of Prod Usd'])"
   ],
   "metadata": {
    "collapsed": false,
    "ExecuteTime": {
     "end_time": "2024-03-11T02:39:51.403638300Z",
     "start_time": "2024-03-11T02:39:51.368223300Z"
    }
   },
   "id": "f5dc69b02132b25c",
   "execution_count": 74
  },
  {
   "cell_type": "code",
   "outputs": [],
   "source": [
    "prediction_df_copy['Fisc Yr'] += 1"
   ],
   "metadata": {
    "collapsed": false,
    "ExecuteTime": {
     "end_time": "2024-03-11T02:43:49.573601500Z",
     "start_time": "2024-03-11T02:43:49.532309800Z"
    }
   },
   "id": "70ff6cf77e65853e",
   "execution_count": 76
  },
  {
   "cell_type": "code",
   "outputs": [],
   "source": [
    "prediction_df_copy = prediction_df_copy.rename(columns = {'Actl Cost Of Prod Usd' : 'Predicted Cost Of Prod Usd',\n",
    "                                                          'Actl Ship Cs' : 'Predicted Ship Cs',\n",
    "                                                          \"Actl Ship Kg\" : 'Predicted Ship Kg',\n",
    "                                                          'Actl Ship Lbs' : 'Predicted Ship Lbs',\n",
    "                                                          'Actl Ship Units' : 'Predicted Ship Units',\n",
    "                                                          'Actl Ship Usd' : 'Predicted Ship Usd'})"
   ],
   "metadata": {
    "collapsed": false,
    "ExecuteTime": {
     "end_time": "2024-03-11T02:49:31.536102500Z",
     "start_time": "2024-03-11T02:49:31.519579600Z"
    }
   },
   "id": "3e2cd21bb0260100",
   "execution_count": 78
  },
  {
   "cell_type": "code",
   "outputs": [
    {
     "data": {
      "text/plain": "     Yr & Wk  Fisc Yr  WK  Actl Cost Of Prod Usd  Actl Ship Cs  Actl Ship Kg  \\\n0     2020&1     2020   1              871436.96     147009.94     521498.59   \n1     2020&2     2020   2             8773994.97    1495928.39    5104546.61   \n2     2020&3     2020   3             4258778.81     712095.85    2858091.79   \n3     2020&4     2020   4             4660342.01     876238.37    2978656.43   \n4     2020&5     2020   5             4388857.22     816038.44    3067653.08   \n..       ...      ...  ..                    ...           ...           ...   \n256  2024&48     2024  48                   0.00          0.00          0.00   \n257  2024&49     2024  49                   0.00          0.00          0.00   \n258  2024&50     2024  50                   0.00          0.00          0.00   \n259  2024&51     2024  51                   0.00          0.00          0.00   \n260  2024&52     2024  52                   0.00          0.00          0.00   \n\n     Actl Ship Lbs  Actl Ship Units  Actl Ship Usd  Pln Base Cs  ...  \\\n0       1149706.47       1021571.90     2857563.64    973074.73  ...   \n1      11253585.81       8834574.79    28432388.72    592490.63  ...   \n2       6301006.51       5147676.87    15554638.79    588994.09  ...   \n3       6566805.34       4999362.13    15848104.81    568169.15  ...   \n4       6763010.03       5152229.71    15966562.88    598909.88  ...   \n..             ...              ...            ...          ...  ...   \n256           0.00             0.00           0.00    613568.37  ...   \n257           0.00             0.00           0.00    629999.48  ...   \n258           0.00             0.00           0.00    602074.92  ...   \n259           0.00             0.00           0.00    581810.48  ...   \n260           0.00             0.00           0.00    542993.52  ...   \n\n     Pln Incr Ship Units  Pln Incr Ship Usd  Pln Incr Units     Pln Kmf  \\\n0             1740914.65         4961027.89       216606.76  5126644.00   \n1              966999.40         2788142.63       769581.01  3162445.47   \n2             1817280.83         4499056.04       840986.71  4108983.07   \n3             1196907.90         3402855.51      1388541.34  3486399.97   \n4             2128332.48         7476749.20      1371844.84  4173448.89   \n..                   ...                ...             ...         ...   \n256           1291180.18         3997993.63       759194.60  4717150.75   \n257           1117389.19         3527912.68      1273862.15  4411589.38   \n258            499704.55         1622815.63      1185920.57  3854627.71   \n259            195477.14          738239.22       919229.86  3407276.34   \n260            463019.04         1532365.45      1041197.78  3276990.68   \n\n     Pln Ship Cs  Pln Ship Ea  Pln Ship Kg  Pln Ship Lbs  Pln Ship Usd  \\\n0     1146941.19   5841639.51   3490174.17    7694550.95   19274886.35   \n1      686924.69   4957187.58   2727618.28    6013264.49   15347102.07   \n2      753565.64   5824294.38   3054854.82    6734698.60   17080242.12   \n3      675053.26   5085442.80   2761272.49    6087463.76   15553914.02   \n4      979537.06   6086021.69   3787324.51    8349499.15   19953141.27   \n..           ...          ...          ...           ...           ...   \n256    721981.07   5280749.09   2971746.34    6551501.73   20455902.73   \n257    721966.97   5234931.87   2986221.32    6583410.78   20479074.88   \n258    639142.42   4400092.83   2601899.52    5736127.08   17691894.17   \n259    594179.55   4000112.69   2404881.49    5301780.42   16297807.08   \n260    581113.93   4077513.62   2355039.44    5191903.74   16122774.68   \n\n     Totl Pln Kmf Cost Of Prod Usd  \n0                       7429249.83  \n1                       5314390.06  \n2                       5889803.36  \n3                       5342363.10  \n4                       6929164.99  \n..                             ...  \n256                     5475467.87  \n257                     5489768.56  \n258                     4827215.23  \n259                     4471057.41  \n260                     4357222.39  \n\n[261 rows x 35 columns]",
      "text/html": "<div>\n<style scoped>\n    .dataframe tbody tr th:only-of-type {\n        vertical-align: middle;\n    }\n\n    .dataframe tbody tr th {\n        vertical-align: top;\n    }\n\n    .dataframe thead th {\n        text-align: right;\n    }\n</style>\n<table border=\"1\" class=\"dataframe\">\n  <thead>\n    <tr style=\"text-align: right;\">\n      <th></th>\n      <th>Yr &amp; Wk</th>\n      <th>Fisc Yr</th>\n      <th>WK</th>\n      <th>Actl Cost Of Prod Usd</th>\n      <th>Actl Ship Cs</th>\n      <th>Actl Ship Kg</th>\n      <th>Actl Ship Lbs</th>\n      <th>Actl Ship Units</th>\n      <th>Actl Ship Usd</th>\n      <th>Pln Base Cs</th>\n      <th>...</th>\n      <th>Pln Incr Ship Units</th>\n      <th>Pln Incr Ship Usd</th>\n      <th>Pln Incr Units</th>\n      <th>Pln Kmf</th>\n      <th>Pln Ship Cs</th>\n      <th>Pln Ship Ea</th>\n      <th>Pln Ship Kg</th>\n      <th>Pln Ship Lbs</th>\n      <th>Pln Ship Usd</th>\n      <th>Totl Pln Kmf Cost Of Prod Usd</th>\n    </tr>\n  </thead>\n  <tbody>\n    <tr>\n      <th>0</th>\n      <td>2020&amp;1</td>\n      <td>2020</td>\n      <td>1</td>\n      <td>871436.96</td>\n      <td>147009.94</td>\n      <td>521498.59</td>\n      <td>1149706.47</td>\n      <td>1021571.90</td>\n      <td>2857563.64</td>\n      <td>973074.73</td>\n      <td>...</td>\n      <td>1740914.65</td>\n      <td>4961027.89</td>\n      <td>216606.76</td>\n      <td>5126644.00</td>\n      <td>1146941.19</td>\n      <td>5841639.51</td>\n      <td>3490174.17</td>\n      <td>7694550.95</td>\n      <td>19274886.35</td>\n      <td>7429249.83</td>\n    </tr>\n    <tr>\n      <th>1</th>\n      <td>2020&amp;2</td>\n      <td>2020</td>\n      <td>2</td>\n      <td>8773994.97</td>\n      <td>1495928.39</td>\n      <td>5104546.61</td>\n      <td>11253585.81</td>\n      <td>8834574.79</td>\n      <td>28432388.72</td>\n      <td>592490.63</td>\n      <td>...</td>\n      <td>966999.40</td>\n      <td>2788142.63</td>\n      <td>769581.01</td>\n      <td>3162445.47</td>\n      <td>686924.69</td>\n      <td>4957187.58</td>\n      <td>2727618.28</td>\n      <td>6013264.49</td>\n      <td>15347102.07</td>\n      <td>5314390.06</td>\n    </tr>\n    <tr>\n      <th>2</th>\n      <td>2020&amp;3</td>\n      <td>2020</td>\n      <td>3</td>\n      <td>4258778.81</td>\n      <td>712095.85</td>\n      <td>2858091.79</td>\n      <td>6301006.51</td>\n      <td>5147676.87</td>\n      <td>15554638.79</td>\n      <td>588994.09</td>\n      <td>...</td>\n      <td>1817280.83</td>\n      <td>4499056.04</td>\n      <td>840986.71</td>\n      <td>4108983.07</td>\n      <td>753565.64</td>\n      <td>5824294.38</td>\n      <td>3054854.82</td>\n      <td>6734698.60</td>\n      <td>17080242.12</td>\n      <td>5889803.36</td>\n    </tr>\n    <tr>\n      <th>3</th>\n      <td>2020&amp;4</td>\n      <td>2020</td>\n      <td>4</td>\n      <td>4660342.01</td>\n      <td>876238.37</td>\n      <td>2978656.43</td>\n      <td>6566805.34</td>\n      <td>4999362.13</td>\n      <td>15848104.81</td>\n      <td>568169.15</td>\n      <td>...</td>\n      <td>1196907.90</td>\n      <td>3402855.51</td>\n      <td>1388541.34</td>\n      <td>3486399.97</td>\n      <td>675053.26</td>\n      <td>5085442.80</td>\n      <td>2761272.49</td>\n      <td>6087463.76</td>\n      <td>15553914.02</td>\n      <td>5342363.10</td>\n    </tr>\n    <tr>\n      <th>4</th>\n      <td>2020&amp;5</td>\n      <td>2020</td>\n      <td>5</td>\n      <td>4388857.22</td>\n      <td>816038.44</td>\n      <td>3067653.08</td>\n      <td>6763010.03</td>\n      <td>5152229.71</td>\n      <td>15966562.88</td>\n      <td>598909.88</td>\n      <td>...</td>\n      <td>2128332.48</td>\n      <td>7476749.20</td>\n      <td>1371844.84</td>\n      <td>4173448.89</td>\n      <td>979537.06</td>\n      <td>6086021.69</td>\n      <td>3787324.51</td>\n      <td>8349499.15</td>\n      <td>19953141.27</td>\n      <td>6929164.99</td>\n    </tr>\n    <tr>\n      <th>...</th>\n      <td>...</td>\n      <td>...</td>\n      <td>...</td>\n      <td>...</td>\n      <td>...</td>\n      <td>...</td>\n      <td>...</td>\n      <td>...</td>\n      <td>...</td>\n      <td>...</td>\n      <td>...</td>\n      <td>...</td>\n      <td>...</td>\n      <td>...</td>\n      <td>...</td>\n      <td>...</td>\n      <td>...</td>\n      <td>...</td>\n      <td>...</td>\n      <td>...</td>\n      <td>...</td>\n    </tr>\n    <tr>\n      <th>256</th>\n      <td>2024&amp;48</td>\n      <td>2024</td>\n      <td>48</td>\n      <td>0.00</td>\n      <td>0.00</td>\n      <td>0.00</td>\n      <td>0.00</td>\n      <td>0.00</td>\n      <td>0.00</td>\n      <td>613568.37</td>\n      <td>...</td>\n      <td>1291180.18</td>\n      <td>3997993.63</td>\n      <td>759194.60</td>\n      <td>4717150.75</td>\n      <td>721981.07</td>\n      <td>5280749.09</td>\n      <td>2971746.34</td>\n      <td>6551501.73</td>\n      <td>20455902.73</td>\n      <td>5475467.87</td>\n    </tr>\n    <tr>\n      <th>257</th>\n      <td>2024&amp;49</td>\n      <td>2024</td>\n      <td>49</td>\n      <td>0.00</td>\n      <td>0.00</td>\n      <td>0.00</td>\n      <td>0.00</td>\n      <td>0.00</td>\n      <td>0.00</td>\n      <td>629999.48</td>\n      <td>...</td>\n      <td>1117389.19</td>\n      <td>3527912.68</td>\n      <td>1273862.15</td>\n      <td>4411589.38</td>\n      <td>721966.97</td>\n      <td>5234931.87</td>\n      <td>2986221.32</td>\n      <td>6583410.78</td>\n      <td>20479074.88</td>\n      <td>5489768.56</td>\n    </tr>\n    <tr>\n      <th>258</th>\n      <td>2024&amp;50</td>\n      <td>2024</td>\n      <td>50</td>\n      <td>0.00</td>\n      <td>0.00</td>\n      <td>0.00</td>\n      <td>0.00</td>\n      <td>0.00</td>\n      <td>0.00</td>\n      <td>602074.92</td>\n      <td>...</td>\n      <td>499704.55</td>\n      <td>1622815.63</td>\n      <td>1185920.57</td>\n      <td>3854627.71</td>\n      <td>639142.42</td>\n      <td>4400092.83</td>\n      <td>2601899.52</td>\n      <td>5736127.08</td>\n      <td>17691894.17</td>\n      <td>4827215.23</td>\n    </tr>\n    <tr>\n      <th>259</th>\n      <td>2024&amp;51</td>\n      <td>2024</td>\n      <td>51</td>\n      <td>0.00</td>\n      <td>0.00</td>\n      <td>0.00</td>\n      <td>0.00</td>\n      <td>0.00</td>\n      <td>0.00</td>\n      <td>581810.48</td>\n      <td>...</td>\n      <td>195477.14</td>\n      <td>738239.22</td>\n      <td>919229.86</td>\n      <td>3407276.34</td>\n      <td>594179.55</td>\n      <td>4000112.69</td>\n      <td>2404881.49</td>\n      <td>5301780.42</td>\n      <td>16297807.08</td>\n      <td>4471057.41</td>\n    </tr>\n    <tr>\n      <th>260</th>\n      <td>2024&amp;52</td>\n      <td>2024</td>\n      <td>52</td>\n      <td>0.00</td>\n      <td>0.00</td>\n      <td>0.00</td>\n      <td>0.00</td>\n      <td>0.00</td>\n      <td>0.00</td>\n      <td>542993.52</td>\n      <td>...</td>\n      <td>463019.04</td>\n      <td>1532365.45</td>\n      <td>1041197.78</td>\n      <td>3276990.68</td>\n      <td>581113.93</td>\n      <td>4077513.62</td>\n      <td>2355039.44</td>\n      <td>5191903.74</td>\n      <td>16122774.68</td>\n      <td>4357222.39</td>\n    </tr>\n  </tbody>\n</table>\n<p>261 rows × 35 columns</p>\n</div>"
     },
     "execution_count": 79,
     "metadata": {},
     "output_type": "execute_result"
    }
   ],
   "source": [
    "prediction_df"
   ],
   "metadata": {
    "collapsed": false,
    "ExecuteTime": {
     "end_time": "2024-03-11T02:49:46.596265500Z",
     "start_time": "2024-03-11T02:49:46.523396500Z"
    }
   },
   "id": "27aa799d1c19182a",
   "execution_count": 79
  },
  {
   "cell_type": "code",
   "outputs": [],
   "source": [
    "temp = pd.DataFrame()\n",
    "\n",
    "temp['Yr & Wk'] = ['2025&1', '2025&2', '2025&3', '2025&4', '2025&5', '2025&6', '2025&7', '2025&8', '2025&9', '2025&10', '2025&11', '2025&12', '2025&13', '2025&14', '2025&15', '2025&16', '2025&17', '2025&18', '2025&19', '2025&20', '2025&21', '2025&22', '2025&23', '2025&24', '2025&25', '2025&26', '2025&27', '2025&28', '2025&29', '2025&30', '2025&31', '2025&32', '2025&33', '2025&34', '2025&35', '2025&36', '2025&37', '2025&38', '2025&39', '2025&40', '2025&41', '2025&42', '2025&43', '2025&44', '2025&45', '2025&46', '2025&47', '2025&48', '2025&49', '2025&50', '2025&51', '2025&52']\n",
    "\n",
    "temp['Fisc Yr'] = [2025 for _ in range(52)]\n",
    "\n",
    "temp['WK'] = [int(i) for i in range(1,53)]"
   ],
   "metadata": {
    "collapsed": false,
    "ExecuteTime": {
     "end_time": "2024-03-11T18:06:51.153360100Z",
     "start_time": "2024-03-11T18:06:51.133050100Z"
    }
   },
   "id": "3725c3d20c1072b5",
   "execution_count": 86
  },
  {
   "cell_type": "code",
   "outputs": [],
   "source": [
    "prediction_df = pd.concat([prediction_df, temp], axis = 0)"
   ],
   "metadata": {
    "collapsed": false,
    "ExecuteTime": {
     "end_time": "2024-03-11T18:09:10.395046900Z",
     "start_time": "2024-03-11T18:09:10.379328600Z"
    }
   },
   "id": "14c303e2da2a741c",
   "execution_count": 91
  },
  {
   "cell_type": "code",
   "outputs": [],
   "source": [
    "prediction_df_copy = prediction_df_copy.drop(columns = ['Yr & Wk'])"
   ],
   "metadata": {
    "collapsed": false,
    "ExecuteTime": {
     "end_time": "2024-03-11T18:13:20.851792700Z",
     "start_time": "2024-03-11T18:13:20.815712700Z"
    }
   },
   "id": "5f6b177f38bcf934",
   "execution_count": 94
  },
  {
   "cell_type": "code",
   "outputs": [],
   "source": [
    "prediction_df = pd.merge(prediction_df, prediction_df_copy, how = 'outer', left_on = ['Fisc Yr', 'WK'], right_on = ['Fisc Yr', 'WK'])"
   ],
   "metadata": {
    "collapsed": false,
    "ExecuteTime": {
     "end_time": "2024-03-11T18:14:06.413289100Z",
     "start_time": "2024-03-11T18:14:06.372738900Z"
    }
   },
   "id": "bde777f84fad19f7",
   "execution_count": 95
  },
  {
   "cell_type": "code",
   "outputs": [
    {
     "data": {
      "text/plain": "     Yr & Wk  Fisc Yr  WK  Actl Cost Of Prod Usd  Actl Ship Cs  Actl Ship Kg  \\\n0     2020&1     2020   1              871436.96     147009.94     521498.59   \n1     2020&2     2020   2             8773994.97    1495928.39    5104546.61   \n2     2020&3     2020   3             4258778.81     712095.85    2858091.79   \n3     2020&4     2020   4             4660342.01     876238.37    2978656.43   \n4     2020&5     2020   5             4388857.22     816038.44    3067653.08   \n..       ...      ...  ..                    ...           ...           ...   \n309  2025&48     2025  48                    NaN           NaN           NaN   \n310  2025&49     2025  49                    NaN           NaN           NaN   \n311  2025&50     2025  50                    NaN           NaN           NaN   \n312  2025&51     2025  51                    NaN           NaN           NaN   \n313  2025&52     2025  52                    NaN           NaN           NaN   \n\n     Actl Ship Lbs  Actl Ship Units  Actl Ship Usd  Pln Base Cs  ...  \\\n0       1149706.47       1021571.90     2857563.64    973074.73  ...   \n1      11253585.81       8834574.79    28432388.72    592490.63  ...   \n2       6301006.51       5147676.87    15554638.79    588994.09  ...   \n3       6566805.34       4999362.13    15848104.81    568169.15  ...   \n4       6763010.03       5152229.71    15966562.88    598909.88  ...   \n..             ...              ...            ...          ...  ...   \n309            NaN              NaN            NaN          NaN  ...   \n310            NaN              NaN            NaN          NaN  ...   \n311            NaN              NaN            NaN          NaN  ...   \n312            NaN              NaN            NaN          NaN  ...   \n313            NaN              NaN            NaN          NaN  ...   \n\n     Pln Ship Kg  Pln Ship Lbs  Pln Ship Usd  Totl Pln Kmf Cost Of Prod Usd  \\\n0     3490174.17    7694550.95   19274886.35                     7429249.83   \n1     2727618.28    6013264.49   15347102.07                     5314390.06   \n2     3054854.82    6734698.60   17080242.12                     5889803.36   \n3     2761272.49    6087463.76   15553914.02                     5342363.10   \n4     3787324.51    8349499.15   19953141.27                     6929164.99   \n..           ...           ...           ...                            ...   \n309          NaN           NaN           NaN                            NaN   \n310          NaN           NaN           NaN                            NaN   \n311          NaN           NaN           NaN                            NaN   \n312          NaN           NaN           NaN                            NaN   \n313          NaN           NaN           NaN                            NaN   \n\n     Predicted Cost Of Prod Usd  Predicted Ship Cs  Predicted Ship Kg  \\\n0                           NaN                NaN                NaN   \n1                           NaN                NaN                NaN   \n2                           NaN                NaN                NaN   \n3                           NaN                NaN                NaN   \n4                           NaN                NaN                NaN   \n..                          ...                ...                ...   \n309                         0.0                0.0                0.0   \n310                         0.0                0.0                0.0   \n311                         0.0                0.0                0.0   \n312                         0.0                0.0                0.0   \n313                         0.0                0.0                0.0   \n\n     Predicted Ship Lbs  Predicted Ship Units  Predicted Ship Usd  \n0                   NaN                   NaN                 NaN  \n1                   NaN                   NaN                 NaN  \n2                   NaN                   NaN                 NaN  \n3                   NaN                   NaN                 NaN  \n4                   NaN                   NaN                 NaN  \n..                  ...                   ...                 ...  \n309                 0.0                   0.0                 0.0  \n310                 0.0                   0.0                 0.0  \n311                 0.0                   0.0                 0.0  \n312                 0.0                   0.0                 0.0  \n313                 0.0                   0.0                 0.0  \n\n[314 rows x 41 columns]",
      "text/html": "<div>\n<style scoped>\n    .dataframe tbody tr th:only-of-type {\n        vertical-align: middle;\n    }\n\n    .dataframe tbody tr th {\n        vertical-align: top;\n    }\n\n    .dataframe thead th {\n        text-align: right;\n    }\n</style>\n<table border=\"1\" class=\"dataframe\">\n  <thead>\n    <tr style=\"text-align: right;\">\n      <th></th>\n      <th>Yr &amp; Wk</th>\n      <th>Fisc Yr</th>\n      <th>WK</th>\n      <th>Actl Cost Of Prod Usd</th>\n      <th>Actl Ship Cs</th>\n      <th>Actl Ship Kg</th>\n      <th>Actl Ship Lbs</th>\n      <th>Actl Ship Units</th>\n      <th>Actl Ship Usd</th>\n      <th>Pln Base Cs</th>\n      <th>...</th>\n      <th>Pln Ship Kg</th>\n      <th>Pln Ship Lbs</th>\n      <th>Pln Ship Usd</th>\n      <th>Totl Pln Kmf Cost Of Prod Usd</th>\n      <th>Predicted Cost Of Prod Usd</th>\n      <th>Predicted Ship Cs</th>\n      <th>Predicted Ship Kg</th>\n      <th>Predicted Ship Lbs</th>\n      <th>Predicted Ship Units</th>\n      <th>Predicted Ship Usd</th>\n    </tr>\n  </thead>\n  <tbody>\n    <tr>\n      <th>0</th>\n      <td>2020&amp;1</td>\n      <td>2020</td>\n      <td>1</td>\n      <td>871436.96</td>\n      <td>147009.94</td>\n      <td>521498.59</td>\n      <td>1149706.47</td>\n      <td>1021571.90</td>\n      <td>2857563.64</td>\n      <td>973074.73</td>\n      <td>...</td>\n      <td>3490174.17</td>\n      <td>7694550.95</td>\n      <td>19274886.35</td>\n      <td>7429249.83</td>\n      <td>NaN</td>\n      <td>NaN</td>\n      <td>NaN</td>\n      <td>NaN</td>\n      <td>NaN</td>\n      <td>NaN</td>\n    </tr>\n    <tr>\n      <th>1</th>\n      <td>2020&amp;2</td>\n      <td>2020</td>\n      <td>2</td>\n      <td>8773994.97</td>\n      <td>1495928.39</td>\n      <td>5104546.61</td>\n      <td>11253585.81</td>\n      <td>8834574.79</td>\n      <td>28432388.72</td>\n      <td>592490.63</td>\n      <td>...</td>\n      <td>2727618.28</td>\n      <td>6013264.49</td>\n      <td>15347102.07</td>\n      <td>5314390.06</td>\n      <td>NaN</td>\n      <td>NaN</td>\n      <td>NaN</td>\n      <td>NaN</td>\n      <td>NaN</td>\n      <td>NaN</td>\n    </tr>\n    <tr>\n      <th>2</th>\n      <td>2020&amp;3</td>\n      <td>2020</td>\n      <td>3</td>\n      <td>4258778.81</td>\n      <td>712095.85</td>\n      <td>2858091.79</td>\n      <td>6301006.51</td>\n      <td>5147676.87</td>\n      <td>15554638.79</td>\n      <td>588994.09</td>\n      <td>...</td>\n      <td>3054854.82</td>\n      <td>6734698.60</td>\n      <td>17080242.12</td>\n      <td>5889803.36</td>\n      <td>NaN</td>\n      <td>NaN</td>\n      <td>NaN</td>\n      <td>NaN</td>\n      <td>NaN</td>\n      <td>NaN</td>\n    </tr>\n    <tr>\n      <th>3</th>\n      <td>2020&amp;4</td>\n      <td>2020</td>\n      <td>4</td>\n      <td>4660342.01</td>\n      <td>876238.37</td>\n      <td>2978656.43</td>\n      <td>6566805.34</td>\n      <td>4999362.13</td>\n      <td>15848104.81</td>\n      <td>568169.15</td>\n      <td>...</td>\n      <td>2761272.49</td>\n      <td>6087463.76</td>\n      <td>15553914.02</td>\n      <td>5342363.10</td>\n      <td>NaN</td>\n      <td>NaN</td>\n      <td>NaN</td>\n      <td>NaN</td>\n      <td>NaN</td>\n      <td>NaN</td>\n    </tr>\n    <tr>\n      <th>4</th>\n      <td>2020&amp;5</td>\n      <td>2020</td>\n      <td>5</td>\n      <td>4388857.22</td>\n      <td>816038.44</td>\n      <td>3067653.08</td>\n      <td>6763010.03</td>\n      <td>5152229.71</td>\n      <td>15966562.88</td>\n      <td>598909.88</td>\n      <td>...</td>\n      <td>3787324.51</td>\n      <td>8349499.15</td>\n      <td>19953141.27</td>\n      <td>6929164.99</td>\n      <td>NaN</td>\n      <td>NaN</td>\n      <td>NaN</td>\n      <td>NaN</td>\n      <td>NaN</td>\n      <td>NaN</td>\n    </tr>\n    <tr>\n      <th>...</th>\n      <td>...</td>\n      <td>...</td>\n      <td>...</td>\n      <td>...</td>\n      <td>...</td>\n      <td>...</td>\n      <td>...</td>\n      <td>...</td>\n      <td>...</td>\n      <td>...</td>\n      <td>...</td>\n      <td>...</td>\n      <td>...</td>\n      <td>...</td>\n      <td>...</td>\n      <td>...</td>\n      <td>...</td>\n      <td>...</td>\n      <td>...</td>\n      <td>...</td>\n      <td>...</td>\n    </tr>\n    <tr>\n      <th>309</th>\n      <td>2025&amp;48</td>\n      <td>2025</td>\n      <td>48</td>\n      <td>NaN</td>\n      <td>NaN</td>\n      <td>NaN</td>\n      <td>NaN</td>\n      <td>NaN</td>\n      <td>NaN</td>\n      <td>NaN</td>\n      <td>...</td>\n      <td>NaN</td>\n      <td>NaN</td>\n      <td>NaN</td>\n      <td>NaN</td>\n      <td>0.0</td>\n      <td>0.0</td>\n      <td>0.0</td>\n      <td>0.0</td>\n      <td>0.0</td>\n      <td>0.0</td>\n    </tr>\n    <tr>\n      <th>310</th>\n      <td>2025&amp;49</td>\n      <td>2025</td>\n      <td>49</td>\n      <td>NaN</td>\n      <td>NaN</td>\n      <td>NaN</td>\n      <td>NaN</td>\n      <td>NaN</td>\n      <td>NaN</td>\n      <td>NaN</td>\n      <td>...</td>\n      <td>NaN</td>\n      <td>NaN</td>\n      <td>NaN</td>\n      <td>NaN</td>\n      <td>0.0</td>\n      <td>0.0</td>\n      <td>0.0</td>\n      <td>0.0</td>\n      <td>0.0</td>\n      <td>0.0</td>\n    </tr>\n    <tr>\n      <th>311</th>\n      <td>2025&amp;50</td>\n      <td>2025</td>\n      <td>50</td>\n      <td>NaN</td>\n      <td>NaN</td>\n      <td>NaN</td>\n      <td>NaN</td>\n      <td>NaN</td>\n      <td>NaN</td>\n      <td>NaN</td>\n      <td>...</td>\n      <td>NaN</td>\n      <td>NaN</td>\n      <td>NaN</td>\n      <td>NaN</td>\n      <td>0.0</td>\n      <td>0.0</td>\n      <td>0.0</td>\n      <td>0.0</td>\n      <td>0.0</td>\n      <td>0.0</td>\n    </tr>\n    <tr>\n      <th>312</th>\n      <td>2025&amp;51</td>\n      <td>2025</td>\n      <td>51</td>\n      <td>NaN</td>\n      <td>NaN</td>\n      <td>NaN</td>\n      <td>NaN</td>\n      <td>NaN</td>\n      <td>NaN</td>\n      <td>NaN</td>\n      <td>...</td>\n      <td>NaN</td>\n      <td>NaN</td>\n      <td>NaN</td>\n      <td>NaN</td>\n      <td>0.0</td>\n      <td>0.0</td>\n      <td>0.0</td>\n      <td>0.0</td>\n      <td>0.0</td>\n      <td>0.0</td>\n    </tr>\n    <tr>\n      <th>313</th>\n      <td>2025&amp;52</td>\n      <td>2025</td>\n      <td>52</td>\n      <td>NaN</td>\n      <td>NaN</td>\n      <td>NaN</td>\n      <td>NaN</td>\n      <td>NaN</td>\n      <td>NaN</td>\n      <td>NaN</td>\n      <td>...</td>\n      <td>NaN</td>\n      <td>NaN</td>\n      <td>NaN</td>\n      <td>NaN</td>\n      <td>0.0</td>\n      <td>0.0</td>\n      <td>0.0</td>\n      <td>0.0</td>\n      <td>0.0</td>\n      <td>0.0</td>\n    </tr>\n  </tbody>\n</table>\n<p>314 rows × 41 columns</p>\n</div>"
     },
     "execution_count": 96,
     "metadata": {},
     "output_type": "execute_result"
    }
   ],
   "source": [
    "prediction_df"
   ],
   "metadata": {
    "collapsed": false,
    "ExecuteTime": {
     "end_time": "2024-03-11T18:14:10.080688100Z",
     "start_time": "2024-03-11T18:14:10.026990900Z"
    }
   },
   "id": "74f460ec17340222",
   "execution_count": 96
  },
  {
   "cell_type": "code",
   "outputs": [],
   "source": [
    "#prediction_df.to_csv('prediction.csv', index = False)"
   ],
   "metadata": {
    "collapsed": false,
    "ExecuteTime": {
     "end_time": "2024-03-11T18:15:31.667435100Z",
     "start_time": "2024-03-11T18:15:31.590381100Z"
    }
   },
   "id": "50885b460be0505f",
   "execution_count": 97
  },
  {
   "cell_type": "code",
   "outputs": [],
   "source": [],
   "metadata": {
    "collapsed": false
   },
   "id": "65ff732dd0d925a1"
  }
 ],
 "metadata": {
  "kernelspec": {
   "display_name": "Python 3",
   "language": "python",
   "name": "python3"
  },
  "language_info": {
   "codemirror_mode": {
    "name": "ipython",
    "version": 2
   },
   "file_extension": ".py",
   "mimetype": "text/x-python",
   "name": "python",
   "nbconvert_exporter": "python",
   "pygments_lexer": "ipython2",
   "version": "2.7.6"
  }
 },
 "nbformat": 4,
 "nbformat_minor": 5
}
