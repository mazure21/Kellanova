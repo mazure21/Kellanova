{
 "cells": [
  {
   "cell_type": "markdown",
   "metadata": {},
   "source": [
    "#                                            Tableau Install\n",
    "\n",
    "<img src=\"https://www.lib.washington.edu/dataservices/images/Tableau_Software_logo.png/image\" alt=\"Sample Image\" width=\"300\" height=\"200\">\n",
    "\n",
    "\n",
    "To access Tableau using the student licenses acquired for the semester, follow these directions:\n",
    "\n",
    "1. Download the latest version of Tableau Desktop and Tableau Prep Builder [here](<download_link>).\n",
    "\n",
    "2. Click on the link above and select “Download Tableau Desktop” and “Download Tableau Prep Builder”. On the form, enter your school email address for Business E-mail and enter the name of your school for Organization.\n",
    "\n",
    "3. Activate with your product key if you have obtained one from a CMSE/CSE class: `XXXX-XXXX-XXXX-XXXX-XXXX`\n",
    "\n",
    "4. Already have a copy of Tableau Desktop installed? Update your license in the application: Help menu → Manage Product Keys\n",
    "\n",
    "5. Check out the [Student Resource Page](https://community.tableau.com/s/students) for help getting started.\n",
    "\n",
    "6. You can continue using Tableau after the class is over by individually requesting your own one-year license through Tableau for Students: [Tableau for Students](https://www.tableau.com/academic/students).\n"
   ]
  },
  {
   "cell_type": "markdown",
   "metadata": {},
   "source": [
    "# Loading A Dataset"
   ]
  },
  {
   "cell_type": "markdown",
   "metadata": {},
   "source": [
    "Download the two dataset located in this folder we will be using these to get started using Tableau to load datasets and eventually creating refined visualizations"
   ]
  }
 ],
 "metadata": {
  "kernelspec": {
   "display_name": "Python 3",
   "language": "python",
   "name": "python3"
  },
  "language_info": {
   "codemirror_mode": {
    "name": "ipython",
    "version": 3
   },
   "file_extension": ".py",
   "mimetype": "text/x-python",
   "name": "python",
   "nbconvert_exporter": "python",
   "pygments_lexer": "ipython3",
   "version": "3.6.4"
  }
 },
 "nbformat": 4,
 "nbformat_minor": 2
}
