{
 "cells": [
  {
   "cell_type": "code",
   "execution_count": 20,
   "id": "initial_id",
   "metadata": {
    "collapsed": true,
    "ExecuteTime": {
     "end_time": "2024-03-18T10:34:37.809431600Z",
     "start_time": "2024-03-18T10:34:37.789482400Z"
    }
   },
   "outputs": [],
   "source": [
    "import pandas as pd\n",
    "import matplotlib.pyplot as plt\n",
    "import numpy as np\n",
    "import seaborn as sns\n",
    "\n",
    "\n",
    "%matplotlib inline"
   ]
  },
  {
   "cell_type": "code",
   "outputs": [],
   "source": [
    "agg = pd.read_csv('weekly_agg.csv')"
   ],
   "metadata": {
    "collapsed": false,
    "ExecuteTime": {
     "end_time": "2024-03-18T10:26:23.089824400Z",
     "start_time": "2024-03-18T10:26:22.689221Z"
    }
   },
   "id": "1e7febf68a88bec4",
   "execution_count": 2
  },
  {
   "cell_type": "code",
   "outputs": [],
   "source": [
    "agg = agg[agg['Fisc Yr'] <= 2023]"
   ],
   "metadata": {
    "collapsed": false,
    "ExecuteTime": {
     "end_time": "2024-03-18T10:26:23.316867100Z",
     "start_time": "2024-03-18T10:26:23.296409500Z"
    }
   },
   "id": "1998deff2c1c0750",
   "execution_count": 3
  },
  {
   "cell_type": "code",
   "outputs": [
    {
     "data": {
      "text/plain": "   Cal Wk  Fisc Yr              Mixd Plt Matrl Desc  WK Yr & Wk  \\\n0  202001     2020            T 4 FLVS TSTP MODX252   1  2020&1   \n1  202001     2020       PT 1 FLV TSTP DISP TRAY X8   1  2020&1   \n2  202001     2020  PT 1 FLV TSTP HUTCHX100 SEAS PT   1  2020&1   \n3  202001     2020         PT 2 FLVS BITES HUTCHX60   1  2020&1   \n4  202001     2020         PT 2 FLVS CRISPS SHPRX72   1  2020&1   \n\n   Act Sc Prxy Usd  Actl Cost Of Prod Usd  Actl Ship Cs  Actl Ship Kg  \\\n0             0.00                    0.0           0.0           0.0   \n1             0.00                    0.0           0.0           0.0   \n2            27.98                    0.0           0.0           0.0   \n3         -2853.60                    0.0           0.0           0.0   \n4             0.00                    0.0           0.0           0.0   \n\n   Actl Ship Lbs  ...  Pln Nsv Prxy Usd  Pln Sc Prxy Usd  Pln Ship Cs  \\\n0            0.0  ...               0.0              0.0          0.0   \n1            0.0  ...               0.0              0.0          0.0   \n2            0.0  ...               0.0              0.0          0.0   \n3            0.0  ...               0.0              0.0          0.0   \n4            0.0  ...               0.0              0.0          0.0   \n\n   Pln Ship Ea  Pln Ship Kg  Pln Ship Lbs  Pln Ship Usd  Sugstd Base Vol Sas  \\\n0          0.0          0.0           0.0           0.0                  0.0   \n1          0.0          0.0           0.0           0.0                  0.0   \n2          0.0          0.0           0.0           0.0                  0.0   \n3          0.0          0.0           0.0           0.0                  0.0   \n4          0.0          0.0           0.0           0.0                  0.0   \n\n   Sugstd Shlf Prc Sas  Totl Pln Kmf Cost Of Prod Usd  \n0                  0.0                            0.0  \n1                  0.0                            0.0  \n2                  0.0                            0.0  \n3                  0.0                            0.0  \n4                  0.0                            0.0  \n\n[5 rows x 42 columns]",
      "text/html": "<div>\n<style scoped>\n    .dataframe tbody tr th:only-of-type {\n        vertical-align: middle;\n    }\n\n    .dataframe tbody tr th {\n        vertical-align: top;\n    }\n\n    .dataframe thead th {\n        text-align: right;\n    }\n</style>\n<table border=\"1\" class=\"dataframe\">\n  <thead>\n    <tr style=\"text-align: right;\">\n      <th></th>\n      <th>Cal Wk</th>\n      <th>Fisc Yr</th>\n      <th>Mixd Plt Matrl Desc</th>\n      <th>WK</th>\n      <th>Yr &amp; Wk</th>\n      <th>Act Sc Prxy Usd</th>\n      <th>Actl Cost Of Prod Usd</th>\n      <th>Actl Ship Cs</th>\n      <th>Actl Ship Kg</th>\n      <th>Actl Ship Lbs</th>\n      <th>...</th>\n      <th>Pln Nsv Prxy Usd</th>\n      <th>Pln Sc Prxy Usd</th>\n      <th>Pln Ship Cs</th>\n      <th>Pln Ship Ea</th>\n      <th>Pln Ship Kg</th>\n      <th>Pln Ship Lbs</th>\n      <th>Pln Ship Usd</th>\n      <th>Sugstd Base Vol Sas</th>\n      <th>Sugstd Shlf Prc Sas</th>\n      <th>Totl Pln Kmf Cost Of Prod Usd</th>\n    </tr>\n  </thead>\n  <tbody>\n    <tr>\n      <th>0</th>\n      <td>202001</td>\n      <td>2020</td>\n      <td>T 4 FLVS TSTP MODX252</td>\n      <td>1</td>\n      <td>2020&amp;1</td>\n      <td>0.00</td>\n      <td>0.0</td>\n      <td>0.0</td>\n      <td>0.0</td>\n      <td>0.0</td>\n      <td>...</td>\n      <td>0.0</td>\n      <td>0.0</td>\n      <td>0.0</td>\n      <td>0.0</td>\n      <td>0.0</td>\n      <td>0.0</td>\n      <td>0.0</td>\n      <td>0.0</td>\n      <td>0.0</td>\n      <td>0.0</td>\n    </tr>\n    <tr>\n      <th>1</th>\n      <td>202001</td>\n      <td>2020</td>\n      <td>PT 1 FLV TSTP DISP TRAY X8</td>\n      <td>1</td>\n      <td>2020&amp;1</td>\n      <td>0.00</td>\n      <td>0.0</td>\n      <td>0.0</td>\n      <td>0.0</td>\n      <td>0.0</td>\n      <td>...</td>\n      <td>0.0</td>\n      <td>0.0</td>\n      <td>0.0</td>\n      <td>0.0</td>\n      <td>0.0</td>\n      <td>0.0</td>\n      <td>0.0</td>\n      <td>0.0</td>\n      <td>0.0</td>\n      <td>0.0</td>\n    </tr>\n    <tr>\n      <th>2</th>\n      <td>202001</td>\n      <td>2020</td>\n      <td>PT 1 FLV TSTP HUTCHX100 SEAS PT</td>\n      <td>1</td>\n      <td>2020&amp;1</td>\n      <td>27.98</td>\n      <td>0.0</td>\n      <td>0.0</td>\n      <td>0.0</td>\n      <td>0.0</td>\n      <td>...</td>\n      <td>0.0</td>\n      <td>0.0</td>\n      <td>0.0</td>\n      <td>0.0</td>\n      <td>0.0</td>\n      <td>0.0</td>\n      <td>0.0</td>\n      <td>0.0</td>\n      <td>0.0</td>\n      <td>0.0</td>\n    </tr>\n    <tr>\n      <th>3</th>\n      <td>202001</td>\n      <td>2020</td>\n      <td>PT 2 FLVS BITES HUTCHX60</td>\n      <td>1</td>\n      <td>2020&amp;1</td>\n      <td>-2853.60</td>\n      <td>0.0</td>\n      <td>0.0</td>\n      <td>0.0</td>\n      <td>0.0</td>\n      <td>...</td>\n      <td>0.0</td>\n      <td>0.0</td>\n      <td>0.0</td>\n      <td>0.0</td>\n      <td>0.0</td>\n      <td>0.0</td>\n      <td>0.0</td>\n      <td>0.0</td>\n      <td>0.0</td>\n      <td>0.0</td>\n    </tr>\n    <tr>\n      <th>4</th>\n      <td>202001</td>\n      <td>2020</td>\n      <td>PT 2 FLVS CRISPS SHPRX72</td>\n      <td>1</td>\n      <td>2020&amp;1</td>\n      <td>0.00</td>\n      <td>0.0</td>\n      <td>0.0</td>\n      <td>0.0</td>\n      <td>0.0</td>\n      <td>...</td>\n      <td>0.0</td>\n      <td>0.0</td>\n      <td>0.0</td>\n      <td>0.0</td>\n      <td>0.0</td>\n      <td>0.0</td>\n      <td>0.0</td>\n      <td>0.0</td>\n      <td>0.0</td>\n      <td>0.0</td>\n    </tr>\n  </tbody>\n</table>\n<p>5 rows × 42 columns</p>\n</div>"
     },
     "execution_count": 4,
     "metadata": {},
     "output_type": "execute_result"
    }
   ],
   "source": [
    "agg.head()"
   ],
   "metadata": {
    "collapsed": false,
    "ExecuteTime": {
     "end_time": "2024-03-18T10:26:23.971550400Z",
     "start_time": "2024-03-18T10:26:23.946186300Z"
    }
   },
   "id": "7e67e222526f946",
   "execution_count": 4
  },
  {
   "cell_type": "code",
   "outputs": [],
   "source": [
    "food = pd.read_csv('food changes.csv')\n",
    "food = food.iloc[:, 1:]\n",
    "food = food.rename(columns={'Year': 'Fisc Yr', 'Period': 'Month'})\n",
    "food['Month'] = food['Month'].str.replace('M', '').astype(int)\n",
    "\n",
    "food = food[food['Fisc Yr'] >= 2020]\n",
    "food = food[food['Fisc Yr'] <= 2023]"
   ],
   "metadata": {
    "collapsed": false,
    "ExecuteTime": {
     "end_time": "2024-03-18T10:26:24.610759800Z",
     "start_time": "2024-03-18T10:26:24.597008900Z"
    }
   },
   "id": "dd81a8d14f93a9e3",
   "execution_count": 5
  },
  {
   "cell_type": "code",
   "outputs": [
    {
     "data": {
      "text/plain": "     Fisc Yr  Month     Label    Value  1-Month % Change  3-Month % Change  \\\n240     2020      1  2020 Jan  261.057               0.5               0.5   \n241     2020      2  2020 Feb  261.876               0.3               0.9   \n242     2020      3  2020 Mar  262.708               0.3               1.1   \n243     2020      4  2020 Apr  266.757               1.5               2.2   \n244     2020      5  2020 May  268.439               0.6               2.5   \n245     2020      6  2020 Jun  269.770               0.5               2.7   \n246     2020      7  2020 Jul  268.863              -0.3               0.8   \n247     2020      8  2020 Aug  269.079               0.1               0.2   \n248     2020      9  2020 Sep  269.163               0.0              -0.2   \n249     2020     10  2020 Oct  269.828               0.2               0.4   \n250     2020     11  2020 Nov  269.069              -0.3               0.0   \n251     2020     12  2020 Dec  270.023               0.4               0.3   \n252     2021      1  2021 Jan  270.938               0.3               0.4   \n253     2021      2  2021 Feb  271.363               0.2               0.9   \n254     2021      3  2021 Mar  271.812               0.2               0.7   \n255     2021      4  2021 Apr  273.090               0.5               0.8   \n256     2021      5  2021 May  274.212               0.4               1.0   \n257     2021      6  2021 Jun  276.206               0.7               1.6   \n258     2021      7  2021 Jul  278.127               0.7               1.8   \n259     2021      8  2021 Aug  279.135               0.4               1.8   \n260     2021      9  2021 Sep  281.506               0.8               1.9   \n261     2021     10  2021 Oct  284.205               1.0               2.2   \n262     2021     11  2021 Nov  285.507               0.5               2.3   \n263     2021     12  2021 Dec  286.966               0.5               1.9   \n264     2022      1  2022 Jan  289.772               1.0               2.0   \n265     2022      2  2022 Feb  292.794               1.0               2.6   \n266     2022      3  2022 Mar  295.728               1.0               3.1   \n267     2022      4  2022 Apr  298.711               1.0               3.1   \n268     2022      5  2022 May  302.038               1.1               3.2   \n269     2022      6  2022 Jun  305.041               1.0               3.1   \n270     2022      7  2022 Jul  308.532               1.1               3.3   \n271     2022      8  2022 Aug  310.875               0.8               2.9   \n272     2022      9  2022 Sep  313.142               0.7               2.7   \n273     2022     10  2022 Oct  315.323               0.7               2.2   \n274     2022     11  2022 Nov  315.857               0.2               1.6   \n275     2022     12  2022 Dec  316.839               0.3               1.2   \n276     2023      1  2023 Jan  319.136               0.7               1.2   \n277     2023      2  2023 Feb  320.569               0.4               1.5   \n278     2023      3  2023 Mar  320.863               0.1               1.3   \n279     2023      4  2023 Apr  321.566               0.2               0.8   \n280     2023      5  2023 May  322.249               0.2               0.5   \n281     2023      6  2023 Jun  322.556               0.1               0.5   \n282     2023      7  2023 Jul  323.523               0.3               0.6   \n283     2023      8  2023 Aug  324.100               0.2               0.6   \n284     2023      9  2023 Sep  324.704               0.2               0.7   \n285     2023     10  2023 Oct  325.731               0.3               0.7   \n286     2023     11  2023 Nov  325.172              -0.2               0.3   \n287     2023     12  2023 Dec  325.409               0.1               0.2   \n\n     12-Month % Change  \n240                1.8  \n241                1.8  \n242                1.9  \n243                3.5  \n244                4.0  \n245                4.5  \n246                4.1  \n247                4.1  \n248                3.9  \n249                3.9  \n250                3.7  \n251                3.9  \n252                3.8  \n253                3.6  \n254                3.5  \n255                2.4  \n256                2.2  \n257                2.4  \n258                3.4  \n259                3.7  \n260                4.6  \n261                5.3  \n262                6.1  \n263                6.3  \n264                7.0  \n265                7.9  \n266                8.8  \n267                9.4  \n268               10.1  \n269               10.4  \n270               10.9  \n271               11.4  \n272               11.2  \n273               10.9  \n274               10.6  \n275               10.4  \n276               10.1  \n277                9.5  \n278                8.5  \n279                7.7  \n280                6.7  \n281                5.7  \n282                4.9  \n283                4.3  \n284                3.7  \n285                3.3  \n286                2.9  \n287                2.7  ",
      "text/html": "<div>\n<style scoped>\n    .dataframe tbody tr th:only-of-type {\n        vertical-align: middle;\n    }\n\n    .dataframe tbody tr th {\n        vertical-align: top;\n    }\n\n    .dataframe thead th {\n        text-align: right;\n    }\n</style>\n<table border=\"1\" class=\"dataframe\">\n  <thead>\n    <tr style=\"text-align: right;\">\n      <th></th>\n      <th>Fisc Yr</th>\n      <th>Month</th>\n      <th>Label</th>\n      <th>Value</th>\n      <th>1-Month % Change</th>\n      <th>3-Month % Change</th>\n      <th>12-Month % Change</th>\n    </tr>\n  </thead>\n  <tbody>\n    <tr>\n      <th>240</th>\n      <td>2020</td>\n      <td>1</td>\n      <td>2020 Jan</td>\n      <td>261.057</td>\n      <td>0.5</td>\n      <td>0.5</td>\n      <td>1.8</td>\n    </tr>\n    <tr>\n      <th>241</th>\n      <td>2020</td>\n      <td>2</td>\n      <td>2020 Feb</td>\n      <td>261.876</td>\n      <td>0.3</td>\n      <td>0.9</td>\n      <td>1.8</td>\n    </tr>\n    <tr>\n      <th>242</th>\n      <td>2020</td>\n      <td>3</td>\n      <td>2020 Mar</td>\n      <td>262.708</td>\n      <td>0.3</td>\n      <td>1.1</td>\n      <td>1.9</td>\n    </tr>\n    <tr>\n      <th>243</th>\n      <td>2020</td>\n      <td>4</td>\n      <td>2020 Apr</td>\n      <td>266.757</td>\n      <td>1.5</td>\n      <td>2.2</td>\n      <td>3.5</td>\n    </tr>\n    <tr>\n      <th>244</th>\n      <td>2020</td>\n      <td>5</td>\n      <td>2020 May</td>\n      <td>268.439</td>\n      <td>0.6</td>\n      <td>2.5</td>\n      <td>4.0</td>\n    </tr>\n    <tr>\n      <th>245</th>\n      <td>2020</td>\n      <td>6</td>\n      <td>2020 Jun</td>\n      <td>269.770</td>\n      <td>0.5</td>\n      <td>2.7</td>\n      <td>4.5</td>\n    </tr>\n    <tr>\n      <th>246</th>\n      <td>2020</td>\n      <td>7</td>\n      <td>2020 Jul</td>\n      <td>268.863</td>\n      <td>-0.3</td>\n      <td>0.8</td>\n      <td>4.1</td>\n    </tr>\n    <tr>\n      <th>247</th>\n      <td>2020</td>\n      <td>8</td>\n      <td>2020 Aug</td>\n      <td>269.079</td>\n      <td>0.1</td>\n      <td>0.2</td>\n      <td>4.1</td>\n    </tr>\n    <tr>\n      <th>248</th>\n      <td>2020</td>\n      <td>9</td>\n      <td>2020 Sep</td>\n      <td>269.163</td>\n      <td>0.0</td>\n      <td>-0.2</td>\n      <td>3.9</td>\n    </tr>\n    <tr>\n      <th>249</th>\n      <td>2020</td>\n      <td>10</td>\n      <td>2020 Oct</td>\n      <td>269.828</td>\n      <td>0.2</td>\n      <td>0.4</td>\n      <td>3.9</td>\n    </tr>\n    <tr>\n      <th>250</th>\n      <td>2020</td>\n      <td>11</td>\n      <td>2020 Nov</td>\n      <td>269.069</td>\n      <td>-0.3</td>\n      <td>0.0</td>\n      <td>3.7</td>\n    </tr>\n    <tr>\n      <th>251</th>\n      <td>2020</td>\n      <td>12</td>\n      <td>2020 Dec</td>\n      <td>270.023</td>\n      <td>0.4</td>\n      <td>0.3</td>\n      <td>3.9</td>\n    </tr>\n    <tr>\n      <th>252</th>\n      <td>2021</td>\n      <td>1</td>\n      <td>2021 Jan</td>\n      <td>270.938</td>\n      <td>0.3</td>\n      <td>0.4</td>\n      <td>3.8</td>\n    </tr>\n    <tr>\n      <th>253</th>\n      <td>2021</td>\n      <td>2</td>\n      <td>2021 Feb</td>\n      <td>271.363</td>\n      <td>0.2</td>\n      <td>0.9</td>\n      <td>3.6</td>\n    </tr>\n    <tr>\n      <th>254</th>\n      <td>2021</td>\n      <td>3</td>\n      <td>2021 Mar</td>\n      <td>271.812</td>\n      <td>0.2</td>\n      <td>0.7</td>\n      <td>3.5</td>\n    </tr>\n    <tr>\n      <th>255</th>\n      <td>2021</td>\n      <td>4</td>\n      <td>2021 Apr</td>\n      <td>273.090</td>\n      <td>0.5</td>\n      <td>0.8</td>\n      <td>2.4</td>\n    </tr>\n    <tr>\n      <th>256</th>\n      <td>2021</td>\n      <td>5</td>\n      <td>2021 May</td>\n      <td>274.212</td>\n      <td>0.4</td>\n      <td>1.0</td>\n      <td>2.2</td>\n    </tr>\n    <tr>\n      <th>257</th>\n      <td>2021</td>\n      <td>6</td>\n      <td>2021 Jun</td>\n      <td>276.206</td>\n      <td>0.7</td>\n      <td>1.6</td>\n      <td>2.4</td>\n    </tr>\n    <tr>\n      <th>258</th>\n      <td>2021</td>\n      <td>7</td>\n      <td>2021 Jul</td>\n      <td>278.127</td>\n      <td>0.7</td>\n      <td>1.8</td>\n      <td>3.4</td>\n    </tr>\n    <tr>\n      <th>259</th>\n      <td>2021</td>\n      <td>8</td>\n      <td>2021 Aug</td>\n      <td>279.135</td>\n      <td>0.4</td>\n      <td>1.8</td>\n      <td>3.7</td>\n    </tr>\n    <tr>\n      <th>260</th>\n      <td>2021</td>\n      <td>9</td>\n      <td>2021 Sep</td>\n      <td>281.506</td>\n      <td>0.8</td>\n      <td>1.9</td>\n      <td>4.6</td>\n    </tr>\n    <tr>\n      <th>261</th>\n      <td>2021</td>\n      <td>10</td>\n      <td>2021 Oct</td>\n      <td>284.205</td>\n      <td>1.0</td>\n      <td>2.2</td>\n      <td>5.3</td>\n    </tr>\n    <tr>\n      <th>262</th>\n      <td>2021</td>\n      <td>11</td>\n      <td>2021 Nov</td>\n      <td>285.507</td>\n      <td>0.5</td>\n      <td>2.3</td>\n      <td>6.1</td>\n    </tr>\n    <tr>\n      <th>263</th>\n      <td>2021</td>\n      <td>12</td>\n      <td>2021 Dec</td>\n      <td>286.966</td>\n      <td>0.5</td>\n      <td>1.9</td>\n      <td>6.3</td>\n    </tr>\n    <tr>\n      <th>264</th>\n      <td>2022</td>\n      <td>1</td>\n      <td>2022 Jan</td>\n      <td>289.772</td>\n      <td>1.0</td>\n      <td>2.0</td>\n      <td>7.0</td>\n    </tr>\n    <tr>\n      <th>265</th>\n      <td>2022</td>\n      <td>2</td>\n      <td>2022 Feb</td>\n      <td>292.794</td>\n      <td>1.0</td>\n      <td>2.6</td>\n      <td>7.9</td>\n    </tr>\n    <tr>\n      <th>266</th>\n      <td>2022</td>\n      <td>3</td>\n      <td>2022 Mar</td>\n      <td>295.728</td>\n      <td>1.0</td>\n      <td>3.1</td>\n      <td>8.8</td>\n    </tr>\n    <tr>\n      <th>267</th>\n      <td>2022</td>\n      <td>4</td>\n      <td>2022 Apr</td>\n      <td>298.711</td>\n      <td>1.0</td>\n      <td>3.1</td>\n      <td>9.4</td>\n    </tr>\n    <tr>\n      <th>268</th>\n      <td>2022</td>\n      <td>5</td>\n      <td>2022 May</td>\n      <td>302.038</td>\n      <td>1.1</td>\n      <td>3.2</td>\n      <td>10.1</td>\n    </tr>\n    <tr>\n      <th>269</th>\n      <td>2022</td>\n      <td>6</td>\n      <td>2022 Jun</td>\n      <td>305.041</td>\n      <td>1.0</td>\n      <td>3.1</td>\n      <td>10.4</td>\n    </tr>\n    <tr>\n      <th>270</th>\n      <td>2022</td>\n      <td>7</td>\n      <td>2022 Jul</td>\n      <td>308.532</td>\n      <td>1.1</td>\n      <td>3.3</td>\n      <td>10.9</td>\n    </tr>\n    <tr>\n      <th>271</th>\n      <td>2022</td>\n      <td>8</td>\n      <td>2022 Aug</td>\n      <td>310.875</td>\n      <td>0.8</td>\n      <td>2.9</td>\n      <td>11.4</td>\n    </tr>\n    <tr>\n      <th>272</th>\n      <td>2022</td>\n      <td>9</td>\n      <td>2022 Sep</td>\n      <td>313.142</td>\n      <td>0.7</td>\n      <td>2.7</td>\n      <td>11.2</td>\n    </tr>\n    <tr>\n      <th>273</th>\n      <td>2022</td>\n      <td>10</td>\n      <td>2022 Oct</td>\n      <td>315.323</td>\n      <td>0.7</td>\n      <td>2.2</td>\n      <td>10.9</td>\n    </tr>\n    <tr>\n      <th>274</th>\n      <td>2022</td>\n      <td>11</td>\n      <td>2022 Nov</td>\n      <td>315.857</td>\n      <td>0.2</td>\n      <td>1.6</td>\n      <td>10.6</td>\n    </tr>\n    <tr>\n      <th>275</th>\n      <td>2022</td>\n      <td>12</td>\n      <td>2022 Dec</td>\n      <td>316.839</td>\n      <td>0.3</td>\n      <td>1.2</td>\n      <td>10.4</td>\n    </tr>\n    <tr>\n      <th>276</th>\n      <td>2023</td>\n      <td>1</td>\n      <td>2023 Jan</td>\n      <td>319.136</td>\n      <td>0.7</td>\n      <td>1.2</td>\n      <td>10.1</td>\n    </tr>\n    <tr>\n      <th>277</th>\n      <td>2023</td>\n      <td>2</td>\n      <td>2023 Feb</td>\n      <td>320.569</td>\n      <td>0.4</td>\n      <td>1.5</td>\n      <td>9.5</td>\n    </tr>\n    <tr>\n      <th>278</th>\n      <td>2023</td>\n      <td>3</td>\n      <td>2023 Mar</td>\n      <td>320.863</td>\n      <td>0.1</td>\n      <td>1.3</td>\n      <td>8.5</td>\n    </tr>\n    <tr>\n      <th>279</th>\n      <td>2023</td>\n      <td>4</td>\n      <td>2023 Apr</td>\n      <td>321.566</td>\n      <td>0.2</td>\n      <td>0.8</td>\n      <td>7.7</td>\n    </tr>\n    <tr>\n      <th>280</th>\n      <td>2023</td>\n      <td>5</td>\n      <td>2023 May</td>\n      <td>322.249</td>\n      <td>0.2</td>\n      <td>0.5</td>\n      <td>6.7</td>\n    </tr>\n    <tr>\n      <th>281</th>\n      <td>2023</td>\n      <td>6</td>\n      <td>2023 Jun</td>\n      <td>322.556</td>\n      <td>0.1</td>\n      <td>0.5</td>\n      <td>5.7</td>\n    </tr>\n    <tr>\n      <th>282</th>\n      <td>2023</td>\n      <td>7</td>\n      <td>2023 Jul</td>\n      <td>323.523</td>\n      <td>0.3</td>\n      <td>0.6</td>\n      <td>4.9</td>\n    </tr>\n    <tr>\n      <th>283</th>\n      <td>2023</td>\n      <td>8</td>\n      <td>2023 Aug</td>\n      <td>324.100</td>\n      <td>0.2</td>\n      <td>0.6</td>\n      <td>4.3</td>\n    </tr>\n    <tr>\n      <th>284</th>\n      <td>2023</td>\n      <td>9</td>\n      <td>2023 Sep</td>\n      <td>324.704</td>\n      <td>0.2</td>\n      <td>0.7</td>\n      <td>3.7</td>\n    </tr>\n    <tr>\n      <th>285</th>\n      <td>2023</td>\n      <td>10</td>\n      <td>2023 Oct</td>\n      <td>325.731</td>\n      <td>0.3</td>\n      <td>0.7</td>\n      <td>3.3</td>\n    </tr>\n    <tr>\n      <th>286</th>\n      <td>2023</td>\n      <td>11</td>\n      <td>2023 Nov</td>\n      <td>325.172</td>\n      <td>-0.2</td>\n      <td>0.3</td>\n      <td>2.9</td>\n    </tr>\n    <tr>\n      <th>287</th>\n      <td>2023</td>\n      <td>12</td>\n      <td>2023 Dec</td>\n      <td>325.409</td>\n      <td>0.1</td>\n      <td>0.2</td>\n      <td>2.7</td>\n    </tr>\n  </tbody>\n</table>\n</div>"
     },
     "execution_count": 6,
     "metadata": {},
     "output_type": "execute_result"
    }
   ],
   "source": [
    "food"
   ],
   "metadata": {
    "collapsed": false,
    "ExecuteTime": {
     "end_time": "2024-03-18T10:26:25.395782500Z",
     "start_time": "2024-03-18T10:26:25.355939300Z"
    }
   },
   "id": "fe8260162042335f",
   "execution_count": 6
  },
  {
   "cell_type": "code",
   "outputs": [],
   "source": [
    "week_to_month = {\n",
    "    1: 1, 2: 1, 3: 1, 4: 1,\n",
    "    5: 1, 6: 2, 7: 2, 8: 2,\n",
    "    9: 2, 10: 3, 11: 3, 12: 3,\n",
    "    13: 3, 14: 4, 15: 4, 16: 4,\n",
    "    17: 4, 18: 5, 19: 5, 20: 5,\n",
    "    21: 5, 22: 5, 23: 6, 24: 6,\n",
    "    25: 6, 26: 6, 27: 7, 28: 7,\n",
    "    29: 7, 30: 7, 31: 8, 32: 8,\n",
    "    33: 8, 34: 8, 35: 8, 36: 9,\n",
    "    37: 9, 38: 9, 39: 9, 40: 10,\n",
    "    41: 10, 42: 10, 43: 10, 44: 10,\n",
    "    45: 11, 46: 11, 47: 11, 48: 11,\n",
    "    49: 12, 50: 12, 51: 12, 52: 12,\n",
    "    53: 12\n",
    "}\n",
    "\n",
    "# Map week numbers to month numbers using the dictionary\n",
    "agg.loc[:, 'Month'] = agg['WK'].map(week_to_month)\n",
    "\n",
    "move = agg.pop('Month')\n",
    "\n",
    "agg.insert(1, 'Month', move)\n",
    "\n",
    "agg['Month'] = agg['Month'].astype(int)"
   ],
   "metadata": {
    "collapsed": false,
    "ExecuteTime": {
     "end_time": "2024-03-18T10:30:19.850960600Z",
     "start_time": "2024-03-18T10:30:19.811559800Z"
    }
   },
   "id": "a81671283376a7ef",
   "execution_count": 13
  },
  {
   "cell_type": "code",
   "outputs": [],
   "source": [
    "temp = pd.merge(agg, food, how = 'left', on = ['Fisc Yr', 'Month'])\n",
    "temp = temp.drop(columns = ['Label', 'Value'])"
   ],
   "metadata": {
    "collapsed": false,
    "ExecuteTime": {
     "end_time": "2024-03-18T10:31:37.318774500Z",
     "start_time": "2024-03-18T10:31:37.277105900Z"
    }
   },
   "id": "c79d1da0f309ee07",
   "execution_count": 18
  },
  {
   "cell_type": "code",
   "outputs": [
    {
     "data": {
      "text/plain": "       Cal Wk  Month  Fisc Yr                       Mixd Plt Matrl Desc  WK  \\\n0      202001      1     2020                     T 4 FLVS TSTP MODX252   1   \n1      202001      1     2020                PT 1 FLV TSTP DISP TRAY X8   1   \n2      202001      1     2020           PT 1 FLV TSTP HUTCHX100 SEAS PT   1   \n3      202001      1     2020                  PT 2 FLVS BITES HUTCHX60   1   \n4      202001      1     2020                  PT 2 FLVS CRISPS SHPRX72   1   \n...       ...    ...      ...                                       ...  ..   \n62358  202352     12     2023           PT VRTY TSTP 48CT 81.2OZX1 CLUB  52   \n62359  202352     12     2023    PT WHL GRN STRW TSTP 1.69OZ 10CTX12 SS  52   \n62360  202352     12     2023  PT WHLGRN BRNSGCN TSTP 1.69OZ 10CTX12 SS  52   \n62361  202352     12     2023             PT WILD BRRY TSTP 16CT 27OZX8  52   \n62362  202352     12     2023           PT WILD BRRY TSTP 8CT 13.5OZX12  52   \n\n       Yr & Wk  Act Sc Prxy Usd  Actl Cost Of Prod Usd  Actl Ship Cs  \\\n0       2020&1             0.00                    0.0           0.0   \n1       2020&1             0.00                    0.0           0.0   \n2       2020&1            27.98                    0.0           0.0   \n3       2020&1         -2853.60                    0.0           0.0   \n4       2020&1             0.00                    0.0           0.0   \n...        ...              ...                    ...           ...   \n62358  2023&52        -41582.48                    0.0           0.0   \n62359  2023&52          -485.10                    0.0           0.0   \n62360  2023&52          -277.20                    0.0           0.0   \n62361  2023&52        -31051.06                    0.0           0.0   \n62362  2023&52        -60289.61                    0.0           0.0   \n\n       Actl Ship Kg  ...  Pln Ship Ea  Pln Ship Kg  Pln Ship Lbs  \\\n0               0.0  ...         0.00         0.00          0.00   \n1               0.0  ...         0.00         0.00          0.00   \n2               0.0  ...         0.00         0.00          0.00   \n3               0.0  ...         0.00         0.00          0.00   \n4               0.0  ...         0.00         0.00          0.00   \n...             ...  ...          ...          ...           ...   \n62358           0.0  ...     25831.57     59515.94     131198.57   \n62359           0.0  ...      4200.00       201.60        444.43   \n62360           0.0  ...       240.00       115.20        253.96   \n62361           0.0  ...     29018.75     22286.40      49132.37   \n62362           0.0  ...     66471.37     25525.07      56273.60   \n\n       Pln Ship Usd  Sugstd Base Vol Sas  Sugstd Shlf Prc Sas  \\\n0              0.00                  0.0                 0.00   \n1              0.00                  0.0                 0.00   \n2              0.00                  0.0                 0.00   \n3              0.00                  0.0                 0.00   \n4              0.00                  0.0                 0.00   \n...             ...                  ...                  ...   \n62358     289571.92              18630.0                30.56   \n62359       1764.00                 35.0                 2.99   \n62360       1008.00                 11.0                 2.99   \n62361     139290.01               5777.0                 4.99   \n62362     195425.83               5886.0               199.94   \n\n       Totl Pln Kmf Cost Of Prod Usd  1-Month % Change  3-Month % Change  \\\n0                               0.00               0.5               0.5   \n1                               0.00               0.5               0.5   \n2                               0.00               0.5               0.5   \n3                               0.00               0.5               0.5   \n4                               0.00               0.5               0.5   \n...                              ...               ...               ...   \n62358                      108492.60               0.1               0.2   \n62359                         512.05               0.1               0.2   \n62360                         253.00               0.1               0.2   \n62361                       36926.36               0.1               0.2   \n62362                       43427.99               0.1               0.2   \n\n       12-Month % Change  \n0                    1.8  \n1                    1.8  \n2                    1.8  \n3                    1.8  \n4                    1.8  \n...                  ...  \n62358                2.7  \n62359                2.7  \n62360                2.7  \n62361                2.7  \n62362                2.7  \n\n[62363 rows x 46 columns]",
      "text/html": "<div>\n<style scoped>\n    .dataframe tbody tr th:only-of-type {\n        vertical-align: middle;\n    }\n\n    .dataframe tbody tr th {\n        vertical-align: top;\n    }\n\n    .dataframe thead th {\n        text-align: right;\n    }\n</style>\n<table border=\"1\" class=\"dataframe\">\n  <thead>\n    <tr style=\"text-align: right;\">\n      <th></th>\n      <th>Cal Wk</th>\n      <th>Month</th>\n      <th>Fisc Yr</th>\n      <th>Mixd Plt Matrl Desc</th>\n      <th>WK</th>\n      <th>Yr &amp; Wk</th>\n      <th>Act Sc Prxy Usd</th>\n      <th>Actl Cost Of Prod Usd</th>\n      <th>Actl Ship Cs</th>\n      <th>Actl Ship Kg</th>\n      <th>...</th>\n      <th>Pln Ship Ea</th>\n      <th>Pln Ship Kg</th>\n      <th>Pln Ship Lbs</th>\n      <th>Pln Ship Usd</th>\n      <th>Sugstd Base Vol Sas</th>\n      <th>Sugstd Shlf Prc Sas</th>\n      <th>Totl Pln Kmf Cost Of Prod Usd</th>\n      <th>1-Month % Change</th>\n      <th>3-Month % Change</th>\n      <th>12-Month % Change</th>\n    </tr>\n  </thead>\n  <tbody>\n    <tr>\n      <th>0</th>\n      <td>202001</td>\n      <td>1</td>\n      <td>2020</td>\n      <td>T 4 FLVS TSTP MODX252</td>\n      <td>1</td>\n      <td>2020&amp;1</td>\n      <td>0.00</td>\n      <td>0.0</td>\n      <td>0.0</td>\n      <td>0.0</td>\n      <td>...</td>\n      <td>0.00</td>\n      <td>0.00</td>\n      <td>0.00</td>\n      <td>0.00</td>\n      <td>0.0</td>\n      <td>0.00</td>\n      <td>0.00</td>\n      <td>0.5</td>\n      <td>0.5</td>\n      <td>1.8</td>\n    </tr>\n    <tr>\n      <th>1</th>\n      <td>202001</td>\n      <td>1</td>\n      <td>2020</td>\n      <td>PT 1 FLV TSTP DISP TRAY X8</td>\n      <td>1</td>\n      <td>2020&amp;1</td>\n      <td>0.00</td>\n      <td>0.0</td>\n      <td>0.0</td>\n      <td>0.0</td>\n      <td>...</td>\n      <td>0.00</td>\n      <td>0.00</td>\n      <td>0.00</td>\n      <td>0.00</td>\n      <td>0.0</td>\n      <td>0.00</td>\n      <td>0.00</td>\n      <td>0.5</td>\n      <td>0.5</td>\n      <td>1.8</td>\n    </tr>\n    <tr>\n      <th>2</th>\n      <td>202001</td>\n      <td>1</td>\n      <td>2020</td>\n      <td>PT 1 FLV TSTP HUTCHX100 SEAS PT</td>\n      <td>1</td>\n      <td>2020&amp;1</td>\n      <td>27.98</td>\n      <td>0.0</td>\n      <td>0.0</td>\n      <td>0.0</td>\n      <td>...</td>\n      <td>0.00</td>\n      <td>0.00</td>\n      <td>0.00</td>\n      <td>0.00</td>\n      <td>0.0</td>\n      <td>0.00</td>\n      <td>0.00</td>\n      <td>0.5</td>\n      <td>0.5</td>\n      <td>1.8</td>\n    </tr>\n    <tr>\n      <th>3</th>\n      <td>202001</td>\n      <td>1</td>\n      <td>2020</td>\n      <td>PT 2 FLVS BITES HUTCHX60</td>\n      <td>1</td>\n      <td>2020&amp;1</td>\n      <td>-2853.60</td>\n      <td>0.0</td>\n      <td>0.0</td>\n      <td>0.0</td>\n      <td>...</td>\n      <td>0.00</td>\n      <td>0.00</td>\n      <td>0.00</td>\n      <td>0.00</td>\n      <td>0.0</td>\n      <td>0.00</td>\n      <td>0.00</td>\n      <td>0.5</td>\n      <td>0.5</td>\n      <td>1.8</td>\n    </tr>\n    <tr>\n      <th>4</th>\n      <td>202001</td>\n      <td>1</td>\n      <td>2020</td>\n      <td>PT 2 FLVS CRISPS SHPRX72</td>\n      <td>1</td>\n      <td>2020&amp;1</td>\n      <td>0.00</td>\n      <td>0.0</td>\n      <td>0.0</td>\n      <td>0.0</td>\n      <td>...</td>\n      <td>0.00</td>\n      <td>0.00</td>\n      <td>0.00</td>\n      <td>0.00</td>\n      <td>0.0</td>\n      <td>0.00</td>\n      <td>0.00</td>\n      <td>0.5</td>\n      <td>0.5</td>\n      <td>1.8</td>\n    </tr>\n    <tr>\n      <th>...</th>\n      <td>...</td>\n      <td>...</td>\n      <td>...</td>\n      <td>...</td>\n      <td>...</td>\n      <td>...</td>\n      <td>...</td>\n      <td>...</td>\n      <td>...</td>\n      <td>...</td>\n      <td>...</td>\n      <td>...</td>\n      <td>...</td>\n      <td>...</td>\n      <td>...</td>\n      <td>...</td>\n      <td>...</td>\n      <td>...</td>\n      <td>...</td>\n      <td>...</td>\n      <td>...</td>\n    </tr>\n    <tr>\n      <th>62358</th>\n      <td>202352</td>\n      <td>12</td>\n      <td>2023</td>\n      <td>PT VRTY TSTP 48CT 81.2OZX1 CLUB</td>\n      <td>52</td>\n      <td>2023&amp;52</td>\n      <td>-41582.48</td>\n      <td>0.0</td>\n      <td>0.0</td>\n      <td>0.0</td>\n      <td>...</td>\n      <td>25831.57</td>\n      <td>59515.94</td>\n      <td>131198.57</td>\n      <td>289571.92</td>\n      <td>18630.0</td>\n      <td>30.56</td>\n      <td>108492.60</td>\n      <td>0.1</td>\n      <td>0.2</td>\n      <td>2.7</td>\n    </tr>\n    <tr>\n      <th>62359</th>\n      <td>202352</td>\n      <td>12</td>\n      <td>2023</td>\n      <td>PT WHL GRN STRW TSTP 1.69OZ 10CTX12 SS</td>\n      <td>52</td>\n      <td>2023&amp;52</td>\n      <td>-485.10</td>\n      <td>0.0</td>\n      <td>0.0</td>\n      <td>0.0</td>\n      <td>...</td>\n      <td>4200.00</td>\n      <td>201.60</td>\n      <td>444.43</td>\n      <td>1764.00</td>\n      <td>35.0</td>\n      <td>2.99</td>\n      <td>512.05</td>\n      <td>0.1</td>\n      <td>0.2</td>\n      <td>2.7</td>\n    </tr>\n    <tr>\n      <th>62360</th>\n      <td>202352</td>\n      <td>12</td>\n      <td>2023</td>\n      <td>PT WHLGRN BRNSGCN TSTP 1.69OZ 10CTX12 SS</td>\n      <td>52</td>\n      <td>2023&amp;52</td>\n      <td>-277.20</td>\n      <td>0.0</td>\n      <td>0.0</td>\n      <td>0.0</td>\n      <td>...</td>\n      <td>240.00</td>\n      <td>115.20</td>\n      <td>253.96</td>\n      <td>1008.00</td>\n      <td>11.0</td>\n      <td>2.99</td>\n      <td>253.00</td>\n      <td>0.1</td>\n      <td>0.2</td>\n      <td>2.7</td>\n    </tr>\n    <tr>\n      <th>62361</th>\n      <td>202352</td>\n      <td>12</td>\n      <td>2023</td>\n      <td>PT WILD BRRY TSTP 16CT 27OZX8</td>\n      <td>52</td>\n      <td>2023&amp;52</td>\n      <td>-31051.06</td>\n      <td>0.0</td>\n      <td>0.0</td>\n      <td>0.0</td>\n      <td>...</td>\n      <td>29018.75</td>\n      <td>22286.40</td>\n      <td>49132.37</td>\n      <td>139290.01</td>\n      <td>5777.0</td>\n      <td>4.99</td>\n      <td>36926.36</td>\n      <td>0.1</td>\n      <td>0.2</td>\n      <td>2.7</td>\n    </tr>\n    <tr>\n      <th>62362</th>\n      <td>202352</td>\n      <td>12</td>\n      <td>2023</td>\n      <td>PT WILD BRRY TSTP 8CT 13.5OZX12</td>\n      <td>52</td>\n      <td>2023&amp;52</td>\n      <td>-60289.61</td>\n      <td>0.0</td>\n      <td>0.0</td>\n      <td>0.0</td>\n      <td>...</td>\n      <td>66471.37</td>\n      <td>25525.07</td>\n      <td>56273.60</td>\n      <td>195425.83</td>\n      <td>5886.0</td>\n      <td>199.94</td>\n      <td>43427.99</td>\n      <td>0.1</td>\n      <td>0.2</td>\n      <td>2.7</td>\n    </tr>\n  </tbody>\n</table>\n<p>62363 rows × 46 columns</p>\n</div>"
     },
     "execution_count": 19,
     "metadata": {},
     "output_type": "execute_result"
    }
   ],
   "source": [
    "temp"
   ],
   "metadata": {
    "collapsed": false,
    "ExecuteTime": {
     "end_time": "2024-03-18T10:31:38.516080700Z",
     "start_time": "2024-03-18T10:31:38.465643100Z"
    }
   },
   "id": "237b8cebcf42626b",
   "execution_count": 19
  },
  {
   "cell_type": "code",
   "outputs": [
    {
     "data": {
      "text/plain": "Mixd Plt Matrl Desc\nPT FRSTD BRN SGR CIN TSTP 8CT 13.5OZX12    209\nName: count, dtype: int64"
     },
     "execution_count": 36,
     "metadata": {},
     "output_type": "execute_result"
    }
   ],
   "source": [
    "temp['Mixd Plt Matrl Desc'].value_counts()"
   ],
   "metadata": {
    "collapsed": false,
    "ExecuteTime": {
     "end_time": "2024-03-18T11:03:10.193618400Z",
     "start_time": "2024-03-18T11:03:10.164191100Z"
    }
   },
   "id": "eae37fdee38a414b",
   "execution_count": 36
  },
  {
   "cell_type": "markdown",
   "source": [
    "# MODEL"
   ],
   "metadata": {
    "collapsed": false
   },
   "id": "b6169beb72653c25"
  },
  {
   "cell_type": "markdown",
   "source": [
    "'Act Sc Prxy Usd', 'Actl Cost Of Prod Usd', 'Actl Ship Cs',\n",
    "                    'Actl Ship Kg', 'Actl Ship Lbs', 'Actl Ship Units',\n",
    "                    'Actl Ship Usd',"
   ],
   "metadata": {
    "collapsed": false
   },
   "id": "dec22332b3ffd10"
  },
  {
   "cell_type": "code",
   "outputs": [],
   "source": [
    "temp = temp[temp['Mixd Plt Matrl Desc'] == 'PT FRSTD BRN SGR CIN TSTP 8CT 13.5OZX12']"
   ],
   "metadata": {
    "collapsed": false,
    "ExecuteTime": {
     "end_time": "2024-03-18T11:08:17.176805300Z",
     "start_time": "2024-03-18T11:08:17.148158600Z"
    }
   },
   "id": "351dbe80842e56b",
   "execution_count": 39
  },
  {
   "cell_type": "code",
   "outputs": [
    {
     "data": {
      "text/plain": "       Cal Wk  Month  Fisc Yr                      Mixd Plt Matrl Desc  WK  \\\n231    202001      1     2020  PT FRSTD BRN SGR CIN TSTP 8CT 13.5OZX12   1   \n593    202002      1     2020  PT FRSTD BRN SGR CIN TSTP 8CT 13.5OZX12   2   \n963    202003      1     2020  PT FRSTD BRN SGR CIN TSTP 8CT 13.5OZX12   3   \n1324   202004      1     2020  PT FRSTD BRN SGR CIN TSTP 8CT 13.5OZX12   4   \n1697   202005      1     2020  PT FRSTD BRN SGR CIN TSTP 8CT 13.5OZX12   5   \n...       ...    ...      ...                                      ...  ..   \n61368  202348     11     2023  PT FRSTD BRN SGR CIN TSTP 8CT 13.5OZX12  48   \n61605  202349     12     2023  PT FRSTD BRN SGR CIN TSTP 8CT 13.5OZX12  49   \n61837  202350     12     2023  PT FRSTD BRN SGR CIN TSTP 8CT 13.5OZX12  50   \n62058  202351     12     2023  PT FRSTD BRN SGR CIN TSTP 8CT 13.5OZX12  51   \n62275  202352     12     2023  PT FRSTD BRN SGR CIN TSTP 8CT 13.5OZX12  52   \n\n       Yr & Wk  Act Sc Prxy Usd  Actl Cost Of Prod Usd  Actl Ship Cs  \\\n231     2020&1         17306.55               24076.33       3140.08   \n593     2020&2        441190.12              132355.90      23585.29   \n963     2020&3        176019.12               58057.50      10299.20   \n1324    2020&4        393807.86              120465.50      22720.62   \n1697    2020&5        292787.06               94375.72      18063.42   \n...        ...              ...                    ...           ...   \n61368  2023&48       -244112.77                   0.00          0.00   \n61605  2023&49       -254941.28                   0.00          0.00   \n61837  2023&50       -283248.38                   0.00          0.00   \n62058  2023&51       -237473.12                   0.00          0.00   \n62275  2023&52       -213563.97                   0.00          0.00   \n\n       Actl Ship Kg  ...  Pln Ship Ea  Pln Ship Kg  Pln Ship Lbs  \\\n231        14469.72  ...    213706.98     82063.63     180920.80   \n593       108682.72  ...    212010.44     81412.16     179484.56   \n963        47459.38  ...    239509.44     91971.93     202764.80   \n1324      104695.92  ...    225610.91     86634.83     190998.57   \n1697       83236.89  ...    226553.38     86996.60     191796.40   \n...             ...  ...          ...          ...           ...   \n61368          0.00  ...    330594.08    126948.60     279875.52   \n61605          0.00  ...    309180.50    118725.68     261747.11   \n61837          0.00  ...    376101.21    144423.55     318401.07   \n62058          0.00  ...    319927.65    122852.74     270845.49   \n62275          0.00  ...    284251.87    109153.07     240642.92   \n\n       Pln Ship Usd  Sugstd Base Vol Sas  Sugstd Shlf Prc Sas  \\\n231       478621.40              17977.0               194.63   \n593       475961.31              18228.0               194.63   \n963       535365.61              18071.0               194.63   \n1324      506793.93              17755.0               194.63   \n1697      507525.72              17785.0               194.63   \n...             ...                  ...                  ...   \n61368     953951.07              22083.0               293.99   \n61605     902708.14              22385.0               293.99   \n61837    1100481.67              22318.0               293.99   \n62058     935333.88              22203.0               293.99   \n62275     830487.82              21967.0               293.99   \n\n       Totl Pln Kmf Cost Of Prod Usd  1-Month % Change  3-Month % Change  \\\n231                        118314.28               0.5               0.5   \n593                        117266.23               0.5               0.5   \n963                        132712.11               0.5               0.5   \n1324                       124850.08               0.5               0.5   \n1697                       125007.86               0.5               0.5   \n...                              ...               ...               ...   \n61368                      194224.05              -0.2               0.3   \n61605                      181643.60               0.1               0.2   \n61837                      220959.50               0.1               0.2   \n62058                      187957.53               0.1               0.2   \n62275                      166997.95               0.1               0.2   \n\n       12-Month % Change  \n231                  1.8  \n593                  1.8  \n963                  1.8  \n1324                 1.8  \n1697                 1.8  \n...                  ...  \n61368                2.9  \n61605                2.7  \n61837                2.7  \n62058                2.7  \n62275                2.7  \n\n[209 rows x 46 columns]",
      "text/html": "<div>\n<style scoped>\n    .dataframe tbody tr th:only-of-type {\n        vertical-align: middle;\n    }\n\n    .dataframe tbody tr th {\n        vertical-align: top;\n    }\n\n    .dataframe thead th {\n        text-align: right;\n    }\n</style>\n<table border=\"1\" class=\"dataframe\">\n  <thead>\n    <tr style=\"text-align: right;\">\n      <th></th>\n      <th>Cal Wk</th>\n      <th>Month</th>\n      <th>Fisc Yr</th>\n      <th>Mixd Plt Matrl Desc</th>\n      <th>WK</th>\n      <th>Yr &amp; Wk</th>\n      <th>Act Sc Prxy Usd</th>\n      <th>Actl Cost Of Prod Usd</th>\n      <th>Actl Ship Cs</th>\n      <th>Actl Ship Kg</th>\n      <th>...</th>\n      <th>Pln Ship Ea</th>\n      <th>Pln Ship Kg</th>\n      <th>Pln Ship Lbs</th>\n      <th>Pln Ship Usd</th>\n      <th>Sugstd Base Vol Sas</th>\n      <th>Sugstd Shlf Prc Sas</th>\n      <th>Totl Pln Kmf Cost Of Prod Usd</th>\n      <th>1-Month % Change</th>\n      <th>3-Month % Change</th>\n      <th>12-Month % Change</th>\n    </tr>\n  </thead>\n  <tbody>\n    <tr>\n      <th>231</th>\n      <td>202001</td>\n      <td>1</td>\n      <td>2020</td>\n      <td>PT FRSTD BRN SGR CIN TSTP 8CT 13.5OZX12</td>\n      <td>1</td>\n      <td>2020&amp;1</td>\n      <td>17306.55</td>\n      <td>24076.33</td>\n      <td>3140.08</td>\n      <td>14469.72</td>\n      <td>...</td>\n      <td>213706.98</td>\n      <td>82063.63</td>\n      <td>180920.80</td>\n      <td>478621.40</td>\n      <td>17977.0</td>\n      <td>194.63</td>\n      <td>118314.28</td>\n      <td>0.5</td>\n      <td>0.5</td>\n      <td>1.8</td>\n    </tr>\n    <tr>\n      <th>593</th>\n      <td>202002</td>\n      <td>1</td>\n      <td>2020</td>\n      <td>PT FRSTD BRN SGR CIN TSTP 8CT 13.5OZX12</td>\n      <td>2</td>\n      <td>2020&amp;2</td>\n      <td>441190.12</td>\n      <td>132355.90</td>\n      <td>23585.29</td>\n      <td>108682.72</td>\n      <td>...</td>\n      <td>212010.44</td>\n      <td>81412.16</td>\n      <td>179484.56</td>\n      <td>475961.31</td>\n      <td>18228.0</td>\n      <td>194.63</td>\n      <td>117266.23</td>\n      <td>0.5</td>\n      <td>0.5</td>\n      <td>1.8</td>\n    </tr>\n    <tr>\n      <th>963</th>\n      <td>202003</td>\n      <td>1</td>\n      <td>2020</td>\n      <td>PT FRSTD BRN SGR CIN TSTP 8CT 13.5OZX12</td>\n      <td>3</td>\n      <td>2020&amp;3</td>\n      <td>176019.12</td>\n      <td>58057.50</td>\n      <td>10299.20</td>\n      <td>47459.38</td>\n      <td>...</td>\n      <td>239509.44</td>\n      <td>91971.93</td>\n      <td>202764.80</td>\n      <td>535365.61</td>\n      <td>18071.0</td>\n      <td>194.63</td>\n      <td>132712.11</td>\n      <td>0.5</td>\n      <td>0.5</td>\n      <td>1.8</td>\n    </tr>\n    <tr>\n      <th>1324</th>\n      <td>202004</td>\n      <td>1</td>\n      <td>2020</td>\n      <td>PT FRSTD BRN SGR CIN TSTP 8CT 13.5OZX12</td>\n      <td>4</td>\n      <td>2020&amp;4</td>\n      <td>393807.86</td>\n      <td>120465.50</td>\n      <td>22720.62</td>\n      <td>104695.92</td>\n      <td>...</td>\n      <td>225610.91</td>\n      <td>86634.83</td>\n      <td>190998.57</td>\n      <td>506793.93</td>\n      <td>17755.0</td>\n      <td>194.63</td>\n      <td>124850.08</td>\n      <td>0.5</td>\n      <td>0.5</td>\n      <td>1.8</td>\n    </tr>\n    <tr>\n      <th>1697</th>\n      <td>202005</td>\n      <td>1</td>\n      <td>2020</td>\n      <td>PT FRSTD BRN SGR CIN TSTP 8CT 13.5OZX12</td>\n      <td>5</td>\n      <td>2020&amp;5</td>\n      <td>292787.06</td>\n      <td>94375.72</td>\n      <td>18063.42</td>\n      <td>83236.89</td>\n      <td>...</td>\n      <td>226553.38</td>\n      <td>86996.60</td>\n      <td>191796.40</td>\n      <td>507525.72</td>\n      <td>17785.0</td>\n      <td>194.63</td>\n      <td>125007.86</td>\n      <td>0.5</td>\n      <td>0.5</td>\n      <td>1.8</td>\n    </tr>\n    <tr>\n      <th>...</th>\n      <td>...</td>\n      <td>...</td>\n      <td>...</td>\n      <td>...</td>\n      <td>...</td>\n      <td>...</td>\n      <td>...</td>\n      <td>...</td>\n      <td>...</td>\n      <td>...</td>\n      <td>...</td>\n      <td>...</td>\n      <td>...</td>\n      <td>...</td>\n      <td>...</td>\n      <td>...</td>\n      <td>...</td>\n      <td>...</td>\n      <td>...</td>\n      <td>...</td>\n      <td>...</td>\n    </tr>\n    <tr>\n      <th>61368</th>\n      <td>202348</td>\n      <td>11</td>\n      <td>2023</td>\n      <td>PT FRSTD BRN SGR CIN TSTP 8CT 13.5OZX12</td>\n      <td>48</td>\n      <td>2023&amp;48</td>\n      <td>-244112.77</td>\n      <td>0.00</td>\n      <td>0.00</td>\n      <td>0.00</td>\n      <td>...</td>\n      <td>330594.08</td>\n      <td>126948.60</td>\n      <td>279875.52</td>\n      <td>953951.07</td>\n      <td>22083.0</td>\n      <td>293.99</td>\n      <td>194224.05</td>\n      <td>-0.2</td>\n      <td>0.3</td>\n      <td>2.9</td>\n    </tr>\n    <tr>\n      <th>61605</th>\n      <td>202349</td>\n      <td>12</td>\n      <td>2023</td>\n      <td>PT FRSTD BRN SGR CIN TSTP 8CT 13.5OZX12</td>\n      <td>49</td>\n      <td>2023&amp;49</td>\n      <td>-254941.28</td>\n      <td>0.00</td>\n      <td>0.00</td>\n      <td>0.00</td>\n      <td>...</td>\n      <td>309180.50</td>\n      <td>118725.68</td>\n      <td>261747.11</td>\n      <td>902708.14</td>\n      <td>22385.0</td>\n      <td>293.99</td>\n      <td>181643.60</td>\n      <td>0.1</td>\n      <td>0.2</td>\n      <td>2.7</td>\n    </tr>\n    <tr>\n      <th>61837</th>\n      <td>202350</td>\n      <td>12</td>\n      <td>2023</td>\n      <td>PT FRSTD BRN SGR CIN TSTP 8CT 13.5OZX12</td>\n      <td>50</td>\n      <td>2023&amp;50</td>\n      <td>-283248.38</td>\n      <td>0.00</td>\n      <td>0.00</td>\n      <td>0.00</td>\n      <td>...</td>\n      <td>376101.21</td>\n      <td>144423.55</td>\n      <td>318401.07</td>\n      <td>1100481.67</td>\n      <td>22318.0</td>\n      <td>293.99</td>\n      <td>220959.50</td>\n      <td>0.1</td>\n      <td>0.2</td>\n      <td>2.7</td>\n    </tr>\n    <tr>\n      <th>62058</th>\n      <td>202351</td>\n      <td>12</td>\n      <td>2023</td>\n      <td>PT FRSTD BRN SGR CIN TSTP 8CT 13.5OZX12</td>\n      <td>51</td>\n      <td>2023&amp;51</td>\n      <td>-237473.12</td>\n      <td>0.00</td>\n      <td>0.00</td>\n      <td>0.00</td>\n      <td>...</td>\n      <td>319927.65</td>\n      <td>122852.74</td>\n      <td>270845.49</td>\n      <td>935333.88</td>\n      <td>22203.0</td>\n      <td>293.99</td>\n      <td>187957.53</td>\n      <td>0.1</td>\n      <td>0.2</td>\n      <td>2.7</td>\n    </tr>\n    <tr>\n      <th>62275</th>\n      <td>202352</td>\n      <td>12</td>\n      <td>2023</td>\n      <td>PT FRSTD BRN SGR CIN TSTP 8CT 13.5OZX12</td>\n      <td>52</td>\n      <td>2023&amp;52</td>\n      <td>-213563.97</td>\n      <td>0.00</td>\n      <td>0.00</td>\n      <td>0.00</td>\n      <td>...</td>\n      <td>284251.87</td>\n      <td>109153.07</td>\n      <td>240642.92</td>\n      <td>830487.82</td>\n      <td>21967.0</td>\n      <td>293.99</td>\n      <td>166997.95</td>\n      <td>0.1</td>\n      <td>0.2</td>\n      <td>2.7</td>\n    </tr>\n  </tbody>\n</table>\n<p>209 rows × 46 columns</p>\n</div>"
     },
     "execution_count": 38,
     "metadata": {},
     "output_type": "execute_result"
    }
   ],
   "source": [
    "temp"
   ],
   "metadata": {
    "collapsed": false,
    "ExecuteTime": {
     "end_time": "2024-03-18T11:04:37.622309200Z",
     "start_time": "2024-03-18T11:04:37.580492100Z"
    }
   },
   "id": "500e814f979d137",
   "execution_count": 38
  },
  {
   "cell_type": "code",
   "outputs": [
    {
     "name": "stdout",
     "output_type": "stream",
     "text": [
      "Epoch 1/250\n"
     ]
    },
    {
     "name": "stderr",
     "output_type": "stream",
     "text": [
      "C:\\Users\\bpawl\\Desktop\\CMSE 495\\python311\\.venv\\Lib\\site-packages\\keras\\src\\layers\\rnn\\rnn.py:205: UserWarning: Do not pass an `input_shape`/`input_dim` argument to a layer. When using Sequential models, prefer using an `Input(shape)` object as the first layer in the model instead.\n",
      "  super().__init__(**kwargs)\n"
     ]
    },
    {
     "name": "stdout",
     "output_type": "stream",
     "text": [
      "\u001B[1m5/5\u001B[0m \u001B[32m━━━━━━━━━━━━━━━━━━━━\u001B[0m\u001B[37m\u001B[0m \u001B[1m1s\u001B[0m 2ms/step - loss: 0.9062\n",
      "Epoch 2/250\n",
      "\u001B[1m5/5\u001B[0m \u001B[32m━━━━━━━━━━━━━━━━━━━━\u001B[0m\u001B[37m\u001B[0m \u001B[1m0s\u001B[0m 2ms/step - loss: 0.8169 \n",
      "Epoch 3/250\n",
      "\u001B[1m5/5\u001B[0m \u001B[32m━━━━━━━━━━━━━━━━━━━━\u001B[0m\u001B[37m\u001B[0m \u001B[1m0s\u001B[0m 2ms/step - loss: 0.7336 \n",
      "Epoch 4/250\n",
      "\u001B[1m5/5\u001B[0m \u001B[32m━━━━━━━━━━━━━━━━━━━━\u001B[0m\u001B[37m\u001B[0m \u001B[1m0s\u001B[0m 2ms/step - loss: 0.6704 \n",
      "Epoch 5/250\n",
      "\u001B[1m5/5\u001B[0m \u001B[32m━━━━━━━━━━━━━━━━━━━━\u001B[0m\u001B[37m\u001B[0m \u001B[1m0s\u001B[0m 2ms/step - loss: 0.8547 \n",
      "Epoch 6/250\n",
      "\u001B[1m5/5\u001B[0m \u001B[32m━━━━━━━━━━━━━━━━━━━━\u001B[0m\u001B[37m\u001B[0m \u001B[1m0s\u001B[0m 2ms/step - loss: 0.9414 \n",
      "Epoch 7/250\n",
      "\u001B[1m5/5\u001B[0m \u001B[32m━━━━━━━━━━━━━━━━━━━━\u001B[0m\u001B[37m\u001B[0m \u001B[1m0s\u001B[0m 997us/step - loss: 0.6636\n",
      "Epoch 8/250\n",
      "\u001B[1m5/5\u001B[0m \u001B[32m━━━━━━━━━━━━━━━━━━━━\u001B[0m\u001B[37m\u001B[0m \u001B[1m0s\u001B[0m 2ms/step - loss: 0.7098 \n",
      "Epoch 9/250\n",
      "\u001B[1m5/5\u001B[0m \u001B[32m━━━━━━━━━━━━━━━━━━━━\u001B[0m\u001B[37m\u001B[0m \u001B[1m0s\u001B[0m 3ms/step - loss: 0.6081 \n",
      "Epoch 10/250\n",
      "\u001B[1m5/5\u001B[0m \u001B[32m━━━━━━━━━━━━━━━━━━━━\u001B[0m\u001B[37m\u001B[0m \u001B[1m0s\u001B[0m 2ms/step - loss: 0.6953 \n",
      "Epoch 11/250\n",
      "\u001B[1m5/5\u001B[0m \u001B[32m━━━━━━━━━━━━━━━━━━━━\u001B[0m\u001B[37m\u001B[0m \u001B[1m0s\u001B[0m 1ms/step - loss: 0.6314 \n",
      "Epoch 12/250\n",
      "\u001B[1m5/5\u001B[0m \u001B[32m━━━━━━━━━━━━━━━━━━━━\u001B[0m\u001B[37m\u001B[0m \u001B[1m0s\u001B[0m 2ms/step - loss: 0.6789 \n",
      "Epoch 13/250\n",
      "\u001B[1m5/5\u001B[0m \u001B[32m━━━━━━━━━━━━━━━━━━━━\u001B[0m\u001B[37m\u001B[0m \u001B[1m0s\u001B[0m 2ms/step - loss: 0.7570 \n",
      "Epoch 14/250\n",
      "\u001B[1m5/5\u001B[0m \u001B[32m━━━━━━━━━━━━━━━━━━━━\u001B[0m\u001B[37m\u001B[0m \u001B[1m0s\u001B[0m 2ms/step - loss: 0.6271 \n",
      "Epoch 15/250\n",
      "\u001B[1m5/5\u001B[0m \u001B[32m━━━━━━━━━━━━━━━━━━━━\u001B[0m\u001B[37m\u001B[0m \u001B[1m0s\u001B[0m 2ms/step - loss: 0.5604 \n",
      "Epoch 16/250\n",
      "\u001B[1m5/5\u001B[0m \u001B[32m━━━━━━━━━━━━━━━━━━━━\u001B[0m\u001B[37m\u001B[0m \u001B[1m0s\u001B[0m 2ms/step - loss: 0.5423 \n",
      "Epoch 17/250\n",
      "\u001B[1m5/5\u001B[0m \u001B[32m━━━━━━━━━━━━━━━━━━━━\u001B[0m\u001B[37m\u001B[0m \u001B[1m0s\u001B[0m 2ms/step - loss: 0.7649 \n",
      "Epoch 18/250\n",
      "\u001B[1m5/5\u001B[0m \u001B[32m━━━━━━━━━━━━━━━━━━━━\u001B[0m\u001B[37m\u001B[0m \u001B[1m0s\u001B[0m 2ms/step - loss: 0.7191 \n",
      "Epoch 19/250\n",
      "\u001B[1m5/5\u001B[0m \u001B[32m━━━━━━━━━━━━━━━━━━━━\u001B[0m\u001B[37m\u001B[0m \u001B[1m0s\u001B[0m 1ms/step - loss: 0.5111 \n",
      "Epoch 20/250\n",
      "\u001B[1m5/5\u001B[0m \u001B[32m━━━━━━━━━━━━━━━━━━━━\u001B[0m\u001B[37m\u001B[0m \u001B[1m0s\u001B[0m 2ms/step - loss: 0.6159 \n",
      "Epoch 21/250\n",
      "\u001B[1m5/5\u001B[0m \u001B[32m━━━━━━━━━━━━━━━━━━━━\u001B[0m\u001B[37m\u001B[0m \u001B[1m0s\u001B[0m 1ms/step - loss: 0.5583 \n",
      "Epoch 22/250\n",
      "\u001B[1m5/5\u001B[0m \u001B[32m━━━━━━━━━━━━━━━━━━━━\u001B[0m\u001B[37m\u001B[0m \u001B[1m0s\u001B[0m 2ms/step - loss: 0.5133 \n",
      "Epoch 23/250\n",
      "\u001B[1m5/5\u001B[0m \u001B[32m━━━━━━━━━━━━━━━━━━━━\u001B[0m\u001B[37m\u001B[0m \u001B[1m0s\u001B[0m 2ms/step - loss: 0.5960 \n",
      "Epoch 24/250\n",
      "\u001B[1m5/5\u001B[0m \u001B[32m━━━━━━━━━━━━━━━━━━━━\u001B[0m\u001B[37m\u001B[0m \u001B[1m0s\u001B[0m 2ms/step - loss: 0.5384 \n",
      "Epoch 25/250\n",
      "\u001B[1m5/5\u001B[0m \u001B[32m━━━━━━━━━━━━━━━━━━━━\u001B[0m\u001B[37m\u001B[0m \u001B[1m0s\u001B[0m 2ms/step - loss: 0.5926 \n",
      "Epoch 26/250\n",
      "\u001B[1m5/5\u001B[0m \u001B[32m━━━━━━━━━━━━━━━━━━━━\u001B[0m\u001B[37m\u001B[0m \u001B[1m0s\u001B[0m 2ms/step - loss: 0.6994 \n",
      "Epoch 27/250\n",
      "\u001B[1m5/5\u001B[0m \u001B[32m━━━━━━━━━━━━━━━━━━━━\u001B[0m\u001B[37m\u001B[0m \u001B[1m0s\u001B[0m 2ms/step - loss: 0.5228 \n",
      "Epoch 28/250\n",
      "\u001B[1m5/5\u001B[0m \u001B[32m━━━━━━━━━━━━━━━━━━━━\u001B[0m\u001B[37m\u001B[0m \u001B[1m0s\u001B[0m 2ms/step - loss: 0.5928 \n",
      "Epoch 29/250\n",
      "\u001B[1m5/5\u001B[0m \u001B[32m━━━━━━━━━━━━━━━━━━━━\u001B[0m\u001B[37m\u001B[0m \u001B[1m0s\u001B[0m 1ms/step - loss: 0.5686 \n",
      "Epoch 30/250\n",
      "\u001B[1m5/5\u001B[0m \u001B[32m━━━━━━━━━━━━━━━━━━━━\u001B[0m\u001B[37m\u001B[0m \u001B[1m0s\u001B[0m 2ms/step - loss: 0.5074 \n",
      "Epoch 31/250\n",
      "\u001B[1m5/5\u001B[0m \u001B[32m━━━━━━━━━━━━━━━━━━━━\u001B[0m\u001B[37m\u001B[0m \u001B[1m0s\u001B[0m 2ms/step - loss: 0.5533 \n",
      "Epoch 32/250\n",
      "\u001B[1m5/5\u001B[0m \u001B[32m━━━━━━━━━━━━━━━━━━━━\u001B[0m\u001B[37m\u001B[0m \u001B[1m0s\u001B[0m 1ms/step - loss: 0.4600 \n",
      "Epoch 33/250\n",
      "\u001B[1m5/5\u001B[0m \u001B[32m━━━━━━━━━━━━━━━━━━━━\u001B[0m\u001B[37m\u001B[0m \u001B[1m0s\u001B[0m 2ms/step - loss: 0.6710 \n",
      "Epoch 34/250\n",
      "\u001B[1m5/5\u001B[0m \u001B[32m━━━━━━━━━━━━━━━━━━━━\u001B[0m\u001B[37m\u001B[0m \u001B[1m0s\u001B[0m 2ms/step - loss: 0.5321 \n",
      "Epoch 35/250\n",
      "\u001B[1m5/5\u001B[0m \u001B[32m━━━━━━━━━━━━━━━━━━━━\u001B[0m\u001B[37m\u001B[0m \u001B[1m0s\u001B[0m 1ms/step - loss: 0.5443 \n",
      "Epoch 36/250\n",
      "\u001B[1m5/5\u001B[0m \u001B[32m━━━━━━━━━━━━━━━━━━━━\u001B[0m\u001B[37m\u001B[0m \u001B[1m0s\u001B[0m 2ms/step - loss: 0.5206 \n",
      "Epoch 37/250\n",
      "\u001B[1m5/5\u001B[0m \u001B[32m━━━━━━━━━━━━━━━━━━━━\u001B[0m\u001B[37m\u001B[0m \u001B[1m0s\u001B[0m 2ms/step - loss: 0.4915 \n",
      "Epoch 38/250\n",
      "\u001B[1m5/5\u001B[0m \u001B[32m━━━━━━━━━━━━━━━━━━━━\u001B[0m\u001B[37m\u001B[0m \u001B[1m0s\u001B[0m 1ms/step - loss: 0.6105 \n",
      "Epoch 39/250\n",
      "\u001B[1m5/5\u001B[0m \u001B[32m━━━━━━━━━━━━━━━━━━━━\u001B[0m\u001B[37m\u001B[0m \u001B[1m0s\u001B[0m 1ms/step - loss: 0.5521 \n",
      "Epoch 40/250\n",
      "\u001B[1m5/5\u001B[0m \u001B[32m━━━━━━━━━━━━━━━━━━━━\u001B[0m\u001B[37m\u001B[0m \u001B[1m0s\u001B[0m 2ms/step - loss: 0.4682 \n",
      "Epoch 41/250\n",
      "\u001B[1m5/5\u001B[0m \u001B[32m━━━━━━━━━━━━━━━━━━━━\u001B[0m\u001B[37m\u001B[0m \u001B[1m0s\u001B[0m 2ms/step - loss: 0.5063 \n",
      "Epoch 42/250\n",
      "\u001B[1m5/5\u001B[0m \u001B[32m━━━━━━━━━━━━━━━━━━━━\u001B[0m\u001B[37m\u001B[0m \u001B[1m0s\u001B[0m 2ms/step - loss: 0.4106 \n",
      "Epoch 43/250\n",
      "\u001B[1m5/5\u001B[0m \u001B[32m━━━━━━━━━━━━━━━━━━━━\u001B[0m\u001B[37m\u001B[0m \u001B[1m0s\u001B[0m 2ms/step - loss: 0.5826 \n",
      "Epoch 44/250\n",
      "\u001B[1m5/5\u001B[0m \u001B[32m━━━━━━━━━━━━━━━━━━━━\u001B[0m\u001B[37m\u001B[0m \u001B[1m0s\u001B[0m 2ms/step - loss: 0.4073 \n",
      "Epoch 45/250\n",
      "\u001B[1m5/5\u001B[0m \u001B[32m━━━━━━━━━━━━━━━━━━━━\u001B[0m\u001B[37m\u001B[0m \u001B[1m0s\u001B[0m 2ms/step - loss: 0.5499 \n",
      "Epoch 46/250\n",
      "\u001B[1m5/5\u001B[0m \u001B[32m━━━━━━━━━━━━━━━━━━━━\u001B[0m\u001B[37m\u001B[0m \u001B[1m0s\u001B[0m 1ms/step - loss: 0.4995 \n",
      "Epoch 47/250\n",
      "\u001B[1m5/5\u001B[0m \u001B[32m━━━━━━━━━━━━━━━━━━━━\u001B[0m\u001B[37m\u001B[0m \u001B[1m0s\u001B[0m 2ms/step - loss: 0.4760 \n",
      "Epoch 48/250\n",
      "\u001B[1m5/5\u001B[0m \u001B[32m━━━━━━━━━━━━━━━━━━━━\u001B[0m\u001B[37m\u001B[0m \u001B[1m0s\u001B[0m 2ms/step - loss: 0.3921 \n",
      "Epoch 49/250\n",
      "\u001B[1m5/5\u001B[0m \u001B[32m━━━━━━━━━━━━━━━━━━━━\u001B[0m\u001B[37m\u001B[0m \u001B[1m0s\u001B[0m 1ms/step - loss: 0.4114 \n",
      "Epoch 50/250\n",
      "\u001B[1m5/5\u001B[0m \u001B[32m━━━━━━━━━━━━━━━━━━━━\u001B[0m\u001B[37m\u001B[0m \u001B[1m0s\u001B[0m 1ms/step - loss: 0.4932 \n",
      "Epoch 51/250\n",
      "\u001B[1m5/5\u001B[0m \u001B[32m━━━━━━━━━━━━━━━━━━━━\u001B[0m\u001B[37m\u001B[0m \u001B[1m0s\u001B[0m 1ms/step - loss: 0.5139 \n",
      "Epoch 52/250\n",
      "\u001B[1m5/5\u001B[0m \u001B[32m━━━━━━━━━━━━━━━━━━━━\u001B[0m\u001B[37m\u001B[0m \u001B[1m0s\u001B[0m 2ms/step - loss: 0.5183 \n",
      "Epoch 53/250\n",
      "\u001B[1m5/5\u001B[0m \u001B[32m━━━━━━━━━━━━━━━━━━━━\u001B[0m\u001B[37m\u001B[0m \u001B[1m0s\u001B[0m 1ms/step - loss: 0.4043 \n",
      "Epoch 54/250\n",
      "\u001B[1m5/5\u001B[0m \u001B[32m━━━━━━━━━━━━━━━━━━━━\u001B[0m\u001B[37m\u001B[0m \u001B[1m0s\u001B[0m 2ms/step - loss: 0.3962 \n",
      "Epoch 55/250\n",
      "\u001B[1m5/5\u001B[0m \u001B[32m━━━━━━━━━━━━━━━━━━━━\u001B[0m\u001B[37m\u001B[0m \u001B[1m0s\u001B[0m 2ms/step - loss: 0.4494 \n",
      "Epoch 56/250\n",
      "\u001B[1m5/5\u001B[0m \u001B[32m━━━━━━━━━━━━━━━━━━━━\u001B[0m\u001B[37m\u001B[0m \u001B[1m0s\u001B[0m 1ms/step - loss: 0.4509 \n",
      "Epoch 57/250\n",
      "\u001B[1m5/5\u001B[0m \u001B[32m━━━━━━━━━━━━━━━━━━━━\u001B[0m\u001B[37m\u001B[0m \u001B[1m0s\u001B[0m 1ms/step - loss: 0.4541 \n",
      "Epoch 58/250\n",
      "\u001B[1m5/5\u001B[0m \u001B[32m━━━━━━━━━━━━━━━━━━━━\u001B[0m\u001B[37m\u001B[0m \u001B[1m0s\u001B[0m 2ms/step - loss: 0.4003 \n",
      "Epoch 59/250\n",
      "\u001B[1m5/5\u001B[0m \u001B[32m━━━━━━━━━━━━━━━━━━━━\u001B[0m\u001B[37m\u001B[0m \u001B[1m0s\u001B[0m 1ms/step - loss: 0.4612 \n",
      "Epoch 60/250\n",
      "\u001B[1m5/5\u001B[0m \u001B[32m━━━━━━━━━━━━━━━━━━━━\u001B[0m\u001B[37m\u001B[0m \u001B[1m0s\u001B[0m 1ms/step - loss: 0.3993 \n",
      "Epoch 61/250\n",
      "\u001B[1m5/5\u001B[0m \u001B[32m━━━━━━━━━━━━━━━━━━━━\u001B[0m\u001B[37m\u001B[0m \u001B[1m0s\u001B[0m 2ms/step - loss: 0.4516 \n",
      "Epoch 62/250\n",
      "\u001B[1m5/5\u001B[0m \u001B[32m━━━━━━━━━━━━━━━━━━━━\u001B[0m\u001B[37m\u001B[0m \u001B[1m0s\u001B[0m 2ms/step - loss: 0.4190 \n",
      "Epoch 63/250\n",
      "\u001B[1m5/5\u001B[0m \u001B[32m━━━━━━━━━━━━━━━━━━━━\u001B[0m\u001B[37m\u001B[0m \u001B[1m0s\u001B[0m 2ms/step - loss: 0.4708 \n",
      "Epoch 64/250\n",
      "\u001B[1m5/5\u001B[0m \u001B[32m━━━━━━━━━━━━━━━━━━━━\u001B[0m\u001B[37m\u001B[0m \u001B[1m0s\u001B[0m 2ms/step - loss: 0.3881 \n",
      "Epoch 65/250\n",
      "\u001B[1m5/5\u001B[0m \u001B[32m━━━━━━━━━━━━━━━━━━━━\u001B[0m\u001B[37m\u001B[0m \u001B[1m0s\u001B[0m 1ms/step - loss: 0.4456 \n",
      "Epoch 66/250\n",
      "\u001B[1m5/5\u001B[0m \u001B[32m━━━━━━━━━━━━━━━━━━━━\u001B[0m\u001B[37m\u001B[0m \u001B[1m0s\u001B[0m 2ms/step - loss: 0.4501 \n",
      "Epoch 67/250\n",
      "\u001B[1m5/5\u001B[0m \u001B[32m━━━━━━━━━━━━━━━━━━━━\u001B[0m\u001B[37m\u001B[0m \u001B[1m0s\u001B[0m 2ms/step - loss: 0.3802 \n",
      "Epoch 68/250\n",
      "\u001B[1m5/5\u001B[0m \u001B[32m━━━━━━━━━━━━━━━━━━━━\u001B[0m\u001B[37m\u001B[0m \u001B[1m0s\u001B[0m 2ms/step - loss: 0.3818 \n",
      "Epoch 69/250\n",
      "\u001B[1m5/5\u001B[0m \u001B[32m━━━━━━━━━━━━━━━━━━━━\u001B[0m\u001B[37m\u001B[0m \u001B[1m0s\u001B[0m 2ms/step - loss: 0.3919 \n",
      "Epoch 70/250\n",
      "\u001B[1m5/5\u001B[0m \u001B[32m━━━━━━━━━━━━━━━━━━━━\u001B[0m\u001B[37m\u001B[0m \u001B[1m0s\u001B[0m 2ms/step - loss: 0.4595 \n",
      "Epoch 71/250\n",
      "\u001B[1m5/5\u001B[0m \u001B[32m━━━━━━━━━━━━━━━━━━━━\u001B[0m\u001B[37m\u001B[0m \u001B[1m0s\u001B[0m 1ms/step - loss: 0.4058 \n",
      "Epoch 72/250\n",
      "\u001B[1m5/5\u001B[0m \u001B[32m━━━━━━━━━━━━━━━━━━━━\u001B[0m\u001B[37m\u001B[0m \u001B[1m0s\u001B[0m 1ms/step - loss: 0.3627 \n",
      "Epoch 73/250\n",
      "\u001B[1m5/5\u001B[0m \u001B[32m━━━━━━━━━━━━━━━━━━━━\u001B[0m\u001B[37m\u001B[0m \u001B[1m0s\u001B[0m 2ms/step - loss: 0.3584 \n",
      "Epoch 74/250\n",
      "\u001B[1m5/5\u001B[0m \u001B[32m━━━━━━━━━━━━━━━━━━━━\u001B[0m\u001B[37m\u001B[0m \u001B[1m0s\u001B[0m 1ms/step - loss: 0.3759 \n",
      "Epoch 75/250\n",
      "\u001B[1m5/5\u001B[0m \u001B[32m━━━━━━━━━━━━━━━━━━━━\u001B[0m\u001B[37m\u001B[0m \u001B[1m0s\u001B[0m 2ms/step - loss: 0.4311 \n",
      "Epoch 76/250\n",
      "\u001B[1m5/5\u001B[0m \u001B[32m━━━━━━━━━━━━━━━━━━━━\u001B[0m\u001B[37m\u001B[0m \u001B[1m0s\u001B[0m 2ms/step - loss: 0.4064 \n",
      "Epoch 77/250\n",
      "\u001B[1m5/5\u001B[0m \u001B[32m━━━━━━━━━━━━━━━━━━━━\u001B[0m\u001B[37m\u001B[0m \u001B[1m0s\u001B[0m 1ms/step - loss: 0.3560 \n",
      "Epoch 78/250\n",
      "\u001B[1m5/5\u001B[0m \u001B[32m━━━━━━━━━━━━━━━━━━━━\u001B[0m\u001B[37m\u001B[0m \u001B[1m0s\u001B[0m 1ms/step - loss: 0.3898 \n",
      "Epoch 79/250\n",
      "\u001B[1m5/5\u001B[0m \u001B[32m━━━━━━━━━━━━━━━━━━━━\u001B[0m\u001B[37m\u001B[0m \u001B[1m0s\u001B[0m 2ms/step - loss: 0.3716 \n",
      "Epoch 80/250\n",
      "\u001B[1m5/5\u001B[0m \u001B[32m━━━━━━━━━━━━━━━━━━━━\u001B[0m\u001B[37m\u001B[0m \u001B[1m0s\u001B[0m 2ms/step - loss: 0.3250 \n",
      "Epoch 81/250\n",
      "\u001B[1m5/5\u001B[0m \u001B[32m━━━━━━━━━━━━━━━━━━━━\u001B[0m\u001B[37m\u001B[0m \u001B[1m0s\u001B[0m 2ms/step - loss: 0.3191 \n",
      "Epoch 82/250\n",
      "\u001B[1m5/5\u001B[0m \u001B[32m━━━━━━━━━━━━━━━━━━━━\u001B[0m\u001B[37m\u001B[0m \u001B[1m0s\u001B[0m 1ms/step - loss: 0.3323 \n",
      "Epoch 83/250\n",
      "\u001B[1m5/5\u001B[0m \u001B[32m━━━━━━━━━━━━━━━━━━━━\u001B[0m\u001B[37m\u001B[0m \u001B[1m0s\u001B[0m 2ms/step - loss: 0.4314 \n",
      "Epoch 84/250\n",
      "\u001B[1m5/5\u001B[0m \u001B[32m━━━━━━━━━━━━━━━━━━━━\u001B[0m\u001B[37m\u001B[0m \u001B[1m0s\u001B[0m 2ms/step - loss: 0.3230 \n",
      "Epoch 85/250\n",
      "\u001B[1m5/5\u001B[0m \u001B[32m━━━━━━━━━━━━━━━━━━━━\u001B[0m\u001B[37m\u001B[0m \u001B[1m0s\u001B[0m 1ms/step - loss: 0.3361 \n",
      "Epoch 86/250\n",
      "\u001B[1m5/5\u001B[0m \u001B[32m━━━━━━━━━━━━━━━━━━━━\u001B[0m\u001B[37m\u001B[0m \u001B[1m0s\u001B[0m 1ms/step - loss: 0.3924 \n",
      "Epoch 87/250\n",
      "\u001B[1m5/5\u001B[0m \u001B[32m━━━━━━━━━━━━━━━━━━━━\u001B[0m\u001B[37m\u001B[0m \u001B[1m0s\u001B[0m 1ms/step - loss: 0.4395 \n",
      "Epoch 88/250\n",
      "\u001B[1m5/5\u001B[0m \u001B[32m━━━━━━━━━━━━━━━━━━━━\u001B[0m\u001B[37m\u001B[0m \u001B[1m0s\u001B[0m 1ms/step - loss: 0.3236 \n",
      "Epoch 89/250\n",
      "\u001B[1m5/5\u001B[0m \u001B[32m━━━━━━━━━━━━━━━━━━━━\u001B[0m\u001B[37m\u001B[0m \u001B[1m0s\u001B[0m 1ms/step - loss: 0.3638 \n",
      "Epoch 90/250\n",
      "\u001B[1m5/5\u001B[0m \u001B[32m━━━━━━━━━━━━━━━━━━━━\u001B[0m\u001B[37m\u001B[0m \u001B[1m0s\u001B[0m 2ms/step - loss: 0.3252 \n",
      "Epoch 91/250\n",
      "\u001B[1m5/5\u001B[0m \u001B[32m━━━━━━━━━━━━━━━━━━━━\u001B[0m\u001B[37m\u001B[0m \u001B[1m0s\u001B[0m 1ms/step - loss: 0.3726 \n",
      "Epoch 92/250\n",
      "\u001B[1m5/5\u001B[0m \u001B[32m━━━━━━━━━━━━━━━━━━━━\u001B[0m\u001B[37m\u001B[0m \u001B[1m0s\u001B[0m 1ms/step - loss: 0.3886 \n",
      "Epoch 93/250\n",
      "\u001B[1m5/5\u001B[0m \u001B[32m━━━━━━━━━━━━━━━━━━━━\u001B[0m\u001B[37m\u001B[0m \u001B[1m0s\u001B[0m 2ms/step - loss: 0.3173 \n",
      "Epoch 94/250\n",
      "\u001B[1m5/5\u001B[0m \u001B[32m━━━━━━━━━━━━━━━━━━━━\u001B[0m\u001B[37m\u001B[0m \u001B[1m0s\u001B[0m 1ms/step - loss: 0.3170 \n",
      "Epoch 95/250\n",
      "\u001B[1m5/5\u001B[0m \u001B[32m━━━━━━━━━━━━━━━━━━━━\u001B[0m\u001B[37m\u001B[0m \u001B[1m0s\u001B[0m 993us/step - loss: 0.3332\n",
      "Epoch 96/250\n",
      "\u001B[1m5/5\u001B[0m \u001B[32m━━━━━━━━━━━━━━━━━━━━\u001B[0m\u001B[37m\u001B[0m \u001B[1m0s\u001B[0m 1ms/step - loss: 0.3158 \n",
      "Epoch 97/250\n",
      "\u001B[1m5/5\u001B[0m \u001B[32m━━━━━━━━━━━━━━━━━━━━\u001B[0m\u001B[37m\u001B[0m \u001B[1m0s\u001B[0m 2ms/step - loss: 0.3887 \n",
      "Epoch 98/250\n",
      "\u001B[1m5/5\u001B[0m \u001B[32m━━━━━━━━━━━━━━━━━━━━\u001B[0m\u001B[37m\u001B[0m \u001B[1m0s\u001B[0m 2ms/step - loss: 0.3319 \n",
      "Epoch 99/250\n",
      "\u001B[1m5/5\u001B[0m \u001B[32m━━━━━━━━━━━━━━━━━━━━\u001B[0m\u001B[37m\u001B[0m \u001B[1m0s\u001B[0m 2ms/step - loss: 0.2910 \n",
      "Epoch 100/250\n",
      "\u001B[1m5/5\u001B[0m \u001B[32m━━━━━━━━━━━━━━━━━━━━\u001B[0m\u001B[37m\u001B[0m \u001B[1m0s\u001B[0m 2ms/step - loss: 0.3461 \n",
      "Epoch 101/250\n",
      "\u001B[1m5/5\u001B[0m \u001B[32m━━━━━━━━━━━━━━━━━━━━\u001B[0m\u001B[37m\u001B[0m \u001B[1m0s\u001B[0m 1ms/step - loss: 0.3504 \n",
      "Epoch 102/250\n",
      "\u001B[1m5/5\u001B[0m \u001B[32m━━━━━━━━━━━━━━━━━━━━\u001B[0m\u001B[37m\u001B[0m \u001B[1m0s\u001B[0m 2ms/step - loss: 0.3192 \n",
      "Epoch 103/250\n",
      "\u001B[1m5/5\u001B[0m \u001B[32m━━━━━━━━━━━━━━━━━━━━\u001B[0m\u001B[37m\u001B[0m \u001B[1m0s\u001B[0m 1ms/step - loss: 0.3888 \n",
      "Epoch 104/250\n",
      "\u001B[1m5/5\u001B[0m \u001B[32m━━━━━━━━━━━━━━━━━━━━\u001B[0m\u001B[37m\u001B[0m \u001B[1m0s\u001B[0m 2ms/step - loss: 0.2843 \n",
      "Epoch 105/250\n",
      "\u001B[1m5/5\u001B[0m \u001B[32m━━━━━━━━━━━━━━━━━━━━\u001B[0m\u001B[37m\u001B[0m \u001B[1m0s\u001B[0m 1ms/step - loss: 0.3743 \n",
      "Epoch 106/250\n",
      "\u001B[1m5/5\u001B[0m \u001B[32m━━━━━━━━━━━━━━━━━━━━\u001B[0m\u001B[37m\u001B[0m \u001B[1m0s\u001B[0m 1ms/step - loss: 0.2656 \n",
      "Epoch 107/250\n",
      "\u001B[1m5/5\u001B[0m \u001B[32m━━━━━━━━━━━━━━━━━━━━\u001B[0m\u001B[37m\u001B[0m \u001B[1m0s\u001B[0m 1ms/step - loss: 0.3104 \n",
      "Epoch 108/250\n",
      "\u001B[1m5/5\u001B[0m \u001B[32m━━━━━━━━━━━━━━━━━━━━\u001B[0m\u001B[37m\u001B[0m \u001B[1m0s\u001B[0m 2ms/step - loss: 0.2735 \n",
      "Epoch 109/250\n",
      "\u001B[1m5/5\u001B[0m \u001B[32m━━━━━━━━━━━━━━━━━━━━\u001B[0m\u001B[37m\u001B[0m \u001B[1m0s\u001B[0m 1ms/step - loss: 0.3606 \n",
      "Epoch 110/250\n",
      "\u001B[1m5/5\u001B[0m \u001B[32m━━━━━━━━━━━━━━━━━━━━\u001B[0m\u001B[37m\u001B[0m \u001B[1m0s\u001B[0m 997us/step - loss: 0.3074\n",
      "Epoch 111/250\n",
      "\u001B[1m5/5\u001B[0m \u001B[32m━━━━━━━━━━━━━━━━━━━━\u001B[0m\u001B[37m\u001B[0m \u001B[1m0s\u001B[0m 1ms/step - loss: 0.3081 \n",
      "Epoch 112/250\n",
      "\u001B[1m5/5\u001B[0m \u001B[32m━━━━━━━━━━━━━━━━━━━━\u001B[0m\u001B[37m\u001B[0m \u001B[1m0s\u001B[0m 1ms/step - loss: 0.2908 \n",
      "Epoch 113/250\n",
      "\u001B[1m5/5\u001B[0m \u001B[32m━━━━━━━━━━━━━━━━━━━━\u001B[0m\u001B[37m\u001B[0m \u001B[1m0s\u001B[0m 2ms/step - loss: 0.3325 \n",
      "Epoch 114/250\n",
      "\u001B[1m5/5\u001B[0m \u001B[32m━━━━━━━━━━━━━━━━━━━━\u001B[0m\u001B[37m\u001B[0m \u001B[1m0s\u001B[0m 1ms/step - loss: 0.2503 \n",
      "Epoch 115/250\n",
      "\u001B[1m5/5\u001B[0m \u001B[32m━━━━━━━━━━━━━━━━━━━━\u001B[0m\u001B[37m\u001B[0m \u001B[1m0s\u001B[0m 2ms/step - loss: 0.3084 \n",
      "Epoch 116/250\n",
      "\u001B[1m5/5\u001B[0m \u001B[32m━━━━━━━━━━━━━━━━━━━━\u001B[0m\u001B[37m\u001B[0m \u001B[1m0s\u001B[0m 1ms/step - loss: 0.2526 \n",
      "Epoch 117/250\n",
      "\u001B[1m5/5\u001B[0m \u001B[32m━━━━━━━━━━━━━━━━━━━━\u001B[0m\u001B[37m\u001B[0m \u001B[1m0s\u001B[0m 1ms/step - loss: 0.2318 \n",
      "Epoch 118/250\n",
      "\u001B[1m5/5\u001B[0m \u001B[32m━━━━━━━━━━━━━━━━━━━━\u001B[0m\u001B[37m\u001B[0m \u001B[1m0s\u001B[0m 1ms/step - loss: 0.3337 \n",
      "Epoch 119/250\n",
      "\u001B[1m5/5\u001B[0m \u001B[32m━━━━━━━━━━━━━━━━━━━━\u001B[0m\u001B[37m\u001B[0m \u001B[1m0s\u001B[0m 2ms/step - loss: 0.2597 \n",
      "Epoch 120/250\n",
      "\u001B[1m5/5\u001B[0m \u001B[32m━━━━━━━━━━━━━━━━━━━━\u001B[0m\u001B[37m\u001B[0m \u001B[1m0s\u001B[0m 2ms/step - loss: 0.3131 \n",
      "Epoch 121/250\n",
      "\u001B[1m5/5\u001B[0m \u001B[32m━━━━━━━━━━━━━━━━━━━━\u001B[0m\u001B[37m\u001B[0m \u001B[1m0s\u001B[0m 2ms/step - loss: 0.2642 \n",
      "Epoch 122/250\n",
      "\u001B[1m5/5\u001B[0m \u001B[32m━━━━━━━━━━━━━━━━━━━━\u001B[0m\u001B[37m\u001B[0m \u001B[1m0s\u001B[0m 2ms/step - loss: 0.2415 \n",
      "Epoch 123/250\n",
      "\u001B[1m5/5\u001B[0m \u001B[32m━━━━━━━━━━━━━━━━━━━━\u001B[0m\u001B[37m\u001B[0m \u001B[1m0s\u001B[0m 1ms/step - loss: 0.3185 \n",
      "Epoch 124/250\n",
      "\u001B[1m5/5\u001B[0m \u001B[32m━━━━━━━━━━━━━━━━━━━━\u001B[0m\u001B[37m\u001B[0m \u001B[1m0s\u001B[0m 1ms/step - loss: 0.2719 \n",
      "Epoch 125/250\n",
      "\u001B[1m5/5\u001B[0m \u001B[32m━━━━━━━━━━━━━━━━━━━━\u001B[0m\u001B[37m\u001B[0m \u001B[1m0s\u001B[0m 2ms/step - loss: 0.3099 \n",
      "Epoch 126/250\n",
      "\u001B[1m5/5\u001B[0m \u001B[32m━━━━━━━━━━━━━━━━━━━━\u001B[0m\u001B[37m\u001B[0m \u001B[1m0s\u001B[0m 2ms/step - loss: 0.2588 \n",
      "Epoch 127/250\n",
      "\u001B[1m5/5\u001B[0m \u001B[32m━━━━━━━━━━━━━━━━━━━━\u001B[0m\u001B[37m\u001B[0m \u001B[1m0s\u001B[0m 2ms/step - loss: 0.2817 \n",
      "Epoch 128/250\n",
      "\u001B[1m5/5\u001B[0m \u001B[32m━━━━━━━━━━━━━━━━━━━━\u001B[0m\u001B[37m\u001B[0m \u001B[1m0s\u001B[0m 2ms/step - loss: 0.2924 \n",
      "Epoch 129/250\n",
      "\u001B[1m5/5\u001B[0m \u001B[32m━━━━━━━━━━━━━━━━━━━━\u001B[0m\u001B[37m\u001B[0m \u001B[1m0s\u001B[0m 2ms/step - loss: 0.2901 \n",
      "Epoch 130/250\n",
      "\u001B[1m5/5\u001B[0m \u001B[32m━━━━━━━━━━━━━━━━━━━━\u001B[0m\u001B[37m\u001B[0m \u001B[1m0s\u001B[0m 1ms/step - loss: 0.2649 \n",
      "Epoch 131/250\n",
      "\u001B[1m5/5\u001B[0m \u001B[32m━━━━━━━━━━━━━━━━━━━━\u001B[0m\u001B[37m\u001B[0m \u001B[1m0s\u001B[0m 2ms/step - loss: 0.2661 \n",
      "Epoch 132/250\n",
      "\u001B[1m5/5\u001B[0m \u001B[32m━━━━━━━━━━━━━━━━━━━━\u001B[0m\u001B[37m\u001B[0m \u001B[1m0s\u001B[0m 1ms/step - loss: 0.2719 \n",
      "Epoch 133/250\n",
      "\u001B[1m5/5\u001B[0m \u001B[32m━━━━━━━━━━━━━━━━━━━━\u001B[0m\u001B[37m\u001B[0m \u001B[1m0s\u001B[0m 2ms/step - loss: 0.2477 \n",
      "Epoch 134/250\n",
      "\u001B[1m5/5\u001B[0m \u001B[32m━━━━━━━━━━━━━━━━━━━━\u001B[0m\u001B[37m\u001B[0m \u001B[1m0s\u001B[0m 2ms/step - loss: 0.2987 \n",
      "Epoch 135/250\n",
      "\u001B[1m5/5\u001B[0m \u001B[32m━━━━━━━━━━━━━━━━━━━━\u001B[0m\u001B[37m\u001B[0m \u001B[1m0s\u001B[0m 2ms/step - loss: 0.2495 \n",
      "Epoch 136/250\n",
      "\u001B[1m5/5\u001B[0m \u001B[32m━━━━━━━━━━━━━━━━━━━━\u001B[0m\u001B[37m\u001B[0m \u001B[1m0s\u001B[0m 2ms/step - loss: 0.2576 \n",
      "Epoch 137/250\n",
      "\u001B[1m5/5\u001B[0m \u001B[32m━━━━━━━━━━━━━━━━━━━━\u001B[0m\u001B[37m\u001B[0m \u001B[1m0s\u001B[0m 2ms/step - loss: 0.2907 \n",
      "Epoch 138/250\n",
      "\u001B[1m5/5\u001B[0m \u001B[32m━━━━━━━━━━━━━━━━━━━━\u001B[0m\u001B[37m\u001B[0m \u001B[1m0s\u001B[0m 2ms/step - loss: 0.2650 \n",
      "Epoch 139/250\n",
      "\u001B[1m5/5\u001B[0m \u001B[32m━━━━━━━━━━━━━━━━━━━━\u001B[0m\u001B[37m\u001B[0m \u001B[1m0s\u001B[0m 2ms/step - loss: 0.2541 \n",
      "Epoch 140/250\n",
      "\u001B[1m5/5\u001B[0m \u001B[32m━━━━━━━━━━━━━━━━━━━━\u001B[0m\u001B[37m\u001B[0m \u001B[1m0s\u001B[0m 2ms/step - loss: 0.2801 \n",
      "Epoch 141/250\n",
      "\u001B[1m5/5\u001B[0m \u001B[32m━━━━━━━━━━━━━━━━━━━━\u001B[0m\u001B[37m\u001B[0m \u001B[1m0s\u001B[0m 2ms/step - loss: 0.2921 \n",
      "Epoch 142/250\n",
      "\u001B[1m5/5\u001B[0m \u001B[32m━━━━━━━━━━━━━━━━━━━━\u001B[0m\u001B[37m\u001B[0m \u001B[1m0s\u001B[0m 2ms/step - loss: 0.3272 \n",
      "Epoch 143/250\n",
      "\u001B[1m5/5\u001B[0m \u001B[32m━━━━━━━━━━━━━━━━━━━━\u001B[0m\u001B[37m\u001B[0m \u001B[1m0s\u001B[0m 2ms/step - loss: 0.2474 \n",
      "Epoch 144/250\n",
      "\u001B[1m5/5\u001B[0m \u001B[32m━━━━━━━━━━━━━━━━━━━━\u001B[0m\u001B[37m\u001B[0m \u001B[1m0s\u001B[0m 1ms/step - loss: 0.2638 \n",
      "Epoch 145/250\n",
      "\u001B[1m5/5\u001B[0m \u001B[32m━━━━━━━━━━━━━━━━━━━━\u001B[0m\u001B[37m\u001B[0m \u001B[1m0s\u001B[0m 2ms/step - loss: 0.2585 \n",
      "Epoch 146/250\n",
      "\u001B[1m5/5\u001B[0m \u001B[32m━━━━━━━━━━━━━━━━━━━━\u001B[0m\u001B[37m\u001B[0m \u001B[1m0s\u001B[0m 2ms/step - loss: 0.2456 \n",
      "Epoch 147/250\n",
      "\u001B[1m5/5\u001B[0m \u001B[32m━━━━━━━━━━━━━━━━━━━━\u001B[0m\u001B[37m\u001B[0m \u001B[1m0s\u001B[0m 2ms/step - loss: 0.2825 \n",
      "Epoch 148/250\n",
      "\u001B[1m5/5\u001B[0m \u001B[32m━━━━━━━━━━━━━━━━━━━━\u001B[0m\u001B[37m\u001B[0m \u001B[1m0s\u001B[0m 2ms/step - loss: 0.1993 \n",
      "Epoch 149/250\n",
      "\u001B[1m5/5\u001B[0m \u001B[32m━━━━━━━━━━━━━━━━━━━━\u001B[0m\u001B[37m\u001B[0m \u001B[1m0s\u001B[0m 2ms/step - loss: 0.2835 \n",
      "Epoch 150/250\n",
      "\u001B[1m5/5\u001B[0m \u001B[32m━━━━━━━━━━━━━━━━━━━━\u001B[0m\u001B[37m\u001B[0m \u001B[1m0s\u001B[0m 2ms/step - loss: 0.2173 \n",
      "Epoch 151/250\n",
      "\u001B[1m5/5\u001B[0m \u001B[32m━━━━━━━━━━━━━━━━━━━━\u001B[0m\u001B[37m\u001B[0m \u001B[1m0s\u001B[0m 2ms/step - loss: 0.2562 \n",
      "Epoch 152/250\n",
      "\u001B[1m5/5\u001B[0m \u001B[32m━━━━━━━━━━━━━━━━━━━━\u001B[0m\u001B[37m\u001B[0m \u001B[1m0s\u001B[0m 1ms/step - loss: 0.2482 \n",
      "Epoch 153/250\n",
      "\u001B[1m5/5\u001B[0m \u001B[32m━━━━━━━━━━━━━━━━━━━━\u001B[0m\u001B[37m\u001B[0m \u001B[1m0s\u001B[0m 997us/step - loss: 0.2414\n",
      "Epoch 154/250\n",
      "\u001B[1m5/5\u001B[0m \u001B[32m━━━━━━━━━━━━━━━━━━━━\u001B[0m\u001B[37m\u001B[0m \u001B[1m0s\u001B[0m 1ms/step - loss: 0.2461 \n",
      "Epoch 155/250\n",
      "\u001B[1m5/5\u001B[0m \u001B[32m━━━━━━━━━━━━━━━━━━━━\u001B[0m\u001B[37m\u001B[0m \u001B[1m0s\u001B[0m 1ms/step - loss: 0.2618 \n",
      "Epoch 156/250\n",
      "\u001B[1m5/5\u001B[0m \u001B[32m━━━━━━━━━━━━━━━━━━━━\u001B[0m\u001B[37m\u001B[0m \u001B[1m0s\u001B[0m 2ms/step - loss: 0.2089 \n",
      "Epoch 157/250\n",
      "\u001B[1m5/5\u001B[0m \u001B[32m━━━━━━━━━━━━━━━━━━━━\u001B[0m\u001B[37m\u001B[0m \u001B[1m0s\u001B[0m 2ms/step - loss: 0.2617 \n",
      "Epoch 158/250\n",
      "\u001B[1m5/5\u001B[0m \u001B[32m━━━━━━━━━━━━━━━━━━━━\u001B[0m\u001B[37m\u001B[0m \u001B[1m0s\u001B[0m 1ms/step - loss: 0.2855 \n",
      "Epoch 159/250\n",
      "\u001B[1m5/5\u001B[0m \u001B[32m━━━━━━━━━━━━━━━━━━━━\u001B[0m\u001B[37m\u001B[0m \u001B[1m0s\u001B[0m 1ms/step - loss: 0.2211 \n",
      "Epoch 160/250\n",
      "\u001B[1m5/5\u001B[0m \u001B[32m━━━━━━━━━━━━━━━━━━━━\u001B[0m\u001B[37m\u001B[0m \u001B[1m0s\u001B[0m 2ms/step - loss: 0.2168 \n",
      "Epoch 161/250\n",
      "\u001B[1m5/5\u001B[0m \u001B[32m━━━━━━━━━━━━━━━━━━━━\u001B[0m\u001B[37m\u001B[0m \u001B[1m0s\u001B[0m 1ms/step - loss: 0.2547 \n",
      "Epoch 162/250\n",
      "\u001B[1m5/5\u001B[0m \u001B[32m━━━━━━━━━━━━━━━━━━━━\u001B[0m\u001B[37m\u001B[0m \u001B[1m0s\u001B[0m 1ms/step - loss: 0.2222 \n",
      "Epoch 163/250\n",
      "\u001B[1m5/5\u001B[0m \u001B[32m━━━━━━━━━━━━━━━━━━━━\u001B[0m\u001B[37m\u001B[0m \u001B[1m0s\u001B[0m 1ms/step - loss: 0.2048 \n",
      "Epoch 164/250\n",
      "\u001B[1m5/5\u001B[0m \u001B[32m━━━━━━━━━━━━━━━━━━━━\u001B[0m\u001B[37m\u001B[0m \u001B[1m0s\u001B[0m 1ms/step - loss: 0.2848 \n",
      "Epoch 165/250\n",
      "\u001B[1m5/5\u001B[0m \u001B[32m━━━━━━━━━━━━━━━━━━━━\u001B[0m\u001B[37m\u001B[0m \u001B[1m0s\u001B[0m 1ms/step - loss: 0.2051 \n",
      "Epoch 166/250\n",
      "\u001B[1m5/5\u001B[0m \u001B[32m━━━━━━━━━━━━━━━━━━━━\u001B[0m\u001B[37m\u001B[0m \u001B[1m0s\u001B[0m 1ms/step - loss: 0.2535 \n",
      "Epoch 167/250\n",
      "\u001B[1m5/5\u001B[0m \u001B[32m━━━━━━━━━━━━━━━━━━━━\u001B[0m\u001B[37m\u001B[0m \u001B[1m0s\u001B[0m 2ms/step - loss: 0.2713 \n",
      "Epoch 168/250\n",
      "\u001B[1m5/5\u001B[0m \u001B[32m━━━━━━━━━━━━━━━━━━━━\u001B[0m\u001B[37m\u001B[0m \u001B[1m0s\u001B[0m 2ms/step - loss: 0.2321 \n",
      "Epoch 169/250\n",
      "\u001B[1m5/5\u001B[0m \u001B[32m━━━━━━━━━━━━━━━━━━━━\u001B[0m\u001B[37m\u001B[0m \u001B[1m0s\u001B[0m 2ms/step - loss: 0.2082 \n",
      "Epoch 170/250\n",
      "\u001B[1m5/5\u001B[0m \u001B[32m━━━━━━━━━━━━━━━━━━━━\u001B[0m\u001B[37m\u001B[0m \u001B[1m0s\u001B[0m 2ms/step - loss: 0.2641 \n",
      "Epoch 171/250\n",
      "\u001B[1m5/5\u001B[0m \u001B[32m━━━━━━━━━━━━━━━━━━━━\u001B[0m\u001B[37m\u001B[0m \u001B[1m0s\u001B[0m 2ms/step - loss: 0.2354 \n",
      "Epoch 172/250\n",
      "\u001B[1m5/5\u001B[0m \u001B[32m━━━━━━━━━━━━━━━━━━━━\u001B[0m\u001B[37m\u001B[0m \u001B[1m0s\u001B[0m 2ms/step - loss: 0.1892 \n",
      "Epoch 173/250\n",
      "\u001B[1m5/5\u001B[0m \u001B[32m━━━━━━━━━━━━━━━━━━━━\u001B[0m\u001B[37m\u001B[0m \u001B[1m0s\u001B[0m 2ms/step - loss: 0.2151 \n",
      "Epoch 174/250\n",
      "\u001B[1m5/5\u001B[0m \u001B[32m━━━━━━━━━━━━━━━━━━━━\u001B[0m\u001B[37m\u001B[0m \u001B[1m0s\u001B[0m 1ms/step - loss: 0.2444 \n",
      "Epoch 175/250\n",
      "\u001B[1m5/5\u001B[0m \u001B[32m━━━━━━━━━━━━━━━━━━━━\u001B[0m\u001B[37m\u001B[0m \u001B[1m0s\u001B[0m 2ms/step - loss: 0.1980 \n",
      "Epoch 176/250\n",
      "\u001B[1m5/5\u001B[0m \u001B[32m━━━━━━━━━━━━━━━━━━━━\u001B[0m\u001B[37m\u001B[0m \u001B[1m0s\u001B[0m 2ms/step - loss: 0.1838 \n",
      "Epoch 177/250\n",
      "\u001B[1m5/5\u001B[0m \u001B[32m━━━━━━━━━━━━━━━━━━━━\u001B[0m\u001B[37m\u001B[0m \u001B[1m0s\u001B[0m 2ms/step - loss: 0.2709 \n",
      "Epoch 178/250\n",
      "\u001B[1m5/5\u001B[0m \u001B[32m━━━━━━━━━━━━━━━━━━━━\u001B[0m\u001B[37m\u001B[0m \u001B[1m0s\u001B[0m 2ms/step - loss: 0.1851 \n",
      "Epoch 179/250\n",
      "\u001B[1m5/5\u001B[0m \u001B[32m━━━━━━━━━━━━━━━━━━━━\u001B[0m\u001B[37m\u001B[0m \u001B[1m0s\u001B[0m 2ms/step - loss: 0.2311 \n",
      "Epoch 180/250\n",
      "\u001B[1m5/5\u001B[0m \u001B[32m━━━━━━━━━━━━━━━━━━━━\u001B[0m\u001B[37m\u001B[0m \u001B[1m0s\u001B[0m 1ms/step - loss: 0.1757 \n",
      "Epoch 181/250\n",
      "\u001B[1m5/5\u001B[0m \u001B[32m━━━━━━━━━━━━━━━━━━━━\u001B[0m\u001B[37m\u001B[0m \u001B[1m0s\u001B[0m 2ms/step - loss: 0.1786 \n",
      "Epoch 182/250\n",
      "\u001B[1m5/5\u001B[0m \u001B[32m━━━━━━━━━━━━━━━━━━━━\u001B[0m\u001B[37m\u001B[0m \u001B[1m0s\u001B[0m 2ms/step - loss: 0.2381 \n",
      "Epoch 183/250\n",
      "\u001B[1m5/5\u001B[0m \u001B[32m━━━━━━━━━━━━━━━━━━━━\u001B[0m\u001B[37m\u001B[0m \u001B[1m0s\u001B[0m 2ms/step - loss: 0.2076 \n",
      "Epoch 184/250\n",
      "\u001B[1m5/5\u001B[0m \u001B[32m━━━━━━━━━━━━━━━━━━━━\u001B[0m\u001B[37m\u001B[0m \u001B[1m0s\u001B[0m 2ms/step - loss: 0.1858 \n",
      "Epoch 185/250\n",
      "\u001B[1m5/5\u001B[0m \u001B[32m━━━━━━━━━━━━━━━━━━━━\u001B[0m\u001B[37m\u001B[0m \u001B[1m0s\u001B[0m 2ms/step - loss: 0.1958 \n",
      "Epoch 186/250\n",
      "\u001B[1m5/5\u001B[0m \u001B[32m━━━━━━━━━━━━━━━━━━━━\u001B[0m\u001B[37m\u001B[0m \u001B[1m0s\u001B[0m 2ms/step - loss: 0.2235 \n",
      "Epoch 187/250\n",
      "\u001B[1m5/5\u001B[0m \u001B[32m━━━━━━━━━━━━━━━━━━━━\u001B[0m\u001B[37m\u001B[0m \u001B[1m0s\u001B[0m 2ms/step - loss: 0.2016 \n",
      "Epoch 188/250\n",
      "\u001B[1m5/5\u001B[0m \u001B[32m━━━━━━━━━━━━━━━━━━━━\u001B[0m\u001B[37m\u001B[0m \u001B[1m0s\u001B[0m 2ms/step - loss: 0.2350 \n",
      "Epoch 189/250\n",
      "\u001B[1m5/5\u001B[0m \u001B[32m━━━━━━━━━━━━━━━━━━━━\u001B[0m\u001B[37m\u001B[0m \u001B[1m0s\u001B[0m 2ms/step - loss: 0.2101 \n",
      "Epoch 190/250\n",
      "\u001B[1m5/5\u001B[0m \u001B[32m━━━━━━━━━━━━━━━━━━━━\u001B[0m\u001B[37m\u001B[0m \u001B[1m0s\u001B[0m 2ms/step - loss: 0.2290 \n",
      "Epoch 191/250\n",
      "\u001B[1m5/5\u001B[0m \u001B[32m━━━━━━━━━━━━━━━━━━━━\u001B[0m\u001B[37m\u001B[0m \u001B[1m0s\u001B[0m 2ms/step - loss: 0.1961 \n",
      "Epoch 192/250\n",
      "\u001B[1m5/5\u001B[0m \u001B[32m━━━━━━━━━━━━━━━━━━━━\u001B[0m\u001B[37m\u001B[0m \u001B[1m0s\u001B[0m 2ms/step - loss: 0.2152 \n",
      "Epoch 193/250\n",
      "\u001B[1m5/5\u001B[0m \u001B[32m━━━━━━━━━━━━━━━━━━━━\u001B[0m\u001B[37m\u001B[0m \u001B[1m0s\u001B[0m 2ms/step - loss: 0.1791 \n",
      "Epoch 194/250\n",
      "\u001B[1m5/5\u001B[0m \u001B[32m━━━━━━━━━━━━━━━━━━━━\u001B[0m\u001B[37m\u001B[0m \u001B[1m0s\u001B[0m 2ms/step - loss: 0.2097 \n",
      "Epoch 195/250\n",
      "\u001B[1m5/5\u001B[0m \u001B[32m━━━━━━━━━━━━━━━━━━━━\u001B[0m\u001B[37m\u001B[0m \u001B[1m0s\u001B[0m 2ms/step - loss: 0.1936 \n",
      "Epoch 196/250\n",
      "\u001B[1m5/5\u001B[0m \u001B[32m━━━━━━━━━━━━━━━━━━━━\u001B[0m\u001B[37m\u001B[0m \u001B[1m0s\u001B[0m 2ms/step - loss: 0.2078 \n",
      "Epoch 197/250\n",
      "\u001B[1m5/5\u001B[0m \u001B[32m━━━━━━━━━━━━━━━━━━━━\u001B[0m\u001B[37m\u001B[0m \u001B[1m0s\u001B[0m 2ms/step - loss: 0.2126 \n",
      "Epoch 198/250\n",
      "\u001B[1m5/5\u001B[0m \u001B[32m━━━━━━━━━━━━━━━━━━━━\u001B[0m\u001B[37m\u001B[0m \u001B[1m0s\u001B[0m 2ms/step - loss: 0.1964 \n",
      "Epoch 199/250\n",
      "\u001B[1m5/5\u001B[0m \u001B[32m━━━━━━━━━━━━━━━━━━━━\u001B[0m\u001B[37m\u001B[0m \u001B[1m0s\u001B[0m 2ms/step - loss: 0.1716 \n",
      "Epoch 200/250\n",
      "\u001B[1m5/5\u001B[0m \u001B[32m━━━━━━━━━━━━━━━━━━━━\u001B[0m\u001B[37m\u001B[0m \u001B[1m0s\u001B[0m 2ms/step - loss: 0.1856 \n",
      "Epoch 201/250\n",
      "\u001B[1m5/5\u001B[0m \u001B[32m━━━━━━━━━━━━━━━━━━━━\u001B[0m\u001B[37m\u001B[0m \u001B[1m0s\u001B[0m 1ms/step - loss: 0.1804 \n",
      "Epoch 202/250\n",
      "\u001B[1m5/5\u001B[0m \u001B[32m━━━━━━━━━━━━━━━━━━━━\u001B[0m\u001B[37m\u001B[0m \u001B[1m0s\u001B[0m 2ms/step - loss: 0.1814 \n",
      "Epoch 203/250\n",
      "\u001B[1m5/5\u001B[0m \u001B[32m━━━━━━━━━━━━━━━━━━━━\u001B[0m\u001B[37m\u001B[0m \u001B[1m0s\u001B[0m 2ms/step - loss: 0.2202 \n",
      "Epoch 204/250\n",
      "\u001B[1m5/5\u001B[0m \u001B[32m━━━━━━━━━━━━━━━━━━━━\u001B[0m\u001B[37m\u001B[0m \u001B[1m0s\u001B[0m 2ms/step - loss: 0.1829 \n",
      "Epoch 205/250\n",
      "\u001B[1m5/5\u001B[0m \u001B[32m━━━━━━━━━━━━━━━━━━━━\u001B[0m\u001B[37m\u001B[0m \u001B[1m0s\u001B[0m 2ms/step - loss: 0.1688 \n",
      "Epoch 206/250\n",
      "\u001B[1m5/5\u001B[0m \u001B[32m━━━━━━━━━━━━━━━━━━━━\u001B[0m\u001B[37m\u001B[0m \u001B[1m0s\u001B[0m 2ms/step - loss: 0.1625 \n",
      "Epoch 207/250\n",
      "\u001B[1m5/5\u001B[0m \u001B[32m━━━━━━━━━━━━━━━━━━━━\u001B[0m\u001B[37m\u001B[0m \u001B[1m0s\u001B[0m 2ms/step - loss: 0.2033 \n",
      "Epoch 208/250\n",
      "\u001B[1m5/5\u001B[0m \u001B[32m━━━━━━━━━━━━━━━━━━━━\u001B[0m\u001B[37m\u001B[0m \u001B[1m0s\u001B[0m 2ms/step - loss: 0.1734 \n",
      "Epoch 209/250\n",
      "\u001B[1m5/5\u001B[0m \u001B[32m━━━━━━━━━━━━━━━━━━━━\u001B[0m\u001B[37m\u001B[0m \u001B[1m0s\u001B[0m 2ms/step - loss: 0.1763 \n",
      "Epoch 210/250\n",
      "\u001B[1m5/5\u001B[0m \u001B[32m━━━━━━━━━━━━━━━━━━━━\u001B[0m\u001B[37m\u001B[0m \u001B[1m0s\u001B[0m 2ms/step - loss: 0.2089 \n",
      "Epoch 211/250\n",
      "\u001B[1m5/5\u001B[0m \u001B[32m━━━━━━━━━━━━━━━━━━━━\u001B[0m\u001B[37m\u001B[0m \u001B[1m0s\u001B[0m 2ms/step - loss: 0.1716 \n",
      "Epoch 212/250\n",
      "\u001B[1m5/5\u001B[0m \u001B[32m━━━━━━━━━━━━━━━━━━━━\u001B[0m\u001B[37m\u001B[0m \u001B[1m0s\u001B[0m 1ms/step - loss: 0.1913 \n",
      "Epoch 213/250\n",
      "\u001B[1m5/5\u001B[0m \u001B[32m━━━━━━━━━━━━━━━━━━━━\u001B[0m\u001B[37m\u001B[0m \u001B[1m0s\u001B[0m 2ms/step - loss: 0.1942 \n",
      "Epoch 214/250\n",
      "\u001B[1m5/5\u001B[0m \u001B[32m━━━━━━━━━━━━━━━━━━━━\u001B[0m\u001B[37m\u001B[0m \u001B[1m0s\u001B[0m 2ms/step - loss: 0.1763 \n",
      "Epoch 215/250\n",
      "\u001B[1m5/5\u001B[0m \u001B[32m━━━━━━━━━━━━━━━━━━━━\u001B[0m\u001B[37m\u001B[0m \u001B[1m0s\u001B[0m 1ms/step - loss: 0.1954 \n",
      "Epoch 216/250\n",
      "\u001B[1m5/5\u001B[0m \u001B[32m━━━━━━━━━━━━━━━━━━━━\u001B[0m\u001B[37m\u001B[0m \u001B[1m0s\u001B[0m 2ms/step - loss: 0.2197 \n",
      "Epoch 217/250\n",
      "\u001B[1m5/5\u001B[0m \u001B[32m━━━━━━━━━━━━━━━━━━━━\u001B[0m\u001B[37m\u001B[0m \u001B[1m0s\u001B[0m 2ms/step - loss: 0.1808 \n",
      "Epoch 218/250\n",
      "\u001B[1m5/5\u001B[0m \u001B[32m━━━━━━━━━━━━━━━━━━━━\u001B[0m\u001B[37m\u001B[0m \u001B[1m0s\u001B[0m 2ms/step - loss: 0.1668 \n",
      "Epoch 219/250\n",
      "\u001B[1m5/5\u001B[0m \u001B[32m━━━━━━━━━━━━━━━━━━━━\u001B[0m\u001B[37m\u001B[0m \u001B[1m0s\u001B[0m 2ms/step - loss: 0.1673 \n",
      "Epoch 220/250\n",
      "\u001B[1m5/5\u001B[0m \u001B[32m━━━━━━━━━━━━━━━━━━━━\u001B[0m\u001B[37m\u001B[0m \u001B[1m0s\u001B[0m 2ms/step - loss: 0.1974 \n",
      "Epoch 221/250\n",
      "\u001B[1m5/5\u001B[0m \u001B[32m━━━━━━━━━━━━━━━━━━━━\u001B[0m\u001B[37m\u001B[0m \u001B[1m0s\u001B[0m 2ms/step - loss: 0.1991 \n",
      "Epoch 222/250\n",
      "\u001B[1m5/5\u001B[0m \u001B[32m━━━━━━━━━━━━━━━━━━━━\u001B[0m\u001B[37m\u001B[0m \u001B[1m0s\u001B[0m 2ms/step - loss: 0.1788 \n",
      "Epoch 223/250\n",
      "\u001B[1m5/5\u001B[0m \u001B[32m━━━━━━━━━━━━━━━━━━━━\u001B[0m\u001B[37m\u001B[0m \u001B[1m0s\u001B[0m 2ms/step - loss: 0.1718 \n",
      "Epoch 224/250\n",
      "\u001B[1m5/5\u001B[0m \u001B[32m━━━━━━━━━━━━━━━━━━━━\u001B[0m\u001B[37m\u001B[0m \u001B[1m0s\u001B[0m 2ms/step - loss: 0.1660 \n",
      "Epoch 225/250\n",
      "\u001B[1m5/5\u001B[0m \u001B[32m━━━━━━━━━━━━━━━━━━━━\u001B[0m\u001B[37m\u001B[0m \u001B[1m0s\u001B[0m 1ms/step - loss: 0.1792 \n",
      "Epoch 226/250\n",
      "\u001B[1m5/5\u001B[0m \u001B[32m━━━━━━━━━━━━━━━━━━━━\u001B[0m\u001B[37m\u001B[0m \u001B[1m0s\u001B[0m 1ms/step - loss: 0.1840 \n",
      "Epoch 227/250\n",
      "\u001B[1m5/5\u001B[0m \u001B[32m━━━━━━━━━━━━━━━━━━━━\u001B[0m\u001B[37m\u001B[0m \u001B[1m0s\u001B[0m 997us/step - loss: 0.1736\n",
      "Epoch 228/250\n",
      "\u001B[1m5/5\u001B[0m \u001B[32m━━━━━━━━━━━━━━━━━━━━\u001B[0m\u001B[37m\u001B[0m \u001B[1m0s\u001B[0m 2ms/step - loss: 0.1978 \n",
      "Epoch 229/250\n",
      "\u001B[1m5/5\u001B[0m \u001B[32m━━━━━━━━━━━━━━━━━━━━\u001B[0m\u001B[37m\u001B[0m \u001B[1m0s\u001B[0m 1ms/step - loss: 0.1938 \n",
      "Epoch 230/250\n",
      "\u001B[1m5/5\u001B[0m \u001B[32m━━━━━━━━━━━━━━━━━━━━\u001B[0m\u001B[37m\u001B[0m \u001B[1m0s\u001B[0m 1ms/step - loss: 0.1648 \n",
      "Epoch 231/250\n",
      "\u001B[1m5/5\u001B[0m \u001B[32m━━━━━━━━━━━━━━━━━━━━\u001B[0m\u001B[37m\u001B[0m \u001B[1m0s\u001B[0m 1ms/step - loss: 0.1494 \n",
      "Epoch 232/250\n",
      "\u001B[1m5/5\u001B[0m \u001B[32m━━━━━━━━━━━━━━━━━━━━\u001B[0m\u001B[37m\u001B[0m \u001B[1m0s\u001B[0m 2ms/step - loss: 0.1741 \n",
      "Epoch 233/250\n",
      "\u001B[1m5/5\u001B[0m \u001B[32m━━━━━━━━━━━━━━━━━━━━\u001B[0m\u001B[37m\u001B[0m \u001B[1m0s\u001B[0m 1ms/step - loss: 0.1930 \n",
      "Epoch 234/250\n",
      "\u001B[1m5/5\u001B[0m \u001B[32m━━━━━━━━━━━━━━━━━━━━\u001B[0m\u001B[37m\u001B[0m \u001B[1m0s\u001B[0m 1ms/step - loss: 0.1717 \n",
      "Epoch 235/250\n",
      "\u001B[1m5/5\u001B[0m \u001B[32m━━━━━━━━━━━━━━━━━━━━\u001B[0m\u001B[37m\u001B[0m \u001B[1m0s\u001B[0m 2ms/step - loss: 0.1968 \n",
      "Epoch 236/250\n",
      "\u001B[1m5/5\u001B[0m \u001B[32m━━━━━━━━━━━━━━━━━━━━\u001B[0m\u001B[37m\u001B[0m \u001B[1m0s\u001B[0m 1ms/step - loss: 0.2037 \n",
      "Epoch 237/250\n",
      "\u001B[1m5/5\u001B[0m \u001B[32m━━━━━━━━━━━━━━━━━━━━\u001B[0m\u001B[37m\u001B[0m \u001B[1m0s\u001B[0m 1ms/step - loss: 0.1457 \n",
      "Epoch 238/250\n",
      "\u001B[1m5/5\u001B[0m \u001B[32m━━━━━━━━━━━━━━━━━━━━\u001B[0m\u001B[37m\u001B[0m \u001B[1m0s\u001B[0m 1ms/step - loss: 0.1704 \n",
      "Epoch 239/250\n",
      "\u001B[1m5/5\u001B[0m \u001B[32m━━━━━━━━━━━━━━━━━━━━\u001B[0m\u001B[37m\u001B[0m \u001B[1m0s\u001B[0m 2ms/step - loss: 0.1711 \n",
      "Epoch 240/250\n",
      "\u001B[1m5/5\u001B[0m \u001B[32m━━━━━━━━━━━━━━━━━━━━\u001B[0m\u001B[37m\u001B[0m \u001B[1m0s\u001B[0m 1ms/step - loss: 0.1662 \n",
      "Epoch 241/250\n",
      "\u001B[1m5/5\u001B[0m \u001B[32m━━━━━━━━━━━━━━━━━━━━\u001B[0m\u001B[37m\u001B[0m \u001B[1m0s\u001B[0m 1ms/step - loss: 0.1851 \n",
      "Epoch 242/250\n",
      "\u001B[1m5/5\u001B[0m \u001B[32m━━━━━━━━━━━━━━━━━━━━\u001B[0m\u001B[37m\u001B[0m \u001B[1m0s\u001B[0m 2ms/step - loss: 0.1742 \n",
      "Epoch 243/250\n",
      "\u001B[1m5/5\u001B[0m \u001B[32m━━━━━━━━━━━━━━━━━━━━\u001B[0m\u001B[37m\u001B[0m \u001B[1m0s\u001B[0m 2ms/step - loss: 0.1509 \n",
      "Epoch 244/250\n",
      "\u001B[1m5/5\u001B[0m \u001B[32m━━━━━━━━━━━━━━━━━━━━\u001B[0m\u001B[37m\u001B[0m \u001B[1m0s\u001B[0m 1ms/step - loss: 0.1209 \n",
      "Epoch 245/250\n",
      "\u001B[1m5/5\u001B[0m \u001B[32m━━━━━━━━━━━━━━━━━━━━\u001B[0m\u001B[37m\u001B[0m \u001B[1m0s\u001B[0m 2ms/step - loss: 0.1594 \n",
      "Epoch 246/250\n",
      "\u001B[1m5/5\u001B[0m \u001B[32m━━━━━━━━━━━━━━━━━━━━\u001B[0m\u001B[37m\u001B[0m \u001B[1m0s\u001B[0m 1ms/step - loss: 0.1811 \n",
      "Epoch 247/250\n",
      "\u001B[1m5/5\u001B[0m \u001B[32m━━━━━━━━━━━━━━━━━━━━\u001B[0m\u001B[37m\u001B[0m \u001B[1m0s\u001B[0m 1ms/step - loss: 0.1604 \n",
      "Epoch 248/250\n",
      "\u001B[1m5/5\u001B[0m \u001B[32m━━━━━━━━━━━━━━━━━━━━\u001B[0m\u001B[37m\u001B[0m \u001B[1m0s\u001B[0m 1ms/step - loss: 0.1961 \n",
      "Epoch 249/250\n",
      "\u001B[1m5/5\u001B[0m \u001B[32m━━━━━━━━━━━━━━━━━━━━\u001B[0m\u001B[37m\u001B[0m \u001B[1m0s\u001B[0m 1ms/step - loss: 0.1767 \n",
      "Epoch 250/250\n",
      "\u001B[1m5/5\u001B[0m \u001B[32m━━━━━━━━━━━━━━━━━━━━\u001B[0m\u001B[37m\u001B[0m \u001B[1m0s\u001B[0m 2ms/step - loss: 0.1501 \n"
     ]
    },
    {
     "data": {
      "text/plain": "<keras.src.callbacks.history.History at 0x29e84990590>"
     },
     "execution_count": 48,
     "metadata": {},
     "output_type": "execute_result"
    }
   ],
   "source": [
    "from sklearn.model_selection import train_test_split\n",
    "from sklearn.preprocessing import StandardScaler\n",
    "from tensorflow.keras.models import Sequential\n",
    "from tensorflow.keras.layers import Dense, LSTM\n",
    "\n",
    "# Assuming merged_df_no_outliers is defined and contains the necessary columns\n",
    "\n",
    "# Extract the relevant columns for prediction\n",
    "selected_columns = ['Pln Ship Usd', 'Pln Base Cs', 'Pln Base Lbs',\n",
    "                    'Pln Base Rtn Usd', 'Pln Base Units', 'Pln Base Usd',\n",
    "                    'Pln Cons Lbs', 'Pln Cons Rtn Usd', 'Pln Cons Units',\n",
    "                    'Pln Cons Usd', 'Pln Inc Usd', 'Pln Incr Cs', 'Pln Incr Lbs',\n",
    "                    'Pln Incr Rtn Usd', 'Pln Incr Ship Cs', 'Pln Incr Ship Kgs',\n",
    "                    'Pln Incr Ship Lbs', 'Pln Incr Ship Units', 'Pln Incr Ship Usd',\n",
    "                    'Pln Incr Units', 'Pln Kmf', 'Pln Nsv Prxy Usd', 'Pln Sc Prxy Usd',\n",
    "                    'Pln Ship Cs', 'Pln Ship Ea', 'Pln Ship Kg', 'Pln Ship Lbs',\n",
    "                    'Sugstd Base Vol Sas', 'Sugstd Shlf Prc Sas', '1-Month % Change', \n",
    "                    '3-Month % Change', '12-Month % Change']\n",
    "\n",
    "# Create feature and target data\n",
    "X = temp[selected_columns].values\n",
    "y = temp['Actl Ship Usd'].values\n",
    "\n",
    "# Split the data into training and testing sets\n",
    "#train_size = int(len(X) * 0.8)\n",
    "train_size = 157\n",
    "train_X, test_X = X[:train_size, :], X[train_size:, :]\n",
    "train_y, test_y = y[:train_size], y[train_size:]\n",
    "\n",
    "# Standardize the data\n",
    "scaler_X = StandardScaler()\n",
    "scaler_y = StandardScaler()\n",
    "\n",
    "train_X_scaled = scaler_X.fit_transform(train_X)\n",
    "train_y_scaled = scaler_y.fit_transform(train_y.reshape(-1, 1))\n",
    "\n",
    "# Reshape the data for LSTM input shape\n",
    "train_X_reshaped = np.reshape(train_X_scaled, (train_X_scaled.shape[0], 1, train_X_scaled.shape[1]))\n",
    "\n",
    "# Build the LSTM model\n",
    "model = Sequential()\n",
    "model.add(LSTM(50, input_shape = (train_X_reshaped.shape[1], train_X_reshaped.shape[2])))\n",
    "model.add(Dense(1))\n",
    "model.compile(optimizer='adam', loss='mse')\n",
    "\n",
    "# Train the model\n",
    "model.fit(train_X_reshaped, train_y_scaled, epochs=250, batch_size=32, verbose=1)"
   ],
   "metadata": {
    "collapsed": false,
    "ExecuteTime": {
     "end_time": "2024-03-18T11:10:52.928576800Z",
     "start_time": "2024-03-18T11:10:43.090162Z"
    }
   },
   "id": "6f560a8b52ab003d",
   "execution_count": 48
  },
  {
   "cell_type": "code",
   "outputs": [
    {
     "name": "stdout",
     "output_type": "stream",
     "text": [
      "\u001B[1m2/2\u001B[0m \u001B[32m━━━━━━━━━━━━━━━━━━━━\u001B[0m\u001B[37m\u001B[0m \u001B[1m0s\u001B[0m 2ms/step \n"
     ]
    }
   ],
   "source": [
    "# Prepare the test data\n",
    "test_X_scaled = scaler_X.transform(test_X)\n",
    "test_X_reshaped = np.reshape(test_X_scaled, (test_X_scaled.shape[0], 1, test_X_scaled.shape[1]))\n",
    "\n",
    "# Predict on the test set\n",
    "predicted_scaled = model.predict(test_X_reshaped)\n",
    "\n",
    "# Inverse transform the predicted values to the original scale\n",
    "predicted = scaler_y.inverse_transform(predicted_scaled)\n",
    "\n",
    "# Create a DataFrame for the results\n",
    "result_df = pd.DataFrame()\n",
    "result_df['Yr & Wk'] = temp['Yr & Wk'][train_size:]\n",
    "result_df['WK'] = temp['WK'][train_size:]\n",
    "result_df['Fisc Yr'] = temp['Fisc Yr'][train_size:]\n",
    "result_df['Mixd Plt Matrl Desc'] = temp['Mixd Plt Matrl Desc'][train_size:]\n",
    "\n",
    "# Populate the result_df DataFrame with predicted values\n",
    "result_df['Predicted'] = predicted.flatten()\n",
    "result_df['Actual'] = test_y\n",
    "\n",
    "# Calculate the differences\n",
    "result_df['Predicted_Difference'] = result_df['Actual'] - result_df['Predicted']\n",
    "result_df['Planned_Difference'] = result_df['Actual']-temp['Pln Ship Usd'][train_size:] \n",
    "\n",
    "#result_df = result_df.sort_values(by='Date')"
   ],
   "metadata": {
    "collapsed": false,
    "ExecuteTime": {
     "end_time": "2024-03-18T11:11:09.582041200Z",
     "start_time": "2024-03-18T11:11:09.499774500Z"
    }
   },
   "id": "1eafb28aef3f3a24",
   "execution_count": 50
  },
  {
   "cell_type": "code",
   "outputs": [
    {
     "data": {
      "text/plain": "       Yr & Wk  WK  Fisc Yr                      Mixd Plt Matrl Desc  \\\n51245   2023&1   1     2023  PT FRSTD BRN SGR CIN TSTP 8CT 13.5OZX12   \n51464   2023&2   2     2023  PT FRSTD BRN SGR CIN TSTP 8CT 13.5OZX12   \n51678   2023&3   3     2023  PT FRSTD BRN SGR CIN TSTP 8CT 13.5OZX12   \n51892   2023&4   4     2023  PT FRSTD BRN SGR CIN TSTP 8CT 13.5OZX12   \n52104   2023&5   5     2023  PT FRSTD BRN SGR CIN TSTP 8CT 13.5OZX12   \n52311   2023&6   6     2023  PT FRSTD BRN SGR CIN TSTP 8CT 13.5OZX12   \n52528   2023&7   7     2023  PT FRSTD BRN SGR CIN TSTP 8CT 13.5OZX12   \n52739   2023&8   8     2023  PT FRSTD BRN SGR CIN TSTP 8CT 13.5OZX12   \n52948   2023&9   9     2023  PT FRSTD BRN SGR CIN TSTP 8CT 13.5OZX12   \n53153  2023&10  10     2023  PT FRSTD BRN SGR CIN TSTP 8CT 13.5OZX12   \n53364  2023&11  11     2023  PT FRSTD BRN SGR CIN TSTP 8CT 13.5OZX12   \n53570  2023&12  12     2023  PT FRSTD BRN SGR CIN TSTP 8CT 13.5OZX12   \n53778  2023&13  13     2023  PT FRSTD BRN SGR CIN TSTP 8CT 13.5OZX12   \n53988  2023&14  14     2023  PT FRSTD BRN SGR CIN TSTP 8CT 13.5OZX12   \n54195  2023&15  15     2023  PT FRSTD BRN SGR CIN TSTP 8CT 13.5OZX12   \n54409  2023&16  16     2023  PT FRSTD BRN SGR CIN TSTP 8CT 13.5OZX12   \n54620  2023&17  17     2023  PT FRSTD BRN SGR CIN TSTP 8CT 13.5OZX12   \n54834  2023&18  18     2023  PT FRSTD BRN SGR CIN TSTP 8CT 13.5OZX12   \n55057  2023&19  19     2023  PT FRSTD BRN SGR CIN TSTP 8CT 13.5OZX12   \n55275  2023&20  20     2023  PT FRSTD BRN SGR CIN TSTP 8CT 13.5OZX12   \n55488  2023&21  21     2023  PT FRSTD BRN SGR CIN TSTP 8CT 13.5OZX12   \n55698  2023&22  22     2023  PT FRSTD BRN SGR CIN TSTP 8CT 13.5OZX12   \n55910  2023&23  23     2023  PT FRSTD BRN SGR CIN TSTP 8CT 13.5OZX12   \n56122  2023&24  24     2023  PT FRSTD BRN SGR CIN TSTP 8CT 13.5OZX12   \n56325  2023&25  25     2023  PT FRSTD BRN SGR CIN TSTP 8CT 13.5OZX12   \n56533  2023&26  26     2023  PT FRSTD BRN SGR CIN TSTP 8CT 13.5OZX12   \n56755  2023&27  27     2023  PT FRSTD BRN SGR CIN TSTP 8CT 13.5OZX12   \n56974  2023&28  28     2023  PT FRSTD BRN SGR CIN TSTP 8CT 13.5OZX12   \n57186  2023&29  29     2023  PT FRSTD BRN SGR CIN TSTP 8CT 13.5OZX12   \n57402  2023&30  30     2023  PT FRSTD BRN SGR CIN TSTP 8CT 13.5OZX12   \n57614  2023&31  31     2023  PT FRSTD BRN SGR CIN TSTP 8CT 13.5OZX12   \n57827  2023&32  32     2023  PT FRSTD BRN SGR CIN TSTP 8CT 13.5OZX12   \n58044  2023&33  33     2023  PT FRSTD BRN SGR CIN TSTP 8CT 13.5OZX12   \n58262  2023&34  34     2023  PT FRSTD BRN SGR CIN TSTP 8CT 13.5OZX12   \n58474  2023&35  35     2023  PT FRSTD BRN SGR CIN TSTP 8CT 13.5OZX12   \n58686  2023&36  36     2023  PT FRSTD BRN SGR CIN TSTP 8CT 13.5OZX12   \n58897  2023&37  37     2023  PT FRSTD BRN SGR CIN TSTP 8CT 13.5OZX12   \n59128  2023&38  38     2023  PT FRSTD BRN SGR CIN TSTP 8CT 13.5OZX12   \n59352  2023&39  39     2023  PT FRSTD BRN SGR CIN TSTP 8CT 13.5OZX12   \n59569  2023&40  40     2023  PT FRSTD BRN SGR CIN TSTP 8CT 13.5OZX12   \n59810  2023&41  41     2023  PT FRSTD BRN SGR CIN TSTP 8CT 13.5OZX12   \n60045  2023&42  42     2023  PT FRSTD BRN SGR CIN TSTP 8CT 13.5OZX12   \n60271  2023&43  43     2023  PT FRSTD BRN SGR CIN TSTP 8CT 13.5OZX12   \n60492  2023&44  44     2023  PT FRSTD BRN SGR CIN TSTP 8CT 13.5OZX12   \n60708  2023&45  45     2023  PT FRSTD BRN SGR CIN TSTP 8CT 13.5OZX12   \n60927  2023&46  46     2023  PT FRSTD BRN SGR CIN TSTP 8CT 13.5OZX12   \n61146  2023&47  47     2023  PT FRSTD BRN SGR CIN TSTP 8CT 13.5OZX12   \n61368  2023&48  48     2023  PT FRSTD BRN SGR CIN TSTP 8CT 13.5OZX12   \n61605  2023&49  49     2023  PT FRSTD BRN SGR CIN TSTP 8CT 13.5OZX12   \n61837  2023&50  50     2023  PT FRSTD BRN SGR CIN TSTP 8CT 13.5OZX12   \n62058  2023&51  51     2023  PT FRSTD BRN SGR CIN TSTP 8CT 13.5OZX12   \n62275  2023&52  52     2023  PT FRSTD BRN SGR CIN TSTP 8CT 13.5OZX12   \n\n          Predicted      Actual  Predicted_Difference  Planned_Difference  \n51245  9.436732e+05   829928.09         -1.137451e+05            30812.06  \n51464  6.703928e+05   728800.99          5.840824e+04            33552.57  \n51678  5.729199e+05   786825.07          2.139051e+05           232832.42  \n51892  5.950681e+05   608012.94          1.294481e+04           -28193.42  \n52104  5.790495e+05   592020.57          1.297107e+04           -59299.97  \n52311  4.939211e+05   955965.10          4.620440e+05           332618.50  \n52528  5.057590e+05  1304517.69          7.987587e+05           643487.69  \n52739  4.002406e+05   954923.84          5.546833e+05          -117452.37  \n52948  3.588961e+05   983633.96          6.247378e+05           -96319.39  \n53153  8.230752e+05  1239713.41          4.166382e+05           279883.23  \n53364  4.151327e+05   984700.32          5.695677e+05            67678.65  \n53570  4.818272e+05   902704.17          4.208770e+05            65886.52  \n53778  3.754915e+05   760826.23          3.853347e+05          -472813.75  \n53988  4.386749e+05   675193.58          2.365187e+05          -333523.71  \n54195  3.979000e+05   738930.97          3.410310e+05           -51269.00  \n54409  5.283087e+05   599461.42          7.115273e+04          -152799.03  \n54620  3.613694e+05   736713.86          3.753444e+05           -98511.63  \n54834  4.809034e+05   755117.16          2.742138e+05            72430.75  \n55057  5.274489e+05  1057766.88          5.303180e+05           316252.05  \n55275  4.899400e+05   863639.01          3.736990e+05            54981.00  \n55488  5.828381e+05  1068375.18          4.855371e+05           223357.53  \n55698  3.751081e+05   725227.25          3.501191e+05          -274880.79  \n55910  3.756350e+05   985734.82          6.100999e+05            47208.22  \n56122  4.049839e+05   794657.48          3.896735e+05           -48041.64  \n56325  4.143728e+05  1138708.98          7.243362e+05           261149.47  \n56533  4.195829e+05  1034089.55          6.145066e+05           193960.78  \n56755  4.531606e+05  1196588.26          7.434276e+05            17367.78  \n56974  4.247899e+05   946934.62          5.221447e+05           -91695.77  \n57186  2.760689e+05  1144726.84          8.686579e+05           -65290.56  \n57402  4.437362e+05  1414238.68          9.705025e+05           416611.99  \n57614  7.516509e+05   706222.62         -4.542826e+04           -28495.71  \n57827  4.399833e+05   931697.35          4.917140e+05           169296.46  \n58044  3.129238e+05   651456.77          3.385330e+05          -159479.07  \n58262  3.644543e+05   778169.16          4.137148e+05            -8762.48  \n58474  4.000882e+05   955841.86          5.557536e+05            23586.97  \n58686  4.190342e+05   701558.15          2.825240e+05           -35589.82  \n58897  3.944028e+05   758336.22          3.639335e+05           -13143.73  \n59128  3.672227e+05   633583.36          2.663606e+05          -309923.78  \n59352  2.874184e+05   571339.95          2.839216e+05          -183611.37  \n59569  3.768133e+05   521701.27          1.448880e+05          -315226.45  \n59810  4.201317e+05   499034.32          7.890263e+04          -279428.46  \n60045  3.266265e+05   985958.30          6.593318e+05           192612.34  \n60271  3.913628e+05   742794.14          3.514314e+05           -84020.99  \n60492  4.278589e+05   689672.52          2.618136e+05          -159282.64  \n60708  5.268569e+05   874091.16          3.472343e+05           100183.36  \n60927  3.257807e+05   840798.25          5.150176e+05           -72323.31  \n61146  4.582421e+05   991042.31          5.328002e+05            61016.53  \n61368  3.942883e+05        0.00         -3.942883e+05          -953951.07  \n61605  7.588109e+05        0.00         -7.588109e+05          -902708.14  \n61837  3.725833e+05        0.00         -3.725833e+05         -1100481.67  \n62058  4.667027e+05        0.00         -4.667027e+05          -935333.88  \n62275  1.376882e+06        0.00         -1.376882e+06          -830487.82  ",
      "text/html": "<div>\n<style scoped>\n    .dataframe tbody tr th:only-of-type {\n        vertical-align: middle;\n    }\n\n    .dataframe tbody tr th {\n        vertical-align: top;\n    }\n\n    .dataframe thead th {\n        text-align: right;\n    }\n</style>\n<table border=\"1\" class=\"dataframe\">\n  <thead>\n    <tr style=\"text-align: right;\">\n      <th></th>\n      <th>Yr &amp; Wk</th>\n      <th>WK</th>\n      <th>Fisc Yr</th>\n      <th>Mixd Plt Matrl Desc</th>\n      <th>Predicted</th>\n      <th>Actual</th>\n      <th>Predicted_Difference</th>\n      <th>Planned_Difference</th>\n    </tr>\n  </thead>\n  <tbody>\n    <tr>\n      <th>51245</th>\n      <td>2023&amp;1</td>\n      <td>1</td>\n      <td>2023</td>\n      <td>PT FRSTD BRN SGR CIN TSTP 8CT 13.5OZX12</td>\n      <td>9.436732e+05</td>\n      <td>829928.09</td>\n      <td>-1.137451e+05</td>\n      <td>30812.06</td>\n    </tr>\n    <tr>\n      <th>51464</th>\n      <td>2023&amp;2</td>\n      <td>2</td>\n      <td>2023</td>\n      <td>PT FRSTD BRN SGR CIN TSTP 8CT 13.5OZX12</td>\n      <td>6.703928e+05</td>\n      <td>728800.99</td>\n      <td>5.840824e+04</td>\n      <td>33552.57</td>\n    </tr>\n    <tr>\n      <th>51678</th>\n      <td>2023&amp;3</td>\n      <td>3</td>\n      <td>2023</td>\n      <td>PT FRSTD BRN SGR CIN TSTP 8CT 13.5OZX12</td>\n      <td>5.729199e+05</td>\n      <td>786825.07</td>\n      <td>2.139051e+05</td>\n      <td>232832.42</td>\n    </tr>\n    <tr>\n      <th>51892</th>\n      <td>2023&amp;4</td>\n      <td>4</td>\n      <td>2023</td>\n      <td>PT FRSTD BRN SGR CIN TSTP 8CT 13.5OZX12</td>\n      <td>5.950681e+05</td>\n      <td>608012.94</td>\n      <td>1.294481e+04</td>\n      <td>-28193.42</td>\n    </tr>\n    <tr>\n      <th>52104</th>\n      <td>2023&amp;5</td>\n      <td>5</td>\n      <td>2023</td>\n      <td>PT FRSTD BRN SGR CIN TSTP 8CT 13.5OZX12</td>\n      <td>5.790495e+05</td>\n      <td>592020.57</td>\n      <td>1.297107e+04</td>\n      <td>-59299.97</td>\n    </tr>\n    <tr>\n      <th>52311</th>\n      <td>2023&amp;6</td>\n      <td>6</td>\n      <td>2023</td>\n      <td>PT FRSTD BRN SGR CIN TSTP 8CT 13.5OZX12</td>\n      <td>4.939211e+05</td>\n      <td>955965.10</td>\n      <td>4.620440e+05</td>\n      <td>332618.50</td>\n    </tr>\n    <tr>\n      <th>52528</th>\n      <td>2023&amp;7</td>\n      <td>7</td>\n      <td>2023</td>\n      <td>PT FRSTD BRN SGR CIN TSTP 8CT 13.5OZX12</td>\n      <td>5.057590e+05</td>\n      <td>1304517.69</td>\n      <td>7.987587e+05</td>\n      <td>643487.69</td>\n    </tr>\n    <tr>\n      <th>52739</th>\n      <td>2023&amp;8</td>\n      <td>8</td>\n      <td>2023</td>\n      <td>PT FRSTD BRN SGR CIN TSTP 8CT 13.5OZX12</td>\n      <td>4.002406e+05</td>\n      <td>954923.84</td>\n      <td>5.546833e+05</td>\n      <td>-117452.37</td>\n    </tr>\n    <tr>\n      <th>52948</th>\n      <td>2023&amp;9</td>\n      <td>9</td>\n      <td>2023</td>\n      <td>PT FRSTD BRN SGR CIN TSTP 8CT 13.5OZX12</td>\n      <td>3.588961e+05</td>\n      <td>983633.96</td>\n      <td>6.247378e+05</td>\n      <td>-96319.39</td>\n    </tr>\n    <tr>\n      <th>53153</th>\n      <td>2023&amp;10</td>\n      <td>10</td>\n      <td>2023</td>\n      <td>PT FRSTD BRN SGR CIN TSTP 8CT 13.5OZX12</td>\n      <td>8.230752e+05</td>\n      <td>1239713.41</td>\n      <td>4.166382e+05</td>\n      <td>279883.23</td>\n    </tr>\n    <tr>\n      <th>53364</th>\n      <td>2023&amp;11</td>\n      <td>11</td>\n      <td>2023</td>\n      <td>PT FRSTD BRN SGR CIN TSTP 8CT 13.5OZX12</td>\n      <td>4.151327e+05</td>\n      <td>984700.32</td>\n      <td>5.695677e+05</td>\n      <td>67678.65</td>\n    </tr>\n    <tr>\n      <th>53570</th>\n      <td>2023&amp;12</td>\n      <td>12</td>\n      <td>2023</td>\n      <td>PT FRSTD BRN SGR CIN TSTP 8CT 13.5OZX12</td>\n      <td>4.818272e+05</td>\n      <td>902704.17</td>\n      <td>4.208770e+05</td>\n      <td>65886.52</td>\n    </tr>\n    <tr>\n      <th>53778</th>\n      <td>2023&amp;13</td>\n      <td>13</td>\n      <td>2023</td>\n      <td>PT FRSTD BRN SGR CIN TSTP 8CT 13.5OZX12</td>\n      <td>3.754915e+05</td>\n      <td>760826.23</td>\n      <td>3.853347e+05</td>\n      <td>-472813.75</td>\n    </tr>\n    <tr>\n      <th>53988</th>\n      <td>2023&amp;14</td>\n      <td>14</td>\n      <td>2023</td>\n      <td>PT FRSTD BRN SGR CIN TSTP 8CT 13.5OZX12</td>\n      <td>4.386749e+05</td>\n      <td>675193.58</td>\n      <td>2.365187e+05</td>\n      <td>-333523.71</td>\n    </tr>\n    <tr>\n      <th>54195</th>\n      <td>2023&amp;15</td>\n      <td>15</td>\n      <td>2023</td>\n      <td>PT FRSTD BRN SGR CIN TSTP 8CT 13.5OZX12</td>\n      <td>3.979000e+05</td>\n      <td>738930.97</td>\n      <td>3.410310e+05</td>\n      <td>-51269.00</td>\n    </tr>\n    <tr>\n      <th>54409</th>\n      <td>2023&amp;16</td>\n      <td>16</td>\n      <td>2023</td>\n      <td>PT FRSTD BRN SGR CIN TSTP 8CT 13.5OZX12</td>\n      <td>5.283087e+05</td>\n      <td>599461.42</td>\n      <td>7.115273e+04</td>\n      <td>-152799.03</td>\n    </tr>\n    <tr>\n      <th>54620</th>\n      <td>2023&amp;17</td>\n      <td>17</td>\n      <td>2023</td>\n      <td>PT FRSTD BRN SGR CIN TSTP 8CT 13.5OZX12</td>\n      <td>3.613694e+05</td>\n      <td>736713.86</td>\n      <td>3.753444e+05</td>\n      <td>-98511.63</td>\n    </tr>\n    <tr>\n      <th>54834</th>\n      <td>2023&amp;18</td>\n      <td>18</td>\n      <td>2023</td>\n      <td>PT FRSTD BRN SGR CIN TSTP 8CT 13.5OZX12</td>\n      <td>4.809034e+05</td>\n      <td>755117.16</td>\n      <td>2.742138e+05</td>\n      <td>72430.75</td>\n    </tr>\n    <tr>\n      <th>55057</th>\n      <td>2023&amp;19</td>\n      <td>19</td>\n      <td>2023</td>\n      <td>PT FRSTD BRN SGR CIN TSTP 8CT 13.5OZX12</td>\n      <td>5.274489e+05</td>\n      <td>1057766.88</td>\n      <td>5.303180e+05</td>\n      <td>316252.05</td>\n    </tr>\n    <tr>\n      <th>55275</th>\n      <td>2023&amp;20</td>\n      <td>20</td>\n      <td>2023</td>\n      <td>PT FRSTD BRN SGR CIN TSTP 8CT 13.5OZX12</td>\n      <td>4.899400e+05</td>\n      <td>863639.01</td>\n      <td>3.736990e+05</td>\n      <td>54981.00</td>\n    </tr>\n    <tr>\n      <th>55488</th>\n      <td>2023&amp;21</td>\n      <td>21</td>\n      <td>2023</td>\n      <td>PT FRSTD BRN SGR CIN TSTP 8CT 13.5OZX12</td>\n      <td>5.828381e+05</td>\n      <td>1068375.18</td>\n      <td>4.855371e+05</td>\n      <td>223357.53</td>\n    </tr>\n    <tr>\n      <th>55698</th>\n      <td>2023&amp;22</td>\n      <td>22</td>\n      <td>2023</td>\n      <td>PT FRSTD BRN SGR CIN TSTP 8CT 13.5OZX12</td>\n      <td>3.751081e+05</td>\n      <td>725227.25</td>\n      <td>3.501191e+05</td>\n      <td>-274880.79</td>\n    </tr>\n    <tr>\n      <th>55910</th>\n      <td>2023&amp;23</td>\n      <td>23</td>\n      <td>2023</td>\n      <td>PT FRSTD BRN SGR CIN TSTP 8CT 13.5OZX12</td>\n      <td>3.756350e+05</td>\n      <td>985734.82</td>\n      <td>6.100999e+05</td>\n      <td>47208.22</td>\n    </tr>\n    <tr>\n      <th>56122</th>\n      <td>2023&amp;24</td>\n      <td>24</td>\n      <td>2023</td>\n      <td>PT FRSTD BRN SGR CIN TSTP 8CT 13.5OZX12</td>\n      <td>4.049839e+05</td>\n      <td>794657.48</td>\n      <td>3.896735e+05</td>\n      <td>-48041.64</td>\n    </tr>\n    <tr>\n      <th>56325</th>\n      <td>2023&amp;25</td>\n      <td>25</td>\n      <td>2023</td>\n      <td>PT FRSTD BRN SGR CIN TSTP 8CT 13.5OZX12</td>\n      <td>4.143728e+05</td>\n      <td>1138708.98</td>\n      <td>7.243362e+05</td>\n      <td>261149.47</td>\n    </tr>\n    <tr>\n      <th>56533</th>\n      <td>2023&amp;26</td>\n      <td>26</td>\n      <td>2023</td>\n      <td>PT FRSTD BRN SGR CIN TSTP 8CT 13.5OZX12</td>\n      <td>4.195829e+05</td>\n      <td>1034089.55</td>\n      <td>6.145066e+05</td>\n      <td>193960.78</td>\n    </tr>\n    <tr>\n      <th>56755</th>\n      <td>2023&amp;27</td>\n      <td>27</td>\n      <td>2023</td>\n      <td>PT FRSTD BRN SGR CIN TSTP 8CT 13.5OZX12</td>\n      <td>4.531606e+05</td>\n      <td>1196588.26</td>\n      <td>7.434276e+05</td>\n      <td>17367.78</td>\n    </tr>\n    <tr>\n      <th>56974</th>\n      <td>2023&amp;28</td>\n      <td>28</td>\n      <td>2023</td>\n      <td>PT FRSTD BRN SGR CIN TSTP 8CT 13.5OZX12</td>\n      <td>4.247899e+05</td>\n      <td>946934.62</td>\n      <td>5.221447e+05</td>\n      <td>-91695.77</td>\n    </tr>\n    <tr>\n      <th>57186</th>\n      <td>2023&amp;29</td>\n      <td>29</td>\n      <td>2023</td>\n      <td>PT FRSTD BRN SGR CIN TSTP 8CT 13.5OZX12</td>\n      <td>2.760689e+05</td>\n      <td>1144726.84</td>\n      <td>8.686579e+05</td>\n      <td>-65290.56</td>\n    </tr>\n    <tr>\n      <th>57402</th>\n      <td>2023&amp;30</td>\n      <td>30</td>\n      <td>2023</td>\n      <td>PT FRSTD BRN SGR CIN TSTP 8CT 13.5OZX12</td>\n      <td>4.437362e+05</td>\n      <td>1414238.68</td>\n      <td>9.705025e+05</td>\n      <td>416611.99</td>\n    </tr>\n    <tr>\n      <th>57614</th>\n      <td>2023&amp;31</td>\n      <td>31</td>\n      <td>2023</td>\n      <td>PT FRSTD BRN SGR CIN TSTP 8CT 13.5OZX12</td>\n      <td>7.516509e+05</td>\n      <td>706222.62</td>\n      <td>-4.542826e+04</td>\n      <td>-28495.71</td>\n    </tr>\n    <tr>\n      <th>57827</th>\n      <td>2023&amp;32</td>\n      <td>32</td>\n      <td>2023</td>\n      <td>PT FRSTD BRN SGR CIN TSTP 8CT 13.5OZX12</td>\n      <td>4.399833e+05</td>\n      <td>931697.35</td>\n      <td>4.917140e+05</td>\n      <td>169296.46</td>\n    </tr>\n    <tr>\n      <th>58044</th>\n      <td>2023&amp;33</td>\n      <td>33</td>\n      <td>2023</td>\n      <td>PT FRSTD BRN SGR CIN TSTP 8CT 13.5OZX12</td>\n      <td>3.129238e+05</td>\n      <td>651456.77</td>\n      <td>3.385330e+05</td>\n      <td>-159479.07</td>\n    </tr>\n    <tr>\n      <th>58262</th>\n      <td>2023&amp;34</td>\n      <td>34</td>\n      <td>2023</td>\n      <td>PT FRSTD BRN SGR CIN TSTP 8CT 13.5OZX12</td>\n      <td>3.644543e+05</td>\n      <td>778169.16</td>\n      <td>4.137148e+05</td>\n      <td>-8762.48</td>\n    </tr>\n    <tr>\n      <th>58474</th>\n      <td>2023&amp;35</td>\n      <td>35</td>\n      <td>2023</td>\n      <td>PT FRSTD BRN SGR CIN TSTP 8CT 13.5OZX12</td>\n      <td>4.000882e+05</td>\n      <td>955841.86</td>\n      <td>5.557536e+05</td>\n      <td>23586.97</td>\n    </tr>\n    <tr>\n      <th>58686</th>\n      <td>2023&amp;36</td>\n      <td>36</td>\n      <td>2023</td>\n      <td>PT FRSTD BRN SGR CIN TSTP 8CT 13.5OZX12</td>\n      <td>4.190342e+05</td>\n      <td>701558.15</td>\n      <td>2.825240e+05</td>\n      <td>-35589.82</td>\n    </tr>\n    <tr>\n      <th>58897</th>\n      <td>2023&amp;37</td>\n      <td>37</td>\n      <td>2023</td>\n      <td>PT FRSTD BRN SGR CIN TSTP 8CT 13.5OZX12</td>\n      <td>3.944028e+05</td>\n      <td>758336.22</td>\n      <td>3.639335e+05</td>\n      <td>-13143.73</td>\n    </tr>\n    <tr>\n      <th>59128</th>\n      <td>2023&amp;38</td>\n      <td>38</td>\n      <td>2023</td>\n      <td>PT FRSTD BRN SGR CIN TSTP 8CT 13.5OZX12</td>\n      <td>3.672227e+05</td>\n      <td>633583.36</td>\n      <td>2.663606e+05</td>\n      <td>-309923.78</td>\n    </tr>\n    <tr>\n      <th>59352</th>\n      <td>2023&amp;39</td>\n      <td>39</td>\n      <td>2023</td>\n      <td>PT FRSTD BRN SGR CIN TSTP 8CT 13.5OZX12</td>\n      <td>2.874184e+05</td>\n      <td>571339.95</td>\n      <td>2.839216e+05</td>\n      <td>-183611.37</td>\n    </tr>\n    <tr>\n      <th>59569</th>\n      <td>2023&amp;40</td>\n      <td>40</td>\n      <td>2023</td>\n      <td>PT FRSTD BRN SGR CIN TSTP 8CT 13.5OZX12</td>\n      <td>3.768133e+05</td>\n      <td>521701.27</td>\n      <td>1.448880e+05</td>\n      <td>-315226.45</td>\n    </tr>\n    <tr>\n      <th>59810</th>\n      <td>2023&amp;41</td>\n      <td>41</td>\n      <td>2023</td>\n      <td>PT FRSTD BRN SGR CIN TSTP 8CT 13.5OZX12</td>\n      <td>4.201317e+05</td>\n      <td>499034.32</td>\n      <td>7.890263e+04</td>\n      <td>-279428.46</td>\n    </tr>\n    <tr>\n      <th>60045</th>\n      <td>2023&amp;42</td>\n      <td>42</td>\n      <td>2023</td>\n      <td>PT FRSTD BRN SGR CIN TSTP 8CT 13.5OZX12</td>\n      <td>3.266265e+05</td>\n      <td>985958.30</td>\n      <td>6.593318e+05</td>\n      <td>192612.34</td>\n    </tr>\n    <tr>\n      <th>60271</th>\n      <td>2023&amp;43</td>\n      <td>43</td>\n      <td>2023</td>\n      <td>PT FRSTD BRN SGR CIN TSTP 8CT 13.5OZX12</td>\n      <td>3.913628e+05</td>\n      <td>742794.14</td>\n      <td>3.514314e+05</td>\n      <td>-84020.99</td>\n    </tr>\n    <tr>\n      <th>60492</th>\n      <td>2023&amp;44</td>\n      <td>44</td>\n      <td>2023</td>\n      <td>PT FRSTD BRN SGR CIN TSTP 8CT 13.5OZX12</td>\n      <td>4.278589e+05</td>\n      <td>689672.52</td>\n      <td>2.618136e+05</td>\n      <td>-159282.64</td>\n    </tr>\n    <tr>\n      <th>60708</th>\n      <td>2023&amp;45</td>\n      <td>45</td>\n      <td>2023</td>\n      <td>PT FRSTD BRN SGR CIN TSTP 8CT 13.5OZX12</td>\n      <td>5.268569e+05</td>\n      <td>874091.16</td>\n      <td>3.472343e+05</td>\n      <td>100183.36</td>\n    </tr>\n    <tr>\n      <th>60927</th>\n      <td>2023&amp;46</td>\n      <td>46</td>\n      <td>2023</td>\n      <td>PT FRSTD BRN SGR CIN TSTP 8CT 13.5OZX12</td>\n      <td>3.257807e+05</td>\n      <td>840798.25</td>\n      <td>5.150176e+05</td>\n      <td>-72323.31</td>\n    </tr>\n    <tr>\n      <th>61146</th>\n      <td>2023&amp;47</td>\n      <td>47</td>\n      <td>2023</td>\n      <td>PT FRSTD BRN SGR CIN TSTP 8CT 13.5OZX12</td>\n      <td>4.582421e+05</td>\n      <td>991042.31</td>\n      <td>5.328002e+05</td>\n      <td>61016.53</td>\n    </tr>\n    <tr>\n      <th>61368</th>\n      <td>2023&amp;48</td>\n      <td>48</td>\n      <td>2023</td>\n      <td>PT FRSTD BRN SGR CIN TSTP 8CT 13.5OZX12</td>\n      <td>3.942883e+05</td>\n      <td>0.00</td>\n      <td>-3.942883e+05</td>\n      <td>-953951.07</td>\n    </tr>\n    <tr>\n      <th>61605</th>\n      <td>2023&amp;49</td>\n      <td>49</td>\n      <td>2023</td>\n      <td>PT FRSTD BRN SGR CIN TSTP 8CT 13.5OZX12</td>\n      <td>7.588109e+05</td>\n      <td>0.00</td>\n      <td>-7.588109e+05</td>\n      <td>-902708.14</td>\n    </tr>\n    <tr>\n      <th>61837</th>\n      <td>2023&amp;50</td>\n      <td>50</td>\n      <td>2023</td>\n      <td>PT FRSTD BRN SGR CIN TSTP 8CT 13.5OZX12</td>\n      <td>3.725833e+05</td>\n      <td>0.00</td>\n      <td>-3.725833e+05</td>\n      <td>-1100481.67</td>\n    </tr>\n    <tr>\n      <th>62058</th>\n      <td>2023&amp;51</td>\n      <td>51</td>\n      <td>2023</td>\n      <td>PT FRSTD BRN SGR CIN TSTP 8CT 13.5OZX12</td>\n      <td>4.667027e+05</td>\n      <td>0.00</td>\n      <td>-4.667027e+05</td>\n      <td>-935333.88</td>\n    </tr>\n    <tr>\n      <th>62275</th>\n      <td>2023&amp;52</td>\n      <td>52</td>\n      <td>2023</td>\n      <td>PT FRSTD BRN SGR CIN TSTP 8CT 13.5OZX12</td>\n      <td>1.376882e+06</td>\n      <td>0.00</td>\n      <td>-1.376882e+06</td>\n      <td>-830487.82</td>\n    </tr>\n  </tbody>\n</table>\n</div>"
     },
     "execution_count": 51,
     "metadata": {},
     "output_type": "execute_result"
    }
   ],
   "source": [
    "result_df"
   ],
   "metadata": {
    "collapsed": false,
    "ExecuteTime": {
     "end_time": "2024-03-18T11:11:11.701472400Z",
     "start_time": "2024-03-18T11:11:11.678134800Z"
    }
   },
   "id": "a905bcd435d66cd7",
   "execution_count": 51
  },
  {
   "cell_type": "code",
   "outputs": [
    {
     "data": {
      "text/plain": "<Figure size 1200x600 with 2 Axes>",
      "image/png": "[encoded data removed]"
     },
     "metadata": {},
     "output_type": "display_data"
    }
   ],
   "source": [
    "selected_rows = temp[temp['Fisc Yr'] == 2023]\n",
    "selected_rows = selected_rows[selected_rows['Mixd Plt Matrl Desc'] == 'PT FRSTD BRN SGR CIN TSTP 8CT 13.5OZX12']\n",
    "\n",
    "import matplotlib.pyplot as plt\n",
    "\n",
    "# Plot the differences\n",
    "plt.figure(figsize=(12, 6))\n",
    "\n",
    "# Plot for Predicted Actuals - Actuals\n",
    "plt.subplot(1, 2, 1)\n",
    "plt.bar(result_df['WK'], result_df['Predicted_Difference'], label='Actual - Predicted', color='blue')\n",
    "plt.title('Actuals - Predicted Actuals')\n",
    "plt.xlabel('Date')\n",
    "plt.ylabel('Difference')\n",
    "plt.xticks(rotation=45, ha='right')\n",
    "plt.legend()\n",
    "plt.ticklabel_format(axis='y', style='plain')\n",
    "\n",
    "# Plot for Planned Actuals - Actuals\n",
    "plt.subplot(1, 2, 2)\n",
    "plt.bar(selected_rows['WK'], selected_rows['Actl Ship Usd'] - selected_rows['Pln Ship Usd'], label='Actual - Planned Actual', color='red')\n",
    "plt.title('Actuals - Planned Actuals')\n",
    "plt.xlabel('Date')\n",
    "plt.ylabel('Difference')\n",
    "plt.legend()\n",
    "\n",
    "# Set y-axis limits to be the same for both subplots\n",
    "min_y = min(result_df['Predicted_Difference'].min(),\n",
    "            (selected_rows['Actl Ship Usd'] - selected_rows['Pln Ship Usd']).min())\n",
    "max_y = max(result_df['Predicted_Difference'].max(),\n",
    "            (selected_rows['Actl Ship Usd'] - selected_rows['Pln Ship Usd']).max())\n",
    "\n",
    "plt.subplot(1, 2, 1)\n",
    "plt.ylim(min_y, max_y)\n",
    "\n",
    "plt.subplot(1, 2, 2)\n",
    "plt.ylim(min_y, max_y)\n",
    "\n",
    "# Adjust y-axis formatting to show full numbers\n",
    "plt.ticklabel_format(axis='y', style='plain')\n",
    "\n",
    "plt.xticks(rotation=45, ha='right')\n",
    "plt.tight_layout()\n",
    "plt.show()\n"
   ],
   "metadata": {
    "collapsed": false,
    "ExecuteTime": {
     "end_time": "2024-03-18T11:16:21.962842700Z",
     "start_time": "2024-03-18T11:16:21.468432Z"
    }
   },
   "id": "aadf78de1531bc22",
   "execution_count": 59
  },
  {
   "cell_type": "code",
   "outputs": [],
   "source": [],
   "metadata": {
    "collapsed": false
   },
   "id": "e3e6353f23a75e30"
  }
 ],
 "metadata": {
  "kernelspec": {
   "display_name": "Python 3",
   "language": "python",
   "name": "python3"
  },
  "language_info": {
   "codemirror_mode": {
    "name": "ipython",
    "version": 2
   },
   "file_extension": ".py",
   "mimetype": "text/x-python",
   "name": "python",
   "nbconvert_exporter": "python",
   "pygments_lexer": "ipython2",
   "version": "2.7.6"
  }
 },
 "nbformat": 4,
 "nbformat_minor": 5
}
