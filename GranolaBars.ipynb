{
 "cells": [
  {
   "cell_type": "code",
   "execution_count": 27,
   "id": "initial_id",
   "metadata": {
    "collapsed": true,
    "ExecuteTime": {
     "end_time": "2024-03-13T19:05:47.325126100Z",
     "start_time": "2024-03-13T19:05:47.292915900Z"
    }
   },
   "outputs": [],
   "source": [
    "import pandas as pd\n",
    "import numpy as np\n",
    "import matplotlib.pyplot as plt\n",
    "import seaborn as sns\n",
    "\n",
    "%matplotlib inline"
   ]
  },
  {
   "cell_type": "markdown",
   "source": [
    "# Standard Granola Bar Companies Analysis"
   ],
   "metadata": {
    "collapsed": false
   },
   "id": "fbc53d185cdaea36"
  },
  {
   "cell_type": "code",
   "outputs": [],
   "source": [
    "edt = pd.read_csv('EDT_3P (KG_HADOOP) Prod_EDT_3P.csv')"
   ],
   "metadata": {
    "collapsed": false,
    "ExecuteTime": {
     "end_time": "2024-03-13T19:06:00.540816400Z",
     "start_time": "2024-03-13T19:05:48.094572800Z"
    }
   },
   "id": "c3e089faae8f7634",
   "execution_count": 28
  },
  {
   "cell_type": "code",
   "outputs": [],
   "source": [
    "#knova brands\n",
    "kashi = edt[edt['Kel Brand'] == 'KNOVA KSH']\n",
    "bear = edt[edt['Kel Brand'] == 'KNOVA BEAR NKD']\n",
    "sk = edt[edt['Kel Brand'] == 'KNOVA SK']"
   ],
   "metadata": {
    "collapsed": false,
    "ExecuteTime": {
     "end_time": "2024-03-13T19:06:01.202467200Z",
     "start_time": "2024-03-13T19:06:00.649126800Z"
    }
   },
   "id": "c3146debcc5ba62a",
   "execution_count": 31
  },
  {
   "cell_type": "code",
   "outputs": [],
   "source": [
    "#competitors (not all but the major brands)\n",
    "chewy2 = edt[edt['Kel Brand'] == 'PRVT LBL']\n",
    "kind = edt[edt['Kel Brand'] == 'KIND']\n",
    "nv = edt[edt['Kel Brand'] == 'GM NV']\n",
    "clif = edt[edt['Kel Brand'] == 'CLIF']\n",
    "chewy = edt[edt['Kel Brand'] == 'QKR CWY']"
   ],
   "metadata": {
    "collapsed": false,
    "ExecuteTime": {
     "end_time": "2024-03-13T19:06:02.524639800Z",
     "start_time": "2024-03-13T19:06:00.964106500Z"
    }
   },
   "id": "8780a91c9dd9c5b6",
   "execution_count": 32
  },
  {
   "cell_type": "code",
   "outputs": [],
   "source": [
    "filter_values = ['KNOVA KSH', 'KNOVA BEAR NKD', 'KNOVA SK', 'PRVT LBL', 'KIND', 'GM NV', 'CLIF', 'QKR CWY']\n",
    "\n",
    "bar_food = pd.concat([edt[edt['Kel Brand'] == value] for value in filter_values])\n",
    "\n",
    "#bar_food.to_csv('granola_bars.csv', index = False)"
   ],
   "metadata": {
    "collapsed": false,
    "ExecuteTime": {
     "end_time": "2024-03-13T19:06:04.048645500Z",
     "start_time": "2024-03-13T19:06:02.526634500Z"
    }
   },
   "id": "be0676919484626a",
   "execution_count": 33
  },
  {
   "cell_type": "markdown",
   "source": [
    "# Protein Bars Analysis"
   ],
   "metadata": {
    "collapsed": false
   },
   "id": "4234b2a27e75fb61"
  },
  {
   "cell_type": "code",
   "outputs": [],
   "source": [
    "filter_values = ['PROTEIN', 'PRO', 'PTN', 'PRTN']\n",
    "\n",
    "protein = pd.concat([edt[edt['Kel Ppg'].str.contains(value)] for value in filter_values])"
   ],
   "metadata": {
    "collapsed": false,
    "ExecuteTime": {
     "end_time": "2024-03-13T19:52:11.876951600Z",
     "start_time": "2024-03-13T19:52:10.444424Z"
    }
   },
   "id": "3732257d7a460660",
   "execution_count": 42
  },
  {
   "cell_type": "code",
   "outputs": [],
   "source": [
    "#protein.to_csv('protein_bars.csv', index = False)"
   ],
   "metadata": {
    "collapsed": false,
    "ExecuteTime": {
     "end_time": "2024-03-13T19:52:13.472841100Z",
     "start_time": "2024-03-13T19:52:13.455044200Z"
    }
   },
   "id": "d5ccb1cff817bb22",
   "execution_count": 43
  },
  {
   "cell_type": "code",
   "outputs": [
    {
     "data": {
      "text/plain": "        12 Months selected               brand & size  Cntstr  Fisc Pd  \\\n13                    False      GM NV NOT APPLICABLE     1.0       11   \n26                    False   KNOVA SK NOT APPLICABLE     1.0       11   \n43                    False      RXBAR NOT APPLICABLE     1.0       11   \n104                   False        QST NOT APPLICABLE     4.0       11   \n109                   False      GM NV NOT APPLICABLE     5.0       11   \n...                     ...                       ...     ...      ...   \n683233                False  ENJY LIFE NOT APPLICABLE     NaN        7   \n683466                False  ENJY LIFE NOT APPLICABLE     NaN        8   \n683473                False  ENJY LIFE NOT APPLICABLE     NaN        8   \n683714                False  ENJY LIFE NOT APPLICABLE     NaN        9   \n683721                False  ENJY LIFE NOT APPLICABLE     NaN        9   \n\n        Fisc Pd_int  Fisc Yr  Kel Brand Kel Category    Kel Corporate  \\\n13               11     2020      GM NV          PWS          GMI CRP   \n26               11     2020   KNOVA SK          PWS            K CRP   \n43               11     2020      RXBAR          PWS            K CRP   \n104              11     2020        QST          PWS  SMPLY GD FD CRP   \n109              11     2020      GM NV          PWS          GMI CRP   \n...             ...      ...        ...          ...              ...   \n683233            7     2022  ENJY LIFE          PWS        MNDLZ CRP   \n683466            8     2022  ENJY LIFE          PWS        MNDLZ CRP   \n683473            8     2022  ENJY LIFE          PWS        MNDLZ CRP   \n683714            9     2022  ENJY LIFE          PWS        MNDLZ CRP   \n683721            9     2022  ENJY LIFE          PWS        MNDLZ CRP   \n\n       Kel Count  ... UnitsNpx Yago Dol Yago Dol Ap Yago Dol Np Yago Lbs  \\\n13         01 CT  ...      NaN     0.00        0.00        0.00     0.00   \n26         01 CT  ...      NaN     0.00        0.00        0.00     0.00   \n43         01 CT  ...      NaN     0.00        0.00        0.00     0.00   \n104        04 CT  ...      NaN     0.00        0.00        0.00     0.00   \n109        05 CT  ...      NaN     0.00        0.00        0.00     0.00   \n...          ...  ...      ...      ...         ...         ...      ...   \n683233   DOY BAG  ...      NaN  4408.64        0.00     4408.64   294.40   \n683466   DOY BAG  ...      NaN     0.00        0.00        0.00     0.00   \n683473   DOY BAG  ...      NaN  4611.10     2059.41     2551.69   328.40   \n683714   DOY BAG  ...      NaN   154.08        0.00      154.08    10.06   \n683721   DOY BAG  ...      NaN  6684.84        0.00     6684.84   446.40   \n\n       Yago Lbs Ap Yago Lbs Np Yago Units Yago Units Ap Yago Units Np  \n13             0.0        0.00       0.00           0.0          0.00  \n26             0.0        0.00       0.00           0.0          0.00  \n43             0.0        0.00       0.00           0.0          0.00  \n104            0.0        0.00       0.00           0.0          0.00  \n109            0.0        0.00       0.00           0.0          0.00  \n...            ...         ...        ...           ...           ...  \n683233         0.0      294.40     736.00           0.0        736.00  \n683466         0.0        0.00       0.00           0.0          0.00  \n683473       156.0      172.40     821.00         390.0        431.00  \n683714         0.0       10.06      25.14           0.0         25.14  \n683721         0.0      446.40    1116.00           0.0       1116.00  \n\n[95520 rows x 99 columns]",
      "text/html": "<div>\n<style scoped>\n    .dataframe tbody tr th:only-of-type {\n        vertical-align: middle;\n    }\n\n    .dataframe tbody tr th {\n        vertical-align: top;\n    }\n\n    .dataframe thead th {\n        text-align: right;\n    }\n</style>\n<table border=\"1\" class=\"dataframe\">\n  <thead>\n    <tr style=\"text-align: right;\">\n      <th></th>\n      <th>12 Months selected</th>\n      <th>brand &amp; size</th>\n      <th>Cntstr</th>\n      <th>Fisc Pd</th>\n      <th>Fisc Pd_int</th>\n      <th>Fisc Yr</th>\n      <th>Kel Brand</th>\n      <th>Kel Category</th>\n      <th>Kel Corporate</th>\n      <th>Kel Count</th>\n      <th>...</th>\n      <th>UnitsNpx</th>\n      <th>Yago Dol</th>\n      <th>Yago Dol Ap</th>\n      <th>Yago Dol Np</th>\n      <th>Yago Lbs</th>\n      <th>Yago Lbs Ap</th>\n      <th>Yago Lbs Np</th>\n      <th>Yago Units</th>\n      <th>Yago Units Ap</th>\n      <th>Yago Units Np</th>\n    </tr>\n  </thead>\n  <tbody>\n    <tr>\n      <th>13</th>\n      <td>False</td>\n      <td>GM NV NOT APPLICABLE</td>\n      <td>1.0</td>\n      <td>11</td>\n      <td>11</td>\n      <td>2020</td>\n      <td>GM NV</td>\n      <td>PWS</td>\n      <td>GMI CRP</td>\n      <td>01 CT</td>\n      <td>...</td>\n      <td>NaN</td>\n      <td>0.00</td>\n      <td>0.00</td>\n      <td>0.00</td>\n      <td>0.00</td>\n      <td>0.0</td>\n      <td>0.00</td>\n      <td>0.00</td>\n      <td>0.0</td>\n      <td>0.00</td>\n    </tr>\n    <tr>\n      <th>26</th>\n      <td>False</td>\n      <td>KNOVA SK NOT APPLICABLE</td>\n      <td>1.0</td>\n      <td>11</td>\n      <td>11</td>\n      <td>2020</td>\n      <td>KNOVA SK</td>\n      <td>PWS</td>\n      <td>K CRP</td>\n      <td>01 CT</td>\n      <td>...</td>\n      <td>NaN</td>\n      <td>0.00</td>\n      <td>0.00</td>\n      <td>0.00</td>\n      <td>0.00</td>\n      <td>0.0</td>\n      <td>0.00</td>\n      <td>0.00</td>\n      <td>0.0</td>\n      <td>0.00</td>\n    </tr>\n    <tr>\n      <th>43</th>\n      <td>False</td>\n      <td>RXBAR NOT APPLICABLE</td>\n      <td>1.0</td>\n      <td>11</td>\n      <td>11</td>\n      <td>2020</td>\n      <td>RXBAR</td>\n      <td>PWS</td>\n      <td>K CRP</td>\n      <td>01 CT</td>\n      <td>...</td>\n      <td>NaN</td>\n      <td>0.00</td>\n      <td>0.00</td>\n      <td>0.00</td>\n      <td>0.00</td>\n      <td>0.0</td>\n      <td>0.00</td>\n      <td>0.00</td>\n      <td>0.0</td>\n      <td>0.00</td>\n    </tr>\n    <tr>\n      <th>104</th>\n      <td>False</td>\n      <td>QST NOT APPLICABLE</td>\n      <td>4.0</td>\n      <td>11</td>\n      <td>11</td>\n      <td>2020</td>\n      <td>QST</td>\n      <td>PWS</td>\n      <td>SMPLY GD FD CRP</td>\n      <td>04 CT</td>\n      <td>...</td>\n      <td>NaN</td>\n      <td>0.00</td>\n      <td>0.00</td>\n      <td>0.00</td>\n      <td>0.00</td>\n      <td>0.0</td>\n      <td>0.00</td>\n      <td>0.00</td>\n      <td>0.0</td>\n      <td>0.00</td>\n    </tr>\n    <tr>\n      <th>109</th>\n      <td>False</td>\n      <td>GM NV NOT APPLICABLE</td>\n      <td>5.0</td>\n      <td>11</td>\n      <td>11</td>\n      <td>2020</td>\n      <td>GM NV</td>\n      <td>PWS</td>\n      <td>GMI CRP</td>\n      <td>05 CT</td>\n      <td>...</td>\n      <td>NaN</td>\n      <td>0.00</td>\n      <td>0.00</td>\n      <td>0.00</td>\n      <td>0.00</td>\n      <td>0.0</td>\n      <td>0.00</td>\n      <td>0.00</td>\n      <td>0.0</td>\n      <td>0.00</td>\n    </tr>\n    <tr>\n      <th>...</th>\n      <td>...</td>\n      <td>...</td>\n      <td>...</td>\n      <td>...</td>\n      <td>...</td>\n      <td>...</td>\n      <td>...</td>\n      <td>...</td>\n      <td>...</td>\n      <td>...</td>\n      <td>...</td>\n      <td>...</td>\n      <td>...</td>\n      <td>...</td>\n      <td>...</td>\n      <td>...</td>\n      <td>...</td>\n      <td>...</td>\n      <td>...</td>\n      <td>...</td>\n      <td>...</td>\n    </tr>\n    <tr>\n      <th>683233</th>\n      <td>False</td>\n      <td>ENJY LIFE NOT APPLICABLE</td>\n      <td>NaN</td>\n      <td>7</td>\n      <td>7</td>\n      <td>2022</td>\n      <td>ENJY LIFE</td>\n      <td>PWS</td>\n      <td>MNDLZ CRP</td>\n      <td>DOY BAG</td>\n      <td>...</td>\n      <td>NaN</td>\n      <td>4408.64</td>\n      <td>0.00</td>\n      <td>4408.64</td>\n      <td>294.40</td>\n      <td>0.0</td>\n      <td>294.40</td>\n      <td>736.00</td>\n      <td>0.0</td>\n      <td>736.00</td>\n    </tr>\n    <tr>\n      <th>683466</th>\n      <td>False</td>\n      <td>ENJY LIFE NOT APPLICABLE</td>\n      <td>NaN</td>\n      <td>8</td>\n      <td>8</td>\n      <td>2022</td>\n      <td>ENJY LIFE</td>\n      <td>PWS</td>\n      <td>MNDLZ CRP</td>\n      <td>DOY BAG</td>\n      <td>...</td>\n      <td>NaN</td>\n      <td>0.00</td>\n      <td>0.00</td>\n      <td>0.00</td>\n      <td>0.00</td>\n      <td>0.0</td>\n      <td>0.00</td>\n      <td>0.00</td>\n      <td>0.0</td>\n      <td>0.00</td>\n    </tr>\n    <tr>\n      <th>683473</th>\n      <td>False</td>\n      <td>ENJY LIFE NOT APPLICABLE</td>\n      <td>NaN</td>\n      <td>8</td>\n      <td>8</td>\n      <td>2022</td>\n      <td>ENJY LIFE</td>\n      <td>PWS</td>\n      <td>MNDLZ CRP</td>\n      <td>DOY BAG</td>\n      <td>...</td>\n      <td>NaN</td>\n      <td>4611.10</td>\n      <td>2059.41</td>\n      <td>2551.69</td>\n      <td>328.40</td>\n      <td>156.0</td>\n      <td>172.40</td>\n      <td>821.00</td>\n      <td>390.0</td>\n      <td>431.00</td>\n    </tr>\n    <tr>\n      <th>683714</th>\n      <td>False</td>\n      <td>ENJY LIFE NOT APPLICABLE</td>\n      <td>NaN</td>\n      <td>9</td>\n      <td>9</td>\n      <td>2022</td>\n      <td>ENJY LIFE</td>\n      <td>PWS</td>\n      <td>MNDLZ CRP</td>\n      <td>DOY BAG</td>\n      <td>...</td>\n      <td>NaN</td>\n      <td>154.08</td>\n      <td>0.00</td>\n      <td>154.08</td>\n      <td>10.06</td>\n      <td>0.0</td>\n      <td>10.06</td>\n      <td>25.14</td>\n      <td>0.0</td>\n      <td>25.14</td>\n    </tr>\n    <tr>\n      <th>683721</th>\n      <td>False</td>\n      <td>ENJY LIFE NOT APPLICABLE</td>\n      <td>NaN</td>\n      <td>9</td>\n      <td>9</td>\n      <td>2022</td>\n      <td>ENJY LIFE</td>\n      <td>PWS</td>\n      <td>MNDLZ CRP</td>\n      <td>DOY BAG</td>\n      <td>...</td>\n      <td>NaN</td>\n      <td>6684.84</td>\n      <td>0.00</td>\n      <td>6684.84</td>\n      <td>446.40</td>\n      <td>0.0</td>\n      <td>446.40</td>\n      <td>1116.00</td>\n      <td>0.0</td>\n      <td>1116.00</td>\n    </tr>\n  </tbody>\n</table>\n<p>95520 rows × 99 columns</p>\n</div>"
     },
     "execution_count": 44,
     "metadata": {},
     "output_type": "execute_result"
    }
   ],
   "source": [
    "protein"
   ],
   "metadata": {
    "collapsed": false,
    "ExecuteTime": {
     "end_time": "2024-03-13T19:52:43.216432100Z",
     "start_time": "2024-03-13T19:52:43.132521400Z"
    }
   },
   "id": "f19a4464d2c5aa0e",
   "execution_count": 44
  },
  {
   "cell_type": "code",
   "outputs": [],
   "source": [],
   "metadata": {
    "collapsed": false
   },
   "id": "1fec1f7e1862cad6"
  }
 ],
 "metadata": {
  "kernelspec": {
   "display_name": "Python 3",
   "language": "python",
   "name": "python3"
  },
  "language_info": {
   "codemirror_mode": {
    "name": "ipython",
    "version": 2
   },
   "file_extension": ".py",
   "mimetype": "text/x-python",
   "name": "python",
   "nbconvert_exporter": "python",
   "pygments_lexer": "ipython2",
   "version": "2.7.6"
  }
 },
 "nbformat": 4,
 "nbformat_minor": 5
}
