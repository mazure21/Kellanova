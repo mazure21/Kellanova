{
 "cells": [
  {
   "cell_type": "code",
   "execution_count": 1,
   "id": "initial_id",
   "metadata": {
    "collapsed": true,
    "ExecuteTime": {
     "end_time": "2024-03-12T22:04:18.602274300Z",
     "start_time": "2024-03-12T22:04:18.527612600Z"
    }
   },
   "outputs": [],
   "source": [
    "import pandas as pd\n",
    "import numpy as np\n",
    "import matplotlib.pyplot as plt\n",
    "import seaborn as sns\n",
    "\n",
    "%matplotlib inline"
   ]
  },
  {
   "cell_type": "code",
   "outputs": [],
   "source": [
    "edt = pd.read_csv('EDT_3P (KG_HADOOP) Prod_EDT_3P.csv')"
   ],
   "metadata": {
    "collapsed": false,
    "ExecuteTime": {
     "end_time": "2024-03-12T22:04:33.969194700Z",
     "start_time": "2024-03-12T22:04:18.581331Z"
    }
   },
   "id": "c3e089faae8f7634",
   "execution_count": 2
  },
  {
   "cell_type": "code",
   "outputs": [
    {
     "data": {
      "text/plain": "   12 Months selected                              brand & size  Cntstr  \\\n0                False                PRLY LZBTH NOT APPLICABLE     1.0   \n1                False  BEST MAID COOKIE COMPANY NOT APPLICABLE     1.0   \n2                False                     AWAKE NOT APPLICABLE     1.0   \n3                False               BULLETPROOF NOT APPLICABLE     1.0   \n4                False                      VEGA NOT APPLICABLE     1.0   \n\n   Fisc Pd  Fisc Pd_int  Fisc Yr                 Kel Brand Kel Category  \\\n0       11           11     2020                PRLY LZBTH          PWS   \n1       11           11     2020  BEST MAID COOKIE COMPANY          PWS   \n2       11           11     2020                     AWAKE          PWS   \n3       11           11     2020               BULLETPROOF          PWS   \n4       11           11     2020                      VEGA          PWS   \n\n     Kel Corporate Kel Count  ... UnitsNpx Yago Dol Yago Dol Ap Yago Dol Np  \\\n0  APT HLTH LV CRP     01 CT  ...      NaN      0.0         0.0         0.0   \n1     ARBR INV CRP     01 CT  ...      NaN      0.0         0.0         0.0   \n2         AWKE CRP     01 CT  ...      NaN      0.0         0.0         0.0   \n3       BLTPRF CRP     01 CT  ...      NaN      0.0         0.0         0.0   \n4       DANONE CRP     01 CT  ...      NaN      0.0         0.0         0.0   \n\n  Yago Lbs Yago Lbs Ap Yago Lbs Np Yago Units Yago Units Ap Yago Units Np  \n0      0.0         0.0         0.0        0.0           0.0           0.0  \n1      0.0         0.0         0.0        0.0           0.0           0.0  \n2      0.0         0.0         0.0        0.0           0.0           0.0  \n3      0.0         0.0         0.0        0.0           0.0           0.0  \n4      0.0         0.0         0.0        0.0           0.0           0.0  \n\n[5 rows x 99 columns]",
      "text/html": "<div>\n<style scoped>\n    .dataframe tbody tr th:only-of-type {\n        vertical-align: middle;\n    }\n\n    .dataframe tbody tr th {\n        vertical-align: top;\n    }\n\n    .dataframe thead th {\n        text-align: right;\n    }\n</style>\n<table border=\"1\" class=\"dataframe\">\n  <thead>\n    <tr style=\"text-align: right;\">\n      <th></th>\n      <th>12 Months selected</th>\n      <th>brand &amp; size</th>\n      <th>Cntstr</th>\n      <th>Fisc Pd</th>\n      <th>Fisc Pd_int</th>\n      <th>Fisc Yr</th>\n      <th>Kel Brand</th>\n      <th>Kel Category</th>\n      <th>Kel Corporate</th>\n      <th>Kel Count</th>\n      <th>...</th>\n      <th>UnitsNpx</th>\n      <th>Yago Dol</th>\n      <th>Yago Dol Ap</th>\n      <th>Yago Dol Np</th>\n      <th>Yago Lbs</th>\n      <th>Yago Lbs Ap</th>\n      <th>Yago Lbs Np</th>\n      <th>Yago Units</th>\n      <th>Yago Units Ap</th>\n      <th>Yago Units Np</th>\n    </tr>\n  </thead>\n  <tbody>\n    <tr>\n      <th>0</th>\n      <td>False</td>\n      <td>PRLY LZBTH NOT APPLICABLE</td>\n      <td>1.0</td>\n      <td>11</td>\n      <td>11</td>\n      <td>2020</td>\n      <td>PRLY LZBTH</td>\n      <td>PWS</td>\n      <td>APT HLTH LV CRP</td>\n      <td>01 CT</td>\n      <td>...</td>\n      <td>NaN</td>\n      <td>0.0</td>\n      <td>0.0</td>\n      <td>0.0</td>\n      <td>0.0</td>\n      <td>0.0</td>\n      <td>0.0</td>\n      <td>0.0</td>\n      <td>0.0</td>\n      <td>0.0</td>\n    </tr>\n    <tr>\n      <th>1</th>\n      <td>False</td>\n      <td>BEST MAID COOKIE COMPANY NOT APPLICABLE</td>\n      <td>1.0</td>\n      <td>11</td>\n      <td>11</td>\n      <td>2020</td>\n      <td>BEST MAID COOKIE COMPANY</td>\n      <td>PWS</td>\n      <td>ARBR INV CRP</td>\n      <td>01 CT</td>\n      <td>...</td>\n      <td>NaN</td>\n      <td>0.0</td>\n      <td>0.0</td>\n      <td>0.0</td>\n      <td>0.0</td>\n      <td>0.0</td>\n      <td>0.0</td>\n      <td>0.0</td>\n      <td>0.0</td>\n      <td>0.0</td>\n    </tr>\n    <tr>\n      <th>2</th>\n      <td>False</td>\n      <td>AWAKE NOT APPLICABLE</td>\n      <td>1.0</td>\n      <td>11</td>\n      <td>11</td>\n      <td>2020</td>\n      <td>AWAKE</td>\n      <td>PWS</td>\n      <td>AWKE CRP</td>\n      <td>01 CT</td>\n      <td>...</td>\n      <td>NaN</td>\n      <td>0.0</td>\n      <td>0.0</td>\n      <td>0.0</td>\n      <td>0.0</td>\n      <td>0.0</td>\n      <td>0.0</td>\n      <td>0.0</td>\n      <td>0.0</td>\n      <td>0.0</td>\n    </tr>\n    <tr>\n      <th>3</th>\n      <td>False</td>\n      <td>BULLETPROOF NOT APPLICABLE</td>\n      <td>1.0</td>\n      <td>11</td>\n      <td>11</td>\n      <td>2020</td>\n      <td>BULLETPROOF</td>\n      <td>PWS</td>\n      <td>BLTPRF CRP</td>\n      <td>01 CT</td>\n      <td>...</td>\n      <td>NaN</td>\n      <td>0.0</td>\n      <td>0.0</td>\n      <td>0.0</td>\n      <td>0.0</td>\n      <td>0.0</td>\n      <td>0.0</td>\n      <td>0.0</td>\n      <td>0.0</td>\n      <td>0.0</td>\n    </tr>\n    <tr>\n      <th>4</th>\n      <td>False</td>\n      <td>VEGA NOT APPLICABLE</td>\n      <td>1.0</td>\n      <td>11</td>\n      <td>11</td>\n      <td>2020</td>\n      <td>VEGA</td>\n      <td>PWS</td>\n      <td>DANONE CRP</td>\n      <td>01 CT</td>\n      <td>...</td>\n      <td>NaN</td>\n      <td>0.0</td>\n      <td>0.0</td>\n      <td>0.0</td>\n      <td>0.0</td>\n      <td>0.0</td>\n      <td>0.0</td>\n      <td>0.0</td>\n      <td>0.0</td>\n      <td>0.0</td>\n    </tr>\n  </tbody>\n</table>\n<p>5 rows × 99 columns</p>\n</div>"
     },
     "execution_count": 3,
     "metadata": {},
     "output_type": "execute_result"
    }
   ],
   "source": [
    "edt.head()"
   ],
   "metadata": {
    "collapsed": false,
    "ExecuteTime": {
     "end_time": "2024-03-12T22:04:34.037010600Z",
     "start_time": "2024-03-12T22:04:33.971187200Z"
    }
   },
   "id": "e2b3a795a26604c0",
   "execution_count": 3
  },
  {
   "cell_type": "code",
   "outputs": [
    {
     "data": {
      "text/plain": "['AMZNG GRSS',\n 'ANNIES',\n 'ARBOR INVESTMENTS BR REM',\n 'ATKNS',\n 'AWAKE',\n 'B&G BR REM',\n 'B&G FD BR REM',\n 'BALANCE',\n 'BARBRAS',\n 'BCK 2 NTR BR REM',\n 'BEECHNUT',\n 'BEST MAID COOKIE COMPANY',\n 'BIMBO',\n 'BOBOS',\n 'BSN BR',\n 'BULLETPROOF',\n 'CAMPBELLS BR REM',\n 'CAVEMAN',\n 'CLIF',\n 'COKE BR REM',\n 'CONGRA BR REM',\n 'COUNTRY ARCHER!',\n 'CSCDN FRMS',\n 'CYTO SPORT MUSCLE MILK',\n 'DANNON',\n 'DETOUR',\n 'DNX',\n 'DOLE',\n 'DV KLLR BRD',\n 'EARTHS BST',\n 'EAS',\n 'EMERALD',\n 'ENJY LIFE',\n 'ENSURE',\n 'ENTENMANNS',\n 'EPC',\n 'EVLV BR',\n 'FBC BR',\n 'FIT CRUNCH',\n 'FOOD SHOULD TASTE GOOD',\n 'GATORADE',\n 'GATORBAR',\n 'GD MEASR',\n 'GDNSS KNWS',\n 'GLUCERNA',\n 'GLUTNO',\n \"GM AUTUMN'S GOLD\",\n 'GM BR REM',\n 'GM FBR 1',\n 'GM NV',\n 'GM PRTN 1',\n 'GM RATIO',\n 'GM TRT BARS',\n 'GO MCRO',\n 'GO MCRO BR REM',\n 'GOOD BELLY',\n 'GOOD TO GO',\n 'GRANDMAS',\n 'GRDN OF LF',\n 'HAIN CELESTIAL BR REM',\n 'HAPPY KIDS',\n 'HEALTH VALLEY',\n 'HERSHEY',\n 'HLTH WRRR',\n 'HORMEL BR REM',\n \"JACK LINK'S\",\n 'JIF',\n 'JIMMYBAR',\n 'JM SMUCKER BR REM',\n 'JUNKLESS',\n 'KDK CAKES',\n 'KEL FIB PLUS',\n 'KEL NG',\n 'KEL PT',\n 'KEL RKT',\n 'KEL TRT BARS',\n 'KIND',\n 'KIZE',\n 'KNOVA BEAR NKD',\n 'KNOVA BR REM',\n 'KNOVA KSH',\n 'KNOVA SK',\n 'KRAFT BR REM',\n 'KRATOS',\n 'LARABAR',\n \"LENNY & LARRY'S\",\n 'LOVE GD FATS',\n 'LTL DEB',\n 'LUNA',\n 'MADE GOOD',\n 'MARIANI',\n 'MARINELA',\n 'MARS BR REM',\n 'MCKEE BR REM',\n 'MET-RX',\n 'MUSCLETECH',\n 'NABISCO BR BASE',\n 'NB 100 CAL',\n 'NESTLE HOLDINGS BR REM',\n 'NO COW',\n 'NTRS BKR',\n 'NTRS PTH',\n 'NUGO',\n 'OATMEGA',\n 'ODWALLA',\n 'ON BR',\n 'ONE BR',\n 'ORGANIC PRAIRIE',\n 'OVRNGHT OATS BAR',\n 'PAMELAS',\n 'PEPSICO BR REM',\n 'PLLSBRY',\n 'PLUM',\n 'POWER CRUNCH',\n 'POWERBAR',\n 'PR RGNC',\n 'PRFCT BAR',\n 'PRLY LZBTH',\n 'PRO BAR',\n 'PRVN REM BR',\n 'PRVT LBL',\n 'PST BR REM',\n 'PST PBBLS TRTS',\n 'PURE PROTEIN',\n 'QKR BR REM',\n 'QKR CWY',\n 'QKR KIDS ORGANIC',\n 'QKR SFT BKD',\n 'QKR TRT BARS',\n 'QST',\n 'REM BR',\n 'RXBAR',\n 'S&B BR REM',\n 'SIMPLY PROTEIN',\n 'SIMPLY SNACKIN',\n 'SIX STAR',\n 'SLIM FAST',\n 'SN MD BR',\n 'SNBLT',\n 'SOUTH BEACH',\n 'SOY JOY',\n 'SQUARE ORGANICS',\n 'SUNRYPE',\n 'SWEETWOOD CATTLE CO.',\n 'TANKA BAR',\n 'TAOS MOUNTAIN',\n 'TASTYKAKE',\n \"THAT'S IT\",\n 'THE CLTRD SNCKNG C',\n 'THIS BAR SAVES LIVES',\n 'THMS',\n 'THNK',\n 'THOUSAND HILLS',\n 'THUNDERBIRD',\n 'TIGERS MILK',\n 'TOASTEM',\n 'TREE HS BR REM',\n 'TRPCN BR REM',\n 'VANS',\n 'VEGA',\n 'WELCHS',\n 'WILD ZORA',\n 'ZBD BR',\n 'ZEEZEES',\n 'ZING',\n 'ZONE']"
     },
     "execution_count": 4,
     "metadata": {},
     "output_type": "execute_result"
    }
   ],
   "source": [
    "sorted(edt['Kel Brand'].unique())"
   ],
   "metadata": {
    "collapsed": false,
    "ExecuteTime": {
     "end_time": "2024-03-12T22:05:20.427818300Z",
     "start_time": "2024-03-12T22:05:20.365028200Z"
    }
   },
   "id": "aea523427f81720",
   "execution_count": 4
  },
  {
   "cell_type": "code",
   "outputs": [],
   "source": [
    "kashi = edt[edt['Kel Brand'] == 'KNOVA KSH']\n",
    "bear = edt[edt['Kel Brand'] == 'KNOVA BEAR NKD']\n",
    "sk = edt[edt['Kel Brand'] == 'KNOVA SK']"
   ],
   "metadata": {
    "collapsed": false,
    "ExecuteTime": {
     "end_time": "2024-03-12T22:06:28.130210700Z",
     "start_time": "2024-03-12T22:06:27.850107Z"
    }
   },
   "id": "c3146debcc5ba62a",
   "execution_count": 5
  },
  {
   "cell_type": "code",
   "outputs": [],
   "source": [
    "chewy2 = edt[edt['Kel Brand'] == 'PRVT LBL']\n",
    "kind = edt[edt['Kel Brand'] == 'KIND']\n",
    "nv = edt[edt['Kel Brand'] == 'GM NV']\n",
    "clif = edt[edt['Kel Brand'] == 'CLIF']\n",
    "chewy = edt[edt['Kel Brand'] == 'QKR CWY']"
   ],
   "metadata": {
    "collapsed": false,
    "ExecuteTime": {
     "end_time": "2024-03-12T23:01:57.026346600Z",
     "start_time": "2024-03-12T23:01:56.283051700Z"
    }
   },
   "id": "8780a91c9dd9c5b6",
   "execution_count": 16
  },
  {
   "cell_type": "code",
   "outputs": [
    {
     "data": {
      "text/plain": "     12 Months selected               brand & size  Cntstr  Fisc Pd  \\\n58                 False  KNOVA KSH NOT APPLICABLE     1.0       11   \n59                 False  KNOVA KSH NOT APPLICABLE     1.0       11   \n564                False  KNOVA KSH NOT APPLICABLE     4.0       11   \n604                False  KNOVA KSH NOT APPLICABLE     6.0       11   \n629                False  KNOVA KSH NOT APPLICABLE    10.0       11   \n\n     Fisc Pd_int  Fisc Yr  Kel Brand Kel Category Kel Corporate Kel Count  \\\n58            11     2020  KNOVA KSH          PWS         K CRP     01 CT   \n59            11     2020  KNOVA KSH          PWS         K CRP     01 CT   \n564           11     2022  KNOVA KSH          PWS         K CRP     04 CT   \n604           11     2022  KNOVA KSH          PWS         K CRP     06 CT   \n629           11     2022  KNOVA KSH          PWS         K CRP     10 CT   \n\n     ... UnitsNpx  Yago Dol Yago Dol Ap Yago Dol Np Yago Lbs Yago Lbs Ap  \\\n58   ...      NaN      0.00        0.00        0.00     0.00        0.00   \n59   ...      NaN      0.00        0.00        0.00     0.00        0.00   \n564  ...      NaN      0.00        0.00        0.00     0.00        0.00   \n604  ...      NaN  15418.80     1681.95    13736.85  1677.60      238.47   \n629  ...      NaN    986.57        0.00      986.57    84.44        0.00   \n\n    Yago Lbs Np Yago Units Yago Units Ap Yago Units Np  \n58         0.00        0.0          0.00          0.00  \n59         0.00        0.0          0.00          0.00  \n564        0.00        0.0          0.00          0.00  \n604     1439.13     3728.0        529.93       3198.07  \n629       84.44      193.0          0.00        193.00  \n\n[5 rows x 99 columns]",
      "text/html": "<div>\n<style scoped>\n    .dataframe tbody tr th:only-of-type {\n        vertical-align: middle;\n    }\n\n    .dataframe tbody tr th {\n        vertical-align: top;\n    }\n\n    .dataframe thead th {\n        text-align: right;\n    }\n</style>\n<table border=\"1\" class=\"dataframe\">\n  <thead>\n    <tr style=\"text-align: right;\">\n      <th></th>\n      <th>12 Months selected</th>\n      <th>brand &amp; size</th>\n      <th>Cntstr</th>\n      <th>Fisc Pd</th>\n      <th>Fisc Pd_int</th>\n      <th>Fisc Yr</th>\n      <th>Kel Brand</th>\n      <th>Kel Category</th>\n      <th>Kel Corporate</th>\n      <th>Kel Count</th>\n      <th>...</th>\n      <th>UnitsNpx</th>\n      <th>Yago Dol</th>\n      <th>Yago Dol Ap</th>\n      <th>Yago Dol Np</th>\n      <th>Yago Lbs</th>\n      <th>Yago Lbs Ap</th>\n      <th>Yago Lbs Np</th>\n      <th>Yago Units</th>\n      <th>Yago Units Ap</th>\n      <th>Yago Units Np</th>\n    </tr>\n  </thead>\n  <tbody>\n    <tr>\n      <th>58</th>\n      <td>False</td>\n      <td>KNOVA KSH NOT APPLICABLE</td>\n      <td>1.0</td>\n      <td>11</td>\n      <td>11</td>\n      <td>2020</td>\n      <td>KNOVA KSH</td>\n      <td>PWS</td>\n      <td>K CRP</td>\n      <td>01 CT</td>\n      <td>...</td>\n      <td>NaN</td>\n      <td>0.00</td>\n      <td>0.00</td>\n      <td>0.00</td>\n      <td>0.00</td>\n      <td>0.00</td>\n      <td>0.00</td>\n      <td>0.0</td>\n      <td>0.00</td>\n      <td>0.00</td>\n    </tr>\n    <tr>\n      <th>59</th>\n      <td>False</td>\n      <td>KNOVA KSH NOT APPLICABLE</td>\n      <td>1.0</td>\n      <td>11</td>\n      <td>11</td>\n      <td>2020</td>\n      <td>KNOVA KSH</td>\n      <td>PWS</td>\n      <td>K CRP</td>\n      <td>01 CT</td>\n      <td>...</td>\n      <td>NaN</td>\n      <td>0.00</td>\n      <td>0.00</td>\n      <td>0.00</td>\n      <td>0.00</td>\n      <td>0.00</td>\n      <td>0.00</td>\n      <td>0.0</td>\n      <td>0.00</td>\n      <td>0.00</td>\n    </tr>\n    <tr>\n      <th>564</th>\n      <td>False</td>\n      <td>KNOVA KSH NOT APPLICABLE</td>\n      <td>4.0</td>\n      <td>11</td>\n      <td>11</td>\n      <td>2022</td>\n      <td>KNOVA KSH</td>\n      <td>PWS</td>\n      <td>K CRP</td>\n      <td>04 CT</td>\n      <td>...</td>\n      <td>NaN</td>\n      <td>0.00</td>\n      <td>0.00</td>\n      <td>0.00</td>\n      <td>0.00</td>\n      <td>0.00</td>\n      <td>0.00</td>\n      <td>0.0</td>\n      <td>0.00</td>\n      <td>0.00</td>\n    </tr>\n    <tr>\n      <th>604</th>\n      <td>False</td>\n      <td>KNOVA KSH NOT APPLICABLE</td>\n      <td>6.0</td>\n      <td>11</td>\n      <td>11</td>\n      <td>2022</td>\n      <td>KNOVA KSH</td>\n      <td>PWS</td>\n      <td>K CRP</td>\n      <td>06 CT</td>\n      <td>...</td>\n      <td>NaN</td>\n      <td>15418.80</td>\n      <td>1681.95</td>\n      <td>13736.85</td>\n      <td>1677.60</td>\n      <td>238.47</td>\n      <td>1439.13</td>\n      <td>3728.0</td>\n      <td>529.93</td>\n      <td>3198.07</td>\n    </tr>\n    <tr>\n      <th>629</th>\n      <td>False</td>\n      <td>KNOVA KSH NOT APPLICABLE</td>\n      <td>10.0</td>\n      <td>11</td>\n      <td>11</td>\n      <td>2022</td>\n      <td>KNOVA KSH</td>\n      <td>PWS</td>\n      <td>K CRP</td>\n      <td>10 CT</td>\n      <td>...</td>\n      <td>NaN</td>\n      <td>986.57</td>\n      <td>0.00</td>\n      <td>986.57</td>\n      <td>84.44</td>\n      <td>0.00</td>\n      <td>84.44</td>\n      <td>193.0</td>\n      <td>0.00</td>\n      <td>193.00</td>\n    </tr>\n  </tbody>\n</table>\n<p>5 rows × 99 columns</p>\n</div>"
     },
     "execution_count": 6,
     "metadata": {},
     "output_type": "execute_result"
    }
   ],
   "source": [
    "kashi.head()"
   ],
   "metadata": {
    "collapsed": false,
    "ExecuteTime": {
     "end_time": "2024-03-12T22:06:31.384010800Z",
     "start_time": "2024-03-12T22:06:31.337577400Z"
    }
   },
   "id": "81f6f09dac382f9c",
   "execution_count": 6
  },
  {
   "cell_type": "code",
   "outputs": [
    {
     "data": {
      "text/plain": "     12 Months selected                    brand & size  Cntstr  Fisc Pd  \\\n27                 False  KNOVA BEAR NKD NOT APPLICABLE     1.0       11   \n28                 False  KNOVA BEAR NKD NOT APPLICABLE     1.0       11   \n263                False  KNOVA BEAR NKD NOT APPLICABLE     1.0       12   \n264                False  KNOVA BEAR NKD NOT APPLICABLE     1.0       12   \n385                False  KNOVA BEAR NKD NOT APPLICABLE     1.0       11   \n\n     Fisc Pd_int  Fisc Yr       Kel Brand Kel Category Kel Corporate  \\\n27            11     2020  KNOVA BEAR NKD          PWS         K CRP   \n28            11     2020  KNOVA BEAR NKD          PWS         K CRP   \n263           12     2020  KNOVA BEAR NKD          PWS         K CRP   \n264           12     2020  KNOVA BEAR NKD          PWS         K CRP   \n385           11     2020  KNOVA BEAR NKD          PWS         K CRP   \n\n    Kel Count  ... UnitsNpx Yago Dol Yago Dol Ap Yago Dol Np Yago Lbs  \\\n27      01 CT  ...      NaN      0.0         0.0         0.0      0.0   \n28      01 CT  ...      NaN      0.0         0.0         0.0      0.0   \n263     01 CT  ...      NaN      0.0         0.0         0.0      0.0   \n264     01 CT  ...      NaN      0.0         0.0         0.0      0.0   \n385     01 CT  ...      NaN      0.0         0.0         0.0      0.0   \n\n    Yago Lbs Ap Yago Lbs Np Yago Units Yago Units Ap Yago Units Np  \n27          0.0         0.0        0.0           0.0           0.0  \n28          0.0         0.0        0.0           0.0           0.0  \n263         0.0         0.0        0.0           0.0           0.0  \n264         0.0         0.0        0.0           0.0           0.0  \n385         0.0         0.0        0.0           0.0           0.0  \n\n[5 rows x 99 columns]",
      "text/html": "<div>\n<style scoped>\n    .dataframe tbody tr th:only-of-type {\n        vertical-align: middle;\n    }\n\n    .dataframe tbody tr th {\n        vertical-align: top;\n    }\n\n    .dataframe thead th {\n        text-align: right;\n    }\n</style>\n<table border=\"1\" class=\"dataframe\">\n  <thead>\n    <tr style=\"text-align: right;\">\n      <th></th>\n      <th>12 Months selected</th>\n      <th>brand &amp; size</th>\n      <th>Cntstr</th>\n      <th>Fisc Pd</th>\n      <th>Fisc Pd_int</th>\n      <th>Fisc Yr</th>\n      <th>Kel Brand</th>\n      <th>Kel Category</th>\n      <th>Kel Corporate</th>\n      <th>Kel Count</th>\n      <th>...</th>\n      <th>UnitsNpx</th>\n      <th>Yago Dol</th>\n      <th>Yago Dol Ap</th>\n      <th>Yago Dol Np</th>\n      <th>Yago Lbs</th>\n      <th>Yago Lbs Ap</th>\n      <th>Yago Lbs Np</th>\n      <th>Yago Units</th>\n      <th>Yago Units Ap</th>\n      <th>Yago Units Np</th>\n    </tr>\n  </thead>\n  <tbody>\n    <tr>\n      <th>27</th>\n      <td>False</td>\n      <td>KNOVA BEAR NKD NOT APPLICABLE</td>\n      <td>1.0</td>\n      <td>11</td>\n      <td>11</td>\n      <td>2020</td>\n      <td>KNOVA BEAR NKD</td>\n      <td>PWS</td>\n      <td>K CRP</td>\n      <td>01 CT</td>\n      <td>...</td>\n      <td>NaN</td>\n      <td>0.0</td>\n      <td>0.0</td>\n      <td>0.0</td>\n      <td>0.0</td>\n      <td>0.0</td>\n      <td>0.0</td>\n      <td>0.0</td>\n      <td>0.0</td>\n      <td>0.0</td>\n    </tr>\n    <tr>\n      <th>28</th>\n      <td>False</td>\n      <td>KNOVA BEAR NKD NOT APPLICABLE</td>\n      <td>1.0</td>\n      <td>11</td>\n      <td>11</td>\n      <td>2020</td>\n      <td>KNOVA BEAR NKD</td>\n      <td>PWS</td>\n      <td>K CRP</td>\n      <td>01 CT</td>\n      <td>...</td>\n      <td>NaN</td>\n      <td>0.0</td>\n      <td>0.0</td>\n      <td>0.0</td>\n      <td>0.0</td>\n      <td>0.0</td>\n      <td>0.0</td>\n      <td>0.0</td>\n      <td>0.0</td>\n      <td>0.0</td>\n    </tr>\n    <tr>\n      <th>263</th>\n      <td>False</td>\n      <td>KNOVA BEAR NKD NOT APPLICABLE</td>\n      <td>1.0</td>\n      <td>12</td>\n      <td>12</td>\n      <td>2020</td>\n      <td>KNOVA BEAR NKD</td>\n      <td>PWS</td>\n      <td>K CRP</td>\n      <td>01 CT</td>\n      <td>...</td>\n      <td>NaN</td>\n      <td>0.0</td>\n      <td>0.0</td>\n      <td>0.0</td>\n      <td>0.0</td>\n      <td>0.0</td>\n      <td>0.0</td>\n      <td>0.0</td>\n      <td>0.0</td>\n      <td>0.0</td>\n    </tr>\n    <tr>\n      <th>264</th>\n      <td>False</td>\n      <td>KNOVA BEAR NKD NOT APPLICABLE</td>\n      <td>1.0</td>\n      <td>12</td>\n      <td>12</td>\n      <td>2020</td>\n      <td>KNOVA BEAR NKD</td>\n      <td>PWS</td>\n      <td>K CRP</td>\n      <td>01 CT</td>\n      <td>...</td>\n      <td>NaN</td>\n      <td>0.0</td>\n      <td>0.0</td>\n      <td>0.0</td>\n      <td>0.0</td>\n      <td>0.0</td>\n      <td>0.0</td>\n      <td>0.0</td>\n      <td>0.0</td>\n      <td>0.0</td>\n    </tr>\n    <tr>\n      <th>385</th>\n      <td>False</td>\n      <td>KNOVA BEAR NKD NOT APPLICABLE</td>\n      <td>1.0</td>\n      <td>11</td>\n      <td>11</td>\n      <td>2020</td>\n      <td>KNOVA BEAR NKD</td>\n      <td>PWS</td>\n      <td>K CRP</td>\n      <td>01 CT</td>\n      <td>...</td>\n      <td>NaN</td>\n      <td>0.0</td>\n      <td>0.0</td>\n      <td>0.0</td>\n      <td>0.0</td>\n      <td>0.0</td>\n      <td>0.0</td>\n      <td>0.0</td>\n      <td>0.0</td>\n      <td>0.0</td>\n    </tr>\n  </tbody>\n</table>\n<p>5 rows × 99 columns</p>\n</div>"
     },
     "execution_count": 7,
     "metadata": {},
     "output_type": "execute_result"
    }
   ],
   "source": [
    "bear.head()"
   ],
   "metadata": {
    "collapsed": false,
    "ExecuteTime": {
     "end_time": "2024-03-12T22:06:33.988344500Z",
     "start_time": "2024-03-12T22:06:33.975658400Z"
    }
   },
   "id": "380844bb2a2dde40",
   "execution_count": 7
  },
  {
   "cell_type": "code",
   "outputs": [
    {
     "data": {
      "text/plain": "     12 Months selected              brand & size  Cntstr  Fisc Pd  \\\n24                 False  KNOVA SK NOT APPLICABLE     1.0       11   \n25                 False  KNOVA SK NOT APPLICABLE     1.0       11   \n26                 False  KNOVA SK NOT APPLICABLE     1.0       11   \n143                False  KNOVA SK NOT APPLICABLE     1.0       11   \n178                False  KNOVA SK NOT APPLICABLE     6.0       11   \n\n     Fisc Pd_int  Fisc Yr Kel Brand Kel Category Kel Corporate Kel Count  ...  \\\n24            11     2020  KNOVA SK          PWS         K CRP     01 CT  ...   \n25            11     2020  KNOVA SK          PWS         K CRP     01 CT  ...   \n26            11     2020  KNOVA SK          PWS         K CRP     01 CT  ...   \n143           11     2020  KNOVA SK          PWS         K CRP     01 CT  ...   \n178           11     2020  KNOVA SK          PWS         K CRP     06 CT  ...   \n\n    UnitsNpx Yago Dol Yago Dol Ap Yago Dol Np Yago Lbs Yago Lbs Ap  \\\n24       NaN      0.0         0.0         0.0      0.0         0.0   \n25       NaN      0.0         0.0         0.0      0.0         0.0   \n26       NaN      0.0         0.0         0.0      0.0         0.0   \n143      NaN      0.0         0.0         0.0      0.0         0.0   \n178      NaN      0.0         0.0         0.0      0.0         0.0   \n\n    Yago Lbs Np Yago Units Yago Units Ap Yago Units Np  \n24          0.0        0.0           0.0           0.0  \n25          0.0        0.0           0.0           0.0  \n26          0.0        0.0           0.0           0.0  \n143         0.0        0.0           0.0           0.0  \n178         0.0        0.0           0.0           0.0  \n\n[5 rows x 99 columns]",
      "text/html": "<div>\n<style scoped>\n    .dataframe tbody tr th:only-of-type {\n        vertical-align: middle;\n    }\n\n    .dataframe tbody tr th {\n        vertical-align: top;\n    }\n\n    .dataframe thead th {\n        text-align: right;\n    }\n</style>\n<table border=\"1\" class=\"dataframe\">\n  <thead>\n    <tr style=\"text-align: right;\">\n      <th></th>\n      <th>12 Months selected</th>\n      <th>brand &amp; size</th>\n      <th>Cntstr</th>\n      <th>Fisc Pd</th>\n      <th>Fisc Pd_int</th>\n      <th>Fisc Yr</th>\n      <th>Kel Brand</th>\n      <th>Kel Category</th>\n      <th>Kel Corporate</th>\n      <th>Kel Count</th>\n      <th>...</th>\n      <th>UnitsNpx</th>\n      <th>Yago Dol</th>\n      <th>Yago Dol Ap</th>\n      <th>Yago Dol Np</th>\n      <th>Yago Lbs</th>\n      <th>Yago Lbs Ap</th>\n      <th>Yago Lbs Np</th>\n      <th>Yago Units</th>\n      <th>Yago Units Ap</th>\n      <th>Yago Units Np</th>\n    </tr>\n  </thead>\n  <tbody>\n    <tr>\n      <th>24</th>\n      <td>False</td>\n      <td>KNOVA SK NOT APPLICABLE</td>\n      <td>1.0</td>\n      <td>11</td>\n      <td>11</td>\n      <td>2020</td>\n      <td>KNOVA SK</td>\n      <td>PWS</td>\n      <td>K CRP</td>\n      <td>01 CT</td>\n      <td>...</td>\n      <td>NaN</td>\n      <td>0.0</td>\n      <td>0.0</td>\n      <td>0.0</td>\n      <td>0.0</td>\n      <td>0.0</td>\n      <td>0.0</td>\n      <td>0.0</td>\n      <td>0.0</td>\n      <td>0.0</td>\n    </tr>\n    <tr>\n      <th>25</th>\n      <td>False</td>\n      <td>KNOVA SK NOT APPLICABLE</td>\n      <td>1.0</td>\n      <td>11</td>\n      <td>11</td>\n      <td>2020</td>\n      <td>KNOVA SK</td>\n      <td>PWS</td>\n      <td>K CRP</td>\n      <td>01 CT</td>\n      <td>...</td>\n      <td>NaN</td>\n      <td>0.0</td>\n      <td>0.0</td>\n      <td>0.0</td>\n      <td>0.0</td>\n      <td>0.0</td>\n      <td>0.0</td>\n      <td>0.0</td>\n      <td>0.0</td>\n      <td>0.0</td>\n    </tr>\n    <tr>\n      <th>26</th>\n      <td>False</td>\n      <td>KNOVA SK NOT APPLICABLE</td>\n      <td>1.0</td>\n      <td>11</td>\n      <td>11</td>\n      <td>2020</td>\n      <td>KNOVA SK</td>\n      <td>PWS</td>\n      <td>K CRP</td>\n      <td>01 CT</td>\n      <td>...</td>\n      <td>NaN</td>\n      <td>0.0</td>\n      <td>0.0</td>\n      <td>0.0</td>\n      <td>0.0</td>\n      <td>0.0</td>\n      <td>0.0</td>\n      <td>0.0</td>\n      <td>0.0</td>\n      <td>0.0</td>\n    </tr>\n    <tr>\n      <th>143</th>\n      <td>False</td>\n      <td>KNOVA SK NOT APPLICABLE</td>\n      <td>1.0</td>\n      <td>11</td>\n      <td>11</td>\n      <td>2020</td>\n      <td>KNOVA SK</td>\n      <td>PWS</td>\n      <td>K CRP</td>\n      <td>01 CT</td>\n      <td>...</td>\n      <td>NaN</td>\n      <td>0.0</td>\n      <td>0.0</td>\n      <td>0.0</td>\n      <td>0.0</td>\n      <td>0.0</td>\n      <td>0.0</td>\n      <td>0.0</td>\n      <td>0.0</td>\n      <td>0.0</td>\n    </tr>\n    <tr>\n      <th>178</th>\n      <td>False</td>\n      <td>KNOVA SK NOT APPLICABLE</td>\n      <td>6.0</td>\n      <td>11</td>\n      <td>11</td>\n      <td>2020</td>\n      <td>KNOVA SK</td>\n      <td>PWS</td>\n      <td>K CRP</td>\n      <td>06 CT</td>\n      <td>...</td>\n      <td>NaN</td>\n      <td>0.0</td>\n      <td>0.0</td>\n      <td>0.0</td>\n      <td>0.0</td>\n      <td>0.0</td>\n      <td>0.0</td>\n      <td>0.0</td>\n      <td>0.0</td>\n      <td>0.0</td>\n    </tr>\n  </tbody>\n</table>\n<p>5 rows × 99 columns</p>\n</div>"
     },
     "execution_count": 8,
     "metadata": {},
     "output_type": "execute_result"
    }
   ],
   "source": [
    "sk.head()"
   ],
   "metadata": {
    "collapsed": false,
    "ExecuteTime": {
     "end_time": "2024-03-12T22:06:36.464381500Z",
     "start_time": "2024-03-12T22:06:36.437526200Z"
    }
   },
   "id": "e3eb69258390beef",
   "execution_count": 8
  },
  {
   "cell_type": "code",
   "outputs": [
    {
     "data": {
      "text/plain": "Kel Ppg\nKASHI CHEWY BARS 6CT        2285\nKASHI CEREAL BARS 6CT       1802\nKASHI CHEWY BARS 5CT        1428\nKASHI CRUNCHY BARS 6CT      1078\nKASHI BITES 5CT              870\nKASHI LAYERED BARS 6CT       824\nKASHI GO BARS 4CT            506\nKASHI CHEWY BARS SS          285\nALL OTHER                    236\nKASHI GO BARS SS             214\nKASHI CEREAL BARS 12CT        44\nKASHI CHEWY BARS CLUB PK      34\nKASHI KIDS BITES              27\nKASHI CRUNCHY BARS 5CT        15\nNOT APPLICABLE                 2\nName: count, dtype: int64"
     },
     "execution_count": 9,
     "metadata": {},
     "output_type": "execute_result"
    }
   ],
   "source": [
    "kashi['Kel Ppg'].value_counts()"
   ],
   "metadata": {
    "collapsed": false,
    "ExecuteTime": {
     "end_time": "2024-03-12T22:06:57.744535700Z",
     "start_time": "2024-03-12T22:06:57.709975400Z"
    }
   },
   "id": "99a28ae53e4e2426",
   "execution_count": 9
  },
  {
   "cell_type": "code",
   "outputs": [
    {
     "data": {
      "text/plain": "Kel Ppg\nBEAR NAKED NUT BUTTER BAR 1CT    279\nALL OTHER                         32\nBEAR NAKED NUT BUTTER BAR 8CT     27\nNOT APPLICABLE                    10\nName: count, dtype: int64"
     },
     "execution_count": 10,
     "metadata": {},
     "output_type": "execute_result"
    }
   ],
   "source": [
    "bear['Kel Ppg'].value_counts()"
   ],
   "metadata": {
    "collapsed": false,
    "ExecuteTime": {
     "end_time": "2024-03-12T22:07:05.534514600Z",
     "start_time": "2024-03-12T22:07:05.504932600Z"
    }
   },
   "id": "cb5b01a99e28eb4c",
   "execution_count": 10
  },
  {
   "cell_type": "code",
   "outputs": [
    {
     "data": {
      "text/plain": "Kel Ppg\nSK PASTRY CRISPS 12CT             2688\nSPECIAL K PROTEIN BARS 6CT        2294\nSPECIAL K BARS PREMIUM 6CT        2162\nSPECIAL K CEREAL BARS 6CT         2001\nSPECIAL K PROTEIN BARS SS         1881\nSPECIAL K KETO BARS 5CT           1263\nSPECIAL K BARS PREMIUM 5CT         878\nSK PASTRY CRISPS SS                578\nSPECIAL K CEREAL BARS SS           480\nSPECIAL K PROTEIN BARS 12CT        468\nSK PASTRY CRISPS 36CT              449\nALL OTHER                          277\nSPECIAL K PROTEIN BARS 8CT         275\nSPECIAL K CEREAL BARS 12CT         245\nSK PASTRY CRISPS 18CT              182\nSPECIAL K BARS PREMIUM 1CT         171\nSK PASTRY CRISPS 5CT               159\nSK PASTRY CRISPS 60CT              152\nSPECIAL K BAG                       86\nSK PASTRY CRISPS CLUB PK            67\nSPECIAL K KETO BARS CLUB PK         28\nSK PASTRY CRISPS 24CT               28\nSK PASTRY CRISPS 20CT               12\nNOT APPLICABLE                       8\nSK PASTRY CRISPS 30CT                8\nSPECIAL K PROTEIN BARS CLUB PK       6\nName: count, dtype: int64"
     },
     "execution_count": 11,
     "metadata": {},
     "output_type": "execute_result"
    }
   ],
   "source": [
    "sk['Kel Ppg'].value_counts()"
   ],
   "metadata": {
    "collapsed": false,
    "ExecuteTime": {
     "end_time": "2024-03-12T22:07:10.412086300Z",
     "start_time": "2024-03-12T22:07:10.379922100Z"
    }
   },
   "id": "b5ebfe139438b704",
   "execution_count": 11
  },
  {
   "cell_type": "code",
   "outputs": [
    {
     "data": {
      "text/plain": "Kel Ppg\nALL OTHER                        8087\nPL CRUNCHY GRANOLA BAR 6CT       2489\nPL CEREAL BAR SFT BKS 8CT        2239\nPL CHEWY GRANOLA BAR 8CT         2118\nPL TOASTER PASTRY 12CT           2040\nPL SWEET AND SALTY NUT 6CT       2015\nPL CHEWY PROTEIN 5CT             1926\nPL CEREAL BAR SFT BKS 6CT        1766\nPL CHEWY TRAIL MIX 6CT           1545\nPL CHEWY GRANOLA BAR 18CT        1452\nPL CHEWY GRANOLA BAR 10CT        1351\nPL TOASTER PASTRY 6CT            1217\nPL TOASTER PASTRY 8CT             852\nPL CRUNCHY GRANOLA BAR 12CT       783\nPL TREAT MRSH BAR 8CT             590\nPL CHEWY GRANOLA BAR 5CT          507\nPL WS FIBER BAR 5-6CT             413\nPL CEREAL BAR SFT BKS 16CT        357\nPL TREAT MRSH BAR 1CT             356\nPL CHEWY PROTEIN 10CT             323\nPL SNACK BAR 5CT                  227\nPL SWEET AND SALTY NUT 12CT       213\nPL TREAT MRSH BAR 12CT            191\nPL SNACK BAR 1CT                  188\nPL CHEWY GRANOLA BAR 12CT         180\nPL SWEET AND SALTY NUT 18CT       122\nPL CHEWY GRANOLA BAR 24CT         109\nPL SNACK BAR 8CT                  108\nPL TOASTER PASTRY 16CT             95\nPL CEREAL BAR SFT BKS 1CT          89\nPL CHEWY GRANOLA BAR 48CT          89\nPL SNACK BAR 10CT                  80\nPL SNACK BAR 18CT                  80\nPL PROTEIN BAR 4CT                 78\nPL CEREAL BAR SFT BKS 32CT         76\nPL CHEWY GRANOLA BAR 60CT          76\nPL CEREAL BAR SFT BKS 24CT         76\nPL CEREAL BAR SFT BKS 48CT         72\nPL CHEWY GRANOLA BAR 20CT          72\nPL WS FIBER BAR 18CT               72\nPL TOASTER PASTRY 36CT             72\nPL CHEWY PROTEIN 30CT              72\nPL WG BARS 12CT                    68\nPL CEREAL BAR SFT BKS 6CT-8CT      55\nPL TOASTER PASTRY 6CT-8CT          51\nPL TREAT MRSH BAR 16CT             36\nPL WG BARS 20CT                    36\nPL SWEET AND SALTY NUT 24CT        36\nPL CHEWY PROTEIN 15CT              32\nNOT APPLICABLE                     24\nPL WG BAR 6CT                      16\nPL WG BARS 18CT                    10\nName: count, dtype: int64"
     },
     "execution_count": 22,
     "metadata": {},
     "output_type": "execute_result"
    }
   ],
   "source": [
    "chewy2['Kel Ppg'].value_counts()"
   ],
   "metadata": {
    "collapsed": false,
    "ExecuteTime": {
     "end_time": "2024-03-13T01:49:28.564167300Z",
     "start_time": "2024-03-13T01:49:28.529246100Z"
    }
   },
   "id": "ecf234f2f869a25e",
   "execution_count": 22
  },
  {
   "cell_type": "code",
   "outputs": [],
   "source": [],
   "metadata": {
    "collapsed": false
   },
   "id": "759597d9299f7c40"
  }
 ],
 "metadata": {
  "kernelspec": {
   "display_name": "Python 3",
   "language": "python",
   "name": "python3"
  },
  "language_info": {
   "codemirror_mode": {
    "name": "ipython",
    "version": 2
   },
   "file_extension": ".py",
   "mimetype": "text/x-python",
   "name": "python",
   "nbconvert_exporter": "python",
   "pygments_lexer": "ipython2",
   "version": "2.7.6"
  }
 },
 "nbformat": 4,
 "nbformat_minor": 5
}
