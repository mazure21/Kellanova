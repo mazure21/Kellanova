{
 "cells": [
  {
   "cell_type": "markdown",
   "source": [
    "Run the cell down below to convert the PLN data frame into a .csv file that is aggregated on a weekly basis, for each products financial data."
   ],
   "metadata": {
    "collapsed": false
   },
   "id": "554da679060a8832"
  },
  {
   "cell_type": "code",
   "execution_count": 24,
   "id": "initial_id",
   "metadata": {
    "collapsed": true,
    "ExecuteTime": {
     "end_time": "2024-03-13T02:33:54.584019300Z",
     "start_time": "2024-03-13T02:33:36.352943400Z"
    }
   },
   "outputs": [],
   "source": [
    "import pandas as pd\n",
    "\n",
    "pln = pd.read_csv('PLN_TO_ITM_WK (KNA_COMRCL)_PLN_TO_ITM_WK.csv')\n",
    "\n",
    "pln['Mixd Plt Matrl Desc'] = pln['Mixd Plt Matrl Desc'].str.replace('FRSTD STRWBRY','FRSTD STRWBRRY')\n",
    "pln['Mixd Plt Matrl Desc'] = pln['Mixd Plt Matrl Desc'].str.replace('FRSTDSTRWBRRY','FRSTD STRWBRRY')\n",
    "pln['Mixd Plt Matrl Desc'] = pln['Mixd Plt Matrl Desc'].str.replace('FRSTD CHCFDG','FRSTD CH FDG')\n",
    "pln['Mixd Plt Matrl Desc'] = pln['Mixd Plt Matrl Desc'].str.replace('FRSTD BNSGRCIN','FRSTD BRN SGR CIN')\n",
    "pln['Mixd Plt Matrl Desc'] = pln['Mixd Plt Matrl Desc'].str.replace('FRSTD BRNSGRCIN','FRSTD BRN SGR CIN')\n",
    "\n",
    "pln_monthly = pln.iloc[:, [3, 7, 16, 28, 29, 31,32,33,34,35,36,37,52,53,54,55,56,57,58,59,60,61,62,63,64,65,66,67,68,69,70,71,72,73,74,75,76,77,78,79,80,81]]\n",
    "\n",
    "# Define the columns you want to group by\n",
    "group_columns = ['Cal Wk','Fisc Yr','Mixd Plt Matrl Desc','WK','Yr & Wk',]\n",
    "\n",
    "# Define the range of columns you want to sum\n",
    "sum_columns = pln_monthly.columns[5:42]\n",
    "\n",
    "# Apply groupby() and sum() functions\n",
    "pln_monthly = pln_monthly.groupby(group_columns)[sum_columns].sum().reset_index()\n",
    "\n",
    "pln_monthly.to_csv('weekly_agg.csv', index = False)"
   ]
  },
  {
   "cell_type": "code",
   "outputs": [],
   "source": [],
   "metadata": {
    "collapsed": false
   },
   "id": "63f35317afb0c968"
  }
 ],
 "metadata": {
  "kernelspec": {
   "display_name": "Python 3",
   "language": "python",
   "name": "python3"
  },
  "language_info": {
   "codemirror_mode": {
    "name": "ipython",
    "version": 2
   },
   "file_extension": ".py",
   "mimetype": "text/x-python",
   "name": "python",
   "nbconvert_exporter": "python",
   "pygments_lexer": "ipython2",
   "version": "2.7.6"
  }
 },
 "nbformat": 4,
 "nbformat_minor": 5
}
